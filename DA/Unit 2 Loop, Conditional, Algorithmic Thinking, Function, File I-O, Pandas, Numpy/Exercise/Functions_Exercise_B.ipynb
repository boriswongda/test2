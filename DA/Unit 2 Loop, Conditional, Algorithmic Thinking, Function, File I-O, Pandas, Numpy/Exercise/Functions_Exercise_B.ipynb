{
 "cells": [
  {
   "cell_type": "markdown",
   "metadata": {
    "colab_type": "text",
    "id": "rt-B1aqy6txF"
   },
   "source": [
    "# Functions Exercise 5B"
   ]
  },
  {
   "cell_type": "markdown",
   "metadata": {
    "colab_type": "text",
    "id": "296tXaMZ6txH"
   },
   "source": [
    "1. Write a function to check whether a number is perfect.\n",
    "\n",
    "In number theory, a perfect number is a positive integer that is equal to the sum of its proper positive divisors, that is, the sum of its positive divisors excluding the number itself (also known as its aliquot sum). Equivalently, a perfect number is a number that is half the sum of all of its positive divisors (including itself).\n",
    "Example : The first perfect number is 6, because 1, 2, and 3 are its proper positive divisors, and 1 + 2 + 3 = 6. Equivalently, the number 6 is equal to half the sum of all its positive divisors: ( 1 + 2 + 3 + 6 ) / 2 = 6. The next perfect number is 28 = 1 + 2 + 4 + 7 + 14. This is followed by the perfect numbers 496 and 8128."
   ]
  },
  {
   "cell_type": "code",
   "execution_count": null,
   "metadata": {
    "colab": {},
    "colab_type": "code",
    "id": "y35OAvAq6txI"
   },
   "outputs": [],
   "source": []
  },
  {
   "cell_type": "markdown",
   "metadata": {
    "colab_type": "text",
    "id": "Mg0e2D1j6txP"
   },
   "source": [
    "2. Write a function that that prints out the first n rows of Pascal's triangle.\n",
    "\n",
    "```\n",
    "     1\n",
    "    1 1\n",
    "   1 2 1\n",
    "  1 3 3 1\n",
    " 1 4 6 4 1\n",
    "\n",
    "so on and so forth\n",
    "```"
   ]
  },
  {
   "cell_type": "code",
   "execution_count": null,
   "metadata": {
    "colab": {},
    "colab_type": "code",
    "id": "OB8FoNK66txQ"
   },
   "outputs": [],
   "source": []
  },
  {
   "cell_type": "markdown",
   "metadata": {
    "colab_type": "text",
    "id": "YgDy32If6txU"
   },
   "source": [
    "3. Write a function to check whether a string is a pangram.\n",
    "\n",
    "Note : Pangrams are words or sentences containing every letter of the alphabet at least once.\n",
    "For example : \"The quick brown fox jumps over the lazy dog\""
   ]
  },
  {
   "cell_type": "code",
   "execution_count": null,
   "metadata": {
    "colab": {},
    "colab_type": "code",
    "id": "v4jwQ3ML6txV"
   },
   "outputs": [],
   "source": []
  },
  {
   "cell_type": "markdown",
   "metadata": {
    "colab_type": "text",
    "id": "AZrVQFcV6txZ"
   },
   "source": [
    "4. Write a program that accepts a hyphen-separated sequence of words as input and prints the words in a hyphen-separated sequence after sorting them alphabetically.\n",
    "\n",
    "Sample Items : green-red-yellow-black-white\n",
    "Expected Result : black-green-red-white-yellow"
   ]
  },
  {
   "cell_type": "code",
   "execution_count": null,
   "metadata": {
    "colab": {},
    "colab_type": "code",
    "id": "pWrYsKn36txZ"
   },
   "outputs": [],
   "source": []
  },
  {
   "cell_type": "markdown",
   "metadata": {
    "colab_type": "text",
    "id": "mHYEd2eh6txd"
   },
   "source": [
    "5. Write a function to create and print a list where the values are square of numbers between 1 and 30 (both included)."
   ]
  },
  {
   "cell_type": "code",
   "execution_count": null,
   "metadata": {
    "colab": {},
    "colab_type": "code",
    "id": "iRNKYBl86txd"
   },
   "outputs": [],
   "source": []
  },
  {
   "cell_type": "markdown",
   "metadata": {
    "colab_type": "text",
    "id": "Yvm-j31h6txf"
   },
   "source": [
    "6. Write a program to access a function inside a function."
   ]
  },
  {
   "cell_type": "code",
   "execution_count": null,
   "metadata": {
    "colab": {},
    "colab_type": "code",
    "id": "8BovQyMI6txg"
   },
   "outputs": [],
   "source": []
  },
  {
   "cell_type": "markdown",
   "metadata": {
    "colab_type": "text",
    "id": "HVB3iNQq6txh"
   },
   "source": [
    "7. Find the index of a string within a hex encoded string.\n",
    "\n",
    "You will be given a string which needs to be found in another string which has previously been translated into hex. You will need to return the first index of the needle within the hex encoded string.\n",
    "\n",
    "Examples\n",
    "\n",
    "first_index(\"68 65 6c 6c 6f 20 77 6f 72 6c 64\", \"world\") ➞ 6\n",
    "\n",
    "first_index(\"47 6f 6f 64 62 79 65 20 77 6f 72 6c 64\", \"world\") ➞ 8\n",
    "\n",
    "first_index(\"42 6f 72 65 64 20 77 6f 72 6c 64\", \"Bored\") ➞ 0"
   ]
  },
  {
   "cell_type": "code",
   "execution_count": null,
   "metadata": {
    "colab": {},
    "colab_type": "code",
    "id": "fcOcdhoK6txi"
   },
   "outputs": [],
   "source": []
  },
  {
   "cell_type": "markdown",
   "metadata": {
    "colab_type": "text",
    "id": "qikA5mkn6txj"
   },
   "source": [
    "8. Write a program to check whether a given number is Oddish or Evenish.\n",
    "\n",
    "A number is called \"Oddish\" if the sum of all of its digits is odd, and a number is called \"Evenish\" if the sum of all of its digits is even.\n",
    "```\n",
    "e.g.\n",
    "input: 121\n",
    "output: Evenish\n",
    "\n",
    "input:737\n",
    "output: Oddish\n",
    "```\n",
    "\n"
   ]
  },
  {
   "cell_type": "code",
   "execution_count": null,
   "metadata": {
    "colab": {},
    "colab_type": "code",
    "id": "WqD6B8bR6txk"
   },
   "outputs": [],
   "source": []
  },
  {
   "cell_type": "markdown",
   "metadata": {
    "colab_type": "text",
    "id": "DBO22YTv6txm"
   },
   "source": [
    "9. Write a program to check whether a given string is an \"isogram\".\n",
    "\n",
    "An isogram (also known as a \"nonpattern word\") is a logological term for a word or phrase without a repeating letter. It is also used by some people to mean a word or phrase in which each letter appears the same number of times, not necessarily just once. Conveniently, the word itself is an isogram in both senses of the word, making it autological.\n",
    "```\n",
    "e.g.\n",
    "input:w3resource\n",
    "output:False\n",
    "\n",
    "input:w3r\n",
    "output:True\n",
    "\n",
    "input: Python\n",
    "ouput: True\n",
    "\n",
    "input: Java\n",
    "ouput: False\n",
    "\n",
    "```\n",
    "\n"
   ]
  },
  {
   "cell_type": "code",
   "execution_count": null,
   "metadata": {
    "colab": {},
    "colab_type": "code",
    "id": "VAiNJuha6txm"
   },
   "outputs": [],
   "source": []
  },
  {
   "cell_type": "markdown",
   "metadata": {
    "colab_type": "text",
    "id": "Sq4LIQka6txo"
   },
   "source": [
    "10. Write a program to find the middle character(s) of a given string. If the length of the string is odd return the middle character and return the middle two characters if the string length is even.\n",
    "```\n",
    "e.g.\n",
    "input: Python\n",
    "output: th\n",
    "input: PHP\n",
    "output: H\n",
    "```\n",
    "\n"
   ]
  },
  {
   "cell_type": "code",
   "execution_count": null,
   "metadata": {
    "colab": {},
    "colab_type": "code",
    "id": "3lnRh3v06txo"
   },
   "outputs": [],
   "source": []
  }
 ],
 "metadata": {
  "colab": {
   "collapsed_sections": [],
   "name": "Functions-Exercise-5B_jyoti.ipynb",
   "provenance": []
  },
  "kernelspec": {
   "display_name": "Python 3",
   "language": "python",
   "name": "python3"
  },
  "language_info": {
   "codemirror_mode": {
    "name": "ipython",
    "version": 3
   },
   "file_extension": ".py",
   "mimetype": "text/x-python",
   "name": "python",
   "nbconvert_exporter": "python",
   "pygments_lexer": "ipython3",
   "version": "3.7.3"
  }
 },
 "nbformat": 4,
 "nbformat_minor": 1
}
