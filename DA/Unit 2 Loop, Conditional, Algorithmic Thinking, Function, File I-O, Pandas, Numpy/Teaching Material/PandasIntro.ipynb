{
 "cells": [
  {
   "cell_type": "markdown",
   "metadata": {
    "id": "XcMBgyYAxYFn"
   },
   "source": [
    "# 1.1 Pandas\n",
    "\n",
    "Pandas is a library for working with tabular data in Python. You can think of it like Excel for Python. It integrates smoothly with the rest of the ecosystem like plotting, databases and numpy. In this notebook we'll do a quick overview using a wine example."
   ]
  },
  {
   "cell_type": "code",
   "execution_count": 1,
   "metadata": {
    "executionInfo": {
     "elapsed": 2362,
     "status": "ok",
     "timestamp": 1610935055340,
     "user": {
      "displayName": "Jyoti Gupta",
      "photoUrl": "https://lh3.googleusercontent.com/a-/AOh14Gha7ARiuH9KYsBrRe_sEPEhpI5cXr55TdQBv6x_MA=s64",
      "userId": "16785426337890807929"
     },
     "user_tz": -480
    },
    "id": "4a1ZP7I5xYFr"
   },
   "outputs": [],
   "source": [
    "import pandas as pd\n",
    "%matplotlib inline\n",
    "import seaborn as sns\n",
    "import matplotlib\n",
    "matplotlib.rcParams['figure.figsize'] = (13, 8) \n",
    "\n",
    "# import ssl\n",
    "# ssl._create_default_https_context = ssl._create_unverified_context"
   ]
  },
  {
   "cell_type": "markdown",
   "metadata": {
    "id": "F4Sr5JodxYFw"
   },
   "source": [
    "# Reading\n",
    "\n",
    "Pandas isn't fussy we can pass a path to the csv file or even give it a url to a csv."
   ]
  },
  {
   "cell_type": "code",
   "execution_count": 27,
   "metadata": {
    "colab": {
     "base_uri": "https://localhost:8080/",
     "height": 204
    },
    "executionInfo": {
     "elapsed": 1545,
     "status": "ok",
     "timestamp": 1610935180824,
     "user": {
      "displayName": "Jyoti Gupta",
      "photoUrl": "https://lh3.googleusercontent.com/a-/AOh14Gha7ARiuH9KYsBrRe_sEPEhpI5cXr55TdQBv6x_MA=s64",
      "userId": "16785426337890807929"
     },
     "user_tz": -480
    },
    "id": "0Eq7tReLxYFx",
    "outputId": "fa53d9ba-2ae4-4fdc-da04-5e981c7543c0"
   },
   "outputs": [
    {
     "data": {
      "application/vnd.microsoft.datawrangler.viewer.v0+json": {
       "columns": [
        {
         "name": "index",
         "rawType": "int64",
         "type": "integer"
        },
        {
         "name": "0",
         "rawType": "int64",
         "type": "integer"
        },
        {
         "name": "1",
         "rawType": "float64",
         "type": "float"
        },
        {
         "name": "2",
         "rawType": "float64",
         "type": "float"
        },
        {
         "name": "3",
         "rawType": "float64",
         "type": "float"
        },
        {
         "name": "4",
         "rawType": "float64",
         "type": "float"
        },
        {
         "name": "5",
         "rawType": "int64",
         "type": "integer"
        },
        {
         "name": "6",
         "rawType": "float64",
         "type": "float"
        },
        {
         "name": "7",
         "rawType": "float64",
         "type": "float"
        },
        {
         "name": "8",
         "rawType": "float64",
         "type": "float"
        },
        {
         "name": "9",
         "rawType": "float64",
         "type": "float"
        },
        {
         "name": "10",
         "rawType": "float64",
         "type": "float"
        },
        {
         "name": "11",
         "rawType": "float64",
         "type": "float"
        },
        {
         "name": "12",
         "rawType": "float64",
         "type": "float"
        },
        {
         "name": "13",
         "rawType": "int64",
         "type": "integer"
        }
       ],
       "conversionMethod": "pd.DataFrame",
       "ref": "77aba5b5-2679-44a8-a34a-2a741d308031",
       "rows": [
        [
         "0",
         "1",
         "14.23",
         "1.71",
         "2.43",
         "15.6",
         "127",
         "2.8",
         "3.06",
         "0.28",
         "2.29",
         "5.64",
         "1.04",
         "3.92",
         "1065"
        ],
        [
         "1",
         "1",
         "13.2",
         "1.78",
         "2.14",
         "11.2",
         "100",
         "2.65",
         "2.76",
         "0.26",
         "1.28",
         "4.38",
         "1.05",
         "3.4",
         "1050"
        ],
        [
         "2",
         "1",
         "13.16",
         "2.36",
         "2.67",
         "18.6",
         "101",
         "2.8",
         "3.24",
         "0.3",
         "2.81",
         "5.68",
         "1.03",
         "3.17",
         "1185"
        ],
        [
         "3",
         "1",
         "14.37",
         "1.95",
         "2.5",
         "16.8",
         "113",
         "3.85",
         "3.49",
         "0.24",
         "2.18",
         "7.8",
         "0.86",
         "3.45",
         "1480"
        ],
        [
         "4",
         "1",
         "13.24",
         "2.59",
         "2.87",
         "21.0",
         "118",
         "2.8",
         "2.69",
         "0.39",
         "1.82",
         "4.32",
         "1.04",
         "2.93",
         "735"
        ]
       ],
       "shape": {
        "columns": 14,
        "rows": 5
       }
      },
      "text/html": [
       "<div>\n",
       "<style scoped>\n",
       "    .dataframe tbody tr th:only-of-type {\n",
       "        vertical-align: middle;\n",
       "    }\n",
       "\n",
       "    .dataframe tbody tr th {\n",
       "        vertical-align: top;\n",
       "    }\n",
       "\n",
       "    .dataframe thead th {\n",
       "        text-align: right;\n",
       "    }\n",
       "</style>\n",
       "<table border=\"1\" class=\"dataframe\">\n",
       "  <thead>\n",
       "    <tr style=\"text-align: right;\">\n",
       "      <th></th>\n",
       "      <th>0</th>\n",
       "      <th>1</th>\n",
       "      <th>2</th>\n",
       "      <th>3</th>\n",
       "      <th>4</th>\n",
       "      <th>5</th>\n",
       "      <th>6</th>\n",
       "      <th>7</th>\n",
       "      <th>8</th>\n",
       "      <th>9</th>\n",
       "      <th>10</th>\n",
       "      <th>11</th>\n",
       "      <th>12</th>\n",
       "      <th>13</th>\n",
       "    </tr>\n",
       "  </thead>\n",
       "  <tbody>\n",
       "    <tr>\n",
       "      <th>0</th>\n",
       "      <td>1</td>\n",
       "      <td>14.23</td>\n",
       "      <td>1.71</td>\n",
       "      <td>2.43</td>\n",
       "      <td>15.6</td>\n",
       "      <td>127</td>\n",
       "      <td>2.80</td>\n",
       "      <td>3.06</td>\n",
       "      <td>0.28</td>\n",
       "      <td>2.29</td>\n",
       "      <td>5.64</td>\n",
       "      <td>1.04</td>\n",
       "      <td>3.92</td>\n",
       "      <td>1065</td>\n",
       "    </tr>\n",
       "    <tr>\n",
       "      <th>1</th>\n",
       "      <td>1</td>\n",
       "      <td>13.20</td>\n",
       "      <td>1.78</td>\n",
       "      <td>2.14</td>\n",
       "      <td>11.2</td>\n",
       "      <td>100</td>\n",
       "      <td>2.65</td>\n",
       "      <td>2.76</td>\n",
       "      <td>0.26</td>\n",
       "      <td>1.28</td>\n",
       "      <td>4.38</td>\n",
       "      <td>1.05</td>\n",
       "      <td>3.40</td>\n",
       "      <td>1050</td>\n",
       "    </tr>\n",
       "    <tr>\n",
       "      <th>2</th>\n",
       "      <td>1</td>\n",
       "      <td>13.16</td>\n",
       "      <td>2.36</td>\n",
       "      <td>2.67</td>\n",
       "      <td>18.6</td>\n",
       "      <td>101</td>\n",
       "      <td>2.80</td>\n",
       "      <td>3.24</td>\n",
       "      <td>0.30</td>\n",
       "      <td>2.81</td>\n",
       "      <td>5.68</td>\n",
       "      <td>1.03</td>\n",
       "      <td>3.17</td>\n",
       "      <td>1185</td>\n",
       "    </tr>\n",
       "    <tr>\n",
       "      <th>3</th>\n",
       "      <td>1</td>\n",
       "      <td>14.37</td>\n",
       "      <td>1.95</td>\n",
       "      <td>2.50</td>\n",
       "      <td>16.8</td>\n",
       "      <td>113</td>\n",
       "      <td>3.85</td>\n",
       "      <td>3.49</td>\n",
       "      <td>0.24</td>\n",
       "      <td>2.18</td>\n",
       "      <td>7.80</td>\n",
       "      <td>0.86</td>\n",
       "      <td>3.45</td>\n",
       "      <td>1480</td>\n",
       "    </tr>\n",
       "    <tr>\n",
       "      <th>4</th>\n",
       "      <td>1</td>\n",
       "      <td>13.24</td>\n",
       "      <td>2.59</td>\n",
       "      <td>2.87</td>\n",
       "      <td>21.0</td>\n",
       "      <td>118</td>\n",
       "      <td>2.80</td>\n",
       "      <td>2.69</td>\n",
       "      <td>0.39</td>\n",
       "      <td>1.82</td>\n",
       "      <td>4.32</td>\n",
       "      <td>1.04</td>\n",
       "      <td>2.93</td>\n",
       "      <td>735</td>\n",
       "    </tr>\n",
       "  </tbody>\n",
       "</table>\n",
       "</div>"
      ],
      "text/plain": [
       "   0      1     2     3     4    5     6     7     8     9     10    11    12  \\\n",
       "0   1  14.23  1.71  2.43  15.6  127  2.80  3.06  0.28  2.29  5.64  1.04  3.92   \n",
       "1   1  13.20  1.78  2.14  11.2  100  2.65  2.76  0.26  1.28  4.38  1.05  3.40   \n",
       "2   1  13.16  2.36  2.67  18.6  101  2.80  3.24  0.30  2.81  5.68  1.03  3.17   \n",
       "3   1  14.37  1.95  2.50  16.8  113  3.85  3.49  0.24  2.18  7.80  0.86  3.45   \n",
       "4   1  13.24  2.59  2.87  21.0  118  2.80  2.69  0.39  1.82  4.32  1.04  2.93   \n",
       "\n",
       "     13  \n",
       "0  1065  \n",
       "1  1050  \n",
       "2  1185  \n",
       "3  1480  \n",
       "4   735  "
      ]
     },
     "execution_count": 27,
     "metadata": {},
     "output_type": "execute_result"
    }
   ],
   "source": [
    "# dataframe\n",
    "# comma separated variable\n",
    "df = pd.read_csv(\"https://archive.ics.uci.edu/ml/machine-learning-databases/wine/wine.data\", header=None) #.xlsx for excel, .csv for .csv files\n",
    "df.head()"
   ]
  },
  {
   "cell_type": "markdown",
   "metadata": {
    "id": "Xtvkc-eCxYF2"
   },
   "source": [
    "Let's rename the columns."
   ]
  },
  {
   "cell_type": "code",
   "execution_count": 28,
   "metadata": {
    "executionInfo": {
     "elapsed": 1033,
     "status": "ok",
     "timestamp": 1610935399798,
     "user": {
      "displayName": "Jyoti Gupta",
      "photoUrl": "https://lh3.googleusercontent.com/a-/AOh14Gha7ARiuH9KYsBrRe_sEPEhpI5cXr55TdQBv6x_MA=s64",
      "userId": "16785426337890807929"
     },
     "user_tz": -480
    },
    "id": "Yph5U9wAxYF3"
   },
   "outputs": [],
   "source": [
    "colnames = [\n",
    "'Class',\n",
    "'Alcohol',\n",
    "'Malic acid',\n",
    "'Ash',\n",
    "'Alcalinity_of_ash',  \n",
    "'Magnesium',\n",
    "'Total_phenols',\n",
    "'Flavanoids',\n",
    "'Nonflavanoid_phenols',\n",
    "'Proanthocyanins',\n",
    "'Color_intensity',\n",
    "'Hue',\n",
    "'OD280_by_OD315', \n",
    "'Proline']            \n",
    "\n",
    "df.columns = colnames"
   ]
  },
  {
   "cell_type": "code",
   "execution_count": 6,
   "metadata": {
    "colab": {
     "base_uri": "https://localhost:8080/",
     "height": 224
    },
    "executionInfo": {
     "elapsed": 873,
     "status": "ok",
     "timestamp": 1610935401630,
     "user": {
      "displayName": "Jyoti Gupta",
      "photoUrl": "https://lh3.googleusercontent.com/a-/AOh14Gha7ARiuH9KYsBrRe_sEPEhpI5cXr55TdQBv6x_MA=s64",
      "userId": "16785426337890807929"
     },
     "user_tz": -480
    },
    "id": "cTYWZXiHxYF5",
    "outputId": "200da05c-908e-41f1-f281-78e66b2d8fc4"
   },
   "outputs": [
    {
     "data": {
      "application/vnd.microsoft.datawrangler.viewer.v0+json": {
       "columns": [
        {
         "name": "index",
         "rawType": "int64",
         "type": "integer"
        },
        {
         "name": "Class",
         "rawType": "int64",
         "type": "integer"
        },
        {
         "name": "Alcohol",
         "rawType": "float64",
         "type": "float"
        },
        {
         "name": "Malic acid",
         "rawType": "float64",
         "type": "float"
        },
        {
         "name": "Ash",
         "rawType": "float64",
         "type": "float"
        },
        {
         "name": "Alcalinity_of_ash",
         "rawType": "float64",
         "type": "float"
        },
        {
         "name": "Magnesium",
         "rawType": "int64",
         "type": "integer"
        },
        {
         "name": "Total_phenols",
         "rawType": "float64",
         "type": "float"
        },
        {
         "name": "Flavanoids",
         "rawType": "float64",
         "type": "float"
        },
        {
         "name": "Nonflavanoid_phenols",
         "rawType": "float64",
         "type": "float"
        },
        {
         "name": "Proanthocyanins",
         "rawType": "float64",
         "type": "float"
        },
        {
         "name": "Color_intensity",
         "rawType": "float64",
         "type": "float"
        },
        {
         "name": "Hue",
         "rawType": "float64",
         "type": "float"
        },
        {
         "name": "OD280_by_OD315",
         "rawType": "float64",
         "type": "float"
        },
        {
         "name": "Proline",
         "rawType": "int64",
         "type": "integer"
        }
       ],
       "conversionMethod": "pd.DataFrame",
       "ref": "a2c0a080-588b-4e9b-9d50-240637c405b9",
       "rows": [
        [
         "0",
         "1",
         "14.23",
         "1.71",
         "2.43",
         "15.6",
         "127",
         "2.8",
         "3.06",
         "0.28",
         "2.29",
         "5.64",
         "1.04",
         "3.92",
         "1065"
        ],
        [
         "1",
         "1",
         "13.2",
         "1.78",
         "2.14",
         "11.2",
         "100",
         "2.65",
         "2.76",
         "0.26",
         "1.28",
         "4.38",
         "1.05",
         "3.4",
         "1050"
        ],
        [
         "2",
         "1",
         "13.16",
         "2.36",
         "2.67",
         "18.6",
         "101",
         "2.8",
         "3.24",
         "0.3",
         "2.81",
         "5.68",
         "1.03",
         "3.17",
         "1185"
        ],
        [
         "3",
         "1",
         "14.37",
         "1.95",
         "2.5",
         "16.8",
         "113",
         "3.85",
         "3.49",
         "0.24",
         "2.18",
         "7.8",
         "0.86",
         "3.45",
         "1480"
        ],
        [
         "4",
         "1",
         "13.24",
         "2.59",
         "2.87",
         "21.0",
         "118",
         "2.8",
         "2.69",
         "0.39",
         "1.82",
         "4.32",
         "1.04",
         "2.93",
         "735"
        ]
       ],
       "shape": {
        "columns": 14,
        "rows": 5
       }
      },
      "text/html": [
       "<div>\n",
       "<style scoped>\n",
       "    .dataframe tbody tr th:only-of-type {\n",
       "        vertical-align: middle;\n",
       "    }\n",
       "\n",
       "    .dataframe tbody tr th {\n",
       "        vertical-align: top;\n",
       "    }\n",
       "\n",
       "    .dataframe thead th {\n",
       "        text-align: right;\n",
       "    }\n",
       "</style>\n",
       "<table border=\"1\" class=\"dataframe\">\n",
       "  <thead>\n",
       "    <tr style=\"text-align: right;\">\n",
       "      <th></th>\n",
       "      <th>Class</th>\n",
       "      <th>Alcohol</th>\n",
       "      <th>Malic acid</th>\n",
       "      <th>Ash</th>\n",
       "      <th>Alcalinity_of_ash</th>\n",
       "      <th>Magnesium</th>\n",
       "      <th>Total_phenols</th>\n",
       "      <th>Flavanoids</th>\n",
       "      <th>Nonflavanoid_phenols</th>\n",
       "      <th>Proanthocyanins</th>\n",
       "      <th>Color_intensity</th>\n",
       "      <th>Hue</th>\n",
       "      <th>OD280_by_OD315</th>\n",
       "      <th>Proline</th>\n",
       "    </tr>\n",
       "  </thead>\n",
       "  <tbody>\n",
       "    <tr>\n",
       "      <th>0</th>\n",
       "      <td>1</td>\n",
       "      <td>14.23</td>\n",
       "      <td>1.71</td>\n",
       "      <td>2.43</td>\n",
       "      <td>15.6</td>\n",
       "      <td>127</td>\n",
       "      <td>2.80</td>\n",
       "      <td>3.06</td>\n",
       "      <td>0.28</td>\n",
       "      <td>2.29</td>\n",
       "      <td>5.64</td>\n",
       "      <td>1.04</td>\n",
       "      <td>3.92</td>\n",
       "      <td>1065</td>\n",
       "    </tr>\n",
       "    <tr>\n",
       "      <th>1</th>\n",
       "      <td>1</td>\n",
       "      <td>13.20</td>\n",
       "      <td>1.78</td>\n",
       "      <td>2.14</td>\n",
       "      <td>11.2</td>\n",
       "      <td>100</td>\n",
       "      <td>2.65</td>\n",
       "      <td>2.76</td>\n",
       "      <td>0.26</td>\n",
       "      <td>1.28</td>\n",
       "      <td>4.38</td>\n",
       "      <td>1.05</td>\n",
       "      <td>3.40</td>\n",
       "      <td>1050</td>\n",
       "    </tr>\n",
       "    <tr>\n",
       "      <th>2</th>\n",
       "      <td>1</td>\n",
       "      <td>13.16</td>\n",
       "      <td>2.36</td>\n",
       "      <td>2.67</td>\n",
       "      <td>18.6</td>\n",
       "      <td>101</td>\n",
       "      <td>2.80</td>\n",
       "      <td>3.24</td>\n",
       "      <td>0.30</td>\n",
       "      <td>2.81</td>\n",
       "      <td>5.68</td>\n",
       "      <td>1.03</td>\n",
       "      <td>3.17</td>\n",
       "      <td>1185</td>\n",
       "    </tr>\n",
       "    <tr>\n",
       "      <th>3</th>\n",
       "      <td>1</td>\n",
       "      <td>14.37</td>\n",
       "      <td>1.95</td>\n",
       "      <td>2.50</td>\n",
       "      <td>16.8</td>\n",
       "      <td>113</td>\n",
       "      <td>3.85</td>\n",
       "      <td>3.49</td>\n",
       "      <td>0.24</td>\n",
       "      <td>2.18</td>\n",
       "      <td>7.80</td>\n",
       "      <td>0.86</td>\n",
       "      <td>3.45</td>\n",
       "      <td>1480</td>\n",
       "    </tr>\n",
       "    <tr>\n",
       "      <th>4</th>\n",
       "      <td>1</td>\n",
       "      <td>13.24</td>\n",
       "      <td>2.59</td>\n",
       "      <td>2.87</td>\n",
       "      <td>21.0</td>\n",
       "      <td>118</td>\n",
       "      <td>2.80</td>\n",
       "      <td>2.69</td>\n",
       "      <td>0.39</td>\n",
       "      <td>1.82</td>\n",
       "      <td>4.32</td>\n",
       "      <td>1.04</td>\n",
       "      <td>2.93</td>\n",
       "      <td>735</td>\n",
       "    </tr>\n",
       "  </tbody>\n",
       "</table>\n",
       "</div>"
      ],
      "text/plain": [
       "   Class  Alcohol  Malic acid   Ash  Alcalinity_of_ash  Magnesium  \\\n",
       "0      1    14.23        1.71  2.43               15.6        127   \n",
       "1      1    13.20        1.78  2.14               11.2        100   \n",
       "2      1    13.16        2.36  2.67               18.6        101   \n",
       "3      1    14.37        1.95  2.50               16.8        113   \n",
       "4      1    13.24        2.59  2.87               21.0        118   \n",
       "\n",
       "   Total_phenols  Flavanoids  Nonflavanoid_phenols  Proanthocyanins  \\\n",
       "0           2.80        3.06                  0.28             2.29   \n",
       "1           2.65        2.76                  0.26             1.28   \n",
       "2           2.80        3.24                  0.30             2.81   \n",
       "3           3.85        3.49                  0.24             2.18   \n",
       "4           2.80        2.69                  0.39             1.82   \n",
       "\n",
       "   Color_intensity   Hue  OD280_by_OD315  Proline  \n",
       "0             5.64  1.04            3.92     1065  \n",
       "1             4.38  1.05            3.40     1050  \n",
       "2             5.68  1.03            3.17     1185  \n",
       "3             7.80  0.86            3.45     1480  \n",
       "4             4.32  1.04            2.93      735  "
      ]
     },
     "execution_count": 6,
     "metadata": {},
     "output_type": "execute_result"
    }
   ],
   "source": [
    "df.head() #shows 5 colummns  by default "
   ]
  },
  {
   "cell_type": "code",
   "execution_count": 7,
   "metadata": {},
   "outputs": [
    {
     "data": {
      "application/vnd.microsoft.datawrangler.viewer.v0+json": {
       "columns": [
        {
         "name": "index",
         "rawType": "int64",
         "type": "integer"
        },
        {
         "name": "Class",
         "rawType": "int64",
         "type": "integer"
        },
        {
         "name": "Alcohol",
         "rawType": "float64",
         "type": "float"
        },
        {
         "name": "Malic acid",
         "rawType": "float64",
         "type": "float"
        },
        {
         "name": "Ash",
         "rawType": "float64",
         "type": "float"
        },
        {
         "name": "Alcalinity_of_ash",
         "rawType": "float64",
         "type": "float"
        },
        {
         "name": "Magnesium",
         "rawType": "int64",
         "type": "integer"
        },
        {
         "name": "Total_phenols",
         "rawType": "float64",
         "type": "float"
        },
        {
         "name": "Flavanoids",
         "rawType": "float64",
         "type": "float"
        },
        {
         "name": "Nonflavanoid_phenols",
         "rawType": "float64",
         "type": "float"
        },
        {
         "name": "Proanthocyanins",
         "rawType": "float64",
         "type": "float"
        },
        {
         "name": "Color_intensity",
         "rawType": "float64",
         "type": "float"
        },
        {
         "name": "Hue",
         "rawType": "float64",
         "type": "float"
        },
        {
         "name": "OD280_by_OD315",
         "rawType": "float64",
         "type": "float"
        },
        {
         "name": "Proline",
         "rawType": "int64",
         "type": "integer"
        }
       ],
       "conversionMethod": "pd.DataFrame",
       "ref": "38d08dd1-4824-4bba-a761-038216039263",
       "rows": [
        [
         "0",
         "1",
         "14.23",
         "1.71",
         "2.43",
         "15.6",
         "127",
         "2.8",
         "3.06",
         "0.28",
         "2.29",
         "5.64",
         "1.04",
         "3.92",
         "1065"
        ],
        [
         "1",
         "1",
         "13.2",
         "1.78",
         "2.14",
         "11.2",
         "100",
         "2.65",
         "2.76",
         "0.26",
         "1.28",
         "4.38",
         "1.05",
         "3.4",
         "1050"
        ],
        [
         "2",
         "1",
         "13.16",
         "2.36",
         "2.67",
         "18.6",
         "101",
         "2.8",
         "3.24",
         "0.3",
         "2.81",
         "5.68",
         "1.03",
         "3.17",
         "1185"
        ],
        [
         "3",
         "1",
         "14.37",
         "1.95",
         "2.5",
         "16.8",
         "113",
         "3.85",
         "3.49",
         "0.24",
         "2.18",
         "7.8",
         "0.86",
         "3.45",
         "1480"
        ],
        [
         "4",
         "1",
         "13.24",
         "2.59",
         "2.87",
         "21.0",
         "118",
         "2.8",
         "2.69",
         "0.39",
         "1.82",
         "4.32",
         "1.04",
         "2.93",
         "735"
        ],
        [
         "5",
         "1",
         "14.2",
         "1.76",
         "2.45",
         "15.2",
         "112",
         "3.27",
         "3.39",
         "0.34",
         "1.97",
         "6.75",
         "1.05",
         "2.85",
         "1450"
        ],
        [
         "6",
         "1",
         "14.39",
         "1.87",
         "2.45",
         "14.6",
         "96",
         "2.5",
         "2.52",
         "0.3",
         "1.98",
         "5.25",
         "1.02",
         "3.58",
         "1290"
        ],
        [
         "7",
         "1",
         "14.06",
         "2.15",
         "2.61",
         "17.6",
         "121",
         "2.6",
         "2.51",
         "0.31",
         "1.25",
         "5.05",
         "1.06",
         "3.58",
         "1295"
        ],
        [
         "8",
         "1",
         "14.83",
         "1.64",
         "2.17",
         "14.0",
         "97",
         "2.8",
         "2.98",
         "0.29",
         "1.98",
         "5.2",
         "1.08",
         "2.85",
         "1045"
        ],
        [
         "9",
         "1",
         "13.86",
         "1.35",
         "2.27",
         "16.0",
         "98",
         "2.98",
         "3.15",
         "0.22",
         "1.85",
         "7.22",
         "1.01",
         "3.55",
         "1045"
        ]
       ],
       "shape": {
        "columns": 14,
        "rows": 10
       }
      },
      "text/html": [
       "<div>\n",
       "<style scoped>\n",
       "    .dataframe tbody tr th:only-of-type {\n",
       "        vertical-align: middle;\n",
       "    }\n",
       "\n",
       "    .dataframe tbody tr th {\n",
       "        vertical-align: top;\n",
       "    }\n",
       "\n",
       "    .dataframe thead th {\n",
       "        text-align: right;\n",
       "    }\n",
       "</style>\n",
       "<table border=\"1\" class=\"dataframe\">\n",
       "  <thead>\n",
       "    <tr style=\"text-align: right;\">\n",
       "      <th></th>\n",
       "      <th>Class</th>\n",
       "      <th>Alcohol</th>\n",
       "      <th>Malic acid</th>\n",
       "      <th>Ash</th>\n",
       "      <th>Alcalinity_of_ash</th>\n",
       "      <th>Magnesium</th>\n",
       "      <th>Total_phenols</th>\n",
       "      <th>Flavanoids</th>\n",
       "      <th>Nonflavanoid_phenols</th>\n",
       "      <th>Proanthocyanins</th>\n",
       "      <th>Color_intensity</th>\n",
       "      <th>Hue</th>\n",
       "      <th>OD280_by_OD315</th>\n",
       "      <th>Proline</th>\n",
       "    </tr>\n",
       "  </thead>\n",
       "  <tbody>\n",
       "    <tr>\n",
       "      <th>0</th>\n",
       "      <td>1</td>\n",
       "      <td>14.23</td>\n",
       "      <td>1.71</td>\n",
       "      <td>2.43</td>\n",
       "      <td>15.6</td>\n",
       "      <td>127</td>\n",
       "      <td>2.80</td>\n",
       "      <td>3.06</td>\n",
       "      <td>0.28</td>\n",
       "      <td>2.29</td>\n",
       "      <td>5.64</td>\n",
       "      <td>1.04</td>\n",
       "      <td>3.92</td>\n",
       "      <td>1065</td>\n",
       "    </tr>\n",
       "    <tr>\n",
       "      <th>1</th>\n",
       "      <td>1</td>\n",
       "      <td>13.20</td>\n",
       "      <td>1.78</td>\n",
       "      <td>2.14</td>\n",
       "      <td>11.2</td>\n",
       "      <td>100</td>\n",
       "      <td>2.65</td>\n",
       "      <td>2.76</td>\n",
       "      <td>0.26</td>\n",
       "      <td>1.28</td>\n",
       "      <td>4.38</td>\n",
       "      <td>1.05</td>\n",
       "      <td>3.40</td>\n",
       "      <td>1050</td>\n",
       "    </tr>\n",
       "    <tr>\n",
       "      <th>2</th>\n",
       "      <td>1</td>\n",
       "      <td>13.16</td>\n",
       "      <td>2.36</td>\n",
       "      <td>2.67</td>\n",
       "      <td>18.6</td>\n",
       "      <td>101</td>\n",
       "      <td>2.80</td>\n",
       "      <td>3.24</td>\n",
       "      <td>0.30</td>\n",
       "      <td>2.81</td>\n",
       "      <td>5.68</td>\n",
       "      <td>1.03</td>\n",
       "      <td>3.17</td>\n",
       "      <td>1185</td>\n",
       "    </tr>\n",
       "    <tr>\n",
       "      <th>3</th>\n",
       "      <td>1</td>\n",
       "      <td>14.37</td>\n",
       "      <td>1.95</td>\n",
       "      <td>2.50</td>\n",
       "      <td>16.8</td>\n",
       "      <td>113</td>\n",
       "      <td>3.85</td>\n",
       "      <td>3.49</td>\n",
       "      <td>0.24</td>\n",
       "      <td>2.18</td>\n",
       "      <td>7.80</td>\n",
       "      <td>0.86</td>\n",
       "      <td>3.45</td>\n",
       "      <td>1480</td>\n",
       "    </tr>\n",
       "    <tr>\n",
       "      <th>4</th>\n",
       "      <td>1</td>\n",
       "      <td>13.24</td>\n",
       "      <td>2.59</td>\n",
       "      <td>2.87</td>\n",
       "      <td>21.0</td>\n",
       "      <td>118</td>\n",
       "      <td>2.80</td>\n",
       "      <td>2.69</td>\n",
       "      <td>0.39</td>\n",
       "      <td>1.82</td>\n",
       "      <td>4.32</td>\n",
       "      <td>1.04</td>\n",
       "      <td>2.93</td>\n",
       "      <td>735</td>\n",
       "    </tr>\n",
       "    <tr>\n",
       "      <th>5</th>\n",
       "      <td>1</td>\n",
       "      <td>14.20</td>\n",
       "      <td>1.76</td>\n",
       "      <td>2.45</td>\n",
       "      <td>15.2</td>\n",
       "      <td>112</td>\n",
       "      <td>3.27</td>\n",
       "      <td>3.39</td>\n",
       "      <td>0.34</td>\n",
       "      <td>1.97</td>\n",
       "      <td>6.75</td>\n",
       "      <td>1.05</td>\n",
       "      <td>2.85</td>\n",
       "      <td>1450</td>\n",
       "    </tr>\n",
       "    <tr>\n",
       "      <th>6</th>\n",
       "      <td>1</td>\n",
       "      <td>14.39</td>\n",
       "      <td>1.87</td>\n",
       "      <td>2.45</td>\n",
       "      <td>14.6</td>\n",
       "      <td>96</td>\n",
       "      <td>2.50</td>\n",
       "      <td>2.52</td>\n",
       "      <td>0.30</td>\n",
       "      <td>1.98</td>\n",
       "      <td>5.25</td>\n",
       "      <td>1.02</td>\n",
       "      <td>3.58</td>\n",
       "      <td>1290</td>\n",
       "    </tr>\n",
       "    <tr>\n",
       "      <th>7</th>\n",
       "      <td>1</td>\n",
       "      <td>14.06</td>\n",
       "      <td>2.15</td>\n",
       "      <td>2.61</td>\n",
       "      <td>17.6</td>\n",
       "      <td>121</td>\n",
       "      <td>2.60</td>\n",
       "      <td>2.51</td>\n",
       "      <td>0.31</td>\n",
       "      <td>1.25</td>\n",
       "      <td>5.05</td>\n",
       "      <td>1.06</td>\n",
       "      <td>3.58</td>\n",
       "      <td>1295</td>\n",
       "    </tr>\n",
       "    <tr>\n",
       "      <th>8</th>\n",
       "      <td>1</td>\n",
       "      <td>14.83</td>\n",
       "      <td>1.64</td>\n",
       "      <td>2.17</td>\n",
       "      <td>14.0</td>\n",
       "      <td>97</td>\n",
       "      <td>2.80</td>\n",
       "      <td>2.98</td>\n",
       "      <td>0.29</td>\n",
       "      <td>1.98</td>\n",
       "      <td>5.20</td>\n",
       "      <td>1.08</td>\n",
       "      <td>2.85</td>\n",
       "      <td>1045</td>\n",
       "    </tr>\n",
       "    <tr>\n",
       "      <th>9</th>\n",
       "      <td>1</td>\n",
       "      <td>13.86</td>\n",
       "      <td>1.35</td>\n",
       "      <td>2.27</td>\n",
       "      <td>16.0</td>\n",
       "      <td>98</td>\n",
       "      <td>2.98</td>\n",
       "      <td>3.15</td>\n",
       "      <td>0.22</td>\n",
       "      <td>1.85</td>\n",
       "      <td>7.22</td>\n",
       "      <td>1.01</td>\n",
       "      <td>3.55</td>\n",
       "      <td>1045</td>\n",
       "    </tr>\n",
       "  </tbody>\n",
       "</table>\n",
       "</div>"
      ],
      "text/plain": [
       "   Class  Alcohol  Malic acid   Ash  Alcalinity_of_ash  Magnesium  \\\n",
       "0      1    14.23        1.71  2.43               15.6        127   \n",
       "1      1    13.20        1.78  2.14               11.2        100   \n",
       "2      1    13.16        2.36  2.67               18.6        101   \n",
       "3      1    14.37        1.95  2.50               16.8        113   \n",
       "4      1    13.24        2.59  2.87               21.0        118   \n",
       "5      1    14.20        1.76  2.45               15.2        112   \n",
       "6      1    14.39        1.87  2.45               14.6         96   \n",
       "7      1    14.06        2.15  2.61               17.6        121   \n",
       "8      1    14.83        1.64  2.17               14.0         97   \n",
       "9      1    13.86        1.35  2.27               16.0         98   \n",
       "\n",
       "   Total_phenols  Flavanoids  Nonflavanoid_phenols  Proanthocyanins  \\\n",
       "0           2.80        3.06                  0.28             2.29   \n",
       "1           2.65        2.76                  0.26             1.28   \n",
       "2           2.80        3.24                  0.30             2.81   \n",
       "3           3.85        3.49                  0.24             2.18   \n",
       "4           2.80        2.69                  0.39             1.82   \n",
       "5           3.27        3.39                  0.34             1.97   \n",
       "6           2.50        2.52                  0.30             1.98   \n",
       "7           2.60        2.51                  0.31             1.25   \n",
       "8           2.80        2.98                  0.29             1.98   \n",
       "9           2.98        3.15                  0.22             1.85   \n",
       "\n",
       "   Color_intensity   Hue  OD280_by_OD315  Proline  \n",
       "0             5.64  1.04            3.92     1065  \n",
       "1             4.38  1.05            3.40     1050  \n",
       "2             5.68  1.03            3.17     1185  \n",
       "3             7.80  0.86            3.45     1480  \n",
       "4             4.32  1.04            2.93      735  \n",
       "5             6.75  1.05            2.85     1450  \n",
       "6             5.25  1.02            3.58     1290  \n",
       "7             5.05  1.06            3.58     1295  \n",
       "8             5.20  1.08            2.85     1045  \n",
       "9             7.22  1.01            3.55     1045  "
      ]
     },
     "execution_count": 7,
     "metadata": {},
     "output_type": "execute_result"
    }
   ],
   "source": [
    "df.head(10) "
   ]
  },
  {
   "cell_type": "markdown",
   "metadata": {
    "id": "cdMXQa3yxYF8"
   },
   "source": [
    "We can check the datatype of the columns using `.dtypes`"
   ]
  },
  {
   "cell_type": "code",
   "execution_count": 8,
   "metadata": {
    "colab": {
     "base_uri": "https://localhost:8080/"
    },
    "executionInfo": {
     "elapsed": 3903,
     "status": "ok",
     "timestamp": 1610690042486,
     "user": {
      "displayName": "Jyoti Gupta",
      "photoUrl": "https://lh3.googleusercontent.com/a-/AOh14Gha7ARiuH9KYsBrRe_sEPEhpI5cXr55TdQBv6x_MA=s64",
      "userId": "16785426337890807929"
     },
     "user_tz": -480
    },
    "id": "YVF4m6ykxYF9",
    "outputId": "bfb75d95-cf6f-4b7b-cae3-86c1cd8d34ac"
   },
   "outputs": [
    {
     "data": {
      "text/plain": [
       "Class                     int64\n",
       "Alcohol                 float64\n",
       "Malic acid              float64\n",
       "Ash                     float64\n",
       "Alcalinity_of_ash       float64\n",
       "Magnesium                 int64\n",
       "Total_phenols           float64\n",
       "Flavanoids              float64\n",
       "Nonflavanoid_phenols    float64\n",
       "Proanthocyanins         float64\n",
       "Color_intensity         float64\n",
       "Hue                     float64\n",
       "OD280_by_OD315          float64\n",
       "Proline                   int64\n",
       "dtype: object"
      ]
     },
     "execution_count": 8,
     "metadata": {},
     "output_type": "execute_result"
    }
   ],
   "source": [
    "df.dtypes"
   ]
  },
  {
   "cell_type": "code",
   "execution_count": 9,
   "metadata": {
    "colab": {
     "base_uri": "https://localhost:8080/"
    },
    "executionInfo": {
     "elapsed": 1048,
     "status": "ok",
     "timestamp": 1610935818641,
     "user": {
      "displayName": "Jyoti Gupta",
      "photoUrl": "https://lh3.googleusercontent.com/a-/AOh14Gha7ARiuH9KYsBrRe_sEPEhpI5cXr55TdQBv6x_MA=s64",
      "userId": "16785426337890807929"
     },
     "user_tz": -480
    },
    "id": "d3StK270Qbt-",
    "outputId": "28befe3a-7404-4c42-c6ee-3b073eab7691"
   },
   "outputs": [
    {
     "name": "stdout",
     "output_type": "stream",
     "text": [
      "<class 'pandas.core.frame.DataFrame'>\n",
      "RangeIndex: 178 entries, 0 to 177\n",
      "Data columns (total 14 columns):\n",
      " #   Column                Non-Null Count  Dtype  \n",
      "---  ------                --------------  -----  \n",
      " 0   Class                 178 non-null    int64  \n",
      " 1   Alcohol               178 non-null    float64\n",
      " 2   Malic acid            178 non-null    float64\n",
      " 3   Ash                   178 non-null    float64\n",
      " 4   Alcalinity_of_ash     178 non-null    float64\n",
      " 5   Magnesium             178 non-null    int64  \n",
      " 6   Total_phenols         178 non-null    float64\n",
      " 7   Flavanoids            178 non-null    float64\n",
      " 8   Nonflavanoid_phenols  178 non-null    float64\n",
      " 9   Proanthocyanins       178 non-null    float64\n",
      " 10  Color_intensity       178 non-null    float64\n",
      " 11  Hue                   178 non-null    float64\n",
      " 12  OD280_by_OD315        178 non-null    float64\n",
      " 13  Proline               178 non-null    int64  \n",
      "dtypes: float64(11), int64(3)\n",
      "memory usage: 19.6 KB\n"
     ]
    }
   ],
   "source": [
    "df.info()"
   ]
  },
  {
   "cell_type": "markdown",
   "metadata": {
    "id": "W8vlMZV_xYF_"
   },
   "source": [
    "# Selecting \n"
   ]
  },
  {
   "cell_type": "markdown",
   "metadata": {
    "id": "snAhE0tuxYGA"
   },
   "source": [
    "To make the output of the notebook clearer in this section, we'll only work with the first 5 rows of the dataset."
   ]
  },
  {
   "cell_type": "code",
   "execution_count": 16,
   "metadata": {
    "id": "5n4rqK6VxYGB"
   },
   "outputs": [],
   "source": [
    "df = df.head()"
   ]
  },
  {
   "cell_type": "markdown",
   "metadata": {
    "id": "5z_pLtORxYGD"
   },
   "source": [
    "Pandas provides a few different ways to select different columns."
   ]
  },
  {
   "cell_type": "markdown",
   "metadata": {
    "id": "9bYLFK90xYGE"
   },
   "source": [
    "## Columns"
   ]
  },
  {
   "cell_type": "code",
   "execution_count": 17,
   "metadata": {
    "colab": {
     "base_uri": "https://localhost:8080/"
    },
    "executionInfo": {
     "elapsed": 1073,
     "status": "ok",
     "timestamp": 1610935490608,
     "user": {
      "displayName": "Jyoti Gupta",
      "photoUrl": "https://lh3.googleusercontent.com/a-/AOh14Gha7ARiuH9KYsBrRe_sEPEhpI5cXr55TdQBv6x_MA=s64",
      "userId": "16785426337890807929"
     },
     "user_tz": -480
    },
    "id": "zFuFUHbxxYGE",
    "outputId": "cbb45e63-7ce2-4308-f4d3-c9eead4af0d4"
   },
   "outputs": [
    {
     "data": {
      "text/plain": [
       "Index(['Class', 'Alcohol', 'Malic acid', 'Ash', 'Alcalinity_of_ash',\n",
       "       'Magnesium', 'Total_phenols', 'Flavanoids', 'Nonflavanoid_phenols',\n",
       "       'Proanthocyanins', 'Color_intensity', 'Hue', 'OD280_by_OD315',\n",
       "       'Proline'],\n",
       "      dtype='object')"
      ]
     },
     "execution_count": 17,
     "metadata": {},
     "output_type": "execute_result"
    }
   ],
   "source": [
    "df.columns # get all of the column names\n",
    "\n",
    "# the type of an index is an object "
   ]
  },
  {
   "cell_type": "code",
   "execution_count": 18,
   "metadata": {
    "colab": {
     "base_uri": "https://localhost:8080/"
    },
    "executionInfo": {
     "elapsed": 1158,
     "status": "ok",
     "timestamp": 1610935603580,
     "user": {
      "displayName": "Jyoti Gupta",
      "photoUrl": "https://lh3.googleusercontent.com/a-/AOh14Gha7ARiuH9KYsBrRe_sEPEhpI5cXr55TdQBv6x_MA=s64",
      "userId": "16785426337890807929"
     },
     "user_tz": -480
    },
    "id": "gtASRVqIPSWU",
    "outputId": "7edb209a-161d-4028-b0fb-83f20c55defb"
   },
   "outputs": [
    {
     "name": "stdout",
     "output_type": "stream",
     "text": [
      "<class 'pandas.core.series.Series'>\n",
      "<class 'pandas.core.frame.DataFrame'>\n"
     ]
    }
   ],
   "source": [
    "print(type(df[\"Alcalinity_of_ash\"])) #the type of a column is a series\n",
    "print(type(df))"
   ]
  },
  {
   "cell_type": "code",
   "execution_count": 19,
   "metadata": {
    "colab": {
     "base_uri": "https://localhost:8080/"
    },
    "executionInfo": {
     "elapsed": 835,
     "status": "ok",
     "timestamp": 1610935708552,
     "user": {
      "displayName": "Jyoti Gupta",
      "photoUrl": "https://lh3.googleusercontent.com/a-/AOh14Gha7ARiuH9KYsBrRe_sEPEhpI5cXr55TdQBv6x_MA=s64",
      "userId": "16785426337890807929"
     },
     "user_tz": -480
    },
    "id": "Vgkg4I8YPsZf",
    "outputId": "0b15172f-eaf7-4cbc-e400-6a03bb92e964"
   },
   "outputs": [
    {
     "data": {
      "text/plain": [
       "0    15.6\n",
       "1    11.2\n",
       "2    18.6\n",
       "Name: Alcalinity_of_ash, dtype: float64"
      ]
     },
     "execution_count": 19,
     "metadata": {},
     "output_type": "execute_result"
    }
   ],
   "source": [
    "df[\"Alcalinity_of_ash\"].head(3)"
   ]
  },
  {
   "cell_type": "code",
   "execution_count": 20,
   "metadata": {
    "colab": {
     "base_uri": "https://localhost:8080/"
    },
    "executionInfo": {
     "elapsed": 879,
     "status": "ok",
     "timestamp": 1610935739385,
     "user": {
      "displayName": "Jyoti Gupta",
      "photoUrl": "https://lh3.googleusercontent.com/a-/AOh14Gha7ARiuH9KYsBrRe_sEPEhpI5cXr55TdQBv6x_MA=s64",
      "userId": "16785426337890807929"
     },
     "user_tz": -480
    },
    "id": "Vt5GFUwfPx0U",
    "outputId": "2048520a-a951-4a67-fdf9-8cf9487552a9"
   },
   "outputs": [
    {
     "data": {
      "text/plain": [
       "2    18.6\n",
       "3    16.8\n",
       "4    21.0\n",
       "Name: Alcalinity_of_ash, dtype: float64"
      ]
     },
     "execution_count": 20,
     "metadata": {},
     "output_type": "execute_result"
    }
   ],
   "source": [
    "# try to select any other column in the df\n",
    "df[\"Alcalinity_of_ash\"].tail(3)"
   ]
  },
  {
   "cell_type": "code",
   "execution_count": 21,
   "metadata": {
    "colab": {
     "base_uri": "https://localhost:8080/"
    },
    "executionInfo": {
     "elapsed": 3896,
     "status": "ok",
     "timestamp": 1610690042487,
     "user": {
      "displayName": "Jyoti Gupta",
      "photoUrl": "https://lh3.googleusercontent.com/a-/AOh14Gha7ARiuH9KYsBrRe_sEPEhpI5cXr55TdQBv6x_MA=s64",
      "userId": "16785426337890807929"
     },
     "user_tz": -480
    },
    "id": "0xyF55lOxYGI",
    "outputId": "891daf98-a780-4bf6-961a-03e6fb08473b"
   },
   "outputs": [
    {
     "data": {
      "text/plain": [
       "0    2.43\n",
       "1    2.14\n",
       "2    2.67\n",
       "3    2.50\n",
       "4    2.87\n",
       "Name: Ash, dtype: float64"
      ]
     },
     "execution_count": 21,
     "metadata": {},
     "output_type": "execute_result"
    }
   ],
   "source": [
    "df[\"Ash\"] # index like a dictionary"
   ]
  },
  {
   "cell_type": "code",
   "execution_count": 22,
   "metadata": {
    "colab": {
     "base_uri": "https://localhost:8080/"
    },
    "executionInfo": {
     "elapsed": 3894,
     "status": "ok",
     "timestamp": 1610690042488,
     "user": {
      "displayName": "Jyoti Gupta",
      "photoUrl": "https://lh3.googleusercontent.com/a-/AOh14Gha7ARiuH9KYsBrRe_sEPEhpI5cXr55TdQBv6x_MA=s64",
      "userId": "16785426337890807929"
     },
     "user_tz": -480
    },
    "id": "7vluBZWjxYGK",
    "outputId": "5d70ca60-a55c-40b5-d15c-c18d5b220dfe"
   },
   "outputs": [
    {
     "data": {
      "text/plain": [
       "0    14.23\n",
       "1    13.20\n",
       "2    13.16\n",
       "3    14.37\n",
       "4    13.24\n",
       "Name: Alcohol, dtype: float64"
      ]
     },
     "execution_count": 22,
     "metadata": {},
     "output_type": "execute_result"
    }
   ],
   "source": [
    "df.Alcohol # alteratively using dot syntax"
   ]
  },
  {
   "cell_type": "code",
   "execution_count": 26,
   "metadata": {
    "colab": {
     "base_uri": "https://localhost:8080/"
    },
    "executionInfo": {
     "elapsed": 3891,
     "status": "ok",
     "timestamp": 1610690042488,
     "user": {
      "displayName": "Jyoti Gupta",
      "photoUrl": "https://lh3.googleusercontent.com/a-/AOh14Gha7ARiuH9KYsBrRe_sEPEhpI5cXr55TdQBv6x_MA=s64",
      "userId": "16785426337890807929"
     },
     "user_tz": -480
    },
    "id": "3JESNqRJxYGN",
    "outputId": "e6c3faca-0a15-41a1-90b8-8f8e6162e117"
   },
   "outputs": [
    {
     "data": {
      "text/plain": [
       "0    14.23\n",
       "1    13.20\n",
       "2    13.16\n",
       "3    14.37\n",
       "4    13.24\n",
       "Name: Alcohol, dtype: float64"
      ]
     },
     "execution_count": 26,
     "metadata": {},
     "output_type": "execute_result"
    }
   ],
   "source": [
    "df.iloc[:,1] # rows, col\n",
    "# iloc = index location\n",
    "# select all rows from the second column of a DataFrame df.\n",
    "# the : before the comma indicates that you want to select all rows, and the 1 after the comma indicates that you want to select the second column (with zero-based indexing)."
   ]
  },
  {
   "cell_type": "code",
   "execution_count": 29,
   "metadata": {
    "colab": {
     "base_uri": "https://localhost:8080/",
     "height": 111
    },
    "executionInfo": {
     "elapsed": 917,
     "status": "ok",
     "timestamp": 1610935930778,
     "user": {
      "displayName": "Jyoti Gupta",
      "photoUrl": "https://lh3.googleusercontent.com/a-/AOh14Gha7ARiuH9KYsBrRe_sEPEhpI5cXr55TdQBv6x_MA=s64",
      "userId": "16785426337890807929"
     },
     "user_tz": -480
    },
    "id": "NCE26Fl0QrP4",
    "outputId": "77fd2547-30c0-4978-b795-7ca4a65d80ed"
   },
   "outputs": [
    {
     "data": {
      "application/vnd.microsoft.datawrangler.viewer.v0+json": {
       "columns": [
        {
         "name": "index",
         "rawType": "int64",
         "type": "integer"
        },
        {
         "name": "Ash",
         "rawType": "float64",
         "type": "float"
        },
        {
         "name": "Alcalinity_of_ash",
         "rawType": "float64",
         "type": "float"
        }
       ],
       "conversionMethod": "pd.DataFrame",
       "ref": "5cc61cd8-b038-4294-8a91-1138e6539dc6",
       "rows": [
        [
         "10",
         "2.3",
         "18.0"
        ],
        [
         "11",
         "2.32",
         "16.8"
        ]
       ],
       "shape": {
        "columns": 2,
        "rows": 2
       }
      },
      "text/html": [
       "<div>\n",
       "<style scoped>\n",
       "    .dataframe tbody tr th:only-of-type {\n",
       "        vertical-align: middle;\n",
       "    }\n",
       "\n",
       "    .dataframe tbody tr th {\n",
       "        vertical-align: top;\n",
       "    }\n",
       "\n",
       "    .dataframe thead th {\n",
       "        text-align: right;\n",
       "    }\n",
       "</style>\n",
       "<table border=\"1\" class=\"dataframe\">\n",
       "  <thead>\n",
       "    <tr style=\"text-align: right;\">\n",
       "      <th></th>\n",
       "      <th>Ash</th>\n",
       "      <th>Alcalinity_of_ash</th>\n",
       "    </tr>\n",
       "  </thead>\n",
       "  <tbody>\n",
       "    <tr>\n",
       "      <th>10</th>\n",
       "      <td>2.30</td>\n",
       "      <td>18.0</td>\n",
       "    </tr>\n",
       "    <tr>\n",
       "      <th>11</th>\n",
       "      <td>2.32</td>\n",
       "      <td>16.8</td>\n",
       "    </tr>\n",
       "  </tbody>\n",
       "</table>\n",
       "</div>"
      ],
      "text/plain": [
       "     Ash  Alcalinity_of_ash\n",
       "10  2.30               18.0\n",
       "11  2.32               16.8"
      ]
     },
     "execution_count": 29,
     "metadata": {},
     "output_type": "execute_result"
    }
   ],
   "source": [
    "df.iloc[10:12,3:5] \n",
    "# selects rows 10 and 11 (inclusive) and columns 3 and 4 (inclusive)"
   ]
  },
  {
   "cell_type": "markdown",
   "metadata": {
    "id": "HBd0RmBnxYGP"
   },
   "source": [
    "When we select a single column we get a pandas Series object."
   ]
  },
  {
   "cell_type": "code",
   "execution_count": 31,
   "metadata": {
    "colab": {
     "base_uri": "https://localhost:8080/"
    },
    "executionInfo": {
     "elapsed": 3890,
     "status": "ok",
     "timestamp": 1610690042489,
     "user": {
      "displayName": "Jyoti Gupta",
      "photoUrl": "https://lh3.googleusercontent.com/a-/AOh14Gha7ARiuH9KYsBrRe_sEPEhpI5cXr55TdQBv6x_MA=s64",
      "userId": "16785426337890807929"
     },
     "user_tz": -480
    },
    "id": "CMK7Kk3qxYGQ",
    "outputId": "b31c7658-94af-40ba-f75f-f1c1b71cad04"
   },
   "outputs": [
    {
     "data": {
      "text/plain": [
       "pandas.core.series.Series"
      ]
     },
     "execution_count": 31,
     "metadata": {},
     "output_type": "execute_result"
    }
   ],
   "source": [
    "type(df[\"Alcohol\"])"
   ]
  },
  {
   "cell_type": "markdown",
   "metadata": {
    "id": "UIzu3i8pxYGS"
   },
   "source": [
    "But underneath the pandas Series, numpy is hiding."
   ]
  },
  {
   "cell_type": "code",
   "execution_count": 32,
   "metadata": {
    "colab": {
     "base_uri": "https://localhost:8080/"
    },
    "executionInfo": {
     "elapsed": 3887,
     "status": "ok",
     "timestamp": 1610690042489,
     "user": {
      "displayName": "Jyoti Gupta",
      "photoUrl": "https://lh3.googleusercontent.com/a-/AOh14Gha7ARiuH9KYsBrRe_sEPEhpI5cXr55TdQBv6x_MA=s64",
      "userId": "16785426337890807929"
     },
     "user_tz": -480
    },
    "id": "zO75dd6xxYGS",
    "outputId": "72c206b9-ed45-4ca6-b20d-8b54a8d0c12c"
   },
   "outputs": [
    {
     "data": {
      "text/plain": [
       "numpy.ndarray"
      ]
     },
     "execution_count": 32,
     "metadata": {},
     "output_type": "execute_result"
    }
   ],
   "source": [
    "# this is what makes pandas very efficient\n",
    "type(df.Alcohol.values)"
   ]
  },
  {
   "cell_type": "code",
   "execution_count": 33,
   "metadata": {},
   "outputs": [
    {
     "data": {
      "text/plain": [
       "0      14.23\n",
       "1      13.20\n",
       "2      13.16\n",
       "3      14.37\n",
       "4      13.24\n",
       "       ...  \n",
       "173    13.71\n",
       "174    13.40\n",
       "175    13.27\n",
       "176    13.17\n",
       "177    14.13\n",
       "Name: Alcohol, Length: 178, dtype: float64"
      ]
     },
     "execution_count": 33,
     "metadata": {},
     "output_type": "execute_result"
    }
   ],
   "source": [
    "df[\"Alcohol\"]"
   ]
  },
  {
   "cell_type": "markdown",
   "metadata": {
    "id": "B1huer2zxYGV"
   },
   "source": [
    "Or we can pass in a list of colnames:"
   ]
  },
  {
   "cell_type": "code",
   "execution_count": 35,
   "metadata": {},
   "outputs": [
    {
     "data": {
      "text/plain": [
       "array([14.23, 13.2 , 13.16, 14.37, 13.24, 14.2 , 14.39, 14.06, 14.83,\n",
       "       13.86, 14.1 , 14.12, 13.75, 14.75, 14.38, 13.63, 14.3 , 13.83,\n",
       "       14.19, 13.64, 14.06, 12.93, 13.71, 12.85, 13.5 , 13.05, 13.39,\n",
       "       13.3 , 13.87, 14.02, 13.73, 13.58, 13.68, 13.76, 13.51, 13.48,\n",
       "       13.28, 13.05, 13.07, 14.22, 13.56, 13.41, 13.88, 13.24, 13.05,\n",
       "       14.21, 14.38, 13.9 , 14.1 , 13.94, 13.05, 13.83, 13.82, 13.77,\n",
       "       13.74, 13.56, 14.22, 13.29, 13.72, 12.37, 12.33, 12.64, 13.67,\n",
       "       12.37, 12.17, 12.37, 13.11, 12.37, 13.34, 12.21, 12.29, 13.86,\n",
       "       13.49, 12.99, 11.96, 11.66, 13.03, 11.84, 12.33, 12.7 , 12.  ,\n",
       "       12.72, 12.08, 13.05, 11.84, 12.67, 12.16, 11.65, 11.64, 12.08,\n",
       "       12.08, 12.  , 12.69, 12.29, 11.62, 12.47, 11.81, 12.29, 12.37,\n",
       "       12.29, 12.08, 12.6 , 12.34, 11.82, 12.51, 12.42, 12.25, 12.72,\n",
       "       12.22, 11.61, 11.46, 12.52, 11.76, 11.41, 12.08, 11.03, 11.82,\n",
       "       12.42, 12.77, 12.  , 11.45, 11.56, 12.42, 13.05, 11.87, 12.07,\n",
       "       12.43, 11.79, 12.37, 12.04, 12.86, 12.88, 12.81, 12.7 , 12.51,\n",
       "       12.6 , 12.25, 12.53, 13.49, 12.84, 12.93, 13.36, 13.52, 13.62,\n",
       "       12.25, 13.16, 13.88, 12.87, 13.32, 13.08, 13.5 , 12.79, 13.11,\n",
       "       13.23, 12.58, 13.17, 13.84, 12.45, 14.34, 13.48, 12.36, 13.69,\n",
       "       12.85, 12.96, 13.78, 13.73, 13.45, 12.82, 13.58, 13.4 , 12.2 ,\n",
       "       12.77, 14.16, 13.71, 13.4 , 13.27, 13.17, 14.13])"
      ]
     },
     "execution_count": 35,
     "metadata": {},
     "output_type": "execute_result"
    }
   ],
   "source": [
    "df.Alcohol.values"
   ]
  },
  {
   "cell_type": "code",
   "execution_count": 37,
   "metadata": {
    "colab": {
     "base_uri": "https://localhost:8080/",
     "height": 204
    },
    "executionInfo": {
     "elapsed": 1026,
     "status": "ok",
     "timestamp": 1610936197244,
     "user": {
      "displayName": "Jyoti Gupta",
      "photoUrl": "https://lh3.googleusercontent.com/a-/AOh14Gha7ARiuH9KYsBrRe_sEPEhpI5cXr55TdQBv6x_MA=s64",
      "userId": "16785426337890807929"
     },
     "user_tz": -480
    },
    "id": "HHFucUC6Rs7S",
    "outputId": "6404efdb-8702-42e7-d671-5e1f26014fdf"
   },
   "outputs": [
    {
     "data": {
      "application/vnd.microsoft.datawrangler.viewer.v0+json": {
       "columns": [
        {
         "name": "index",
         "rawType": "int64",
         "type": "integer"
        },
        {
         "name": "Alcohol",
         "rawType": "float64",
         "type": "float"
        },
        {
         "name": "Hue",
         "rawType": "float64",
         "type": "float"
        }
       ],
       "conversionMethod": "pd.DataFrame",
       "ref": "d671da8c-2a2b-4016-a4c5-ea1ca0786eb7",
       "rows": [
        [
         "0",
         "14.23",
         "1.04"
        ],
        [
         "1",
         "13.2",
         "1.05"
        ],
        [
         "2",
         "13.16",
         "1.03"
        ],
        [
         "3",
         "14.37",
         "0.86"
        ],
        [
         "4",
         "13.24",
         "1.04"
        ]
       ],
       "shape": {
        "columns": 2,
        "rows": 5
       }
      },
      "text/html": [
       "<div>\n",
       "<style scoped>\n",
       "    .dataframe tbody tr th:only-of-type {\n",
       "        vertical-align: middle;\n",
       "    }\n",
       "\n",
       "    .dataframe tbody tr th {\n",
       "        vertical-align: top;\n",
       "    }\n",
       "\n",
       "    .dataframe thead th {\n",
       "        text-align: right;\n",
       "    }\n",
       "</style>\n",
       "<table border=\"1\" class=\"dataframe\">\n",
       "  <thead>\n",
       "    <tr style=\"text-align: right;\">\n",
       "      <th></th>\n",
       "      <th>Alcohol</th>\n",
       "      <th>Hue</th>\n",
       "    </tr>\n",
       "  </thead>\n",
       "  <tbody>\n",
       "    <tr>\n",
       "      <th>0</th>\n",
       "      <td>14.23</td>\n",
       "      <td>1.04</td>\n",
       "    </tr>\n",
       "    <tr>\n",
       "      <th>1</th>\n",
       "      <td>13.20</td>\n",
       "      <td>1.05</td>\n",
       "    </tr>\n",
       "    <tr>\n",
       "      <th>2</th>\n",
       "      <td>13.16</td>\n",
       "      <td>1.03</td>\n",
       "    </tr>\n",
       "    <tr>\n",
       "      <th>3</th>\n",
       "      <td>14.37</td>\n",
       "      <td>0.86</td>\n",
       "    </tr>\n",
       "    <tr>\n",
       "      <th>4</th>\n",
       "      <td>13.24</td>\n",
       "      <td>1.04</td>\n",
       "    </tr>\n",
       "  </tbody>\n",
       "</table>\n",
       "</div>"
      ],
      "text/plain": [
       "   Alcohol   Hue\n",
       "0    14.23  1.04\n",
       "1    13.20  1.05\n",
       "2    13.16  1.03\n",
       "3    14.37  0.86\n",
       "4    13.24  1.04"
      ]
     },
     "execution_count": 37,
     "metadata": {},
     "output_type": "execute_result"
    }
   ],
   "source": [
    "df[[\"Alcohol\", \"Hue\"]].head()"
   ]
  },
  {
   "cell_type": "code",
   "execution_count": 38,
   "metadata": {
    "colab": {
     "base_uri": "https://localhost:8080/",
     "height": 204
    },
    "executionInfo": {
     "elapsed": 3886,
     "status": "ok",
     "timestamp": 1610690042490,
     "user": {
      "displayName": "Jyoti Gupta",
      "photoUrl": "https://lh3.googleusercontent.com/a-/AOh14Gha7ARiuH9KYsBrRe_sEPEhpI5cXr55TdQBv6x_MA=s64",
      "userId": "16785426337890807929"
     },
     "user_tz": -480
    },
    "id": "xXgYmDMtxYGV",
    "outputId": "fc25f458-ef43-471e-c000-bae4ae64ccd3"
   },
   "outputs": [
    {
     "data": {
      "application/vnd.microsoft.datawrangler.viewer.v0+json": {
       "columns": [
        {
         "name": "index",
         "rawType": "int64",
         "type": "integer"
        },
        {
         "name": "Alcohol",
         "rawType": "float64",
         "type": "float"
        },
        {
         "name": "Ash",
         "rawType": "float64",
         "type": "float"
        }
       ],
       "conversionMethod": "pd.DataFrame",
       "ref": "cfc963f5-256c-43af-9179-596353f8c9c0",
       "rows": [
        [
         "0",
         "14.23",
         "2.43"
        ],
        [
         "1",
         "13.2",
         "2.14"
        ],
        [
         "2",
         "13.16",
         "2.67"
        ],
        [
         "3",
         "14.37",
         "2.5"
        ],
        [
         "4",
         "13.24",
         "2.87"
        ],
        [
         "5",
         "14.2",
         "2.45"
        ],
        [
         "6",
         "14.39",
         "2.45"
        ],
        [
         "7",
         "14.06",
         "2.61"
        ],
        [
         "8",
         "14.83",
         "2.17"
        ],
        [
         "9",
         "13.86",
         "2.27"
        ],
        [
         "10",
         "14.1",
         "2.3"
        ],
        [
         "11",
         "14.12",
         "2.32"
        ],
        [
         "12",
         "13.75",
         "2.41"
        ],
        [
         "13",
         "14.75",
         "2.39"
        ],
        [
         "14",
         "14.38",
         "2.38"
        ],
        [
         "15",
         "13.63",
         "2.7"
        ],
        [
         "16",
         "14.3",
         "2.72"
        ],
        [
         "17",
         "13.83",
         "2.62"
        ],
        [
         "18",
         "14.19",
         "2.48"
        ],
        [
         "19",
         "13.64",
         "2.56"
        ],
        [
         "20",
         "14.06",
         "2.28"
        ],
        [
         "21",
         "12.93",
         "2.65"
        ],
        [
         "22",
         "13.71",
         "2.36"
        ],
        [
         "23",
         "12.85",
         "2.52"
        ],
        [
         "24",
         "13.5",
         "2.61"
        ],
        [
         "25",
         "13.05",
         "3.22"
        ],
        [
         "26",
         "13.39",
         "2.62"
        ],
        [
         "27",
         "13.3",
         "2.14"
        ],
        [
         "28",
         "13.87",
         "2.8"
        ],
        [
         "29",
         "14.02",
         "2.21"
        ],
        [
         "30",
         "13.73",
         "2.7"
        ],
        [
         "31",
         "13.58",
         "2.36"
        ],
        [
         "32",
         "13.68",
         "2.36"
        ],
        [
         "33",
         "13.76",
         "2.7"
        ],
        [
         "34",
         "13.51",
         "2.65"
        ],
        [
         "35",
         "13.48",
         "2.41"
        ],
        [
         "36",
         "13.28",
         "2.84"
        ],
        [
         "37",
         "13.05",
         "2.55"
        ],
        [
         "38",
         "13.07",
         "2.1"
        ],
        [
         "39",
         "14.22",
         "2.51"
        ],
        [
         "40",
         "13.56",
         "2.31"
        ],
        [
         "41",
         "13.41",
         "2.12"
        ],
        [
         "42",
         "13.88",
         "2.59"
        ],
        [
         "43",
         "13.24",
         "2.29"
        ],
        [
         "44",
         "13.05",
         "2.1"
        ],
        [
         "45",
         "14.21",
         "2.44"
        ],
        [
         "46",
         "14.38",
         "2.28"
        ],
        [
         "47",
         "13.9",
         "2.12"
        ],
        [
         "48",
         "14.1",
         "2.4"
        ],
        [
         "49",
         "13.94",
         "2.27"
        ]
       ],
       "shape": {
        "columns": 2,
        "rows": 178
       }
      },
      "text/html": [
       "<div>\n",
       "<style scoped>\n",
       "    .dataframe tbody tr th:only-of-type {\n",
       "        vertical-align: middle;\n",
       "    }\n",
       "\n",
       "    .dataframe tbody tr th {\n",
       "        vertical-align: top;\n",
       "    }\n",
       "\n",
       "    .dataframe thead th {\n",
       "        text-align: right;\n",
       "    }\n",
       "</style>\n",
       "<table border=\"1\" class=\"dataframe\">\n",
       "  <thead>\n",
       "    <tr style=\"text-align: right;\">\n",
       "      <th></th>\n",
       "      <th>Alcohol</th>\n",
       "      <th>Ash</th>\n",
       "    </tr>\n",
       "  </thead>\n",
       "  <tbody>\n",
       "    <tr>\n",
       "      <th>0</th>\n",
       "      <td>14.23</td>\n",
       "      <td>2.43</td>\n",
       "    </tr>\n",
       "    <tr>\n",
       "      <th>1</th>\n",
       "      <td>13.20</td>\n",
       "      <td>2.14</td>\n",
       "    </tr>\n",
       "    <tr>\n",
       "      <th>2</th>\n",
       "      <td>13.16</td>\n",
       "      <td>2.67</td>\n",
       "    </tr>\n",
       "    <tr>\n",
       "      <th>3</th>\n",
       "      <td>14.37</td>\n",
       "      <td>2.50</td>\n",
       "    </tr>\n",
       "    <tr>\n",
       "      <th>4</th>\n",
       "      <td>13.24</td>\n",
       "      <td>2.87</td>\n",
       "    </tr>\n",
       "    <tr>\n",
       "      <th>...</th>\n",
       "      <td>...</td>\n",
       "      <td>...</td>\n",
       "    </tr>\n",
       "    <tr>\n",
       "      <th>173</th>\n",
       "      <td>13.71</td>\n",
       "      <td>2.45</td>\n",
       "    </tr>\n",
       "    <tr>\n",
       "      <th>174</th>\n",
       "      <td>13.40</td>\n",
       "      <td>2.48</td>\n",
       "    </tr>\n",
       "    <tr>\n",
       "      <th>175</th>\n",
       "      <td>13.27</td>\n",
       "      <td>2.26</td>\n",
       "    </tr>\n",
       "    <tr>\n",
       "      <th>176</th>\n",
       "      <td>13.17</td>\n",
       "      <td>2.37</td>\n",
       "    </tr>\n",
       "    <tr>\n",
       "      <th>177</th>\n",
       "      <td>14.13</td>\n",
       "      <td>2.74</td>\n",
       "    </tr>\n",
       "  </tbody>\n",
       "</table>\n",
       "<p>178 rows × 2 columns</p>\n",
       "</div>"
      ],
      "text/plain": [
       "     Alcohol   Ash\n",
       "0      14.23  2.43\n",
       "1      13.20  2.14\n",
       "2      13.16  2.67\n",
       "3      14.37  2.50\n",
       "4      13.24  2.87\n",
       "..       ...   ...\n",
       "173    13.71  2.45\n",
       "174    13.40  2.48\n",
       "175    13.27  2.26\n",
       "176    13.17  2.37\n",
       "177    14.13  2.74\n",
       "\n",
       "[178 rows x 2 columns]"
      ]
     },
     "execution_count": 38,
     "metadata": {},
     "output_type": "execute_result"
    }
   ],
   "source": [
    "df[[\"Alcohol\",\"Ash\"]] #select multiple columns"
   ]
  },
  {
   "cell_type": "markdown",
   "metadata": {
    "id": "LuqKeQejxYGY"
   },
   "source": [
    "Notice the type returned, when we select multple columns we get a dataframe back rather than a pandas series"
   ]
  },
  {
   "cell_type": "code",
   "execution_count": 39,
   "metadata": {
    "colab": {
     "base_uri": "https://localhost:8080/"
    },
    "executionInfo": {
     "elapsed": 3883,
     "status": "ok",
     "timestamp": 1610690042490,
     "user": {
      "displayName": "Jyoti Gupta",
      "photoUrl": "https://lh3.googleusercontent.com/a-/AOh14Gha7ARiuH9KYsBrRe_sEPEhpI5cXr55TdQBv6x_MA=s64",
      "userId": "16785426337890807929"
     },
     "user_tz": -480
    },
    "id": "jAoW7WldxYGY",
    "outputId": "b66b712c-9e92-405c-f934-dd1e8af06b52"
   },
   "outputs": [
    {
     "data": {
      "text/plain": [
       "pandas.core.frame.DataFrame"
      ]
     },
     "execution_count": 39,
     "metadata": {},
     "output_type": "execute_result"
    }
   ],
   "source": [
    "type(df[[\"Alcohol\",\"Ash\"]]) #type is dataframe"
   ]
  },
  {
   "cell_type": "code",
   "execution_count": 41,
   "metadata": {
    "colab": {
     "base_uri": "https://localhost:8080/",
     "height": 204
    },
    "executionInfo": {
     "elapsed": 846,
     "status": "ok",
     "timestamp": 1610936337377,
     "user": {
      "displayName": "Jyoti Gupta",
      "photoUrl": "https://lh3.googleusercontent.com/a-/AOh14Gha7ARiuH9KYsBrRe_sEPEhpI5cXr55TdQBv6x_MA=s64",
      "userId": "16785426337890807929"
     },
     "user_tz": -480
    },
    "id": "a9HvxJEeSRw2",
    "outputId": "b801ecd7-a525-4622-96ea-a49e2498e858"
   },
   "outputs": [
    {
     "data": {
      "application/vnd.microsoft.datawrangler.viewer.v0+json": {
       "columns": [
        {
         "name": "index",
         "rawType": "int64",
         "type": "integer"
        },
        {
         "name": "Ash",
         "rawType": "float64",
         "type": "float"
        }
       ],
       "conversionMethod": "pd.DataFrame",
       "ref": "2c902c76-0063-461c-9eaf-47b53b3c4499",
       "rows": [
        [
         "0",
         "2.43"
        ],
        [
         "1",
         "2.14"
        ],
        [
         "2",
         "2.67"
        ],
        [
         "3",
         "2.5"
        ],
        [
         "4",
         "2.87"
        ]
       ],
       "shape": {
        "columns": 1,
        "rows": 5
       }
      },
      "text/html": [
       "<div>\n",
       "<style scoped>\n",
       "    .dataframe tbody tr th:only-of-type {\n",
       "        vertical-align: middle;\n",
       "    }\n",
       "\n",
       "    .dataframe tbody tr th {\n",
       "        vertical-align: top;\n",
       "    }\n",
       "\n",
       "    .dataframe thead th {\n",
       "        text-align: right;\n",
       "    }\n",
       "</style>\n",
       "<table border=\"1\" class=\"dataframe\">\n",
       "  <thead>\n",
       "    <tr style=\"text-align: right;\">\n",
       "      <th></th>\n",
       "      <th>Ash</th>\n",
       "    </tr>\n",
       "  </thead>\n",
       "  <tbody>\n",
       "    <tr>\n",
       "      <th>0</th>\n",
       "      <td>2.43</td>\n",
       "    </tr>\n",
       "    <tr>\n",
       "      <th>1</th>\n",
       "      <td>2.14</td>\n",
       "    </tr>\n",
       "    <tr>\n",
       "      <th>2</th>\n",
       "      <td>2.67</td>\n",
       "    </tr>\n",
       "    <tr>\n",
       "      <th>3</th>\n",
       "      <td>2.50</td>\n",
       "    </tr>\n",
       "    <tr>\n",
       "      <th>4</th>\n",
       "      <td>2.87</td>\n",
       "    </tr>\n",
       "  </tbody>\n",
       "</table>\n",
       "</div>"
      ],
      "text/plain": [
       "    Ash\n",
       "0  2.43\n",
       "1  2.14\n",
       "2  2.67\n",
       "3  2.50\n",
       "4  2.87"
      ]
     },
     "execution_count": 41,
     "metadata": {},
     "output_type": "execute_result"
    }
   ],
   "source": [
    "df[[\"Ash\"]].head()"
   ]
  },
  {
   "cell_type": "markdown",
   "metadata": {
    "id": "6DRQbzo4xYGb"
   },
   "source": [
    "## Rows\n",
    "\n",
    "We can also select whole rows."
   ]
  },
  {
   "cell_type": "code",
   "execution_count": 43,
   "metadata": {
    "colab": {
     "base_uri": "https://localhost:8080/",
     "height": 193
    },
    "executionInfo": {
     "elapsed": 916,
     "status": "ok",
     "timestamp": 1610936419471,
     "user": {
      "displayName": "Jyoti Gupta",
      "photoUrl": "https://lh3.googleusercontent.com/a-/AOh14Gha7ARiuH9KYsBrRe_sEPEhpI5cXr55TdQBv6x_MA=s64",
      "userId": "16785426337890807929"
     },
     "user_tz": -480
    },
    "id": "v0bXlBp1Ss_w",
    "outputId": "5dd5f3f9-a83b-442a-a7aa-14649d365e80"
   },
   "outputs": [
    {
     "data": {
      "application/vnd.microsoft.datawrangler.viewer.v0+json": {
       "columns": [
        {
         "name": "index",
         "rawType": "int64",
         "type": "integer"
        },
        {
         "name": "Class",
         "rawType": "int64",
         "type": "integer"
        },
        {
         "name": "Alcohol",
         "rawType": "float64",
         "type": "float"
        },
        {
         "name": "Malic acid",
         "rawType": "float64",
         "type": "float"
        },
        {
         "name": "Ash",
         "rawType": "float64",
         "type": "float"
        },
        {
         "name": "Alcalinity_of_ash",
         "rawType": "float64",
         "type": "float"
        },
        {
         "name": "Magnesium",
         "rawType": "int64",
         "type": "integer"
        },
        {
         "name": "Total_phenols",
         "rawType": "float64",
         "type": "float"
        },
        {
         "name": "Flavanoids",
         "rawType": "float64",
         "type": "float"
        },
        {
         "name": "Nonflavanoid_phenols",
         "rawType": "float64",
         "type": "float"
        },
        {
         "name": "Proanthocyanins",
         "rawType": "float64",
         "type": "float"
        },
        {
         "name": "Color_intensity",
         "rawType": "float64",
         "type": "float"
        },
        {
         "name": "Hue",
         "rawType": "float64",
         "type": "float"
        },
        {
         "name": "OD280_by_OD315",
         "rawType": "float64",
         "type": "float"
        },
        {
         "name": "Proline",
         "rawType": "int64",
         "type": "integer"
        }
       ],
       "conversionMethod": "pd.DataFrame",
       "ref": "b9bf925a-9067-44a2-95a5-c675a37bc1ea",
       "rows": [
        [
         "1",
         "1",
         "13.2",
         "1.78",
         "2.14",
         "11.2",
         "100",
         "2.65",
         "2.76",
         "0.26",
         "1.28",
         "4.38",
         "1.05",
         "3.4",
         "1050"
        ],
        [
         "2",
         "1",
         "13.16",
         "2.36",
         "2.67",
         "18.6",
         "101",
         "2.8",
         "3.24",
         "0.3",
         "2.81",
         "5.68",
         "1.03",
         "3.17",
         "1185"
        ],
        [
         "3",
         "1",
         "14.37",
         "1.95",
         "2.5",
         "16.8",
         "113",
         "3.85",
         "3.49",
         "0.24",
         "2.18",
         "7.8",
         "0.86",
         "3.45",
         "1480"
        ],
        [
         "4",
         "1",
         "13.24",
         "2.59",
         "2.87",
         "21.0",
         "118",
         "2.8",
         "2.69",
         "0.39",
         "1.82",
         "4.32",
         "1.04",
         "2.93",
         "735"
        ]
       ],
       "shape": {
        "columns": 14,
        "rows": 4
       }
      },
      "text/html": [
       "<div>\n",
       "<style scoped>\n",
       "    .dataframe tbody tr th:only-of-type {\n",
       "        vertical-align: middle;\n",
       "    }\n",
       "\n",
       "    .dataframe tbody tr th {\n",
       "        vertical-align: top;\n",
       "    }\n",
       "\n",
       "    .dataframe thead th {\n",
       "        text-align: right;\n",
       "    }\n",
       "</style>\n",
       "<table border=\"1\" class=\"dataframe\">\n",
       "  <thead>\n",
       "    <tr style=\"text-align: right;\">\n",
       "      <th></th>\n",
       "      <th>Class</th>\n",
       "      <th>Alcohol</th>\n",
       "      <th>Malic acid</th>\n",
       "      <th>Ash</th>\n",
       "      <th>Alcalinity_of_ash</th>\n",
       "      <th>Magnesium</th>\n",
       "      <th>Total_phenols</th>\n",
       "      <th>Flavanoids</th>\n",
       "      <th>Nonflavanoid_phenols</th>\n",
       "      <th>Proanthocyanins</th>\n",
       "      <th>Color_intensity</th>\n",
       "      <th>Hue</th>\n",
       "      <th>OD280_by_OD315</th>\n",
       "      <th>Proline</th>\n",
       "    </tr>\n",
       "  </thead>\n",
       "  <tbody>\n",
       "    <tr>\n",
       "      <th>1</th>\n",
       "      <td>1</td>\n",
       "      <td>13.20</td>\n",
       "      <td>1.78</td>\n",
       "      <td>2.14</td>\n",
       "      <td>11.2</td>\n",
       "      <td>100</td>\n",
       "      <td>2.65</td>\n",
       "      <td>2.76</td>\n",
       "      <td>0.26</td>\n",
       "      <td>1.28</td>\n",
       "      <td>4.38</td>\n",
       "      <td>1.05</td>\n",
       "      <td>3.40</td>\n",
       "      <td>1050</td>\n",
       "    </tr>\n",
       "    <tr>\n",
       "      <th>2</th>\n",
       "      <td>1</td>\n",
       "      <td>13.16</td>\n",
       "      <td>2.36</td>\n",
       "      <td>2.67</td>\n",
       "      <td>18.6</td>\n",
       "      <td>101</td>\n",
       "      <td>2.80</td>\n",
       "      <td>3.24</td>\n",
       "      <td>0.30</td>\n",
       "      <td>2.81</td>\n",
       "      <td>5.68</td>\n",
       "      <td>1.03</td>\n",
       "      <td>3.17</td>\n",
       "      <td>1185</td>\n",
       "    </tr>\n",
       "    <tr>\n",
       "      <th>3</th>\n",
       "      <td>1</td>\n",
       "      <td>14.37</td>\n",
       "      <td>1.95</td>\n",
       "      <td>2.50</td>\n",
       "      <td>16.8</td>\n",
       "      <td>113</td>\n",
       "      <td>3.85</td>\n",
       "      <td>3.49</td>\n",
       "      <td>0.24</td>\n",
       "      <td>2.18</td>\n",
       "      <td>7.80</td>\n",
       "      <td>0.86</td>\n",
       "      <td>3.45</td>\n",
       "      <td>1480</td>\n",
       "    </tr>\n",
       "    <tr>\n",
       "      <th>4</th>\n",
       "      <td>1</td>\n",
       "      <td>13.24</td>\n",
       "      <td>2.59</td>\n",
       "      <td>2.87</td>\n",
       "      <td>21.0</td>\n",
       "      <td>118</td>\n",
       "      <td>2.80</td>\n",
       "      <td>2.69</td>\n",
       "      <td>0.39</td>\n",
       "      <td>1.82</td>\n",
       "      <td>4.32</td>\n",
       "      <td>1.04</td>\n",
       "      <td>2.93</td>\n",
       "      <td>735</td>\n",
       "    </tr>\n",
       "  </tbody>\n",
       "</table>\n",
       "</div>"
      ],
      "text/plain": [
       "   Class  Alcohol  Malic acid   Ash  Alcalinity_of_ash  Magnesium  \\\n",
       "1      1    13.20        1.78  2.14               11.2        100   \n",
       "2      1    13.16        2.36  2.67               18.6        101   \n",
       "3      1    14.37        1.95  2.50               16.8        113   \n",
       "4      1    13.24        2.59  2.87               21.0        118   \n",
       "\n",
       "   Total_phenols  Flavanoids  Nonflavanoid_phenols  Proanthocyanins  \\\n",
       "1           2.65        2.76                  0.26             1.28   \n",
       "2           2.80        3.24                  0.30             2.81   \n",
       "3           3.85        3.49                  0.24             2.18   \n",
       "4           2.80        2.69                  0.39             1.82   \n",
       "\n",
       "   Color_intensity   Hue  OD280_by_OD315  Proline  \n",
       "1             4.38  1.05            3.40     1050  \n",
       "2             5.68  1.03            3.17     1185  \n",
       "3             7.80  0.86            3.45     1480  \n",
       "4             4.32  1.04            2.93      735  "
      ]
     },
     "execution_count": 43,
     "metadata": {},
     "output_type": "execute_result"
    }
   ],
   "source": [
    "df[1:5]\n",
    "# includes rows 1, 2, 3, and 4"
   ]
  },
  {
   "cell_type": "code",
   "execution_count": 44,
   "metadata": {
    "colab": {
     "base_uri": "https://localhost:8080/",
     "height": 162
    },
    "executionInfo": {
     "elapsed": 701,
     "status": "ok",
     "timestamp": 1610936372751,
     "user": {
      "displayName": "Jyoti Gupta",
      "photoUrl": "https://lh3.googleusercontent.com/a-/AOh14Gha7ARiuH9KYsBrRe_sEPEhpI5cXr55TdQBv6x_MA=s64",
      "userId": "16785426337890807929"
     },
     "user_tz": -480
    },
    "id": "lU6mwp7_xYGb",
    "outputId": "fdb6808d-8242-423e-f3fc-28d7c93d64fd"
   },
   "outputs": [
    {
     "data": {
      "application/vnd.microsoft.datawrangler.viewer.v0+json": {
       "columns": [
        {
         "name": "index",
         "rawType": "int64",
         "type": "integer"
        },
        {
         "name": "Class",
         "rawType": "int64",
         "type": "integer"
        },
        {
         "name": "Alcohol",
         "rawType": "float64",
         "type": "float"
        },
        {
         "name": "Malic acid",
         "rawType": "float64",
         "type": "float"
        },
        {
         "name": "Ash",
         "rawType": "float64",
         "type": "float"
        },
        {
         "name": "Alcalinity_of_ash",
         "rawType": "float64",
         "type": "float"
        },
        {
         "name": "Magnesium",
         "rawType": "int64",
         "type": "integer"
        },
        {
         "name": "Total_phenols",
         "rawType": "float64",
         "type": "float"
        },
        {
         "name": "Flavanoids",
         "rawType": "float64",
         "type": "float"
        },
        {
         "name": "Nonflavanoid_phenols",
         "rawType": "float64",
         "type": "float"
        },
        {
         "name": "Proanthocyanins",
         "rawType": "float64",
         "type": "float"
        },
        {
         "name": "Color_intensity",
         "rawType": "float64",
         "type": "float"
        },
        {
         "name": "Hue",
         "rawType": "float64",
         "type": "float"
        },
        {
         "name": "OD280_by_OD315",
         "rawType": "float64",
         "type": "float"
        },
        {
         "name": "Proline",
         "rawType": "int64",
         "type": "integer"
        }
       ],
       "conversionMethod": "pd.DataFrame",
       "ref": "92a4bc1b-fcd0-4eee-b6fa-74974a7a7288",
       "rows": [
        [
         "0",
         "1",
         "14.23",
         "1.71",
         "2.43",
         "15.6",
         "127",
         "2.8",
         "3.06",
         "0.28",
         "2.29",
         "5.64",
         "1.04",
         "3.92",
         "1065"
        ],
        [
         "1",
         "1",
         "13.2",
         "1.78",
         "2.14",
         "11.2",
         "100",
         "2.65",
         "2.76",
         "0.26",
         "1.28",
         "4.38",
         "1.05",
         "3.4",
         "1050"
        ],
        [
         "2",
         "1",
         "13.16",
         "2.36",
         "2.67",
         "18.6",
         "101",
         "2.8",
         "3.24",
         "0.3",
         "2.81",
         "5.68",
         "1.03",
         "3.17",
         "1185"
        ]
       ],
       "shape": {
        "columns": 14,
        "rows": 3
       }
      },
      "text/html": [
       "<div>\n",
       "<style scoped>\n",
       "    .dataframe tbody tr th:only-of-type {\n",
       "        vertical-align: middle;\n",
       "    }\n",
       "\n",
       "    .dataframe tbody tr th {\n",
       "        vertical-align: top;\n",
       "    }\n",
       "\n",
       "    .dataframe thead th {\n",
       "        text-align: right;\n",
       "    }\n",
       "</style>\n",
       "<table border=\"1\" class=\"dataframe\">\n",
       "  <thead>\n",
       "    <tr style=\"text-align: right;\">\n",
       "      <th></th>\n",
       "      <th>Class</th>\n",
       "      <th>Alcohol</th>\n",
       "      <th>Malic acid</th>\n",
       "      <th>Ash</th>\n",
       "      <th>Alcalinity_of_ash</th>\n",
       "      <th>Magnesium</th>\n",
       "      <th>Total_phenols</th>\n",
       "      <th>Flavanoids</th>\n",
       "      <th>Nonflavanoid_phenols</th>\n",
       "      <th>Proanthocyanins</th>\n",
       "      <th>Color_intensity</th>\n",
       "      <th>Hue</th>\n",
       "      <th>OD280_by_OD315</th>\n",
       "      <th>Proline</th>\n",
       "    </tr>\n",
       "  </thead>\n",
       "  <tbody>\n",
       "    <tr>\n",
       "      <th>0</th>\n",
       "      <td>1</td>\n",
       "      <td>14.23</td>\n",
       "      <td>1.71</td>\n",
       "      <td>2.43</td>\n",
       "      <td>15.6</td>\n",
       "      <td>127</td>\n",
       "      <td>2.80</td>\n",
       "      <td>3.06</td>\n",
       "      <td>0.28</td>\n",
       "      <td>2.29</td>\n",
       "      <td>5.64</td>\n",
       "      <td>1.04</td>\n",
       "      <td>3.92</td>\n",
       "      <td>1065</td>\n",
       "    </tr>\n",
       "    <tr>\n",
       "      <th>1</th>\n",
       "      <td>1</td>\n",
       "      <td>13.20</td>\n",
       "      <td>1.78</td>\n",
       "      <td>2.14</td>\n",
       "      <td>11.2</td>\n",
       "      <td>100</td>\n",
       "      <td>2.65</td>\n",
       "      <td>2.76</td>\n",
       "      <td>0.26</td>\n",
       "      <td>1.28</td>\n",
       "      <td>4.38</td>\n",
       "      <td>1.05</td>\n",
       "      <td>3.40</td>\n",
       "      <td>1050</td>\n",
       "    </tr>\n",
       "    <tr>\n",
       "      <th>2</th>\n",
       "      <td>1</td>\n",
       "      <td>13.16</td>\n",
       "      <td>2.36</td>\n",
       "      <td>2.67</td>\n",
       "      <td>18.6</td>\n",
       "      <td>101</td>\n",
       "      <td>2.80</td>\n",
       "      <td>3.24</td>\n",
       "      <td>0.30</td>\n",
       "      <td>2.81</td>\n",
       "      <td>5.68</td>\n",
       "      <td>1.03</td>\n",
       "      <td>3.17</td>\n",
       "      <td>1185</td>\n",
       "    </tr>\n",
       "  </tbody>\n",
       "</table>\n",
       "</div>"
      ],
      "text/plain": [
       "   Class  Alcohol  Malic acid   Ash  Alcalinity_of_ash  Magnesium  \\\n",
       "0      1    14.23        1.71  2.43               15.6        127   \n",
       "1      1    13.20        1.78  2.14               11.2        100   \n",
       "2      1    13.16        2.36  2.67               18.6        101   \n",
       "\n",
       "   Total_phenols  Flavanoids  Nonflavanoid_phenols  Proanthocyanins  \\\n",
       "0           2.80        3.06                  0.28             2.29   \n",
       "1           2.65        2.76                  0.26             1.28   \n",
       "2           2.80        3.24                  0.30             2.81   \n",
       "\n",
       "   Color_intensity   Hue  OD280_by_OD315  Proline  \n",
       "0             5.64  1.04            3.92     1065  \n",
       "1             4.38  1.05            3.40     1050  \n",
       "2             5.68  1.03            3.17     1185  "
      ]
     },
     "execution_count": 44,
     "metadata": {},
     "output_type": "execute_result"
    }
   ],
   "source": [
    "df[:3] # top 3"
   ]
  },
  {
   "cell_type": "code",
   "execution_count": 45,
   "metadata": {
    "colab": {
     "base_uri": "https://localhost:8080/",
     "height": 162
    },
    "executionInfo": {
     "elapsed": 1037,
     "status": "ok",
     "timestamp": 1610936373091,
     "user": {
      "displayName": "Jyoti Gupta",
      "photoUrl": "https://lh3.googleusercontent.com/a-/AOh14Gha7ARiuH9KYsBrRe_sEPEhpI5cXr55TdQBv6x_MA=s64",
      "userId": "16785426337890807929"
     },
     "user_tz": -480
    },
    "id": "r0l5ketwxYGe",
    "outputId": "f0a63570-c7d8-4c3b-e872-7a037d76a870"
   },
   "outputs": [
    {
     "data": {
      "application/vnd.microsoft.datawrangler.viewer.v0+json": {
       "columns": [
        {
         "name": "index",
         "rawType": "int64",
         "type": "integer"
        },
        {
         "name": "Class",
         "rawType": "int64",
         "type": "integer"
        },
        {
         "name": "Alcohol",
         "rawType": "float64",
         "type": "float"
        },
        {
         "name": "Malic acid",
         "rawType": "float64",
         "type": "float"
        },
        {
         "name": "Ash",
         "rawType": "float64",
         "type": "float"
        },
        {
         "name": "Alcalinity_of_ash",
         "rawType": "float64",
         "type": "float"
        },
        {
         "name": "Magnesium",
         "rawType": "int64",
         "type": "integer"
        },
        {
         "name": "Total_phenols",
         "rawType": "float64",
         "type": "float"
        },
        {
         "name": "Flavanoids",
         "rawType": "float64",
         "type": "float"
        },
        {
         "name": "Nonflavanoid_phenols",
         "rawType": "float64",
         "type": "float"
        },
        {
         "name": "Proanthocyanins",
         "rawType": "float64",
         "type": "float"
        },
        {
         "name": "Color_intensity",
         "rawType": "float64",
         "type": "float"
        },
        {
         "name": "Hue",
         "rawType": "float64",
         "type": "float"
        },
        {
         "name": "OD280_by_OD315",
         "rawType": "float64",
         "type": "float"
        },
        {
         "name": "Proline",
         "rawType": "int64",
         "type": "integer"
        }
       ],
       "conversionMethod": "pd.DataFrame",
       "ref": "1d457bc2-1f35-4e92-87ba-6b004409ec35",
       "rows": [
        [
         "175",
         "3",
         "13.27",
         "4.28",
         "2.26",
         "20.0",
         "120",
         "1.59",
         "0.69",
         "0.43",
         "1.35",
         "10.2",
         "0.59",
         "1.56",
         "835"
        ],
        [
         "176",
         "3",
         "13.17",
         "2.59",
         "2.37",
         "20.0",
         "120",
         "1.65",
         "0.68",
         "0.53",
         "1.46",
         "9.3",
         "0.6",
         "1.62",
         "840"
        ],
        [
         "177",
         "3",
         "14.13",
         "4.1",
         "2.74",
         "24.5",
         "96",
         "2.05",
         "0.76",
         "0.56",
         "1.35",
         "9.2",
         "0.61",
         "1.6",
         "560"
        ]
       ],
       "shape": {
        "columns": 14,
        "rows": 3
       }
      },
      "text/html": [
       "<div>\n",
       "<style scoped>\n",
       "    .dataframe tbody tr th:only-of-type {\n",
       "        vertical-align: middle;\n",
       "    }\n",
       "\n",
       "    .dataframe tbody tr th {\n",
       "        vertical-align: top;\n",
       "    }\n",
       "\n",
       "    .dataframe thead th {\n",
       "        text-align: right;\n",
       "    }\n",
       "</style>\n",
       "<table border=\"1\" class=\"dataframe\">\n",
       "  <thead>\n",
       "    <tr style=\"text-align: right;\">\n",
       "      <th></th>\n",
       "      <th>Class</th>\n",
       "      <th>Alcohol</th>\n",
       "      <th>Malic acid</th>\n",
       "      <th>Ash</th>\n",
       "      <th>Alcalinity_of_ash</th>\n",
       "      <th>Magnesium</th>\n",
       "      <th>Total_phenols</th>\n",
       "      <th>Flavanoids</th>\n",
       "      <th>Nonflavanoid_phenols</th>\n",
       "      <th>Proanthocyanins</th>\n",
       "      <th>Color_intensity</th>\n",
       "      <th>Hue</th>\n",
       "      <th>OD280_by_OD315</th>\n",
       "      <th>Proline</th>\n",
       "    </tr>\n",
       "  </thead>\n",
       "  <tbody>\n",
       "    <tr>\n",
       "      <th>175</th>\n",
       "      <td>3</td>\n",
       "      <td>13.27</td>\n",
       "      <td>4.28</td>\n",
       "      <td>2.26</td>\n",
       "      <td>20.0</td>\n",
       "      <td>120</td>\n",
       "      <td>1.59</td>\n",
       "      <td>0.69</td>\n",
       "      <td>0.43</td>\n",
       "      <td>1.35</td>\n",
       "      <td>10.2</td>\n",
       "      <td>0.59</td>\n",
       "      <td>1.56</td>\n",
       "      <td>835</td>\n",
       "    </tr>\n",
       "    <tr>\n",
       "      <th>176</th>\n",
       "      <td>3</td>\n",
       "      <td>13.17</td>\n",
       "      <td>2.59</td>\n",
       "      <td>2.37</td>\n",
       "      <td>20.0</td>\n",
       "      <td>120</td>\n",
       "      <td>1.65</td>\n",
       "      <td>0.68</td>\n",
       "      <td>0.53</td>\n",
       "      <td>1.46</td>\n",
       "      <td>9.3</td>\n",
       "      <td>0.60</td>\n",
       "      <td>1.62</td>\n",
       "      <td>840</td>\n",
       "    </tr>\n",
       "    <tr>\n",
       "      <th>177</th>\n",
       "      <td>3</td>\n",
       "      <td>14.13</td>\n",
       "      <td>4.10</td>\n",
       "      <td>2.74</td>\n",
       "      <td>24.5</td>\n",
       "      <td>96</td>\n",
       "      <td>2.05</td>\n",
       "      <td>0.76</td>\n",
       "      <td>0.56</td>\n",
       "      <td>1.35</td>\n",
       "      <td>9.2</td>\n",
       "      <td>0.61</td>\n",
       "      <td>1.60</td>\n",
       "      <td>560</td>\n",
       "    </tr>\n",
       "  </tbody>\n",
       "</table>\n",
       "</div>"
      ],
      "text/plain": [
       "     Class  Alcohol  Malic acid   Ash  Alcalinity_of_ash  Magnesium  \\\n",
       "175      3    13.27        4.28  2.26               20.0        120   \n",
       "176      3    13.17        2.59  2.37               20.0        120   \n",
       "177      3    14.13        4.10  2.74               24.5         96   \n",
       "\n",
       "     Total_phenols  Flavanoids  Nonflavanoid_phenols  Proanthocyanins  \\\n",
       "175           1.59        0.69                  0.43             1.35   \n",
       "176           1.65        0.68                  0.53             1.46   \n",
       "177           2.05        0.76                  0.56             1.35   \n",
       "\n",
       "     Color_intensity   Hue  OD280_by_OD315  Proline  \n",
       "175             10.2  0.59            1.56      835  \n",
       "176              9.3  0.60            1.62      840  \n",
       "177              9.2  0.61            1.60      560  "
      ]
     },
     "execution_count": 45,
     "metadata": {},
     "output_type": "execute_result"
    }
   ],
   "source": [
    "df[-3:] # last 3"
   ]
  },
  {
   "cell_type": "code",
   "execution_count": 46,
   "metadata": {
    "colab": {
     "base_uri": "https://localhost:8080/",
     "height": 162
    },
    "executionInfo": {
     "elapsed": 1034,
     "status": "ok",
     "timestamp": 1610936373091,
     "user": {
      "displayName": "Jyoti Gupta",
      "photoUrl": "https://lh3.googleusercontent.com/a-/AOh14Gha7ARiuH9KYsBrRe_sEPEhpI5cXr55TdQBv6x_MA=s64",
      "userId": "16785426337890807929"
     },
     "user_tz": -480
    },
    "id": "KZjca0C2xYGg",
    "outputId": "bfa5b8b1-fb08-40f9-ed25-c45f9eab7c36"
   },
   "outputs": [
    {
     "data": {
      "application/vnd.microsoft.datawrangler.viewer.v0+json": {
       "columns": [
        {
         "name": "index",
         "rawType": "int64",
         "type": "integer"
        },
        {
         "name": "Class",
         "rawType": "int64",
         "type": "integer"
        },
        {
         "name": "Alcohol",
         "rawType": "float64",
         "type": "float"
        },
        {
         "name": "Malic acid",
         "rawType": "float64",
         "type": "float"
        },
        {
         "name": "Ash",
         "rawType": "float64",
         "type": "float"
        },
        {
         "name": "Alcalinity_of_ash",
         "rawType": "float64",
         "type": "float"
        },
        {
         "name": "Magnesium",
         "rawType": "int64",
         "type": "integer"
        },
        {
         "name": "Total_phenols",
         "rawType": "float64",
         "type": "float"
        },
        {
         "name": "Flavanoids",
         "rawType": "float64",
         "type": "float"
        },
        {
         "name": "Nonflavanoid_phenols",
         "rawType": "float64",
         "type": "float"
        },
        {
         "name": "Proanthocyanins",
         "rawType": "float64",
         "type": "float"
        },
        {
         "name": "Color_intensity",
         "rawType": "float64",
         "type": "float"
        },
        {
         "name": "Hue",
         "rawType": "float64",
         "type": "float"
        },
        {
         "name": "OD280_by_OD315",
         "rawType": "float64",
         "type": "float"
        },
        {
         "name": "Proline",
         "rawType": "int64",
         "type": "integer"
        }
       ],
       "conversionMethod": "pd.DataFrame",
       "ref": "763fae60-872e-41f2-8f91-0c70710d31c1",
       "rows": [
        [
         "5",
         "1",
         "14.2",
         "1.76",
         "2.45",
         "15.2",
         "112",
         "3.27",
         "3.39",
         "0.34",
         "1.97",
         "6.75",
         "1.05",
         "2.85",
         "1450"
        ],
        [
         "6",
         "1",
         "14.39",
         "1.87",
         "2.45",
         "14.6",
         "96",
         "2.5",
         "2.52",
         "0.3",
         "1.98",
         "5.25",
         "1.02",
         "3.58",
         "1290"
        ],
        [
         "7",
         "1",
         "14.06",
         "2.15",
         "2.61",
         "17.6",
         "121",
         "2.6",
         "2.51",
         "0.31",
         "1.25",
         "5.05",
         "1.06",
         "3.58",
         "1295"
        ]
       ],
       "shape": {
        "columns": 14,
        "rows": 3
       }
      },
      "text/html": [
       "<div>\n",
       "<style scoped>\n",
       "    .dataframe tbody tr th:only-of-type {\n",
       "        vertical-align: middle;\n",
       "    }\n",
       "\n",
       "    .dataframe tbody tr th {\n",
       "        vertical-align: top;\n",
       "    }\n",
       "\n",
       "    .dataframe thead th {\n",
       "        text-align: right;\n",
       "    }\n",
       "</style>\n",
       "<table border=\"1\" class=\"dataframe\">\n",
       "  <thead>\n",
       "    <tr style=\"text-align: right;\">\n",
       "      <th></th>\n",
       "      <th>Class</th>\n",
       "      <th>Alcohol</th>\n",
       "      <th>Malic acid</th>\n",
       "      <th>Ash</th>\n",
       "      <th>Alcalinity_of_ash</th>\n",
       "      <th>Magnesium</th>\n",
       "      <th>Total_phenols</th>\n",
       "      <th>Flavanoids</th>\n",
       "      <th>Nonflavanoid_phenols</th>\n",
       "      <th>Proanthocyanins</th>\n",
       "      <th>Color_intensity</th>\n",
       "      <th>Hue</th>\n",
       "      <th>OD280_by_OD315</th>\n",
       "      <th>Proline</th>\n",
       "    </tr>\n",
       "  </thead>\n",
       "  <tbody>\n",
       "    <tr>\n",
       "      <th>5</th>\n",
       "      <td>1</td>\n",
       "      <td>14.20</td>\n",
       "      <td>1.76</td>\n",
       "      <td>2.45</td>\n",
       "      <td>15.2</td>\n",
       "      <td>112</td>\n",
       "      <td>3.27</td>\n",
       "      <td>3.39</td>\n",
       "      <td>0.34</td>\n",
       "      <td>1.97</td>\n",
       "      <td>6.75</td>\n",
       "      <td>1.05</td>\n",
       "      <td>2.85</td>\n",
       "      <td>1450</td>\n",
       "    </tr>\n",
       "    <tr>\n",
       "      <th>6</th>\n",
       "      <td>1</td>\n",
       "      <td>14.39</td>\n",
       "      <td>1.87</td>\n",
       "      <td>2.45</td>\n",
       "      <td>14.6</td>\n",
       "      <td>96</td>\n",
       "      <td>2.50</td>\n",
       "      <td>2.52</td>\n",
       "      <td>0.30</td>\n",
       "      <td>1.98</td>\n",
       "      <td>5.25</td>\n",
       "      <td>1.02</td>\n",
       "      <td>3.58</td>\n",
       "      <td>1290</td>\n",
       "    </tr>\n",
       "    <tr>\n",
       "      <th>7</th>\n",
       "      <td>1</td>\n",
       "      <td>14.06</td>\n",
       "      <td>2.15</td>\n",
       "      <td>2.61</td>\n",
       "      <td>17.6</td>\n",
       "      <td>121</td>\n",
       "      <td>2.60</td>\n",
       "      <td>2.51</td>\n",
       "      <td>0.31</td>\n",
       "      <td>1.25</td>\n",
       "      <td>5.05</td>\n",
       "      <td>1.06</td>\n",
       "      <td>3.58</td>\n",
       "      <td>1295</td>\n",
       "    </tr>\n",
       "  </tbody>\n",
       "</table>\n",
       "</div>"
      ],
      "text/plain": [
       "   Class  Alcohol  Malic acid   Ash  Alcalinity_of_ash  Magnesium  \\\n",
       "5      1    14.20        1.76  2.45               15.2        112   \n",
       "6      1    14.39        1.87  2.45               14.6         96   \n",
       "7      1    14.06        2.15  2.61               17.6        121   \n",
       "\n",
       "   Total_phenols  Flavanoids  Nonflavanoid_phenols  Proanthocyanins  \\\n",
       "5           3.27        3.39                  0.34             1.97   \n",
       "6           2.50        2.52                  0.30             1.98   \n",
       "7           2.60        2.51                  0.31             1.25   \n",
       "\n",
       "   Color_intensity   Hue  OD280_by_OD315  Proline  \n",
       "5             6.75  1.05            2.85     1450  \n",
       "6             5.25  1.02            3.58     1290  \n",
       "7             5.05  1.06            3.58     1295  "
      ]
     },
     "execution_count": 46,
     "metadata": {},
     "output_type": "execute_result"
    }
   ],
   "source": [
    "df[5:8] # 5th to 8th row"
   ]
  },
  {
   "cell_type": "markdown",
   "metadata": {
    "id": "3ZXRqLUixYGk"
   },
   "source": [
    "## Rows and Columns\n",
    "\n",
    "If we wish to select rows and columns `.iloc` is nice. The indexing like python strings is exclusive meaning `0:3` selects row 0 up until 2, but not including 3."
   ]
  },
  {
   "cell_type": "code",
   "execution_count": 47,
   "metadata": {
    "colab": {
     "base_uri": "https://localhost:8080/"
    },
    "executionInfo": {
     "elapsed": 3876,
     "status": "ok",
     "timestamp": 1610690042492,
     "user": {
      "displayName": "Jyoti Gupta",
      "photoUrl": "https://lh3.googleusercontent.com/a-/AOh14Gha7ARiuH9KYsBrRe_sEPEhpI5cXr55TdQBv6x_MA=s64",
      "userId": "16785426337890807929"
     },
     "user_tz": -480
    },
    "id": "I-p97Bo_xYGm",
    "outputId": "bf4d8330-4e46-4a77-e72a-bf6bbf20c0ea"
   },
   "outputs": [
    {
     "data": {
      "text/plain": [
       "0    2.43\n",
       "1    2.14\n",
       "2    2.67\n",
       "Name: Ash, dtype: float64"
      ]
     },
     "execution_count": 47,
     "metadata": {},
     "output_type": "execute_result"
    }
   ],
   "source": [
    "df.iloc[0:3,3] # select rows 0 to 2 and 4th column (or index 3)"
   ]
  },
  {
   "cell_type": "markdown",
   "metadata": {
    "id": "ZI1XY54JxYGp"
   },
   "source": [
    "Alternatively we could do"
   ]
  },
  {
   "cell_type": "code",
   "execution_count": 48,
   "metadata": {
    "colab": {
     "base_uri": "https://localhost:8080/"
    },
    "executionInfo": {
     "elapsed": 3875,
     "status": "ok",
     "timestamp": 1610690042492,
     "user": {
      "displayName": "Jyoti Gupta",
      "photoUrl": "https://lh3.googleusercontent.com/a-/AOh14Gha7ARiuH9KYsBrRe_sEPEhpI5cXr55TdQBv6x_MA=s64",
      "userId": "16785426337890807929"
     },
     "user_tz": -480
    },
    "id": "CXmkswA0xYGq",
    "outputId": "740ad6cd-cfff-4643-dfae-fb7741e16097"
   },
   "outputs": [
    {
     "data": {
      "text/plain": [
       "0    2.43\n",
       "1    2.14\n",
       "2    2.67\n",
       "Name: Ash, dtype: float64"
      ]
     },
     "execution_count": 48,
     "metadata": {},
     "output_type": "execute_result"
    }
   ],
   "source": [
    "df['Ash'][0:3] # select ash col then rows 0 to 2"
   ]
  },
  {
   "cell_type": "code",
   "execution_count": 49,
   "metadata": {
    "colab": {
     "base_uri": "https://localhost:8080/",
     "height": 173
    },
    "executionInfo": {
     "elapsed": 914,
     "status": "ok",
     "timestamp": 1610936483606,
     "user": {
      "displayName": "Jyoti Gupta",
      "photoUrl": "https://lh3.googleusercontent.com/a-/AOh14Gha7ARiuH9KYsBrRe_sEPEhpI5cXr55TdQBv6x_MA=s64",
      "userId": "16785426337890807929"
     },
     "user_tz": -480
    },
    "id": "LAT5oDQBS5Vh",
    "outputId": "7e508cbd-049e-4986-9e9e-fd1948aab52a"
   },
   "outputs": [
    {
     "data": {
      "application/vnd.microsoft.datawrangler.viewer.v0+json": {
       "columns": [
        {
         "name": "index",
         "rawType": "int64",
         "type": "integer"
        },
        {
         "name": "Ash",
         "rawType": "float64",
         "type": "float"
        },
        {
         "name": "Alcohol",
         "rawType": "float64",
         "type": "float"
        }
       ],
       "conversionMethod": "pd.DataFrame",
       "ref": "186701fe-5dd2-43c5-8216-11b305c221ee",
       "rows": [
        [
         "4",
         "2.87",
         "13.24"
        ],
        [
         "5",
         "2.45",
         "14.2"
        ],
        [
         "6",
         "2.45",
         "14.39"
        ],
        [
         "7",
         "2.61",
         "14.06"
        ]
       ],
       "shape": {
        "columns": 2,
        "rows": 4
       }
      },
      "text/html": [
       "<div>\n",
       "<style scoped>\n",
       "    .dataframe tbody tr th:only-of-type {\n",
       "        vertical-align: middle;\n",
       "    }\n",
       "\n",
       "    .dataframe tbody tr th {\n",
       "        vertical-align: top;\n",
       "    }\n",
       "\n",
       "    .dataframe thead th {\n",
       "        text-align: right;\n",
       "    }\n",
       "</style>\n",
       "<table border=\"1\" class=\"dataframe\">\n",
       "  <thead>\n",
       "    <tr style=\"text-align: right;\">\n",
       "      <th></th>\n",
       "      <th>Ash</th>\n",
       "      <th>Alcohol</th>\n",
       "    </tr>\n",
       "  </thead>\n",
       "  <tbody>\n",
       "    <tr>\n",
       "      <th>4</th>\n",
       "      <td>2.87</td>\n",
       "      <td>13.24</td>\n",
       "    </tr>\n",
       "    <tr>\n",
       "      <th>5</th>\n",
       "      <td>2.45</td>\n",
       "      <td>14.20</td>\n",
       "    </tr>\n",
       "    <tr>\n",
       "      <th>6</th>\n",
       "      <td>2.45</td>\n",
       "      <td>14.39</td>\n",
       "    </tr>\n",
       "    <tr>\n",
       "      <th>7</th>\n",
       "      <td>2.61</td>\n",
       "      <td>14.06</td>\n",
       "    </tr>\n",
       "  </tbody>\n",
       "</table>\n",
       "</div>"
      ],
      "text/plain": [
       "    Ash  Alcohol\n",
       "4  2.87    13.24\n",
       "5  2.45    14.20\n",
       "6  2.45    14.39\n",
       "7  2.61    14.06"
      ]
     },
     "execution_count": 49,
     "metadata": {},
     "output_type": "execute_result"
    }
   ],
   "source": [
    "df[[\"Ash\",\"Alcohol\"]][4:8]"
   ]
  },
  {
   "cell_type": "markdown",
   "metadata": {
    "id": "oiO6PKrOxYGs"
   },
   "source": [
    "## Conditionals\n",
    "\n",
    "Lets reload the whole dataset so we have something more to work with for conditionals."
   ]
  },
  {
   "cell_type": "code",
   "execution_count": 50,
   "metadata": {
    "id": "YrcMmXPoxYGs"
   },
   "outputs": [],
   "source": [
    "df = pd.read_csv(\"https://archive.ics.uci.edu/ml/machine-learning-databases/wine/wine.data\", header=None)\n",
    "df.columns = colnames"
   ]
  },
  {
   "cell_type": "markdown",
   "metadata": {
    "id": "thjz538rxYGv"
   },
   "source": [
    "What if I just want the wines from a specific class? We can use an equality operator like `==` on the column to check if the class is eqaul to two, this will return as a series containing booleans."
   ]
  },
  {
   "cell_type": "code",
   "execution_count": 51,
   "metadata": {
    "colab": {
     "base_uri": "https://localhost:8080/",
     "height": 224
    },
    "executionInfo": {
     "elapsed": 875,
     "status": "ok",
     "timestamp": 1610936561892,
     "user": {
      "displayName": "Jyoti Gupta",
      "photoUrl": "https://lh3.googleusercontent.com/a-/AOh14Gha7ARiuH9KYsBrRe_sEPEhpI5cXr55TdQBv6x_MA=s64",
      "userId": "16785426337890807929"
     },
     "user_tz": -480
    },
    "id": "hfI9EhlTTRWs",
    "outputId": "d4c61b4c-174e-4bf5-ba24-59ce654cf68d"
   },
   "outputs": [
    {
     "data": {
      "application/vnd.microsoft.datawrangler.viewer.v0+json": {
       "columns": [
        {
         "name": "index",
         "rawType": "int64",
         "type": "integer"
        },
        {
         "name": "Class",
         "rawType": "int64",
         "type": "integer"
        },
        {
         "name": "Alcohol",
         "rawType": "float64",
         "type": "float"
        },
        {
         "name": "Malic acid",
         "rawType": "float64",
         "type": "float"
        },
        {
         "name": "Ash",
         "rawType": "float64",
         "type": "float"
        },
        {
         "name": "Alcalinity_of_ash",
         "rawType": "float64",
         "type": "float"
        },
        {
         "name": "Magnesium",
         "rawType": "int64",
         "type": "integer"
        },
        {
         "name": "Total_phenols",
         "rawType": "float64",
         "type": "float"
        },
        {
         "name": "Flavanoids",
         "rawType": "float64",
         "type": "float"
        },
        {
         "name": "Nonflavanoid_phenols",
         "rawType": "float64",
         "type": "float"
        },
        {
         "name": "Proanthocyanins",
         "rawType": "float64",
         "type": "float"
        },
        {
         "name": "Color_intensity",
         "rawType": "float64",
         "type": "float"
        },
        {
         "name": "Hue",
         "rawType": "float64",
         "type": "float"
        },
        {
         "name": "OD280_by_OD315",
         "rawType": "float64",
         "type": "float"
        },
        {
         "name": "Proline",
         "rawType": "int64",
         "type": "integer"
        }
       ],
       "conversionMethod": "pd.DataFrame",
       "ref": "0e868a39-c2e3-49c0-bbc3-b19e3b71e754",
       "rows": [
        [
         "0",
         "1",
         "14.23",
         "1.71",
         "2.43",
         "15.6",
         "127",
         "2.8",
         "3.06",
         "0.28",
         "2.29",
         "5.64",
         "1.04",
         "3.92",
         "1065"
        ],
        [
         "1",
         "1",
         "13.2",
         "1.78",
         "2.14",
         "11.2",
         "100",
         "2.65",
         "2.76",
         "0.26",
         "1.28",
         "4.38",
         "1.05",
         "3.4",
         "1050"
        ],
        [
         "2",
         "1",
         "13.16",
         "2.36",
         "2.67",
         "18.6",
         "101",
         "2.8",
         "3.24",
         "0.3",
         "2.81",
         "5.68",
         "1.03",
         "3.17",
         "1185"
        ],
        [
         "3",
         "1",
         "14.37",
         "1.95",
         "2.5",
         "16.8",
         "113",
         "3.85",
         "3.49",
         "0.24",
         "2.18",
         "7.8",
         "0.86",
         "3.45",
         "1480"
        ],
        [
         "4",
         "1",
         "13.24",
         "2.59",
         "2.87",
         "21.0",
         "118",
         "2.8",
         "2.69",
         "0.39",
         "1.82",
         "4.32",
         "1.04",
         "2.93",
         "735"
        ]
       ],
       "shape": {
        "columns": 14,
        "rows": 5
       }
      },
      "text/html": [
       "<div>\n",
       "<style scoped>\n",
       "    .dataframe tbody tr th:only-of-type {\n",
       "        vertical-align: middle;\n",
       "    }\n",
       "\n",
       "    .dataframe tbody tr th {\n",
       "        vertical-align: top;\n",
       "    }\n",
       "\n",
       "    .dataframe thead th {\n",
       "        text-align: right;\n",
       "    }\n",
       "</style>\n",
       "<table border=\"1\" class=\"dataframe\">\n",
       "  <thead>\n",
       "    <tr style=\"text-align: right;\">\n",
       "      <th></th>\n",
       "      <th>Class</th>\n",
       "      <th>Alcohol</th>\n",
       "      <th>Malic acid</th>\n",
       "      <th>Ash</th>\n",
       "      <th>Alcalinity_of_ash</th>\n",
       "      <th>Magnesium</th>\n",
       "      <th>Total_phenols</th>\n",
       "      <th>Flavanoids</th>\n",
       "      <th>Nonflavanoid_phenols</th>\n",
       "      <th>Proanthocyanins</th>\n",
       "      <th>Color_intensity</th>\n",
       "      <th>Hue</th>\n",
       "      <th>OD280_by_OD315</th>\n",
       "      <th>Proline</th>\n",
       "    </tr>\n",
       "  </thead>\n",
       "  <tbody>\n",
       "    <tr>\n",
       "      <th>0</th>\n",
       "      <td>1</td>\n",
       "      <td>14.23</td>\n",
       "      <td>1.71</td>\n",
       "      <td>2.43</td>\n",
       "      <td>15.6</td>\n",
       "      <td>127</td>\n",
       "      <td>2.80</td>\n",
       "      <td>3.06</td>\n",
       "      <td>0.28</td>\n",
       "      <td>2.29</td>\n",
       "      <td>5.64</td>\n",
       "      <td>1.04</td>\n",
       "      <td>3.92</td>\n",
       "      <td>1065</td>\n",
       "    </tr>\n",
       "    <tr>\n",
       "      <th>1</th>\n",
       "      <td>1</td>\n",
       "      <td>13.20</td>\n",
       "      <td>1.78</td>\n",
       "      <td>2.14</td>\n",
       "      <td>11.2</td>\n",
       "      <td>100</td>\n",
       "      <td>2.65</td>\n",
       "      <td>2.76</td>\n",
       "      <td>0.26</td>\n",
       "      <td>1.28</td>\n",
       "      <td>4.38</td>\n",
       "      <td>1.05</td>\n",
       "      <td>3.40</td>\n",
       "      <td>1050</td>\n",
       "    </tr>\n",
       "    <tr>\n",
       "      <th>2</th>\n",
       "      <td>1</td>\n",
       "      <td>13.16</td>\n",
       "      <td>2.36</td>\n",
       "      <td>2.67</td>\n",
       "      <td>18.6</td>\n",
       "      <td>101</td>\n",
       "      <td>2.80</td>\n",
       "      <td>3.24</td>\n",
       "      <td>0.30</td>\n",
       "      <td>2.81</td>\n",
       "      <td>5.68</td>\n",
       "      <td>1.03</td>\n",
       "      <td>3.17</td>\n",
       "      <td>1185</td>\n",
       "    </tr>\n",
       "    <tr>\n",
       "      <th>3</th>\n",
       "      <td>1</td>\n",
       "      <td>14.37</td>\n",
       "      <td>1.95</td>\n",
       "      <td>2.50</td>\n",
       "      <td>16.8</td>\n",
       "      <td>113</td>\n",
       "      <td>3.85</td>\n",
       "      <td>3.49</td>\n",
       "      <td>0.24</td>\n",
       "      <td>2.18</td>\n",
       "      <td>7.80</td>\n",
       "      <td>0.86</td>\n",
       "      <td>3.45</td>\n",
       "      <td>1480</td>\n",
       "    </tr>\n",
       "    <tr>\n",
       "      <th>4</th>\n",
       "      <td>1</td>\n",
       "      <td>13.24</td>\n",
       "      <td>2.59</td>\n",
       "      <td>2.87</td>\n",
       "      <td>21.0</td>\n",
       "      <td>118</td>\n",
       "      <td>2.80</td>\n",
       "      <td>2.69</td>\n",
       "      <td>0.39</td>\n",
       "      <td>1.82</td>\n",
       "      <td>4.32</td>\n",
       "      <td>1.04</td>\n",
       "      <td>2.93</td>\n",
       "      <td>735</td>\n",
       "    </tr>\n",
       "  </tbody>\n",
       "</table>\n",
       "</div>"
      ],
      "text/plain": [
       "   Class  Alcohol  Malic acid   Ash  Alcalinity_of_ash  Magnesium  \\\n",
       "0      1    14.23        1.71  2.43               15.6        127   \n",
       "1      1    13.20        1.78  2.14               11.2        100   \n",
       "2      1    13.16        2.36  2.67               18.6        101   \n",
       "3      1    14.37        1.95  2.50               16.8        113   \n",
       "4      1    13.24        2.59  2.87               21.0        118   \n",
       "\n",
       "   Total_phenols  Flavanoids  Nonflavanoid_phenols  Proanthocyanins  \\\n",
       "0           2.80        3.06                  0.28             2.29   \n",
       "1           2.65        2.76                  0.26             1.28   \n",
       "2           2.80        3.24                  0.30             2.81   \n",
       "3           3.85        3.49                  0.24             2.18   \n",
       "4           2.80        2.69                  0.39             1.82   \n",
       "\n",
       "   Color_intensity   Hue  OD280_by_OD315  Proline  \n",
       "0             5.64  1.04            3.92     1065  \n",
       "1             4.38  1.05            3.40     1050  \n",
       "2             5.68  1.03            3.17     1185  \n",
       "3             7.80  0.86            3.45     1480  \n",
       "4             4.32  1.04            2.93      735  "
      ]
     },
     "execution_count": 51,
     "metadata": {},
     "output_type": "execute_result"
    }
   ],
   "source": [
    "df.head()"
   ]
  },
  {
   "cell_type": "code",
   "execution_count": 53,
   "metadata": {
    "colab": {
     "base_uri": "https://localhost:8080/"
    },
    "executionInfo": {
     "elapsed": 847,
     "status": "ok",
     "timestamp": 1610936629259,
     "user": {
      "displayName": "Jyoti Gupta",
      "photoUrl": "https://lh3.googleusercontent.com/a-/AOh14Gha7ARiuH9KYsBrRe_sEPEhpI5cXr55TdQBv6x_MA=s64",
      "userId": "16785426337890807929"
     },
     "user_tz": -480
    },
    "id": "LYWMqhLzTXCW",
    "outputId": "7d1b0be4-188b-40f7-ad66-07de29d48525"
   },
   "outputs": [
    {
     "data": {
      "text/plain": [
       "Class                   71\n",
       "Alcohol                 71\n",
       "Malic acid              71\n",
       "Ash                     71\n",
       "Alcalinity_of_ash       71\n",
       "Magnesium               71\n",
       "Total_phenols           71\n",
       "Flavanoids              71\n",
       "Nonflavanoid_phenols    71\n",
       "Proanthocyanins         71\n",
       "Color_intensity         71\n",
       "Hue                     71\n",
       "OD280_by_OD315          71\n",
       "Proline                 71\n",
       "dtype: int64"
      ]
     },
     "execution_count": 53,
     "metadata": {},
     "output_type": "execute_result"
    }
   ],
   "source": [
    "df[df.Class == 2].count()\n",
    "# count the number of rows in a DataFrame df where the value in the 'Class' column is equal to 2."
   ]
  },
  {
   "cell_type": "code",
   "execution_count": 55,
   "metadata": {
    "colab": {
     "base_uri": "https://localhost:8080/"
    },
    "executionInfo": {
     "elapsed": 1101,
     "status": "ok",
     "timestamp": 1610936680804,
     "user": {
      "displayName": "Jyoti Gupta",
      "photoUrl": "https://lh3.googleusercontent.com/a-/AOh14Gha7ARiuH9KYsBrRe_sEPEhpI5cXr55TdQBv6x_MA=s64",
      "userId": "16785426337890807929"
     },
     "user_tz": -480
    },
    "id": "dx6Ma6VETlAQ",
    "outputId": "c0b776f3-0c11-4a04-8f9b-5c36bd937991"
   },
   "outputs": [
    {
     "data": {
      "text/plain": [
       "2    71\n",
       "1    59\n",
       "3    48\n",
       "Name: Class, dtype: int64"
      ]
     },
     "execution_count": 55,
     "metadata": {},
     "output_type": "execute_result"
    }
   ],
   "source": [
    "df[\"Class\"].value_counts()"
   ]
  },
  {
   "cell_type": "code",
   "execution_count": 56,
   "metadata": {
    "colab": {
     "base_uri": "https://localhost:8080/",
     "height": 689
    },
    "executionInfo": {
     "elapsed": 1183,
     "status": "ok",
     "timestamp": 1610936916746,
     "user": {
      "displayName": "Jyoti Gupta",
      "photoUrl": "https://lh3.googleusercontent.com/a-/AOh14Gha7ARiuH9KYsBrRe_sEPEhpI5cXr55TdQBv6x_MA=s64",
      "userId": "16785426337890807929"
     },
     "user_tz": -480
    },
    "id": "2gj4WP9gUC2C",
    "outputId": "f7d9dc6f-0039-408b-9954-df18c7030e01"
   },
   "outputs": [
    {
     "data": {
      "application/vnd.microsoft.datawrangler.viewer.v0+json": {
       "columns": [
        {
         "name": "index",
         "rawType": "int64",
         "type": "integer"
        },
        {
         "name": "Class",
         "rawType": "int64",
         "type": "integer"
        },
        {
         "name": "Alcohol",
         "rawType": "float64",
         "type": "float"
        },
        {
         "name": "Malic acid",
         "rawType": "float64",
         "type": "float"
        },
        {
         "name": "Ash",
         "rawType": "float64",
         "type": "float"
        },
        {
         "name": "Alcalinity_of_ash",
         "rawType": "float64",
         "type": "float"
        },
        {
         "name": "Magnesium",
         "rawType": "int64",
         "type": "integer"
        },
        {
         "name": "Total_phenols",
         "rawType": "float64",
         "type": "float"
        },
        {
         "name": "Flavanoids",
         "rawType": "float64",
         "type": "float"
        },
        {
         "name": "Nonflavanoid_phenols",
         "rawType": "float64",
         "type": "float"
        },
        {
         "name": "Proanthocyanins",
         "rawType": "float64",
         "type": "float"
        },
        {
         "name": "Color_intensity",
         "rawType": "float64",
         "type": "float"
        },
        {
         "name": "Hue",
         "rawType": "float64",
         "type": "float"
        },
        {
         "name": "OD280_by_OD315",
         "rawType": "float64",
         "type": "float"
        },
        {
         "name": "Proline",
         "rawType": "int64",
         "type": "integer"
        }
       ],
       "conversionMethod": "pd.DataFrame",
       "ref": "33a4e6a6-ec11-4769-acc8-8324eead0ec2",
       "rows": [
        [
         "130",
         "3",
         "12.86",
         "1.35",
         "2.32",
         "18.0",
         "122",
         "1.51",
         "1.25",
         "0.21",
         "0.94",
         "4.1",
         "0.76",
         "1.29",
         "630"
        ],
        [
         "131",
         "3",
         "12.88",
         "2.99",
         "2.4",
         "20.0",
         "104",
         "1.3",
         "1.22",
         "0.24",
         "0.83",
         "5.4",
         "0.74",
         "1.42",
         "530"
        ],
        [
         "133",
         "3",
         "12.7",
         "3.55",
         "2.36",
         "21.5",
         "106",
         "1.7",
         "1.2",
         "0.17",
         "0.84",
         "5.0",
         "0.78",
         "1.29",
         "600"
        ],
        [
         "139",
         "3",
         "12.84",
         "2.96",
         "2.61",
         "24.0",
         "101",
         "2.32",
         "0.6",
         "0.53",
         "0.81",
         "4.92",
         "0.89",
         "2.15",
         "590"
        ],
        [
         "144",
         "3",
         "12.25",
         "3.88",
         "2.2",
         "18.5",
         "112",
         "1.38",
         "0.78",
         "0.29",
         "1.14",
         "8.21",
         "0.65",
         "2.0",
         "855"
        ],
        [
         "145",
         "3",
         "13.16",
         "3.57",
         "2.15",
         "21.0",
         "102",
         "1.5",
         "0.55",
         "0.43",
         "1.3",
         "4.0",
         "0.6",
         "1.68",
         "830"
        ],
        [
         "149",
         "3",
         "13.08",
         "3.9",
         "2.36",
         "21.5",
         "113",
         "1.41",
         "1.39",
         "0.34",
         "1.14",
         "9.4",
         "0.57",
         "1.33",
         "550"
        ],
        [
         "150",
         "3",
         "13.5",
         "3.12",
         "2.62",
         "24.0",
         "123",
         "1.4",
         "1.57",
         "0.22",
         "1.25",
         "8.6",
         "0.59",
         "1.3",
         "500"
        ],
        [
         "151",
         "3",
         "12.79",
         "2.67",
         "2.48",
         "22.0",
         "112",
         "1.48",
         "1.36",
         "0.24",
         "1.26",
         "10.8",
         "0.48",
         "1.47",
         "480"
        ],
        [
         "152",
         "3",
         "13.11",
         "1.9",
         "2.75",
         "25.5",
         "116",
         "2.2",
         "1.28",
         "0.26",
         "1.56",
         "7.1",
         "0.61",
         "1.33",
         "425"
        ],
        [
         "154",
         "3",
         "12.58",
         "1.29",
         "2.1",
         "20.0",
         "103",
         "1.48",
         "0.58",
         "0.53",
         "1.4",
         "7.6",
         "0.58",
         "1.55",
         "640"
        ],
        [
         "161",
         "3",
         "13.69",
         "3.26",
         "2.54",
         "20.0",
         "107",
         "1.83",
         "0.56",
         "0.5",
         "0.8",
         "5.88",
         "0.96",
         "1.82",
         "680"
        ],
        [
         "162",
         "3",
         "12.85",
         "3.27",
         "2.58",
         "22.0",
         "106",
         "1.65",
         "0.6",
         "0.6",
         "0.96",
         "5.58",
         "0.87",
         "2.11",
         "570"
        ],
        [
         "163",
         "3",
         "12.96",
         "3.45",
         "2.35",
         "18.5",
         "106",
         "1.39",
         "0.7",
         "0.4",
         "0.94",
         "5.28",
         "0.68",
         "1.75",
         "675"
        ],
        [
         "166",
         "3",
         "13.45",
         "3.7",
         "2.6",
         "23.0",
         "111",
         "1.7",
         "0.92",
         "0.43",
         "1.46",
         "10.68",
         "0.85",
         "1.56",
         "695"
        ],
        [
         "168",
         "3",
         "13.58",
         "2.58",
         "2.69",
         "24.5",
         "105",
         "1.55",
         "0.84",
         "0.39",
         "1.54",
         "8.66",
         "0.74",
         "1.8",
         "750"
        ],
        [
         "169",
         "3",
         "13.4",
         "4.6",
         "2.86",
         "25.0",
         "112",
         "1.98",
         "0.96",
         "0.27",
         "1.11",
         "8.5",
         "0.67",
         "1.92",
         "630"
        ],
        [
         "174",
         "3",
         "13.4",
         "3.91",
         "2.48",
         "23.0",
         "102",
         "1.8",
         "0.75",
         "0.43",
         "1.41",
         "7.3",
         "0.7",
         "1.56",
         "750"
        ],
        [
         "175",
         "3",
         "13.27",
         "4.28",
         "2.26",
         "20.0",
         "120",
         "1.59",
         "0.69",
         "0.43",
         "1.35",
         "10.2",
         "0.59",
         "1.56",
         "835"
        ],
        [
         "176",
         "3",
         "13.17",
         "2.59",
         "2.37",
         "20.0",
         "120",
         "1.65",
         "0.68",
         "0.53",
         "1.46",
         "9.3",
         "0.6",
         "1.62",
         "840"
        ]
       ],
       "shape": {
        "columns": 14,
        "rows": 20
       }
      },
      "text/html": [
       "<div>\n",
       "<style scoped>\n",
       "    .dataframe tbody tr th:only-of-type {\n",
       "        vertical-align: middle;\n",
       "    }\n",
       "\n",
       "    .dataframe tbody tr th {\n",
       "        vertical-align: top;\n",
       "    }\n",
       "\n",
       "    .dataframe thead th {\n",
       "        text-align: right;\n",
       "    }\n",
       "</style>\n",
       "<table border=\"1\" class=\"dataframe\">\n",
       "  <thead>\n",
       "    <tr style=\"text-align: right;\">\n",
       "      <th></th>\n",
       "      <th>Class</th>\n",
       "      <th>Alcohol</th>\n",
       "      <th>Malic acid</th>\n",
       "      <th>Ash</th>\n",
       "      <th>Alcalinity_of_ash</th>\n",
       "      <th>Magnesium</th>\n",
       "      <th>Total_phenols</th>\n",
       "      <th>Flavanoids</th>\n",
       "      <th>Nonflavanoid_phenols</th>\n",
       "      <th>Proanthocyanins</th>\n",
       "      <th>Color_intensity</th>\n",
       "      <th>Hue</th>\n",
       "      <th>OD280_by_OD315</th>\n",
       "      <th>Proline</th>\n",
       "    </tr>\n",
       "  </thead>\n",
       "  <tbody>\n",
       "    <tr>\n",
       "      <th>130</th>\n",
       "      <td>3</td>\n",
       "      <td>12.86</td>\n",
       "      <td>1.35</td>\n",
       "      <td>2.32</td>\n",
       "      <td>18.0</td>\n",
       "      <td>122</td>\n",
       "      <td>1.51</td>\n",
       "      <td>1.25</td>\n",
       "      <td>0.21</td>\n",
       "      <td>0.94</td>\n",
       "      <td>4.10</td>\n",
       "      <td>0.76</td>\n",
       "      <td>1.29</td>\n",
       "      <td>630</td>\n",
       "    </tr>\n",
       "    <tr>\n",
       "      <th>131</th>\n",
       "      <td>3</td>\n",
       "      <td>12.88</td>\n",
       "      <td>2.99</td>\n",
       "      <td>2.40</td>\n",
       "      <td>20.0</td>\n",
       "      <td>104</td>\n",
       "      <td>1.30</td>\n",
       "      <td>1.22</td>\n",
       "      <td>0.24</td>\n",
       "      <td>0.83</td>\n",
       "      <td>5.40</td>\n",
       "      <td>0.74</td>\n",
       "      <td>1.42</td>\n",
       "      <td>530</td>\n",
       "    </tr>\n",
       "    <tr>\n",
       "      <th>133</th>\n",
       "      <td>3</td>\n",
       "      <td>12.70</td>\n",
       "      <td>3.55</td>\n",
       "      <td>2.36</td>\n",
       "      <td>21.5</td>\n",
       "      <td>106</td>\n",
       "      <td>1.70</td>\n",
       "      <td>1.20</td>\n",
       "      <td>0.17</td>\n",
       "      <td>0.84</td>\n",
       "      <td>5.00</td>\n",
       "      <td>0.78</td>\n",
       "      <td>1.29</td>\n",
       "      <td>600</td>\n",
       "    </tr>\n",
       "    <tr>\n",
       "      <th>139</th>\n",
       "      <td>3</td>\n",
       "      <td>12.84</td>\n",
       "      <td>2.96</td>\n",
       "      <td>2.61</td>\n",
       "      <td>24.0</td>\n",
       "      <td>101</td>\n",
       "      <td>2.32</td>\n",
       "      <td>0.60</td>\n",
       "      <td>0.53</td>\n",
       "      <td>0.81</td>\n",
       "      <td>4.92</td>\n",
       "      <td>0.89</td>\n",
       "      <td>2.15</td>\n",
       "      <td>590</td>\n",
       "    </tr>\n",
       "    <tr>\n",
       "      <th>144</th>\n",
       "      <td>3</td>\n",
       "      <td>12.25</td>\n",
       "      <td>3.88</td>\n",
       "      <td>2.20</td>\n",
       "      <td>18.5</td>\n",
       "      <td>112</td>\n",
       "      <td>1.38</td>\n",
       "      <td>0.78</td>\n",
       "      <td>0.29</td>\n",
       "      <td>1.14</td>\n",
       "      <td>8.21</td>\n",
       "      <td>0.65</td>\n",
       "      <td>2.00</td>\n",
       "      <td>855</td>\n",
       "    </tr>\n",
       "    <tr>\n",
       "      <th>145</th>\n",
       "      <td>3</td>\n",
       "      <td>13.16</td>\n",
       "      <td>3.57</td>\n",
       "      <td>2.15</td>\n",
       "      <td>21.0</td>\n",
       "      <td>102</td>\n",
       "      <td>1.50</td>\n",
       "      <td>0.55</td>\n",
       "      <td>0.43</td>\n",
       "      <td>1.30</td>\n",
       "      <td>4.00</td>\n",
       "      <td>0.60</td>\n",
       "      <td>1.68</td>\n",
       "      <td>830</td>\n",
       "    </tr>\n",
       "    <tr>\n",
       "      <th>149</th>\n",
       "      <td>3</td>\n",
       "      <td>13.08</td>\n",
       "      <td>3.90</td>\n",
       "      <td>2.36</td>\n",
       "      <td>21.5</td>\n",
       "      <td>113</td>\n",
       "      <td>1.41</td>\n",
       "      <td>1.39</td>\n",
       "      <td>0.34</td>\n",
       "      <td>1.14</td>\n",
       "      <td>9.40</td>\n",
       "      <td>0.57</td>\n",
       "      <td>1.33</td>\n",
       "      <td>550</td>\n",
       "    </tr>\n",
       "    <tr>\n",
       "      <th>150</th>\n",
       "      <td>3</td>\n",
       "      <td>13.50</td>\n",
       "      <td>3.12</td>\n",
       "      <td>2.62</td>\n",
       "      <td>24.0</td>\n",
       "      <td>123</td>\n",
       "      <td>1.40</td>\n",
       "      <td>1.57</td>\n",
       "      <td>0.22</td>\n",
       "      <td>1.25</td>\n",
       "      <td>8.60</td>\n",
       "      <td>0.59</td>\n",
       "      <td>1.30</td>\n",
       "      <td>500</td>\n",
       "    </tr>\n",
       "    <tr>\n",
       "      <th>151</th>\n",
       "      <td>3</td>\n",
       "      <td>12.79</td>\n",
       "      <td>2.67</td>\n",
       "      <td>2.48</td>\n",
       "      <td>22.0</td>\n",
       "      <td>112</td>\n",
       "      <td>1.48</td>\n",
       "      <td>1.36</td>\n",
       "      <td>0.24</td>\n",
       "      <td>1.26</td>\n",
       "      <td>10.80</td>\n",
       "      <td>0.48</td>\n",
       "      <td>1.47</td>\n",
       "      <td>480</td>\n",
       "    </tr>\n",
       "    <tr>\n",
       "      <th>152</th>\n",
       "      <td>3</td>\n",
       "      <td>13.11</td>\n",
       "      <td>1.90</td>\n",
       "      <td>2.75</td>\n",
       "      <td>25.5</td>\n",
       "      <td>116</td>\n",
       "      <td>2.20</td>\n",
       "      <td>1.28</td>\n",
       "      <td>0.26</td>\n",
       "      <td>1.56</td>\n",
       "      <td>7.10</td>\n",
       "      <td>0.61</td>\n",
       "      <td>1.33</td>\n",
       "      <td>425</td>\n",
       "    </tr>\n",
       "    <tr>\n",
       "      <th>154</th>\n",
       "      <td>3</td>\n",
       "      <td>12.58</td>\n",
       "      <td>1.29</td>\n",
       "      <td>2.10</td>\n",
       "      <td>20.0</td>\n",
       "      <td>103</td>\n",
       "      <td>1.48</td>\n",
       "      <td>0.58</td>\n",
       "      <td>0.53</td>\n",
       "      <td>1.40</td>\n",
       "      <td>7.60</td>\n",
       "      <td>0.58</td>\n",
       "      <td>1.55</td>\n",
       "      <td>640</td>\n",
       "    </tr>\n",
       "    <tr>\n",
       "      <th>161</th>\n",
       "      <td>3</td>\n",
       "      <td>13.69</td>\n",
       "      <td>3.26</td>\n",
       "      <td>2.54</td>\n",
       "      <td>20.0</td>\n",
       "      <td>107</td>\n",
       "      <td>1.83</td>\n",
       "      <td>0.56</td>\n",
       "      <td>0.50</td>\n",
       "      <td>0.80</td>\n",
       "      <td>5.88</td>\n",
       "      <td>0.96</td>\n",
       "      <td>1.82</td>\n",
       "      <td>680</td>\n",
       "    </tr>\n",
       "    <tr>\n",
       "      <th>162</th>\n",
       "      <td>3</td>\n",
       "      <td>12.85</td>\n",
       "      <td>3.27</td>\n",
       "      <td>2.58</td>\n",
       "      <td>22.0</td>\n",
       "      <td>106</td>\n",
       "      <td>1.65</td>\n",
       "      <td>0.60</td>\n",
       "      <td>0.60</td>\n",
       "      <td>0.96</td>\n",
       "      <td>5.58</td>\n",
       "      <td>0.87</td>\n",
       "      <td>2.11</td>\n",
       "      <td>570</td>\n",
       "    </tr>\n",
       "    <tr>\n",
       "      <th>163</th>\n",
       "      <td>3</td>\n",
       "      <td>12.96</td>\n",
       "      <td>3.45</td>\n",
       "      <td>2.35</td>\n",
       "      <td>18.5</td>\n",
       "      <td>106</td>\n",
       "      <td>1.39</td>\n",
       "      <td>0.70</td>\n",
       "      <td>0.40</td>\n",
       "      <td>0.94</td>\n",
       "      <td>5.28</td>\n",
       "      <td>0.68</td>\n",
       "      <td>1.75</td>\n",
       "      <td>675</td>\n",
       "    </tr>\n",
       "    <tr>\n",
       "      <th>166</th>\n",
       "      <td>3</td>\n",
       "      <td>13.45</td>\n",
       "      <td>3.70</td>\n",
       "      <td>2.60</td>\n",
       "      <td>23.0</td>\n",
       "      <td>111</td>\n",
       "      <td>1.70</td>\n",
       "      <td>0.92</td>\n",
       "      <td>0.43</td>\n",
       "      <td>1.46</td>\n",
       "      <td>10.68</td>\n",
       "      <td>0.85</td>\n",
       "      <td>1.56</td>\n",
       "      <td>695</td>\n",
       "    </tr>\n",
       "    <tr>\n",
       "      <th>168</th>\n",
       "      <td>3</td>\n",
       "      <td>13.58</td>\n",
       "      <td>2.58</td>\n",
       "      <td>2.69</td>\n",
       "      <td>24.5</td>\n",
       "      <td>105</td>\n",
       "      <td>1.55</td>\n",
       "      <td>0.84</td>\n",
       "      <td>0.39</td>\n",
       "      <td>1.54</td>\n",
       "      <td>8.66</td>\n",
       "      <td>0.74</td>\n",
       "      <td>1.80</td>\n",
       "      <td>750</td>\n",
       "    </tr>\n",
       "    <tr>\n",
       "      <th>169</th>\n",
       "      <td>3</td>\n",
       "      <td>13.40</td>\n",
       "      <td>4.60</td>\n",
       "      <td>2.86</td>\n",
       "      <td>25.0</td>\n",
       "      <td>112</td>\n",
       "      <td>1.98</td>\n",
       "      <td>0.96</td>\n",
       "      <td>0.27</td>\n",
       "      <td>1.11</td>\n",
       "      <td>8.50</td>\n",
       "      <td>0.67</td>\n",
       "      <td>1.92</td>\n",
       "      <td>630</td>\n",
       "    </tr>\n",
       "    <tr>\n",
       "      <th>174</th>\n",
       "      <td>3</td>\n",
       "      <td>13.40</td>\n",
       "      <td>3.91</td>\n",
       "      <td>2.48</td>\n",
       "      <td>23.0</td>\n",
       "      <td>102</td>\n",
       "      <td>1.80</td>\n",
       "      <td>0.75</td>\n",
       "      <td>0.43</td>\n",
       "      <td>1.41</td>\n",
       "      <td>7.30</td>\n",
       "      <td>0.70</td>\n",
       "      <td>1.56</td>\n",
       "      <td>750</td>\n",
       "    </tr>\n",
       "    <tr>\n",
       "      <th>175</th>\n",
       "      <td>3</td>\n",
       "      <td>13.27</td>\n",
       "      <td>4.28</td>\n",
       "      <td>2.26</td>\n",
       "      <td>20.0</td>\n",
       "      <td>120</td>\n",
       "      <td>1.59</td>\n",
       "      <td>0.69</td>\n",
       "      <td>0.43</td>\n",
       "      <td>1.35</td>\n",
       "      <td>10.20</td>\n",
       "      <td>0.59</td>\n",
       "      <td>1.56</td>\n",
       "      <td>835</td>\n",
       "    </tr>\n",
       "    <tr>\n",
       "      <th>176</th>\n",
       "      <td>3</td>\n",
       "      <td>13.17</td>\n",
       "      <td>2.59</td>\n",
       "      <td>2.37</td>\n",
       "      <td>20.0</td>\n",
       "      <td>120</td>\n",
       "      <td>1.65</td>\n",
       "      <td>0.68</td>\n",
       "      <td>0.53</td>\n",
       "      <td>1.46</td>\n",
       "      <td>9.30</td>\n",
       "      <td>0.60</td>\n",
       "      <td>1.62</td>\n",
       "      <td>840</td>\n",
       "    </tr>\n",
       "  </tbody>\n",
       "</table>\n",
       "</div>"
      ],
      "text/plain": [
       "     Class  Alcohol  Malic acid   Ash  Alcalinity_of_ash  Magnesium  \\\n",
       "130      3    12.86        1.35  2.32               18.0        122   \n",
       "131      3    12.88        2.99  2.40               20.0        104   \n",
       "133      3    12.70        3.55  2.36               21.5        106   \n",
       "139      3    12.84        2.96  2.61               24.0        101   \n",
       "144      3    12.25        3.88  2.20               18.5        112   \n",
       "145      3    13.16        3.57  2.15               21.0        102   \n",
       "149      3    13.08        3.90  2.36               21.5        113   \n",
       "150      3    13.50        3.12  2.62               24.0        123   \n",
       "151      3    12.79        2.67  2.48               22.0        112   \n",
       "152      3    13.11        1.90  2.75               25.5        116   \n",
       "154      3    12.58        1.29  2.10               20.0        103   \n",
       "161      3    13.69        3.26  2.54               20.0        107   \n",
       "162      3    12.85        3.27  2.58               22.0        106   \n",
       "163      3    12.96        3.45  2.35               18.5        106   \n",
       "166      3    13.45        3.70  2.60               23.0        111   \n",
       "168      3    13.58        2.58  2.69               24.5        105   \n",
       "169      3    13.40        4.60  2.86               25.0        112   \n",
       "174      3    13.40        3.91  2.48               23.0        102   \n",
       "175      3    13.27        4.28  2.26               20.0        120   \n",
       "176      3    13.17        2.59  2.37               20.0        120   \n",
       "\n",
       "     Total_phenols  Flavanoids  Nonflavanoid_phenols  Proanthocyanins  \\\n",
       "130           1.51        1.25                  0.21             0.94   \n",
       "131           1.30        1.22                  0.24             0.83   \n",
       "133           1.70        1.20                  0.17             0.84   \n",
       "139           2.32        0.60                  0.53             0.81   \n",
       "144           1.38        0.78                  0.29             1.14   \n",
       "145           1.50        0.55                  0.43             1.30   \n",
       "149           1.41        1.39                  0.34             1.14   \n",
       "150           1.40        1.57                  0.22             1.25   \n",
       "151           1.48        1.36                  0.24             1.26   \n",
       "152           2.20        1.28                  0.26             1.56   \n",
       "154           1.48        0.58                  0.53             1.40   \n",
       "161           1.83        0.56                  0.50             0.80   \n",
       "162           1.65        0.60                  0.60             0.96   \n",
       "163           1.39        0.70                  0.40             0.94   \n",
       "166           1.70        0.92                  0.43             1.46   \n",
       "168           1.55        0.84                  0.39             1.54   \n",
       "169           1.98        0.96                  0.27             1.11   \n",
       "174           1.80        0.75                  0.43             1.41   \n",
       "175           1.59        0.69                  0.43             1.35   \n",
       "176           1.65        0.68                  0.53             1.46   \n",
       "\n",
       "     Color_intensity   Hue  OD280_by_OD315  Proline  \n",
       "130             4.10  0.76            1.29      630  \n",
       "131             5.40  0.74            1.42      530  \n",
       "133             5.00  0.78            1.29      600  \n",
       "139             4.92  0.89            2.15      590  \n",
       "144             8.21  0.65            2.00      855  \n",
       "145             4.00  0.60            1.68      830  \n",
       "149             9.40  0.57            1.33      550  \n",
       "150             8.60  0.59            1.30      500  \n",
       "151            10.80  0.48            1.47      480  \n",
       "152             7.10  0.61            1.33      425  \n",
       "154             7.60  0.58            1.55      640  \n",
       "161             5.88  0.96            1.82      680  \n",
       "162             5.58  0.87            2.11      570  \n",
       "163             5.28  0.68            1.75      675  \n",
       "166            10.68  0.85            1.56      695  \n",
       "168             8.66  0.74            1.80      750  \n",
       "169             8.50  0.67            1.92      630  \n",
       "174             7.30  0.70            1.56      750  \n",
       "175            10.20  0.59            1.56      835  \n",
       "176             9.30  0.60            1.62      840  "
      ]
     },
     "execution_count": 56,
     "metadata": {},
     "output_type": "execute_result"
    }
   ],
   "source": [
    "df[(df[\"Class\"]==3) & (df[\"Magnesium\"] > 100)]"
   ]
  },
  {
   "cell_type": "code",
   "execution_count": 36,
   "metadata": {
    "id": "Kn-KApsKUvA9"
   },
   "outputs": [],
   "source": [
    "# get the first 8 rows where alcohol content is greater than 12 and Color intensity is greater than 8"
   ]
  },
  {
   "cell_type": "code",
   "execution_count": 57,
   "metadata": {
    "colab": {
     "base_uri": "https://localhost:8080/",
     "height": 317
    },
    "executionInfo": {
     "elapsed": 880,
     "status": "ok",
     "timestamp": 1610937171054,
     "user": {
      "displayName": "Jyoti Gupta",
      "photoUrl": "https://lh3.googleusercontent.com/a-/AOh14Gha7ARiuH9KYsBrRe_sEPEhpI5cXr55TdQBv6x_MA=s64",
      "userId": "16785426337890807929"
     },
     "user_tz": -480
    },
    "id": "1RchOItlVAye",
    "outputId": "e37c6b14-e9a7-4d02-8179-93408fac5d6a"
   },
   "outputs": [
    {
     "data": {
      "application/vnd.microsoft.datawrangler.viewer.v0+json": {
       "columns": [
        {
         "name": "index",
         "rawType": "int64",
         "type": "integer"
        },
        {
         "name": "Class",
         "rawType": "int64",
         "type": "integer"
        },
        {
         "name": "Alcohol",
         "rawType": "float64",
         "type": "float"
        },
        {
         "name": "Malic acid",
         "rawType": "float64",
         "type": "float"
        },
        {
         "name": "Ash",
         "rawType": "float64",
         "type": "float"
        },
        {
         "name": "Alcalinity_of_ash",
         "rawType": "float64",
         "type": "float"
        },
        {
         "name": "Magnesium",
         "rawType": "int64",
         "type": "integer"
        },
        {
         "name": "Total_phenols",
         "rawType": "float64",
         "type": "float"
        },
        {
         "name": "Flavanoids",
         "rawType": "float64",
         "type": "float"
        },
        {
         "name": "Nonflavanoid_phenols",
         "rawType": "float64",
         "type": "float"
        },
        {
         "name": "Proanthocyanins",
         "rawType": "float64",
         "type": "float"
        },
        {
         "name": "Color_intensity",
         "rawType": "float64",
         "type": "float"
        },
        {
         "name": "Hue",
         "rawType": "float64",
         "type": "float"
        },
        {
         "name": "OD280_by_OD315",
         "rawType": "float64",
         "type": "float"
        },
        {
         "name": "Proline",
         "rawType": "int64",
         "type": "integer"
        }
       ],
       "conversionMethod": "pd.DataFrame",
       "ref": "ee8c51bd-27e6-4d57-bb42-47af95de10cb",
       "rows": [
        [
         "18",
         "1",
         "14.19",
         "1.59",
         "2.48",
         "16.5",
         "108",
         "3.3",
         "3.93",
         "0.32",
         "1.86",
         "8.7",
         "1.23",
         "2.82",
         "1680"
        ],
        [
         "49",
         "1",
         "13.94",
         "1.73",
         "2.27",
         "17.4",
         "108",
         "2.88",
         "3.54",
         "0.32",
         "2.08",
         "8.9",
         "1.12",
         "3.1",
         "1260"
        ],
        [
         "144",
         "3",
         "12.25",
         "3.88",
         "2.2",
         "18.5",
         "112",
         "1.38",
         "0.78",
         "0.29",
         "1.14",
         "8.21",
         "0.65",
         "2.0",
         "855"
        ],
        [
         "148",
         "3",
         "13.32",
         "3.24",
         "2.38",
         "21.5",
         "92",
         "1.93",
         "0.76",
         "0.45",
         "1.25",
         "8.42",
         "0.55",
         "1.62",
         "650"
        ],
        [
         "149",
         "3",
         "13.08",
         "3.9",
         "2.36",
         "21.5",
         "113",
         "1.41",
         "1.39",
         "0.34",
         "1.14",
         "9.4",
         "0.57",
         "1.33",
         "550"
        ],
        [
         "150",
         "3",
         "13.5",
         "3.12",
         "2.62",
         "24.0",
         "123",
         "1.4",
         "1.57",
         "0.22",
         "1.25",
         "8.6",
         "0.59",
         "1.3",
         "500"
        ],
        [
         "151",
         "3",
         "12.79",
         "2.67",
         "2.48",
         "22.0",
         "112",
         "1.48",
         "1.36",
         "0.24",
         "1.26",
         "10.8",
         "0.48",
         "1.47",
         "480"
        ],
        [
         "153",
         "3",
         "13.23",
         "3.3",
         "2.28",
         "18.5",
         "98",
         "1.8",
         "0.83",
         "0.61",
         "1.87",
         "10.52",
         "0.56",
         "1.51",
         "675"
        ]
       ],
       "shape": {
        "columns": 14,
        "rows": 8
       }
      },
      "text/html": [
       "<div>\n",
       "<style scoped>\n",
       "    .dataframe tbody tr th:only-of-type {\n",
       "        vertical-align: middle;\n",
       "    }\n",
       "\n",
       "    .dataframe tbody tr th {\n",
       "        vertical-align: top;\n",
       "    }\n",
       "\n",
       "    .dataframe thead th {\n",
       "        text-align: right;\n",
       "    }\n",
       "</style>\n",
       "<table border=\"1\" class=\"dataframe\">\n",
       "  <thead>\n",
       "    <tr style=\"text-align: right;\">\n",
       "      <th></th>\n",
       "      <th>Class</th>\n",
       "      <th>Alcohol</th>\n",
       "      <th>Malic acid</th>\n",
       "      <th>Ash</th>\n",
       "      <th>Alcalinity_of_ash</th>\n",
       "      <th>Magnesium</th>\n",
       "      <th>Total_phenols</th>\n",
       "      <th>Flavanoids</th>\n",
       "      <th>Nonflavanoid_phenols</th>\n",
       "      <th>Proanthocyanins</th>\n",
       "      <th>Color_intensity</th>\n",
       "      <th>Hue</th>\n",
       "      <th>OD280_by_OD315</th>\n",
       "      <th>Proline</th>\n",
       "    </tr>\n",
       "  </thead>\n",
       "  <tbody>\n",
       "    <tr>\n",
       "      <th>18</th>\n",
       "      <td>1</td>\n",
       "      <td>14.19</td>\n",
       "      <td>1.59</td>\n",
       "      <td>2.48</td>\n",
       "      <td>16.5</td>\n",
       "      <td>108</td>\n",
       "      <td>3.30</td>\n",
       "      <td>3.93</td>\n",
       "      <td>0.32</td>\n",
       "      <td>1.86</td>\n",
       "      <td>8.70</td>\n",
       "      <td>1.23</td>\n",
       "      <td>2.82</td>\n",
       "      <td>1680</td>\n",
       "    </tr>\n",
       "    <tr>\n",
       "      <th>49</th>\n",
       "      <td>1</td>\n",
       "      <td>13.94</td>\n",
       "      <td>1.73</td>\n",
       "      <td>2.27</td>\n",
       "      <td>17.4</td>\n",
       "      <td>108</td>\n",
       "      <td>2.88</td>\n",
       "      <td>3.54</td>\n",
       "      <td>0.32</td>\n",
       "      <td>2.08</td>\n",
       "      <td>8.90</td>\n",
       "      <td>1.12</td>\n",
       "      <td>3.10</td>\n",
       "      <td>1260</td>\n",
       "    </tr>\n",
       "    <tr>\n",
       "      <th>144</th>\n",
       "      <td>3</td>\n",
       "      <td>12.25</td>\n",
       "      <td>3.88</td>\n",
       "      <td>2.20</td>\n",
       "      <td>18.5</td>\n",
       "      <td>112</td>\n",
       "      <td>1.38</td>\n",
       "      <td>0.78</td>\n",
       "      <td>0.29</td>\n",
       "      <td>1.14</td>\n",
       "      <td>8.21</td>\n",
       "      <td>0.65</td>\n",
       "      <td>2.00</td>\n",
       "      <td>855</td>\n",
       "    </tr>\n",
       "    <tr>\n",
       "      <th>148</th>\n",
       "      <td>3</td>\n",
       "      <td>13.32</td>\n",
       "      <td>3.24</td>\n",
       "      <td>2.38</td>\n",
       "      <td>21.5</td>\n",
       "      <td>92</td>\n",
       "      <td>1.93</td>\n",
       "      <td>0.76</td>\n",
       "      <td>0.45</td>\n",
       "      <td>1.25</td>\n",
       "      <td>8.42</td>\n",
       "      <td>0.55</td>\n",
       "      <td>1.62</td>\n",
       "      <td>650</td>\n",
       "    </tr>\n",
       "    <tr>\n",
       "      <th>149</th>\n",
       "      <td>3</td>\n",
       "      <td>13.08</td>\n",
       "      <td>3.90</td>\n",
       "      <td>2.36</td>\n",
       "      <td>21.5</td>\n",
       "      <td>113</td>\n",
       "      <td>1.41</td>\n",
       "      <td>1.39</td>\n",
       "      <td>0.34</td>\n",
       "      <td>1.14</td>\n",
       "      <td>9.40</td>\n",
       "      <td>0.57</td>\n",
       "      <td>1.33</td>\n",
       "      <td>550</td>\n",
       "    </tr>\n",
       "    <tr>\n",
       "      <th>150</th>\n",
       "      <td>3</td>\n",
       "      <td>13.50</td>\n",
       "      <td>3.12</td>\n",
       "      <td>2.62</td>\n",
       "      <td>24.0</td>\n",
       "      <td>123</td>\n",
       "      <td>1.40</td>\n",
       "      <td>1.57</td>\n",
       "      <td>0.22</td>\n",
       "      <td>1.25</td>\n",
       "      <td>8.60</td>\n",
       "      <td>0.59</td>\n",
       "      <td>1.30</td>\n",
       "      <td>500</td>\n",
       "    </tr>\n",
       "    <tr>\n",
       "      <th>151</th>\n",
       "      <td>3</td>\n",
       "      <td>12.79</td>\n",
       "      <td>2.67</td>\n",
       "      <td>2.48</td>\n",
       "      <td>22.0</td>\n",
       "      <td>112</td>\n",
       "      <td>1.48</td>\n",
       "      <td>1.36</td>\n",
       "      <td>0.24</td>\n",
       "      <td>1.26</td>\n",
       "      <td>10.80</td>\n",
       "      <td>0.48</td>\n",
       "      <td>1.47</td>\n",
       "      <td>480</td>\n",
       "    </tr>\n",
       "    <tr>\n",
       "      <th>153</th>\n",
       "      <td>3</td>\n",
       "      <td>13.23</td>\n",
       "      <td>3.30</td>\n",
       "      <td>2.28</td>\n",
       "      <td>18.5</td>\n",
       "      <td>98</td>\n",
       "      <td>1.80</td>\n",
       "      <td>0.83</td>\n",
       "      <td>0.61</td>\n",
       "      <td>1.87</td>\n",
       "      <td>10.52</td>\n",
       "      <td>0.56</td>\n",
       "      <td>1.51</td>\n",
       "      <td>675</td>\n",
       "    </tr>\n",
       "  </tbody>\n",
       "</table>\n",
       "</div>"
      ],
      "text/plain": [
       "     Class  Alcohol  Malic acid   Ash  Alcalinity_of_ash  Magnesium  \\\n",
       "18       1    14.19        1.59  2.48               16.5        108   \n",
       "49       1    13.94        1.73  2.27               17.4        108   \n",
       "144      3    12.25        3.88  2.20               18.5        112   \n",
       "148      3    13.32        3.24  2.38               21.5         92   \n",
       "149      3    13.08        3.90  2.36               21.5        113   \n",
       "150      3    13.50        3.12  2.62               24.0        123   \n",
       "151      3    12.79        2.67  2.48               22.0        112   \n",
       "153      3    13.23        3.30  2.28               18.5         98   \n",
       "\n",
       "     Total_phenols  Flavanoids  Nonflavanoid_phenols  Proanthocyanins  \\\n",
       "18            3.30        3.93                  0.32             1.86   \n",
       "49            2.88        3.54                  0.32             2.08   \n",
       "144           1.38        0.78                  0.29             1.14   \n",
       "148           1.93        0.76                  0.45             1.25   \n",
       "149           1.41        1.39                  0.34             1.14   \n",
       "150           1.40        1.57                  0.22             1.25   \n",
       "151           1.48        1.36                  0.24             1.26   \n",
       "153           1.80        0.83                  0.61             1.87   \n",
       "\n",
       "     Color_intensity   Hue  OD280_by_OD315  Proline  \n",
       "18              8.70  1.23            2.82     1680  \n",
       "49              8.90  1.12            3.10     1260  \n",
       "144             8.21  0.65            2.00      855  \n",
       "148             8.42  0.55            1.62      650  \n",
       "149             9.40  0.57            1.33      550  \n",
       "150             8.60  0.59            1.30      500  \n",
       "151            10.80  0.48            1.47      480  \n",
       "153            10.52  0.56            1.51      675  "
      ]
     },
     "execution_count": 57,
     "metadata": {},
     "output_type": "execute_result"
    }
   ],
   "source": [
    "df[(df[\"Alcohol\"] > 12) & (df[\"Color_intensity\"] > 8)][:8]"
   ]
  },
  {
   "cell_type": "code",
   "execution_count": 60,
   "metadata": {
    "colab": {
     "base_uri": "https://localhost:8080/"
    },
    "executionInfo": {
     "elapsed": 4311,
     "status": "ok",
     "timestamp": 1610690042930,
     "user": {
      "displayName": "Jyoti Gupta",
      "photoUrl": "https://lh3.googleusercontent.com/a-/AOh14Gha7ARiuH9KYsBrRe_sEPEhpI5cXr55TdQBv6x_MA=s64",
      "userId": "16785426337890807929"
     },
     "user_tz": -480
    },
    "id": "kycoEp8QxYGv",
    "outputId": "7ebbe7f9-32cf-4b5a-b13c-d5667adad843"
   },
   "outputs": [
    {
     "data": {
      "text/plain": [
       "0    False\n",
       "1    False\n",
       "2    False\n",
       "3    False\n",
       "4    False\n",
       "Name: Class, dtype: bool"
      ]
     },
     "execution_count": 60,
     "metadata": {},
     "output_type": "execute_result"
    }
   ],
   "source": [
    "is_class_2 = df.Class == 2 #compares whether each row in 'df.Class' is equals 2\n",
    "#if != 2. outputs False\n",
    "#if == 2, outputs True\n",
    "is_class_2.head() "
   ]
  },
  {
   "cell_type": "markdown",
   "metadata": {
    "id": "13jI7k5XxYGz"
   },
   "source": [
    "We can then use the series object to reindex back into the dataframe."
   ]
  },
  {
   "cell_type": "code",
   "execution_count": 61,
   "metadata": {
    "colab": {
     "base_uri": "https://localhost:8080/"
    },
    "executionInfo": {
     "elapsed": 5144,
     "status": "ok",
     "timestamp": 1610690043766,
     "user": {
      "displayName": "Jyoti Gupta",
      "photoUrl": "https://lh3.googleusercontent.com/a-/AOh14Gha7ARiuH9KYsBrRe_sEPEhpI5cXr55TdQBv6x_MA=s64",
      "userId": "16785426337890807929"
     },
     "user_tz": -480
    },
    "id": "grFVjbpaxYGz",
    "outputId": "74cc039a-94f1-488b-d3e7-ed90257edcfc"
   },
   "outputs": [
    {
     "data": {
      "application/vnd.microsoft.datawrangler.viewer.v0+json": {
       "columns": [
        {
         "name": "index",
         "rawType": "int64",
         "type": "integer"
        },
        {
         "name": "Class",
         "rawType": "int64",
         "type": "integer"
        },
        {
         "name": "Alcohol",
         "rawType": "float64",
         "type": "float"
        },
        {
         "name": "Malic acid",
         "rawType": "float64",
         "type": "float"
        },
        {
         "name": "Ash",
         "rawType": "float64",
         "type": "float"
        },
        {
         "name": "Alcalinity_of_ash",
         "rawType": "float64",
         "type": "float"
        },
        {
         "name": "Magnesium",
         "rawType": "int64",
         "type": "integer"
        },
        {
         "name": "Total_phenols",
         "rawType": "float64",
         "type": "float"
        },
        {
         "name": "Flavanoids",
         "rawType": "float64",
         "type": "float"
        },
        {
         "name": "Nonflavanoid_phenols",
         "rawType": "float64",
         "type": "float"
        },
        {
         "name": "Proanthocyanins",
         "rawType": "float64",
         "type": "float"
        },
        {
         "name": "Color_intensity",
         "rawType": "float64",
         "type": "float"
        },
        {
         "name": "Hue",
         "rawType": "float64",
         "type": "float"
        },
        {
         "name": "OD280_by_OD315",
         "rawType": "float64",
         "type": "float"
        },
        {
         "name": "Proline",
         "rawType": "int64",
         "type": "integer"
        }
       ],
       "conversionMethod": "pd.DataFrame",
       "ref": "e8fcffaa-3344-4f52-94cb-e3b975c540df",
       "rows": [
        [
         "59",
         "2",
         "12.37",
         "0.94",
         "1.36",
         "10.6",
         "88",
         "1.98",
         "0.57",
         "0.28",
         "0.42",
         "1.95",
         "1.05",
         "1.82",
         "520"
        ],
        [
         "60",
         "2",
         "12.33",
         "1.1",
         "2.28",
         "16.0",
         "101",
         "2.05",
         "1.09",
         "0.63",
         "0.41",
         "3.27",
         "1.25",
         "1.67",
         "680"
        ],
        [
         "61",
         "2",
         "12.64",
         "1.36",
         "2.02",
         "16.8",
         "100",
         "2.02",
         "1.41",
         "0.53",
         "0.62",
         "5.75",
         "0.98",
         "1.59",
         "450"
        ],
        [
         "62",
         "2",
         "13.67",
         "1.25",
         "1.92",
         "18.0",
         "94",
         "2.1",
         "1.79",
         "0.32",
         "0.73",
         "3.8",
         "1.23",
         "2.46",
         "630"
        ],
        [
         "63",
         "2",
         "12.37",
         "1.13",
         "2.16",
         "19.0",
         "87",
         "3.5",
         "3.1",
         "0.19",
         "1.87",
         "4.45",
         "1.22",
         "2.87",
         "420"
        ]
       ],
       "shape": {
        "columns": 14,
        "rows": 5
       }
      },
      "text/html": [
       "<div>\n",
       "<style scoped>\n",
       "    .dataframe tbody tr th:only-of-type {\n",
       "        vertical-align: middle;\n",
       "    }\n",
       "\n",
       "    .dataframe tbody tr th {\n",
       "        vertical-align: top;\n",
       "    }\n",
       "\n",
       "    .dataframe thead th {\n",
       "        text-align: right;\n",
       "    }\n",
       "</style>\n",
       "<table border=\"1\" class=\"dataframe\">\n",
       "  <thead>\n",
       "    <tr style=\"text-align: right;\">\n",
       "      <th></th>\n",
       "      <th>Class</th>\n",
       "      <th>Alcohol</th>\n",
       "      <th>Malic acid</th>\n",
       "      <th>Ash</th>\n",
       "      <th>Alcalinity_of_ash</th>\n",
       "      <th>Magnesium</th>\n",
       "      <th>Total_phenols</th>\n",
       "      <th>Flavanoids</th>\n",
       "      <th>Nonflavanoid_phenols</th>\n",
       "      <th>Proanthocyanins</th>\n",
       "      <th>Color_intensity</th>\n",
       "      <th>Hue</th>\n",
       "      <th>OD280_by_OD315</th>\n",
       "      <th>Proline</th>\n",
       "    </tr>\n",
       "  </thead>\n",
       "  <tbody>\n",
       "    <tr>\n",
       "      <th>59</th>\n",
       "      <td>2</td>\n",
       "      <td>12.37</td>\n",
       "      <td>0.94</td>\n",
       "      <td>1.36</td>\n",
       "      <td>10.6</td>\n",
       "      <td>88</td>\n",
       "      <td>1.98</td>\n",
       "      <td>0.57</td>\n",
       "      <td>0.28</td>\n",
       "      <td>0.42</td>\n",
       "      <td>1.95</td>\n",
       "      <td>1.05</td>\n",
       "      <td>1.82</td>\n",
       "      <td>520</td>\n",
       "    </tr>\n",
       "    <tr>\n",
       "      <th>60</th>\n",
       "      <td>2</td>\n",
       "      <td>12.33</td>\n",
       "      <td>1.10</td>\n",
       "      <td>2.28</td>\n",
       "      <td>16.0</td>\n",
       "      <td>101</td>\n",
       "      <td>2.05</td>\n",
       "      <td>1.09</td>\n",
       "      <td>0.63</td>\n",
       "      <td>0.41</td>\n",
       "      <td>3.27</td>\n",
       "      <td>1.25</td>\n",
       "      <td>1.67</td>\n",
       "      <td>680</td>\n",
       "    </tr>\n",
       "    <tr>\n",
       "      <th>61</th>\n",
       "      <td>2</td>\n",
       "      <td>12.64</td>\n",
       "      <td>1.36</td>\n",
       "      <td>2.02</td>\n",
       "      <td>16.8</td>\n",
       "      <td>100</td>\n",
       "      <td>2.02</td>\n",
       "      <td>1.41</td>\n",
       "      <td>0.53</td>\n",
       "      <td>0.62</td>\n",
       "      <td>5.75</td>\n",
       "      <td>0.98</td>\n",
       "      <td>1.59</td>\n",
       "      <td>450</td>\n",
       "    </tr>\n",
       "    <tr>\n",
       "      <th>62</th>\n",
       "      <td>2</td>\n",
       "      <td>13.67</td>\n",
       "      <td>1.25</td>\n",
       "      <td>1.92</td>\n",
       "      <td>18.0</td>\n",
       "      <td>94</td>\n",
       "      <td>2.10</td>\n",
       "      <td>1.79</td>\n",
       "      <td>0.32</td>\n",
       "      <td>0.73</td>\n",
       "      <td>3.80</td>\n",
       "      <td>1.23</td>\n",
       "      <td>2.46</td>\n",
       "      <td>630</td>\n",
       "    </tr>\n",
       "    <tr>\n",
       "      <th>63</th>\n",
       "      <td>2</td>\n",
       "      <td>12.37</td>\n",
       "      <td>1.13</td>\n",
       "      <td>2.16</td>\n",
       "      <td>19.0</td>\n",
       "      <td>87</td>\n",
       "      <td>3.50</td>\n",
       "      <td>3.10</td>\n",
       "      <td>0.19</td>\n",
       "      <td>1.87</td>\n",
       "      <td>4.45</td>\n",
       "      <td>1.22</td>\n",
       "      <td>2.87</td>\n",
       "      <td>420</td>\n",
       "    </tr>\n",
       "  </tbody>\n",
       "</table>\n",
       "</div>"
      ],
      "text/plain": [
       "    Class  Alcohol  Malic acid   Ash  Alcalinity_of_ash  Magnesium  \\\n",
       "59      2    12.37        0.94  1.36               10.6         88   \n",
       "60      2    12.33        1.10  2.28               16.0        101   \n",
       "61      2    12.64        1.36  2.02               16.8        100   \n",
       "62      2    13.67        1.25  1.92               18.0         94   \n",
       "63      2    12.37        1.13  2.16               19.0         87   \n",
       "\n",
       "    Total_phenols  Flavanoids  Nonflavanoid_phenols  Proanthocyanins  \\\n",
       "59           1.98        0.57                  0.28             0.42   \n",
       "60           2.05        1.09                  0.63             0.41   \n",
       "61           2.02        1.41                  0.53             0.62   \n",
       "62           2.10        1.79                  0.32             0.73   \n",
       "63           3.50        3.10                  0.19             1.87   \n",
       "\n",
       "    Color_intensity   Hue  OD280_by_OD315  Proline  \n",
       "59             1.95  1.05            1.82      520  \n",
       "60             3.27  1.25            1.67      680  \n",
       "61             5.75  0.98            1.59      450  \n",
       "62             3.80  1.23            2.46      630  \n",
       "63             4.45  1.22            2.87      420  "
      ]
     },
     "execution_count": 61,
     "metadata": {},
     "output_type": "execute_result"
    }
   ],
   "source": [
    "df[is_class_2].head()"
   ]
  },
  {
   "cell_type": "markdown",
   "metadata": {
    "id": "VzD3wFalxYG1"
   },
   "source": [
    "What if we want to select rows based on two conditions, in such cases we can combine out boolean arrays using and (`&`) or, or (`|`). "
   ]
  },
  {
   "cell_type": "code",
   "execution_count": 62,
   "metadata": {
    "colab": {
     "base_uri": "https://localhost:8080/"
    },
    "executionInfo": {
     "elapsed": 5143,
     "status": "ok",
     "timestamp": 1610690043767,
     "user": {
      "displayName": "Jyoti Gupta",
      "photoUrl": "https://lh3.googleusercontent.com/a-/AOh14Gha7ARiuH9KYsBrRe_sEPEhpI5cXr55TdQBv6x_MA=s64",
      "userId": "16785426337890807929"
     },
     "user_tz": -480
    },
    "id": "XpoRlF6pxYG2",
    "outputId": "ffc4a8e4-d85d-4f80-aafe-92d35d7dd6f6"
   },
   "outputs": [
    {
     "data": {
      "application/vnd.microsoft.datawrangler.viewer.v0+json": {
       "columns": [
        {
         "name": "index",
         "rawType": "int64",
         "type": "integer"
        },
        {
         "name": "Class",
         "rawType": "int64",
         "type": "integer"
        },
        {
         "name": "Alcohol",
         "rawType": "float64",
         "type": "float"
        },
        {
         "name": "Malic acid",
         "rawType": "float64",
         "type": "float"
        },
        {
         "name": "Ash",
         "rawType": "float64",
         "type": "float"
        },
        {
         "name": "Alcalinity_of_ash",
         "rawType": "float64",
         "type": "float"
        },
        {
         "name": "Magnesium",
         "rawType": "int64",
         "type": "integer"
        },
        {
         "name": "Total_phenols",
         "rawType": "float64",
         "type": "float"
        },
        {
         "name": "Flavanoids",
         "rawType": "float64",
         "type": "float"
        },
        {
         "name": "Nonflavanoid_phenols",
         "rawType": "float64",
         "type": "float"
        },
        {
         "name": "Proanthocyanins",
         "rawType": "float64",
         "type": "float"
        },
        {
         "name": "Color_intensity",
         "rawType": "float64",
         "type": "float"
        },
        {
         "name": "Hue",
         "rawType": "float64",
         "type": "float"
        },
        {
         "name": "OD280_by_OD315",
         "rawType": "float64",
         "type": "float"
        },
        {
         "name": "Proline",
         "rawType": "int64",
         "type": "integer"
        }
       ],
       "conversionMethod": "pd.DataFrame",
       "ref": "93328eea-a133-4554-a4b4-4eb86a4f0c5e",
       "rows": [
        [
         "60",
         "2",
         "12.33",
         "1.1",
         "2.28",
         "16.0",
         "101",
         "2.05",
         "1.09",
         "0.63",
         "0.41",
         "3.27",
         "1.25",
         "1.67",
         "680"
        ],
        [
         "61",
         "2",
         "12.64",
         "1.36",
         "2.02",
         "16.8",
         "100",
         "2.02",
         "1.41",
         "0.53",
         "0.62",
         "5.75",
         "0.98",
         "1.59",
         "450"
        ],
        [
         "62",
         "2",
         "13.67",
         "1.25",
         "1.92",
         "18.0",
         "94",
         "2.1",
         "1.79",
         "0.32",
         "0.73",
         "3.8",
         "1.23",
         "2.46",
         "630"
        ],
        [
         "63",
         "2",
         "12.37",
         "1.13",
         "2.16",
         "19.0",
         "87",
         "3.5",
         "3.1",
         "0.19",
         "1.87",
         "4.45",
         "1.22",
         "2.87",
         "420"
        ],
        [
         "64",
         "2",
         "12.17",
         "1.45",
         "2.53",
         "19.0",
         "104",
         "1.89",
         "1.75",
         "0.45",
         "1.03",
         "2.95",
         "1.45",
         "2.23",
         "355"
        ]
       ],
       "shape": {
        "columns": 14,
        "rows": 5
       }
      },
      "text/html": [
       "<div>\n",
       "<style scoped>\n",
       "    .dataframe tbody tr th:only-of-type {\n",
       "        vertical-align: middle;\n",
       "    }\n",
       "\n",
       "    .dataframe tbody tr th {\n",
       "        vertical-align: top;\n",
       "    }\n",
       "\n",
       "    .dataframe thead th {\n",
       "        text-align: right;\n",
       "    }\n",
       "</style>\n",
       "<table border=\"1\" class=\"dataframe\">\n",
       "  <thead>\n",
       "    <tr style=\"text-align: right;\">\n",
       "      <th></th>\n",
       "      <th>Class</th>\n",
       "      <th>Alcohol</th>\n",
       "      <th>Malic acid</th>\n",
       "      <th>Ash</th>\n",
       "      <th>Alcalinity_of_ash</th>\n",
       "      <th>Magnesium</th>\n",
       "      <th>Total_phenols</th>\n",
       "      <th>Flavanoids</th>\n",
       "      <th>Nonflavanoid_phenols</th>\n",
       "      <th>Proanthocyanins</th>\n",
       "      <th>Color_intensity</th>\n",
       "      <th>Hue</th>\n",
       "      <th>OD280_by_OD315</th>\n",
       "      <th>Proline</th>\n",
       "    </tr>\n",
       "  </thead>\n",
       "  <tbody>\n",
       "    <tr>\n",
       "      <th>60</th>\n",
       "      <td>2</td>\n",
       "      <td>12.33</td>\n",
       "      <td>1.10</td>\n",
       "      <td>2.28</td>\n",
       "      <td>16.0</td>\n",
       "      <td>101</td>\n",
       "      <td>2.05</td>\n",
       "      <td>1.09</td>\n",
       "      <td>0.63</td>\n",
       "      <td>0.41</td>\n",
       "      <td>3.27</td>\n",
       "      <td>1.25</td>\n",
       "      <td>1.67</td>\n",
       "      <td>680</td>\n",
       "    </tr>\n",
       "    <tr>\n",
       "      <th>61</th>\n",
       "      <td>2</td>\n",
       "      <td>12.64</td>\n",
       "      <td>1.36</td>\n",
       "      <td>2.02</td>\n",
       "      <td>16.8</td>\n",
       "      <td>100</td>\n",
       "      <td>2.02</td>\n",
       "      <td>1.41</td>\n",
       "      <td>0.53</td>\n",
       "      <td>0.62</td>\n",
       "      <td>5.75</td>\n",
       "      <td>0.98</td>\n",
       "      <td>1.59</td>\n",
       "      <td>450</td>\n",
       "    </tr>\n",
       "    <tr>\n",
       "      <th>62</th>\n",
       "      <td>2</td>\n",
       "      <td>13.67</td>\n",
       "      <td>1.25</td>\n",
       "      <td>1.92</td>\n",
       "      <td>18.0</td>\n",
       "      <td>94</td>\n",
       "      <td>2.10</td>\n",
       "      <td>1.79</td>\n",
       "      <td>0.32</td>\n",
       "      <td>0.73</td>\n",
       "      <td>3.80</td>\n",
       "      <td>1.23</td>\n",
       "      <td>2.46</td>\n",
       "      <td>630</td>\n",
       "    </tr>\n",
       "    <tr>\n",
       "      <th>63</th>\n",
       "      <td>2</td>\n",
       "      <td>12.37</td>\n",
       "      <td>1.13</td>\n",
       "      <td>2.16</td>\n",
       "      <td>19.0</td>\n",
       "      <td>87</td>\n",
       "      <td>3.50</td>\n",
       "      <td>3.10</td>\n",
       "      <td>0.19</td>\n",
       "      <td>1.87</td>\n",
       "      <td>4.45</td>\n",
       "      <td>1.22</td>\n",
       "      <td>2.87</td>\n",
       "      <td>420</td>\n",
       "    </tr>\n",
       "    <tr>\n",
       "      <th>64</th>\n",
       "      <td>2</td>\n",
       "      <td>12.17</td>\n",
       "      <td>1.45</td>\n",
       "      <td>2.53</td>\n",
       "      <td>19.0</td>\n",
       "      <td>104</td>\n",
       "      <td>1.89</td>\n",
       "      <td>1.75</td>\n",
       "      <td>0.45</td>\n",
       "      <td>1.03</td>\n",
       "      <td>2.95</td>\n",
       "      <td>1.45</td>\n",
       "      <td>2.23</td>\n",
       "      <td>355</td>\n",
       "    </tr>\n",
       "  </tbody>\n",
       "</table>\n",
       "</div>"
      ],
      "text/plain": [
       "    Class  Alcohol  Malic acid   Ash  Alcalinity_of_ash  Magnesium  \\\n",
       "60      2    12.33        1.10  2.28               16.0        101   \n",
       "61      2    12.64        1.36  2.02               16.8        100   \n",
       "62      2    13.67        1.25  1.92               18.0         94   \n",
       "63      2    12.37        1.13  2.16               19.0         87   \n",
       "64      2    12.17        1.45  2.53               19.0        104   \n",
       "\n",
       "    Total_phenols  Flavanoids  Nonflavanoid_phenols  Proanthocyanins  \\\n",
       "60           2.05        1.09                  0.63             0.41   \n",
       "61           2.02        1.41                  0.53             0.62   \n",
       "62           2.10        1.79                  0.32             0.73   \n",
       "63           3.50        3.10                  0.19             1.87   \n",
       "64           1.89        1.75                  0.45             1.03   \n",
       "\n",
       "    Color_intensity   Hue  OD280_by_OD315  Proline  \n",
       "60             3.27  1.25            1.67      680  \n",
       "61             5.75  0.98            1.59      450  \n",
       "62             3.80  1.23            2.46      630  \n",
       "63             4.45  1.22            2.87      420  \n",
       "64             2.95  1.45            2.23      355  "
      ]
     },
     "execution_count": 62,
     "metadata": {},
     "output_type": "execute_result"
    }
   ],
   "source": [
    "got_flava = df.Flavanoids > 1\n",
    "df[ got_flava & is_class_2 ][:5] #got flava and is class 2 must both be true"
   ]
  },
  {
   "cell_type": "code",
   "execution_count": 63,
   "metadata": {
    "id": "W8TJPUYrxYG4"
   },
   "outputs": [],
   "source": [
    "condition_1 = df.Total_phenols > 2\n",
    "condition_2 = df.Proanthocyanins > 1"
   ]
  },
  {
   "cell_type": "code",
   "execution_count": 64,
   "metadata": {
    "colab": {
     "base_uri": "https://localhost:8080/"
    },
    "executionInfo": {
     "elapsed": 5143,
     "status": "ok",
     "timestamp": 1610690043769,
     "user": {
      "displayName": "Jyoti Gupta",
      "photoUrl": "https://lh3.googleusercontent.com/a-/AOh14Gha7ARiuH9KYsBrRe_sEPEhpI5cXr55TdQBv6x_MA=s64",
      "userId": "16785426337890807929"
     },
     "user_tz": -480
    },
    "id": "ZKgCIHqcxYG5",
    "outputId": "3f5b907c-4255-4ae7-b099-009929d6c08f"
   },
   "outputs": [
    {
     "data": {
      "application/vnd.microsoft.datawrangler.viewer.v0+json": {
       "columns": [
        {
         "name": "index",
         "rawType": "int64",
         "type": "integer"
        },
        {
         "name": "Class",
         "rawType": "int64",
         "type": "integer"
        },
        {
         "name": "Alcohol",
         "rawType": "float64",
         "type": "float"
        },
        {
         "name": "Malic acid",
         "rawType": "float64",
         "type": "float"
        },
        {
         "name": "Ash",
         "rawType": "float64",
         "type": "float"
        },
        {
         "name": "Alcalinity_of_ash",
         "rawType": "float64",
         "type": "float"
        },
        {
         "name": "Magnesium",
         "rawType": "int64",
         "type": "integer"
        },
        {
         "name": "Total_phenols",
         "rawType": "float64",
         "type": "float"
        },
        {
         "name": "Flavanoids",
         "rawType": "float64",
         "type": "float"
        },
        {
         "name": "Nonflavanoid_phenols",
         "rawType": "float64",
         "type": "float"
        },
        {
         "name": "Proanthocyanins",
         "rawType": "float64",
         "type": "float"
        },
        {
         "name": "Color_intensity",
         "rawType": "float64",
         "type": "float"
        },
        {
         "name": "Hue",
         "rawType": "float64",
         "type": "float"
        },
        {
         "name": "OD280_by_OD315",
         "rawType": "float64",
         "type": "float"
        },
        {
         "name": "Proline",
         "rawType": "int64",
         "type": "integer"
        }
       ],
       "conversionMethod": "pd.DataFrame",
       "ref": "5bb40c7f-78d8-47da-a69c-eb3548fc4590",
       "rows": [
        [
         "0",
         "1",
         "14.23",
         "1.71",
         "2.43",
         "15.6",
         "127",
         "2.8",
         "3.06",
         "0.28",
         "2.29",
         "5.64",
         "1.04",
         "3.92",
         "1065"
        ],
        [
         "1",
         "1",
         "13.2",
         "1.78",
         "2.14",
         "11.2",
         "100",
         "2.65",
         "2.76",
         "0.26",
         "1.28",
         "4.38",
         "1.05",
         "3.4",
         "1050"
        ],
        [
         "2",
         "1",
         "13.16",
         "2.36",
         "2.67",
         "18.6",
         "101",
         "2.8",
         "3.24",
         "0.3",
         "2.81",
         "5.68",
         "1.03",
         "3.17",
         "1185"
        ],
        [
         "3",
         "1",
         "14.37",
         "1.95",
         "2.5",
         "16.8",
         "113",
         "3.85",
         "3.49",
         "0.24",
         "2.18",
         "7.8",
         "0.86",
         "3.45",
         "1480"
        ],
        [
         "4",
         "1",
         "13.24",
         "2.59",
         "2.87",
         "21.0",
         "118",
         "2.8",
         "2.69",
         "0.39",
         "1.82",
         "4.32",
         "1.04",
         "2.93",
         "735"
        ]
       ],
       "shape": {
        "columns": 14,
        "rows": 5
       }
      },
      "text/html": [
       "<div>\n",
       "<style scoped>\n",
       "    .dataframe tbody tr th:only-of-type {\n",
       "        vertical-align: middle;\n",
       "    }\n",
       "\n",
       "    .dataframe tbody tr th {\n",
       "        vertical-align: top;\n",
       "    }\n",
       "\n",
       "    .dataframe thead th {\n",
       "        text-align: right;\n",
       "    }\n",
       "</style>\n",
       "<table border=\"1\" class=\"dataframe\">\n",
       "  <thead>\n",
       "    <tr style=\"text-align: right;\">\n",
       "      <th></th>\n",
       "      <th>Class</th>\n",
       "      <th>Alcohol</th>\n",
       "      <th>Malic acid</th>\n",
       "      <th>Ash</th>\n",
       "      <th>Alcalinity_of_ash</th>\n",
       "      <th>Magnesium</th>\n",
       "      <th>Total_phenols</th>\n",
       "      <th>Flavanoids</th>\n",
       "      <th>Nonflavanoid_phenols</th>\n",
       "      <th>Proanthocyanins</th>\n",
       "      <th>Color_intensity</th>\n",
       "      <th>Hue</th>\n",
       "      <th>OD280_by_OD315</th>\n",
       "      <th>Proline</th>\n",
       "    </tr>\n",
       "  </thead>\n",
       "  <tbody>\n",
       "    <tr>\n",
       "      <th>0</th>\n",
       "      <td>1</td>\n",
       "      <td>14.23</td>\n",
       "      <td>1.71</td>\n",
       "      <td>2.43</td>\n",
       "      <td>15.6</td>\n",
       "      <td>127</td>\n",
       "      <td>2.80</td>\n",
       "      <td>3.06</td>\n",
       "      <td>0.28</td>\n",
       "      <td>2.29</td>\n",
       "      <td>5.64</td>\n",
       "      <td>1.04</td>\n",
       "      <td>3.92</td>\n",
       "      <td>1065</td>\n",
       "    </tr>\n",
       "    <tr>\n",
       "      <th>1</th>\n",
       "      <td>1</td>\n",
       "      <td>13.20</td>\n",
       "      <td>1.78</td>\n",
       "      <td>2.14</td>\n",
       "      <td>11.2</td>\n",
       "      <td>100</td>\n",
       "      <td>2.65</td>\n",
       "      <td>2.76</td>\n",
       "      <td>0.26</td>\n",
       "      <td>1.28</td>\n",
       "      <td>4.38</td>\n",
       "      <td>1.05</td>\n",
       "      <td>3.40</td>\n",
       "      <td>1050</td>\n",
       "    </tr>\n",
       "    <tr>\n",
       "      <th>2</th>\n",
       "      <td>1</td>\n",
       "      <td>13.16</td>\n",
       "      <td>2.36</td>\n",
       "      <td>2.67</td>\n",
       "      <td>18.6</td>\n",
       "      <td>101</td>\n",
       "      <td>2.80</td>\n",
       "      <td>3.24</td>\n",
       "      <td>0.30</td>\n",
       "      <td>2.81</td>\n",
       "      <td>5.68</td>\n",
       "      <td>1.03</td>\n",
       "      <td>3.17</td>\n",
       "      <td>1185</td>\n",
       "    </tr>\n",
       "    <tr>\n",
       "      <th>3</th>\n",
       "      <td>1</td>\n",
       "      <td>14.37</td>\n",
       "      <td>1.95</td>\n",
       "      <td>2.50</td>\n",
       "      <td>16.8</td>\n",
       "      <td>113</td>\n",
       "      <td>3.85</td>\n",
       "      <td>3.49</td>\n",
       "      <td>0.24</td>\n",
       "      <td>2.18</td>\n",
       "      <td>7.80</td>\n",
       "      <td>0.86</td>\n",
       "      <td>3.45</td>\n",
       "      <td>1480</td>\n",
       "    </tr>\n",
       "    <tr>\n",
       "      <th>4</th>\n",
       "      <td>1</td>\n",
       "      <td>13.24</td>\n",
       "      <td>2.59</td>\n",
       "      <td>2.87</td>\n",
       "      <td>21.0</td>\n",
       "      <td>118</td>\n",
       "      <td>2.80</td>\n",
       "      <td>2.69</td>\n",
       "      <td>0.39</td>\n",
       "      <td>1.82</td>\n",
       "      <td>4.32</td>\n",
       "      <td>1.04</td>\n",
       "      <td>2.93</td>\n",
       "      <td>735</td>\n",
       "    </tr>\n",
       "  </tbody>\n",
       "</table>\n",
       "</div>"
      ],
      "text/plain": [
       "   Class  Alcohol  Malic acid   Ash  Alcalinity_of_ash  Magnesium  \\\n",
       "0      1    14.23        1.71  2.43               15.6        127   \n",
       "1      1    13.20        1.78  2.14               11.2        100   \n",
       "2      1    13.16        2.36  2.67               18.6        101   \n",
       "3      1    14.37        1.95  2.50               16.8        113   \n",
       "4      1    13.24        2.59  2.87               21.0        118   \n",
       "\n",
       "   Total_phenols  Flavanoids  Nonflavanoid_phenols  Proanthocyanins  \\\n",
       "0           2.80        3.06                  0.28             2.29   \n",
       "1           2.65        2.76                  0.26             1.28   \n",
       "2           2.80        3.24                  0.30             2.81   \n",
       "3           3.85        3.49                  0.24             2.18   \n",
       "4           2.80        2.69                  0.39             1.82   \n",
       "\n",
       "   Color_intensity   Hue  OD280_by_OD315  Proline  \n",
       "0             5.64  1.04            3.92     1065  \n",
       "1             4.38  1.05            3.40     1050  \n",
       "2             5.68  1.03            3.17     1185  \n",
       "3             7.80  0.86            3.45     1480  \n",
       "4             4.32  1.04            2.93      735  "
      ]
     },
     "execution_count": 64,
     "metadata": {},
     "output_type": "execute_result"
    }
   ],
   "source": [
    "df[condition_1 | condition_2][:5] # either condition 1 or condtion 2 must be true"
   ]
  },
  {
   "cell_type": "markdown",
   "metadata": {
    "id": "4cSneftZxYG7"
   },
   "source": [
    "# Descriptive stats\n",
    "\n",
    "\n",
    "Pandas has built-in functions to quickly get statstics about our data."
   ]
  },
  {
   "cell_type": "code",
   "execution_count": 65,
   "metadata": {
    "colab": {
     "base_uri": "https://localhost:8080/",
     "height": 317
    },
    "executionInfo": {
     "elapsed": 5141,
     "status": "ok",
     "timestamp": 1610690043769,
     "user": {
      "displayName": "Jyoti Gupta",
      "photoUrl": "https://lh3.googleusercontent.com/a-/AOh14Gha7ARiuH9KYsBrRe_sEPEhpI5cXr55TdQBv6x_MA=s64",
      "userId": "16785426337890807929"
     },
     "user_tz": -480
    },
    "id": "ucl0KtVcxYG8",
    "outputId": "97fd4939-7498-4fb3-ed98-ee09d8bb0afe"
   },
   "outputs": [
    {
     "data": {
      "application/vnd.microsoft.datawrangler.viewer.v0+json": {
       "columns": [
        {
         "name": "index",
         "rawType": "object",
         "type": "string"
        },
        {
         "name": "Class",
         "rawType": "float64",
         "type": "float"
        },
        {
         "name": "Alcohol",
         "rawType": "float64",
         "type": "float"
        },
        {
         "name": "Malic acid",
         "rawType": "float64",
         "type": "float"
        },
        {
         "name": "Ash",
         "rawType": "float64",
         "type": "float"
        },
        {
         "name": "Alcalinity_of_ash",
         "rawType": "float64",
         "type": "float"
        },
        {
         "name": "Magnesium",
         "rawType": "float64",
         "type": "float"
        },
        {
         "name": "Total_phenols",
         "rawType": "float64",
         "type": "float"
        },
        {
         "name": "Flavanoids",
         "rawType": "float64",
         "type": "float"
        },
        {
         "name": "Nonflavanoid_phenols",
         "rawType": "float64",
         "type": "float"
        },
        {
         "name": "Proanthocyanins",
         "rawType": "float64",
         "type": "float"
        },
        {
         "name": "Color_intensity",
         "rawType": "float64",
         "type": "float"
        },
        {
         "name": "Hue",
         "rawType": "float64",
         "type": "float"
        },
        {
         "name": "OD280_by_OD315",
         "rawType": "float64",
         "type": "float"
        },
        {
         "name": "Proline",
         "rawType": "float64",
         "type": "float"
        }
       ],
       "conversionMethod": "pd.DataFrame",
       "ref": "4999c888-3170-4a23-8bd7-438624956f0e",
       "rows": [
        [
         "count",
         "178.0",
         "178.0",
         "178.0",
         "178.0",
         "178.0",
         "178.0",
         "178.0",
         "178.0",
         "178.0",
         "178.0",
         "178.0",
         "178.0",
         "178.0",
         "178.0"
        ],
        [
         "mean",
         "1.9382022471910112",
         "13.000617977528083",
         "2.336348314606741",
         "2.3665168539325854",
         "19.49494382022472",
         "99.74157303370787",
         "2.295112359550562",
         "2.0292696629213474",
         "0.36185393258426973",
         "1.5908988764044953",
         "5.058089882022473",
         "0.9574494382022468",
         "2.6116853932584254",
         "746.8932584269663"
        ],
        [
         "std",
         "0.7750349899850565",
         "0.8118265380058577",
         "1.1171460976144627",
         "0.2743440090608148",
         "3.3395637671735052",
         "14.282483515295668",
         "0.6258510488339891",
         "0.9988586850169465",
         "0.12445334029667939",
         "0.5723588626747611",
         "2.318285871822413",
         "0.22857156582982338",
         "0.7099904287650505",
         "314.9074742768489"
        ],
        [
         "min",
         "1.0",
         "11.03",
         "0.74",
         "1.36",
         "10.6",
         "70.0",
         "0.98",
         "0.34",
         "0.13",
         "0.41",
         "1.28",
         "0.48",
         "1.27",
         "278.0"
        ],
        [
         "25%",
         "1.0",
         "12.362499999999999",
         "1.6025",
         "2.21",
         "17.2",
         "88.0",
         "1.7425",
         "1.205",
         "0.27",
         "1.25",
         "3.2199999999999998",
         "0.7825",
         "1.9375",
         "500.5"
        ],
        [
         "50%",
         "2.0",
         "13.05",
         "1.8650000000000002",
         "2.36",
         "19.5",
         "98.0",
         "2.355",
         "2.135",
         "0.34",
         "1.5550000000000002",
         "4.6899999999999995",
         "0.965",
         "2.78",
         "673.5"
        ],
        [
         "75%",
         "3.0",
         "13.6775",
         "3.0825",
         "2.5575",
         "21.5",
         "107.0",
         "2.8",
         "2.875",
         "0.4375",
         "1.95",
         "6.2",
         "1.12",
         "3.17",
         "985.0"
        ],
        [
         "max",
         "3.0",
         "14.83",
         "5.8",
         "3.23",
         "30.0",
         "162.0",
         "3.88",
         "5.08",
         "0.66",
         "3.58",
         "13.0",
         "1.71",
         "4.0",
         "1680.0"
        ]
       ],
       "shape": {
        "columns": 14,
        "rows": 8
       }
      },
      "text/html": [
       "<div>\n",
       "<style scoped>\n",
       "    .dataframe tbody tr th:only-of-type {\n",
       "        vertical-align: middle;\n",
       "    }\n",
       "\n",
       "    .dataframe tbody tr th {\n",
       "        vertical-align: top;\n",
       "    }\n",
       "\n",
       "    .dataframe thead th {\n",
       "        text-align: right;\n",
       "    }\n",
       "</style>\n",
       "<table border=\"1\" class=\"dataframe\">\n",
       "  <thead>\n",
       "    <tr style=\"text-align: right;\">\n",
       "      <th></th>\n",
       "      <th>Class</th>\n",
       "      <th>Alcohol</th>\n",
       "      <th>Malic acid</th>\n",
       "      <th>Ash</th>\n",
       "      <th>Alcalinity_of_ash</th>\n",
       "      <th>Magnesium</th>\n",
       "      <th>Total_phenols</th>\n",
       "      <th>Flavanoids</th>\n",
       "      <th>Nonflavanoid_phenols</th>\n",
       "      <th>Proanthocyanins</th>\n",
       "      <th>Color_intensity</th>\n",
       "      <th>Hue</th>\n",
       "      <th>OD280_by_OD315</th>\n",
       "      <th>Proline</th>\n",
       "    </tr>\n",
       "  </thead>\n",
       "  <tbody>\n",
       "    <tr>\n",
       "      <th>count</th>\n",
       "      <td>178.000000</td>\n",
       "      <td>178.000000</td>\n",
       "      <td>178.000000</td>\n",
       "      <td>178.000000</td>\n",
       "      <td>178.000000</td>\n",
       "      <td>178.000000</td>\n",
       "      <td>178.000000</td>\n",
       "      <td>178.000000</td>\n",
       "      <td>178.000000</td>\n",
       "      <td>178.000000</td>\n",
       "      <td>178.000000</td>\n",
       "      <td>178.000000</td>\n",
       "      <td>178.000000</td>\n",
       "      <td>178.000000</td>\n",
       "    </tr>\n",
       "    <tr>\n",
       "      <th>mean</th>\n",
       "      <td>1.938202</td>\n",
       "      <td>13.000618</td>\n",
       "      <td>2.336348</td>\n",
       "      <td>2.366517</td>\n",
       "      <td>19.494944</td>\n",
       "      <td>99.741573</td>\n",
       "      <td>2.295112</td>\n",
       "      <td>2.029270</td>\n",
       "      <td>0.361854</td>\n",
       "      <td>1.590899</td>\n",
       "      <td>5.058090</td>\n",
       "      <td>0.957449</td>\n",
       "      <td>2.611685</td>\n",
       "      <td>746.893258</td>\n",
       "    </tr>\n",
       "    <tr>\n",
       "      <th>std</th>\n",
       "      <td>0.775035</td>\n",
       "      <td>0.811827</td>\n",
       "      <td>1.117146</td>\n",
       "      <td>0.274344</td>\n",
       "      <td>3.339564</td>\n",
       "      <td>14.282484</td>\n",
       "      <td>0.625851</td>\n",
       "      <td>0.998859</td>\n",
       "      <td>0.124453</td>\n",
       "      <td>0.572359</td>\n",
       "      <td>2.318286</td>\n",
       "      <td>0.228572</td>\n",
       "      <td>0.709990</td>\n",
       "      <td>314.907474</td>\n",
       "    </tr>\n",
       "    <tr>\n",
       "      <th>min</th>\n",
       "      <td>1.000000</td>\n",
       "      <td>11.030000</td>\n",
       "      <td>0.740000</td>\n",
       "      <td>1.360000</td>\n",
       "      <td>10.600000</td>\n",
       "      <td>70.000000</td>\n",
       "      <td>0.980000</td>\n",
       "      <td>0.340000</td>\n",
       "      <td>0.130000</td>\n",
       "      <td>0.410000</td>\n",
       "      <td>1.280000</td>\n",
       "      <td>0.480000</td>\n",
       "      <td>1.270000</td>\n",
       "      <td>278.000000</td>\n",
       "    </tr>\n",
       "    <tr>\n",
       "      <th>25%</th>\n",
       "      <td>1.000000</td>\n",
       "      <td>12.362500</td>\n",
       "      <td>1.602500</td>\n",
       "      <td>2.210000</td>\n",
       "      <td>17.200000</td>\n",
       "      <td>88.000000</td>\n",
       "      <td>1.742500</td>\n",
       "      <td>1.205000</td>\n",
       "      <td>0.270000</td>\n",
       "      <td>1.250000</td>\n",
       "      <td>3.220000</td>\n",
       "      <td>0.782500</td>\n",
       "      <td>1.937500</td>\n",
       "      <td>500.500000</td>\n",
       "    </tr>\n",
       "    <tr>\n",
       "      <th>50%</th>\n",
       "      <td>2.000000</td>\n",
       "      <td>13.050000</td>\n",
       "      <td>1.865000</td>\n",
       "      <td>2.360000</td>\n",
       "      <td>19.500000</td>\n",
       "      <td>98.000000</td>\n",
       "      <td>2.355000</td>\n",
       "      <td>2.135000</td>\n",
       "      <td>0.340000</td>\n",
       "      <td>1.555000</td>\n",
       "      <td>4.690000</td>\n",
       "      <td>0.965000</td>\n",
       "      <td>2.780000</td>\n",
       "      <td>673.500000</td>\n",
       "    </tr>\n",
       "    <tr>\n",
       "      <th>75%</th>\n",
       "      <td>3.000000</td>\n",
       "      <td>13.677500</td>\n",
       "      <td>3.082500</td>\n",
       "      <td>2.557500</td>\n",
       "      <td>21.500000</td>\n",
       "      <td>107.000000</td>\n",
       "      <td>2.800000</td>\n",
       "      <td>2.875000</td>\n",
       "      <td>0.437500</td>\n",
       "      <td>1.950000</td>\n",
       "      <td>6.200000</td>\n",
       "      <td>1.120000</td>\n",
       "      <td>3.170000</td>\n",
       "      <td>985.000000</td>\n",
       "    </tr>\n",
       "    <tr>\n",
       "      <th>max</th>\n",
       "      <td>3.000000</td>\n",
       "      <td>14.830000</td>\n",
       "      <td>5.800000</td>\n",
       "      <td>3.230000</td>\n",
       "      <td>30.000000</td>\n",
       "      <td>162.000000</td>\n",
       "      <td>3.880000</td>\n",
       "      <td>5.080000</td>\n",
       "      <td>0.660000</td>\n",
       "      <td>3.580000</td>\n",
       "      <td>13.000000</td>\n",
       "      <td>1.710000</td>\n",
       "      <td>4.000000</td>\n",
       "      <td>1680.000000</td>\n",
       "    </tr>\n",
       "  </tbody>\n",
       "</table>\n",
       "</div>"
      ],
      "text/plain": [
       "            Class     Alcohol  Malic acid         Ash  Alcalinity_of_ash  \\\n",
       "count  178.000000  178.000000  178.000000  178.000000         178.000000   \n",
       "mean     1.938202   13.000618    2.336348    2.366517          19.494944   \n",
       "std      0.775035    0.811827    1.117146    0.274344           3.339564   \n",
       "min      1.000000   11.030000    0.740000    1.360000          10.600000   \n",
       "25%      1.000000   12.362500    1.602500    2.210000          17.200000   \n",
       "50%      2.000000   13.050000    1.865000    2.360000          19.500000   \n",
       "75%      3.000000   13.677500    3.082500    2.557500          21.500000   \n",
       "max      3.000000   14.830000    5.800000    3.230000          30.000000   \n",
       "\n",
       "        Magnesium  Total_phenols  Flavanoids  Nonflavanoid_phenols  \\\n",
       "count  178.000000     178.000000  178.000000            178.000000   \n",
       "mean    99.741573       2.295112    2.029270              0.361854   \n",
       "std     14.282484       0.625851    0.998859              0.124453   \n",
       "min     70.000000       0.980000    0.340000              0.130000   \n",
       "25%     88.000000       1.742500    1.205000              0.270000   \n",
       "50%     98.000000       2.355000    2.135000              0.340000   \n",
       "75%    107.000000       2.800000    2.875000              0.437500   \n",
       "max    162.000000       3.880000    5.080000              0.660000   \n",
       "\n",
       "       Proanthocyanins  Color_intensity         Hue  OD280_by_OD315  \\\n",
       "count       178.000000       178.000000  178.000000      178.000000   \n",
       "mean          1.590899         5.058090    0.957449        2.611685   \n",
       "std           0.572359         2.318286    0.228572        0.709990   \n",
       "min           0.410000         1.280000    0.480000        1.270000   \n",
       "25%           1.250000         3.220000    0.782500        1.937500   \n",
       "50%           1.555000         4.690000    0.965000        2.780000   \n",
       "75%           1.950000         6.200000    1.120000        3.170000   \n",
       "max           3.580000        13.000000    1.710000        4.000000   \n",
       "\n",
       "           Proline  \n",
       "count   178.000000  \n",
       "mean    746.893258  \n",
       "std     314.907474  \n",
       "min     278.000000  \n",
       "25%     500.500000  \n",
       "50%     673.500000  \n",
       "75%     985.000000  \n",
       "max    1680.000000  "
      ]
     },
     "execution_count": 65,
     "metadata": {},
     "output_type": "execute_result"
    }
   ],
   "source": [
    "df.describe() "
   ]
  },
  {
   "cell_type": "code",
   "execution_count": 66,
   "metadata": {
    "colab": {
     "base_uri": "https://localhost:8080/",
     "height": 604
    },
    "executionInfo": {
     "elapsed": 2950,
     "status": "ok",
     "timestamp": 1610938496609,
     "user": {
      "displayName": "Jyoti Gupta",
      "photoUrl": "https://lh3.googleusercontent.com/a-/AOh14Gha7ARiuH9KYsBrRe_sEPEhpI5cXr55TdQBv6x_MA=s64",
      "userId": "16785426337890807929"
     },
     "user_tz": -480
    },
    "id": "MnzeSVomZnrt",
    "outputId": "dabfce52-120c-451b-d2c7-cd68dd493ee1"
   },
   "outputs": [
    {
     "data": {
      "text/plain": [
       "<AxesSubplot:>"
      ]
     },
     "execution_count": 66,
     "metadata": {},
     "output_type": "execute_result"
    },
    {
     "data": {
      "image/png": "[encoded data removed]",
      "text/plain": [
       "<Figure size 936x576 with 2 Axes>"
      ]
     },
     "metadata": {
      "needs_background": "light"
     },
     "output_type": "display_data"
    }
   ],
   "source": [
    "sns.heatmap(df.corr(), annot=True)"
   ]
  },
  {
   "cell_type": "code",
   "execution_count": 29,
   "metadata": {
    "id": "E8CgLgf9xYG-"
   },
   "outputs": [],
   "source": [
    "correlation_matrix = df.iloc[:,1:].corr() # get correlation for all cols execpt calss since it's catergorical\n",
    "\n",
    "# [:, 1:] is the indexing syntax used with .iloc. \n",
    "# The : before the comma indicates that you want to select all rows\n",
    "# the 1: after the comma indicates that you want to select all columns starting from the second column (with zero-based indexing)."
   ]
  },
  {
   "cell_type": "markdown",
   "metadata": {
    "id": "6Nj09CrcxYHA"
   },
   "source": [
    "We can easily make a heat map using the seaborn library, which we'll cover in more detail later."
   ]
  },
  {
   "cell_type": "code",
   "execution_count": 30,
   "metadata": {
    "colab": {
     "base_uri": "https://localhost:8080/",
     "height": 387
    },
    "executionInfo": {
     "elapsed": 6827,
     "status": "ok",
     "timestamp": 1610690045458,
     "user": {
      "displayName": "Jyoti Gupta",
      "photoUrl": "https://lh3.googleusercontent.com/a-/AOh14Gha7ARiuH9KYsBrRe_sEPEhpI5cXr55TdQBv6x_MA=s64",
      "userId": "16785426337890807929"
     },
     "user_tz": -480
    },
    "id": "wjFoS_PNxYHA",
    "outputId": "2049dee1-cdec-4eaf-e194-3bc3c6e64a27"
   },
   "outputs": [
    {
     "data": {
      "text/plain": [
       "<AxesSubplot:>"
      ]
     },
     "execution_count": 30,
     "metadata": {},
     "output_type": "execute_result"
    },
    {
     "data": {
      "image/png": "[encoded data removed]",
      "text/plain": [
       "<Figure size 936x576 with 2 Axes>"
      ]
     },
     "metadata": {
      "needs_background": "light"
     },
     "output_type": "display_data"
    }
   ],
   "source": [
    "sns.heatmap(correlation_matrix,annot=True)"
   ]
  },
  {
   "cell_type": "code",
   "execution_count": 68,
   "metadata": {
    "colab": {
     "base_uri": "https://localhost:8080/"
    },
    "executionInfo": {
     "elapsed": 6826,
     "status": "ok",
     "timestamp": 1610690045459,
     "user": {
      "displayName": "Jyoti Gupta",
      "photoUrl": "https://lh3.googleusercontent.com/a-/AOh14Gha7ARiuH9KYsBrRe_sEPEhpI5cXr55TdQBv6x_MA=s64",
      "userId": "16785426337890807929"
     },
     "user_tz": -480
    },
    "id": "bdUmNkxQxYHC",
    "outputId": "58559932-58f6-4d35-af2d-9a43e33ed5fa"
   },
   "outputs": [
    {
     "data": {
      "text/plain": [
       "2    71\n",
       "1    59\n",
       "3    48\n",
       "Name: Class, dtype: int64"
      ]
     },
     "execution_count": 68,
     "metadata": {},
     "output_type": "execute_result"
    }
   ],
   "source": [
    "df['Class'].value_counts() # most common wine class"
   ]
  },
  {
   "cell_type": "code",
   "execution_count": 70,
   "metadata": {
    "colab": {
     "base_uri": "https://localhost:8080/",
     "height": 496
    },
    "executionInfo": {
     "elapsed": 862,
     "status": "ok",
     "timestamp": 1610938952537,
     "user": {
      "displayName": "Jyoti Gupta",
      "photoUrl": "https://lh3.googleusercontent.com/a-/AOh14Gha7ARiuH9KYsBrRe_sEPEhpI5cXr55TdQBv6x_MA=s64",
      "userId": "16785426337890807929"
     },
     "user_tz": -480
    },
    "id": "qFohnwpsbbn4",
    "outputId": "ad1974ac-e0f4-427b-e33f-d22bcd4bf295"
   },
   "outputs": [
    {
     "data": {
      "text/plain": [
       "<AxesSubplot:>"
      ]
     },
     "execution_count": 70,
     "metadata": {},
     "output_type": "execute_result"
    },
    {
     "data": {
      "image/png": "[encoded data removed]",
      "text/plain": [
       "<Figure size 936x576 with 1 Axes>"
      ]
     },
     "metadata": {
      "needs_background": "light"
     },
     "output_type": "display_data"
    }
   ],
   "source": [
    "df['Class'].value_counts().plot.bar()"
   ]
  },
  {
   "cell_type": "code",
   "execution_count": 71,
   "metadata": {
    "colab": {
     "base_uri": "https://localhost:8080/",
     "height": 279
    },
    "executionInfo": {
     "elapsed": 6825,
     "status": "ok",
     "timestamp": 1610690045460,
     "user": {
      "displayName": "Jyoti Gupta",
      "photoUrl": "https://lh3.googleusercontent.com/a-/AOh14Gha7ARiuH9KYsBrRe_sEPEhpI5cXr55TdQBv6x_MA=s64",
      "userId": "16785426337890807929"
     },
     "user_tz": -480
    },
    "id": "L3yhtQjbxYHE",
    "outputId": "88d6274b-7673-42e9-ede8-4f8ae68dd92a"
   },
   "outputs": [
    {
     "data": {
      "text/plain": [
       "<AxesSubplot:>"
      ]
     },
     "execution_count": 71,
     "metadata": {},
     "output_type": "execute_result"
    },
    {
     "data": {
      "image/png": "[encoded data removed]",
      "text/plain": [
       "<Figure size 936x576 with 1 Axes>"
      ]
     },
     "metadata": {
      "needs_background": "light"
     },
     "output_type": "display_data"
    }
   ],
   "source": [
    "df['Class'].value_counts().plot.bar() # make a quick plot"
   ]
  },
  {
   "cell_type": "markdown",
   "metadata": {
    "id": "a2Exb3jqxYHG"
   },
   "source": [
    "Lets say I want to know the mean alcohol content for each class of wine."
   ]
  },
  {
   "cell_type": "code",
   "execution_count": 75,
   "metadata": {
    "colab": {
     "base_uri": "https://localhost:8080/"
    },
    "executionInfo": {
     "elapsed": 846,
     "status": "ok",
     "timestamp": 1610939096973,
     "user": {
      "displayName": "Jyoti Gupta",
      "photoUrl": "https://lh3.googleusercontent.com/a-/AOh14Gha7ARiuH9KYsBrRe_sEPEhpI5cXr55TdQBv6x_MA=s64",
      "userId": "16785426337890807929"
     },
     "user_tz": -480
    },
    "id": "c-ff80ghciJ4",
    "outputId": "5218ab86-252c-4d6a-b8e6-e204a555efeb"
   },
   "outputs": [
    {
     "data": {
      "text/plain": [
       "13.744745762711865"
      ]
     },
     "execution_count": 75,
     "metadata": {},
     "output_type": "execute_result"
    }
   ],
   "source": [
    "df[df[\"Class\"]==1][\"Alcohol\"].mean()\n",
    "# calculates the mean value of the \"Alcohol\" column in the DataFrame df for rows where the value in the \"Class\" column is equal to 1."
   ]
  },
  {
   "cell_type": "code",
   "execution_count": 76,
   "metadata": {
    "colab": {
     "base_uri": "https://localhost:8080/",
     "height": 439
    },
    "executionInfo": {
     "elapsed": 897,
     "status": "ok",
     "timestamp": 1610939271240,
     "user": {
      "displayName": "Jyoti Gupta",
      "photoUrl": "https://lh3.googleusercontent.com/a-/AOh14Gha7ARiuH9KYsBrRe_sEPEhpI5cXr55TdQBv6x_MA=s64",
      "userId": "16785426337890807929"
     },
     "user_tz": -480
    },
    "id": "NakfqkH_dnnc",
    "outputId": "ea52c3d7-a9b9-409d-9eb3-877c086e8397"
   },
   "outputs": [
    {
     "data": {
      "application/vnd.microsoft.datawrangler.viewer.v0+json": {
       "columns": [
        {
         "name": "index",
         "rawType": "int64",
         "type": "integer"
        },
        {
         "name": "Class",
         "rawType": "int64",
         "type": "integer"
        },
        {
         "name": "Alcohol",
         "rawType": "float64",
         "type": "float"
        },
        {
         "name": "Malic acid",
         "rawType": "float64",
         "type": "float"
        },
        {
         "name": "Ash",
         "rawType": "float64",
         "type": "float"
        },
        {
         "name": "Alcalinity_of_ash",
         "rawType": "float64",
         "type": "float"
        },
        {
         "name": "Magnesium",
         "rawType": "int64",
         "type": "integer"
        },
        {
         "name": "Total_phenols",
         "rawType": "float64",
         "type": "float"
        },
        {
         "name": "Flavanoids",
         "rawType": "float64",
         "type": "float"
        },
        {
         "name": "Nonflavanoid_phenols",
         "rawType": "float64",
         "type": "float"
        },
        {
         "name": "Proanthocyanins",
         "rawType": "float64",
         "type": "float"
        },
        {
         "name": "Color_intensity",
         "rawType": "float64",
         "type": "float"
        },
        {
         "name": "Hue",
         "rawType": "float64",
         "type": "float"
        },
        {
         "name": "OD280_by_OD315",
         "rawType": "float64",
         "type": "float"
        },
        {
         "name": "Proline",
         "rawType": "int64",
         "type": "integer"
        }
       ],
       "conversionMethod": "pd.DataFrame",
       "ref": "31621d94-2181-48e4-b47e-91e27e1e8f2f",
       "rows": [
        [
         "0",
         "1",
         "14.23",
         "1.71",
         "2.43",
         "15.6",
         "127",
         "2.8",
         "3.06",
         "0.28",
         "2.29",
         "5.64",
         "1.04",
         "3.92",
         "1065"
        ],
        [
         "1",
         "1",
         "13.2",
         "1.78",
         "2.14",
         "11.2",
         "100",
         "2.65",
         "2.76",
         "0.26",
         "1.28",
         "4.38",
         "1.05",
         "3.4",
         "1050"
        ],
        [
         "2",
         "1",
         "13.16",
         "2.36",
         "2.67",
         "18.6",
         "101",
         "2.8",
         "3.24",
         "0.3",
         "2.81",
         "5.68",
         "1.03",
         "3.17",
         "1185"
        ],
        [
         "3",
         "1",
         "14.37",
         "1.95",
         "2.5",
         "16.8",
         "113",
         "3.85",
         "3.49",
         "0.24",
         "2.18",
         "7.8",
         "0.86",
         "3.45",
         "1480"
        ],
        [
         "4",
         "1",
         "13.24",
         "2.59",
         "2.87",
         "21.0",
         "118",
         "2.8",
         "2.69",
         "0.39",
         "1.82",
         "4.32",
         "1.04",
         "2.93",
         "735"
        ],
        [
         "5",
         "1",
         "14.2",
         "1.76",
         "2.45",
         "15.2",
         "112",
         "3.27",
         "3.39",
         "0.34",
         "1.97",
         "6.75",
         "1.05",
         "2.85",
         "1450"
        ],
        [
         "6",
         "1",
         "14.39",
         "1.87",
         "2.45",
         "14.6",
         "96",
         "2.5",
         "2.52",
         "0.3",
         "1.98",
         "5.25",
         "1.02",
         "3.58",
         "1290"
        ],
        [
         "7",
         "1",
         "14.06",
         "2.15",
         "2.61",
         "17.6",
         "121",
         "2.6",
         "2.51",
         "0.31",
         "1.25",
         "5.05",
         "1.06",
         "3.58",
         "1295"
        ],
        [
         "8",
         "1",
         "14.83",
         "1.64",
         "2.17",
         "14.0",
         "97",
         "2.8",
         "2.98",
         "0.29",
         "1.98",
         "5.2",
         "1.08",
         "2.85",
         "1045"
        ],
        [
         "9",
         "1",
         "13.86",
         "1.35",
         "2.27",
         "16.0",
         "98",
         "2.98",
         "3.15",
         "0.22",
         "1.85",
         "7.22",
         "1.01",
         "3.55",
         "1045"
        ],
        [
         "10",
         "1",
         "14.1",
         "2.16",
         "2.3",
         "18.0",
         "105",
         "2.95",
         "3.32",
         "0.22",
         "2.38",
         "5.75",
         "1.25",
         "3.17",
         "1510"
        ],
        [
         "11",
         "1",
         "14.12",
         "1.48",
         "2.32",
         "16.8",
         "95",
         "2.2",
         "2.43",
         "0.26",
         "1.57",
         "5.0",
         "1.17",
         "2.82",
         "1280"
        ],
        [
         "12",
         "1",
         "13.75",
         "1.73",
         "2.41",
         "16.0",
         "89",
         "2.6",
         "2.76",
         "0.29",
         "1.81",
         "5.6",
         "1.15",
         "2.9",
         "1320"
        ],
        [
         "13",
         "1",
         "14.75",
         "1.73",
         "2.39",
         "11.4",
         "91",
         "3.1",
         "3.69",
         "0.43",
         "2.81",
         "5.4",
         "1.25",
         "2.73",
         "1150"
        ],
        [
         "14",
         "1",
         "14.38",
         "1.87",
         "2.38",
         "12.0",
         "102",
         "3.3",
         "3.64",
         "0.29",
         "2.96",
         "7.5",
         "1.2",
         "3.0",
         "1547"
        ],
        [
         "15",
         "1",
         "13.63",
         "1.81",
         "2.7",
         "17.2",
         "112",
         "2.85",
         "2.91",
         "0.3",
         "1.46",
         "7.3",
         "1.28",
         "2.88",
         "1310"
        ],
        [
         "16",
         "1",
         "14.3",
         "1.92",
         "2.72",
         "20.0",
         "120",
         "2.8",
         "3.14",
         "0.33",
         "1.97",
         "6.2",
         "1.07",
         "2.65",
         "1280"
        ],
        [
         "17",
         "1",
         "13.83",
         "1.57",
         "2.62",
         "20.0",
         "115",
         "2.95",
         "3.4",
         "0.4",
         "1.72",
         "6.6",
         "1.13",
         "2.57",
         "1130"
        ],
        [
         "18",
         "1",
         "14.19",
         "1.59",
         "2.48",
         "16.5",
         "108",
         "3.3",
         "3.93",
         "0.32",
         "1.86",
         "8.7",
         "1.23",
         "2.82",
         "1680"
        ],
        [
         "19",
         "1",
         "13.64",
         "3.1",
         "2.56",
         "15.2",
         "116",
         "2.7",
         "3.03",
         "0.17",
         "1.66",
         "5.1",
         "0.96",
         "3.36",
         "845"
        ],
        [
         "20",
         "1",
         "14.06",
         "1.63",
         "2.28",
         "16.0",
         "126",
         "3.0",
         "3.17",
         "0.24",
         "2.1",
         "5.65",
         "1.09",
         "3.71",
         "780"
        ],
        [
         "21",
         "1",
         "12.93",
         "3.8",
         "2.65",
         "18.6",
         "102",
         "2.41",
         "2.41",
         "0.25",
         "1.98",
         "4.5",
         "1.03",
         "3.52",
         "770"
        ],
        [
         "22",
         "1",
         "13.71",
         "1.86",
         "2.36",
         "16.6",
         "101",
         "2.61",
         "2.88",
         "0.27",
         "1.69",
         "3.8",
         "1.11",
         "4.0",
         "1035"
        ],
        [
         "23",
         "1",
         "12.85",
         "1.6",
         "2.52",
         "17.8",
         "95",
         "2.48",
         "2.37",
         "0.26",
         "1.46",
         "3.93",
         "1.09",
         "3.63",
         "1015"
        ],
        [
         "24",
         "1",
         "13.5",
         "1.81",
         "2.61",
         "20.0",
         "96",
         "2.53",
         "2.61",
         "0.28",
         "1.66",
         "3.52",
         "1.12",
         "3.82",
         "845"
        ],
        [
         "25",
         "1",
         "13.05",
         "2.05",
         "3.22",
         "25.0",
         "124",
         "2.63",
         "2.68",
         "0.47",
         "1.92",
         "3.58",
         "1.13",
         "3.2",
         "830"
        ],
        [
         "26",
         "1",
         "13.39",
         "1.77",
         "2.62",
         "16.1",
         "93",
         "2.85",
         "2.94",
         "0.34",
         "1.45",
         "4.8",
         "0.92",
         "3.22",
         "1195"
        ],
        [
         "27",
         "1",
         "13.3",
         "1.72",
         "2.14",
         "17.0",
         "94",
         "2.4",
         "2.19",
         "0.27",
         "1.35",
         "3.95",
         "1.02",
         "2.77",
         "1285"
        ],
        [
         "28",
         "1",
         "13.87",
         "1.9",
         "2.8",
         "19.4",
         "107",
         "2.95",
         "2.97",
         "0.37",
         "1.76",
         "4.5",
         "1.25",
         "3.4",
         "915"
        ],
        [
         "29",
         "1",
         "14.02",
         "1.68",
         "2.21",
         "16.0",
         "96",
         "2.65",
         "2.33",
         "0.26",
         "1.98",
         "4.7",
         "1.04",
         "3.59",
         "1035"
        ],
        [
         "30",
         "1",
         "13.73",
         "1.5",
         "2.7",
         "22.5",
         "101",
         "3.0",
         "3.25",
         "0.29",
         "2.38",
         "5.7",
         "1.19",
         "2.71",
         "1285"
        ],
        [
         "31",
         "1",
         "13.58",
         "1.66",
         "2.36",
         "19.1",
         "106",
         "2.86",
         "3.19",
         "0.22",
         "1.95",
         "6.9",
         "1.09",
         "2.88",
         "1515"
        ],
        [
         "32",
         "1",
         "13.68",
         "1.83",
         "2.36",
         "17.2",
         "104",
         "2.42",
         "2.69",
         "0.42",
         "1.97",
         "3.84",
         "1.23",
         "2.87",
         "990"
        ],
        [
         "33",
         "1",
         "13.76",
         "1.53",
         "2.7",
         "19.5",
         "132",
         "2.95",
         "2.74",
         "0.5",
         "1.35",
         "5.4",
         "1.25",
         "3.0",
         "1235"
        ],
        [
         "34",
         "1",
         "13.51",
         "1.8",
         "2.65",
         "19.0",
         "110",
         "2.35",
         "2.53",
         "0.29",
         "1.54",
         "4.2",
         "1.1",
         "2.87",
         "1095"
        ],
        [
         "35",
         "1",
         "13.48",
         "1.81",
         "2.41",
         "20.5",
         "100",
         "2.7",
         "2.98",
         "0.26",
         "1.86",
         "5.1",
         "1.04",
         "3.47",
         "920"
        ],
        [
         "36",
         "1",
         "13.28",
         "1.64",
         "2.84",
         "15.5",
         "110",
         "2.6",
         "2.68",
         "0.34",
         "1.36",
         "4.6",
         "1.09",
         "2.78",
         "880"
        ],
        [
         "37",
         "1",
         "13.05",
         "1.65",
         "2.55",
         "18.0",
         "98",
         "2.45",
         "2.43",
         "0.29",
         "1.44",
         "4.25",
         "1.12",
         "2.51",
         "1105"
        ],
        [
         "38",
         "1",
         "13.07",
         "1.5",
         "2.1",
         "15.5",
         "98",
         "2.4",
         "2.64",
         "0.28",
         "1.37",
         "3.7",
         "1.18",
         "2.69",
         "1020"
        ],
        [
         "39",
         "1",
         "14.22",
         "3.99",
         "2.51",
         "13.2",
         "128",
         "3.0",
         "3.04",
         "0.2",
         "2.08",
         "5.1",
         "0.89",
         "3.53",
         "760"
        ],
        [
         "40",
         "1",
         "13.56",
         "1.71",
         "2.31",
         "16.2",
         "117",
         "3.15",
         "3.29",
         "0.34",
         "2.34",
         "6.13",
         "0.95",
         "3.38",
         "795"
        ],
        [
         "41",
         "1",
         "13.41",
         "3.84",
         "2.12",
         "18.8",
         "90",
         "2.45",
         "2.68",
         "0.27",
         "1.48",
         "4.28",
         "0.91",
         "3.0",
         "1035"
        ],
        [
         "42",
         "1",
         "13.88",
         "1.89",
         "2.59",
         "15.0",
         "101",
         "3.25",
         "3.56",
         "0.17",
         "1.7",
         "5.43",
         "0.88",
         "3.56",
         "1095"
        ],
        [
         "43",
         "1",
         "13.24",
         "3.98",
         "2.29",
         "17.5",
         "103",
         "2.64",
         "2.63",
         "0.32",
         "1.66",
         "4.36",
         "0.82",
         "3.0",
         "680"
        ],
        [
         "44",
         "1",
         "13.05",
         "1.77",
         "2.1",
         "17.0",
         "107",
         "3.0",
         "3.0",
         "0.28",
         "2.03",
         "5.04",
         "0.88",
         "3.35",
         "885"
        ],
        [
         "45",
         "1",
         "14.21",
         "4.04",
         "2.44",
         "18.9",
         "111",
         "2.85",
         "2.65",
         "0.3",
         "1.25",
         "5.24",
         "0.87",
         "3.33",
         "1080"
        ],
        [
         "46",
         "1",
         "14.38",
         "3.59",
         "2.28",
         "16.0",
         "102",
         "3.25",
         "3.17",
         "0.27",
         "2.19",
         "4.9",
         "1.04",
         "3.44",
         "1065"
        ],
        [
         "47",
         "1",
         "13.9",
         "1.68",
         "2.12",
         "16.0",
         "101",
         "3.1",
         "3.39",
         "0.21",
         "2.14",
         "6.1",
         "0.91",
         "3.33",
         "985"
        ],
        [
         "48",
         "1",
         "14.1",
         "2.02",
         "2.4",
         "18.8",
         "103",
         "2.75",
         "2.92",
         "0.32",
         "2.38",
         "6.2",
         "1.07",
         "2.75",
         "1060"
        ],
        [
         "49",
         "1",
         "13.94",
         "1.73",
         "2.27",
         "17.4",
         "108",
         "2.88",
         "3.54",
         "0.32",
         "2.08",
         "8.9",
         "1.12",
         "3.1",
         "1260"
        ]
       ],
       "shape": {
        "columns": 14,
        "rows": 178
       }
      },
      "text/html": [
       "<div>\n",
       "<style scoped>\n",
       "    .dataframe tbody tr th:only-of-type {\n",
       "        vertical-align: middle;\n",
       "    }\n",
       "\n",
       "    .dataframe tbody tr th {\n",
       "        vertical-align: top;\n",
       "    }\n",
       "\n",
       "    .dataframe thead th {\n",
       "        text-align: right;\n",
       "    }\n",
       "</style>\n",
       "<table border=\"1\" class=\"dataframe\">\n",
       "  <thead>\n",
       "    <tr style=\"text-align: right;\">\n",
       "      <th></th>\n",
       "      <th>Class</th>\n",
       "      <th>Alcohol</th>\n",
       "      <th>Malic acid</th>\n",
       "      <th>Ash</th>\n",
       "      <th>Alcalinity_of_ash</th>\n",
       "      <th>Magnesium</th>\n",
       "      <th>Total_phenols</th>\n",
       "      <th>Flavanoids</th>\n",
       "      <th>Nonflavanoid_phenols</th>\n",
       "      <th>Proanthocyanins</th>\n",
       "      <th>Color_intensity</th>\n",
       "      <th>Hue</th>\n",
       "      <th>OD280_by_OD315</th>\n",
       "      <th>Proline</th>\n",
       "    </tr>\n",
       "  </thead>\n",
       "  <tbody>\n",
       "    <tr>\n",
       "      <th>0</th>\n",
       "      <td>1</td>\n",
       "      <td>14.23</td>\n",
       "      <td>1.71</td>\n",
       "      <td>2.43</td>\n",
       "      <td>15.6</td>\n",
       "      <td>127</td>\n",
       "      <td>2.80</td>\n",
       "      <td>3.06</td>\n",
       "      <td>0.28</td>\n",
       "      <td>2.29</td>\n",
       "      <td>5.64</td>\n",
       "      <td>1.04</td>\n",
       "      <td>3.92</td>\n",
       "      <td>1065</td>\n",
       "    </tr>\n",
       "    <tr>\n",
       "      <th>1</th>\n",
       "      <td>1</td>\n",
       "      <td>13.20</td>\n",
       "      <td>1.78</td>\n",
       "      <td>2.14</td>\n",
       "      <td>11.2</td>\n",
       "      <td>100</td>\n",
       "      <td>2.65</td>\n",
       "      <td>2.76</td>\n",
       "      <td>0.26</td>\n",
       "      <td>1.28</td>\n",
       "      <td>4.38</td>\n",
       "      <td>1.05</td>\n",
       "      <td>3.40</td>\n",
       "      <td>1050</td>\n",
       "    </tr>\n",
       "    <tr>\n",
       "      <th>2</th>\n",
       "      <td>1</td>\n",
       "      <td>13.16</td>\n",
       "      <td>2.36</td>\n",
       "      <td>2.67</td>\n",
       "      <td>18.6</td>\n",
       "      <td>101</td>\n",
       "      <td>2.80</td>\n",
       "      <td>3.24</td>\n",
       "      <td>0.30</td>\n",
       "      <td>2.81</td>\n",
       "      <td>5.68</td>\n",
       "      <td>1.03</td>\n",
       "      <td>3.17</td>\n",
       "      <td>1185</td>\n",
       "    </tr>\n",
       "    <tr>\n",
       "      <th>3</th>\n",
       "      <td>1</td>\n",
       "      <td>14.37</td>\n",
       "      <td>1.95</td>\n",
       "      <td>2.50</td>\n",
       "      <td>16.8</td>\n",
       "      <td>113</td>\n",
       "      <td>3.85</td>\n",
       "      <td>3.49</td>\n",
       "      <td>0.24</td>\n",
       "      <td>2.18</td>\n",
       "      <td>7.80</td>\n",
       "      <td>0.86</td>\n",
       "      <td>3.45</td>\n",
       "      <td>1480</td>\n",
       "    </tr>\n",
       "    <tr>\n",
       "      <th>4</th>\n",
       "      <td>1</td>\n",
       "      <td>13.24</td>\n",
       "      <td>2.59</td>\n",
       "      <td>2.87</td>\n",
       "      <td>21.0</td>\n",
       "      <td>118</td>\n",
       "      <td>2.80</td>\n",
       "      <td>2.69</td>\n",
       "      <td>0.39</td>\n",
       "      <td>1.82</td>\n",
       "      <td>4.32</td>\n",
       "      <td>1.04</td>\n",
       "      <td>2.93</td>\n",
       "      <td>735</td>\n",
       "    </tr>\n",
       "    <tr>\n",
       "      <th>...</th>\n",
       "      <td>...</td>\n",
       "      <td>...</td>\n",
       "      <td>...</td>\n",
       "      <td>...</td>\n",
       "      <td>...</td>\n",
       "      <td>...</td>\n",
       "      <td>...</td>\n",
       "      <td>...</td>\n",
       "      <td>...</td>\n",
       "      <td>...</td>\n",
       "      <td>...</td>\n",
       "      <td>...</td>\n",
       "      <td>...</td>\n",
       "      <td>...</td>\n",
       "    </tr>\n",
       "    <tr>\n",
       "      <th>173</th>\n",
       "      <td>3</td>\n",
       "      <td>13.71</td>\n",
       "      <td>5.65</td>\n",
       "      <td>2.45</td>\n",
       "      <td>20.5</td>\n",
       "      <td>95</td>\n",
       "      <td>1.68</td>\n",
       "      <td>0.61</td>\n",
       "      <td>0.52</td>\n",
       "      <td>1.06</td>\n",
       "      <td>7.70</td>\n",
       "      <td>0.64</td>\n",
       "      <td>1.74</td>\n",
       "      <td>740</td>\n",
       "    </tr>\n",
       "    <tr>\n",
       "      <th>174</th>\n",
       "      <td>3</td>\n",
       "      <td>13.40</td>\n",
       "      <td>3.91</td>\n",
       "      <td>2.48</td>\n",
       "      <td>23.0</td>\n",
       "      <td>102</td>\n",
       "      <td>1.80</td>\n",
       "      <td>0.75</td>\n",
       "      <td>0.43</td>\n",
       "      <td>1.41</td>\n",
       "      <td>7.30</td>\n",
       "      <td>0.70</td>\n",
       "      <td>1.56</td>\n",
       "      <td>750</td>\n",
       "    </tr>\n",
       "    <tr>\n",
       "      <th>175</th>\n",
       "      <td>3</td>\n",
       "      <td>13.27</td>\n",
       "      <td>4.28</td>\n",
       "      <td>2.26</td>\n",
       "      <td>20.0</td>\n",
       "      <td>120</td>\n",
       "      <td>1.59</td>\n",
       "      <td>0.69</td>\n",
       "      <td>0.43</td>\n",
       "      <td>1.35</td>\n",
       "      <td>10.20</td>\n",
       "      <td>0.59</td>\n",
       "      <td>1.56</td>\n",
       "      <td>835</td>\n",
       "    </tr>\n",
       "    <tr>\n",
       "      <th>176</th>\n",
       "      <td>3</td>\n",
       "      <td>13.17</td>\n",
       "      <td>2.59</td>\n",
       "      <td>2.37</td>\n",
       "      <td>20.0</td>\n",
       "      <td>120</td>\n",
       "      <td>1.65</td>\n",
       "      <td>0.68</td>\n",
       "      <td>0.53</td>\n",
       "      <td>1.46</td>\n",
       "      <td>9.30</td>\n",
       "      <td>0.60</td>\n",
       "      <td>1.62</td>\n",
       "      <td>840</td>\n",
       "    </tr>\n",
       "    <tr>\n",
       "      <th>177</th>\n",
       "      <td>3</td>\n",
       "      <td>14.13</td>\n",
       "      <td>4.10</td>\n",
       "      <td>2.74</td>\n",
       "      <td>24.5</td>\n",
       "      <td>96</td>\n",
       "      <td>2.05</td>\n",
       "      <td>0.76</td>\n",
       "      <td>0.56</td>\n",
       "      <td>1.35</td>\n",
       "      <td>9.20</td>\n",
       "      <td>0.61</td>\n",
       "      <td>1.60</td>\n",
       "      <td>560</td>\n",
       "    </tr>\n",
       "  </tbody>\n",
       "</table>\n",
       "<p>178 rows × 14 columns</p>\n",
       "</div>"
      ],
      "text/plain": [
       "     Class  Alcohol  Malic acid   Ash  Alcalinity_of_ash  Magnesium  \\\n",
       "0        1    14.23        1.71  2.43               15.6        127   \n",
       "1        1    13.20        1.78  2.14               11.2        100   \n",
       "2        1    13.16        2.36  2.67               18.6        101   \n",
       "3        1    14.37        1.95  2.50               16.8        113   \n",
       "4        1    13.24        2.59  2.87               21.0        118   \n",
       "..     ...      ...         ...   ...                ...        ...   \n",
       "173      3    13.71        5.65  2.45               20.5         95   \n",
       "174      3    13.40        3.91  2.48               23.0        102   \n",
       "175      3    13.27        4.28  2.26               20.0        120   \n",
       "176      3    13.17        2.59  2.37               20.0        120   \n",
       "177      3    14.13        4.10  2.74               24.5         96   \n",
       "\n",
       "     Total_phenols  Flavanoids  Nonflavanoid_phenols  Proanthocyanins  \\\n",
       "0             2.80        3.06                  0.28             2.29   \n",
       "1             2.65        2.76                  0.26             1.28   \n",
       "2             2.80        3.24                  0.30             2.81   \n",
       "3             3.85        3.49                  0.24             2.18   \n",
       "4             2.80        2.69                  0.39             1.82   \n",
       "..             ...         ...                   ...              ...   \n",
       "173           1.68        0.61                  0.52             1.06   \n",
       "174           1.80        0.75                  0.43             1.41   \n",
       "175           1.59        0.69                  0.43             1.35   \n",
       "176           1.65        0.68                  0.53             1.46   \n",
       "177           2.05        0.76                  0.56             1.35   \n",
       "\n",
       "     Color_intensity   Hue  OD280_by_OD315  Proline  \n",
       "0               5.64  1.04            3.92     1065  \n",
       "1               4.38  1.05            3.40     1050  \n",
       "2               5.68  1.03            3.17     1185  \n",
       "3               7.80  0.86            3.45     1480  \n",
       "4               4.32  1.04            2.93      735  \n",
       "..               ...   ...             ...      ...  \n",
       "173             7.70  0.64            1.74      740  \n",
       "174             7.30  0.70            1.56      750  \n",
       "175            10.20  0.59            1.56      835  \n",
       "176             9.30  0.60            1.62      840  \n",
       "177             9.20  0.61            1.60      560  \n",
       "\n",
       "[178 rows x 14 columns]"
      ]
     },
     "execution_count": 76,
     "metadata": {},
     "output_type": "execute_result"
    }
   ],
   "source": [
    "df"
   ]
  },
  {
   "cell_type": "code",
   "execution_count": 77,
   "metadata": {
    "colab": {
     "base_uri": "https://localhost:8080/",
     "height": 510
    },
    "executionInfo": {
     "elapsed": 874,
     "status": "ok",
     "timestamp": 1610939365615,
     "user": {
      "displayName": "Jyoti Gupta",
      "photoUrl": "https://lh3.googleusercontent.com/a-/AOh14Gha7ARiuH9KYsBrRe_sEPEhpI5cXr55TdQBv6x_MA=s64",
      "userId": "16785426337890807929"
     },
     "user_tz": -480
    },
    "id": "gkz5FdYLdEKF",
    "outputId": "0ff282a0-8332-4a59-a430-dfa43c238cac"
   },
   "outputs": [
    {
     "data": {
      "text/plain": [
       "<AxesSubplot:xlabel='Class'>"
      ]
     },
     "execution_count": 77,
     "metadata": {},
     "output_type": "execute_result"
    },
    {
     "data": {
      "image/png": "[encoded data removed]",
      "text/plain": [
       "<Figure size 936x576 with 1 Axes>"
      ]
     },
     "metadata": {
      "needs_background": "light"
     },
     "output_type": "display_data"
    }
   ],
   "source": [
    "# aggregate - min, max, count, mean, mode, \n",
    "df.groupby(\"Class\")[\"Alcohol\"].mean().plot.bar()\n",
    "# .groupby('Class') creates separate groups based on the distinct values in the \"Class\" column. \n",
    "# the distinct values in 'Class' are 1,2,3\n",
    "# so there are 3 groups in 'Class'."
   ]
  },
  {
   "cell_type": "code",
   "execution_count": 78,
   "metadata": {
    "colab": {
     "base_uri": "https://localhost:8080/"
    },
    "executionInfo": {
     "elapsed": 6822,
     "status": "ok",
     "timestamp": 1610690045460,
     "user": {
      "displayName": "Jyoti Gupta",
      "photoUrl": "https://lh3.googleusercontent.com/a-/AOh14Gha7ARiuH9KYsBrRe_sEPEhpI5cXr55TdQBv6x_MA=s64",
      "userId": "16785426337890807929"
     },
     "user_tz": -480
    },
    "id": "Dv2iuvcoxYHG",
    "outputId": "fe9f2375-11f7-4ad6-a579-45d69e571341"
   },
   "outputs": [
    {
     "data": {
      "text/plain": [
       "Class\n",
       "1    13.744746\n",
       "2    12.278732\n",
       "3    13.153750\n",
       "Name: Alcohol, dtype: float64"
      ]
     },
     "execution_count": 78,
     "metadata": {},
     "output_type": "execute_result"
    }
   ],
   "source": [
    "df.groupby('Class').Alcohol.mean()"
   ]
  },
  {
   "cell_type": "code",
   "execution_count": 80,
   "metadata": {
    "colab": {
     "base_uri": "https://localhost:8080/",
     "height": 293
    },
    "executionInfo": {
     "elapsed": 6821,
     "status": "ok",
     "timestamp": 1610690045461,
     "user": {
      "displayName": "Jyoti Gupta",
      "photoUrl": "https://lh3.googleusercontent.com/a-/AOh14Gha7ARiuH9KYsBrRe_sEPEhpI5cXr55TdQBv6x_MA=s64",
      "userId": "16785426337890807929"
     },
     "user_tz": -480
    },
    "id": "nml8NzNdxYHI",
    "outputId": "f9055498-da7a-41a0-ba0a-86e4eaa37540"
   },
   "outputs": [
    {
     "data": {
      "text/plain": [
       "<AxesSubplot:xlabel='Class'>"
      ]
     },
     "execution_count": 80,
     "metadata": {},
     "output_type": "execute_result"
    },
    {
     "data": {
      "image/png": "[encoded data removed]",
      "text/plain": [
       "<Figure size 936x576 with 1 Axes>"
      ]
     },
     "metadata": {
      "needs_background": "light"
     },
     "output_type": "display_data"
    }
   ],
   "source": [
    "df.groupby('Class').Alcohol.mean().plot(kind='bar')"
   ]
  },
  {
   "cell_type": "markdown",
   "metadata": {
    "id": "qtVgMQQ6xYHK"
   },
   "source": [
    "# Apply\n",
    "\n",
    "Apply allows us to apply a function over a whole column. Let use apply to add a new feature to the dataframe."
   ]
  },
  {
   "cell_type": "code",
   "execution_count": 81,
   "metadata": {
    "executionInfo": {
     "elapsed": 930,
     "status": "ok",
     "timestamp": 1610939595527,
     "user": {
      "displayName": "Jyoti Gupta",
      "photoUrl": "https://lh3.googleusercontent.com/a-/AOh14Gha7ARiuH9KYsBrRe_sEPEhpI5cXr55TdQBv6x_MA=s64",
      "userId": "16785426337890807929"
     },
     "user_tz": -480
    },
    "id": "1F7d5V0UeU_K"
   },
   "outputs": [],
   "source": [
    "df[\"Wine_Strength\"] = df[\"Alcohol\"].apply(lambda x: \"Strong\" if x > 14 else \"Normal\")"
   ]
  },
  {
   "cell_type": "code",
   "execution_count": 82,
   "metadata": {
    "id": "P3xTfqEqxYHK"
   },
   "outputs": [],
   "source": [
    "df['Wine_Strength'] = df.Alcohol.apply(lambda x: 'Strong' if x > 14 else 'Normal')"
   ]
  },
  {
   "cell_type": "code",
   "execution_count": 83,
   "metadata": {
    "executionInfo": {
     "elapsed": 853,
     "status": "ok",
     "timestamp": 1610939813420,
     "user": {
      "displayName": "Jyoti Gupta",
      "photoUrl": "https://lh3.googleusercontent.com/a-/AOh14Gha7ARiuH9KYsBrRe_sEPEhpI5cXr55TdQBv6x_MA=s64",
      "userId": "16785426337890807929"
     },
     "user_tz": -480
    },
    "id": "VKj0MMN9fJxm"
   },
   "outputs": [],
   "source": [
    "# create a new column/feature called color which is Light/Dark. if Hue is >= 1 then color is Dark else color is light\n",
    "df['Colour'] = df['Hue'].apply(lambda x : 'Dark' if x >=1 else 'Light' )"
   ]
  },
  {
   "cell_type": "code",
   "execution_count": 84,
   "metadata": {},
   "outputs": [
    {
     "data": {
      "application/vnd.microsoft.datawrangler.viewer.v0+json": {
       "columns": [
        {
         "name": "index",
         "rawType": "int64",
         "type": "integer"
        },
        {
         "name": "Class",
         "rawType": "int64",
         "type": "integer"
        },
        {
         "name": "Alcohol",
         "rawType": "float64",
         "type": "float"
        },
        {
         "name": "Malic acid",
         "rawType": "float64",
         "type": "float"
        },
        {
         "name": "Ash",
         "rawType": "float64",
         "type": "float"
        },
        {
         "name": "Alcalinity_of_ash",
         "rawType": "float64",
         "type": "float"
        },
        {
         "name": "Magnesium",
         "rawType": "int64",
         "type": "integer"
        },
        {
         "name": "Total_phenols",
         "rawType": "float64",
         "type": "float"
        },
        {
         "name": "Flavanoids",
         "rawType": "float64",
         "type": "float"
        },
        {
         "name": "Nonflavanoid_phenols",
         "rawType": "float64",
         "type": "float"
        },
        {
         "name": "Proanthocyanins",
         "rawType": "float64",
         "type": "float"
        },
        {
         "name": "Color_intensity",
         "rawType": "float64",
         "type": "float"
        },
        {
         "name": "Hue",
         "rawType": "float64",
         "type": "float"
        },
        {
         "name": "OD280_by_OD315",
         "rawType": "float64",
         "type": "float"
        },
        {
         "name": "Proline",
         "rawType": "int64",
         "type": "integer"
        },
        {
         "name": "Wine_Strength",
         "rawType": "object",
         "type": "string"
        },
        {
         "name": "Colour",
         "rawType": "object",
         "type": "string"
        }
       ],
       "conversionMethod": "pd.DataFrame",
       "ref": "49f413df-f8f5-4f1f-8c91-7aefea3fe0ca",
       "rows": [
        [
         "0",
         "1",
         "14.23",
         "1.71",
         "2.43",
         "15.6",
         "127",
         "2.8",
         "3.06",
         "0.28",
         "2.29",
         "5.64",
         "1.04",
         "3.92",
         "1065",
         "Strong",
         "Dark"
        ],
        [
         "1",
         "1",
         "13.2",
         "1.78",
         "2.14",
         "11.2",
         "100",
         "2.65",
         "2.76",
         "0.26",
         "1.28",
         "4.38",
         "1.05",
         "3.4",
         "1050",
         "Normal",
         "Dark"
        ],
        [
         "2",
         "1",
         "13.16",
         "2.36",
         "2.67",
         "18.6",
         "101",
         "2.8",
         "3.24",
         "0.3",
         "2.81",
         "5.68",
         "1.03",
         "3.17",
         "1185",
         "Normal",
         "Dark"
        ],
        [
         "3",
         "1",
         "14.37",
         "1.95",
         "2.5",
         "16.8",
         "113",
         "3.85",
         "3.49",
         "0.24",
         "2.18",
         "7.8",
         "0.86",
         "3.45",
         "1480",
         "Strong",
         "Light"
        ],
        [
         "4",
         "1",
         "13.24",
         "2.59",
         "2.87",
         "21.0",
         "118",
         "2.8",
         "2.69",
         "0.39",
         "1.82",
         "4.32",
         "1.04",
         "2.93",
         "735",
         "Normal",
         "Dark"
        ],
        [
         "5",
         "1",
         "14.2",
         "1.76",
         "2.45",
         "15.2",
         "112",
         "3.27",
         "3.39",
         "0.34",
         "1.97",
         "6.75",
         "1.05",
         "2.85",
         "1450",
         "Strong",
         "Dark"
        ],
        [
         "6",
         "1",
         "14.39",
         "1.87",
         "2.45",
         "14.6",
         "96",
         "2.5",
         "2.52",
         "0.3",
         "1.98",
         "5.25",
         "1.02",
         "3.58",
         "1290",
         "Strong",
         "Dark"
        ],
        [
         "7",
         "1",
         "14.06",
         "2.15",
         "2.61",
         "17.6",
         "121",
         "2.6",
         "2.51",
         "0.31",
         "1.25",
         "5.05",
         "1.06",
         "3.58",
         "1295",
         "Strong",
         "Dark"
        ],
        [
         "8",
         "1",
         "14.83",
         "1.64",
         "2.17",
         "14.0",
         "97",
         "2.8",
         "2.98",
         "0.29",
         "1.98",
         "5.2",
         "1.08",
         "2.85",
         "1045",
         "Strong",
         "Dark"
        ],
        [
         "9",
         "1",
         "13.86",
         "1.35",
         "2.27",
         "16.0",
         "98",
         "2.98",
         "3.15",
         "0.22",
         "1.85",
         "7.22",
         "1.01",
         "3.55",
         "1045",
         "Normal",
         "Dark"
        ],
        [
         "10",
         "1",
         "14.1",
         "2.16",
         "2.3",
         "18.0",
         "105",
         "2.95",
         "3.32",
         "0.22",
         "2.38",
         "5.75",
         "1.25",
         "3.17",
         "1510",
         "Strong",
         "Dark"
        ],
        [
         "11",
         "1",
         "14.12",
         "1.48",
         "2.32",
         "16.8",
         "95",
         "2.2",
         "2.43",
         "0.26",
         "1.57",
         "5.0",
         "1.17",
         "2.82",
         "1280",
         "Strong",
         "Dark"
        ],
        [
         "12",
         "1",
         "13.75",
         "1.73",
         "2.41",
         "16.0",
         "89",
         "2.6",
         "2.76",
         "0.29",
         "1.81",
         "5.6",
         "1.15",
         "2.9",
         "1320",
         "Normal",
         "Dark"
        ],
        [
         "13",
         "1",
         "14.75",
         "1.73",
         "2.39",
         "11.4",
         "91",
         "3.1",
         "3.69",
         "0.43",
         "2.81",
         "5.4",
         "1.25",
         "2.73",
         "1150",
         "Strong",
         "Dark"
        ],
        [
         "14",
         "1",
         "14.38",
         "1.87",
         "2.38",
         "12.0",
         "102",
         "3.3",
         "3.64",
         "0.29",
         "2.96",
         "7.5",
         "1.2",
         "3.0",
         "1547",
         "Strong",
         "Dark"
        ],
        [
         "15",
         "1",
         "13.63",
         "1.81",
         "2.7",
         "17.2",
         "112",
         "2.85",
         "2.91",
         "0.3",
         "1.46",
         "7.3",
         "1.28",
         "2.88",
         "1310",
         "Normal",
         "Dark"
        ],
        [
         "16",
         "1",
         "14.3",
         "1.92",
         "2.72",
         "20.0",
         "120",
         "2.8",
         "3.14",
         "0.33",
         "1.97",
         "6.2",
         "1.07",
         "2.65",
         "1280",
         "Strong",
         "Dark"
        ],
        [
         "17",
         "1",
         "13.83",
         "1.57",
         "2.62",
         "20.0",
         "115",
         "2.95",
         "3.4",
         "0.4",
         "1.72",
         "6.6",
         "1.13",
         "2.57",
         "1130",
         "Normal",
         "Dark"
        ],
        [
         "18",
         "1",
         "14.19",
         "1.59",
         "2.48",
         "16.5",
         "108",
         "3.3",
         "3.93",
         "0.32",
         "1.86",
         "8.7",
         "1.23",
         "2.82",
         "1680",
         "Strong",
         "Dark"
        ],
        [
         "19",
         "1",
         "13.64",
         "3.1",
         "2.56",
         "15.2",
         "116",
         "2.7",
         "3.03",
         "0.17",
         "1.66",
         "5.1",
         "0.96",
         "3.36",
         "845",
         "Normal",
         "Light"
        ],
        [
         "20",
         "1",
         "14.06",
         "1.63",
         "2.28",
         "16.0",
         "126",
         "3.0",
         "3.17",
         "0.24",
         "2.1",
         "5.65",
         "1.09",
         "3.71",
         "780",
         "Strong",
         "Dark"
        ],
        [
         "21",
         "1",
         "12.93",
         "3.8",
         "2.65",
         "18.6",
         "102",
         "2.41",
         "2.41",
         "0.25",
         "1.98",
         "4.5",
         "1.03",
         "3.52",
         "770",
         "Normal",
         "Dark"
        ],
        [
         "22",
         "1",
         "13.71",
         "1.86",
         "2.36",
         "16.6",
         "101",
         "2.61",
         "2.88",
         "0.27",
         "1.69",
         "3.8",
         "1.11",
         "4.0",
         "1035",
         "Normal",
         "Dark"
        ],
        [
         "23",
         "1",
         "12.85",
         "1.6",
         "2.52",
         "17.8",
         "95",
         "2.48",
         "2.37",
         "0.26",
         "1.46",
         "3.93",
         "1.09",
         "3.63",
         "1015",
         "Normal",
         "Dark"
        ],
        [
         "24",
         "1",
         "13.5",
         "1.81",
         "2.61",
         "20.0",
         "96",
         "2.53",
         "2.61",
         "0.28",
         "1.66",
         "3.52",
         "1.12",
         "3.82",
         "845",
         "Normal",
         "Dark"
        ],
        [
         "25",
         "1",
         "13.05",
         "2.05",
         "3.22",
         "25.0",
         "124",
         "2.63",
         "2.68",
         "0.47",
         "1.92",
         "3.58",
         "1.13",
         "3.2",
         "830",
         "Normal",
         "Dark"
        ],
        [
         "26",
         "1",
         "13.39",
         "1.77",
         "2.62",
         "16.1",
         "93",
         "2.85",
         "2.94",
         "0.34",
         "1.45",
         "4.8",
         "0.92",
         "3.22",
         "1195",
         "Normal",
         "Light"
        ],
        [
         "27",
         "1",
         "13.3",
         "1.72",
         "2.14",
         "17.0",
         "94",
         "2.4",
         "2.19",
         "0.27",
         "1.35",
         "3.95",
         "1.02",
         "2.77",
         "1285",
         "Normal",
         "Dark"
        ],
        [
         "28",
         "1",
         "13.87",
         "1.9",
         "2.8",
         "19.4",
         "107",
         "2.95",
         "2.97",
         "0.37",
         "1.76",
         "4.5",
         "1.25",
         "3.4",
         "915",
         "Normal",
         "Dark"
        ],
        [
         "29",
         "1",
         "14.02",
         "1.68",
         "2.21",
         "16.0",
         "96",
         "2.65",
         "2.33",
         "0.26",
         "1.98",
         "4.7",
         "1.04",
         "3.59",
         "1035",
         "Strong",
         "Dark"
        ],
        [
         "30",
         "1",
         "13.73",
         "1.5",
         "2.7",
         "22.5",
         "101",
         "3.0",
         "3.25",
         "0.29",
         "2.38",
         "5.7",
         "1.19",
         "2.71",
         "1285",
         "Normal",
         "Dark"
        ],
        [
         "31",
         "1",
         "13.58",
         "1.66",
         "2.36",
         "19.1",
         "106",
         "2.86",
         "3.19",
         "0.22",
         "1.95",
         "6.9",
         "1.09",
         "2.88",
         "1515",
         "Normal",
         "Dark"
        ],
        [
         "32",
         "1",
         "13.68",
         "1.83",
         "2.36",
         "17.2",
         "104",
         "2.42",
         "2.69",
         "0.42",
         "1.97",
         "3.84",
         "1.23",
         "2.87",
         "990",
         "Normal",
         "Dark"
        ],
        [
         "33",
         "1",
         "13.76",
         "1.53",
         "2.7",
         "19.5",
         "132",
         "2.95",
         "2.74",
         "0.5",
         "1.35",
         "5.4",
         "1.25",
         "3.0",
         "1235",
         "Normal",
         "Dark"
        ],
        [
         "34",
         "1",
         "13.51",
         "1.8",
         "2.65",
         "19.0",
         "110",
         "2.35",
         "2.53",
         "0.29",
         "1.54",
         "4.2",
         "1.1",
         "2.87",
         "1095",
         "Normal",
         "Dark"
        ],
        [
         "35",
         "1",
         "13.48",
         "1.81",
         "2.41",
         "20.5",
         "100",
         "2.7",
         "2.98",
         "0.26",
         "1.86",
         "5.1",
         "1.04",
         "3.47",
         "920",
         "Normal",
         "Dark"
        ],
        [
         "36",
         "1",
         "13.28",
         "1.64",
         "2.84",
         "15.5",
         "110",
         "2.6",
         "2.68",
         "0.34",
         "1.36",
         "4.6",
         "1.09",
         "2.78",
         "880",
         "Normal",
         "Dark"
        ],
        [
         "37",
         "1",
         "13.05",
         "1.65",
         "2.55",
         "18.0",
         "98",
         "2.45",
         "2.43",
         "0.29",
         "1.44",
         "4.25",
         "1.12",
         "2.51",
         "1105",
         "Normal",
         "Dark"
        ],
        [
         "38",
         "1",
         "13.07",
         "1.5",
         "2.1",
         "15.5",
         "98",
         "2.4",
         "2.64",
         "0.28",
         "1.37",
         "3.7",
         "1.18",
         "2.69",
         "1020",
         "Normal",
         "Dark"
        ],
        [
         "39",
         "1",
         "14.22",
         "3.99",
         "2.51",
         "13.2",
         "128",
         "3.0",
         "3.04",
         "0.2",
         "2.08",
         "5.1",
         "0.89",
         "3.53",
         "760",
         "Strong",
         "Light"
        ],
        [
         "40",
         "1",
         "13.56",
         "1.71",
         "2.31",
         "16.2",
         "117",
         "3.15",
         "3.29",
         "0.34",
         "2.34",
         "6.13",
         "0.95",
         "3.38",
         "795",
         "Normal",
         "Light"
        ],
        [
         "41",
         "1",
         "13.41",
         "3.84",
         "2.12",
         "18.8",
         "90",
         "2.45",
         "2.68",
         "0.27",
         "1.48",
         "4.28",
         "0.91",
         "3.0",
         "1035",
         "Normal",
         "Light"
        ],
        [
         "42",
         "1",
         "13.88",
         "1.89",
         "2.59",
         "15.0",
         "101",
         "3.25",
         "3.56",
         "0.17",
         "1.7",
         "5.43",
         "0.88",
         "3.56",
         "1095",
         "Normal",
         "Light"
        ],
        [
         "43",
         "1",
         "13.24",
         "3.98",
         "2.29",
         "17.5",
         "103",
         "2.64",
         "2.63",
         "0.32",
         "1.66",
         "4.36",
         "0.82",
         "3.0",
         "680",
         "Normal",
         "Light"
        ],
        [
         "44",
         "1",
         "13.05",
         "1.77",
         "2.1",
         "17.0",
         "107",
         "3.0",
         "3.0",
         "0.28",
         "2.03",
         "5.04",
         "0.88",
         "3.35",
         "885",
         "Normal",
         "Light"
        ],
        [
         "45",
         "1",
         "14.21",
         "4.04",
         "2.44",
         "18.9",
         "111",
         "2.85",
         "2.65",
         "0.3",
         "1.25",
         "5.24",
         "0.87",
         "3.33",
         "1080",
         "Strong",
         "Light"
        ],
        [
         "46",
         "1",
         "14.38",
         "3.59",
         "2.28",
         "16.0",
         "102",
         "3.25",
         "3.17",
         "0.27",
         "2.19",
         "4.9",
         "1.04",
         "3.44",
         "1065",
         "Strong",
         "Dark"
        ],
        [
         "47",
         "1",
         "13.9",
         "1.68",
         "2.12",
         "16.0",
         "101",
         "3.1",
         "3.39",
         "0.21",
         "2.14",
         "6.1",
         "0.91",
         "3.33",
         "985",
         "Normal",
         "Light"
        ],
        [
         "48",
         "1",
         "14.1",
         "2.02",
         "2.4",
         "18.8",
         "103",
         "2.75",
         "2.92",
         "0.32",
         "2.38",
         "6.2",
         "1.07",
         "2.75",
         "1060",
         "Strong",
         "Dark"
        ],
        [
         "49",
         "1",
         "13.94",
         "1.73",
         "2.27",
         "17.4",
         "108",
         "2.88",
         "3.54",
         "0.32",
         "2.08",
         "8.9",
         "1.12",
         "3.1",
         "1260",
         "Normal",
         "Dark"
        ]
       ],
       "shape": {
        "columns": 16,
        "rows": 178
       }
      },
      "text/html": [
       "<div>\n",
       "<style scoped>\n",
       "    .dataframe tbody tr th:only-of-type {\n",
       "        vertical-align: middle;\n",
       "    }\n",
       "\n",
       "    .dataframe tbody tr th {\n",
       "        vertical-align: top;\n",
       "    }\n",
       "\n",
       "    .dataframe thead th {\n",
       "        text-align: right;\n",
       "    }\n",
       "</style>\n",
       "<table border=\"1\" class=\"dataframe\">\n",
       "  <thead>\n",
       "    <tr style=\"text-align: right;\">\n",
       "      <th></th>\n",
       "      <th>Class</th>\n",
       "      <th>Alcohol</th>\n",
       "      <th>Malic acid</th>\n",
       "      <th>Ash</th>\n",
       "      <th>Alcalinity_of_ash</th>\n",
       "      <th>Magnesium</th>\n",
       "      <th>Total_phenols</th>\n",
       "      <th>Flavanoids</th>\n",
       "      <th>Nonflavanoid_phenols</th>\n",
       "      <th>Proanthocyanins</th>\n",
       "      <th>Color_intensity</th>\n",
       "      <th>Hue</th>\n",
       "      <th>OD280_by_OD315</th>\n",
       "      <th>Proline</th>\n",
       "      <th>Wine_Strength</th>\n",
       "      <th>Colour</th>\n",
       "    </tr>\n",
       "  </thead>\n",
       "  <tbody>\n",
       "    <tr>\n",
       "      <th>0</th>\n",
       "      <td>1</td>\n",
       "      <td>14.23</td>\n",
       "      <td>1.71</td>\n",
       "      <td>2.43</td>\n",
       "      <td>15.6</td>\n",
       "      <td>127</td>\n",
       "      <td>2.80</td>\n",
       "      <td>3.06</td>\n",
       "      <td>0.28</td>\n",
       "      <td>2.29</td>\n",
       "      <td>5.64</td>\n",
       "      <td>1.04</td>\n",
       "      <td>3.92</td>\n",
       "      <td>1065</td>\n",
       "      <td>Strong</td>\n",
       "      <td>Dark</td>\n",
       "    </tr>\n",
       "    <tr>\n",
       "      <th>1</th>\n",
       "      <td>1</td>\n",
       "      <td>13.20</td>\n",
       "      <td>1.78</td>\n",
       "      <td>2.14</td>\n",
       "      <td>11.2</td>\n",
       "      <td>100</td>\n",
       "      <td>2.65</td>\n",
       "      <td>2.76</td>\n",
       "      <td>0.26</td>\n",
       "      <td>1.28</td>\n",
       "      <td>4.38</td>\n",
       "      <td>1.05</td>\n",
       "      <td>3.40</td>\n",
       "      <td>1050</td>\n",
       "      <td>Normal</td>\n",
       "      <td>Dark</td>\n",
       "    </tr>\n",
       "    <tr>\n",
       "      <th>2</th>\n",
       "      <td>1</td>\n",
       "      <td>13.16</td>\n",
       "      <td>2.36</td>\n",
       "      <td>2.67</td>\n",
       "      <td>18.6</td>\n",
       "      <td>101</td>\n",
       "      <td>2.80</td>\n",
       "      <td>3.24</td>\n",
       "      <td>0.30</td>\n",
       "      <td>2.81</td>\n",
       "      <td>5.68</td>\n",
       "      <td>1.03</td>\n",
       "      <td>3.17</td>\n",
       "      <td>1185</td>\n",
       "      <td>Normal</td>\n",
       "      <td>Dark</td>\n",
       "    </tr>\n",
       "    <tr>\n",
       "      <th>3</th>\n",
       "      <td>1</td>\n",
       "      <td>14.37</td>\n",
       "      <td>1.95</td>\n",
       "      <td>2.50</td>\n",
       "      <td>16.8</td>\n",
       "      <td>113</td>\n",
       "      <td>3.85</td>\n",
       "      <td>3.49</td>\n",
       "      <td>0.24</td>\n",
       "      <td>2.18</td>\n",
       "      <td>7.80</td>\n",
       "      <td>0.86</td>\n",
       "      <td>3.45</td>\n",
       "      <td>1480</td>\n",
       "      <td>Strong</td>\n",
       "      <td>Light</td>\n",
       "    </tr>\n",
       "    <tr>\n",
       "      <th>4</th>\n",
       "      <td>1</td>\n",
       "      <td>13.24</td>\n",
       "      <td>2.59</td>\n",
       "      <td>2.87</td>\n",
       "      <td>21.0</td>\n",
       "      <td>118</td>\n",
       "      <td>2.80</td>\n",
       "      <td>2.69</td>\n",
       "      <td>0.39</td>\n",
       "      <td>1.82</td>\n",
       "      <td>4.32</td>\n",
       "      <td>1.04</td>\n",
       "      <td>2.93</td>\n",
       "      <td>735</td>\n",
       "      <td>Normal</td>\n",
       "      <td>Dark</td>\n",
       "    </tr>\n",
       "    <tr>\n",
       "      <th>...</th>\n",
       "      <td>...</td>\n",
       "      <td>...</td>\n",
       "      <td>...</td>\n",
       "      <td>...</td>\n",
       "      <td>...</td>\n",
       "      <td>...</td>\n",
       "      <td>...</td>\n",
       "      <td>...</td>\n",
       "      <td>...</td>\n",
       "      <td>...</td>\n",
       "      <td>...</td>\n",
       "      <td>...</td>\n",
       "      <td>...</td>\n",
       "      <td>...</td>\n",
       "      <td>...</td>\n",
       "      <td>...</td>\n",
       "    </tr>\n",
       "    <tr>\n",
       "      <th>173</th>\n",
       "      <td>3</td>\n",
       "      <td>13.71</td>\n",
       "      <td>5.65</td>\n",
       "      <td>2.45</td>\n",
       "      <td>20.5</td>\n",
       "      <td>95</td>\n",
       "      <td>1.68</td>\n",
       "      <td>0.61</td>\n",
       "      <td>0.52</td>\n",
       "      <td>1.06</td>\n",
       "      <td>7.70</td>\n",
       "      <td>0.64</td>\n",
       "      <td>1.74</td>\n",
       "      <td>740</td>\n",
       "      <td>Normal</td>\n",
       "      <td>Light</td>\n",
       "    </tr>\n",
       "    <tr>\n",
       "      <th>174</th>\n",
       "      <td>3</td>\n",
       "      <td>13.40</td>\n",
       "      <td>3.91</td>\n",
       "      <td>2.48</td>\n",
       "      <td>23.0</td>\n",
       "      <td>102</td>\n",
       "      <td>1.80</td>\n",
       "      <td>0.75</td>\n",
       "      <td>0.43</td>\n",
       "      <td>1.41</td>\n",
       "      <td>7.30</td>\n",
       "      <td>0.70</td>\n",
       "      <td>1.56</td>\n",
       "      <td>750</td>\n",
       "      <td>Normal</td>\n",
       "      <td>Light</td>\n",
       "    </tr>\n",
       "    <tr>\n",
       "      <th>175</th>\n",
       "      <td>3</td>\n",
       "      <td>13.27</td>\n",
       "      <td>4.28</td>\n",
       "      <td>2.26</td>\n",
       "      <td>20.0</td>\n",
       "      <td>120</td>\n",
       "      <td>1.59</td>\n",
       "      <td>0.69</td>\n",
       "      <td>0.43</td>\n",
       "      <td>1.35</td>\n",
       "      <td>10.20</td>\n",
       "      <td>0.59</td>\n",
       "      <td>1.56</td>\n",
       "      <td>835</td>\n",
       "      <td>Normal</td>\n",
       "      <td>Light</td>\n",
       "    </tr>\n",
       "    <tr>\n",
       "      <th>176</th>\n",
       "      <td>3</td>\n",
       "      <td>13.17</td>\n",
       "      <td>2.59</td>\n",
       "      <td>2.37</td>\n",
       "      <td>20.0</td>\n",
       "      <td>120</td>\n",
       "      <td>1.65</td>\n",
       "      <td>0.68</td>\n",
       "      <td>0.53</td>\n",
       "      <td>1.46</td>\n",
       "      <td>9.30</td>\n",
       "      <td>0.60</td>\n",
       "      <td>1.62</td>\n",
       "      <td>840</td>\n",
       "      <td>Normal</td>\n",
       "      <td>Light</td>\n",
       "    </tr>\n",
       "    <tr>\n",
       "      <th>177</th>\n",
       "      <td>3</td>\n",
       "      <td>14.13</td>\n",
       "      <td>4.10</td>\n",
       "      <td>2.74</td>\n",
       "      <td>24.5</td>\n",
       "      <td>96</td>\n",
       "      <td>2.05</td>\n",
       "      <td>0.76</td>\n",
       "      <td>0.56</td>\n",
       "      <td>1.35</td>\n",
       "      <td>9.20</td>\n",
       "      <td>0.61</td>\n",
       "      <td>1.60</td>\n",
       "      <td>560</td>\n",
       "      <td>Strong</td>\n",
       "      <td>Light</td>\n",
       "    </tr>\n",
       "  </tbody>\n",
       "</table>\n",
       "<p>178 rows × 16 columns</p>\n",
       "</div>"
      ],
      "text/plain": [
       "     Class  Alcohol  Malic acid   Ash  Alcalinity_of_ash  Magnesium  \\\n",
       "0        1    14.23        1.71  2.43               15.6        127   \n",
       "1        1    13.20        1.78  2.14               11.2        100   \n",
       "2        1    13.16        2.36  2.67               18.6        101   \n",
       "3        1    14.37        1.95  2.50               16.8        113   \n",
       "4        1    13.24        2.59  2.87               21.0        118   \n",
       "..     ...      ...         ...   ...                ...        ...   \n",
       "173      3    13.71        5.65  2.45               20.5         95   \n",
       "174      3    13.40        3.91  2.48               23.0        102   \n",
       "175      3    13.27        4.28  2.26               20.0        120   \n",
       "176      3    13.17        2.59  2.37               20.0        120   \n",
       "177      3    14.13        4.10  2.74               24.5         96   \n",
       "\n",
       "     Total_phenols  Flavanoids  Nonflavanoid_phenols  Proanthocyanins  \\\n",
       "0             2.80        3.06                  0.28             2.29   \n",
       "1             2.65        2.76                  0.26             1.28   \n",
       "2             2.80        3.24                  0.30             2.81   \n",
       "3             3.85        3.49                  0.24             2.18   \n",
       "4             2.80        2.69                  0.39             1.82   \n",
       "..             ...         ...                   ...              ...   \n",
       "173           1.68        0.61                  0.52             1.06   \n",
       "174           1.80        0.75                  0.43             1.41   \n",
       "175           1.59        0.69                  0.43             1.35   \n",
       "176           1.65        0.68                  0.53             1.46   \n",
       "177           2.05        0.76                  0.56             1.35   \n",
       "\n",
       "     Color_intensity   Hue  OD280_by_OD315  Proline Wine_Strength Colour  \n",
       "0               5.64  1.04            3.92     1065        Strong   Dark  \n",
       "1               4.38  1.05            3.40     1050        Normal   Dark  \n",
       "2               5.68  1.03            3.17     1185        Normal   Dark  \n",
       "3               7.80  0.86            3.45     1480        Strong  Light  \n",
       "4               4.32  1.04            2.93      735        Normal   Dark  \n",
       "..               ...   ...             ...      ...           ...    ...  \n",
       "173             7.70  0.64            1.74      740        Normal  Light  \n",
       "174             7.30  0.70            1.56      750        Normal  Light  \n",
       "175            10.20  0.59            1.56      835        Normal  Light  \n",
       "176             9.30  0.60            1.62      840        Normal  Light  \n",
       "177             9.20  0.61            1.60      560        Strong  Light  \n",
       "\n",
       "[178 rows x 16 columns]"
      ]
     },
     "execution_count": 84,
     "metadata": {},
     "output_type": "execute_result"
    }
   ],
   "source": [
    "df"
   ]
  },
  {
   "cell_type": "code",
   "execution_count": 85,
   "metadata": {
    "executionInfo": {
     "elapsed": 840,
     "status": "ok",
     "timestamp": 1610940360145,
     "user": {
      "displayName": "Jyoti Gupta",
      "photoUrl": "https://lh3.googleusercontent.com/a-/AOh14Gha7ARiuH9KYsBrRe_sEPEhpI5cXr55TdQBv6x_MA=s64",
      "userId": "16785426337890807929"
     },
     "user_tz": -480
    },
    "id": "9l6B9NZYfwnQ"
   },
   "outputs": [],
   "source": [
    "def apply_colour(x):\n",
    "  # print(x.Hue)\n",
    "  # print(x.Magnesium)\n",
    "  if x.Hue > 1 and x.Magnesium > 100:\n",
    "    return \"Strong\"\n",
    "  else:\n",
    "    return \"Medium\"\n",
    "  \n",
    "\n",
    "df[\"Colour\"] = df[[\"Hue\", \"Magnesium\"]].apply(apply_colour, axis=1) #axis =1 means we are applying the fucntion on rows. \n",
    "# axis = 0 means we are applying the fucntion on columns. \n"
   ]
  },
  {
   "cell_type": "code",
   "execution_count": 86,
   "metadata": {
    "colab": {
     "base_uri": "https://localhost:8080/"
    },
    "executionInfo": {
     "elapsed": 945,
     "status": "ok",
     "timestamp": 1610939972847,
     "user": {
      "displayName": "Jyoti Gupta",
      "photoUrl": "https://lh3.googleusercontent.com/a-/AOh14Gha7ARiuH9KYsBrRe_sEPEhpI5cXr55TdQBv6x_MA=s64",
      "userId": "16785426337890807929"
     },
     "user_tz": -480
    },
    "id": "j3ZFP1wEgRIY",
    "outputId": "2bc5ad7f-f6a8-406a-f73f-4432a2b70133"
   },
   "outputs": [
    {
     "data": {
      "text/plain": [
       "Medium    140\n",
       "Strong     38\n",
       "Name: Colour, dtype: int64"
      ]
     },
     "execution_count": 86,
     "metadata": {},
     "output_type": "execute_result"
    }
   ],
   "source": [
    "df[\"Colour\"].value_counts()"
   ]
  },
  {
   "cell_type": "code",
   "execution_count": 87,
   "metadata": {
    "colab": {
     "base_uri": "https://localhost:8080/",
     "height": 224
    },
    "executionInfo": {
     "elapsed": 853,
     "status": "ok",
     "timestamp": 1610940368305,
     "user": {
      "displayName": "Jyoti Gupta",
      "photoUrl": "https://lh3.googleusercontent.com/a-/AOh14Gha7ARiuH9KYsBrRe_sEPEhpI5cXr55TdQBv6x_MA=s64",
      "userId": "16785426337890807929"
     },
     "user_tz": -480
    },
    "id": "iykmFoQ6xYHM",
    "outputId": "7b02f4a2-8d36-418e-a4ad-94ddb8cee631"
   },
   "outputs": [
    {
     "data": {
      "application/vnd.microsoft.datawrangler.viewer.v0+json": {
       "columns": [
        {
         "name": "index",
         "rawType": "int64",
         "type": "integer"
        },
        {
         "name": "Class",
         "rawType": "int64",
         "type": "integer"
        },
        {
         "name": "Alcohol",
         "rawType": "float64",
         "type": "float"
        },
        {
         "name": "Malic acid",
         "rawType": "float64",
         "type": "float"
        },
        {
         "name": "Ash",
         "rawType": "float64",
         "type": "float"
        },
        {
         "name": "Alcalinity_of_ash",
         "rawType": "float64",
         "type": "float"
        },
        {
         "name": "Magnesium",
         "rawType": "int64",
         "type": "integer"
        },
        {
         "name": "Total_phenols",
         "rawType": "float64",
         "type": "float"
        },
        {
         "name": "Flavanoids",
         "rawType": "float64",
         "type": "float"
        },
        {
         "name": "Nonflavanoid_phenols",
         "rawType": "float64",
         "type": "float"
        },
        {
         "name": "Proanthocyanins",
         "rawType": "float64",
         "type": "float"
        },
        {
         "name": "Color_intensity",
         "rawType": "float64",
         "type": "float"
        },
        {
         "name": "Hue",
         "rawType": "float64",
         "type": "float"
        },
        {
         "name": "OD280_by_OD315",
         "rawType": "float64",
         "type": "float"
        },
        {
         "name": "Proline",
         "rawType": "int64",
         "type": "integer"
        },
        {
         "name": "Wine_Strength",
         "rawType": "object",
         "type": "string"
        },
        {
         "name": "Colour",
         "rawType": "object",
         "type": "string"
        }
       ],
       "conversionMethod": "pd.DataFrame",
       "ref": "f16b1e37-7fd1-478e-82f2-49383abe5766",
       "rows": [
        [
         "0",
         "1",
         "14.23",
         "1.71",
         "2.43",
         "15.6",
         "127",
         "2.8",
         "3.06",
         "0.28",
         "2.29",
         "5.64",
         "1.04",
         "3.92",
         "1065",
         "Strong",
         "Strong"
        ],
        [
         "1",
         "1",
         "13.2",
         "1.78",
         "2.14",
         "11.2",
         "100",
         "2.65",
         "2.76",
         "0.26",
         "1.28",
         "4.38",
         "1.05",
         "3.4",
         "1050",
         "Normal",
         "Medium"
        ],
        [
         "2",
         "1",
         "13.16",
         "2.36",
         "2.67",
         "18.6",
         "101",
         "2.8",
         "3.24",
         "0.3",
         "2.81",
         "5.68",
         "1.03",
         "3.17",
         "1185",
         "Normal",
         "Strong"
        ],
        [
         "3",
         "1",
         "14.37",
         "1.95",
         "2.5",
         "16.8",
         "113",
         "3.85",
         "3.49",
         "0.24",
         "2.18",
         "7.8",
         "0.86",
         "3.45",
         "1480",
         "Strong",
         "Medium"
        ],
        [
         "4",
         "1",
         "13.24",
         "2.59",
         "2.87",
         "21.0",
         "118",
         "2.8",
         "2.69",
         "0.39",
         "1.82",
         "4.32",
         "1.04",
         "2.93",
         "735",
         "Normal",
         "Strong"
        ]
       ],
       "shape": {
        "columns": 16,
        "rows": 5
       }
      },
      "text/html": [
       "<div>\n",
       "<style scoped>\n",
       "    .dataframe tbody tr th:only-of-type {\n",
       "        vertical-align: middle;\n",
       "    }\n",
       "\n",
       "    .dataframe tbody tr th {\n",
       "        vertical-align: top;\n",
       "    }\n",
       "\n",
       "    .dataframe thead th {\n",
       "        text-align: right;\n",
       "    }\n",
       "</style>\n",
       "<table border=\"1\" class=\"dataframe\">\n",
       "  <thead>\n",
       "    <tr style=\"text-align: right;\">\n",
       "      <th></th>\n",
       "      <th>Class</th>\n",
       "      <th>Alcohol</th>\n",
       "      <th>Malic acid</th>\n",
       "      <th>Ash</th>\n",
       "      <th>Alcalinity_of_ash</th>\n",
       "      <th>Magnesium</th>\n",
       "      <th>Total_phenols</th>\n",
       "      <th>Flavanoids</th>\n",
       "      <th>Nonflavanoid_phenols</th>\n",
       "      <th>Proanthocyanins</th>\n",
       "      <th>Color_intensity</th>\n",
       "      <th>Hue</th>\n",
       "      <th>OD280_by_OD315</th>\n",
       "      <th>Proline</th>\n",
       "      <th>Wine_Strength</th>\n",
       "      <th>Colour</th>\n",
       "    </tr>\n",
       "  </thead>\n",
       "  <tbody>\n",
       "    <tr>\n",
       "      <th>0</th>\n",
       "      <td>1</td>\n",
       "      <td>14.23</td>\n",
       "      <td>1.71</td>\n",
       "      <td>2.43</td>\n",
       "      <td>15.6</td>\n",
       "      <td>127</td>\n",
       "      <td>2.80</td>\n",
       "      <td>3.06</td>\n",
       "      <td>0.28</td>\n",
       "      <td>2.29</td>\n",
       "      <td>5.64</td>\n",
       "      <td>1.04</td>\n",
       "      <td>3.92</td>\n",
       "      <td>1065</td>\n",
       "      <td>Strong</td>\n",
       "      <td>Strong</td>\n",
       "    </tr>\n",
       "    <tr>\n",
       "      <th>1</th>\n",
       "      <td>1</td>\n",
       "      <td>13.20</td>\n",
       "      <td>1.78</td>\n",
       "      <td>2.14</td>\n",
       "      <td>11.2</td>\n",
       "      <td>100</td>\n",
       "      <td>2.65</td>\n",
       "      <td>2.76</td>\n",
       "      <td>0.26</td>\n",
       "      <td>1.28</td>\n",
       "      <td>4.38</td>\n",
       "      <td>1.05</td>\n",
       "      <td>3.40</td>\n",
       "      <td>1050</td>\n",
       "      <td>Normal</td>\n",
       "      <td>Medium</td>\n",
       "    </tr>\n",
       "    <tr>\n",
       "      <th>2</th>\n",
       "      <td>1</td>\n",
       "      <td>13.16</td>\n",
       "      <td>2.36</td>\n",
       "      <td>2.67</td>\n",
       "      <td>18.6</td>\n",
       "      <td>101</td>\n",
       "      <td>2.80</td>\n",
       "      <td>3.24</td>\n",
       "      <td>0.30</td>\n",
       "      <td>2.81</td>\n",
       "      <td>5.68</td>\n",
       "      <td>1.03</td>\n",
       "      <td>3.17</td>\n",
       "      <td>1185</td>\n",
       "      <td>Normal</td>\n",
       "      <td>Strong</td>\n",
       "    </tr>\n",
       "    <tr>\n",
       "      <th>3</th>\n",
       "      <td>1</td>\n",
       "      <td>14.37</td>\n",
       "      <td>1.95</td>\n",
       "      <td>2.50</td>\n",
       "      <td>16.8</td>\n",
       "      <td>113</td>\n",
       "      <td>3.85</td>\n",
       "      <td>3.49</td>\n",
       "      <td>0.24</td>\n",
       "      <td>2.18</td>\n",
       "      <td>7.80</td>\n",
       "      <td>0.86</td>\n",
       "      <td>3.45</td>\n",
       "      <td>1480</td>\n",
       "      <td>Strong</td>\n",
       "      <td>Medium</td>\n",
       "    </tr>\n",
       "    <tr>\n",
       "      <th>4</th>\n",
       "      <td>1</td>\n",
       "      <td>13.24</td>\n",
       "      <td>2.59</td>\n",
       "      <td>2.87</td>\n",
       "      <td>21.0</td>\n",
       "      <td>118</td>\n",
       "      <td>2.80</td>\n",
       "      <td>2.69</td>\n",
       "      <td>0.39</td>\n",
       "      <td>1.82</td>\n",
       "      <td>4.32</td>\n",
       "      <td>1.04</td>\n",
       "      <td>2.93</td>\n",
       "      <td>735</td>\n",
       "      <td>Normal</td>\n",
       "      <td>Strong</td>\n",
       "    </tr>\n",
       "  </tbody>\n",
       "</table>\n",
       "</div>"
      ],
      "text/plain": [
       "   Class  Alcohol  Malic acid   Ash  Alcalinity_of_ash  Magnesium  \\\n",
       "0      1    14.23        1.71  2.43               15.6        127   \n",
       "1      1    13.20        1.78  2.14               11.2        100   \n",
       "2      1    13.16        2.36  2.67               18.6        101   \n",
       "3      1    14.37        1.95  2.50               16.8        113   \n",
       "4      1    13.24        2.59  2.87               21.0        118   \n",
       "\n",
       "   Total_phenols  Flavanoids  Nonflavanoid_phenols  Proanthocyanins  \\\n",
       "0           2.80        3.06                  0.28             2.29   \n",
       "1           2.65        2.76                  0.26             1.28   \n",
       "2           2.80        3.24                  0.30             2.81   \n",
       "3           3.85        3.49                  0.24             2.18   \n",
       "4           2.80        2.69                  0.39             1.82   \n",
       "\n",
       "   Color_intensity   Hue  OD280_by_OD315  Proline Wine_Strength  Colour  \n",
       "0             5.64  1.04            3.92     1065        Strong  Strong  \n",
       "1             4.38  1.05            3.40     1050        Normal  Medium  \n",
       "2             5.68  1.03            3.17     1185        Normal  Strong  \n",
       "3             7.80  0.86            3.45     1480        Strong  Medium  \n",
       "4             4.32  1.04            2.93      735        Normal  Strong  "
      ]
     },
     "execution_count": 87,
     "metadata": {},
     "output_type": "execute_result"
    }
   ],
   "source": [
    "df.head()"
   ]
  },
  {
   "cell_type": "markdown",
   "metadata": {
    "id": "XP34PrNjxYHN"
   },
   "source": [
    "# Map\n",
    "\n",
    "Map allows use to apply a dictionary across the dateframe. Pretend for a moment that theres a mistake in the class labels, and class 3 is actually just class 2."
   ]
  },
  {
   "cell_type": "code",
   "execution_count": 88,
   "metadata": {
    "colab": {
     "base_uri": "https://localhost:8080/"
    },
    "executionInfo": {
     "elapsed": 6815,
     "status": "ok",
     "timestamp": 1610690045461,
     "user": {
      "displayName": "Jyoti Gupta",
      "photoUrl": "https://lh3.googleusercontent.com/a-/AOh14Gha7ARiuH9KYsBrRe_sEPEhpI5cXr55TdQBv6x_MA=s64",
      "userId": "16785426337890807929"
     },
     "user_tz": -480
    },
    "id": "ePEuh-UoxYHO",
    "outputId": "58f77f62-15c4-4d34-e577-b7f02885730c"
   },
   "outputs": [
    {
     "data": {
      "text/plain": [
       "array([1, 2, 3])"
      ]
     },
     "execution_count": 88,
     "metadata": {},
     "output_type": "execute_result"
    }
   ],
   "source": [
    "df.Class.unique() # Look at the unique values in the class column"
   ]
  },
  {
   "cell_type": "code",
   "execution_count": 89,
   "metadata": {},
   "outputs": [
    {
     "data": {
      "text/plain": [
       "2    71\n",
       "1    59\n",
       "3    48\n",
       "Name: Class, dtype: int64"
      ]
     },
     "execution_count": 89,
     "metadata": {},
     "output_type": "execute_result"
    }
   ],
   "source": [
    "counts = df[\"Class\"].value_counts()\n",
    "counts"
   ]
  },
  {
   "cell_type": "code",
   "execution_count": 90,
   "metadata": {
    "id": "eRmyb49OxYHQ"
   },
   "outputs": [],
   "source": [
    "class_dict = {1:1,2:2,3:2} #create diction to map classes to new classes\n",
    "#the original class labels 1, 2, and 3 are being mapped to the transformed labels 1, 2, and 2, respectively. As a result, the transformed column will have only two unique values: 1 and 2."
   ]
  },
  {
   "cell_type": "code",
   "execution_count": 91,
   "metadata": {
    "id": "3e39relXxYHS"
   },
   "outputs": [],
   "source": [
    "df.Class = df.Class.map(class_dict) #replace all class 3 with class 2"
   ]
  },
  {
   "cell_type": "code",
   "execution_count": 92,
   "metadata": {
    "colab": {
     "base_uri": "https://localhost:8080/"
    },
    "executionInfo": {
     "elapsed": 6812,
     "status": "ok",
     "timestamp": 1610690045462,
     "user": {
      "displayName": "Jyoti Gupta",
      "photoUrl": "https://lh3.googleusercontent.com/a-/AOh14Gha7ARiuH9KYsBrRe_sEPEhpI5cXr55TdQBv6x_MA=s64",
      "userId": "16785426337890807929"
     },
     "user_tz": -480
    },
    "id": "imLJ8y73xYHX",
    "outputId": "12537980-0cab-4d5f-e7de-3a9e4a564c8b"
   },
   "outputs": [
    {
     "data": {
      "text/plain": [
       "array([1, 2])"
      ]
     },
     "execution_count": 92,
     "metadata": {},
     "output_type": "execute_result"
    }
   ],
   "source": [
    "df.Class.unique() "
   ]
  },
  {
   "cell_type": "code",
   "execution_count": 94,
   "metadata": {},
   "outputs": [
    {
     "name": "stdout",
     "output_type": "stream",
     "text": [
      "Count of 1: 59\n",
      "Count of 2: 119\n"
     ]
    }
   ],
   "source": [
    "class_dict = {1: 1, 2: 2, 3: 2}\n",
    "df[\"Class\"] = df[\"Class\"].map(class_dict)\n",
    "\n",
    "counts = df[\"Class\"].value_counts()\n",
    "count_1 = counts[1]\n",
    "count_2 = counts[2]\n",
    "\n",
    "print(\"Count of 1:\", count_1)\n",
    "print(\"Count of 2:\", count_2)"
   ]
  },
  {
   "cell_type": "markdown",
   "metadata": {
    "id": "b2zf5ZdDxYHY"
   },
   "source": [
    "\n",
    "This was a brief introduction to pandas, the best way to learn it is by working though the following resources: \n",
    "\n",
    "* [Pandas Exercises](https://github.com/guipsamora/pandas_exercises)\n",
    "* [Pandas Cookbook](https://github.com/jvns/pandas-cookbook)\n",
    "* [Pandas Videos](https://www.youtube.com/watch?v=yzIMircGU5I&list=PL5-da3qGB5ICCsgW1MxlZ0Hq8LL5U3u9y&index=1&t=0s)"
   ]
  },
  {
   "cell_type": "code",
   "execution_count": 65,
   "metadata": {
    "id": "ZM7s8cdrxYHZ"
   },
   "outputs": [],
   "source": [
    "# test"
   ]
  },
  {
   "cell_type": "code",
   "execution_count": 95,
   "metadata": {
    "colab": {
     "base_uri": "https://localhost:8080/",
     "height": 224
    },
    "executionInfo": {
     "elapsed": 1270,
     "status": "ok",
     "timestamp": 1610690078093,
     "user": {
      "displayName": "Jyoti Gupta",
      "photoUrl": "https://lh3.googleusercontent.com/a-/AOh14Gha7ARiuH9KYsBrRe_sEPEhpI5cXr55TdQBv6x_MA=s64",
      "userId": "16785426337890807929"
     },
     "user_tz": -480
    },
    "id": "s1gqZbdxnAO4",
    "outputId": "b63dbe7e-4f14-40e1-f026-d474fb852704"
   },
   "outputs": [
    {
     "data": {
      "application/vnd.microsoft.datawrangler.viewer.v0+json": {
       "columns": [
        {
         "name": "index",
         "rawType": "int64",
         "type": "integer"
        },
        {
         "name": "Class",
         "rawType": "int64",
         "type": "integer"
        },
        {
         "name": "Alcohol",
         "rawType": "float64",
         "type": "float"
        },
        {
         "name": "Malic acid",
         "rawType": "float64",
         "type": "float"
        },
        {
         "name": "Ash",
         "rawType": "float64",
         "type": "float"
        },
        {
         "name": "Alcalinity_of_ash",
         "rawType": "float64",
         "type": "float"
        },
        {
         "name": "Magnesium",
         "rawType": "int64",
         "type": "integer"
        },
        {
         "name": "Total_phenols",
         "rawType": "float64",
         "type": "float"
        },
        {
         "name": "Flavanoids",
         "rawType": "float64",
         "type": "float"
        },
        {
         "name": "Nonflavanoid_phenols",
         "rawType": "float64",
         "type": "float"
        },
        {
         "name": "Proanthocyanins",
         "rawType": "float64",
         "type": "float"
        },
        {
         "name": "Color_intensity",
         "rawType": "float64",
         "type": "float"
        },
        {
         "name": "Hue",
         "rawType": "float64",
         "type": "float"
        },
        {
         "name": "OD280_by_OD315",
         "rawType": "float64",
         "type": "float"
        },
        {
         "name": "Proline",
         "rawType": "int64",
         "type": "integer"
        },
        {
         "name": "Wine_Strength",
         "rawType": "object",
         "type": "string"
        },
        {
         "name": "Colour",
         "rawType": "object",
         "type": "string"
        }
       ],
       "conversionMethod": "pd.DataFrame",
       "ref": "070607f8-5e96-4247-958a-1be157106c12",
       "rows": [
        [
         "0",
         "1",
         "14.23",
         "1.71",
         "2.43",
         "15.6",
         "127",
         "2.8",
         "3.06",
         "0.28",
         "2.29",
         "5.64",
         "1.04",
         "3.92",
         "1065",
         "Strong",
         "Strong"
        ],
        [
         "1",
         "1",
         "13.2",
         "1.78",
         "2.14",
         "11.2",
         "100",
         "2.65",
         "2.76",
         "0.26",
         "1.28",
         "4.38",
         "1.05",
         "3.4",
         "1050",
         "Normal",
         "Medium"
        ],
        [
         "2",
         "1",
         "13.16",
         "2.36",
         "2.67",
         "18.6",
         "101",
         "2.8",
         "3.24",
         "0.3",
         "2.81",
         "5.68",
         "1.03",
         "3.17",
         "1185",
         "Normal",
         "Strong"
        ],
        [
         "3",
         "1",
         "14.37",
         "1.95",
         "2.5",
         "16.8",
         "113",
         "3.85",
         "3.49",
         "0.24",
         "2.18",
         "7.8",
         "0.86",
         "3.45",
         "1480",
         "Strong",
         "Medium"
        ],
        [
         "4",
         "1",
         "13.24",
         "2.59",
         "2.87",
         "21.0",
         "118",
         "2.8",
         "2.69",
         "0.39",
         "1.82",
         "4.32",
         "1.04",
         "2.93",
         "735",
         "Normal",
         "Strong"
        ]
       ],
       "shape": {
        "columns": 16,
        "rows": 5
       }
      },
      "text/html": [
       "<div>\n",
       "<style scoped>\n",
       "    .dataframe tbody tr th:only-of-type {\n",
       "        vertical-align: middle;\n",
       "    }\n",
       "\n",
       "    .dataframe tbody tr th {\n",
       "        vertical-align: top;\n",
       "    }\n",
       "\n",
       "    .dataframe thead th {\n",
       "        text-align: right;\n",
       "    }\n",
       "</style>\n",
       "<table border=\"1\" class=\"dataframe\">\n",
       "  <thead>\n",
       "    <tr style=\"text-align: right;\">\n",
       "      <th></th>\n",
       "      <th>Class</th>\n",
       "      <th>Alcohol</th>\n",
       "      <th>Malic acid</th>\n",
       "      <th>Ash</th>\n",
       "      <th>Alcalinity_of_ash</th>\n",
       "      <th>Magnesium</th>\n",
       "      <th>Total_phenols</th>\n",
       "      <th>Flavanoids</th>\n",
       "      <th>Nonflavanoid_phenols</th>\n",
       "      <th>Proanthocyanins</th>\n",
       "      <th>Color_intensity</th>\n",
       "      <th>Hue</th>\n",
       "      <th>OD280_by_OD315</th>\n",
       "      <th>Proline</th>\n",
       "      <th>Wine_Strength</th>\n",
       "      <th>Colour</th>\n",
       "    </tr>\n",
       "  </thead>\n",
       "  <tbody>\n",
       "    <tr>\n",
       "      <th>0</th>\n",
       "      <td>1</td>\n",
       "      <td>14.23</td>\n",
       "      <td>1.71</td>\n",
       "      <td>2.43</td>\n",
       "      <td>15.6</td>\n",
       "      <td>127</td>\n",
       "      <td>2.80</td>\n",
       "      <td>3.06</td>\n",
       "      <td>0.28</td>\n",
       "      <td>2.29</td>\n",
       "      <td>5.64</td>\n",
       "      <td>1.04</td>\n",
       "      <td>3.92</td>\n",
       "      <td>1065</td>\n",
       "      <td>Strong</td>\n",
       "      <td>Strong</td>\n",
       "    </tr>\n",
       "    <tr>\n",
       "      <th>1</th>\n",
       "      <td>1</td>\n",
       "      <td>13.20</td>\n",
       "      <td>1.78</td>\n",
       "      <td>2.14</td>\n",
       "      <td>11.2</td>\n",
       "      <td>100</td>\n",
       "      <td>2.65</td>\n",
       "      <td>2.76</td>\n",
       "      <td>0.26</td>\n",
       "      <td>1.28</td>\n",
       "      <td>4.38</td>\n",
       "      <td>1.05</td>\n",
       "      <td>3.40</td>\n",
       "      <td>1050</td>\n",
       "      <td>Normal</td>\n",
       "      <td>Medium</td>\n",
       "    </tr>\n",
       "    <tr>\n",
       "      <th>2</th>\n",
       "      <td>1</td>\n",
       "      <td>13.16</td>\n",
       "      <td>2.36</td>\n",
       "      <td>2.67</td>\n",
       "      <td>18.6</td>\n",
       "      <td>101</td>\n",
       "      <td>2.80</td>\n",
       "      <td>3.24</td>\n",
       "      <td>0.30</td>\n",
       "      <td>2.81</td>\n",
       "      <td>5.68</td>\n",
       "      <td>1.03</td>\n",
       "      <td>3.17</td>\n",
       "      <td>1185</td>\n",
       "      <td>Normal</td>\n",
       "      <td>Strong</td>\n",
       "    </tr>\n",
       "    <tr>\n",
       "      <th>3</th>\n",
       "      <td>1</td>\n",
       "      <td>14.37</td>\n",
       "      <td>1.95</td>\n",
       "      <td>2.50</td>\n",
       "      <td>16.8</td>\n",
       "      <td>113</td>\n",
       "      <td>3.85</td>\n",
       "      <td>3.49</td>\n",
       "      <td>0.24</td>\n",
       "      <td>2.18</td>\n",
       "      <td>7.80</td>\n",
       "      <td>0.86</td>\n",
       "      <td>3.45</td>\n",
       "      <td>1480</td>\n",
       "      <td>Strong</td>\n",
       "      <td>Medium</td>\n",
       "    </tr>\n",
       "    <tr>\n",
       "      <th>4</th>\n",
       "      <td>1</td>\n",
       "      <td>13.24</td>\n",
       "      <td>2.59</td>\n",
       "      <td>2.87</td>\n",
       "      <td>21.0</td>\n",
       "      <td>118</td>\n",
       "      <td>2.80</td>\n",
       "      <td>2.69</td>\n",
       "      <td>0.39</td>\n",
       "      <td>1.82</td>\n",
       "      <td>4.32</td>\n",
       "      <td>1.04</td>\n",
       "      <td>2.93</td>\n",
       "      <td>735</td>\n",
       "      <td>Normal</td>\n",
       "      <td>Strong</td>\n",
       "    </tr>\n",
       "  </tbody>\n",
       "</table>\n",
       "</div>"
      ],
      "text/plain": [
       "   Class  Alcohol  Malic acid   Ash  Alcalinity_of_ash  Magnesium  \\\n",
       "0      1    14.23        1.71  2.43               15.6        127   \n",
       "1      1    13.20        1.78  2.14               11.2        100   \n",
       "2      1    13.16        2.36  2.67               18.6        101   \n",
       "3      1    14.37        1.95  2.50               16.8        113   \n",
       "4      1    13.24        2.59  2.87               21.0        118   \n",
       "\n",
       "   Total_phenols  Flavanoids  Nonflavanoid_phenols  Proanthocyanins  \\\n",
       "0           2.80        3.06                  0.28             2.29   \n",
       "1           2.65        2.76                  0.26             1.28   \n",
       "2           2.80        3.24                  0.30             2.81   \n",
       "3           3.85        3.49                  0.24             2.18   \n",
       "4           2.80        2.69                  0.39             1.82   \n",
       "\n",
       "   Color_intensity   Hue  OD280_by_OD315  Proline Wine_Strength  Colour  \n",
       "0             5.64  1.04            3.92     1065        Strong  Strong  \n",
       "1             4.38  1.05            3.40     1050        Normal  Medium  \n",
       "2             5.68  1.03            3.17     1185        Normal  Strong  \n",
       "3             7.80  0.86            3.45     1480        Strong  Medium  \n",
       "4             4.32  1.04            2.93      735        Normal  Strong  "
      ]
     },
     "execution_count": 95,
     "metadata": {},
     "output_type": "execute_result"
    }
   ],
   "source": [
    "df.head()"
   ]
  },
  {
   "cell_type": "code",
   "execution_count": 96,
   "metadata": {
    "colab": {
     "base_uri": "https://localhost:8080/"
    },
    "executionInfo": {
     "elapsed": 867,
     "status": "ok",
     "timestamp": 1610690175729,
     "user": {
      "displayName": "Jyoti Gupta",
      "photoUrl": "https://lh3.googleusercontent.com/a-/AOh14Gha7ARiuH9KYsBrRe_sEPEhpI5cXr55TdQBv6x_MA=s64",
      "userId": "16785426337890807929"
     },
     "user_tz": -480
    },
    "id": "AEqQfzF-nDEG",
    "outputId": "300e0fd4-f4e6-464d-9e03-739f0a122aa5"
   },
   "outputs": [
    {
     "name": "stdout",
     "output_type": "stream",
     "text": [
      "1\n",
      "1\n",
      "1\n",
      "1\n",
      "1\n",
      "1\n",
      "1\n",
      "1\n",
      "1\n",
      "1\n",
      "1\n",
      "1\n",
      "1\n",
      "1\n",
      "1\n",
      "1\n",
      "1\n",
      "1\n",
      "1\n",
      "1\n",
      "1\n",
      "1\n",
      "1\n",
      "1\n",
      "1\n",
      "1\n",
      "1\n",
      "1\n",
      "1\n",
      "1\n",
      "1\n",
      "1\n",
      "1\n",
      "1\n",
      "1\n",
      "1\n",
      "1\n",
      "1\n",
      "1\n",
      "1\n",
      "1\n",
      "1\n",
      "1\n",
      "1\n",
      "1\n",
      "1\n",
      "1\n",
      "1\n",
      "1\n",
      "1\n",
      "1\n",
      "1\n",
      "1\n",
      "1\n",
      "1\n",
      "1\n",
      "1\n"
     ]
    },
    {
     "name": "stdout",
     "output_type": "stream",
     "text": [
      "1\n",
      "1\n",
      "2\n",
      "2\n",
      "2\n",
      "2\n",
      "2\n",
      "2\n",
      "2\n",
      "2\n",
      "2\n",
      "2\n",
      "2\n",
      "2\n",
      "2\n",
      "2\n",
      "2\n",
      "2\n",
      "2\n",
      "2\n",
      "2\n",
      "2\n",
      "2\n",
      "2\n",
      "2\n",
      "2\n",
      "2\n",
      "2\n",
      "2\n",
      "2\n",
      "2\n",
      "2\n",
      "2\n",
      "2\n",
      "2\n",
      "2\n",
      "2\n",
      "2\n",
      "2\n",
      "2\n",
      "2\n",
      "2\n",
      "2\n",
      "2\n",
      "2\n",
      "2\n",
      "2\n",
      "2\n",
      "2\n",
      "2\n",
      "2\n",
      "2\n",
      "2\n",
      "2\n",
      "2\n",
      "2\n",
      "2\n",
      "2\n",
      "2\n",
      "2\n",
      "2\n",
      "2\n",
      "2\n",
      "2\n",
      "2\n",
      "2\n",
      "2\n",
      "2\n",
      "2\n",
      "2\n",
      "2\n",
      "2\n",
      "2\n",
      "2\n",
      "2\n",
      "2\n",
      "2\n",
      "2\n",
      "2\n",
      "2\n",
      "2\n",
      "2\n",
      "2\n",
      "2\n",
      "2\n",
      "2\n",
      "2\n",
      "2\n",
      "2\n",
      "2\n",
      "2\n",
      "2\n",
      "2\n",
      "2\n",
      "2\n",
      "2\n",
      "2\n",
      "2\n",
      "2\n",
      "2\n",
      "2\n",
      "2\n",
      "2\n",
      "2\n",
      "2\n",
      "2\n",
      "2\n",
      "2\n",
      "2\n",
      "2\n",
      "2\n",
      "2\n",
      "2\n",
      "2\n",
      "2\n",
      "2\n",
      "2\n",
      "2\n",
      "2\n",
      "2\n",
      "2\n"
     ]
    },
    {
     "data": {
      "text/plain": [
       "0      None\n",
       "1      None\n",
       "2      None\n",
       "3      None\n",
       "4      None\n",
       "       ... \n",
       "173    None\n",
       "174    None\n",
       "175    None\n",
       "176    None\n",
       "177    None\n",
       "Length: 178, dtype: object"
      ]
     },
     "execution_count": 96,
     "metadata": {},
     "output_type": "execute_result"
    }
   ],
   "source": [
    "df.apply(lambda x: print(x[\"Class\"]), axis=1)"
   ]
  }
 ],
 "metadata": {
  "colab": {
   "name": "Inclass-01-pandas.ipynb",
   "provenance": []
  },
  "kernelspec": {
   "display_name": "base",
   "language": "python",
   "name": "python3"
  },
  "language_info": {
   "codemirror_mode": {
    "name": "ipython",
    "version": 3
   },
   "file_extension": ".py",
   "mimetype": "text/x-python",
   "name": "python",
   "nbconvert_exporter": "python",
   "pygments_lexer": "ipython3",
   "version": "3.9.12"
  }
 },
 "nbformat": 4,
 "nbformat_minor": 4
}
