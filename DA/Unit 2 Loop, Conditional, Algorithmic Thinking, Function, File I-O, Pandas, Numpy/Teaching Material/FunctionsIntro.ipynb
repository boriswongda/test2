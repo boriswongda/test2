{
 "cells": [
  {
   "cell_type": "markdown",
   "metadata": {
    "id": "JxRRJjP7osDU"
   },
   "source": [
    "# Functions\n",
    "\n",
    "The learning objectives are:\n",
    "* User Defined Functions"
   ]
  },
  {
   "cell_type": "markdown",
   "metadata": {
    "id": "X50OIlC3osDX"
   },
   "source": [
    "### User Defined Functions\n",
    "\n",
    "In Python along with built-in functions, a coder can make their own functions. These are called user-defined functions. User-defined functions are a unique block of code that is only executed when called to perform a specific task. User-defined functions are helpful to a program because they are reusable and helps with organization as it helps break the program down to smaller sections for debugging. It also makes the program modular, meaning that it can be used in other programs.\n",
    "\n",
    "The general syntax for a function:\n",
    "\n",
    "```python \n",
    "\n",
    "def function_name(argument_1, argument_2,...): # arguments are optional, arguments can also have default values\n",
    "    \"\"\"\n",
    "    Docstring - this section explains your function (optional)\n",
    "    \"\"\"\n",
    "    # operation with arguments, the code inside a function is by default a Tab or 4 whitespace indention\n",
    "    object = argument_1 + argument_2\n",
    "    # return object\n",
    "    return object\n",
    "\n",
    "# Use function_name to call the function.\n",
    "function_name(argument_1, argument_2)\n",
    "```\n",
    "\n",
    "Rules for functions:\n",
    "\n",
    "* __Defining the function__\n",
    "  * Use the `def` keyword\n",
    "  * Function name should be unique.\n",
    "  * Arguments are optional, but add more information and clarity what the function purpose is. Argument order matters.\n",
    "    * The arguments basically become a variable within the body of the function.\n",
    "  * Use `return` keyword to return some value.\n",
    "\n",
    "* __Using the function__\n",
    "  * To use or *call* your function you use the function name followed by parentheses.\n",
    "  * Inside the parenthese pass the arguments.\n"
   ]
  },
  {
   "cell_type": "code",
   "execution_count": 1,
   "metadata": {
    "colab": {
     "base_uri": "https://localhost:8080/",
     "height": 34
    },
    "executionInfo": {
     "elapsed": 982,
     "status": "ok",
     "timestamp": 1597889803059,
     "user": {
      "displayName": "Jyoti Gupta",
      "photoUrl": "https://lh3.googleusercontent.com/a-/AOh14GiiNJjvR9tF59w1uPEYntIqSPquaCKBU8Oi3FWv=s64",
      "userId": "16785426337890807929"
     },
     "user_tz": -480
    },
    "id": "1pwSRDsuosDY",
    "outputId": "7b74f9f9-18f4-42be-d101-1349e990d823"
   },
   "outputs": [
    {
     "name": "stdout",
     "output_type": "stream",
     "text": [
      "5\n"
     ]
    }
   ],
   "source": [
    "def add_one(x):\n",
    "    \"\"\"\n",
    "    This functions adds 1 to a number\n",
    "    \"\"\"\n",
    "    return x + 1 # None\n",
    "\n",
    "new_var = add_one(3)\n",
    "new_var = add_one(new_var)\n",
    "print(new_var)"
   ]
  },
  {
   "cell_type": "code",
   "execution_count": 3,
   "metadata": {
    "id": "yrV5318qosDc",
    "outputId": "6260efc1-9c6d-4e24-9455-e9525433e67d"
   },
   "outputs": [
    {
     "name": "stdout",
     "output_type": "stream",
     "text": [
      "Hello, World!\n"
     ]
    }
   ],
   "source": [
    "# function with no arguemnts\n",
    "def hello_world():\n",
    "    print('Hello, World!')\n",
    "    \n",
    "hello_world() # if pass arguments will always print Hello, World!"
   ]
  },
  {
   "cell_type": "code",
   "execution_count": 6,
   "metadata": {
    "colab": {
     "base_uri": "https://localhost:8080/",
     "height": 68
    },
    "executionInfo": {
     "elapsed": 1205,
     "status": "ok",
     "timestamp": 1597890016970,
     "user": {
      "displayName": "Jyoti Gupta",
      "photoUrl": "https://lh3.googleusercontent.com/a-/AOh14GiiNJjvR9tF59w1uPEYntIqSPquaCKBU8Oi3FWv=s64",
      "userId": "16785426337890807929"
     },
     "user_tz": -480
    },
    "id": "rcY9P2rwosDf",
    "outputId": "325cf456-073a-467a-9e48-2a94ebc06598"
   },
   "outputs": [
    {
     "name": "stdout",
     "output_type": "stream",
     "text": [
      "No arguments passed in returns: -3\n",
      "One argument passed in returns: -9\n",
      "Two argument passed in returns: 5\n"
     ]
    }
   ],
   "source": [
    "# function with default arguments \n",
    "def add_number(x = 1, y = -4):\n",
    "    z = x + y\n",
    "    return z\n",
    "\n",
    "print('No arguments passed in returns:',add_number()) # no arguments passed\n",
    "print('One argument passed in returns:', add_number(-5)) # one argument passed overwrites default x \n",
    "print('Two argument passed in returns:', add_number(2, 3)) # two arguments passed overwrites default x and y"
   ]
  },
  {
   "cell_type": "code",
   "execution_count": 9,
   "metadata": {
    "colab": {
     "base_uri": "https://localhost:8080/",
     "height": 34
    },
    "executionInfo": {
     "elapsed": 1145,
     "status": "ok",
     "timestamp": 1597890237074,
     "user": {
      "displayName": "Jyoti Gupta",
      "photoUrl": "https://lh3.googleusercontent.com/a-/AOh14GiiNJjvR9tF59w1uPEYntIqSPquaCKBU8Oi3FWv=s64",
      "userId": "16785426337890807929"
     },
     "user_tz": -480
    },
    "id": "_NIB_BndosDi",
    "outputId": "e55770a3-3ea2-415a-9496-b0dadcbfda1e"
   },
   "outputs": [
    {
     "data": {
      "text/plain": [
       "77"
      ]
     },
     "execution_count": 9,
     "metadata": {},
     "output_type": "execute_result"
    }
   ],
   "source": [
    "l = [23, 34,55, 66,34,6,77,2,55,22,57,2]\n",
    "\n",
    "def my_max(num_list):\n",
    "    \"\"\"\n",
    "    This returns the max value in a list\n",
    "    \"\"\"\n",
    "    biggest = num_list[0]\n",
    "    for num in num_list:\n",
    "        if num > biggest:\n",
    "            biggest = num\n",
    "            \n",
    "    return biggest\n",
    "\n",
    "my_max(l)    "
   ]
  },
  {
   "cell_type": "markdown",
   "metadata": {
    "id": "HzJDkrcvosDk"
   },
   "source": [
    "### Positional Arguments\n",
    "\n",
    "The order for passing arguments to a function matters."
   ]
  },
  {
   "cell_type": "code",
   "execution_count": 13,
   "metadata": {
    "id": "RedpcDd1osDl"
   },
   "outputs": [],
   "source": [
    "def power(x,a):\n",
    "    return x**a"
   ]
  },
  {
   "cell_type": "code",
   "execution_count": 14,
   "metadata": {
    "id": "ZYgHbbFKosDn",
    "outputId": "88bb4e27-051b-46ec-bdda-f96a929e0b7c"
   },
   "outputs": [
    {
     "data": {
      "text/plain": [
       "4096"
      ]
     },
     "execution_count": 14,
     "metadata": {},
     "output_type": "execute_result"
    }
   ],
   "source": [
    "power(4,6)"
   ]
  },
  {
   "cell_type": "code",
   "execution_count": 15,
   "metadata": {
    "id": "GFjO66pDosDp",
    "outputId": "b2d16cb0-7d00-4d78-98da-4208a6be388f"
   },
   "outputs": [
    {
     "data": {
      "text/plain": [
       "1296"
      ]
     },
     "execution_count": 15,
     "metadata": {},
     "output_type": "execute_result"
    }
   ],
   "source": [
    "power(6,4)"
   ]
  },
  {
   "cell_type": "markdown",
   "metadata": {
    "id": "aECmdS6sosDr"
   },
   "source": [
    "Alternatively, directly pass the values to the arguments, then the order won't matter."
   ]
  },
  {
   "cell_type": "code",
   "execution_count": 16,
   "metadata": {
    "id": "BPEPnEy4osDs",
    "outputId": "b1996c91-1709-43df-ea66-350d3819f222"
   },
   "outputs": [
    {
     "data": {
      "text/plain": [
       "1296"
      ]
     },
     "execution_count": 16,
     "metadata": {},
     "output_type": "execute_result"
    }
   ],
   "source": [
    "power(x = 6,a = 4)"
   ]
  },
  {
   "cell_type": "code",
   "execution_count": 17,
   "metadata": {
    "id": "xuAQTY-rosDu",
    "outputId": "dc910ab7-8d0e-473c-e52c-3ade0db7732e"
   },
   "outputs": [
    {
     "data": {
      "text/plain": [
       "1296"
      ]
     },
     "execution_count": 17,
     "metadata": {},
     "output_type": "execute_result"
    }
   ],
   "source": [
    "power(a = 4, x = 6)"
   ]
  },
  {
   "cell_type": "markdown",
   "metadata": {
    "id": "NFCuWUS2osD0"
   },
   "source": [
    "### Default Arguments\n",
    "\n",
    "Functions can have default arguments so it is not necessary to pass every argument."
   ]
  },
  {
   "cell_type": "code",
   "execution_count": 18,
   "metadata": {
    "id": "TAEPuPaXosD0"
   },
   "outputs": [],
   "source": [
    "def hello(name=\"Don\"):\n",
    "    print('Hello, ' + name)"
   ]
  },
  {
   "cell_type": "code",
   "execution_count": 19,
   "metadata": {
    "id": "e29seWtWosD2",
    "outputId": "e0c3d4f0-7167-4b71-9815-af636f59584b"
   },
   "outputs": [
    {
     "name": "stdout",
     "output_type": "stream",
     "text": [
      "Hello, Don\n"
     ]
    }
   ],
   "source": [
    "hello()"
   ]
  },
  {
   "cell_type": "code",
   "execution_count": 20,
   "metadata": {
    "id": "sXuzL7hWosD4",
    "outputId": "9b5f30c3-0f25-4c4d-aeee-52e8735a6113"
   },
   "outputs": [
    {
     "name": "stdout",
     "output_type": "stream",
     "text": [
      "Hello, All\n"
     ]
    }
   ],
   "source": [
    "hello('All')"
   ]
  },
  {
   "cell_type": "code",
   "execution_count": 21,
   "metadata": {
    "id": "m0go_AoyosD7",
    "outputId": "17328a2b-752b-4bba-9449-fba19bf2ee89"
   },
   "outputs": [
    {
     "name": "stdout",
     "output_type": "stream",
     "text": [
      "Hello, Bob\n"
     ]
    }
   ],
   "source": [
    "hello(name=\"Bob\")"
   ]
  },
  {
   "cell_type": "code",
   "execution_count": 22,
   "metadata": {
    "id": "yOZIUzVBosD9",
    "outputId": "1e7ae34e-a354-4a22-853a-46a077f48b0b"
   },
   "outputs": [
    {
     "name": "stdout",
     "output_type": "stream",
     "text": [
      "No arguments passed in returns: -3\n",
      "One argument passed in returns: -9\n",
      "Two argument passed in returns: 5\n"
     ]
    }
   ],
   "source": [
    "# function with default arguments \n",
    "def add_number(x = 1, y = -4):\n",
    "    z = x + y\n",
    "    return z\n",
    "\n",
    "print('No arguments passed in returns:', add_number()) # no arguments passed\n",
    "print('One argument passed in returns:', add_number(-5)) # one argument passed overwrites default x \n",
    "print('Two argument passed in returns:', add_number(2, 3)) # two arguments passed overwrites default x and y"
   ]
  },
  {
   "cell_type": "markdown",
   "metadata": {
    "id": "BInCKeyqosD_"
   },
   "source": [
    "With default arguments, we can use a dictionary to pass the values into the function. Use the double asterisk (`**`) to unpack the arguments.\n"
   ]
  },
  {
   "cell_type": "code",
   "execution_count": 23,
   "metadata": {
    "executionInfo": {
     "elapsed": 5,
     "status": "ok",
     "timestamp": 1625289137559,
     "user": {
      "displayName": "Oillio Chung",
      "photoUrl": "",
      "userId": "13540196207991611513"
     },
     "user_tz": -480
    },
    "id": "HjjCZeGsosEA"
   },
   "outputs": [],
   "source": [
    "def describe_person(first_name=None,last_name=None):\n",
    "    \n",
    "    print(\"First name: {}\\nLast name: {}\".format(first_name,last_name))"
   ]
  },
  {
   "cell_type": "code",
   "execution_count": 27,
   "metadata": {
    "id": "up-PuQFuosEC"
   },
   "outputs": [],
   "source": [
    "d = {'first_name': 'Dom' , 'last_name': 'Morgan'}"
   ]
  },
  {
   "cell_type": "code",
   "execution_count": 28,
   "metadata": {
    "id": "BGJWDzkXosEE",
    "outputId": "3dca1d67-30d1-4d01-b277-f0c551738f7f"
   },
   "outputs": [
    {
     "name": "stdout",
     "output_type": "stream",
     "text": [
      "First name: Dom\n",
      "Last name: Morgan\n"
     ]
    }
   ],
   "source": [
    "describe_person(**d)"
   ]
  },
  {
   "cell_type": "markdown",
   "metadata": {
    "id": "M1AXyKMaosEI"
   },
   "source": [
    "The keys in the dictionary need to be the same name as the arguments for the function."
   ]
  },
  {
   "cell_type": "code",
   "execution_count": 29,
   "metadata": {
    "id": "XHvHtYwuosEJ",
    "outputId": "ab8f69aa-7f24-4311-9788-7147d6daf308"
   },
   "outputs": [
    {
     "ename": "TypeError",
     "evalue": "describe_person() got an unexpected keyword argument 'first'",
     "output_type": "error",
     "traceback": [
      "\u001b[0;31m---------------------------------------------------------------------------\u001b[0m",
      "\u001b[0;31mTypeError\u001b[0m                                 Traceback (most recent call last)",
      "Input \u001b[0;32mIn [29]\u001b[0m, in \u001b[0;36m<cell line: 2>\u001b[0;34m()\u001b[0m\n\u001b[1;32m      1\u001b[0m d \u001b[38;5;241m=\u001b[39m {\u001b[38;5;124m'\u001b[39m\u001b[38;5;124mfirst\u001b[39m\u001b[38;5;124m'\u001b[39m: \u001b[38;5;124m'\u001b[39m\u001b[38;5;124mDom\u001b[39m\u001b[38;5;124m'\u001b[39m , \u001b[38;5;124m'\u001b[39m\u001b[38;5;124mlast\u001b[39m\u001b[38;5;124m'\u001b[39m: \u001b[38;5;124m'\u001b[39m\u001b[38;5;124mMorgan\u001b[39m\u001b[38;5;124m'\u001b[39m}\n\u001b[0;32m----> 2\u001b[0m \u001b[43mdescribe_person\u001b[49m\u001b[43m(\u001b[49m\u001b[38;5;241;43m*\u001b[39;49m\u001b[38;5;241;43m*\u001b[39;49m\u001b[43md\u001b[49m\u001b[43m)\u001b[49m\n",
      "\u001b[0;31mTypeError\u001b[0m: describe_person() got an unexpected keyword argument 'first'"
     ]
    }
   ],
   "source": [
    "d = {'first': 'Dom' , 'last': 'Morgan'}\n",
    "describe_person(**d) ## will error"
   ]
  },
  {
   "cell_type": "markdown",
   "metadata": {
    "id": "OvEL8eSoosEL"
   },
   "source": [
    "### Variable number of arguments\n",
    "Can pass any number of arguments to a function by using `*` in front of single argument."
   ]
  },
  {
   "cell_type": "code",
   "execution_count": 36,
   "metadata": {
    "colab": {
     "base_uri": "https://localhost:8080/",
     "height": 51
    },
    "executionInfo": {
     "elapsed": 1026,
     "status": "ok",
     "timestamp": 1597891264590,
     "user": {
      "displayName": "Jyoti Gupta",
      "photoUrl": "https://lh3.googleusercontent.com/a-/AOh14GiiNJjvR9tF59w1uPEYntIqSPquaCKBU8Oi3FWv=s64",
      "userId": "16785426337890807929"
     },
     "user_tz": -480
    },
    "id": "D8yFBJjmosEM",
    "outputId": "a3cdf26d-dd0e-4447-81f8-688710e38785"
   },
   "outputs": [
    {
     "name": "stdout",
     "output_type": "stream",
     "text": [
      "(5, 6)\n"
     ]
    },
    {
     "data": {
      "text/plain": [
       "11"
      ]
     },
     "execution_count": 36,
     "metadata": {},
     "output_type": "execute_result"
    }
   ],
   "source": [
    "def adder(*x):\n",
    "    print(x)\n",
    "    total = 0\n",
    "    for num in x:\n",
    "        total += num\n",
    "    return total\n",
    "adder(5,6)"
   ]
  },
  {
   "cell_type": "code",
   "execution_count": 37,
   "metadata": {
    "id": "Pxe-Jok-osEN",
    "outputId": "5b631065-2037-4b95-fee0-8e71eead238f"
   },
   "outputs": [
    {
     "name": "stdout",
     "output_type": "stream",
     "text": [
      "(1, 2, 3, 4, 5)\n"
     ]
    },
    {
     "data": {
      "text/plain": [
       "15"
      ]
     },
     "execution_count": 37,
     "metadata": {},
     "output_type": "execute_result"
    }
   ],
   "source": [
    "l = [1,2,3,4,5]\n",
    "adder(*l)"
   ]
  },
  {
   "cell_type": "code",
   "execution_count": 38,
   "metadata": {
    "id": "vxQzZe7posEO",
    "outputId": "0f9e7f25-9849-4775-ee64-c151b3ae1e1d"
   },
   "outputs": [
    {
     "name": "stdout",
     "output_type": "stream",
     "text": [
      "(4, 6)\n"
     ]
    },
    {
     "data": {
      "text/plain": [
       "10"
      ]
     },
     "execution_count": 38,
     "metadata": {},
     "output_type": "execute_result"
    }
   ],
   "source": [
    "adder(4,6)"
   ]
  },
  {
   "cell_type": "code",
   "execution_count": 39,
   "metadata": {
    "id": "HXIzGsLgosEQ",
    "outputId": "40639999-b444-43bd-8138-b9490ed8e5c2"
   },
   "outputs": [
    {
     "name": "stdout",
     "output_type": "stream",
     "text": [
      "(4, 7, 8, 88, 4, 4, 3, 4)\n"
     ]
    },
    {
     "data": {
      "text/plain": [
       "122"
      ]
     },
     "execution_count": 39,
     "metadata": {},
     "output_type": "execute_result"
    }
   ],
   "source": [
    "adder(4,7,8,88,4,4,3,4)"
   ]
  },
  {
   "cell_type": "markdown",
   "metadata": {
    "id": "KX36MKSSXgyr"
   },
   "source": [
    "### Python Random Module \n",
    "Python has a built-in module `random` that you can use to generate random numbers.\n",
    "\n",
    "Some common methods in the `random` module:\n",
    "\n",
    "`seed()` - Initialize the random number generator\n",
    "\n",
    "`randint(a,b)` - Returns a random integer between a and b (inclusive)\n",
    "\n",
    "`random()` - Return the next random floating point number in the range [0.0, 1.0)\n",
    "\n",
    "`choice(seq)` - Return a random element from the non-empty sequence\n",
    "\n",
    "The `random` module has other methods. You can read more in [Python documentation](https://docs.python.org/3/library/random.html)\n"
   ]
  },
  {
   "cell_type": "markdown",
   "metadata": {
    "id": "vOrnj144ax8t"
   },
   "source": [
    "These are pseudo-random number the meaning  sequence of number generated depends on the seed.\n",
    "\n",
    "If the seeding value is same, the sequence will be the same\n",
    "\n"
   ]
  },
  {
   "cell_type": "code",
   "execution_count": null,
   "metadata": {
    "colab": {
     "base_uri": "https://localhost:8080/",
     "height": 68
    },
    "executionInfo": {
     "elapsed": 944,
     "status": "ok",
     "timestamp": 1596107820791,
     "user": {
      "displayName": "KING CHAK HO",
      "photoUrl": "",
      "userId": "01684497642639073245"
     },
     "user_tz": -480
    },
    "id": "yo5FOjp5bvIY",
    "outputId": "24ecaf87-aa87-4444-8677-88ac81d5ab6e"
   },
   "outputs": [
    {
     "name": "stdout",
     "output_type": "stream",
     "text": [
      "0.027444857090819008\n",
      "0.4648938620973121\n",
      "0.3184651278536774\n"
     ]
    }
   ],
   "source": [
    "# if you use 2 as the seeding value,\n",
    "# you will always see the following sequence.\n",
    "\n",
    "import random # import the module\n",
    "random.seed(2) # set seed as 2\n",
    "\n",
    "print(random.random()) # return random float N: 0.0 <= N < 1.0\n",
    "print(random.random())\n",
    "print(random.random())"
   ]
  },
  {
   "cell_type": "code",
   "execution_count": 64,
   "metadata": {
    "colab": {
     "base_uri": "https://localhost:8080/",
     "height": 68
    },
    "executionInfo": {
     "elapsed": 966,
     "status": "ok",
     "timestamp": 1596107939386,
     "user": {
      "displayName": "KING CHAK HO",
      "photoUrl": "",
      "userId": "01684497642639073245"
     },
     "user_tz": -480
    },
    "id": "hQxGIYJAcSR2",
    "outputId": "bee3bf66-d50a-4088-8862-505478c6e4e9"
   },
   "outputs": [
    {
     "name": "stdout",
     "output_type": "stream",
     "text": [
      "0.0321672523690093\n",
      "0.9611213113531523\n",
      "0.9385372891878151\n"
     ]
    }
   ],
   "source": [
    "# if you didnt set the seed value, \n",
    "# you will get different sequence everytime\n",
    "import random # import the module\n",
    "random.seed() # didn't set seed\n",
    "\n",
    "print(random.random())\n",
    "print(random.random())\n",
    "print(random.random())"
   ]
  },
  {
   "cell_type": "code",
   "execution_count": 72,
   "metadata": {
    "colab": {
     "base_uri": "https://localhost:8080/",
     "height": 68
    },
    "executionInfo": {
     "elapsed": 913,
     "status": "ok",
     "timestamp": 1596108270070,
     "user": {
      "displayName": "KING CHAK HO",
      "photoUrl": "",
      "userId": "01684497642639073245"
     },
     "user_tz": -480
    },
    "id": "OwY1wbh9dwb8",
    "outputId": "d8a23b7b-1c74-4007-b264-39cdddcbfd41"
   },
   "outputs": [
    {
     "name": "stdout",
     "output_type": "stream",
     "text": [
      "5\n",
      "8\n",
      "4\n"
     ]
    }
   ],
   "source": [
    "# randint()\n",
    "random.seed()\n",
    "\n",
    "print(random.randint(0,9)) # return integer N: 0 <= N <= 9\n",
    "print(random.randint(0,9))\n",
    "print(random.randint(0,9))"
   ]
  },
  {
   "cell_type": "code",
   "execution_count": 78,
   "metadata": {
    "colab": {
     "base_uri": "https://localhost:8080/",
     "height": 34
    },
    "executionInfo": {
     "elapsed": 728,
     "status": "ok",
     "timestamp": 1596169422035,
     "user": {
      "displayName": "KING CHAK HO",
      "photoUrl": "",
      "userId": "01684497642639073245"
     },
     "user_tz": -480
    },
    "id": "FFHwHf3cfEBy",
    "outputId": "b810b6be-a911-4c77-dd76-13823f028d5f"
   },
   "outputs": [
    {
     "name": "stdout",
     "output_type": "stream",
     "text": [
      "random item from list is:  333\n"
     ]
    }
   ],
   "source": [
    "# choice()\n",
    "# random.choice() function returns a random element from the non-empty sequence\n",
    "import random\n",
    "\n",
    "random.seed(54)\n",
    "numberList = [111,222,333,444,55,66,77,88]\n",
    "\n",
    "print(\"random item from list is: \", random.choice(numberList))"
   ]
  },
  {
   "cell_type": "code",
   "execution_count": 38,
   "metadata": {
    "id": "4YGKYS2RG_nC",
    "outputId": "404549a7-b1ca-4655-fbac-2108f84a22a3"
   },
   "outputs": [
    {
     "name": "stdout",
     "output_type": "stream",
     "text": [
      "guess is less than secret number, guess again\n",
      "you guessed correctly, the secret number is 15\n"
     ]
    }
   ],
   "source": [
    "# while statement - guessing game\n",
    "import random # import random module \n",
    "\n",
    "guess = 0\n",
    "secret = random.randint(1,20) # generates a random integer from 1 to 20\n",
    "while guess != secret:\n",
    "    g = int(input('guess a number from 1 to 20'))\n",
    "    guess = g\n",
    "    if guess == secret:\n",
    "        print('you guessed correctly, the secret number is {}'.format(secret))\n",
    "    \n",
    "    elif guess > secret:\n",
    "        print('guess is bigger than secret number, guess again')\n",
    "        \n",
    "    else:\n",
    "        print('guess is less than secret number, guess again')\n",
    "        "
   ]
  },
  {
   "cell_type": "markdown",
   "metadata": {
    "id": "q8vteQWx96LZ"
   },
   "source": [
    "### Scope"
   ]
  },
  {
   "cell_type": "code",
   "execution_count": 79,
   "metadata": {
    "colab": {
     "base_uri": "https://localhost:8080/",
     "height": 215
    },
    "executionInfo": {
     "elapsed": 1116,
     "status": "error",
     "timestamp": 1597891744216,
     "user": {
      "displayName": "Jyoti Gupta",
      "photoUrl": "https://lh3.googleusercontent.com/a-/AOh14GiiNJjvR9tF59w1uPEYntIqSPquaCKBU8Oi3FWv=s64",
      "userId": "16785426337890807929"
     },
     "user_tz": -480
    },
    "id": "PKZX1mX5xOTB",
    "outputId": "3ad79d6a-e7a0-47ec-bdf3-e68db7c62efa"
   },
   "outputs": [
    {
     "name": "stdout",
     "output_type": "stream",
     "text": [
      "300\n"
     ]
    },
    {
     "ename": "NameError",
     "evalue": "name 'x' is not defined",
     "output_type": "error",
     "traceback": [
      "\u001b[0;31m---------------------------------------------------------------------------\u001b[0m",
      "\u001b[0;31mNameError\u001b[0m                                 Traceback (most recent call last)",
      "Input \u001b[0;32mIn [79]\u001b[0m, in \u001b[0;36m<cell line: 6>\u001b[0;34m()\u001b[0m\n\u001b[1;32m      3\u001b[0m     \u001b[38;5;28mprint\u001b[39m(x)\n\u001b[1;32m      5\u001b[0m myfunc()\n\u001b[0;32m----> 6\u001b[0m \u001b[38;5;28mprint\u001b[39m(\u001b[43mx\u001b[49m)\n",
      "\u001b[0;31mNameError\u001b[0m: name 'x' is not defined"
     ]
    }
   ],
   "source": [
    "def myfunc():\n",
    "    x = 300 #local scope\n",
    "    print(x)\n",
    "\n",
    "myfunc()\n",
    "print(x)"
   ]
  },
  {
   "cell_type": "code",
   "execution_count": 80,
   "metadata": {
    "colab": {
     "base_uri": "https://localhost:8080/"
    },
    "executionInfo": {
     "elapsed": 439,
     "status": "ok",
     "timestamp": 1625289316023,
     "user": {
      "displayName": "Oillio Chung",
      "photoUrl": "",
      "userId": "13540196207991611513"
     },
     "user_tz": -480
    },
    "id": "mANuo_i7xZ8l",
    "outputId": "bb48d6fb-670f-45c5-ca9c-4040b3730f4f"
   },
   "outputs": [
    {
     "name": "stdout",
     "output_type": "stream",
     "text": [
      "300\n",
      "500\n"
     ]
    }
   ],
   "source": [
    "x = 500 #global scope\n",
    "def func():\n",
    "    x = 300 #local scope\n",
    "    print(x)\n",
    "\n",
    "func()\n",
    "print(x)"
   ]
  },
  {
   "cell_type": "code",
   "execution_count": 81,
   "metadata": {
    "id": "WtcVukW1xmdO"
   },
   "outputs": [
    {
     "name": "stdout",
     "output_type": "stream",
     "text": [
      "500\n",
      "500\n"
     ]
    }
   ],
   "source": [
    "# not a good programming practice\n",
    "x = 500 # global scope\n",
    "def func():\n",
    "    print(x)\n",
    "\n",
    "func()\n",
    "print(x)"
   ]
  },
  {
   "cell_type": "code",
   "execution_count": 82,
   "metadata": {
    "id": "mQFmzNKvx84A",
    "scrolled": true
   },
   "outputs": [
    {
     "name": "stdout",
     "output_type": "stream",
     "text": [
      "501\n",
      "501\n"
     ]
    }
   ],
   "source": [
    "# good programming practice\n",
    "x = 500 # global scope\n",
    "def func(y):\n",
    "    y += 1\n",
    "    print(y)\n",
    "    return y\n",
    "\n",
    "x = func(x)\n",
    "print(x)"
   ]
  },
  {
   "cell_type": "markdown",
   "metadata": {
    "id": "ef0B59TavW-x"
   },
   "source": [
    "#### Exercise \n",
    "Write a function that calculates the area of a circle."
   ]
  },
  {
   "cell_type": "code",
   "execution_count": 25,
   "metadata": {
    "id": "kOcOYiohyfgr"
   },
   "outputs": [
    {
     "name": "stdout",
     "output_type": "stream",
     "text": [
      "201.06192982974676\n"
     ]
    }
   ],
   "source": []
  }
 ],
 "metadata": {
  "colab": {
   "collapsed_sections": [],
   "name": "Functions.ipynb",
   "provenance": []
  },
  "kernelspec": {
   "display_name": "base",
   "language": "python",
   "name": "python3"
  },
  "language_info": {
   "codemirror_mode": {
    "name": "ipython",
    "version": 3
   },
   "file_extension": ".py",
   "mimetype": "text/x-python",
   "name": "python",
   "nbconvert_exporter": "python",
   "pygments_lexer": "ipython3",
   "version": "3.9.12"
  },
  "toc": {
   "base_numbering": 1,
   "nav_menu": {},
   "number_sections": true,
   "sideBar": true,
   "skip_h1_title": false,
   "title_cell": "Table of Contents",
   "title_sidebar": "Contents",
   "toc_cell": false,
   "toc_position": {},
   "toc_section_display": true,
   "toc_window_display": false
  },
  "varInspector": {
   "cols": {
    "lenName": 16,
    "lenType": 16,
    "lenVar": 40
   },
   "kernels_config": {
    "python": {
     "delete_cmd_postfix": "",
     "delete_cmd_prefix": "del ",
     "library": "var_list.py",
     "varRefreshCmd": "print(var_dic_list())"
    },
    "r": {
     "delete_cmd_postfix": ") ",
     "delete_cmd_prefix": "rm(",
     "library": "var_list.r",
     "varRefreshCmd": "cat(var_dic_list()) "
    }
   },
   "types_to_exclude": [
    "module",
    "function",
    "builtin_function_or_method",
    "instance",
    "_Feature"
   ],
   "window_display": false
  }
 },
 "nbformat": 4,
 "nbformat_minor": 1
}
