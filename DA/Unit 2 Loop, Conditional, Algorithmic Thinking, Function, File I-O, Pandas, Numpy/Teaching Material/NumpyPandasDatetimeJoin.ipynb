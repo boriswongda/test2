{
 "cells": [
  {
   "cell_type": "markdown",
   "metadata": {
    "id": "3Ht3CVbS0T_T"
   },
   "source": [
    "# Numpy\n",
    "Numpy is a library for work with multidimensional arrays and it provides many useful functions for statistics and linear algebra calculations. It forms the foundation for many packages such as pandas, and is used through out the python ecosystem with keras to scikit-learn. The underlying code is implemented in C so it's much faster and memory-efficent than pure python."
   ]
  },
  {
   "cell_type": "code",
   "execution_count": 2,
   "metadata": {
    "id": "Tz-DuuoR0T_T"
   },
   "outputs": [],
   "source": [
    "import numpy as np\n",
    "import pandas as pd"
   ]
  },
  {
   "cell_type": "code",
   "execution_count": 4,
   "metadata": {
    "id": "_h2rYK6s0T_T"
   },
   "outputs": [
    {
     "data": {
      "text/plain": [
       "array([[1, 2, 3],\n",
       "       [3, 2, 1]])"
      ]
     },
     "execution_count": 4,
     "metadata": {},
     "output_type": "execute_result"
    }
   ],
   "source": [
    "# create a 2 by 3 array\n",
    "a = np.array([  [1,2, 3],\n",
    "                [3,2,1]     ])\n",
    "a"
   ]
  },
  {
   "cell_type": "code",
   "execution_count": 5,
   "metadata": {},
   "outputs": [
    {
     "data": {
      "text/plain": [
       "(2, 3)"
      ]
     },
     "execution_count": 5,
     "metadata": {},
     "output_type": "execute_result"
    }
   ],
   "source": [
    "a.shape"
   ]
  },
  {
   "cell_type": "code",
   "execution_count": 10,
   "metadata": {
    "id": "BF2Lx9Qy0T_U"
   },
   "outputs": [
    {
     "data": {
      "text/plain": [
       "array([[3, 4, 5],\n",
       "       [5, 4, 3]])"
      ]
     },
     "execution_count": 10,
     "metadata": {},
     "output_type": "execute_result"
    }
   ],
   "source": [
    "b = a+2\n",
    "b\n"
   ]
  },
  {
   "cell_type": "code",
   "execution_count": 11,
   "metadata": {
    "id": "2FyQED7x0T_V"
   },
   "outputs": [
    {
     "data": {
      "text/plain": [
       "array([[4, 6, 8],\n",
       "       [8, 6, 4]])"
      ]
     },
     "execution_count": 11,
     "metadata": {},
     "output_type": "execute_result"
    }
   ],
   "source": [
    "c = a+b\n",
    "c"
   ]
  },
  {
   "cell_type": "code",
   "execution_count": 9,
   "metadata": {
    "id": "BXy_w3zCKo_-"
   },
   "outputs": [
    {
     "data": {
      "text/plain": [
       "array([[ 3,  8, 15],\n",
       "       [15,  8,  3]])"
      ]
     },
     "execution_count": 9,
     "metadata": {},
     "output_type": "execute_result"
    }
   ],
   "source": [
    "d = a*b\n",
    "d"
   ]
  },
  {
   "cell_type": "code",
   "execution_count": null,
   "metadata": {},
   "outputs": [
    {
     "name": "stdout",
     "output_type": "stream",
     "text": [
      "Matrix A (3x2):\n",
      "[[1 2]\n",
      " [3 4]\n",
      " [5 6]]\n",
      "\n",
      "Matrix B (2x3):\n",
      "[[ 7  8  9]\n",
      " [10 11 12]]\n",
      "\n",
      "Result of A dot B (3x3):\n",
      "[[ 27  30  33]\n",
      " [ 61  68  75]\n",
      " [ 95 106 117]]\n"
     ]
    }
   ],
   "source": [
    "import numpy as np\n",
    "\n",
    "# Define a 3x2 matrix\n",
    "A = np.array([[1, 2],\n",
    "              [3, 4],\n",
    "              [5, 6]])\n",
    "\n",
    "# Define a 2x3 matrix\n",
    "B = np.array([[7, 8, 9],\n",
    "              [10, 11, 12]])\n",
    "\n",
    "# Compute the matrix product\n",
    "result = np.dot(A, B)\n",
    "\n",
    "print(\"Matrix A (3x2):\")\n",
    "print(A)\n",
    "print(\"\\nMatrix B (2x3):\")\n",
    "print(B)\n",
    "print(\"\\nResult of A dot B (3x3):\")\n",
    "print(result)"
   ]
  },
  {
   "cell_type": "code",
   "execution_count": 14,
   "metadata": {
    "id": "cgUuTneFKo__"
   },
   "outputs": [
    {
     "data": {
      "text/plain": [
       "array([[1, 2, 3],\n",
       "       [3, 2, 1]])"
      ]
     },
     "execution_count": 14,
     "metadata": {},
     "output_type": "execute_result"
    }
   ],
   "source": [
    "z = a%b\n",
    "z"
   ]
  },
  {
   "cell_type": "code",
   "execution_count": 15,
   "metadata": {},
   "outputs": [
    {
     "name": "stdout",
     "output_type": "stream",
     "text": [
      "[1 3 6]\n"
     ]
    }
   ],
   "source": [
    "import numpy as np\n",
    "\n",
    "a = np.array([10, 15, 20])\n",
    "b = np.array([3, 6, 7])\n",
    "\n",
    "c = a % b\n",
    "\n",
    "print(c)  # Output: [1, 3, 6]\n",
    "\n",
    "# 10/3 = remainder 1\n",
    "# 15/6 = remainder 3\n",
    "# 20/7 - remainder 6"
   ]
  },
  {
   "cell_type": "code",
   "execution_count": 16,
   "metadata": {
    "id": "lXsAgEyP0T_W"
   },
   "outputs": [],
   "source": [
    "import time"
   ]
  },
  {
   "cell_type": "code",
   "execution_count": 19,
   "metadata": {
    "id": "9kS0Jdx40T_W"
   },
   "outputs": [
    {
     "data": {
      "text/plain": [
       "1741270472.6754508"
      ]
     },
     "execution_count": 19,
     "metadata": {},
     "output_type": "execute_result"
    }
   ],
   "source": [
    "time.time() # when time started, until now, in seconds"
   ]
  },
  {
   "cell_type": "code",
   "execution_count": 20,
   "metadata": {
    "id": "ad6AFg2Jlsg6"
   },
   "outputs": [
    {
     "name": "stdout",
     "output_type": "stream",
     "text": [
      "sleeper\n"
     ]
    }
   ],
   "source": [
    "time.sleep(1)\n",
    "print('sleeper')\n",
    "# delay your code by 1 second"
   ]
  },
  {
   "cell_type": "code",
   "execution_count": 22,
   "metadata": {
    "id": "2gbLyPD20T_W"
   },
   "outputs": [
    {
     "data": {
      "text/plain": [
       "55.215332656313734"
      ]
     },
     "execution_count": 22,
     "metadata": {},
     "output_type": "execute_result"
    }
   ],
   "source": [
    "time.time()/(60*60*24*365) # start of time, divided by 60 mins, 60 hrs, 24 hrs/day, 365 days/year"
   ]
  },
  {
   "cell_type": "code",
   "execution_count": 26,
   "metadata": {
    "id": "5aT8AwxO0T_X"
   },
   "outputs": [
    {
     "data": {
      "text/plain": [
       "'2025-03-06 14:20'"
      ]
     },
     "execution_count": 26,
     "metadata": {},
     "output_type": "execute_result"
    }
   ],
   "source": [
    "time.strftime('%Y-%m-%d %H:%M', time.gmtime(time.time()))"
   ]
  },
  {
   "cell_type": "markdown",
   "metadata": {
    "id": "JDhJqE6O0T_X"
   },
   "source": [
    "# Speed\n",
    "Since we're calling C code, numpy is orders of magnitudes faster than python. The code below times creating and then squaring two lists of numbers, you can see that the numpy version is considerably faster."
   ]
  },
  {
   "cell_type": "code",
   "execution_count": 27,
   "metadata": {
    "id": "Zjsex-R_0T_X"
   },
   "outputs": [
    {
     "name": "stdout",
     "output_type": "stream",
     "text": [
      "732 µs ± 129 µs per loop (mean ± std. dev. of 7 runs, 1,000 loops each)\n"
     ]
    }
   ],
   "source": [
    "L = list(range(1000))\n",
    "%timeit [i**2 for i in L]"
   ]
  },
  {
   "cell_type": "code",
   "execution_count": 29,
   "metadata": {
    "id": "4bK2ug4T0T_X"
   },
   "outputs": [
    {
     "name": "stdout",
     "output_type": "stream",
     "text": [
      "The slowest run took 19.26 times longer than the fastest. This could mean that an intermediate result is being cached.\n",
      "16.1 µs ± 21.2 µs per loop (mean ± std. dev. of 7 runs, 100,000 loops each)\n"
     ]
    }
   ],
   "source": [
    "a = np.arange(1000)\n",
    "%timeit a**2"
   ]
  },
  {
   "cell_type": "markdown",
   "metadata": {
    "id": "q4cju_eE1d-O"
   },
   "source": [
    "# DateTime in Pandas"
   ]
  },
  {
   "cell_type": "code",
   "execution_count": 30,
   "metadata": {
    "id": "ijXywuGG1RLU"
   },
   "outputs": [],
   "source": [
    "import pandas as pd\n",
    "dft = pd.read_csv('http://archive.ics.uci.edu/ml/machine-learning-databases/ozone/onehr.data', header=None)\n",
    "# read_xlsx"
   ]
  },
  {
   "cell_type": "code",
   "execution_count": 31,
   "metadata": {
    "id": "iaO7wyOv2OO0"
   },
   "outputs": [
    {
     "data": {
      "application/vnd.microsoft.datawrangler.viewer.v0+json": {
       "columns": [
        {
         "name": "index",
         "rawType": "int64",
         "type": "integer"
        },
        {
         "name": "0",
         "rawType": "object",
         "type": "string"
        },
        {
         "name": "1",
         "rawType": "object",
         "type": "string"
        },
        {
         "name": "2",
         "rawType": "object",
         "type": "string"
        },
        {
         "name": "3",
         "rawType": "object",
         "type": "string"
        },
        {
         "name": "4",
         "rawType": "object",
         "type": "string"
        }
       ],
       "conversionMethod": "pd.DataFrame",
       "ref": "cb9674e7-1d6f-4593-8bd7-8693219e2e8b",
       "rows": [
        [
         "0",
         "1/1/1998",
         "0.8",
         "1.8",
         "2.4",
         "2.1"
        ],
        [
         "1",
         "1/2/1998",
         "2.8",
         "3.2",
         "3.3",
         "2.7"
        ],
        [
         "2",
         "1/3/1998",
         "2.9",
         "2.8",
         "2.6",
         "2.1"
        ],
        [
         "3",
         "1/4/1998",
         "4.7",
         "3.8",
         "3.7",
         "3.8"
        ],
        [
         "4",
         "1/5/1998",
         "2.6",
         "2.1",
         "1.6",
         "1.4"
        ]
       ],
       "shape": {
        "columns": 5,
        "rows": 5
       }
      },
      "text/html": [
       "<div>\n",
       "<style scoped>\n",
       "    .dataframe tbody tr th:only-of-type {\n",
       "        vertical-align: middle;\n",
       "    }\n",
       "\n",
       "    .dataframe tbody tr th {\n",
       "        vertical-align: top;\n",
       "    }\n",
       "\n",
       "    .dataframe thead th {\n",
       "        text-align: right;\n",
       "    }\n",
       "</style>\n",
       "<table border=\"1\" class=\"dataframe\">\n",
       "  <thead>\n",
       "    <tr style=\"text-align: right;\">\n",
       "      <th></th>\n",
       "      <th>0</th>\n",
       "      <th>1</th>\n",
       "      <th>2</th>\n",
       "      <th>3</th>\n",
       "      <th>4</th>\n",
       "    </tr>\n",
       "  </thead>\n",
       "  <tbody>\n",
       "    <tr>\n",
       "      <th>0</th>\n",
       "      <td>1/1/1998</td>\n",
       "      <td>0.8</td>\n",
       "      <td>1.8</td>\n",
       "      <td>2.4</td>\n",
       "      <td>2.1</td>\n",
       "    </tr>\n",
       "    <tr>\n",
       "      <th>1</th>\n",
       "      <td>1/2/1998</td>\n",
       "      <td>2.8</td>\n",
       "      <td>3.2</td>\n",
       "      <td>3.3</td>\n",
       "      <td>2.7</td>\n",
       "    </tr>\n",
       "    <tr>\n",
       "      <th>2</th>\n",
       "      <td>1/3/1998</td>\n",
       "      <td>2.9</td>\n",
       "      <td>2.8</td>\n",
       "      <td>2.6</td>\n",
       "      <td>2.1</td>\n",
       "    </tr>\n",
       "    <tr>\n",
       "      <th>3</th>\n",
       "      <td>1/4/1998</td>\n",
       "      <td>4.7</td>\n",
       "      <td>3.8</td>\n",
       "      <td>3.7</td>\n",
       "      <td>3.8</td>\n",
       "    </tr>\n",
       "    <tr>\n",
       "      <th>4</th>\n",
       "      <td>1/5/1998</td>\n",
       "      <td>2.6</td>\n",
       "      <td>2.1</td>\n",
       "      <td>1.6</td>\n",
       "      <td>1.4</td>\n",
       "    </tr>\n",
       "  </tbody>\n",
       "</table>\n",
       "</div>"
      ],
      "text/plain": [
       "          0    1    2    3    4\n",
       "0  1/1/1998  0.8  1.8  2.4  2.1\n",
       "1  1/2/1998  2.8  3.2  3.3  2.7\n",
       "2  1/3/1998  2.9  2.8  2.6  2.1\n",
       "3  1/4/1998  4.7  3.8  3.7  3.8\n",
       "4  1/5/1998  2.6  2.1  1.6  1.4"
      ]
     },
     "execution_count": 31,
     "metadata": {},
     "output_type": "execute_result"
    }
   ],
   "source": [
    "dft = dft.iloc[:,:5]\n",
    "dft.head(5)"
   ]
  },
  {
   "cell_type": "code",
   "execution_count": 33,
   "metadata": {
    "id": "g5DAB9Funn7b"
   },
   "outputs": [
    {
     "name": "stdout",
     "output_type": "stream",
     "text": [
      "<class 'pandas.core.frame.DataFrame'>\n",
      "RangeIndex: 2536 entries, 0 to 2535\n",
      "Data columns (total 5 columns):\n",
      " #   Column  Non-Null Count  Dtype \n",
      "---  ------  --------------  ----- \n",
      " 0   0       2536 non-null   object\n",
      " 1   1       2536 non-null   object\n",
      " 2   2       2536 non-null   object\n",
      " 3   3       2536 non-null   object\n",
      " 4   4       2536 non-null   object\n",
      "dtypes: object(5)\n",
      "memory usage: 99.2+ KB\n"
     ]
    }
   ],
   "source": [
    "dft.info()"
   ]
  },
  {
   "cell_type": "code",
   "execution_count": 38,
   "metadata": {
    "id": "xLuoS2Ij2OGK"
   },
   "outputs": [
    {
     "data": {
      "application/vnd.microsoft.datawrangler.viewer.v0+json": {
       "columns": [
        {
         "name": "index",
         "rawType": "int64",
         "type": "integer"
        },
        {
         "name": "date",
         "rawType": "object",
         "type": "string"
        },
        {
         "name": "col1",
         "rawType": "object",
         "type": "string"
        },
        {
         "name": "col2",
         "rawType": "object",
         "type": "string"
        },
        {
         "name": "col3",
         "rawType": "object",
         "type": "string"
        },
        {
         "name": "col4",
         "rawType": "object",
         "type": "string"
        }
       ],
       "conversionMethod": "pd.DataFrame",
       "ref": "81e51061-413e-49cb-aebe-912415ff8a90",
       "rows": [
        [
         "0",
         "1/1/1998",
         "0.8",
         "1.8",
         "2.4",
         "2.1"
        ],
        [
         "1",
         "1/2/1998",
         "2.8",
         "3.2",
         "3.3",
         "2.7"
        ]
       ],
       "shape": {
        "columns": 5,
        "rows": 2
       }
      },
      "text/html": [
       "<div>\n",
       "<style scoped>\n",
       "    .dataframe tbody tr th:only-of-type {\n",
       "        vertical-align: middle;\n",
       "    }\n",
       "\n",
       "    .dataframe tbody tr th {\n",
       "        vertical-align: top;\n",
       "    }\n",
       "\n",
       "    .dataframe thead th {\n",
       "        text-align: right;\n",
       "    }\n",
       "</style>\n",
       "<table border=\"1\" class=\"dataframe\">\n",
       "  <thead>\n",
       "    <tr style=\"text-align: right;\">\n",
       "      <th></th>\n",
       "      <th>date</th>\n",
       "      <th>col1</th>\n",
       "      <th>col2</th>\n",
       "      <th>col3</th>\n",
       "      <th>col4</th>\n",
       "    </tr>\n",
       "  </thead>\n",
       "  <tbody>\n",
       "    <tr>\n",
       "      <th>0</th>\n",
       "      <td>1/1/1998</td>\n",
       "      <td>0.8</td>\n",
       "      <td>1.8</td>\n",
       "      <td>2.4</td>\n",
       "      <td>2.1</td>\n",
       "    </tr>\n",
       "    <tr>\n",
       "      <th>1</th>\n",
       "      <td>1/2/1998</td>\n",
       "      <td>2.8</td>\n",
       "      <td>3.2</td>\n",
       "      <td>3.3</td>\n",
       "      <td>2.7</td>\n",
       "    </tr>\n",
       "  </tbody>\n",
       "</table>\n",
       "</div>"
      ],
      "text/plain": [
       "       date col1 col2 col3 col4\n",
       "0  1/1/1998  0.8  1.8  2.4  2.1\n",
       "1  1/2/1998  2.8  3.2  3.3  2.7"
      ]
     },
     "execution_count": 38,
     "metadata": {},
     "output_type": "execute_result"
    }
   ],
   "source": [
    "dft.columns = ['date', 'col1', 'col2', 'col3', 'col4']\n",
    "dft.head(2)"
   ]
  },
  {
   "cell_type": "code",
   "execution_count": 39,
   "metadata": {
    "id": "X9HeEL3W2OBs"
   },
   "outputs": [
    {
     "name": "stdout",
     "output_type": "stream",
     "text": [
      "<class 'pandas.core.frame.DataFrame'>\n",
      "RangeIndex: 2536 entries, 0 to 2535\n",
      "Data columns (total 5 columns):\n",
      " #   Column  Non-Null Count  Dtype \n",
      "---  ------  --------------  ----- \n",
      " 0   date    2536 non-null   object\n",
      " 1   col1    2536 non-null   object\n",
      " 2   col2    2536 non-null   object\n",
      " 3   col3    2536 non-null   object\n",
      " 4   col4    2536 non-null   object\n",
      "dtypes: object(5)\n",
      "memory usage: 99.2+ KB\n"
     ]
    }
   ],
   "source": [
    "dft.info()"
   ]
  },
  {
   "cell_type": "code",
   "execution_count": 40,
   "metadata": {
    "id": "2XMg5PCQ2N6p"
   },
   "outputs": [
    {
     "name": "stdout",
     "output_type": "stream",
     "text": [
      "<class 'pandas.core.frame.DataFrame'>\n",
      "RangeIndex: 2536 entries, 0 to 2535\n",
      "Data columns (total 5 columns):\n",
      " #   Column  Non-Null Count  Dtype         \n",
      "---  ------  --------------  -----         \n",
      " 0   date    2536 non-null   datetime64[ns]\n",
      " 1   col1    2536 non-null   object        \n",
      " 2   col2    2536 non-null   object        \n",
      " 3   col3    2536 non-null   object        \n",
      " 4   col4    2536 non-null   object        \n",
      "dtypes: datetime64[ns](1), object(4)\n",
      "memory usage: 99.2+ KB\n"
     ]
    }
   ],
   "source": [
    "dft['date'] = pd.to_datetime(dft['date'])\n",
    "dft.info()"
   ]
  },
  {
   "cell_type": "code",
   "execution_count": 41,
   "metadata": {
    "id": "79r1tutc2Nzb"
   },
   "outputs": [
    {
     "data": {
      "application/vnd.microsoft.datawrangler.viewer.v0+json": {
       "columns": [
        {
         "name": "index",
         "rawType": "int64",
         "type": "integer"
        },
        {
         "name": "date",
         "rawType": "datetime64[ns]",
         "type": "datetime"
        },
        {
         "name": "col1",
         "rawType": "object",
         "type": "string"
        },
        {
         "name": "col2",
         "rawType": "object",
         "type": "string"
        },
        {
         "name": "col3",
         "rawType": "object",
         "type": "string"
        },
        {
         "name": "col4",
         "rawType": "object",
         "type": "string"
        }
       ],
       "conversionMethod": "pd.DataFrame",
       "ref": "309499bc-1994-4406-b1d1-f179737cc9d5",
       "rows": [
        [
         "0",
         "1998-01-01 00:00:00",
         "0.8",
         "1.8",
         "2.4",
         "2.1"
        ],
        [
         "1",
         "1998-01-02 00:00:00",
         "2.8",
         "3.2",
         "3.3",
         "2.7"
        ]
       ],
       "shape": {
        "columns": 5,
        "rows": 2
       }
      },
      "text/html": [
       "<div>\n",
       "<style scoped>\n",
       "    .dataframe tbody tr th:only-of-type {\n",
       "        vertical-align: middle;\n",
       "    }\n",
       "\n",
       "    .dataframe tbody tr th {\n",
       "        vertical-align: top;\n",
       "    }\n",
       "\n",
       "    .dataframe thead th {\n",
       "        text-align: right;\n",
       "    }\n",
       "</style>\n",
       "<table border=\"1\" class=\"dataframe\">\n",
       "  <thead>\n",
       "    <tr style=\"text-align: right;\">\n",
       "      <th></th>\n",
       "      <th>date</th>\n",
       "      <th>col1</th>\n",
       "      <th>col2</th>\n",
       "      <th>col3</th>\n",
       "      <th>col4</th>\n",
       "    </tr>\n",
       "  </thead>\n",
       "  <tbody>\n",
       "    <tr>\n",
       "      <th>0</th>\n",
       "      <td>1998-01-01</td>\n",
       "      <td>0.8</td>\n",
       "      <td>1.8</td>\n",
       "      <td>2.4</td>\n",
       "      <td>2.1</td>\n",
       "    </tr>\n",
       "    <tr>\n",
       "      <th>1</th>\n",
       "      <td>1998-01-02</td>\n",
       "      <td>2.8</td>\n",
       "      <td>3.2</td>\n",
       "      <td>3.3</td>\n",
       "      <td>2.7</td>\n",
       "    </tr>\n",
       "  </tbody>\n",
       "</table>\n",
       "</div>"
      ],
      "text/plain": [
       "        date col1 col2 col3 col4\n",
       "0 1998-01-01  0.8  1.8  2.4  2.1\n",
       "1 1998-01-02  2.8  3.2  3.3  2.7"
      ]
     },
     "execution_count": 41,
     "metadata": {},
     "output_type": "execute_result"
    }
   ],
   "source": [
    "dft.head(2)"
   ]
  },
  {
   "cell_type": "code",
   "execution_count": 43,
   "metadata": {
    "id": "hWCrqfJO2Nog"
   },
   "outputs": [
    {
     "data": {
      "application/vnd.microsoft.datawrangler.viewer.v0+json": {
       "columns": [
        {
         "name": "index",
         "rawType": "int64",
         "type": "integer"
        },
        {
         "name": "date",
         "rawType": "datetime64[ns]",
         "type": "datetime"
        },
        {
         "name": "col1",
         "rawType": "object",
         "type": "string"
        },
        {
         "name": "col2",
         "rawType": "object",
         "type": "string"
        },
        {
         "name": "col3",
         "rawType": "object",
         "type": "string"
        },
        {
         "name": "col4",
         "rawType": "object",
         "type": "string"
        },
        {
         "name": "dayofweek",
         "rawType": "int64",
         "type": "integer"
        },
        {
         "name": "dayofyear",
         "rawType": "int64",
         "type": "integer"
        },
        {
         "name": "year",
         "rawType": "int64",
         "type": "integer"
        }
       ],
       "conversionMethod": "pd.DataFrame",
       "ref": "73de23ec-3370-4164-b9c5-3628a6cd3118",
       "rows": [
        [
         "0",
         "1998-01-01 00:00:00",
         "0.8",
         "1.8",
         "2.4",
         "2.1",
         "3",
         "1",
         "1998"
        ],
        [
         "1",
         "1998-01-02 00:00:00",
         "2.8",
         "3.2",
         "3.3",
         "2.7",
         "4",
         "2",
         "1998"
        ],
        [
         "2",
         "1998-01-03 00:00:00",
         "2.9",
         "2.8",
         "2.6",
         "2.1",
         "5",
         "3",
         "1998"
        ],
        [
         "3",
         "1998-01-04 00:00:00",
         "4.7",
         "3.8",
         "3.7",
         "3.8",
         "6",
         "4",
         "1998"
        ],
        [
         "4",
         "1998-01-05 00:00:00",
         "2.6",
         "2.1",
         "1.6",
         "1.4",
         "0",
         "5",
         "1998"
        ],
        [
         "5",
         "1998-01-06 00:00:00",
         "3.1",
         "3.5",
         "3.3",
         "2.5",
         "1",
         "6",
         "1998"
        ],
        [
         "6",
         "1998-01-07 00:00:00",
         "3.7",
         "3.2",
         "3.8",
         "5.1",
         "2",
         "7",
         "1998"
        ]
       ],
       "shape": {
        "columns": 8,
        "rows": 7
       }
      },
      "text/html": [
       "<div>\n",
       "<style scoped>\n",
       "    .dataframe tbody tr th:only-of-type {\n",
       "        vertical-align: middle;\n",
       "    }\n",
       "\n",
       "    .dataframe tbody tr th {\n",
       "        vertical-align: top;\n",
       "    }\n",
       "\n",
       "    .dataframe thead th {\n",
       "        text-align: right;\n",
       "    }\n",
       "</style>\n",
       "<table border=\"1\" class=\"dataframe\">\n",
       "  <thead>\n",
       "    <tr style=\"text-align: right;\">\n",
       "      <th></th>\n",
       "      <th>date</th>\n",
       "      <th>col1</th>\n",
       "      <th>col2</th>\n",
       "      <th>col3</th>\n",
       "      <th>col4</th>\n",
       "      <th>dayofweek</th>\n",
       "      <th>dayofyear</th>\n",
       "      <th>year</th>\n",
       "    </tr>\n",
       "  </thead>\n",
       "  <tbody>\n",
       "    <tr>\n",
       "      <th>0</th>\n",
       "      <td>1998-01-01</td>\n",
       "      <td>0.8</td>\n",
       "      <td>1.8</td>\n",
       "      <td>2.4</td>\n",
       "      <td>2.1</td>\n",
       "      <td>3</td>\n",
       "      <td>1</td>\n",
       "      <td>1998</td>\n",
       "    </tr>\n",
       "    <tr>\n",
       "      <th>1</th>\n",
       "      <td>1998-01-02</td>\n",
       "      <td>2.8</td>\n",
       "      <td>3.2</td>\n",
       "      <td>3.3</td>\n",
       "      <td>2.7</td>\n",
       "      <td>4</td>\n",
       "      <td>2</td>\n",
       "      <td>1998</td>\n",
       "    </tr>\n",
       "    <tr>\n",
       "      <th>2</th>\n",
       "      <td>1998-01-03</td>\n",
       "      <td>2.9</td>\n",
       "      <td>2.8</td>\n",
       "      <td>2.6</td>\n",
       "      <td>2.1</td>\n",
       "      <td>5</td>\n",
       "      <td>3</td>\n",
       "      <td>1998</td>\n",
       "    </tr>\n",
       "    <tr>\n",
       "      <th>3</th>\n",
       "      <td>1998-01-04</td>\n",
       "      <td>4.7</td>\n",
       "      <td>3.8</td>\n",
       "      <td>3.7</td>\n",
       "      <td>3.8</td>\n",
       "      <td>6</td>\n",
       "      <td>4</td>\n",
       "      <td>1998</td>\n",
       "    </tr>\n",
       "    <tr>\n",
       "      <th>4</th>\n",
       "      <td>1998-01-05</td>\n",
       "      <td>2.6</td>\n",
       "      <td>2.1</td>\n",
       "      <td>1.6</td>\n",
       "      <td>1.4</td>\n",
       "      <td>0</td>\n",
       "      <td>5</td>\n",
       "      <td>1998</td>\n",
       "    </tr>\n",
       "    <tr>\n",
       "      <th>5</th>\n",
       "      <td>1998-01-06</td>\n",
       "      <td>3.1</td>\n",
       "      <td>3.5</td>\n",
       "      <td>3.3</td>\n",
       "      <td>2.5</td>\n",
       "      <td>1</td>\n",
       "      <td>6</td>\n",
       "      <td>1998</td>\n",
       "    </tr>\n",
       "    <tr>\n",
       "      <th>6</th>\n",
       "      <td>1998-01-07</td>\n",
       "      <td>3.7</td>\n",
       "      <td>3.2</td>\n",
       "      <td>3.8</td>\n",
       "      <td>5.1</td>\n",
       "      <td>2</td>\n",
       "      <td>7</td>\n",
       "      <td>1998</td>\n",
       "    </tr>\n",
       "  </tbody>\n",
       "</table>\n",
       "</div>"
      ],
      "text/plain": [
       "        date col1 col2 col3 col4  dayofweek  dayofyear  year\n",
       "0 1998-01-01  0.8  1.8  2.4  2.1          3          1  1998\n",
       "1 1998-01-02  2.8  3.2  3.3  2.7          4          2  1998\n",
       "2 1998-01-03  2.9  2.8  2.6  2.1          5          3  1998\n",
       "3 1998-01-04  4.7  3.8  3.7  3.8          6          4  1998\n",
       "4 1998-01-05  2.6  2.1  1.6  1.4          0          5  1998\n",
       "5 1998-01-06  3.1  3.5  3.3  2.5          1          6  1998\n",
       "6 1998-01-07  3.7  3.2  3.8  5.1          2          7  1998"
      ]
     },
     "execution_count": 43,
     "metadata": {},
     "output_type": "execute_result"
    }
   ],
   "source": [
    "dft['dayofweek'] = dft['date'].dt.dayofweek\n",
    "dft['dayofyear'] = dft['date'].dt.dayofyear\n",
    "dft['year'] = dft['date'].dt.year\n",
    "dft.head(7)"
   ]
  },
  {
   "cell_type": "code",
   "execution_count": 45,
   "metadata": {
    "id": "elQsMelu2Ng5"
   },
   "outputs": [
    {
     "name": "stdout",
     "output_type": "stream",
     "text": [
      "<class 'pandas.core.frame.DataFrame'>\n",
      "RangeIndex: 2536 entries, 0 to 2535\n",
      "Data columns (total 8 columns):\n",
      " #   Column     Non-Null Count  Dtype         \n",
      "---  ------     --------------  -----         \n",
      " 0   date       2536 non-null   datetime64[ns]\n",
      " 1   col1       2536 non-null   object        \n",
      " 2   col2       2536 non-null   object        \n",
      " 3   col3       2536 non-null   object        \n",
      " 4   col4       2536 non-null   object        \n",
      " 5   dayofweek  2536 non-null   int64         \n",
      " 6   dayofyear  2536 non-null   int64         \n",
      " 7   year       2536 non-null   int64         \n",
      "dtypes: datetime64[ns](1), int64(3), object(4)\n",
      "memory usage: 158.6+ KB\n"
     ]
    }
   ],
   "source": [
    "dft.info()"
   ]
  },
  {
   "cell_type": "markdown",
   "metadata": {
    "id": "vo4Wit8J0T_Y"
   },
   "source": [
    "# Missing value "
   ]
  },
  {
   "cell_type": "code",
   "execution_count": 46,
   "metadata": {
    "id": "BXtvXdLb0T_Y"
   },
   "outputs": [
    {
     "data": {
      "application/vnd.microsoft.datawrangler.viewer.v0+json": {
       "columns": [
        {
         "name": "index",
         "rawType": "int64",
         "type": "integer"
        },
        {
         "name": "col1",
         "rawType": "float64",
         "type": "float"
        },
        {
         "name": "col2",
         "rawType": "float64",
         "type": "float"
        },
        {
         "name": "col3",
         "rawType": "float64",
         "type": "float"
        }
       ],
       "conversionMethod": "pd.DataFrame",
       "ref": "7e10ca75-e330-4684-86d4-ae403493760d",
       "rows": [
        [
         "0",
         "1.0",
         "100.0",
         "-1.0"
        ],
        [
         "1",
         "2.0",
         "200.0",
         "-2.0"
        ],
        [
         "2",
         "3.0",
         null,
         "-3.0"
        ],
        [
         "3",
         null,
         "400.0",
         "-4.0"
        ],
        [
         "4",
         "5.0",
         "500.0",
         null
        ]
       ],
       "shape": {
        "columns": 3,
        "rows": 5
       }
      },
      "text/html": [
       "<div>\n",
       "<style scoped>\n",
       "    .dataframe tbody tr th:only-of-type {\n",
       "        vertical-align: middle;\n",
       "    }\n",
       "\n",
       "    .dataframe tbody tr th {\n",
       "        vertical-align: top;\n",
       "    }\n",
       "\n",
       "    .dataframe thead th {\n",
       "        text-align: right;\n",
       "    }\n",
       "</style>\n",
       "<table border=\"1\" class=\"dataframe\">\n",
       "  <thead>\n",
       "    <tr style=\"text-align: right;\">\n",
       "      <th></th>\n",
       "      <th>col1</th>\n",
       "      <th>col2</th>\n",
       "      <th>col3</th>\n",
       "    </tr>\n",
       "  </thead>\n",
       "  <tbody>\n",
       "    <tr>\n",
       "      <th>0</th>\n",
       "      <td>1.0</td>\n",
       "      <td>100.0</td>\n",
       "      <td>-1.0</td>\n",
       "    </tr>\n",
       "    <tr>\n",
       "      <th>1</th>\n",
       "      <td>2.0</td>\n",
       "      <td>200.0</td>\n",
       "      <td>-2.0</td>\n",
       "    </tr>\n",
       "    <tr>\n",
       "      <th>2</th>\n",
       "      <td>3.0</td>\n",
       "      <td>NaN</td>\n",
       "      <td>-3.0</td>\n",
       "    </tr>\n",
       "    <tr>\n",
       "      <th>3</th>\n",
       "      <td>NaN</td>\n",
       "      <td>400.0</td>\n",
       "      <td>-4.0</td>\n",
       "    </tr>\n",
       "    <tr>\n",
       "      <th>4</th>\n",
       "      <td>5.0</td>\n",
       "      <td>500.0</td>\n",
       "      <td>NaN</td>\n",
       "    </tr>\n",
       "  </tbody>\n",
       "</table>\n",
       "</div>"
      ],
      "text/plain": [
       "   col1   col2  col3\n",
       "0   1.0  100.0  -1.0\n",
       "1   2.0  200.0  -2.0\n",
       "2   3.0    NaN  -3.0\n",
       "3   NaN  400.0  -4.0\n",
       "4   5.0  500.0   NaN"
      ]
     },
     "execution_count": 46,
     "metadata": {},
     "output_type": "execute_result"
    }
   ],
   "source": [
    "import numpy as np\n",
    "\n",
    "dict1 = {'col1' : [1,2,3,np.nan,5],\n",
    "         'col2' : [100,200,np.nan,400,500],\n",
    "         'col3' : [-1,-2,-3,-4,np.nan]}\n",
    "\n",
    "df = pd.DataFrame(dict1)\n",
    "df"
   ]
  },
  {
   "cell_type": "code",
   "execution_count": 47,
   "metadata": {
    "id": "llrjnBkfpCGn"
   },
   "outputs": [
    {
     "data": {
      "application/vnd.microsoft.datawrangler.viewer.v0+json": {
       "columns": [
        {
         "name": "index",
         "rawType": "int64",
         "type": "integer"
        },
        {
         "name": "col1",
         "rawType": "float64",
         "type": "float"
        },
        {
         "name": "col2",
         "rawType": "float64",
         "type": "float"
        },
        {
         "name": "col3",
         "rawType": "float64",
         "type": "float"
        },
        {
         "name": "col4",
         "rawType": "float64",
         "type": "float"
        }
       ],
       "conversionMethod": "pd.DataFrame",
       "ref": "406e8a44-5118-4cbf-a3a1-548c81026920",
       "rows": [
        [
         "0",
         "1.0",
         "100.0",
         "-1.0",
         null
        ],
        [
         "1",
         "2.0",
         "200.0",
         "-2.0",
         null
        ],
        [
         "2",
         "3.0",
         null,
         "-3.0",
         null
        ],
        [
         "3",
         null,
         "400.0",
         "-4.0",
         null
        ],
        [
         "4",
         "5.0",
         "500.0",
         null,
         null
        ]
       ],
       "shape": {
        "columns": 4,
        "rows": 5
       }
      },
      "text/html": [
       "<div>\n",
       "<style scoped>\n",
       "    .dataframe tbody tr th:only-of-type {\n",
       "        vertical-align: middle;\n",
       "    }\n",
       "\n",
       "    .dataframe tbody tr th {\n",
       "        vertical-align: top;\n",
       "    }\n",
       "\n",
       "    .dataframe thead th {\n",
       "        text-align: right;\n",
       "    }\n",
       "</style>\n",
       "<table border=\"1\" class=\"dataframe\">\n",
       "  <thead>\n",
       "    <tr style=\"text-align: right;\">\n",
       "      <th></th>\n",
       "      <th>col1</th>\n",
       "      <th>col2</th>\n",
       "      <th>col3</th>\n",
       "      <th>col4</th>\n",
       "    </tr>\n",
       "  </thead>\n",
       "  <tbody>\n",
       "    <tr>\n",
       "      <th>0</th>\n",
       "      <td>1.0</td>\n",
       "      <td>100.0</td>\n",
       "      <td>-1.0</td>\n",
       "      <td>NaN</td>\n",
       "    </tr>\n",
       "    <tr>\n",
       "      <th>1</th>\n",
       "      <td>2.0</td>\n",
       "      <td>200.0</td>\n",
       "      <td>-2.0</td>\n",
       "      <td>NaN</td>\n",
       "    </tr>\n",
       "    <tr>\n",
       "      <th>2</th>\n",
       "      <td>3.0</td>\n",
       "      <td>NaN</td>\n",
       "      <td>-3.0</td>\n",
       "      <td>NaN</td>\n",
       "    </tr>\n",
       "    <tr>\n",
       "      <th>3</th>\n",
       "      <td>NaN</td>\n",
       "      <td>400.0</td>\n",
       "      <td>-4.0</td>\n",
       "      <td>NaN</td>\n",
       "    </tr>\n",
       "    <tr>\n",
       "      <th>4</th>\n",
       "      <td>5.0</td>\n",
       "      <td>500.0</td>\n",
       "      <td>NaN</td>\n",
       "      <td>NaN</td>\n",
       "    </tr>\n",
       "  </tbody>\n",
       "</table>\n",
       "</div>"
      ],
      "text/plain": [
       "   col1   col2  col3  col4\n",
       "0   1.0  100.0  -1.0   NaN\n",
       "1   2.0  200.0  -2.0   NaN\n",
       "2   3.0    NaN  -3.0   NaN\n",
       "3   NaN  400.0  -4.0   NaN\n",
       "4   5.0  500.0   NaN   NaN"
      ]
     },
     "execution_count": 47,
     "metadata": {},
     "output_type": "execute_result"
    }
   ],
   "source": [
    "df['col4'] = np.nan\n",
    "df.head()"
   ]
  },
  {
   "cell_type": "code",
   "execution_count": 48,
   "metadata": {},
   "outputs": [
    {
     "data": {
      "text/plain": [
       "True"
      ]
     },
     "execution_count": 48,
     "metadata": {},
     "output_type": "execute_result"
    }
   ],
   "source": [
    "df['col1'].isnull().any()"
   ]
  },
  {
   "cell_type": "code",
   "execution_count": 49,
   "metadata": {
    "id": "dYs0lMw90T_Z"
   },
   "outputs": [
    {
     "name": "stdout",
     "output_type": "stream",
     "text": [
      "<class 'pandas.core.frame.DataFrame'>\n",
      "RangeIndex: 5 entries, 0 to 4\n",
      "Data columns (total 4 columns):\n",
      " #   Column  Non-Null Count  Dtype  \n",
      "---  ------  --------------  -----  \n",
      " 0   col1    4 non-null      float64\n",
      " 1   col2    4 non-null      float64\n",
      " 2   col3    4 non-null      float64\n",
      " 3   col4    0 non-null      float64\n",
      "dtypes: float64(4)\n",
      "memory usage: 288.0 bytes\n"
     ]
    }
   ],
   "source": [
    "df.info()"
   ]
  },
  {
   "cell_type": "code",
   "execution_count": 50,
   "metadata": {
    "id": "5Z3Yn5Rk0T_Z"
   },
   "outputs": [
    {
     "data": {
      "application/vnd.microsoft.datawrangler.viewer.v0+json": {
       "columns": [
        {
         "name": "index",
         "rawType": "int64",
         "type": "integer"
        },
        {
         "name": "col1",
         "rawType": "bool",
         "type": "boolean"
        },
        {
         "name": "col2",
         "rawType": "bool",
         "type": "boolean"
        },
        {
         "name": "col3",
         "rawType": "bool",
         "type": "boolean"
        },
        {
         "name": "col4",
         "rawType": "bool",
         "type": "boolean"
        }
       ],
       "conversionMethod": "pd.DataFrame",
       "ref": "1132851b-2a84-4c8b-894b-0a7abec10e9b",
       "rows": [
        [
         "0",
         "True",
         "True",
         "True",
         "False"
        ],
        [
         "1",
         "True",
         "True",
         "True",
         "False"
        ],
        [
         "2",
         "True",
         "False",
         "True",
         "False"
        ],
        [
         "3",
         "False",
         "True",
         "True",
         "False"
        ],
        [
         "4",
         "True",
         "True",
         "False",
         "False"
        ]
       ],
       "shape": {
        "columns": 4,
        "rows": 5
       }
      },
      "text/html": [
       "<div>\n",
       "<style scoped>\n",
       "    .dataframe tbody tr th:only-of-type {\n",
       "        vertical-align: middle;\n",
       "    }\n",
       "\n",
       "    .dataframe tbody tr th {\n",
       "        vertical-align: top;\n",
       "    }\n",
       "\n",
       "    .dataframe thead th {\n",
       "        text-align: right;\n",
       "    }\n",
       "</style>\n",
       "<table border=\"1\" class=\"dataframe\">\n",
       "  <thead>\n",
       "    <tr style=\"text-align: right;\">\n",
       "      <th></th>\n",
       "      <th>col1</th>\n",
       "      <th>col2</th>\n",
       "      <th>col3</th>\n",
       "      <th>col4</th>\n",
       "    </tr>\n",
       "  </thead>\n",
       "  <tbody>\n",
       "    <tr>\n",
       "      <th>0</th>\n",
       "      <td>True</td>\n",
       "      <td>True</td>\n",
       "      <td>True</td>\n",
       "      <td>False</td>\n",
       "    </tr>\n",
       "    <tr>\n",
       "      <th>1</th>\n",
       "      <td>True</td>\n",
       "      <td>True</td>\n",
       "      <td>True</td>\n",
       "      <td>False</td>\n",
       "    </tr>\n",
       "    <tr>\n",
       "      <th>2</th>\n",
       "      <td>True</td>\n",
       "      <td>False</td>\n",
       "      <td>True</td>\n",
       "      <td>False</td>\n",
       "    </tr>\n",
       "    <tr>\n",
       "      <th>3</th>\n",
       "      <td>False</td>\n",
       "      <td>True</td>\n",
       "      <td>True</td>\n",
       "      <td>False</td>\n",
       "    </tr>\n",
       "    <tr>\n",
       "      <th>4</th>\n",
       "      <td>True</td>\n",
       "      <td>True</td>\n",
       "      <td>False</td>\n",
       "      <td>False</td>\n",
       "    </tr>\n",
       "  </tbody>\n",
       "</table>\n",
       "</div>"
      ],
      "text/plain": [
       "    col1   col2   col3   col4\n",
       "0   True   True   True  False\n",
       "1   True   True   True  False\n",
       "2   True  False   True  False\n",
       "3  False   True   True  False\n",
       "4   True   True  False  False"
      ]
     },
     "execution_count": 50,
     "metadata": {},
     "output_type": "execute_result"
    }
   ],
   "source": [
    "# df.isna() # or df.isnull() #values that are empty, so if it's empty, it's 'True'\n",
    "\n",
    "\n",
    "df.notnull() # or df.notna() #values that are not-empty, so if it's empty, it's 'False'"
   ]
  },
  {
   "cell_type": "code",
   "execution_count": 51,
   "metadata": {
    "id": "cNDTgZPJpvll"
   },
   "outputs": [
    {
     "data": {
      "text/plain": [
       "True"
      ]
     },
     "execution_count": 51,
     "metadata": {},
     "output_type": "execute_result"
    }
   ],
   "source": [
    "df['col2'].isnull().any()"
   ]
  },
  {
   "cell_type": "code",
   "execution_count": 52,
   "metadata": {
    "id": "CvjX-jcb0T_Z"
   },
   "outputs": [
    {
     "data": {
      "text/plain": [
       "0     True\n",
       "1     True\n",
       "2     True\n",
       "3    False\n",
       "4     True\n",
       "Name: col1, dtype: bool"
      ]
     },
     "execution_count": 52,
     "metadata": {},
     "output_type": "execute_result"
    }
   ],
   "source": [
    "df['col1'].notnull()"
   ]
  },
  {
   "cell_type": "code",
   "execution_count": 55,
   "metadata": {
    "id": "q__fxYlV0T_Z"
   },
   "outputs": [
    {
     "data": {
      "application/vnd.microsoft.datawrangler.viewer.v0+json": {
       "columns": [
        {
         "name": "index",
         "rawType": "int64",
         "type": "integer"
        },
        {
         "name": "col1",
         "rawType": "float64",
         "type": "float"
        },
        {
         "name": "col2",
         "rawType": "float64",
         "type": "float"
        }
       ],
       "conversionMethod": "pd.DataFrame",
       "ref": "64996df7-9ddf-42f9-a102-dff52a98244c",
       "rows": [
        [
         "0",
         "1.0",
         "100.0"
        ],
        [
         "1",
         "2.0",
         "200.0"
        ],
        [
         "4",
         "5.0",
         "500.0"
        ]
       ],
       "shape": {
        "columns": 2,
        "rows": 3
       }
      },
      "text/html": [
       "<div>\n",
       "<style scoped>\n",
       "    .dataframe tbody tr th:only-of-type {\n",
       "        vertical-align: middle;\n",
       "    }\n",
       "\n",
       "    .dataframe tbody tr th {\n",
       "        vertical-align: top;\n",
       "    }\n",
       "\n",
       "    .dataframe thead th {\n",
       "        text-align: right;\n",
       "    }\n",
       "</style>\n",
       "<table border=\"1\" class=\"dataframe\">\n",
       "  <thead>\n",
       "    <tr style=\"text-align: right;\">\n",
       "      <th></th>\n",
       "      <th>col1</th>\n",
       "      <th>col2</th>\n",
       "    </tr>\n",
       "  </thead>\n",
       "  <tbody>\n",
       "    <tr>\n",
       "      <th>0</th>\n",
       "      <td>1.0</td>\n",
       "      <td>100.0</td>\n",
       "    </tr>\n",
       "    <tr>\n",
       "      <th>1</th>\n",
       "      <td>2.0</td>\n",
       "      <td>200.0</td>\n",
       "    </tr>\n",
       "    <tr>\n",
       "      <th>4</th>\n",
       "      <td>5.0</td>\n",
       "      <td>500.0</td>\n",
       "    </tr>\n",
       "  </tbody>\n",
       "</table>\n",
       "</div>"
      ],
      "text/plain": [
       "   col1   col2\n",
       "0   1.0  100.0\n",
       "1   2.0  200.0\n",
       "4   5.0  500.0"
      ]
     },
     "execution_count": 55,
     "metadata": {},
     "output_type": "execute_result"
    }
   ],
   "source": [
    "df[['col1','col2']].dropna()"
   ]
  },
  {
   "cell_type": "code",
   "execution_count": 56,
   "metadata": {
    "id": "x_1-mvmE0T_Z"
   },
   "outputs": [
    {
     "data": {
      "text/plain": [
       "<AxesSubplot:>"
      ]
     },
     "execution_count": 56,
     "metadata": {},
     "output_type": "execute_result"
    },
    {
     "data": {
      "image/png": "[encoded data removed]",
      "text/plain": [
       "<Figure size 432x288 with 2 Axes>"
      ]
     },
     "metadata": {
      "needs_background": "light"
     },
     "output_type": "display_data"
    }
   ],
   "source": [
    "# visualise missing data\n",
    "import seaborn as sns\n",
    "import matplotlib as plt\n",
    "\n",
    "sns.heatmap(df.isnull()) #can flip this with .isnull()"
   ]
  },
  {
   "cell_type": "code",
   "execution_count": 57,
   "metadata": {
    "id": "icywHUUY0T_Z"
   },
   "outputs": [
    {
     "data": {
      "application/vnd.microsoft.datawrangler.viewer.v0+json": {
       "columns": [
        {
         "name": "index",
         "rawType": "int64",
         "type": "integer"
        },
        {
         "name": "col1",
         "rawType": "float64",
         "type": "float"
        },
        {
         "name": "col2",
         "rawType": "float64",
         "type": "float"
        },
        {
         "name": "col3",
         "rawType": "float64",
         "type": "float"
        },
        {
         "name": "col4",
         "rawType": "float64",
         "type": "float"
        }
       ],
       "conversionMethod": "pd.DataFrame",
       "ref": "ffd92ca9-50d3-4760-83a6-423fe3846c35",
       "rows": [
        [
         "0",
         "1.0",
         "100.0",
         "-1.0",
         null
        ],
        [
         "1",
         "2.0",
         "200.0",
         "-2.0",
         null
        ],
        [
         "4",
         "5.0",
         "500.0",
         null,
         null
        ]
       ],
       "shape": {
        "columns": 4,
        "rows": 3
       }
      },
      "text/html": [
       "<div>\n",
       "<style scoped>\n",
       "    .dataframe tbody tr th:only-of-type {\n",
       "        vertical-align: middle;\n",
       "    }\n",
       "\n",
       "    .dataframe tbody tr th {\n",
       "        vertical-align: top;\n",
       "    }\n",
       "\n",
       "    .dataframe thead th {\n",
       "        text-align: right;\n",
       "    }\n",
       "</style>\n",
       "<table border=\"1\" class=\"dataframe\">\n",
       "  <thead>\n",
       "    <tr style=\"text-align: right;\">\n",
       "      <th></th>\n",
       "      <th>col1</th>\n",
       "      <th>col2</th>\n",
       "      <th>col3</th>\n",
       "      <th>col4</th>\n",
       "    </tr>\n",
       "  </thead>\n",
       "  <tbody>\n",
       "    <tr>\n",
       "      <th>0</th>\n",
       "      <td>1.0</td>\n",
       "      <td>100.0</td>\n",
       "      <td>-1.0</td>\n",
       "      <td>NaN</td>\n",
       "    </tr>\n",
       "    <tr>\n",
       "      <th>1</th>\n",
       "      <td>2.0</td>\n",
       "      <td>200.0</td>\n",
       "      <td>-2.0</td>\n",
       "      <td>NaN</td>\n",
       "    </tr>\n",
       "    <tr>\n",
       "      <th>4</th>\n",
       "      <td>5.0</td>\n",
       "      <td>500.0</td>\n",
       "      <td>NaN</td>\n",
       "      <td>NaN</td>\n",
       "    </tr>\n",
       "  </tbody>\n",
       "</table>\n",
       "</div>"
      ],
      "text/plain": [
       "   col1   col2  col3  col4\n",
       "0   1.0  100.0  -1.0   NaN\n",
       "1   2.0  200.0  -2.0   NaN\n",
       "4   5.0  500.0   NaN   NaN"
      ]
     },
     "execution_count": 57,
     "metadata": {},
     "output_type": "execute_result"
    }
   ],
   "source": [
    "df[(df['col1'].notnull() ) & \n",
    "   (df['col2'].notnull())]"
   ]
  },
  {
   "cell_type": "code",
   "execution_count": 58,
   "metadata": {
    "id": "Go-IKgCw0T_Z"
   },
   "outputs": [
    {
     "data": {
      "application/vnd.microsoft.datawrangler.viewer.v0+json": {
       "columns": [
        {
         "name": "index",
         "rawType": "int64",
         "type": "integer"
        },
        {
         "name": "col1",
         "rawType": "float64",
         "type": "float"
        },
        {
         "name": "col2",
         "rawType": "float64",
         "type": "float"
        },
        {
         "name": "col3",
         "rawType": "float64",
         "type": "float"
        },
        {
         "name": "col4",
         "rawType": "float64",
         "type": "float"
        }
       ],
       "conversionMethod": "pd.DataFrame",
       "ref": "42183cfc-376e-46c0-9f59-5ef31a4b6b3f",
       "rows": [
        [
         "0",
         "1.0",
         "100.0",
         "-1.0",
         "999.0"
        ],
        [
         "1",
         "2.0",
         "200.0",
         "-2.0",
         "999.0"
        ],
        [
         "2",
         "3.0",
         "999.0",
         "-3.0",
         "999.0"
        ],
        [
         "3",
         "999.0",
         "400.0",
         "-4.0",
         "999.0"
        ],
        [
         "4",
         "5.0",
         "500.0",
         "999.0",
         "999.0"
        ]
       ],
       "shape": {
        "columns": 4,
        "rows": 5
       }
      },
      "text/html": [
       "<div>\n",
       "<style scoped>\n",
       "    .dataframe tbody tr th:only-of-type {\n",
       "        vertical-align: middle;\n",
       "    }\n",
       "\n",
       "    .dataframe tbody tr th {\n",
       "        vertical-align: top;\n",
       "    }\n",
       "\n",
       "    .dataframe thead th {\n",
       "        text-align: right;\n",
       "    }\n",
       "</style>\n",
       "<table border=\"1\" class=\"dataframe\">\n",
       "  <thead>\n",
       "    <tr style=\"text-align: right;\">\n",
       "      <th></th>\n",
       "      <th>col1</th>\n",
       "      <th>col2</th>\n",
       "      <th>col3</th>\n",
       "      <th>col4</th>\n",
       "    </tr>\n",
       "  </thead>\n",
       "  <tbody>\n",
       "    <tr>\n",
       "      <th>0</th>\n",
       "      <td>1.0</td>\n",
       "      <td>100.0</td>\n",
       "      <td>-1.0</td>\n",
       "      <td>999.0</td>\n",
       "    </tr>\n",
       "    <tr>\n",
       "      <th>1</th>\n",
       "      <td>2.0</td>\n",
       "      <td>200.0</td>\n",
       "      <td>-2.0</td>\n",
       "      <td>999.0</td>\n",
       "    </tr>\n",
       "    <tr>\n",
       "      <th>2</th>\n",
       "      <td>3.0</td>\n",
       "      <td>999.0</td>\n",
       "      <td>-3.0</td>\n",
       "      <td>999.0</td>\n",
       "    </tr>\n",
       "    <tr>\n",
       "      <th>3</th>\n",
       "      <td>999.0</td>\n",
       "      <td>400.0</td>\n",
       "      <td>-4.0</td>\n",
       "      <td>999.0</td>\n",
       "    </tr>\n",
       "    <tr>\n",
       "      <th>4</th>\n",
       "      <td>5.0</td>\n",
       "      <td>500.0</td>\n",
       "      <td>999.0</td>\n",
       "      <td>999.0</td>\n",
       "    </tr>\n",
       "  </tbody>\n",
       "</table>\n",
       "</div>"
      ],
      "text/plain": [
       "    col1   col2   col3   col4\n",
       "0    1.0  100.0   -1.0  999.0\n",
       "1    2.0  200.0   -2.0  999.0\n",
       "2    3.0  999.0   -3.0  999.0\n",
       "3  999.0  400.0   -4.0  999.0\n",
       "4    5.0  500.0  999.0  999.0"
      ]
     },
     "execution_count": 58,
     "metadata": {},
     "output_type": "execute_result"
    }
   ],
   "source": [
    "df1 = df.copy() # creating a copy of the dataframe\n",
    "\n",
    "df1 = df1.fillna(999)\n",
    "df1"
   ]
  },
  {
   "cell_type": "code",
   "execution_count": 59,
   "metadata": {
    "id": "68LH-k_u0T_a"
   },
   "outputs": [
    {
     "data": {
      "application/vnd.microsoft.datawrangler.viewer.v0+json": {
       "columns": [
        {
         "name": "index",
         "rawType": "int64",
         "type": "integer"
        },
        {
         "name": "col1",
         "rawType": "float64",
         "type": "float"
        },
        {
         "name": "col2",
         "rawType": "float64",
         "type": "float"
        },
        {
         "name": "col3",
         "rawType": "float64",
         "type": "float"
        },
        {
         "name": "col4",
         "rawType": "float64",
         "type": "float"
        }
       ],
       "conversionMethod": "pd.DataFrame",
       "ref": "42954216-bdb7-47e6-8dec-fc5a24f97938",
       "rows": [
        [
         "0",
         "1.0",
         "100.0",
         "-1.0",
         "999.0"
        ],
        [
         "1",
         "2.0",
         "200.0",
         "-2.0",
         "999.0"
        ],
        [
         "2",
         "3.0",
         "999.0",
         "-3.0",
         "999.0"
        ],
        [
         "3",
         "999.0",
         "400.0",
         "-4.0",
         "999.0"
        ],
        [
         "4",
         "5.0",
         "500.0",
         "999.0",
         "999.0"
        ]
       ],
       "shape": {
        "columns": 4,
        "rows": 5
       }
      },
      "text/html": [
       "<div>\n",
       "<style scoped>\n",
       "    .dataframe tbody tr th:only-of-type {\n",
       "        vertical-align: middle;\n",
       "    }\n",
       "\n",
       "    .dataframe tbody tr th {\n",
       "        vertical-align: top;\n",
       "    }\n",
       "\n",
       "    .dataframe thead th {\n",
       "        text-align: right;\n",
       "    }\n",
       "</style>\n",
       "<table border=\"1\" class=\"dataframe\">\n",
       "  <thead>\n",
       "    <tr style=\"text-align: right;\">\n",
       "      <th></th>\n",
       "      <th>col1</th>\n",
       "      <th>col2</th>\n",
       "      <th>col3</th>\n",
       "      <th>col4</th>\n",
       "    </tr>\n",
       "  </thead>\n",
       "  <tbody>\n",
       "    <tr>\n",
       "      <th>0</th>\n",
       "      <td>1.0</td>\n",
       "      <td>100.0</td>\n",
       "      <td>-1.0</td>\n",
       "      <td>999.0</td>\n",
       "    </tr>\n",
       "    <tr>\n",
       "      <th>1</th>\n",
       "      <td>2.0</td>\n",
       "      <td>200.0</td>\n",
       "      <td>-2.0</td>\n",
       "      <td>999.0</td>\n",
       "    </tr>\n",
       "    <tr>\n",
       "      <th>2</th>\n",
       "      <td>3.0</td>\n",
       "      <td>999.0</td>\n",
       "      <td>-3.0</td>\n",
       "      <td>999.0</td>\n",
       "    </tr>\n",
       "    <tr>\n",
       "      <th>3</th>\n",
       "      <td>999.0</td>\n",
       "      <td>400.0</td>\n",
       "      <td>-4.0</td>\n",
       "      <td>999.0</td>\n",
       "    </tr>\n",
       "    <tr>\n",
       "      <th>4</th>\n",
       "      <td>5.0</td>\n",
       "      <td>500.0</td>\n",
       "      <td>999.0</td>\n",
       "      <td>999.0</td>\n",
       "    </tr>\n",
       "  </tbody>\n",
       "</table>\n",
       "</div>"
      ],
      "text/plain": [
       "    col1   col2   col3   col4\n",
       "0    1.0  100.0   -1.0  999.0\n",
       "1    2.0  200.0   -2.0  999.0\n",
       "2    3.0  999.0   -3.0  999.0\n",
       "3  999.0  400.0   -4.0  999.0\n",
       "4    5.0  500.0  999.0  999.0"
      ]
     },
     "execution_count": 59,
     "metadata": {},
     "output_type": "execute_result"
    }
   ],
   "source": [
    "df1"
   ]
  },
  {
   "cell_type": "code",
   "execution_count": 60,
   "metadata": {
    "id": "BxQZF8tp0T_a"
   },
   "outputs": [
    {
     "name": "stdout",
     "output_type": "stream",
     "text": [
      "   col1   col2  col3  col4\n",
      "0   1.0  100.0  -1.0   NaN\n",
      "1   2.0  200.0  -2.0   NaN\n",
      "2   3.0    NaN  -3.0   NaN\n",
      "3   NaN  400.0  -4.0   NaN\n",
      "4   5.0  500.0   NaN   NaN\n",
      "   col1   col2  col3  col4\n",
      "0   1.0  100.0  -1.0   NaN\n",
      "1   2.0  200.0  -2.0   NaN\n",
      "2   3.0  400.0  -3.0   NaN\n",
      "3   5.0  400.0  -4.0   NaN\n",
      "4   5.0  500.0   NaN   NaN\n"
     ]
    }
   ],
   "source": [
    "df1 = df.copy()\n",
    "\n",
    "print(df1)\n",
    "# ffill: propagate last valid observation forward to next valid backfill / bfill: use next valid observation to fill gap.\n",
    "print(df1.fillna(method='bfill')) # method = 'ffill' "
   ]
  },
  {
   "cell_type": "code",
   "execution_count": 61,
   "metadata": {
    "id": "u-jGl01tKpAM"
   },
   "outputs": [
    {
     "data": {
      "application/vnd.microsoft.datawrangler.viewer.v0+json": {
       "columns": [
        {
         "name": "index",
         "rawType": "int64",
         "type": "integer"
        },
        {
         "name": "col1",
         "rawType": "float64",
         "type": "float"
        },
        {
         "name": "col2",
         "rawType": "float64",
         "type": "float"
        },
        {
         "name": "col3",
         "rawType": "float64",
         "type": "float"
        },
        {
         "name": "col4",
         "rawType": "float64",
         "type": "float"
        }
       ],
       "conversionMethod": "pd.DataFrame",
       "ref": "478b0877-4158-4511-8b6a-c46c1db46e5d",
       "rows": [
        [
         "0",
         "1.0",
         "100.0",
         "-1.0",
         null
        ],
        [
         "1",
         "2.0",
         "200.0",
         "-2.0",
         null
        ],
        [
         "2",
         "3.0",
         "200.0",
         "-3.0",
         null
        ],
        [
         "3",
         "3.0",
         "400.0",
         "-4.0",
         null
        ],
        [
         "4",
         "5.0",
         "500.0",
         "-4.0",
         null
        ]
       ],
       "shape": {
        "columns": 4,
        "rows": 5
       }
      },
      "text/html": [
       "<div>\n",
       "<style scoped>\n",
       "    .dataframe tbody tr th:only-of-type {\n",
       "        vertical-align: middle;\n",
       "    }\n",
       "\n",
       "    .dataframe tbody tr th {\n",
       "        vertical-align: top;\n",
       "    }\n",
       "\n",
       "    .dataframe thead th {\n",
       "        text-align: right;\n",
       "    }\n",
       "</style>\n",
       "<table border=\"1\" class=\"dataframe\">\n",
       "  <thead>\n",
       "    <tr style=\"text-align: right;\">\n",
       "      <th></th>\n",
       "      <th>col1</th>\n",
       "      <th>col2</th>\n",
       "      <th>col3</th>\n",
       "      <th>col4</th>\n",
       "    </tr>\n",
       "  </thead>\n",
       "  <tbody>\n",
       "    <tr>\n",
       "      <th>0</th>\n",
       "      <td>1.0</td>\n",
       "      <td>100.0</td>\n",
       "      <td>-1.0</td>\n",
       "      <td>NaN</td>\n",
       "    </tr>\n",
       "    <tr>\n",
       "      <th>1</th>\n",
       "      <td>2.0</td>\n",
       "      <td>200.0</td>\n",
       "      <td>-2.0</td>\n",
       "      <td>NaN</td>\n",
       "    </tr>\n",
       "    <tr>\n",
       "      <th>2</th>\n",
       "      <td>3.0</td>\n",
       "      <td>200.0</td>\n",
       "      <td>-3.0</td>\n",
       "      <td>NaN</td>\n",
       "    </tr>\n",
       "    <tr>\n",
       "      <th>3</th>\n",
       "      <td>3.0</td>\n",
       "      <td>400.0</td>\n",
       "      <td>-4.0</td>\n",
       "      <td>NaN</td>\n",
       "    </tr>\n",
       "    <tr>\n",
       "      <th>4</th>\n",
       "      <td>5.0</td>\n",
       "      <td>500.0</td>\n",
       "      <td>-4.0</td>\n",
       "      <td>NaN</td>\n",
       "    </tr>\n",
       "  </tbody>\n",
       "</table>\n",
       "</div>"
      ],
      "text/plain": [
       "   col1   col2  col3  col4\n",
       "0   1.0  100.0  -1.0   NaN\n",
       "1   2.0  200.0  -2.0   NaN\n",
       "2   3.0  200.0  -3.0   NaN\n",
       "3   3.0  400.0  -4.0   NaN\n",
       "4   5.0  500.0  -4.0   NaN"
      ]
     },
     "execution_count": 61,
     "metadata": {},
     "output_type": "execute_result"
    }
   ],
   "source": [
    "df1.fillna(method='ffill') # method = 'ffill' "
   ]
  },
  {
   "cell_type": "code",
   "execution_count": 62,
   "metadata": {
    "id": "72BUDJeJ0T_a"
   },
   "outputs": [
    {
     "data": {
      "application/vnd.microsoft.datawrangler.viewer.v0+json": {
       "columns": [
        {
         "name": "index",
         "rawType": "int64",
         "type": "integer"
        },
        {
         "name": "col1",
         "rawType": "float64",
         "type": "float"
        },
        {
         "name": "col2",
         "rawType": "float64",
         "type": "float"
        },
        {
         "name": "col3",
         "rawType": "float64",
         "type": "float"
        },
        {
         "name": "col4",
         "rawType": "float64",
         "type": "float"
        }
       ],
       "conversionMethod": "pd.DataFrame",
       "ref": "b85738c0-3d00-46ab-af00-f72c4b71f78c",
       "rows": [
        [
         "0",
         "1.0",
         "100.0",
         "-1.0",
         "999.0"
        ],
        [
         "1",
         "2.0",
         "200.0",
         "-2.0",
         "999.0"
        ],
        [
         "2",
         "3.0",
         "999.0",
         "-3.0",
         "999.0"
        ],
        [
         "3",
         "999.0",
         "400.0",
         "-4.0",
         "999.0"
        ],
        [
         "4",
         "5.0",
         "500.0",
         "999.0",
         "999.0"
        ]
       ],
       "shape": {
        "columns": 4,
        "rows": 5
       }
      },
      "text/html": [
       "<div>\n",
       "<style scoped>\n",
       "    .dataframe tbody tr th:only-of-type {\n",
       "        vertical-align: middle;\n",
       "    }\n",
       "\n",
       "    .dataframe tbody tr th {\n",
       "        vertical-align: top;\n",
       "    }\n",
       "\n",
       "    .dataframe thead th {\n",
       "        text-align: right;\n",
       "    }\n",
       "</style>\n",
       "<table border=\"1\" class=\"dataframe\">\n",
       "  <thead>\n",
       "    <tr style=\"text-align: right;\">\n",
       "      <th></th>\n",
       "      <th>col1</th>\n",
       "      <th>col2</th>\n",
       "      <th>col3</th>\n",
       "      <th>col4</th>\n",
       "    </tr>\n",
       "  </thead>\n",
       "  <tbody>\n",
       "    <tr>\n",
       "      <th>0</th>\n",
       "      <td>1.0</td>\n",
       "      <td>100.0</td>\n",
       "      <td>-1.0</td>\n",
       "      <td>999.0</td>\n",
       "    </tr>\n",
       "    <tr>\n",
       "      <th>1</th>\n",
       "      <td>2.0</td>\n",
       "      <td>200.0</td>\n",
       "      <td>-2.0</td>\n",
       "      <td>999.0</td>\n",
       "    </tr>\n",
       "    <tr>\n",
       "      <th>2</th>\n",
       "      <td>3.0</td>\n",
       "      <td>999.0</td>\n",
       "      <td>-3.0</td>\n",
       "      <td>999.0</td>\n",
       "    </tr>\n",
       "    <tr>\n",
       "      <th>3</th>\n",
       "      <td>999.0</td>\n",
       "      <td>400.0</td>\n",
       "      <td>-4.0</td>\n",
       "      <td>999.0</td>\n",
       "    </tr>\n",
       "    <tr>\n",
       "      <th>4</th>\n",
       "      <td>5.0</td>\n",
       "      <td>500.0</td>\n",
       "      <td>999.0</td>\n",
       "      <td>999.0</td>\n",
       "    </tr>\n",
       "  </tbody>\n",
       "</table>\n",
       "</div>"
      ],
      "text/plain": [
       "    col1   col2   col3   col4\n",
       "0    1.0  100.0   -1.0  999.0\n",
       "1    2.0  200.0   -2.0  999.0\n",
       "2    3.0  999.0   -3.0  999.0\n",
       "3  999.0  400.0   -4.0  999.0\n",
       "4    5.0  500.0  999.0  999.0"
      ]
     },
     "execution_count": 62,
     "metadata": {},
     "output_type": "execute_result"
    }
   ],
   "source": [
    "df1 = df.copy()\n",
    "df1.fillna(999,inplace=True) # inplace=True, inplace=False\n",
    "df1"
   ]
  },
  {
   "cell_type": "code",
   "execution_count": 63,
   "metadata": {
    "id": "nUYDtjFB0T_a"
   },
   "outputs": [
    {
     "data": {
      "application/vnd.microsoft.datawrangler.viewer.v0+json": {
       "columns": [
        {
         "name": "index",
         "rawType": "int64",
         "type": "integer"
        },
        {
         "name": "col1",
         "rawType": "float64",
         "type": "float"
        },
        {
         "name": "col2",
         "rawType": "float64",
         "type": "float"
        },
        {
         "name": "col3",
         "rawType": "float64",
         "type": "float"
        },
        {
         "name": "col4",
         "rawType": "float64",
         "type": "float"
        }
       ],
       "conversionMethod": "pd.DataFrame",
       "ref": "4cd5cb51-b4e7-4783-9a71-c9dd99887dac",
       "rows": [
        [
         "0",
         "1.0",
         "100.0",
         "-1.0",
         null
        ],
        [
         "1",
         "2.0",
         "200.0",
         "-2.0",
         null
        ],
        [
         "2",
         "3.0",
         "300.0",
         "-3.0",
         null
        ],
        [
         "3",
         "4.0",
         "400.0",
         "-4.0",
         null
        ],
        [
         "4",
         "5.0",
         "500.0",
         "-4.0",
         null
        ]
       ],
       "shape": {
        "columns": 4,
        "rows": 5
       }
      },
      "text/html": [
       "<div>\n",
       "<style scoped>\n",
       "    .dataframe tbody tr th:only-of-type {\n",
       "        vertical-align: middle;\n",
       "    }\n",
       "\n",
       "    .dataframe tbody tr th {\n",
       "        vertical-align: top;\n",
       "    }\n",
       "\n",
       "    .dataframe thead th {\n",
       "        text-align: right;\n",
       "    }\n",
       "</style>\n",
       "<table border=\"1\" class=\"dataframe\">\n",
       "  <thead>\n",
       "    <tr style=\"text-align: right;\">\n",
       "      <th></th>\n",
       "      <th>col1</th>\n",
       "      <th>col2</th>\n",
       "      <th>col3</th>\n",
       "      <th>col4</th>\n",
       "    </tr>\n",
       "  </thead>\n",
       "  <tbody>\n",
       "    <tr>\n",
       "      <th>0</th>\n",
       "      <td>1.0</td>\n",
       "      <td>100.0</td>\n",
       "      <td>-1.0</td>\n",
       "      <td>NaN</td>\n",
       "    </tr>\n",
       "    <tr>\n",
       "      <th>1</th>\n",
       "      <td>2.0</td>\n",
       "      <td>200.0</td>\n",
       "      <td>-2.0</td>\n",
       "      <td>NaN</td>\n",
       "    </tr>\n",
       "    <tr>\n",
       "      <th>2</th>\n",
       "      <td>3.0</td>\n",
       "      <td>300.0</td>\n",
       "      <td>-3.0</td>\n",
       "      <td>NaN</td>\n",
       "    </tr>\n",
       "    <tr>\n",
       "      <th>3</th>\n",
       "      <td>4.0</td>\n",
       "      <td>400.0</td>\n",
       "      <td>-4.0</td>\n",
       "      <td>NaN</td>\n",
       "    </tr>\n",
       "    <tr>\n",
       "      <th>4</th>\n",
       "      <td>5.0</td>\n",
       "      <td>500.0</td>\n",
       "      <td>-4.0</td>\n",
       "      <td>NaN</td>\n",
       "    </tr>\n",
       "  </tbody>\n",
       "</table>\n",
       "</div>"
      ],
      "text/plain": [
       "   col1   col2  col3  col4\n",
       "0   1.0  100.0  -1.0   NaN\n",
       "1   2.0  200.0  -2.0   NaN\n",
       "2   3.0  300.0  -3.0   NaN\n",
       "3   4.0  400.0  -4.0   NaN\n",
       "4   5.0  500.0  -4.0   NaN"
      ]
     },
     "execution_count": 63,
     "metadata": {},
     "output_type": "execute_result"
    }
   ],
   "source": [
    "df1 = df.copy()\n",
    "df1 = df1.interpolate(method='linear')\n",
    "df1\n",
    "# Linear interpolation is a method used to estimate missing values in a dataset by filling them with values that lie on a straight line between known data points."
   ]
  },
  {
   "cell_type": "code",
   "execution_count": 1,
   "metadata": {},
   "outputs": [
    {
     "name": "stdout",
     "output_type": "stream",
     "text": [
      "Original DataFrame:\n",
      "     A    B\n",
      "0  1.0  NaN\n",
      "1  NaN  2.0\n",
      "2  3.0  NaN\n",
      "3  NaN  4.0\n",
      "4  5.0  5.0\n",
      "\n",
      "Interpolated DataFrame:\n",
      "     A    B\n",
      "0  1.0  NaN\n",
      "1  2.0  2.0\n",
      "2  3.0  3.0\n",
      "3  4.0  4.0\n",
      "4  5.0  5.0\n"
     ]
    }
   ],
   "source": [
    "import pandas as pd\n",
    "import numpy as np\n",
    "\n",
    "# Create a DataFrame with missing values\n",
    "data = {'A': [1, np.nan, 3, np.nan, 5],\n",
    "        'B': [np.nan, 2, np.nan, 4, 5]}\n",
    "df = pd.DataFrame(data)\n",
    "\n",
    "print(\"Original DataFrame:\")\n",
    "print(df)\n",
    "\n",
    "# Perform linear interpolation on the DataFrame\n",
    "df_interpolated = df.interpolate(method='linear')\n",
    "\n",
    "print(\"\\nInterpolated DataFrame:\")\n",
    "print(df_interpolated)"
   ]
  },
  {
   "cell_type": "markdown",
   "metadata": {
    "id": "U_lcw-gy0T_a"
   },
   "source": [
    "# Pandas Join functions"
   ]
  },
  {
   "cell_type": "code",
   "execution_count": 2,
   "metadata": {
    "id": "V8-QFwkH0T_a"
   },
   "outputs": [],
   "source": [
    "dict1 = {'col1': [1,2,3,4,5],\n",
    "         'col2': ['a','b','c','d','e']}\n",
    "\n",
    "dict2 = {'col1': [20,30,40,50,60],\n",
    "         'col2': ['b','c','d','e','f']}\n",
    "\n",
    "df1 = pd.DataFrame(dict1)\n",
    "\n",
    "df2 = pd.DataFrame(dict2)"
   ]
  },
  {
   "cell_type": "code",
   "execution_count": 3,
   "metadata": {
    "id": "EDZZeyLh0T_a"
   },
   "outputs": [
    {
     "data": {
      "application/vnd.microsoft.datawrangler.viewer.v0+json": {
       "columns": [
        {
         "name": "index",
         "rawType": "int64",
         "type": "integer"
        },
        {
         "name": "col1",
         "rawType": "int64",
         "type": "integer"
        },
        {
         "name": "col2",
         "rawType": "object",
         "type": "string"
        }
       ],
       "conversionMethod": "pd.DataFrame",
       "ref": "98ca1753-0ca5-4794-9b47-4688b04d98b1",
       "rows": [
        [
         "0",
         "1",
         "a"
        ],
        [
         "1",
         "2",
         "b"
        ],
        [
         "2",
         "3",
         "c"
        ],
        [
         "3",
         "4",
         "d"
        ],
        [
         "4",
         "5",
         "e"
        ]
       ],
       "shape": {
        "columns": 2,
        "rows": 5
       }
      },
      "text/html": [
       "<div>\n",
       "<style scoped>\n",
       "    .dataframe tbody tr th:only-of-type {\n",
       "        vertical-align: middle;\n",
       "    }\n",
       "\n",
       "    .dataframe tbody tr th {\n",
       "        vertical-align: top;\n",
       "    }\n",
       "\n",
       "    .dataframe thead th {\n",
       "        text-align: right;\n",
       "    }\n",
       "</style>\n",
       "<table border=\"1\" class=\"dataframe\">\n",
       "  <thead>\n",
       "    <tr style=\"text-align: right;\">\n",
       "      <th></th>\n",
       "      <th>col1</th>\n",
       "      <th>col2</th>\n",
       "    </tr>\n",
       "  </thead>\n",
       "  <tbody>\n",
       "    <tr>\n",
       "      <th>0</th>\n",
       "      <td>1</td>\n",
       "      <td>a</td>\n",
       "    </tr>\n",
       "    <tr>\n",
       "      <th>1</th>\n",
       "      <td>2</td>\n",
       "      <td>b</td>\n",
       "    </tr>\n",
       "    <tr>\n",
       "      <th>2</th>\n",
       "      <td>3</td>\n",
       "      <td>c</td>\n",
       "    </tr>\n",
       "    <tr>\n",
       "      <th>3</th>\n",
       "      <td>4</td>\n",
       "      <td>d</td>\n",
       "    </tr>\n",
       "    <tr>\n",
       "      <th>4</th>\n",
       "      <td>5</td>\n",
       "      <td>e</td>\n",
       "    </tr>\n",
       "  </tbody>\n",
       "</table>\n",
       "</div>"
      ],
      "text/plain": [
       "   col1 col2\n",
       "0     1    a\n",
       "1     2    b\n",
       "2     3    c\n",
       "3     4    d\n",
       "4     5    e"
      ]
     },
     "execution_count": 3,
     "metadata": {},
     "output_type": "execute_result"
    }
   ],
   "source": [
    "df1"
   ]
  },
  {
   "cell_type": "code",
   "execution_count": 4,
   "metadata": {
    "id": "MSVsdQjb0T_a"
   },
   "outputs": [
    {
     "data": {
      "application/vnd.microsoft.datawrangler.viewer.v0+json": {
       "columns": [
        {
         "name": "index",
         "rawType": "int64",
         "type": "integer"
        },
        {
         "name": "col1",
         "rawType": "int64",
         "type": "integer"
        },
        {
         "name": "col2",
         "rawType": "object",
         "type": "string"
        }
       ],
       "conversionMethod": "pd.DataFrame",
       "ref": "0cd32f59-f459-4123-9d1a-8f67d8055636",
       "rows": [
        [
         "0",
         "20",
         "b"
        ],
        [
         "1",
         "30",
         "c"
        ],
        [
         "2",
         "40",
         "d"
        ],
        [
         "3",
         "50",
         "e"
        ],
        [
         "4",
         "60",
         "f"
        ]
       ],
       "shape": {
        "columns": 2,
        "rows": 5
       }
      },
      "text/html": [
       "<div>\n",
       "<style scoped>\n",
       "    .dataframe tbody tr th:only-of-type {\n",
       "        vertical-align: middle;\n",
       "    }\n",
       "\n",
       "    .dataframe tbody tr th {\n",
       "        vertical-align: top;\n",
       "    }\n",
       "\n",
       "    .dataframe thead th {\n",
       "        text-align: right;\n",
       "    }\n",
       "</style>\n",
       "<table border=\"1\" class=\"dataframe\">\n",
       "  <thead>\n",
       "    <tr style=\"text-align: right;\">\n",
       "      <th></th>\n",
       "      <th>col1</th>\n",
       "      <th>col2</th>\n",
       "    </tr>\n",
       "  </thead>\n",
       "  <tbody>\n",
       "    <tr>\n",
       "      <th>0</th>\n",
       "      <td>20</td>\n",
       "      <td>b</td>\n",
       "    </tr>\n",
       "    <tr>\n",
       "      <th>1</th>\n",
       "      <td>30</td>\n",
       "      <td>c</td>\n",
       "    </tr>\n",
       "    <tr>\n",
       "      <th>2</th>\n",
       "      <td>40</td>\n",
       "      <td>d</td>\n",
       "    </tr>\n",
       "    <tr>\n",
       "      <th>3</th>\n",
       "      <td>50</td>\n",
       "      <td>e</td>\n",
       "    </tr>\n",
       "    <tr>\n",
       "      <th>4</th>\n",
       "      <td>60</td>\n",
       "      <td>f</td>\n",
       "    </tr>\n",
       "  </tbody>\n",
       "</table>\n",
       "</div>"
      ],
      "text/plain": [
       "   col1 col2\n",
       "0    20    b\n",
       "1    30    c\n",
       "2    40    d\n",
       "3    50    e\n",
       "4    60    f"
      ]
     },
     "execution_count": 4,
     "metadata": {},
     "output_type": "execute_result"
    }
   ],
   "source": [
    "df2"
   ]
  },
  {
   "cell_type": "code",
   "execution_count": null,
   "metadata": {
    "id": "X4ZPhK7Z0T_a"
   },
   "outputs": [
    {
     "data": {
      "application/vnd.microsoft.datawrangler.viewer.v0+json": {
       "columns": [
        {
         "name": "index",
         "rawType": "int64",
         "type": "integer"
        },
        {
         "name": "col1_x",
         "rawType": "int64",
         "type": "integer"
        },
        {
         "name": "col2",
         "rawType": "object",
         "type": "string"
        },
        {
         "name": "col1_y",
         "rawType": "float64",
         "type": "float"
        }
       ],
       "conversionMethod": "pd.DataFrame",
       "ref": "6f3d7bf8-3103-4ab8-af57-e771ab2227a7",
       "rows": [
        [
         "0",
         "1",
         "a",
         null
        ],
        [
         "1",
         "2",
         "b",
         "20.0"
        ],
        [
         "2",
         "3",
         "c",
         "30.0"
        ],
        [
         "3",
         "4",
         "d",
         "40.0"
        ],
        [
         "4",
         "5",
         "e",
         "50.0"
        ]
       ],
       "shape": {
        "columns": 3,
        "rows": 5
       }
      },
      "text/html": [
       "<div>\n",
       "<style scoped>\n",
       "    .dataframe tbody tr th:only-of-type {\n",
       "        vertical-align: middle;\n",
       "    }\n",
       "\n",
       "    .dataframe tbody tr th {\n",
       "        vertical-align: top;\n",
       "    }\n",
       "\n",
       "    .dataframe thead th {\n",
       "        text-align: right;\n",
       "    }\n",
       "</style>\n",
       "<table border=\"1\" class=\"dataframe\">\n",
       "  <thead>\n",
       "    <tr style=\"text-align: right;\">\n",
       "      <th></th>\n",
       "      <th>col1_x</th>\n",
       "      <th>col2</th>\n",
       "      <th>col1_y</th>\n",
       "    </tr>\n",
       "  </thead>\n",
       "  <tbody>\n",
       "    <tr>\n",
       "      <th>0</th>\n",
       "      <td>1</td>\n",
       "      <td>a</td>\n",
       "      <td>NaN</td>\n",
       "    </tr>\n",
       "    <tr>\n",
       "      <th>1</th>\n",
       "      <td>2</td>\n",
       "      <td>b</td>\n",
       "      <td>20.0</td>\n",
       "    </tr>\n",
       "    <tr>\n",
       "      <th>2</th>\n",
       "      <td>3</td>\n",
       "      <td>c</td>\n",
       "      <td>30.0</td>\n",
       "    </tr>\n",
       "    <tr>\n",
       "      <th>3</th>\n",
       "      <td>4</td>\n",
       "      <td>d</td>\n",
       "      <td>40.0</td>\n",
       "    </tr>\n",
       "    <tr>\n",
       "      <th>4</th>\n",
       "      <td>5</td>\n",
       "      <td>e</td>\n",
       "      <td>50.0</td>\n",
       "    </tr>\n",
       "  </tbody>\n",
       "</table>\n",
       "</div>"
      ],
      "text/plain": [
       "   col1_x col2  col1_y\n",
       "0       1    a     NaN\n",
       "1       2    b    20.0\n",
       "2       3    c    30.0\n",
       "3       4    d    40.0\n",
       "4       5    e    50.0"
      ]
     },
     "execution_count": 6,
     "metadata": {},
     "output_type": "execute_result"
    }
   ],
   "source": [
    "left_merge = pd.merge(df1,df2, how='left', on='col2')\n",
    "left_merge"
   ]
  },
  {
   "cell_type": "code",
   "execution_count": 7,
   "metadata": {
    "id": "prkOCaNa0T_a"
   },
   "outputs": [
    {
     "data": {
      "application/vnd.microsoft.datawrangler.viewer.v0+json": {
       "columns": [
        {
         "name": "index",
         "rawType": "int64",
         "type": "integer"
        },
        {
         "name": "col1_x",
         "rawType": "float64",
         "type": "float"
        },
        {
         "name": "col2",
         "rawType": "object",
         "type": "string"
        },
        {
         "name": "col1_y",
         "rawType": "int64",
         "type": "integer"
        }
       ],
       "conversionMethod": "pd.DataFrame",
       "ref": "2157840e-fcad-4101-9cd3-b50ad331ee38",
       "rows": [
        [
         "0",
         "2.0",
         "b",
         "20"
        ],
        [
         "1",
         "3.0",
         "c",
         "30"
        ],
        [
         "2",
         "4.0",
         "d",
         "40"
        ],
        [
         "3",
         "5.0",
         "e",
         "50"
        ],
        [
         "4",
         null,
         "f",
         "60"
        ]
       ],
       "shape": {
        "columns": 3,
        "rows": 5
       }
      },
      "text/html": [
       "<div>\n",
       "<style scoped>\n",
       "    .dataframe tbody tr th:only-of-type {\n",
       "        vertical-align: middle;\n",
       "    }\n",
       "\n",
       "    .dataframe tbody tr th {\n",
       "        vertical-align: top;\n",
       "    }\n",
       "\n",
       "    .dataframe thead th {\n",
       "        text-align: right;\n",
       "    }\n",
       "</style>\n",
       "<table border=\"1\" class=\"dataframe\">\n",
       "  <thead>\n",
       "    <tr style=\"text-align: right;\">\n",
       "      <th></th>\n",
       "      <th>col1_x</th>\n",
       "      <th>col2</th>\n",
       "      <th>col1_y</th>\n",
       "    </tr>\n",
       "  </thead>\n",
       "  <tbody>\n",
       "    <tr>\n",
       "      <th>0</th>\n",
       "      <td>2.0</td>\n",
       "      <td>b</td>\n",
       "      <td>20</td>\n",
       "    </tr>\n",
       "    <tr>\n",
       "      <th>1</th>\n",
       "      <td>3.0</td>\n",
       "      <td>c</td>\n",
       "      <td>30</td>\n",
       "    </tr>\n",
       "    <tr>\n",
       "      <th>2</th>\n",
       "      <td>4.0</td>\n",
       "      <td>d</td>\n",
       "      <td>40</td>\n",
       "    </tr>\n",
       "    <tr>\n",
       "      <th>3</th>\n",
       "      <td>5.0</td>\n",
       "      <td>e</td>\n",
       "      <td>50</td>\n",
       "    </tr>\n",
       "    <tr>\n",
       "      <th>4</th>\n",
       "      <td>NaN</td>\n",
       "      <td>f</td>\n",
       "      <td>60</td>\n",
       "    </tr>\n",
       "  </tbody>\n",
       "</table>\n",
       "</div>"
      ],
      "text/plain": [
       "   col1_x col2  col1_y\n",
       "0     2.0    b      20\n",
       "1     3.0    c      30\n",
       "2     4.0    d      40\n",
       "3     5.0    e      50\n",
       "4     NaN    f      60"
      ]
     },
     "execution_count": 7,
     "metadata": {},
     "output_type": "execute_result"
    }
   ],
   "source": [
    "right_merge = pd.merge(df1,df2,how='right',on='col2')\n",
    "right_merge\n",
    "# A right merge, also known as a right join, is similar to a left merge but includes all rows from the right DataFrame even if there are unmatched rows in the left DataFrame."
   ]
  },
  {
   "cell_type": "code",
   "execution_count": 8,
   "metadata": {
    "id": "xo3WsvHs0T_b"
   },
   "outputs": [
    {
     "data": {
      "application/vnd.microsoft.datawrangler.viewer.v0+json": {
       "columns": [
        {
         "name": "index",
         "rawType": "int64",
         "type": "integer"
        },
        {
         "name": "col1_x",
         "rawType": "int64",
         "type": "integer"
        },
        {
         "name": "col2",
         "rawType": "object",
         "type": "string"
        },
        {
         "name": "col1_y",
         "rawType": "int64",
         "type": "integer"
        }
       ],
       "conversionMethod": "pd.DataFrame",
       "ref": "51aa4738-92b2-4b7d-a208-047e5f94c5fd",
       "rows": [
        [
         "0",
         "2",
         "b",
         "20"
        ],
        [
         "1",
         "3",
         "c",
         "30"
        ],
        [
         "2",
         "4",
         "d",
         "40"
        ],
        [
         "3",
         "5",
         "e",
         "50"
        ]
       ],
       "shape": {
        "columns": 3,
        "rows": 4
       }
      },
      "text/html": [
       "<div>\n",
       "<style scoped>\n",
       "    .dataframe tbody tr th:only-of-type {\n",
       "        vertical-align: middle;\n",
       "    }\n",
       "\n",
       "    .dataframe tbody tr th {\n",
       "        vertical-align: top;\n",
       "    }\n",
       "\n",
       "    .dataframe thead th {\n",
       "        text-align: right;\n",
       "    }\n",
       "</style>\n",
       "<table border=\"1\" class=\"dataframe\">\n",
       "  <thead>\n",
       "    <tr style=\"text-align: right;\">\n",
       "      <th></th>\n",
       "      <th>col1_x</th>\n",
       "      <th>col2</th>\n",
       "      <th>col1_y</th>\n",
       "    </tr>\n",
       "  </thead>\n",
       "  <tbody>\n",
       "    <tr>\n",
       "      <th>0</th>\n",
       "      <td>2</td>\n",
       "      <td>b</td>\n",
       "      <td>20</td>\n",
       "    </tr>\n",
       "    <tr>\n",
       "      <th>1</th>\n",
       "      <td>3</td>\n",
       "      <td>c</td>\n",
       "      <td>30</td>\n",
       "    </tr>\n",
       "    <tr>\n",
       "      <th>2</th>\n",
       "      <td>4</td>\n",
       "      <td>d</td>\n",
       "      <td>40</td>\n",
       "    </tr>\n",
       "    <tr>\n",
       "      <th>3</th>\n",
       "      <td>5</td>\n",
       "      <td>e</td>\n",
       "      <td>50</td>\n",
       "    </tr>\n",
       "  </tbody>\n",
       "</table>\n",
       "</div>"
      ],
      "text/plain": [
       "   col1_x col2  col1_y\n",
       "0       2    b      20\n",
       "1       3    c      30\n",
       "2       4    d      40\n",
       "3       5    e      50"
      ]
     },
     "execution_count": 8,
     "metadata": {},
     "output_type": "execute_result"
    }
   ],
   "source": [
    "inner1 = pd.merge(df1,df2,how='inner',on='col2')\n",
    "inner1"
   ]
  },
  {
   "cell_type": "code",
   "execution_count": 9,
   "metadata": {
    "id": "uTU--j3m0T_b"
   },
   "outputs": [
    {
     "data": {
      "application/vnd.microsoft.datawrangler.viewer.v0+json": {
       "columns": [
        {
         "name": "index",
         "rawType": "int64",
         "type": "integer"
        },
        {
         "name": "col1_x",
         "rawType": "float64",
         "type": "float"
        },
        {
         "name": "col2",
         "rawType": "object",
         "type": "string"
        },
        {
         "name": "col1_y",
         "rawType": "float64",
         "type": "float"
        }
       ],
       "conversionMethod": "pd.DataFrame",
       "ref": "9e17e051-b107-4d07-a7cf-943fa176e1ec",
       "rows": [
        [
         "0",
         "1.0",
         "a",
         null
        ],
        [
         "1",
         "2.0",
         "b",
         "20.0"
        ],
        [
         "2",
         "3.0",
         "c",
         "30.0"
        ],
        [
         "3",
         "4.0",
         "d",
         "40.0"
        ],
        [
         "4",
         "5.0",
         "e",
         "50.0"
        ],
        [
         "5",
         null,
         "f",
         "60.0"
        ]
       ],
       "shape": {
        "columns": 3,
        "rows": 6
       }
      },
      "text/html": [
       "<div>\n",
       "<style scoped>\n",
       "    .dataframe tbody tr th:only-of-type {\n",
       "        vertical-align: middle;\n",
       "    }\n",
       "\n",
       "    .dataframe tbody tr th {\n",
       "        vertical-align: top;\n",
       "    }\n",
       "\n",
       "    .dataframe thead th {\n",
       "        text-align: right;\n",
       "    }\n",
       "</style>\n",
       "<table border=\"1\" class=\"dataframe\">\n",
       "  <thead>\n",
       "    <tr style=\"text-align: right;\">\n",
       "      <th></th>\n",
       "      <th>col1_x</th>\n",
       "      <th>col2</th>\n",
       "      <th>col1_y</th>\n",
       "    </tr>\n",
       "  </thead>\n",
       "  <tbody>\n",
       "    <tr>\n",
       "      <th>0</th>\n",
       "      <td>1.0</td>\n",
       "      <td>a</td>\n",
       "      <td>NaN</td>\n",
       "    </tr>\n",
       "    <tr>\n",
       "      <th>1</th>\n",
       "      <td>2.0</td>\n",
       "      <td>b</td>\n",
       "      <td>20.0</td>\n",
       "    </tr>\n",
       "    <tr>\n",
       "      <th>2</th>\n",
       "      <td>3.0</td>\n",
       "      <td>c</td>\n",
       "      <td>30.0</td>\n",
       "    </tr>\n",
       "    <tr>\n",
       "      <th>3</th>\n",
       "      <td>4.0</td>\n",
       "      <td>d</td>\n",
       "      <td>40.0</td>\n",
       "    </tr>\n",
       "    <tr>\n",
       "      <th>4</th>\n",
       "      <td>5.0</td>\n",
       "      <td>e</td>\n",
       "      <td>50.0</td>\n",
       "    </tr>\n",
       "    <tr>\n",
       "      <th>5</th>\n",
       "      <td>NaN</td>\n",
       "      <td>f</td>\n",
       "      <td>60.0</td>\n",
       "    </tr>\n",
       "  </tbody>\n",
       "</table>\n",
       "</div>"
      ],
      "text/plain": [
       "   col1_x col2  col1_y\n",
       "0     1.0    a     NaN\n",
       "1     2.0    b    20.0\n",
       "2     3.0    c    30.0\n",
       "3     4.0    d    40.0\n",
       "4     5.0    e    50.0\n",
       "5     NaN    f    60.0"
      ]
     },
     "execution_count": 9,
     "metadata": {},
     "output_type": "execute_result"
    }
   ],
   "source": [
    "outer1 = pd.merge(df1,df2,how='outer',on='col2')\n",
    "outer1"
   ]
  },
  {
   "cell_type": "code",
   "execution_count": 10,
   "metadata": {
    "id": "Eqj0VS180T_b"
   },
   "outputs": [
    {
     "data": {
      "application/vnd.microsoft.datawrangler.viewer.v0+json": {
       "columns": [
        {
         "name": "(None, None)",
         "rawType": "object",
         "type": "string"
        },
        {
         "name": "col1",
         "rawType": "int64",
         "type": "integer"
        },
        {
         "name": "col2",
         "rawType": "object",
         "type": "string"
        }
       ],
       "conversionMethod": "pd.DataFrame",
       "ref": "701159de-581b-4071-831a-c5e6ab193f4c",
       "rows": [
        [
         "('AAA', 0)",
         "1",
         "a"
        ],
        [
         "('AAA', 1)",
         "2",
         "b"
        ],
        [
         "('AAA', 2)",
         "3",
         "c"
        ],
        [
         "('AAA', 3)",
         "4",
         "d"
        ],
        [
         "('AAA', 4)",
         "5",
         "e"
        ],
        [
         "('BBB', 0)",
         "20",
         "b"
        ],
        [
         "('BBB', 1)",
         "30",
         "c"
        ],
        [
         "('BBB', 2)",
         "40",
         "d"
        ],
        [
         "('BBB', 3)",
         "50",
         "e"
        ],
        [
         "('BBB', 4)",
         "60",
         "f"
        ]
       ],
       "shape": {
        "columns": 2,
        "rows": 10
       }
      },
      "text/html": [
       "<div>\n",
       "<style scoped>\n",
       "    .dataframe tbody tr th:only-of-type {\n",
       "        vertical-align: middle;\n",
       "    }\n",
       "\n",
       "    .dataframe tbody tr th {\n",
       "        vertical-align: top;\n",
       "    }\n",
       "\n",
       "    .dataframe thead th {\n",
       "        text-align: right;\n",
       "    }\n",
       "</style>\n",
       "<table border=\"1\" class=\"dataframe\">\n",
       "  <thead>\n",
       "    <tr style=\"text-align: right;\">\n",
       "      <th></th>\n",
       "      <th></th>\n",
       "      <th>col1</th>\n",
       "      <th>col2</th>\n",
       "    </tr>\n",
       "  </thead>\n",
       "  <tbody>\n",
       "    <tr>\n",
       "      <th rowspan=\"5\" valign=\"top\">AAA</th>\n",
       "      <th>0</th>\n",
       "      <td>1</td>\n",
       "      <td>a</td>\n",
       "    </tr>\n",
       "    <tr>\n",
       "      <th>1</th>\n",
       "      <td>2</td>\n",
       "      <td>b</td>\n",
       "    </tr>\n",
       "    <tr>\n",
       "      <th>2</th>\n",
       "      <td>3</td>\n",
       "      <td>c</td>\n",
       "    </tr>\n",
       "    <tr>\n",
       "      <th>3</th>\n",
       "      <td>4</td>\n",
       "      <td>d</td>\n",
       "    </tr>\n",
       "    <tr>\n",
       "      <th>4</th>\n",
       "      <td>5</td>\n",
       "      <td>e</td>\n",
       "    </tr>\n",
       "    <tr>\n",
       "      <th rowspan=\"5\" valign=\"top\">BBB</th>\n",
       "      <th>0</th>\n",
       "      <td>20</td>\n",
       "      <td>b</td>\n",
       "    </tr>\n",
       "    <tr>\n",
       "      <th>1</th>\n",
       "      <td>30</td>\n",
       "      <td>c</td>\n",
       "    </tr>\n",
       "    <tr>\n",
       "      <th>2</th>\n",
       "      <td>40</td>\n",
       "      <td>d</td>\n",
       "    </tr>\n",
       "    <tr>\n",
       "      <th>3</th>\n",
       "      <td>50</td>\n",
       "      <td>e</td>\n",
       "    </tr>\n",
       "    <tr>\n",
       "      <th>4</th>\n",
       "      <td>60</td>\n",
       "      <td>f</td>\n",
       "    </tr>\n",
       "  </tbody>\n",
       "</table>\n",
       "</div>"
      ],
      "text/plain": [
       "       col1 col2\n",
       "AAA 0     1    a\n",
       "    1     2    b\n",
       "    2     3    c\n",
       "    3     4    d\n",
       "    4     5    e\n",
       "BBB 0    20    b\n",
       "    1    30    c\n",
       "    2    40    d\n",
       "    3    50    e\n",
       "    4    60    f"
      ]
     },
     "execution_count": 10,
     "metadata": {},
     "output_type": "execute_result"
    }
   ],
   "source": [
    "# concatenate\n",
    "concat1 = pd.concat([df1,df2], keys=['AAA', 'BBB'])\n",
    "concat1"
   ]
  },
  {
   "cell_type": "code",
   "execution_count": 14,
   "metadata": {
    "id": "Um2aP_hg0T_b"
   },
   "outputs": [
    {
     "data": {
      "application/vnd.microsoft.datawrangler.viewer.v0+json": {
       "columns": [
        {
         "name": "index",
         "rawType": "int64",
         "type": "integer"
        },
        {
         "name": "col1",
         "rawType": "int64",
         "type": "integer"
        },
        {
         "name": "col2",
         "rawType": "object",
         "type": "string"
        },
        {
         "name": "col1",
         "rawType": "int64",
         "type": "integer"
        },
        {
         "name": "col2",
         "rawType": "object",
         "type": "string"
        }
       ],
       "conversionMethod": "pd.DataFrame",
       "ref": "50ead1a9-7a8c-4afa-9e5b-c60573482440",
       "rows": [
        [
         "0",
         "1",
         "a",
         "20",
         "b"
        ],
        [
         "1",
         "2",
         "b",
         "30",
         "c"
        ],
        [
         "2",
         "3",
         "c",
         "40",
         "d"
        ],
        [
         "3",
         "4",
         "d",
         "50",
         "e"
        ],
        [
         "4",
         "5",
         "e",
         "60",
         "f"
        ]
       ],
       "shape": {
        "columns": 4,
        "rows": 5
       }
      },
      "text/html": [
       "<div>\n",
       "<style scoped>\n",
       "    .dataframe tbody tr th:only-of-type {\n",
       "        vertical-align: middle;\n",
       "    }\n",
       "\n",
       "    .dataframe tbody tr th {\n",
       "        vertical-align: top;\n",
       "    }\n",
       "\n",
       "    .dataframe thead th {\n",
       "        text-align: right;\n",
       "    }\n",
       "</style>\n",
       "<table border=\"1\" class=\"dataframe\">\n",
       "  <thead>\n",
       "    <tr style=\"text-align: right;\">\n",
       "      <th></th>\n",
       "      <th>col1</th>\n",
       "      <th>col2</th>\n",
       "      <th>col1</th>\n",
       "      <th>col2</th>\n",
       "    </tr>\n",
       "  </thead>\n",
       "  <tbody>\n",
       "    <tr>\n",
       "      <th>0</th>\n",
       "      <td>1</td>\n",
       "      <td>a</td>\n",
       "      <td>20</td>\n",
       "      <td>b</td>\n",
       "    </tr>\n",
       "    <tr>\n",
       "      <th>1</th>\n",
       "      <td>2</td>\n",
       "      <td>b</td>\n",
       "      <td>30</td>\n",
       "      <td>c</td>\n",
       "    </tr>\n",
       "    <tr>\n",
       "      <th>2</th>\n",
       "      <td>3</td>\n",
       "      <td>c</td>\n",
       "      <td>40</td>\n",
       "      <td>d</td>\n",
       "    </tr>\n",
       "    <tr>\n",
       "      <th>3</th>\n",
       "      <td>4</td>\n",
       "      <td>d</td>\n",
       "      <td>50</td>\n",
       "      <td>e</td>\n",
       "    </tr>\n",
       "    <tr>\n",
       "      <th>4</th>\n",
       "      <td>5</td>\n",
       "      <td>e</td>\n",
       "      <td>60</td>\n",
       "      <td>f</td>\n",
       "    </tr>\n",
       "  </tbody>\n",
       "</table>\n",
       "</div>"
      ],
      "text/plain": [
       "   col1 col2  col1 col2\n",
       "0     1    a    20    b\n",
       "1     2    b    30    c\n",
       "2     3    c    40    d\n",
       "3     4    d    50    e\n",
       "4     5    e    60    f"
      ]
     },
     "execution_count": 14,
     "metadata": {},
     "output_type": "execute_result"
    }
   ],
   "source": [
    "concat1 = pd.concat([df1,df2],axis=1)\n",
    "concat1"
   ]
  },
  {
   "cell_type": "markdown",
   "metadata": {
    "id": "eA1AE3xM0T_b"
   },
   "source": [
    "# Other functions"
   ]
  },
  {
   "cell_type": "code",
   "execution_count": 15,
   "metadata": {
    "id": "w-oAj7h30T_c"
   },
   "outputs": [
    {
     "data": {
      "application/vnd.microsoft.datawrangler.viewer.v0+json": {
       "columns": [
        {
         "name": "index",
         "rawType": "int64",
         "type": "integer"
        },
        {
         "name": "class",
         "rawType": "object",
         "type": "string"
        },
        {
         "name": "student",
         "rawType": "object",
         "type": "string"
        }
       ],
       "conversionMethod": "pd.DataFrame",
       "ref": "207639a4-dbf5-4679-af34-56206b916c4d",
       "rows": [
        [
         "0",
         "Red",
         "['a', 'b']"
        ],
        [
         "1",
         "Green",
         "['c', 'd']"
        ],
        [
         "2",
         "Blue",
         "['c', 'd']"
        ]
       ],
       "shape": {
        "columns": 2,
        "rows": 3
       }
      },
      "text/html": [
       "<div>\n",
       "<style scoped>\n",
       "    .dataframe tbody tr th:only-of-type {\n",
       "        vertical-align: middle;\n",
       "    }\n",
       "\n",
       "    .dataframe tbody tr th {\n",
       "        vertical-align: top;\n",
       "    }\n",
       "\n",
       "    .dataframe thead th {\n",
       "        text-align: right;\n",
       "    }\n",
       "</style>\n",
       "<table border=\"1\" class=\"dataframe\">\n",
       "  <thead>\n",
       "    <tr style=\"text-align: right;\">\n",
       "      <th></th>\n",
       "      <th>class</th>\n",
       "      <th>student</th>\n",
       "    </tr>\n",
       "  </thead>\n",
       "  <tbody>\n",
       "    <tr>\n",
       "      <th>0</th>\n",
       "      <td>Red</td>\n",
       "      <td>[a, b]</td>\n",
       "    </tr>\n",
       "    <tr>\n",
       "      <th>1</th>\n",
       "      <td>Green</td>\n",
       "      <td>[c, d]</td>\n",
       "    </tr>\n",
       "    <tr>\n",
       "      <th>2</th>\n",
       "      <td>Blue</td>\n",
       "      <td>[c, d]</td>\n",
       "    </tr>\n",
       "  </tbody>\n",
       "</table>\n",
       "</div>"
      ],
      "text/plain": [
       "   class student\n",
       "0    Red  [a, b]\n",
       "1  Green  [c, d]\n",
       "2   Blue  [c, d]"
      ]
     },
     "execution_count": 15,
     "metadata": {},
     "output_type": "execute_result"
    }
   ],
   "source": [
    "dict1 = {'class': ['Red','Green','Blue'],\n",
    "         'student': [['a','b'],['c','d'],['c','d']]}\n",
    "\n",
    "df = pd.DataFrame(dict1)\n",
    "df"
   ]
  },
  {
   "cell_type": "code",
   "execution_count": 16,
   "metadata": {
    "id": "XG5CtjL40T_d"
   },
   "outputs": [
    {
     "data": {
      "application/vnd.microsoft.datawrangler.viewer.v0+json": {
       "columns": [
        {
         "name": "index",
         "rawType": "int64",
         "type": "integer"
        },
        {
         "name": "index",
         "rawType": "int64",
         "type": "integer"
        },
        {
         "name": "class",
         "rawType": "object",
         "type": "string"
        },
        {
         "name": "student",
         "rawType": "object",
         "type": "string"
        }
       ],
       "conversionMethod": "pd.DataFrame",
       "ref": "d52bf580-ad3b-4e00-be75-69ed5da69d11",
       "rows": [
        [
         "0",
         "0",
         "Red",
         "a"
        ],
        [
         "1",
         "0",
         "Red",
         "b"
        ],
        [
         "2",
         "1",
         "Green",
         "c"
        ],
        [
         "3",
         "1",
         "Green",
         "d"
        ],
        [
         "4",
         "2",
         "Blue",
         "c"
        ],
        [
         "5",
         "2",
         "Blue",
         "d"
        ]
       ],
       "shape": {
        "columns": 3,
        "rows": 6
       }
      },
      "text/html": [
       "<div>\n",
       "<style scoped>\n",
       "    .dataframe tbody tr th:only-of-type {\n",
       "        vertical-align: middle;\n",
       "    }\n",
       "\n",
       "    .dataframe tbody tr th {\n",
       "        vertical-align: top;\n",
       "    }\n",
       "\n",
       "    .dataframe thead th {\n",
       "        text-align: right;\n",
       "    }\n",
       "</style>\n",
       "<table border=\"1\" class=\"dataframe\">\n",
       "  <thead>\n",
       "    <tr style=\"text-align: right;\">\n",
       "      <th></th>\n",
       "      <th>index</th>\n",
       "      <th>class</th>\n",
       "      <th>student</th>\n",
       "    </tr>\n",
       "  </thead>\n",
       "  <tbody>\n",
       "    <tr>\n",
       "      <th>0</th>\n",
       "      <td>0</td>\n",
       "      <td>Red</td>\n",
       "      <td>a</td>\n",
       "    </tr>\n",
       "    <tr>\n",
       "      <th>1</th>\n",
       "      <td>0</td>\n",
       "      <td>Red</td>\n",
       "      <td>b</td>\n",
       "    </tr>\n",
       "    <tr>\n",
       "      <th>2</th>\n",
       "      <td>1</td>\n",
       "      <td>Green</td>\n",
       "      <td>c</td>\n",
       "    </tr>\n",
       "    <tr>\n",
       "      <th>3</th>\n",
       "      <td>1</td>\n",
       "      <td>Green</td>\n",
       "      <td>d</td>\n",
       "    </tr>\n",
       "    <tr>\n",
       "      <th>4</th>\n",
       "      <td>2</td>\n",
       "      <td>Blue</td>\n",
       "      <td>c</td>\n",
       "    </tr>\n",
       "    <tr>\n",
       "      <th>5</th>\n",
       "      <td>2</td>\n",
       "      <td>Blue</td>\n",
       "      <td>d</td>\n",
       "    </tr>\n",
       "  </tbody>\n",
       "</table>\n",
       "</div>"
      ],
      "text/plain": [
       "   index  class student\n",
       "0      0    Red       a\n",
       "1      0    Red       b\n",
       "2      1  Green       c\n",
       "3      1  Green       d\n",
       "4      2   Blue       c\n",
       "5      2   Blue       d"
      ]
     },
     "execution_count": 16,
     "metadata": {},
     "output_type": "execute_result"
    }
   ],
   "source": [
    "df.explode('student').reset_index()"
   ]
  },
  {
   "cell_type": "code",
   "execution_count": null,
   "metadata": {
    "id": "i5jnGhJh0T_d"
   },
   "outputs": [],
   "source": [
    "# Write to a file\n",
    "\n",
    "# syntax : dataframe. to_csv (filepath)\n",
    "\n",
    "write1 = df1.to_csv('./write1.csv', index=False)"
   ]
  },
  {
   "cell_type": "code",
   "execution_count": 4,
   "metadata": {
    "id": "morombzeKpAS"
   },
   "outputs": [],
   "source": [
    "# reading url link\n",
    "# sep = ';' means data is separated by ;\n",
    "df = pd.read_csv(\"https://archive.ics.uci.edu/ml/machine-learning-databases/00397/LasVegasTripAdvisorReviews-Dataset.csv\", sep=';')"
   ]
  },
  {
   "cell_type": "code",
   "execution_count": 6,
   "metadata": {},
   "outputs": [
    {
     "data": {
      "application/vnd.microsoft.datawrangler.viewer.v0+json": {
       "columns": [
        {
         "name": "index",
         "rawType": "int64",
         "type": "integer"
        },
        {
         "name": "User country",
         "rawType": "object",
         "type": "string"
        },
        {
         "name": "Nr. reviews",
         "rawType": "int64",
         "type": "integer"
        },
        {
         "name": "Nr. hotel reviews",
         "rawType": "int64",
         "type": "integer"
        },
        {
         "name": "Helpful votes",
         "rawType": "int64",
         "type": "integer"
        },
        {
         "name": "Score",
         "rawType": "int64",
         "type": "integer"
        },
        {
         "name": "Period of stay",
         "rawType": "object",
         "type": "string"
        },
        {
         "name": "Traveler type",
         "rawType": "object",
         "type": "string"
        },
        {
         "name": "Pool",
         "rawType": "object",
         "type": "string"
        },
        {
         "name": "Gym",
         "rawType": "object",
         "type": "string"
        },
        {
         "name": "Tennis court",
         "rawType": "object",
         "type": "string"
        },
        {
         "name": "Spa",
         "rawType": "object",
         "type": "string"
        },
        {
         "name": "Casino",
         "rawType": "object",
         "type": "string"
        },
        {
         "name": "Free internet",
         "rawType": "object",
         "type": "string"
        },
        {
         "name": "Hotel name",
         "rawType": "object",
         "type": "string"
        },
        {
         "name": "Hotel stars",
         "rawType": "object",
         "type": "string"
        },
        {
         "name": "Nr. rooms",
         "rawType": "int64",
         "type": "integer"
        },
        {
         "name": "User continent",
         "rawType": "object",
         "type": "string"
        },
        {
         "name": "Member years",
         "rawType": "int64",
         "type": "integer"
        },
        {
         "name": "Review month",
         "rawType": "object",
         "type": "string"
        },
        {
         "name": "Review weekday",
         "rawType": "object",
         "type": "string"
        }
       ],
       "conversionMethod": "pd.DataFrame",
       "ref": "0de270f0-7474-4faf-8cb6-4d56a4aca453",
       "rows": [
        [
         "0",
         "USA",
         "11",
         "4",
         "13",
         "5",
         "Dec-Feb",
         "Friends",
         "NO",
         "YES",
         "NO",
         "NO",
         "YES",
         "YES",
         "Circus Circus Hotel & Casino Las Vegas",
         "3",
         "3773",
         "North America",
         "9",
         "January",
         "Thursday"
        ],
        [
         "1",
         "USA",
         "119",
         "21",
         "75",
         "3",
         "Dec-Feb",
         "Business",
         "NO",
         "YES",
         "NO",
         "NO",
         "YES",
         "YES",
         "Circus Circus Hotel & Casino Las Vegas",
         "3",
         "3773",
         "North America",
         "3",
         "January",
         "Friday"
        ],
        [
         "2",
         "USA",
         "36",
         "9",
         "25",
         "5",
         "Mar-May",
         "Families",
         "NO",
         "YES",
         "NO",
         "NO",
         "YES",
         "YES",
         "Circus Circus Hotel & Casino Las Vegas",
         "3",
         "3773",
         "North America",
         "2",
         "February",
         "Saturday"
        ],
        [
         "3",
         "UK",
         "14",
         "7",
         "14",
         "4",
         "Mar-May",
         "Friends",
         "NO",
         "YES",
         "NO",
         "NO",
         "YES",
         "YES",
         "Circus Circus Hotel & Casino Las Vegas",
         "3",
         "3773",
         "Europe",
         "6",
         "February",
         "Friday"
        ],
        [
         "4",
         "Canada",
         "5",
         "5",
         "2",
         "4",
         "Mar-May",
         "Solo",
         "NO",
         "YES",
         "NO",
         "NO",
         "YES",
         "YES",
         "Circus Circus Hotel & Casino Las Vegas",
         "3",
         "3773",
         "North America",
         "7",
         "March",
         "Tuesday"
        ],
        [
         "5",
         "Canada",
         "31",
         "8",
         "27",
         "3",
         "Mar-May",
         "Couples",
         "NO",
         "YES",
         "NO",
         "NO",
         "YES",
         "YES",
         "Circus Circus Hotel & Casino Las Vegas",
         "3",
         "3773",
         "North America",
         "2",
         "March",
         "Tuesday"
        ],
        [
         "6",
         "UK",
         "45",
         "12",
         "46",
         "4",
         "Mar-May",
         "Couples",
         "NO",
         "YES",
         "NO",
         "NO",
         "YES",
         "YES",
         "Circus Circus Hotel & Casino Las Vegas",
         "3",
         "3773",
         "Europe",
         "4",
         "April",
         "Friday"
        ],
        [
         "7",
         "USA",
         "2",
         "1",
         "4",
         "4",
         "Mar-May",
         "Families",
         "NO",
         "YES",
         "NO",
         "NO",
         "YES",
         "YES",
         "Circus Circus Hotel & Casino Las Vegas",
         "3",
         "3773",
         "North America",
         "0",
         "April",
         "Tuesday"
        ],
        [
         "8",
         "India",
         "24",
         "3",
         "8",
         "4",
         "Mar-May",
         "Friends",
         "NO",
         "YES",
         "NO",
         "NO",
         "YES",
         "YES",
         "Circus Circus Hotel & Casino Las Vegas",
         "3",
         "3773",
         "Asia",
         "3",
         "May",
         "Saturday"
        ],
        [
         "9",
         "Canada",
         "12",
         "7",
         "11",
         "3",
         "Mar-May",
         "Families",
         "NO",
         "YES",
         "NO",
         "NO",
         "YES",
         "YES",
         "Circus Circus Hotel & Casino Las Vegas",
         "3",
         "3773",
         "North America",
         "5",
         "May",
         "Tuesday"
        ],
        [
         "10",
         "USA",
         "102",
         "24",
         "58",
         "2",
         "Jun-Aug",
         "Families",
         "NO",
         "YES",
         "NO",
         "NO",
         "YES",
         "YES",
         "Circus Circus Hotel & Casino Las Vegas",
         "3",
         "3773",
         "North America",
         "9",
         "June",
         "Friday"
        ],
        [
         "11",
         "Australia",
         "20",
         "9",
         "24",
         "3",
         "Jun-Aug",
         "Friends",
         "NO",
         "YES",
         "NO",
         "NO",
         "YES",
         "YES",
         "Circus Circus Hotel & Casino Las Vegas",
         "3",
         "3773",
         "Oceania",
         "4",
         "June",
         "Saturday"
        ],
        [
         "12",
         "USA",
         "7",
         "6",
         "9",
         "2",
         "Jun-Aug",
         "Friends",
         "NO",
         "YES",
         "NO",
         "NO",
         "YES",
         "YES",
         "Circus Circus Hotel & Casino Las Vegas",
         "3",
         "3773",
         "North America",
         "1",
         "July",
         "Wednesday"
        ],
        [
         "13",
         "USA",
         "22",
         "5",
         "13",
         "3",
         "Jun-Aug",
         "Friends",
         "NO",
         "YES",
         "NO",
         "NO",
         "YES",
         "YES",
         "Circus Circus Hotel & Casino Las Vegas",
         "3",
         "3773",
         "North America",
         "1",
         "July",
         "Thursday"
        ],
        [
         "14",
         "UK",
         "3",
         "3",
         "0",
         "3",
         "Jun-Aug",
         "Friends",
         "NO",
         "YES",
         "NO",
         "NO",
         "YES",
         "YES",
         "Circus Circus Hotel & Casino Las Vegas",
         "3",
         "3773",
         "Europe",
         "1",
         "August",
         "Sunday"
        ],
        [
         "15",
         "New Zeland",
         "146",
         "17",
         "33",
         "4",
         "Jun-Aug",
         "Families",
         "NO",
         "YES",
         "NO",
         "NO",
         "YES",
         "YES",
         "Circus Circus Hotel & Casino Las Vegas",
         "3",
         "3773",
         "Oceania",
         "2",
         "August",
         "Saturday"
        ],
        [
         "16",
         "Canada",
         "8",
         "8",
         "9",
         "1",
         "Sep-Nov",
         "Families",
         "NO",
         "YES",
         "NO",
         "NO",
         "YES",
         "YES",
         "Circus Circus Hotel & Casino Las Vegas",
         "3",
         "3773",
         "North America",
         "4",
         "September",
         "Wednesday"
        ],
        [
         "17",
         "USA",
         "9",
         "3",
         "1",
         "4",
         "Sep-Nov",
         "Families",
         "NO",
         "YES",
         "NO",
         "NO",
         "YES",
         "YES",
         "Circus Circus Hotel & Casino Las Vegas",
         "3",
         "3773",
         "North America",
         "2",
         "September",
         "Saturday"
        ],
        [
         "18",
         "Canada",
         "41",
         "9",
         "19",
         "3",
         "Sep-Nov",
         "Couples",
         "NO",
         "YES",
         "NO",
         "NO",
         "YES",
         "YES",
         "Circus Circus Hotel & Casino Las Vegas",
         "3",
         "3773",
         "North America",
         "2",
         "October",
         "Tuesday"
        ],
        [
         "19",
         "USA",
         "8",
         "7",
         "26",
         "2",
         "Sep-Nov",
         "Couples",
         "NO",
         "YES",
         "NO",
         "NO",
         "YES",
         "YES",
         "Circus Circus Hotel & Casino Las Vegas",
         "3",
         "3773",
         "North America",
         "10",
         "October",
         "Monday"
        ],
        [
         "20",
         "UK",
         "10",
         "5",
         "2",
         "4",
         "Sep-Nov",
         "Couples",
         "NO",
         "YES",
         "NO",
         "NO",
         "YES",
         "YES",
         "Circus Circus Hotel & Casino Las Vegas",
         "3",
         "3773",
         "Europe",
         "7",
         "November",
         "Saturday"
        ],
        [
         "21",
         "New Zeland",
         "4",
         "3",
         "3",
         "1",
         "Sep-Nov",
         "Couples",
         "NO",
         "YES",
         "NO",
         "NO",
         "YES",
         "YES",
         "Circus Circus Hotel & Casino Las Vegas",
         "3",
         "3773",
         "Oceania",
         "3",
         "November",
         "Monday"
        ],
        [
         "22",
         "UK",
         "18",
         "7",
         "19",
         "4",
         "Dec-Feb",
         "Families",
         "NO",
         "YES",
         "NO",
         "NO",
         "YES",
         "YES",
         "Circus Circus Hotel & Casino Las Vegas",
         "3",
         "3773",
         "Europe",
         "0",
         "December",
         "Saturday"
        ],
        [
         "23",
         "USA",
         "4",
         "4",
         "3",
         "2",
         "Dec-Feb",
         "Couples",
         "NO",
         "YES",
         "NO",
         "NO",
         "YES",
         "YES",
         "Circus Circus Hotel & Casino Las Vegas",
         "3",
         "3773",
         "North America",
         "5",
         "December",
         "Sunday"
        ],
        [
         "24",
         "Ireland",
         "29",
         "11",
         "15",
         "4",
         "Dec-Feb",
         "Couples",
         "YES",
         "YES",
         "NO",
         "YES",
         "YES",
         "YES",
         "Excalibur Hotel & Casino",
         "3",
         "3981",
         "Europe",
         "3",
         "January",
         "Monday"
        ],
        [
         "25",
         "USA",
         "114",
         "42",
         "52",
         "4",
         "Dec-Feb",
         "Business",
         "YES",
         "YES",
         "NO",
         "YES",
         "YES",
         "YES",
         "Excalibur Hotel & Casino",
         "3",
         "3981",
         "North America",
         "11",
         "January",
         "Saturday"
        ],
        [
         "26",
         "Canada",
         "30",
         "12",
         "17",
         "5",
         "Dec-Feb",
         "Couples",
         "YES",
         "YES",
         "NO",
         "YES",
         "YES",
         "YES",
         "Excalibur Hotel & Casino",
         "3",
         "3981",
         "North America",
         "8",
         "February",
         "Friday"
        ],
        [
         "27",
         "UK",
         "87",
         "18",
         "36",
         "3",
         "Dec-Feb",
         "Business",
         "YES",
         "YES",
         "NO",
         "YES",
         "YES",
         "YES",
         "Excalibur Hotel & Casino",
         "3",
         "3981",
         "Europe",
         "3",
         "February",
         "Thursday"
        ],
        [
         "28",
         "USA",
         "26",
         "10",
         "28",
         "5",
         "Mar-May",
         "Solo",
         "YES",
         "YES",
         "NO",
         "YES",
         "YES",
         "YES",
         "Excalibur Hotel & Casino",
         "3",
         "3981",
         "North America",
         "1",
         "March",
         "Wednesday"
        ],
        [
         "29",
         "Ireland",
         "8",
         "7",
         "9",
         "5",
         "Mar-May",
         "Couples",
         "YES",
         "YES",
         "NO",
         "YES",
         "YES",
         "YES",
         "Excalibur Hotel & Casino",
         "3",
         "3981",
         "Europe",
         "8",
         "March",
         "Wednesday"
        ],
        [
         "30",
         "Canada",
         "11",
         "8",
         "13",
         "5",
         "Mar-May",
         "Couples",
         "YES",
         "YES",
         "NO",
         "YES",
         "YES",
         "YES",
         "Excalibur Hotel & Casino",
         "3",
         "3981",
         "North America",
         "7",
         "April",
         "Friday"
        ],
        [
         "31",
         "Australia",
         "4",
         "3",
         "2",
         "3",
         "Mar-May",
         "Couples",
         "YES",
         "YES",
         "NO",
         "YES",
         "YES",
         "YES",
         "Excalibur Hotel & Casino",
         "3",
         "3981",
         "Oceania",
         "0",
         "April",
         "Friday"
        ],
        [
         "32",
         "Canada",
         "56",
         "8",
         "7",
         "3",
         "Mar-May",
         "Solo",
         "YES",
         "YES",
         "NO",
         "YES",
         "YES",
         "YES",
         "Excalibur Hotel & Casino",
         "3",
         "3981",
         "North America",
         "1",
         "May",
         "Tuesday"
        ],
        [
         "33",
         "Egypt",
         "13",
         "12",
         "8",
         "3",
         "Mar-May",
         "Friends",
         "YES",
         "YES",
         "NO",
         "YES",
         "YES",
         "YES",
         "Excalibur Hotel & Casino",
         "3",
         "3981",
         "Africa",
         "4",
         "May",
         "Wednesday"
        ],
        [
         "34",
         "Australia",
         "58",
         "9",
         "15",
         "4",
         "Jun-Aug",
         "Couples",
         "YES",
         "YES",
         "NO",
         "YES",
         "YES",
         "YES",
         "Excalibur Hotel & Casino",
         "3",
         "3981",
         "Oceania",
         "0",
         "June",
         "Saturday"
        ],
        [
         "35",
         "Finland",
         "20",
         "7",
         "4",
         "3",
         "Jun-Aug",
         "Couples",
         "YES",
         "YES",
         "NO",
         "YES",
         "YES",
         "YES",
         "Excalibur Hotel & Casino",
         "3",
         "3981",
         "Europe",
         "6",
         "June",
         "Saturday"
        ],
        [
         "36",
         "USA",
         "70",
         "27",
         "24",
         "4",
         "Jun-Aug",
         "Friends",
         "YES",
         "YES",
         "NO",
         "YES",
         "YES",
         "YES",
         "Excalibur Hotel & Casino",
         "3",
         "3981",
         "North America",
         "6",
         "July",
         "Friday"
        ],
        [
         "37",
         "Kenya",
         "6",
         "3",
         "7",
         "4",
         "Jun-Aug",
         "Friends",
         "YES",
         "YES",
         "NO",
         "YES",
         "YES",
         "YES",
         "Excalibur Hotel & Casino",
         "3",
         "3981",
         "Africa",
         "1",
         "July",
         "Thursday"
        ],
        [
         "38",
         "USA",
         "290",
         "263",
         "299",
         "4",
         "Jun-Aug",
         "Couples",
         "YES",
         "YES",
         "NO",
         "YES",
         "YES",
         "YES",
         "Excalibur Hotel & Casino",
         "3",
         "3981",
         "North America",
         "10",
         "August",
         "Monday"
        ],
        [
         "39",
         "USA",
         "24",
         "6",
         "9",
         "2",
         "Jun-Aug",
         "Families",
         "YES",
         "YES",
         "NO",
         "YES",
         "YES",
         "YES",
         "Excalibur Hotel & Casino",
         "3",
         "3981",
         "North America",
         "2",
         "August",
         "Wednesday"
        ],
        [
         "40",
         "Jordan",
         "29",
         "8",
         "21",
         "3",
         "Sep-Nov",
         "Business",
         "YES",
         "YES",
         "NO",
         "YES",
         "YES",
         "YES",
         "Excalibur Hotel & Casino",
         "3",
         "3981",
         "Europe",
         "2",
         "September",
         "Wednesday"
        ],
        [
         "41",
         "Canada",
         "20",
         "5",
         "59",
         "3",
         "Sep-Nov",
         "Couples",
         "YES",
         "YES",
         "NO",
         "YES",
         "YES",
         "YES",
         "Excalibur Hotel & Casino",
         "3",
         "3981",
         "North America",
         "8",
         "September",
         "Saturday"
        ],
        [
         "42",
         "Netherlands",
         "3",
         "3",
         "3",
         "3",
         "Sep-Nov",
         "Families",
         "YES",
         "YES",
         "NO",
         "YES",
         "YES",
         "YES",
         "Excalibur Hotel & Casino",
         "3",
         "3981",
         "Europe",
         "4",
         "October",
         "Saturday"
        ],
        [
         "43",
         "Ireland",
         "47",
         "6",
         "27",
         "4",
         "Sep-Nov",
         "Friends",
         "YES",
         "YES",
         "NO",
         "YES",
         "YES",
         "YES",
         "Excalibur Hotel & Casino",
         "3",
         "3981",
         "Europe",
         "5",
         "October",
         "Monday"
        ],
        [
         "44",
         "USA",
         "35",
         "8",
         "19",
         "4",
         "Sep-Nov",
         "Families",
         "YES",
         "YES",
         "NO",
         "YES",
         "YES",
         "YES",
         "Excalibur Hotel & Casino",
         "3",
         "3981",
         "North America",
         "6",
         "November",
         "Sunday"
        ],
        [
         "45",
         "UK",
         "6",
         "0",
         "4",
         "4",
         "Sep-Nov",
         "Friends",
         "YES",
         "YES",
         "NO",
         "YES",
         "YES",
         "YES",
         "Excalibur Hotel & Casino",
         "3",
         "3981",
         "Europe",
         "1",
         "November",
         "Sunday"
        ],
        [
         "46",
         "UK",
         "74",
         "47",
         "54",
         "4",
         "Dec-Feb",
         "Couples",
         "YES",
         "YES",
         "NO",
         "YES",
         "YES",
         "YES",
         "Excalibur Hotel & Casino",
         "3",
         "3981",
         "Europe",
         "7",
         "December",
         "Wednesday"
        ],
        [
         "47",
         "Syria",
         "34",
         "8",
         "30",
         "3",
         "Dec-Feb",
         "Solo",
         "YES",
         "YES",
         "NO",
         "YES",
         "YES",
         "YES",
         "Excalibur Hotel & Casino",
         "3",
         "3981",
         "Asia",
         "4",
         "December",
         "Tuesday"
        ],
        [
         "48",
         "UK",
         "576",
         "43",
         "340",
         "3",
         "Dec-Feb",
         "Couples",
         "YES",
         "YES",
         "NO",
         "YES",
         "YES",
         "NO",
         "Monte Carlo Resort&Casino",
         "4",
         "3003",
         "Europe",
         "3",
         "January",
         "Monday"
        ],
        [
         "49",
         "USA",
         "20",
         "8",
         "11",
         "4",
         "Dec-Feb",
         "Solo",
         "YES",
         "YES",
         "NO",
         "YES",
         "YES",
         "NO",
         "Monte Carlo Resort&Casino",
         "4",
         "3003",
         "North America",
         "5",
         "January",
         "Saturday"
        ]
       ],
       "shape": {
        "columns": 20,
        "rows": 504
       }
      },
      "text/html": [
       "<div>\n",
       "<style scoped>\n",
       "    .dataframe tbody tr th:only-of-type {\n",
       "        vertical-align: middle;\n",
       "    }\n",
       "\n",
       "    .dataframe tbody tr th {\n",
       "        vertical-align: top;\n",
       "    }\n",
       "\n",
       "    .dataframe thead th {\n",
       "        text-align: right;\n",
       "    }\n",
       "</style>\n",
       "<table border=\"1\" class=\"dataframe\">\n",
       "  <thead>\n",
       "    <tr style=\"text-align: right;\">\n",
       "      <th></th>\n",
       "      <th>User country</th>\n",
       "      <th>Nr. reviews</th>\n",
       "      <th>Nr. hotel reviews</th>\n",
       "      <th>Helpful votes</th>\n",
       "      <th>Score</th>\n",
       "      <th>Period of stay</th>\n",
       "      <th>Traveler type</th>\n",
       "      <th>Pool</th>\n",
       "      <th>Gym</th>\n",
       "      <th>Tennis court</th>\n",
       "      <th>Spa</th>\n",
       "      <th>Casino</th>\n",
       "      <th>Free internet</th>\n",
       "      <th>Hotel name</th>\n",
       "      <th>Hotel stars</th>\n",
       "      <th>Nr. rooms</th>\n",
       "      <th>User continent</th>\n",
       "      <th>Member years</th>\n",
       "      <th>Review month</th>\n",
       "      <th>Review weekday</th>\n",
       "    </tr>\n",
       "  </thead>\n",
       "  <tbody>\n",
       "    <tr>\n",
       "      <th>0</th>\n",
       "      <td>USA</td>\n",
       "      <td>11</td>\n",
       "      <td>4</td>\n",
       "      <td>13</td>\n",
       "      <td>5</td>\n",
       "      <td>Dec-Feb</td>\n",
       "      <td>Friends</td>\n",
       "      <td>NO</td>\n",
       "      <td>YES</td>\n",
       "      <td>NO</td>\n",
       "      <td>NO</td>\n",
       "      <td>YES</td>\n",
       "      <td>YES</td>\n",
       "      <td>Circus Circus Hotel &amp; Casino Las Vegas</td>\n",
       "      <td>3</td>\n",
       "      <td>3773</td>\n",
       "      <td>North America</td>\n",
       "      <td>9</td>\n",
       "      <td>January</td>\n",
       "      <td>Thursday</td>\n",
       "    </tr>\n",
       "    <tr>\n",
       "      <th>1</th>\n",
       "      <td>USA</td>\n",
       "      <td>119</td>\n",
       "      <td>21</td>\n",
       "      <td>75</td>\n",
       "      <td>3</td>\n",
       "      <td>Dec-Feb</td>\n",
       "      <td>Business</td>\n",
       "      <td>NO</td>\n",
       "      <td>YES</td>\n",
       "      <td>NO</td>\n",
       "      <td>NO</td>\n",
       "      <td>YES</td>\n",
       "      <td>YES</td>\n",
       "      <td>Circus Circus Hotel &amp; Casino Las Vegas</td>\n",
       "      <td>3</td>\n",
       "      <td>3773</td>\n",
       "      <td>North America</td>\n",
       "      <td>3</td>\n",
       "      <td>January</td>\n",
       "      <td>Friday</td>\n",
       "    </tr>\n",
       "    <tr>\n",
       "      <th>2</th>\n",
       "      <td>USA</td>\n",
       "      <td>36</td>\n",
       "      <td>9</td>\n",
       "      <td>25</td>\n",
       "      <td>5</td>\n",
       "      <td>Mar-May</td>\n",
       "      <td>Families</td>\n",
       "      <td>NO</td>\n",
       "      <td>YES</td>\n",
       "      <td>NO</td>\n",
       "      <td>NO</td>\n",
       "      <td>YES</td>\n",
       "      <td>YES</td>\n",
       "      <td>Circus Circus Hotel &amp; Casino Las Vegas</td>\n",
       "      <td>3</td>\n",
       "      <td>3773</td>\n",
       "      <td>North America</td>\n",
       "      <td>2</td>\n",
       "      <td>February</td>\n",
       "      <td>Saturday</td>\n",
       "    </tr>\n",
       "    <tr>\n",
       "      <th>3</th>\n",
       "      <td>UK</td>\n",
       "      <td>14</td>\n",
       "      <td>7</td>\n",
       "      <td>14</td>\n",
       "      <td>4</td>\n",
       "      <td>Mar-May</td>\n",
       "      <td>Friends</td>\n",
       "      <td>NO</td>\n",
       "      <td>YES</td>\n",
       "      <td>NO</td>\n",
       "      <td>NO</td>\n",
       "      <td>YES</td>\n",
       "      <td>YES</td>\n",
       "      <td>Circus Circus Hotel &amp; Casino Las Vegas</td>\n",
       "      <td>3</td>\n",
       "      <td>3773</td>\n",
       "      <td>Europe</td>\n",
       "      <td>6</td>\n",
       "      <td>February</td>\n",
       "      <td>Friday</td>\n",
       "    </tr>\n",
       "    <tr>\n",
       "      <th>4</th>\n",
       "      <td>Canada</td>\n",
       "      <td>5</td>\n",
       "      <td>5</td>\n",
       "      <td>2</td>\n",
       "      <td>4</td>\n",
       "      <td>Mar-May</td>\n",
       "      <td>Solo</td>\n",
       "      <td>NO</td>\n",
       "      <td>YES</td>\n",
       "      <td>NO</td>\n",
       "      <td>NO</td>\n",
       "      <td>YES</td>\n",
       "      <td>YES</td>\n",
       "      <td>Circus Circus Hotel &amp; Casino Las Vegas</td>\n",
       "      <td>3</td>\n",
       "      <td>3773</td>\n",
       "      <td>North America</td>\n",
       "      <td>7</td>\n",
       "      <td>March</td>\n",
       "      <td>Tuesday</td>\n",
       "    </tr>\n",
       "    <tr>\n",
       "      <th>...</th>\n",
       "      <td>...</td>\n",
       "      <td>...</td>\n",
       "      <td>...</td>\n",
       "      <td>...</td>\n",
       "      <td>...</td>\n",
       "      <td>...</td>\n",
       "      <td>...</td>\n",
       "      <td>...</td>\n",
       "      <td>...</td>\n",
       "      <td>...</td>\n",
       "      <td>...</td>\n",
       "      <td>...</td>\n",
       "      <td>...</td>\n",
       "      <td>...</td>\n",
       "      <td>...</td>\n",
       "      <td>...</td>\n",
       "      <td>...</td>\n",
       "      <td>...</td>\n",
       "      <td>...</td>\n",
       "      <td>...</td>\n",
       "    </tr>\n",
       "    <tr>\n",
       "      <th>499</th>\n",
       "      <td>UK</td>\n",
       "      <td>15</td>\n",
       "      <td>4</td>\n",
       "      <td>8</td>\n",
       "      <td>5</td>\n",
       "      <td>Sep-Nov</td>\n",
       "      <td>Couples</td>\n",
       "      <td>YES</td>\n",
       "      <td>YES</td>\n",
       "      <td>NO</td>\n",
       "      <td>YES</td>\n",
       "      <td>YES</td>\n",
       "      <td>YES</td>\n",
       "      <td>The Westin las Vegas Hotel Casino &amp; Spa</td>\n",
       "      <td>4</td>\n",
       "      <td>826</td>\n",
       "      <td>Europe</td>\n",
       "      <td>1</td>\n",
       "      <td>October</td>\n",
       "      <td>Sunday</td>\n",
       "    </tr>\n",
       "    <tr>\n",
       "      <th>500</th>\n",
       "      <td>Canada</td>\n",
       "      <td>50</td>\n",
       "      <td>13</td>\n",
       "      <td>29</td>\n",
       "      <td>4</td>\n",
       "      <td>Sep-Nov</td>\n",
       "      <td>Couples</td>\n",
       "      <td>YES</td>\n",
       "      <td>YES</td>\n",
       "      <td>NO</td>\n",
       "      <td>YES</td>\n",
       "      <td>YES</td>\n",
       "      <td>YES</td>\n",
       "      <td>The Westin las Vegas Hotel Casino &amp; Spa</td>\n",
       "      <td>4</td>\n",
       "      <td>826</td>\n",
       "      <td>North America</td>\n",
       "      <td>8</td>\n",
       "      <td>November</td>\n",
       "      <td>Thursday</td>\n",
       "    </tr>\n",
       "    <tr>\n",
       "      <th>501</th>\n",
       "      <td>USA</td>\n",
       "      <td>154</td>\n",
       "      <td>23</td>\n",
       "      <td>31</td>\n",
       "      <td>4</td>\n",
       "      <td>Sep-Nov</td>\n",
       "      <td>Friends</td>\n",
       "      <td>YES</td>\n",
       "      <td>YES</td>\n",
       "      <td>NO</td>\n",
       "      <td>YES</td>\n",
       "      <td>YES</td>\n",
       "      <td>YES</td>\n",
       "      <td>The Westin las Vegas Hotel Casino &amp; Spa</td>\n",
       "      <td>4</td>\n",
       "      <td>826</td>\n",
       "      <td>North America</td>\n",
       "      <td>4</td>\n",
       "      <td>November</td>\n",
       "      <td>Thursday</td>\n",
       "    </tr>\n",
       "    <tr>\n",
       "      <th>502</th>\n",
       "      <td>USA</td>\n",
       "      <td>9</td>\n",
       "      <td>6</td>\n",
       "      <td>5</td>\n",
       "      <td>2</td>\n",
       "      <td>Dec-Feb</td>\n",
       "      <td>Families</td>\n",
       "      <td>YES</td>\n",
       "      <td>YES</td>\n",
       "      <td>NO</td>\n",
       "      <td>YES</td>\n",
       "      <td>YES</td>\n",
       "      <td>YES</td>\n",
       "      <td>The Westin las Vegas Hotel Casino &amp; Spa</td>\n",
       "      <td>4</td>\n",
       "      <td>826</td>\n",
       "      <td>North America</td>\n",
       "      <td>9</td>\n",
       "      <td>December</td>\n",
       "      <td>Wednesday</td>\n",
       "    </tr>\n",
       "    <tr>\n",
       "      <th>503</th>\n",
       "      <td>USA</td>\n",
       "      <td>20</td>\n",
       "      <td>19</td>\n",
       "      <td>112</td>\n",
       "      <td>4</td>\n",
       "      <td>Dec-Feb</td>\n",
       "      <td>Families</td>\n",
       "      <td>YES</td>\n",
       "      <td>YES</td>\n",
       "      <td>NO</td>\n",
       "      <td>YES</td>\n",
       "      <td>YES</td>\n",
       "      <td>YES</td>\n",
       "      <td>The Westin las Vegas Hotel Casino &amp; Spa</td>\n",
       "      <td>4</td>\n",
       "      <td>826</td>\n",
       "      <td>North America</td>\n",
       "      <td>5</td>\n",
       "      <td>December</td>\n",
       "      <td>Tuesday</td>\n",
       "    </tr>\n",
       "  </tbody>\n",
       "</table>\n",
       "<p>504 rows × 20 columns</p>\n",
       "</div>"
      ],
      "text/plain": [
       "    User country  Nr. reviews  Nr. hotel reviews  Helpful votes  Score  \\\n",
       "0            USA           11                  4             13      5   \n",
       "1            USA          119                 21             75      3   \n",
       "2            USA           36                  9             25      5   \n",
       "3             UK           14                  7             14      4   \n",
       "4         Canada            5                  5              2      4   \n",
       "..           ...          ...                ...            ...    ...   \n",
       "499           UK           15                  4              8      5   \n",
       "500       Canada           50                 13             29      4   \n",
       "501          USA          154                 23             31      4   \n",
       "502          USA            9                  6              5      2   \n",
       "503          USA           20                 19            112      4   \n",
       "\n",
       "    Period of stay Traveler type Pool  Gym Tennis court  Spa Casino  \\\n",
       "0          Dec-Feb       Friends   NO  YES           NO   NO    YES   \n",
       "1          Dec-Feb      Business   NO  YES           NO   NO    YES   \n",
       "2          Mar-May      Families   NO  YES           NO   NO    YES   \n",
       "3          Mar-May       Friends   NO  YES           NO   NO    YES   \n",
       "4          Mar-May          Solo   NO  YES           NO   NO    YES   \n",
       "..             ...           ...  ...  ...          ...  ...    ...   \n",
       "499        Sep-Nov       Couples  YES  YES           NO  YES    YES   \n",
       "500        Sep-Nov       Couples  YES  YES           NO  YES    YES   \n",
       "501        Sep-Nov       Friends  YES  YES           NO  YES    YES   \n",
       "502        Dec-Feb      Families  YES  YES           NO  YES    YES   \n",
       "503        Dec-Feb      Families  YES  YES           NO  YES    YES   \n",
       "\n",
       "    Free internet                               Hotel name Hotel stars  \\\n",
       "0             YES   Circus Circus Hotel & Casino Las Vegas           3   \n",
       "1             YES   Circus Circus Hotel & Casino Las Vegas           3   \n",
       "2             YES   Circus Circus Hotel & Casino Las Vegas           3   \n",
       "3             YES   Circus Circus Hotel & Casino Las Vegas           3   \n",
       "4             YES   Circus Circus Hotel & Casino Las Vegas           3   \n",
       "..            ...                                      ...         ...   \n",
       "499           YES  The Westin las Vegas Hotel Casino & Spa           4   \n",
       "500           YES  The Westin las Vegas Hotel Casino & Spa           4   \n",
       "501           YES  The Westin las Vegas Hotel Casino & Spa           4   \n",
       "502           YES  The Westin las Vegas Hotel Casino & Spa           4   \n",
       "503           YES  The Westin las Vegas Hotel Casino & Spa           4   \n",
       "\n",
       "     Nr. rooms User continent  Member years Review month Review weekday  \n",
       "0         3773  North America             9      January       Thursday  \n",
       "1         3773  North America             3      January         Friday  \n",
       "2         3773  North America             2     February       Saturday  \n",
       "3         3773         Europe             6     February         Friday  \n",
       "4         3773  North America             7        March        Tuesday  \n",
       "..         ...            ...           ...          ...            ...  \n",
       "499        826         Europe             1      October         Sunday  \n",
       "500        826  North America             8     November       Thursday  \n",
       "501        826  North America             4     November       Thursday  \n",
       "502        826  North America             9     December      Wednesday  \n",
       "503        826  North America             5     December        Tuesday  \n",
       "\n",
       "[504 rows x 20 columns]"
      ]
     },
     "execution_count": 6,
     "metadata": {},
     "output_type": "execute_result"
    }
   ],
   "source": [
    "df"
   ]
  }
 ],
 "metadata": {
  "colab": {
   "collapsed_sections": [
    "EvO6QXr50T_e"
   ],
   "name": "Numpy, Datetime, Join.ipynb",
   "provenance": []
  },
  "kernelspec": {
   "display_name": "base",
   "language": "python",
   "name": "python3"
  },
  "language_info": {
   "codemirror_mode": {
    "name": "ipython",
    "version": 3
   },
   "file_extension": ".py",
   "mimetype": "text/x-python",
   "name": "python",
   "nbconvert_exporter": "python",
   "pygments_lexer": "ipython3",
   "version": "3.9.12"
  }
 },
 "nbformat": 4,
 "nbformat_minor": 4
}
