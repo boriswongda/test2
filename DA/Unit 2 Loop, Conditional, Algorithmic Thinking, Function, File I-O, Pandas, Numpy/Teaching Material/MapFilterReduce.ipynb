{
 "cells": [
  {
   "cell_type": "markdown",
   "metadata": {},
   "source": [
    "`map()` applies a given function to each item of an iterable (list, tuple, etc.) and returns a map object (which is an iterator) containing the results."
   ]
  },
  {
   "cell_type": "code",
   "execution_count": 3,
   "metadata": {},
   "outputs": [
    {
     "name": "stdout",
     "output_type": "stream",
     "text": [
      "[2, 4, 6, 8, 10]\n",
      "['ALICE', 'BOB', 'CHARLIE']\n"
     ]
    }
   ],
   "source": [
    "numbers = [1, 2, 3, 4, 5]\n",
    "\n",
    "# Double each number\n",
    "doubled_numbers = list(map(lambda x: x * 2, numbers))\n",
    "print(doubled_numbers)  # Output: [2, 4, 6, 8, 10]\n",
    "\n",
    "# Convert strings to uppercase\n",
    "names = ['alice', 'bob', 'charlie']\n",
    "uppercase_names = list(map(str.upper, names))\n",
    "print(uppercase_names)  # Output: ['ALICE', 'BOB', 'CHARLIE']\n"
   ]
  },
  {
   "cell_type": "markdown",
   "metadata": {},
   "source": [
    "The `reduce()` function applies a given function of two arguments cumulatively to the elements of a sequence, from left to right, to reduce the sequence to a single value.\n",
    "(Note: reduce() is defined in the 'functools' module)"
   ]
  },
  {
   "cell_type": "code",
   "execution_count": 4,
   "metadata": {},
   "outputs": [
    {
     "name": "stdout",
     "output_type": "stream",
     "text": [
      "15\n",
      "5\n",
      "HelloWorldPython\n"
     ]
    }
   ],
   "source": [
    "from functools import reduce\n",
    "\n",
    "numbers = [1, 2, 3, 4, 5]\n",
    "\n",
    "# Find the sum of all numbers\n",
    "sum_of_numbers = reduce(lambda x, y: x + y, numbers)\n",
    "print(sum_of_numbers)  # Output: 15\n",
    "\n",
    "# Find the maximum of all numbers\n",
    "max_of_numbers = reduce(lambda x, y: x if x > y else y, numbers)\n",
    "print(max_of_numbers)  # Output: 5\n",
    "\n",
    "# Concatenate all strings in a list\n",
    "words = ['Hello', 'World', 'Python']\n",
    "concatenated_words = reduce(lambda x, y: x + y, words)\n",
    "print(concatenated_words)  # Output: 'HelloWorldPython'"
   ]
  },
  {
   "cell_type": "markdown",
   "metadata": {},
   "source": [
    "`filter()` creates an iterator from the elements of an iterable (list, tuple, etc.) for which the function returns True."
   ]
  },
  {
   "cell_type": "code",
   "execution_count": 6,
   "metadata": {},
   "outputs": [
    {
     "name": "stdout",
     "output_type": "stream",
     "text": [
      "[2, 4, 6, 8, 10]\n",
      "['banana', 'cherry', 'elderberry']\n"
     ]
    }
   ],
   "source": [
    "numbers = [1, 2, 3, 4, 5, 6, 7, 8, 9, 10]\n",
    "\n",
    "# Filter out even numbers\n",
    "even_numbers = list(filter(lambda x: x % 2 == 0, numbers))\n",
    "print(even_numbers)  # Output: [2, 4, 6, 8, 10]\n",
    "\n",
    "# Filter out strings with length > 5\n",
    "words = ['apple', 'banana', 'cherry', 'date', 'elderberry']\n",
    "long_words = list(filter(lambda x: len(x) > 5, words))\n",
    "print(long_words)  # Output: ['banana', 'cherry', 'elderberry']"
   ]
  },
  {
   "cell_type": "code",
   "execution_count": null,
   "metadata": {},
   "outputs": [],
   "source": []
  }
 ],
 "metadata": {
  "kernelspec": {
   "display_name": "base",
   "language": "python",
   "name": "python3"
  },
  "language_info": {
   "codemirror_mode": {
    "name": "ipython",
    "version": 3
   },
   "file_extension": ".py",
   "mimetype": "text/x-python",
   "name": "python",
   "nbconvert_exporter": "python",
   "pygments_lexer": "ipython3",
   "version": "3.9.12"
  }
 },
 "nbformat": 4,
 "nbformat_minor": 2
}
