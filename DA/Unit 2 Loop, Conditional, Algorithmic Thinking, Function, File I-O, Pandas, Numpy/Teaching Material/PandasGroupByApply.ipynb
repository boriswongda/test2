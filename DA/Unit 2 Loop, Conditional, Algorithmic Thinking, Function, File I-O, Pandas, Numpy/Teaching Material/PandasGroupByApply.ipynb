{
 "cells": [
  {
   "cell_type": "markdown",
   "metadata": {
    "id": "mU0dpPvY5gR4"
   },
   "source": [
    "#  More examples of Group by & Apply "
   ]
  },
  {
   "cell_type": "code",
   "execution_count": 1,
   "metadata": {},
   "outputs": [],
   "source": [
    "import pandas as pd\n",
    "# import ssl\n",
    "# ssl._create_default_https_context = ssl._create_unverified_context"
   ]
  },
  {
   "cell_type": "code",
   "execution_count": 2,
   "metadata": {
    "colab": {
     "base_uri": "https://localhost:8080/",
     "height": 204
    },
    "executionInfo": {
     "elapsed": 921,
     "status": "ok",
     "timestamp": 1617104563886,
     "user": {
      "displayName": "Ravi Murugesan",
      "photoUrl": "https://lh4.googleusercontent.com/-xPg2nUEgcGg/AAAAAAAAAAI/AAAAAAAAI9M/cs3cIZpPWqk/s64/photo.jpg",
      "userId": "10332875964598669976"
     },
     "user_tz": -480
    },
    "id": "iMRihHmD5gR4",
    "outputId": "1c625c96-d27e-4d16-85a9-91f1f20b4761"
   },
   "outputs": [
    {
     "data": {
      "application/vnd.microsoft.datawrangler.viewer.v0+json": {
       "columns": [
        {
         "name": "index",
         "rawType": "int64",
         "type": "integer"
        },
        {
         "name": "user_id",
         "rawType": "int64",
         "type": "integer"
        },
        {
         "name": "age",
         "rawType": "int64",
         "type": "integer"
        },
        {
         "name": "gender",
         "rawType": "object",
         "type": "string"
        },
        {
         "name": "occupation",
         "rawType": "object",
         "type": "string"
        },
        {
         "name": "zip_code",
         "rawType": "object",
         "type": "string"
        }
       ],
       "conversionMethod": "pd.DataFrame",
       "ref": "48821856-5dda-4e8a-ac45-4621641e45b1",
       "rows": [
        [
         "0",
         "1",
         "24",
         "M",
         "technician",
         "85711"
        ],
        [
         "1",
         "2",
         "53",
         "F",
         "other",
         "94043"
        ],
        [
         "2",
         "3",
         "23",
         "M",
         "writer",
         "32067"
        ],
        [
         "3",
         "4",
         "24",
         "M",
         "technician",
         "43537"
        ],
        [
         "4",
         "5",
         "33",
         "F",
         "other",
         "15213"
        ]
       ],
       "shape": {
        "columns": 5,
        "rows": 5
       }
      },
      "text/html": [
       "<div>\n",
       "<style scoped>\n",
       "    .dataframe tbody tr th:only-of-type {\n",
       "        vertical-align: middle;\n",
       "    }\n",
       "\n",
       "    .dataframe tbody tr th {\n",
       "        vertical-align: top;\n",
       "    }\n",
       "\n",
       "    .dataframe thead th {\n",
       "        text-align: right;\n",
       "    }\n",
       "</style>\n",
       "<table border=\"1\" class=\"dataframe\">\n",
       "  <thead>\n",
       "    <tr style=\"text-align: right;\">\n",
       "      <th></th>\n",
       "      <th>user_id</th>\n",
       "      <th>age</th>\n",
       "      <th>gender</th>\n",
       "      <th>occupation</th>\n",
       "      <th>zip_code</th>\n",
       "    </tr>\n",
       "  </thead>\n",
       "  <tbody>\n",
       "    <tr>\n",
       "      <th>0</th>\n",
       "      <td>1</td>\n",
       "      <td>24</td>\n",
       "      <td>M</td>\n",
       "      <td>technician</td>\n",
       "      <td>85711</td>\n",
       "    </tr>\n",
       "    <tr>\n",
       "      <th>1</th>\n",
       "      <td>2</td>\n",
       "      <td>53</td>\n",
       "      <td>F</td>\n",
       "      <td>other</td>\n",
       "      <td>94043</td>\n",
       "    </tr>\n",
       "    <tr>\n",
       "      <th>2</th>\n",
       "      <td>3</td>\n",
       "      <td>23</td>\n",
       "      <td>M</td>\n",
       "      <td>writer</td>\n",
       "      <td>32067</td>\n",
       "    </tr>\n",
       "    <tr>\n",
       "      <th>3</th>\n",
       "      <td>4</td>\n",
       "      <td>24</td>\n",
       "      <td>M</td>\n",
       "      <td>technician</td>\n",
       "      <td>43537</td>\n",
       "    </tr>\n",
       "    <tr>\n",
       "      <th>4</th>\n",
       "      <td>5</td>\n",
       "      <td>33</td>\n",
       "      <td>F</td>\n",
       "      <td>other</td>\n",
       "      <td>15213</td>\n",
       "    </tr>\n",
       "  </tbody>\n",
       "</table>\n",
       "</div>"
      ],
      "text/plain": [
       "   user_id  age gender  occupation zip_code\n",
       "0        1   24      M  technician    85711\n",
       "1        2   53      F       other    94043\n",
       "2        3   23      M      writer    32067\n",
       "3        4   24      M  technician    43537\n",
       "4        5   33      F       other    15213"
      ]
     },
     "execution_count": 2,
     "metadata": {},
     "output_type": "execute_result"
    }
   ],
   "source": [
    "# Occupation dataset\n",
    "df = pd.read_csv(\"https://raw.githubusercontent.com/justmarkham/DAT8/master/data/u.user\",header=0,sep='|')\n",
    "df.head()"
   ]
  },
  {
   "cell_type": "code",
   "execution_count": 3,
   "metadata": {
    "colab": {
     "base_uri": "https://localhost:8080/"
    },
    "executionInfo": {
     "elapsed": 843,
     "status": "ok",
     "timestamp": 1617104575243,
     "user": {
      "displayName": "Ravi Murugesan",
      "photoUrl": "https://lh4.googleusercontent.com/-xPg2nUEgcGg/AAAAAAAAAAI/AAAAAAAAI9M/cs3cIZpPWqk/s64/photo.jpg",
      "userId": "10332875964598669976"
     },
     "user_tz": -480
    },
    "id": "d1gDM-tE5gR5",
    "outputId": "25f72ec5-0ded-47fd-abdc-13c9d4efc056"
   },
   "outputs": [
    {
     "name": "stdout",
     "output_type": "stream",
     "text": [
      "<class 'pandas.core.frame.DataFrame'>\n",
      "RangeIndex: 943 entries, 0 to 942\n",
      "Data columns (total 5 columns):\n",
      " #   Column      Non-Null Count  Dtype \n",
      "---  ------      --------------  ----- \n",
      " 0   user_id     943 non-null    int64 \n",
      " 1   age         943 non-null    int64 \n",
      " 2   gender      943 non-null    object\n",
      " 3   occupation  943 non-null    object\n",
      " 4   zip_code    943 non-null    object\n",
      "dtypes: int64(2), object(3)\n",
      "memory usage: 37.0+ KB\n"
     ]
    }
   ],
   "source": [
    "df.info()"
   ]
  },
  {
   "cell_type": "code",
   "execution_count": 4,
   "metadata": {
    "id": "Peip1sAl5gR5",
    "outputId": "bb26d8f0-5a0b-493e-da26-a7cf22e8bdb1"
   },
   "outputs": [
    {
     "data": {
      "application/vnd.microsoft.datawrangler.viewer.v0+json": {
       "columns": [
        {
         "name": "index",
         "rawType": "object",
         "type": "string"
        },
        {
         "name": "user_id",
         "rawType": "float64",
         "type": "float"
        },
        {
         "name": "age",
         "rawType": "float64",
         "type": "float"
        }
       ],
       "conversionMethod": "pd.DataFrame",
       "ref": "f0356ca4-8274-40ec-9904-d511ac5283fe",
       "rows": [
        [
         "count",
         "943.0",
         "943.0"
        ],
        [
         "mean",
         "472.0",
         "34.05196182396607"
        ],
        [
         "std",
         "272.3649512449549",
         "12.192739733059044"
        ],
        [
         "min",
         "1.0",
         "7.0"
        ],
        [
         "25%",
         "236.5",
         "25.0"
        ],
        [
         "50%",
         "472.0",
         "31.0"
        ],
        [
         "75%",
         "707.5",
         "43.0"
        ],
        [
         "max",
         "943.0",
         "73.0"
        ]
       ],
       "shape": {
        "columns": 2,
        "rows": 8
       }
      },
      "text/html": [
       "<div>\n",
       "<style scoped>\n",
       "    .dataframe tbody tr th:only-of-type {\n",
       "        vertical-align: middle;\n",
       "    }\n",
       "\n",
       "    .dataframe tbody tr th {\n",
       "        vertical-align: top;\n",
       "    }\n",
       "\n",
       "    .dataframe thead th {\n",
       "        text-align: right;\n",
       "    }\n",
       "</style>\n",
       "<table border=\"1\" class=\"dataframe\">\n",
       "  <thead>\n",
       "    <tr style=\"text-align: right;\">\n",
       "      <th></th>\n",
       "      <th>user_id</th>\n",
       "      <th>age</th>\n",
       "    </tr>\n",
       "  </thead>\n",
       "  <tbody>\n",
       "    <tr>\n",
       "      <th>count</th>\n",
       "      <td>943.000000</td>\n",
       "      <td>943.000000</td>\n",
       "    </tr>\n",
       "    <tr>\n",
       "      <th>mean</th>\n",
       "      <td>472.000000</td>\n",
       "      <td>34.051962</td>\n",
       "    </tr>\n",
       "    <tr>\n",
       "      <th>std</th>\n",
       "      <td>272.364951</td>\n",
       "      <td>12.192740</td>\n",
       "    </tr>\n",
       "    <tr>\n",
       "      <th>min</th>\n",
       "      <td>1.000000</td>\n",
       "      <td>7.000000</td>\n",
       "    </tr>\n",
       "    <tr>\n",
       "      <th>25%</th>\n",
       "      <td>236.500000</td>\n",
       "      <td>25.000000</td>\n",
       "    </tr>\n",
       "    <tr>\n",
       "      <th>50%</th>\n",
       "      <td>472.000000</td>\n",
       "      <td>31.000000</td>\n",
       "    </tr>\n",
       "    <tr>\n",
       "      <th>75%</th>\n",
       "      <td>707.500000</td>\n",
       "      <td>43.000000</td>\n",
       "    </tr>\n",
       "    <tr>\n",
       "      <th>max</th>\n",
       "      <td>943.000000</td>\n",
       "      <td>73.000000</td>\n",
       "    </tr>\n",
       "  </tbody>\n",
       "</table>\n",
       "</div>"
      ],
      "text/plain": [
       "          user_id         age\n",
       "count  943.000000  943.000000\n",
       "mean   472.000000   34.051962\n",
       "std    272.364951   12.192740\n",
       "min      1.000000    7.000000\n",
       "25%    236.500000   25.000000\n",
       "50%    472.000000   31.000000\n",
       "75%    707.500000   43.000000\n",
       "max    943.000000   73.000000"
      ]
     },
     "execution_count": 4,
     "metadata": {},
     "output_type": "execute_result"
    }
   ],
   "source": [
    "# Statistical summary \n",
    "df.describe()"
   ]
  },
  {
   "cell_type": "code",
   "execution_count": 6,
   "metadata": {
    "id": "yNjSOLmu5gR5",
    "outputId": "2f136481-c754-4d79-b7d7-fa4159ed4ba1"
   },
   "outputs": [
    {
     "data": {
      "text/plain": [
       "M    670\n",
       "F    273\n",
       "Name: gender, dtype: int64"
      ]
     },
     "execution_count": 6,
     "metadata": {},
     "output_type": "execute_result"
    }
   ],
   "source": [
    "# What is the ratio of male and female?\n",
    "\n",
    "df.gender.value_counts()\n",
    "# type(df.gender.value_counts())"
   ]
  },
  {
   "cell_type": "code",
   "execution_count": 7,
   "metadata": {
    "id": "VOX3-zgp5gR5",
    "outputId": "96a1b16c-47e3-430d-fa50-5940dd8c85f9"
   },
   "outputs": [
    {
     "name": "stdout",
     "output_type": "stream",
     "text": [
      "<class 'pandas.core.series.Series'>\n"
     ]
    },
    {
     "data": {
      "text/plain": [
       "M    670\n",
       "F    273\n",
       "Name: gender, dtype: int64"
      ]
     },
     "execution_count": 7,
     "metadata": {},
     "output_type": "execute_result"
    }
   ],
   "source": [
    "m_to_f = df.gender.value_counts()\n",
    "print(type(m_to_f))\n",
    "\n",
    "m_to_f"
   ]
  },
  {
   "cell_type": "code",
   "execution_count": 8,
   "metadata": {
    "id": "nOZPdDH95gR5",
    "outputId": "6686aab1-edc0-4e6b-c051-6977b3ecda8f"
   },
   "outputs": [
    {
     "data": {
      "text/plain": [
       "2.4542124542124544"
      ]
     },
     "execution_count": 8,
     "metadata": {},
     "output_type": "execute_result"
    }
   ],
   "source": [
    "ratio=m_to_f[0]/m_to_f[1]\n",
    "ratio"
   ]
  },
  {
   "cell_type": "code",
   "execution_count": 9,
   "metadata": {
    "colab": {
     "base_uri": "https://localhost:8080/"
    },
    "executionInfo": {
     "elapsed": 644,
     "status": "ok",
     "timestamp": 1617105407153,
     "user": {
      "displayName": "Ravi Murugesan",
      "photoUrl": "https://lh4.googleusercontent.com/-xPg2nUEgcGg/AAAAAAAAAAI/AAAAAAAAI9M/cs3cIZpPWqk/s64/photo.jpg",
      "userId": "10332875964598669976"
     },
     "user_tz": -480
    },
    "id": "z7cdrM_w9qsy",
    "outputId": "2d89fe6e-047d-401a-e1d8-911503ea9c96"
   },
   "outputs": [
    {
     "data": {
      "text/plain": [
       "2.454"
      ]
     },
     "execution_count": 9,
     "metadata": {},
     "output_type": "execute_result"
    }
   ],
   "source": [
    "round(df.gender.value_counts()[0]/df.gender.value_counts()[1],3) #second value is for how many digits to round to"
   ]
  },
  {
   "cell_type": "code",
   "execution_count": 14,
   "metadata": {
    "id": "-nNnhZB55gR6",
    "outputId": "85f9427c-5850-45f8-fc02-f17c4f80abd2"
   },
   "outputs": [
    {
     "name": "stdout",
     "output_type": "stream",
     "text": [
      "2.4542124542124544\n"
     ]
    }
   ],
   "source": [
    "a = m_to_f[0]\n",
    "b = m_to_f[1]\n",
    "\n",
    "ratio = a/b\n",
    "print(ratio)\n"
   ]
  },
  {
   "cell_type": "code",
   "execution_count": 15,
   "metadata": {
    "id": "pYKL8bSy5gR6",
    "outputId": "2405229e-dfa0-4a20-a4c7-6696ec315ac2"
   },
   "outputs": [
    {
     "data": {
      "text/plain": [
       "2.4542124542124544"
      ]
     },
     "execution_count": 15,
     "metadata": {},
     "output_type": "execute_result"
    }
   ],
   "source": [
    "m_to_f[0]/m_to_f[1]"
   ]
  },
  {
   "cell_type": "code",
   "execution_count": 16,
   "metadata": {
    "id": "gNu01nUW5gR6",
    "outputId": "920c040c-7ef3-4549-f456-a48869cb749e"
   },
   "outputs": [
    {
     "data": {
      "text/plain": [
       "2.4542124542124544"
      ]
     },
     "execution_count": 16,
     "metadata": {},
     "output_type": "execute_result"
    }
   ],
   "source": [
    "df.gender.value_counts()[0]/df.gender.value_counts()[1]"
   ]
  },
  {
   "cell_type": "code",
   "execution_count": 16,
   "metadata": {
    "id": "jPtz6wag5gR7"
   },
   "outputs": [],
   "source": [
    "# Sort the mean age of persons by occupation in ascending order, which occupation is the youngest?"
   ]
  },
  {
   "cell_type": "code",
   "execution_count": 17,
   "metadata": {
    "colab": {
     "base_uri": "https://localhost:8080/"
    },
    "executionInfo": {
     "elapsed": 711,
     "status": "ok",
     "timestamp": 1617105140048,
     "user": {
      "displayName": "Ravi Murugesan",
      "photoUrl": "https://lh4.googleusercontent.com/-xPg2nUEgcGg/AAAAAAAAAAI/AAAAAAAAI9M/cs3cIZpPWqk/s64/photo.jpg",
      "userId": "10332875964598669976"
     },
     "user_tz": -480
    },
    "id": "mxQYClFa5gR7",
    "outputId": "4d73d910-cf22-470a-e184-d0df796aee3e"
   },
   "outputs": [
    {
     "data": {
      "text/plain": [
       "occupation\n",
       "administrator    38.746835\n",
       "artist           31.392857\n",
       "doctor           43.571429\n",
       "educator         42.010526\n",
       "engineer         36.388060\n",
       "entertainment    29.222222\n",
       "executive        38.718750\n",
       "healthcare       41.562500\n",
       "homemaker        32.571429\n",
       "lawyer           36.750000\n",
       "librarian        40.000000\n",
       "marketing        37.615385\n",
       "none             26.555556\n",
       "other            34.523810\n",
       "programmer       33.121212\n",
       "retired          63.071429\n",
       "salesman         35.666667\n",
       "scientist        35.548387\n",
       "student          22.081633\n",
       "technician       33.148148\n",
       "writer           36.311111\n",
       "Name: age, dtype: float64"
      ]
     },
     "execution_count": 17,
     "metadata": {},
     "output_type": "execute_result"
    }
   ],
   "source": [
    "df.groupby('occupation').age.mean()"
   ]
  },
  {
   "cell_type": "code",
   "execution_count": 17,
   "metadata": {
    "colab": {
     "base_uri": "https://localhost:8080/"
    },
    "executionInfo": {
     "elapsed": 763,
     "status": "ok",
     "timestamp": 1617105167337,
     "user": {
      "displayName": "Ravi Murugesan",
      "photoUrl": "https://lh4.googleusercontent.com/-xPg2nUEgcGg/AAAAAAAAAAI/AAAAAAAAI9M/cs3cIZpPWqk/s64/photo.jpg",
      "userId": "10332875964598669976"
     },
     "user_tz": -480
    },
    "id": "DsQrq-Vs5gR8",
    "outputId": "3e592eb1-3b54-4574-ee39-13e3f2dc5f54"
   },
   "outputs": [
    {
     "data": {
      "text/plain": [
       "occupation\n",
       "student          22.081633\n",
       "none             26.555556\n",
       "entertainment    29.222222\n",
       "artist           31.392857\n",
       "homemaker        32.571429\n",
       "programmer       33.121212\n",
       "technician       33.148148\n",
       "other            34.523810\n",
       "scientist        35.548387\n",
       "salesman         35.666667\n",
       "writer           36.311111\n",
       "engineer         36.388060\n",
       "lawyer           36.750000\n",
       "marketing        37.615385\n",
       "executive        38.718750\n",
       "administrator    38.746835\n",
       "librarian        40.000000\n",
       "healthcare       41.562500\n",
       "educator         42.010526\n",
       "doctor           43.571429\n",
       "retired          63.071429\n",
       "Name: age, dtype: float64"
      ]
     },
     "execution_count": 17,
     "metadata": {},
     "output_type": "execute_result"
    }
   ],
   "source": [
    "df.groupby('occupation').age.mean().sort_values(ascending=True)"
   ]
  },
  {
   "cell_type": "code",
   "execution_count": 18,
   "metadata": {
    "colab": {
     "base_uri": "https://localhost:8080/",
     "height": 204
    },
    "executionInfo": {
     "elapsed": 760,
     "status": "ok",
     "timestamp": 1617105469475,
     "user": {
      "displayName": "Ravi Murugesan",
      "photoUrl": "https://lh4.googleusercontent.com/-xPg2nUEgcGg/AAAAAAAAAAI/AAAAAAAAI9M/cs3cIZpPWqk/s64/photo.jpg",
      "userId": "10332875964598669976"
     },
     "user_tz": -480
    },
    "id": "-zeXPyvh5gR9",
    "outputId": "3c2eac10-2aa4-4907-f273-1f5ba6592241"
   },
   "outputs": [
    {
     "data": {
      "application/vnd.microsoft.datawrangler.viewer.v0+json": {
       "columns": [
        {
         "name": "index",
         "rawType": "int64",
         "type": "integer"
        },
        {
         "name": "user_id",
         "rawType": "int64",
         "type": "integer"
        },
        {
         "name": "age",
         "rawType": "int64",
         "type": "integer"
        },
        {
         "name": "gender",
         "rawType": "object",
         "type": "string"
        },
        {
         "name": "occupation",
         "rawType": "object",
         "type": "string"
        },
        {
         "name": "zip_code",
         "rawType": "object",
         "type": "string"
        },
        {
         "name": "male",
         "rawType": "int64",
         "type": "integer"
        },
        {
         "name": "female",
         "rawType": "int64",
         "type": "integer"
        }
       ],
       "conversionMethod": "pd.DataFrame",
       "ref": "2d5575fe-e84b-4d39-ab78-46efb755aa19",
       "rows": [
        [
         "0",
         "1",
         "24",
         "M",
         "technician",
         "85711",
         "1",
         "0"
        ],
        [
         "1",
         "2",
         "53",
         "F",
         "other",
         "94043",
         "0",
         "1"
        ],
        [
         "2",
         "3",
         "23",
         "M",
         "writer",
         "32067",
         "1",
         "0"
        ],
        [
         "3",
         "4",
         "24",
         "M",
         "technician",
         "43537",
         "1",
         "0"
        ],
        [
         "4",
         "5",
         "33",
         "F",
         "other",
         "15213",
         "0",
         "1"
        ]
       ],
       "shape": {
        "columns": 7,
        "rows": 5
       }
      },
      "text/html": [
       "<div>\n",
       "<style scoped>\n",
       "    .dataframe tbody tr th:only-of-type {\n",
       "        vertical-align: middle;\n",
       "    }\n",
       "\n",
       "    .dataframe tbody tr th {\n",
       "        vertical-align: top;\n",
       "    }\n",
       "\n",
       "    .dataframe thead th {\n",
       "        text-align: right;\n",
       "    }\n",
       "</style>\n",
       "<table border=\"1\" class=\"dataframe\">\n",
       "  <thead>\n",
       "    <tr style=\"text-align: right;\">\n",
       "      <th></th>\n",
       "      <th>user_id</th>\n",
       "      <th>age</th>\n",
       "      <th>gender</th>\n",
       "      <th>occupation</th>\n",
       "      <th>zip_code</th>\n",
       "      <th>male</th>\n",
       "      <th>female</th>\n",
       "    </tr>\n",
       "  </thead>\n",
       "  <tbody>\n",
       "    <tr>\n",
       "      <th>0</th>\n",
       "      <td>1</td>\n",
       "      <td>24</td>\n",
       "      <td>M</td>\n",
       "      <td>technician</td>\n",
       "      <td>85711</td>\n",
       "      <td>1</td>\n",
       "      <td>0</td>\n",
       "    </tr>\n",
       "    <tr>\n",
       "      <th>1</th>\n",
       "      <td>2</td>\n",
       "      <td>53</td>\n",
       "      <td>F</td>\n",
       "      <td>other</td>\n",
       "      <td>94043</td>\n",
       "      <td>0</td>\n",
       "      <td>1</td>\n",
       "    </tr>\n",
       "    <tr>\n",
       "      <th>2</th>\n",
       "      <td>3</td>\n",
       "      <td>23</td>\n",
       "      <td>M</td>\n",
       "      <td>writer</td>\n",
       "      <td>32067</td>\n",
       "      <td>1</td>\n",
       "      <td>0</td>\n",
       "    </tr>\n",
       "    <tr>\n",
       "      <th>3</th>\n",
       "      <td>4</td>\n",
       "      <td>24</td>\n",
       "      <td>M</td>\n",
       "      <td>technician</td>\n",
       "      <td>43537</td>\n",
       "      <td>1</td>\n",
       "      <td>0</td>\n",
       "    </tr>\n",
       "    <tr>\n",
       "      <th>4</th>\n",
       "      <td>5</td>\n",
       "      <td>33</td>\n",
       "      <td>F</td>\n",
       "      <td>other</td>\n",
       "      <td>15213</td>\n",
       "      <td>0</td>\n",
       "      <td>1</td>\n",
       "    </tr>\n",
       "  </tbody>\n",
       "</table>\n",
       "</div>"
      ],
      "text/plain": [
       "   user_id  age gender  occupation zip_code  male  female\n",
       "0        1   24      M  technician    85711     1       0\n",
       "1        2   53      F       other    94043     0       1\n",
       "2        3   23      M      writer    32067     1       0\n",
       "3        4   24      M  technician    43537     1       0\n",
       "4        5   33      F       other    15213     0       1"
      ]
     },
     "execution_count": 18,
     "metadata": {},
     "output_type": "execute_result"
    }
   ],
   "source": [
    "# what is the male to female ratio for each occupation?\n",
    "\n",
    "df['male'] = df.gender.apply(lambda x: 1 if x == 'M' else 0) \n",
    "df['female'] = df.gender.apply(lambda x: 1 if x == 'F' else 0) \n",
    "\n",
    "df['male'] = df.male.astype(int)\n",
    "df['female'] = df.female.astype(int)\n",
    "\n",
    "df.head(5)"
   ]
  },
  {
   "cell_type": "code",
   "execution_count": 21,
   "metadata": {},
   "outputs": [],
   "source": [
    "ratio_df = df.groupby('occupation').agg({'male': 'sum', 'female': 'sum'})\n",
    "ratio_df['ratio'] = ratio_df['male'] / ratio_df['female']"
   ]
  },
  {
   "cell_type": "code",
   "execution_count": 22,
   "metadata": {},
   "outputs": [
    {
     "data": {
      "text/plain": [
       "occupation\n",
       "administrator     1.194444\n",
       "artist            1.153846\n",
       "doctor                 inf\n",
       "educator          2.653846\n",
       "engineer         32.500000\n",
       "entertainment     8.000000\n",
       "executive         9.666667\n",
       "healthcare        0.454545\n",
       "homemaker         0.166667\n",
       "lawyer            5.000000\n",
       "librarian         0.758621\n",
       "marketing         1.600000\n",
       "none              1.250000\n",
       "other             1.916667\n",
       "programmer       10.000000\n",
       "retired          13.000000\n",
       "salesman          3.000000\n",
       "scientist         9.333333\n",
       "student           2.266667\n",
       "technician       26.000000\n",
       "writer            1.368421\n",
       "Name: ratio, dtype: float64"
      ]
     },
     "execution_count": 22,
     "metadata": {},
     "output_type": "execute_result"
    }
   ],
   "source": [
    "ratio_df['ratio']"
   ]
  },
  {
   "cell_type": "code",
   "execution_count": 23,
   "metadata": {
    "id": "mu9T0wNT5gR_",
    "outputId": "920880c3-81fd-400d-e58b-4cf05f265061"
   },
   "outputs": [
    {
     "data": {
      "application/vnd.microsoft.datawrangler.viewer.v0+json": {
       "columns": [
        {
         "name": "occupation",
         "rawType": "object",
         "type": "string"
        },
        {
         "name": "min",
         "rawType": "int64",
         "type": "integer"
        },
        {
         "name": "max",
         "rawType": "int64",
         "type": "integer"
        },
        {
         "name": "median",
         "rawType": "float64",
         "type": "float"
        },
        {
         "name": "mean",
         "rawType": "float64",
         "type": "float"
        }
       ],
       "conversionMethod": "pd.DataFrame",
       "ref": "23a4a933-7d1c-4ec1-80c6-0af8c86789f3",
       "rows": [
        [
         "administrator",
         "21",
         "70",
         "37.0",
         "38.74683544303797"
        ],
        [
         "artist",
         "19",
         "48",
         "30.0",
         "31.392857142857142"
        ],
        [
         "doctor",
         "28",
         "64",
         "45.0",
         "43.57142857142857"
        ],
        [
         "educator",
         "23",
         "63",
         "42.0",
         "42.01052631578948"
        ],
        [
         "engineer",
         "22",
         "70",
         "36.0",
         "36.38805970149254"
        ],
        [
         "entertainment",
         "15",
         "50",
         "25.0",
         "29.22222222222222"
        ],
        [
         "executive",
         "22",
         "69",
         "38.5",
         "38.71875"
        ],
        [
         "healthcare",
         "22",
         "62",
         "44.5",
         "41.5625"
        ],
        [
         "homemaker",
         "20",
         "50",
         "32.0",
         "32.57142857142857"
        ],
        [
         "lawyer",
         "21",
         "53",
         "34.0",
         "36.75"
        ],
        [
         "librarian",
         "23",
         "69",
         "39.0",
         "40.0"
        ],
        [
         "marketing",
         "24",
         "55",
         "36.0",
         "37.61538461538461"
        ],
        [
         "none",
         "11",
         "55",
         "26.0",
         "26.555555555555557"
        ],
        [
         "other",
         "13",
         "64",
         "32.0",
         "34.523809523809526"
        ],
        [
         "programmer",
         "20",
         "63",
         "30.0",
         "33.121212121212125"
        ],
        [
         "retired",
         "51",
         "73",
         "63.0",
         "63.07142857142857"
        ],
        [
         "salesman",
         "18",
         "66",
         "34.0",
         "35.666666666666664"
        ],
        [
         "scientist",
         "23",
         "55",
         "37.0",
         "35.54838709677419"
        ],
        [
         "student",
         "7",
         "42",
         "21.0",
         "22.081632653061224"
        ],
        [
         "technician",
         "21",
         "55",
         "30.0",
         "33.148148148148145"
        ],
        [
         "writer",
         "18",
         "60",
         "36.0",
         "36.31111111111111"
        ]
       ],
       "shape": {
        "columns": 4,
        "rows": 21
       }
      },
      "text/html": [
       "<div>\n",
       "<style scoped>\n",
       "    .dataframe tbody tr th:only-of-type {\n",
       "        vertical-align: middle;\n",
       "    }\n",
       "\n",
       "    .dataframe tbody tr th {\n",
       "        vertical-align: top;\n",
       "    }\n",
       "\n",
       "    .dataframe thead th {\n",
       "        text-align: right;\n",
       "    }\n",
       "</style>\n",
       "<table border=\"1\" class=\"dataframe\">\n",
       "  <thead>\n",
       "    <tr style=\"text-align: right;\">\n",
       "      <th></th>\n",
       "      <th>min</th>\n",
       "      <th>max</th>\n",
       "      <th>median</th>\n",
       "      <th>mean</th>\n",
       "    </tr>\n",
       "    <tr>\n",
       "      <th>occupation</th>\n",
       "      <th></th>\n",
       "      <th></th>\n",
       "      <th></th>\n",
       "      <th></th>\n",
       "    </tr>\n",
       "  </thead>\n",
       "  <tbody>\n",
       "    <tr>\n",
       "      <th>administrator</th>\n",
       "      <td>21</td>\n",
       "      <td>70</td>\n",
       "      <td>37.0</td>\n",
       "      <td>38.746835</td>\n",
       "    </tr>\n",
       "    <tr>\n",
       "      <th>artist</th>\n",
       "      <td>19</td>\n",
       "      <td>48</td>\n",
       "      <td>30.0</td>\n",
       "      <td>31.392857</td>\n",
       "    </tr>\n",
       "    <tr>\n",
       "      <th>doctor</th>\n",
       "      <td>28</td>\n",
       "      <td>64</td>\n",
       "      <td>45.0</td>\n",
       "      <td>43.571429</td>\n",
       "    </tr>\n",
       "    <tr>\n",
       "      <th>educator</th>\n",
       "      <td>23</td>\n",
       "      <td>63</td>\n",
       "      <td>42.0</td>\n",
       "      <td>42.010526</td>\n",
       "    </tr>\n",
       "    <tr>\n",
       "      <th>engineer</th>\n",
       "      <td>22</td>\n",
       "      <td>70</td>\n",
       "      <td>36.0</td>\n",
       "      <td>36.388060</td>\n",
       "    </tr>\n",
       "    <tr>\n",
       "      <th>entertainment</th>\n",
       "      <td>15</td>\n",
       "      <td>50</td>\n",
       "      <td>25.0</td>\n",
       "      <td>29.222222</td>\n",
       "    </tr>\n",
       "    <tr>\n",
       "      <th>executive</th>\n",
       "      <td>22</td>\n",
       "      <td>69</td>\n",
       "      <td>38.5</td>\n",
       "      <td>38.718750</td>\n",
       "    </tr>\n",
       "    <tr>\n",
       "      <th>healthcare</th>\n",
       "      <td>22</td>\n",
       "      <td>62</td>\n",
       "      <td>44.5</td>\n",
       "      <td>41.562500</td>\n",
       "    </tr>\n",
       "    <tr>\n",
       "      <th>homemaker</th>\n",
       "      <td>20</td>\n",
       "      <td>50</td>\n",
       "      <td>32.0</td>\n",
       "      <td>32.571429</td>\n",
       "    </tr>\n",
       "    <tr>\n",
       "      <th>lawyer</th>\n",
       "      <td>21</td>\n",
       "      <td>53</td>\n",
       "      <td>34.0</td>\n",
       "      <td>36.750000</td>\n",
       "    </tr>\n",
       "    <tr>\n",
       "      <th>librarian</th>\n",
       "      <td>23</td>\n",
       "      <td>69</td>\n",
       "      <td>39.0</td>\n",
       "      <td>40.000000</td>\n",
       "    </tr>\n",
       "    <tr>\n",
       "      <th>marketing</th>\n",
       "      <td>24</td>\n",
       "      <td>55</td>\n",
       "      <td>36.0</td>\n",
       "      <td>37.615385</td>\n",
       "    </tr>\n",
       "    <tr>\n",
       "      <th>none</th>\n",
       "      <td>11</td>\n",
       "      <td>55</td>\n",
       "      <td>26.0</td>\n",
       "      <td>26.555556</td>\n",
       "    </tr>\n",
       "    <tr>\n",
       "      <th>other</th>\n",
       "      <td>13</td>\n",
       "      <td>64</td>\n",
       "      <td>32.0</td>\n",
       "      <td>34.523810</td>\n",
       "    </tr>\n",
       "    <tr>\n",
       "      <th>programmer</th>\n",
       "      <td>20</td>\n",
       "      <td>63</td>\n",
       "      <td>30.0</td>\n",
       "      <td>33.121212</td>\n",
       "    </tr>\n",
       "    <tr>\n",
       "      <th>retired</th>\n",
       "      <td>51</td>\n",
       "      <td>73</td>\n",
       "      <td>63.0</td>\n",
       "      <td>63.071429</td>\n",
       "    </tr>\n",
       "    <tr>\n",
       "      <th>salesman</th>\n",
       "      <td>18</td>\n",
       "      <td>66</td>\n",
       "      <td>34.0</td>\n",
       "      <td>35.666667</td>\n",
       "    </tr>\n",
       "    <tr>\n",
       "      <th>scientist</th>\n",
       "      <td>23</td>\n",
       "      <td>55</td>\n",
       "      <td>37.0</td>\n",
       "      <td>35.548387</td>\n",
       "    </tr>\n",
       "    <tr>\n",
       "      <th>student</th>\n",
       "      <td>7</td>\n",
       "      <td>42</td>\n",
       "      <td>21.0</td>\n",
       "      <td>22.081633</td>\n",
       "    </tr>\n",
       "    <tr>\n",
       "      <th>technician</th>\n",
       "      <td>21</td>\n",
       "      <td>55</td>\n",
       "      <td>30.0</td>\n",
       "      <td>33.148148</td>\n",
       "    </tr>\n",
       "    <tr>\n",
       "      <th>writer</th>\n",
       "      <td>18</td>\n",
       "      <td>60</td>\n",
       "      <td>36.0</td>\n",
       "      <td>36.311111</td>\n",
       "    </tr>\n",
       "  </tbody>\n",
       "</table>\n",
       "</div>"
      ],
      "text/plain": [
       "               min  max  median       mean\n",
       "occupation                                \n",
       "administrator   21   70    37.0  38.746835\n",
       "artist          19   48    30.0  31.392857\n",
       "doctor          28   64    45.0  43.571429\n",
       "educator        23   63    42.0  42.010526\n",
       "engineer        22   70    36.0  36.388060\n",
       "entertainment   15   50    25.0  29.222222\n",
       "executive       22   69    38.5  38.718750\n",
       "healthcare      22   62    44.5  41.562500\n",
       "homemaker       20   50    32.0  32.571429\n",
       "lawyer          21   53    34.0  36.750000\n",
       "librarian       23   69    39.0  40.000000\n",
       "marketing       24   55    36.0  37.615385\n",
       "none            11   55    26.0  26.555556\n",
       "other           13   64    32.0  34.523810\n",
       "programmer      20   63    30.0  33.121212\n",
       "retired         51   73    63.0  63.071429\n",
       "salesman        18   66    34.0  35.666667\n",
       "scientist       23   55    37.0  35.548387\n",
       "student          7   42    21.0  22.081633\n",
       "technician      21   55    30.0  33.148148\n",
       "writer          18   60    36.0  36.311111"
      ]
     },
     "execution_count": 23,
     "metadata": {},
     "output_type": "execute_result"
    }
   ],
   "source": [
    "# what is the maximun and minimum age for each occupation?\n",
    "\n",
    "df.groupby('occupation').age.agg(['min', 'max','median','mean'])"
   ]
  },
  {
   "cell_type": "markdown",
   "metadata": {
    "id": "5ZVvkxRa5gSA"
   },
   "source": [
    "# US crime dataset "
   ]
  },
  {
   "cell_type": "code",
   "execution_count": 24,
   "metadata": {
    "colab": {
     "base_uri": "https://localhost:8080/",
     "height": 392
    },
    "executionInfo": {
     "elapsed": 660,
     "status": "error",
     "timestamp": 1617105615630,
     "user": {
      "displayName": "Ravi Murugesan",
      "photoUrl": "https://lh4.googleusercontent.com/-xPg2nUEgcGg/AAAAAAAAAAI/AAAAAAAAI9M/cs3cIZpPWqk/s64/photo.jpg",
      "userId": "10332875964598669976"
     },
     "user_tz": -480
    },
    "id": "RJIwNDdo5gSA",
    "outputId": "712b6d1e-77bf-4a7f-f5fa-73e40e5ba68d"
   },
   "outputs": [
    {
     "data": {
      "application/vnd.microsoft.datawrangler.viewer.v0+json": {
       "columns": [
        {
         "name": "index",
         "rawType": "int64",
         "type": "integer"
        },
        {
         "name": "Year",
         "rawType": "int64",
         "type": "integer"
        },
        {
         "name": "Population",
         "rawType": "int64",
         "type": "integer"
        },
        {
         "name": "Total",
         "rawType": "int64",
         "type": "integer"
        },
        {
         "name": "Violent",
         "rawType": "int64",
         "type": "integer"
        },
        {
         "name": "Property",
         "rawType": "int64",
         "type": "integer"
        },
        {
         "name": "Murder",
         "rawType": "int64",
         "type": "integer"
        },
        {
         "name": "Forcible_Rape",
         "rawType": "int64",
         "type": "integer"
        },
        {
         "name": "Robbery",
         "rawType": "int64",
         "type": "integer"
        },
        {
         "name": "Aggravated_assault",
         "rawType": "int64",
         "type": "integer"
        },
        {
         "name": "Burglary",
         "rawType": "int64",
         "type": "integer"
        },
        {
         "name": "Larceny_Theft",
         "rawType": "int64",
         "type": "integer"
        },
        {
         "name": "Vehicle_Theft",
         "rawType": "int64",
         "type": "integer"
        }
       ],
       "conversionMethod": "pd.DataFrame",
       "ref": "c01dfe77-f545-4056-8714-28b6253b6699",
       "rows": [
        [
         "0",
         "1960",
         "179323175",
         "3384200",
         "288460",
         "3095700",
         "9110",
         "17190",
         "107840",
         "154320",
         "912100",
         "1855400",
         "328200"
        ],
        [
         "1",
         "1961",
         "182992000",
         "3488000",
         "289390",
         "3198600",
         "8740",
         "17220",
         "106670",
         "156760",
         "949600",
         "1913000",
         "336000"
        ],
        [
         "2",
         "1962",
         "185771000",
         "3752200",
         "301510",
         "3450700",
         "8530",
         "17550",
         "110860",
         "164570",
         "994300",
         "2089600",
         "366800"
        ],
        [
         "3",
         "1963",
         "188483000",
         "4109500",
         "316970",
         "3792500",
         "8640",
         "17650",
         "116470",
         "174210",
         "1086400",
         "2297800",
         "408300"
        ],
        [
         "4",
         "1964",
         "191141000",
         "4564600",
         "364220",
         "4200400",
         "9360",
         "21420",
         "130390",
         "203050",
         "1213200",
         "2514400",
         "472800"
        ]
       ],
       "shape": {
        "columns": 12,
        "rows": 5
       }
      },
      "text/html": [
       "<div>\n",
       "<style scoped>\n",
       "    .dataframe tbody tr th:only-of-type {\n",
       "        vertical-align: middle;\n",
       "    }\n",
       "\n",
       "    .dataframe tbody tr th {\n",
       "        vertical-align: top;\n",
       "    }\n",
       "\n",
       "    .dataframe thead th {\n",
       "        text-align: right;\n",
       "    }\n",
       "</style>\n",
       "<table border=\"1\" class=\"dataframe\">\n",
       "  <thead>\n",
       "    <tr style=\"text-align: right;\">\n",
       "      <th></th>\n",
       "      <th>Year</th>\n",
       "      <th>Population</th>\n",
       "      <th>Total</th>\n",
       "      <th>Violent</th>\n",
       "      <th>Property</th>\n",
       "      <th>Murder</th>\n",
       "      <th>Forcible_Rape</th>\n",
       "      <th>Robbery</th>\n",
       "      <th>Aggravated_assault</th>\n",
       "      <th>Burglary</th>\n",
       "      <th>Larceny_Theft</th>\n",
       "      <th>Vehicle_Theft</th>\n",
       "    </tr>\n",
       "  </thead>\n",
       "  <tbody>\n",
       "    <tr>\n",
       "      <th>0</th>\n",
       "      <td>1960</td>\n",
       "      <td>179323175</td>\n",
       "      <td>3384200</td>\n",
       "      <td>288460</td>\n",
       "      <td>3095700</td>\n",
       "      <td>9110</td>\n",
       "      <td>17190</td>\n",
       "      <td>107840</td>\n",
       "      <td>154320</td>\n",
       "      <td>912100</td>\n",
       "      <td>1855400</td>\n",
       "      <td>328200</td>\n",
       "    </tr>\n",
       "    <tr>\n",
       "      <th>1</th>\n",
       "      <td>1961</td>\n",
       "      <td>182992000</td>\n",
       "      <td>3488000</td>\n",
       "      <td>289390</td>\n",
       "      <td>3198600</td>\n",
       "      <td>8740</td>\n",
       "      <td>17220</td>\n",
       "      <td>106670</td>\n",
       "      <td>156760</td>\n",
       "      <td>949600</td>\n",
       "      <td>1913000</td>\n",
       "      <td>336000</td>\n",
       "    </tr>\n",
       "    <tr>\n",
       "      <th>2</th>\n",
       "      <td>1962</td>\n",
       "      <td>185771000</td>\n",
       "      <td>3752200</td>\n",
       "      <td>301510</td>\n",
       "      <td>3450700</td>\n",
       "      <td>8530</td>\n",
       "      <td>17550</td>\n",
       "      <td>110860</td>\n",
       "      <td>164570</td>\n",
       "      <td>994300</td>\n",
       "      <td>2089600</td>\n",
       "      <td>366800</td>\n",
       "    </tr>\n",
       "    <tr>\n",
       "      <th>3</th>\n",
       "      <td>1963</td>\n",
       "      <td>188483000</td>\n",
       "      <td>4109500</td>\n",
       "      <td>316970</td>\n",
       "      <td>3792500</td>\n",
       "      <td>8640</td>\n",
       "      <td>17650</td>\n",
       "      <td>116470</td>\n",
       "      <td>174210</td>\n",
       "      <td>1086400</td>\n",
       "      <td>2297800</td>\n",
       "      <td>408300</td>\n",
       "    </tr>\n",
       "    <tr>\n",
       "      <th>4</th>\n",
       "      <td>1964</td>\n",
       "      <td>191141000</td>\n",
       "      <td>4564600</td>\n",
       "      <td>364220</td>\n",
       "      <td>4200400</td>\n",
       "      <td>9360</td>\n",
       "      <td>21420</td>\n",
       "      <td>130390</td>\n",
       "      <td>203050</td>\n",
       "      <td>1213200</td>\n",
       "      <td>2514400</td>\n",
       "      <td>472800</td>\n",
       "    </tr>\n",
       "  </tbody>\n",
       "</table>\n",
       "</div>"
      ],
      "text/plain": [
       "   Year  Population    Total  Violent  Property  Murder  Forcible_Rape  \\\n",
       "0  1960   179323175  3384200   288460   3095700    9110          17190   \n",
       "1  1961   182992000  3488000   289390   3198600    8740          17220   \n",
       "2  1962   185771000  3752200   301510   3450700    8530          17550   \n",
       "3  1963   188483000  4109500   316970   3792500    8640          17650   \n",
       "4  1964   191141000  4564600   364220   4200400    9360          21420   \n",
       "\n",
       "   Robbery  Aggravated_assault  Burglary  Larceny_Theft  Vehicle_Theft  \n",
       "0   107840              154320    912100        1855400         328200  \n",
       "1   106670              156760    949600        1913000         336000  \n",
       "2   110860              164570    994300        2089600         366800  \n",
       "3   116470              174210   1086400        2297800         408300  \n",
       "4   130390              203050   1213200        2514400         472800  "
      ]
     },
     "execution_count": 24,
     "metadata": {},
     "output_type": "execute_result"
    }
   ],
   "source": [
    "df = pd.read_csv('US_Crime_Rates_1960_2014.csv') # include the local path for the file in your laptop\n",
    "df.head(5)"
   ]
  },
  {
   "cell_type": "code",
   "execution_count": 26,
   "metadata": {
    "id": "C0qs81qy5gSA",
    "outputId": "b1e8f717-7fe4-4183-ba79-99996905a7cf"
   },
   "outputs": [
    {
     "name": "stdout",
     "output_type": "stream",
     "text": [
      "<class 'pandas.core.frame.DataFrame'>\n",
      "RangeIndex: 55 entries, 0 to 54\n",
      "Data columns (total 12 columns):\n",
      " #   Column              Non-Null Count  Dtype\n",
      "---  ------              --------------  -----\n",
      " 0   Year                55 non-null     int64\n",
      " 1   Population          55 non-null     int64\n",
      " 2   Total               55 non-null     int64\n",
      " 3   Violent             55 non-null     int64\n",
      " 4   Property            55 non-null     int64\n",
      " 5   Murder              55 non-null     int64\n",
      " 6   Forcible_Rape       55 non-null     int64\n",
      " 7   Robbery             55 non-null     int64\n",
      " 8   Aggravated_assault  55 non-null     int64\n",
      " 9   Burglary            55 non-null     int64\n",
      " 10  Larceny_Theft       55 non-null     int64\n",
      " 11  Vehicle_Theft       55 non-null     int64\n",
      "dtypes: int64(12)\n",
      "memory usage: 5.3 KB\n"
     ]
    }
   ],
   "source": [
    "# What is the type of the columns?\n",
    "df.info()"
   ]
  },
  {
   "cell_type": "code",
   "execution_count": 28,
   "metadata": {
    "id": "IwnCRfpm5gSB",
    "outputId": "4c729255-27a8-412b-dc55-c823d068241e"
   },
   "outputs": [
    {
     "data": {
      "application/vnd.microsoft.datawrangler.viewer.v0+json": {
       "columns": [
        {
         "name": "index",
         "rawType": "int64",
         "type": "integer"
        },
        {
         "name": "Year",
         "rawType": "int64",
         "type": "integer"
        },
        {
         "name": "Population",
         "rawType": "int64",
         "type": "integer"
        },
        {
         "name": "Total",
         "rawType": "int64",
         "type": "integer"
        },
        {
         "name": "Violent",
         "rawType": "int64",
         "type": "integer"
        },
        {
         "name": "Property",
         "rawType": "int64",
         "type": "integer"
        },
        {
         "name": "Murder",
         "rawType": "int64",
         "type": "integer"
        },
        {
         "name": "Forcible_Rape",
         "rawType": "int64",
         "type": "integer"
        },
        {
         "name": "Robbery",
         "rawType": "int64",
         "type": "integer"
        },
        {
         "name": "Aggravated_assault",
         "rawType": "int64",
         "type": "integer"
        },
        {
         "name": "Burglary",
         "rawType": "int64",
         "type": "integer"
        },
        {
         "name": "Larceny_Theft",
         "rawType": "int64",
         "type": "integer"
        },
        {
         "name": "Vehicle_Theft",
         "rawType": "int64",
         "type": "integer"
        }
       ],
       "conversionMethod": "pd.DataFrame",
       "ref": "890678a3-36ba-47c4-9f9f-4071d49b21f7",
       "rows": [
        [
         "0",
         "1960",
         "179323175",
         "3384200",
         "288460",
         "3095700",
         "9110",
         "17190",
         "107840",
         "154320",
         "912100",
         "1855400",
         "328200"
        ],
        [
         "1",
         "1961",
         "182992000",
         "3488000",
         "289390",
         "3198600",
         "8740",
         "17220",
         "106670",
         "156760",
         "949600",
         "1913000",
         "336000"
        ],
        [
         "2",
         "1962",
         "185771000",
         "3752200",
         "301510",
         "3450700",
         "8530",
         "17550",
         "110860",
         "164570",
         "994300",
         "2089600",
         "366800"
        ]
       ],
       "shape": {
        "columns": 12,
        "rows": 3
       }
      },
      "text/html": [
       "<div>\n",
       "<style scoped>\n",
       "    .dataframe tbody tr th:only-of-type {\n",
       "        vertical-align: middle;\n",
       "    }\n",
       "\n",
       "    .dataframe tbody tr th {\n",
       "        vertical-align: top;\n",
       "    }\n",
       "\n",
       "    .dataframe thead th {\n",
       "        text-align: right;\n",
       "    }\n",
       "</style>\n",
       "<table border=\"1\" class=\"dataframe\">\n",
       "  <thead>\n",
       "    <tr style=\"text-align: right;\">\n",
       "      <th></th>\n",
       "      <th>Year</th>\n",
       "      <th>Population</th>\n",
       "      <th>Total</th>\n",
       "      <th>Violent</th>\n",
       "      <th>Property</th>\n",
       "      <th>Murder</th>\n",
       "      <th>Forcible_Rape</th>\n",
       "      <th>Robbery</th>\n",
       "      <th>Aggravated_assault</th>\n",
       "      <th>Burglary</th>\n",
       "      <th>Larceny_Theft</th>\n",
       "      <th>Vehicle_Theft</th>\n",
       "    </tr>\n",
       "  </thead>\n",
       "  <tbody>\n",
       "    <tr>\n",
       "      <th>0</th>\n",
       "      <td>1960</td>\n",
       "      <td>179323175</td>\n",
       "      <td>3384200</td>\n",
       "      <td>288460</td>\n",
       "      <td>3095700</td>\n",
       "      <td>9110</td>\n",
       "      <td>17190</td>\n",
       "      <td>107840</td>\n",
       "      <td>154320</td>\n",
       "      <td>912100</td>\n",
       "      <td>1855400</td>\n",
       "      <td>328200</td>\n",
       "    </tr>\n",
       "    <tr>\n",
       "      <th>1</th>\n",
       "      <td>1961</td>\n",
       "      <td>182992000</td>\n",
       "      <td>3488000</td>\n",
       "      <td>289390</td>\n",
       "      <td>3198600</td>\n",
       "      <td>8740</td>\n",
       "      <td>17220</td>\n",
       "      <td>106670</td>\n",
       "      <td>156760</td>\n",
       "      <td>949600</td>\n",
       "      <td>1913000</td>\n",
       "      <td>336000</td>\n",
       "    </tr>\n",
       "    <tr>\n",
       "      <th>2</th>\n",
       "      <td>1962</td>\n",
       "      <td>185771000</td>\n",
       "      <td>3752200</td>\n",
       "      <td>301510</td>\n",
       "      <td>3450700</td>\n",
       "      <td>8530</td>\n",
       "      <td>17550</td>\n",
       "      <td>110860</td>\n",
       "      <td>164570</td>\n",
       "      <td>994300</td>\n",
       "      <td>2089600</td>\n",
       "      <td>366800</td>\n",
       "    </tr>\n",
       "  </tbody>\n",
       "</table>\n",
       "</div>"
      ],
      "text/plain": [
       "   Year  Population    Total  Violent  Property  Murder  Forcible_Rape  \\\n",
       "0  1960   179323175  3384200   288460   3095700    9110          17190   \n",
       "1  1961   182992000  3488000   289390   3198600    8740          17220   \n",
       "2  1962   185771000  3752200   301510   3450700    8530          17550   \n",
       "\n",
       "   Robbery  Aggravated_assault  Burglary  Larceny_Theft  Vehicle_Theft  \n",
       "0   107840              154320    912100        1855400         328200  \n",
       "1   106670              156760    949600        1913000         336000  \n",
       "2   110860              164570    994300        2089600         366800  "
      ]
     },
     "execution_count": 28,
     "metadata": {},
     "output_type": "execute_result"
    }
   ],
   "source": [
    "df.head(3)"
   ]
  },
  {
   "cell_type": "code",
   "execution_count": 30,
   "metadata": {
    "id": "xTp_xbpF5gSB",
    "outputId": "fcbfadbb-4c98-48be-b810-6cdd33369e5c"
   },
   "outputs": [
    {
     "data": {
      "application/vnd.microsoft.datawrangler.viewer.v0+json": {
       "columns": [
        {
         "name": "index",
         "rawType": "int64",
         "type": "integer"
        },
        {
         "name": "Year",
         "rawType": "datetime64[ns]",
         "type": "datetime"
        },
        {
         "name": "Population",
         "rawType": "int64",
         "type": "integer"
        },
        {
         "name": "Total",
         "rawType": "int64",
         "type": "integer"
        },
        {
         "name": "Violent",
         "rawType": "int64",
         "type": "integer"
        },
        {
         "name": "Property",
         "rawType": "int64",
         "type": "integer"
        },
        {
         "name": "Murder",
         "rawType": "int64",
         "type": "integer"
        },
        {
         "name": "Forcible_Rape",
         "rawType": "int64",
         "type": "integer"
        },
        {
         "name": "Robbery",
         "rawType": "int64",
         "type": "integer"
        },
        {
         "name": "Aggravated_assault",
         "rawType": "int64",
         "type": "integer"
        },
        {
         "name": "Burglary",
         "rawType": "int64",
         "type": "integer"
        },
        {
         "name": "Larceny_Theft",
         "rawType": "int64",
         "type": "integer"
        },
        {
         "name": "Vehicle_Theft",
         "rawType": "int64",
         "type": "integer"
        }
       ],
       "conversionMethod": "pd.DataFrame",
       "ref": "bcc3c64f-87d4-4185-83f6-78e23d4c6cbf",
       "rows": [
        [
         "0",
         "1960-01-01 00:00:00",
         "179323175",
         "3384200",
         "288460",
         "3095700",
         "9110",
         "17190",
         "107840",
         "154320",
         "912100",
         "1855400",
         "328200"
        ],
        [
         "1",
         "1961-01-01 00:00:00",
         "182992000",
         "3488000",
         "289390",
         "3198600",
         "8740",
         "17220",
         "106670",
         "156760",
         "949600",
         "1913000",
         "336000"
        ],
        [
         "2",
         "1962-01-01 00:00:00",
         "185771000",
         "3752200",
         "301510",
         "3450700",
         "8530",
         "17550",
         "110860",
         "164570",
         "994300",
         "2089600",
         "366800"
        ],
        [
         "3",
         "1963-01-01 00:00:00",
         "188483000",
         "4109500",
         "316970",
         "3792500",
         "8640",
         "17650",
         "116470",
         "174210",
         "1086400",
         "2297800",
         "408300"
        ],
        [
         "4",
         "1964-01-01 00:00:00",
         "191141000",
         "4564600",
         "364220",
         "4200400",
         "9360",
         "21420",
         "130390",
         "203050",
         "1213200",
         "2514400",
         "472800"
        ]
       ],
       "shape": {
        "columns": 12,
        "rows": 5
       }
      },
      "text/html": [
       "<div>\n",
       "<style scoped>\n",
       "    .dataframe tbody tr th:only-of-type {\n",
       "        vertical-align: middle;\n",
       "    }\n",
       "\n",
       "    .dataframe tbody tr th {\n",
       "        vertical-align: top;\n",
       "    }\n",
       "\n",
       "    .dataframe thead th {\n",
       "        text-align: right;\n",
       "    }\n",
       "</style>\n",
       "<table border=\"1\" class=\"dataframe\">\n",
       "  <thead>\n",
       "    <tr style=\"text-align: right;\">\n",
       "      <th></th>\n",
       "      <th>Year</th>\n",
       "      <th>Population</th>\n",
       "      <th>Total</th>\n",
       "      <th>Violent</th>\n",
       "      <th>Property</th>\n",
       "      <th>Murder</th>\n",
       "      <th>Forcible_Rape</th>\n",
       "      <th>Robbery</th>\n",
       "      <th>Aggravated_assault</th>\n",
       "      <th>Burglary</th>\n",
       "      <th>Larceny_Theft</th>\n",
       "      <th>Vehicle_Theft</th>\n",
       "    </tr>\n",
       "  </thead>\n",
       "  <tbody>\n",
       "    <tr>\n",
       "      <th>0</th>\n",
       "      <td>1960-01-01</td>\n",
       "      <td>179323175</td>\n",
       "      <td>3384200</td>\n",
       "      <td>288460</td>\n",
       "      <td>3095700</td>\n",
       "      <td>9110</td>\n",
       "      <td>17190</td>\n",
       "      <td>107840</td>\n",
       "      <td>154320</td>\n",
       "      <td>912100</td>\n",
       "      <td>1855400</td>\n",
       "      <td>328200</td>\n",
       "    </tr>\n",
       "    <tr>\n",
       "      <th>1</th>\n",
       "      <td>1961-01-01</td>\n",
       "      <td>182992000</td>\n",
       "      <td>3488000</td>\n",
       "      <td>289390</td>\n",
       "      <td>3198600</td>\n",
       "      <td>8740</td>\n",
       "      <td>17220</td>\n",
       "      <td>106670</td>\n",
       "      <td>156760</td>\n",
       "      <td>949600</td>\n",
       "      <td>1913000</td>\n",
       "      <td>336000</td>\n",
       "    </tr>\n",
       "    <tr>\n",
       "      <th>2</th>\n",
       "      <td>1962-01-01</td>\n",
       "      <td>185771000</td>\n",
       "      <td>3752200</td>\n",
       "      <td>301510</td>\n",
       "      <td>3450700</td>\n",
       "      <td>8530</td>\n",
       "      <td>17550</td>\n",
       "      <td>110860</td>\n",
       "      <td>164570</td>\n",
       "      <td>994300</td>\n",
       "      <td>2089600</td>\n",
       "      <td>366800</td>\n",
       "    </tr>\n",
       "    <tr>\n",
       "      <th>3</th>\n",
       "      <td>1963-01-01</td>\n",
       "      <td>188483000</td>\n",
       "      <td>4109500</td>\n",
       "      <td>316970</td>\n",
       "      <td>3792500</td>\n",
       "      <td>8640</td>\n",
       "      <td>17650</td>\n",
       "      <td>116470</td>\n",
       "      <td>174210</td>\n",
       "      <td>1086400</td>\n",
       "      <td>2297800</td>\n",
       "      <td>408300</td>\n",
       "    </tr>\n",
       "    <tr>\n",
       "      <th>4</th>\n",
       "      <td>1964-01-01</td>\n",
       "      <td>191141000</td>\n",
       "      <td>4564600</td>\n",
       "      <td>364220</td>\n",
       "      <td>4200400</td>\n",
       "      <td>9360</td>\n",
       "      <td>21420</td>\n",
       "      <td>130390</td>\n",
       "      <td>203050</td>\n",
       "      <td>1213200</td>\n",
       "      <td>2514400</td>\n",
       "      <td>472800</td>\n",
       "    </tr>\n",
       "  </tbody>\n",
       "</table>\n",
       "</div>"
      ],
      "text/plain": [
       "        Year  Population    Total  Violent  Property  Murder  Forcible_Rape  \\\n",
       "0 1960-01-01   179323175  3384200   288460   3095700    9110          17190   \n",
       "1 1961-01-01   182992000  3488000   289390   3198600    8740          17220   \n",
       "2 1962-01-01   185771000  3752200   301510   3450700    8530          17550   \n",
       "3 1963-01-01   188483000  4109500   316970   3792500    8640          17650   \n",
       "4 1964-01-01   191141000  4564600   364220   4200400    9360          21420   \n",
       "\n",
       "   Robbery  Aggravated_assault  Burglary  Larceny_Theft  Vehicle_Theft  \n",
       "0   107840              154320    912100        1855400         328200  \n",
       "1   106670              156760    949600        1913000         336000  \n",
       "2   110860              164570    994300        2089600         366800  \n",
       "3   116470              174210   1086400        2297800         408300  \n",
       "4   130390              203050   1213200        2514400         472800  "
      ]
     },
     "execution_count": 30,
     "metadata": {},
     "output_type": "execute_result"
    }
   ],
   "source": [
    "# Have you noticed that the type of Year is int64.\n",
    "# But pandas has a different type to work with Time Series.\n",
    "\n",
    "# Convert the type of the column Year to datetime64\n",
    "\n",
    "df['Year'] = pd.to_datetime(df.Year, format = \"%Y\") # yyyy-mm-dd\n",
    "df.head()\n"
   ]
  },
  {
   "cell_type": "code",
   "execution_count": 33,
   "metadata": {
    "id": "YwSxgi1W5gSB",
    "outputId": "bd694336-7895-4d5d-9749-c89e4aa458bc"
   },
   "outputs": [
    {
     "name": "stdout",
     "output_type": "stream",
     "text": [
      "<class 'pandas.core.frame.DataFrame'>\n",
      "RangeIndex: 55 entries, 0 to 54\n",
      "Data columns (total 12 columns):\n",
      " #   Column              Non-Null Count  Dtype         \n",
      "---  ------              --------------  -----         \n",
      " 0   Year                55 non-null     datetime64[ns]\n",
      " 1   Population          55 non-null     int64         \n",
      " 2   Total               55 non-null     int64         \n",
      " 3   Violent             55 non-null     int64         \n",
      " 4   Property            55 non-null     int64         \n",
      " 5   Murder              55 non-null     int64         \n",
      " 6   Forcible_Rape       55 non-null     int64         \n",
      " 7   Robbery             55 non-null     int64         \n",
      " 8   Aggravated_assault  55 non-null     int64         \n",
      " 9   Burglary            55 non-null     int64         \n",
      " 10  Larceny_Theft       55 non-null     int64         \n",
      " 11  Vehicle_Theft       55 non-null     int64         \n",
      "dtypes: datetime64[ns](1), int64(11)\n",
      "memory usage: 5.3 KB\n"
     ]
    }
   ],
   "source": [
    "df.info()"
   ]
  },
  {
   "cell_type": "code",
   "execution_count": 40,
   "metadata": {
    "id": "b8QdNH-J5gSB"
   },
   "outputs": [],
   "source": [
    "# Set the Year column as the index of the dataframe"
   ]
  },
  {
   "cell_type": "code",
   "execution_count": 34,
   "metadata": {
    "id": "f7LLzBdd5gSB",
    "outputId": "39801e2e-bc31-42d8-920e-753eb8c45feb"
   },
   "outputs": [
    {
     "data": {
      "application/vnd.microsoft.datawrangler.viewer.v0+json": {
       "columns": [
        {
         "name": "Year",
         "rawType": "datetime64[ns]",
         "type": "datetime"
        },
        {
         "name": "Population",
         "rawType": "int64",
         "type": "integer"
        },
        {
         "name": "Total",
         "rawType": "int64",
         "type": "integer"
        },
        {
         "name": "Violent",
         "rawType": "int64",
         "type": "integer"
        },
        {
         "name": "Property",
         "rawType": "int64",
         "type": "integer"
        },
        {
         "name": "Murder",
         "rawType": "int64",
         "type": "integer"
        },
        {
         "name": "Forcible_Rape",
         "rawType": "int64",
         "type": "integer"
        },
        {
         "name": "Robbery",
         "rawType": "int64",
         "type": "integer"
        },
        {
         "name": "Aggravated_assault",
         "rawType": "int64",
         "type": "integer"
        },
        {
         "name": "Burglary",
         "rawType": "int64",
         "type": "integer"
        },
        {
         "name": "Larceny_Theft",
         "rawType": "int64",
         "type": "integer"
        },
        {
         "name": "Vehicle_Theft",
         "rawType": "int64",
         "type": "integer"
        }
       ],
       "conversionMethod": "pd.DataFrame",
       "ref": "bbe4d1c9-b76a-46dc-8690-1e92d058146c",
       "rows": [
        [
         "1960-01-01 00:00:00",
         "179323175",
         "3384200",
         "288460",
         "3095700",
         "9110",
         "17190",
         "107840",
         "154320",
         "912100",
         "1855400",
         "328200"
        ],
        [
         "1961-01-01 00:00:00",
         "182992000",
         "3488000",
         "289390",
         "3198600",
         "8740",
         "17220",
         "106670",
         "156760",
         "949600",
         "1913000",
         "336000"
        ],
        [
         "1962-01-01 00:00:00",
         "185771000",
         "3752200",
         "301510",
         "3450700",
         "8530",
         "17550",
         "110860",
         "164570",
         "994300",
         "2089600",
         "366800"
        ],
        [
         "1963-01-01 00:00:00",
         "188483000",
         "4109500",
         "316970",
         "3792500",
         "8640",
         "17650",
         "116470",
         "174210",
         "1086400",
         "2297800",
         "408300"
        ],
        [
         "1964-01-01 00:00:00",
         "191141000",
         "4564600",
         "364220",
         "4200400",
         "9360",
         "21420",
         "130390",
         "203050",
         "1213200",
         "2514400",
         "472800"
        ]
       ],
       "shape": {
        "columns": 11,
        "rows": 5
       }
      },
      "text/html": [
       "<div>\n",
       "<style scoped>\n",
       "    .dataframe tbody tr th:only-of-type {\n",
       "        vertical-align: middle;\n",
       "    }\n",
       "\n",
       "    .dataframe tbody tr th {\n",
       "        vertical-align: top;\n",
       "    }\n",
       "\n",
       "    .dataframe thead th {\n",
       "        text-align: right;\n",
       "    }\n",
       "</style>\n",
       "<table border=\"1\" class=\"dataframe\">\n",
       "  <thead>\n",
       "    <tr style=\"text-align: right;\">\n",
       "      <th></th>\n",
       "      <th>Population</th>\n",
       "      <th>Total</th>\n",
       "      <th>Violent</th>\n",
       "      <th>Property</th>\n",
       "      <th>Murder</th>\n",
       "      <th>Forcible_Rape</th>\n",
       "      <th>Robbery</th>\n",
       "      <th>Aggravated_assault</th>\n",
       "      <th>Burglary</th>\n",
       "      <th>Larceny_Theft</th>\n",
       "      <th>Vehicle_Theft</th>\n",
       "    </tr>\n",
       "    <tr>\n",
       "      <th>Year</th>\n",
       "      <th></th>\n",
       "      <th></th>\n",
       "      <th></th>\n",
       "      <th></th>\n",
       "      <th></th>\n",
       "      <th></th>\n",
       "      <th></th>\n",
       "      <th></th>\n",
       "      <th></th>\n",
       "      <th></th>\n",
       "      <th></th>\n",
       "    </tr>\n",
       "  </thead>\n",
       "  <tbody>\n",
       "    <tr>\n",
       "      <th>1960-01-01</th>\n",
       "      <td>179323175</td>\n",
       "      <td>3384200</td>\n",
       "      <td>288460</td>\n",
       "      <td>3095700</td>\n",
       "      <td>9110</td>\n",
       "      <td>17190</td>\n",
       "      <td>107840</td>\n",
       "      <td>154320</td>\n",
       "      <td>912100</td>\n",
       "      <td>1855400</td>\n",
       "      <td>328200</td>\n",
       "    </tr>\n",
       "    <tr>\n",
       "      <th>1961-01-01</th>\n",
       "      <td>182992000</td>\n",
       "      <td>3488000</td>\n",
       "      <td>289390</td>\n",
       "      <td>3198600</td>\n",
       "      <td>8740</td>\n",
       "      <td>17220</td>\n",
       "      <td>106670</td>\n",
       "      <td>156760</td>\n",
       "      <td>949600</td>\n",
       "      <td>1913000</td>\n",
       "      <td>336000</td>\n",
       "    </tr>\n",
       "    <tr>\n",
       "      <th>1962-01-01</th>\n",
       "      <td>185771000</td>\n",
       "      <td>3752200</td>\n",
       "      <td>301510</td>\n",
       "      <td>3450700</td>\n",
       "      <td>8530</td>\n",
       "      <td>17550</td>\n",
       "      <td>110860</td>\n",
       "      <td>164570</td>\n",
       "      <td>994300</td>\n",
       "      <td>2089600</td>\n",
       "      <td>366800</td>\n",
       "    </tr>\n",
       "    <tr>\n",
       "      <th>1963-01-01</th>\n",
       "      <td>188483000</td>\n",
       "      <td>4109500</td>\n",
       "      <td>316970</td>\n",
       "      <td>3792500</td>\n",
       "      <td>8640</td>\n",
       "      <td>17650</td>\n",
       "      <td>116470</td>\n",
       "      <td>174210</td>\n",
       "      <td>1086400</td>\n",
       "      <td>2297800</td>\n",
       "      <td>408300</td>\n",
       "    </tr>\n",
       "    <tr>\n",
       "      <th>1964-01-01</th>\n",
       "      <td>191141000</td>\n",
       "      <td>4564600</td>\n",
       "      <td>364220</td>\n",
       "      <td>4200400</td>\n",
       "      <td>9360</td>\n",
       "      <td>21420</td>\n",
       "      <td>130390</td>\n",
       "      <td>203050</td>\n",
       "      <td>1213200</td>\n",
       "      <td>2514400</td>\n",
       "      <td>472800</td>\n",
       "    </tr>\n",
       "  </tbody>\n",
       "</table>\n",
       "</div>"
      ],
      "text/plain": [
       "            Population    Total  Violent  Property  Murder  Forcible_Rape  \\\n",
       "Year                                                                        \n",
       "1960-01-01   179323175  3384200   288460   3095700    9110          17190   \n",
       "1961-01-01   182992000  3488000   289390   3198600    8740          17220   \n",
       "1962-01-01   185771000  3752200   301510   3450700    8530          17550   \n",
       "1963-01-01   188483000  4109500   316970   3792500    8640          17650   \n",
       "1964-01-01   191141000  4564600   364220   4200400    9360          21420   \n",
       "\n",
       "            Robbery  Aggravated_assault  Burglary  Larceny_Theft  \\\n",
       "Year                                                               \n",
       "1960-01-01   107840              154320    912100        1855400   \n",
       "1961-01-01   106670              156760    949600        1913000   \n",
       "1962-01-01   110860              164570    994300        2089600   \n",
       "1963-01-01   116470              174210   1086400        2297800   \n",
       "1964-01-01   130390              203050   1213200        2514400   \n",
       "\n",
       "            Vehicle_Theft  \n",
       "Year                       \n",
       "1960-01-01         328200  \n",
       "1961-01-01         336000  \n",
       "1962-01-01         366800  \n",
       "1963-01-01         408300  \n",
       "1964-01-01         472800  "
      ]
     },
     "execution_count": 34,
     "metadata": {},
     "output_type": "execute_result"
    }
   ],
   "source": [
    "df = df.set_index('Year')\n",
    "df.head(5)"
   ]
  },
  {
   "cell_type": "code",
   "execution_count": 42,
   "metadata": {
    "id": "PHeDmDW25gSB"
   },
   "outputs": [],
   "source": [
    "# Delete the Total column"
   ]
  },
  {
   "cell_type": "code",
   "execution_count": 35,
   "metadata": {
    "id": "-BdMLbdN5gSC",
    "outputId": "7f4cdcff-8475-44e4-8d8a-dc4e361e1fca"
   },
   "outputs": [
    {
     "data": {
      "application/vnd.microsoft.datawrangler.viewer.v0+json": {
       "columns": [
        {
         "name": "Year",
         "rawType": "datetime64[ns]",
         "type": "datetime"
        },
        {
         "name": "Population",
         "rawType": "int64",
         "type": "integer"
        },
        {
         "name": "Violent",
         "rawType": "int64",
         "type": "integer"
        },
        {
         "name": "Property",
         "rawType": "int64",
         "type": "integer"
        },
        {
         "name": "Murder",
         "rawType": "int64",
         "type": "integer"
        },
        {
         "name": "Forcible_Rape",
         "rawType": "int64",
         "type": "integer"
        },
        {
         "name": "Robbery",
         "rawType": "int64",
         "type": "integer"
        },
        {
         "name": "Aggravated_assault",
         "rawType": "int64",
         "type": "integer"
        },
        {
         "name": "Burglary",
         "rawType": "int64",
         "type": "integer"
        },
        {
         "name": "Larceny_Theft",
         "rawType": "int64",
         "type": "integer"
        },
        {
         "name": "Vehicle_Theft",
         "rawType": "int64",
         "type": "integer"
        }
       ],
       "conversionMethod": "pd.DataFrame",
       "ref": "b2f76255-4d73-43cf-97ba-697d02c190ce",
       "rows": [
        [
         "1960-01-01 00:00:00",
         "179323175",
         "288460",
         "3095700",
         "9110",
         "17190",
         "107840",
         "154320",
         "912100",
         "1855400",
         "328200"
        ],
        [
         "1961-01-01 00:00:00",
         "182992000",
         "289390",
         "3198600",
         "8740",
         "17220",
         "106670",
         "156760",
         "949600",
         "1913000",
         "336000"
        ],
        [
         "1962-01-01 00:00:00",
         "185771000",
         "301510",
         "3450700",
         "8530",
         "17550",
         "110860",
         "164570",
         "994300",
         "2089600",
         "366800"
        ],
        [
         "1963-01-01 00:00:00",
         "188483000",
         "316970",
         "3792500",
         "8640",
         "17650",
         "116470",
         "174210",
         "1086400",
         "2297800",
         "408300"
        ],
        [
         "1964-01-01 00:00:00",
         "191141000",
         "364220",
         "4200400",
         "9360",
         "21420",
         "130390",
         "203050",
         "1213200",
         "2514400",
         "472800"
        ]
       ],
       "shape": {
        "columns": 10,
        "rows": 5
       }
      },
      "text/html": [
       "<div>\n",
       "<style scoped>\n",
       "    .dataframe tbody tr th:only-of-type {\n",
       "        vertical-align: middle;\n",
       "    }\n",
       "\n",
       "    .dataframe tbody tr th {\n",
       "        vertical-align: top;\n",
       "    }\n",
       "\n",
       "    .dataframe thead th {\n",
       "        text-align: right;\n",
       "    }\n",
       "</style>\n",
       "<table border=\"1\" class=\"dataframe\">\n",
       "  <thead>\n",
       "    <tr style=\"text-align: right;\">\n",
       "      <th></th>\n",
       "      <th>Population</th>\n",
       "      <th>Violent</th>\n",
       "      <th>Property</th>\n",
       "      <th>Murder</th>\n",
       "      <th>Forcible_Rape</th>\n",
       "      <th>Robbery</th>\n",
       "      <th>Aggravated_assault</th>\n",
       "      <th>Burglary</th>\n",
       "      <th>Larceny_Theft</th>\n",
       "      <th>Vehicle_Theft</th>\n",
       "    </tr>\n",
       "    <tr>\n",
       "      <th>Year</th>\n",
       "      <th></th>\n",
       "      <th></th>\n",
       "      <th></th>\n",
       "      <th></th>\n",
       "      <th></th>\n",
       "      <th></th>\n",
       "      <th></th>\n",
       "      <th></th>\n",
       "      <th></th>\n",
       "      <th></th>\n",
       "    </tr>\n",
       "  </thead>\n",
       "  <tbody>\n",
       "    <tr>\n",
       "      <th>1960-01-01</th>\n",
       "      <td>179323175</td>\n",
       "      <td>288460</td>\n",
       "      <td>3095700</td>\n",
       "      <td>9110</td>\n",
       "      <td>17190</td>\n",
       "      <td>107840</td>\n",
       "      <td>154320</td>\n",
       "      <td>912100</td>\n",
       "      <td>1855400</td>\n",
       "      <td>328200</td>\n",
       "    </tr>\n",
       "    <tr>\n",
       "      <th>1961-01-01</th>\n",
       "      <td>182992000</td>\n",
       "      <td>289390</td>\n",
       "      <td>3198600</td>\n",
       "      <td>8740</td>\n",
       "      <td>17220</td>\n",
       "      <td>106670</td>\n",
       "      <td>156760</td>\n",
       "      <td>949600</td>\n",
       "      <td>1913000</td>\n",
       "      <td>336000</td>\n",
       "    </tr>\n",
       "    <tr>\n",
       "      <th>1962-01-01</th>\n",
       "      <td>185771000</td>\n",
       "      <td>301510</td>\n",
       "      <td>3450700</td>\n",
       "      <td>8530</td>\n",
       "      <td>17550</td>\n",
       "      <td>110860</td>\n",
       "      <td>164570</td>\n",
       "      <td>994300</td>\n",
       "      <td>2089600</td>\n",
       "      <td>366800</td>\n",
       "    </tr>\n",
       "    <tr>\n",
       "      <th>1963-01-01</th>\n",
       "      <td>188483000</td>\n",
       "      <td>316970</td>\n",
       "      <td>3792500</td>\n",
       "      <td>8640</td>\n",
       "      <td>17650</td>\n",
       "      <td>116470</td>\n",
       "      <td>174210</td>\n",
       "      <td>1086400</td>\n",
       "      <td>2297800</td>\n",
       "      <td>408300</td>\n",
       "    </tr>\n",
       "    <tr>\n",
       "      <th>1964-01-01</th>\n",
       "      <td>191141000</td>\n",
       "      <td>364220</td>\n",
       "      <td>4200400</td>\n",
       "      <td>9360</td>\n",
       "      <td>21420</td>\n",
       "      <td>130390</td>\n",
       "      <td>203050</td>\n",
       "      <td>1213200</td>\n",
       "      <td>2514400</td>\n",
       "      <td>472800</td>\n",
       "    </tr>\n",
       "  </tbody>\n",
       "</table>\n",
       "</div>"
      ],
      "text/plain": [
       "            Population  Violent  Property  Murder  Forcible_Rape  Robbery  \\\n",
       "Year                                                                        \n",
       "1960-01-01   179323175   288460   3095700    9110          17190   107840   \n",
       "1961-01-01   182992000   289390   3198600    8740          17220   106670   \n",
       "1962-01-01   185771000   301510   3450700    8530          17550   110860   \n",
       "1963-01-01   188483000   316970   3792500    8640          17650   116470   \n",
       "1964-01-01   191141000   364220   4200400    9360          21420   130390   \n",
       "\n",
       "            Aggravated_assault  Burglary  Larceny_Theft  Vehicle_Theft  \n",
       "Year                                                                    \n",
       "1960-01-01              154320    912100        1855400         328200  \n",
       "1961-01-01              156760    949600        1913000         336000  \n",
       "1962-01-01              164570    994300        2089600         366800  \n",
       "1963-01-01              174210   1086400        2297800         408300  \n",
       "1964-01-01              203050   1213200        2514400         472800  "
      ]
     },
     "execution_count": 35,
     "metadata": {},
     "output_type": "execute_result"
    }
   ],
   "source": [
    "df.drop('Total', axis = 1, inplace = True) # axis is for rows and cols. (0-rows, 1-columns). \n",
    "# inplace=True is to make sure that the action occurs directly in the dataset.\n",
    "df.head(5)"
   ]
  },
  {
   "cell_type": "code",
   "execution_count": 36,
   "metadata": {
    "scrolled": true
   },
   "outputs": [
    {
     "ename": "KeyError",
     "evalue": "\"['Total'] not found in axis\"",
     "output_type": "error",
     "traceback": [
      "\u001b[0;31m---------------------------------------------------------------------------\u001b[0m",
      "\u001b[0;31mKeyError\u001b[0m                                  Traceback (most recent call last)",
      "Input \u001b[0;32mIn [36]\u001b[0m, in \u001b[0;36m<cell line: 1>\u001b[0;34m()\u001b[0m\n\u001b[0;32m----> 1\u001b[0m \u001b[43mdf\u001b[49m\u001b[38;5;241;43m.\u001b[39;49m\u001b[43mdrop\u001b[49m\u001b[43m(\u001b[49m\u001b[38;5;124;43m'\u001b[39;49m\u001b[38;5;124;43mTotal\u001b[39;49m\u001b[38;5;124;43m'\u001b[39;49m\u001b[43m,\u001b[49m\u001b[43m \u001b[49m\u001b[43maxis\u001b[49m\u001b[43m \u001b[49m\u001b[38;5;241;43m=\u001b[39;49m\u001b[43m \u001b[49m\u001b[38;5;241;43m1\u001b[39;49m\u001b[43m,\u001b[49m\u001b[43minplace\u001b[49m\u001b[38;5;241;43m=\u001b[39;49m\u001b[38;5;28;43;01mFalse\u001b[39;49;00m\u001b[43m)\u001b[49m\u001b[38;5;241m.\u001b[39mhead()\n",
      "File \u001b[0;32m~/opt/anaconda3/lib/python3.9/site-packages/pandas/util/_decorators.py:311\u001b[0m, in \u001b[0;36mdeprecate_nonkeyword_arguments.<locals>.decorate.<locals>.wrapper\u001b[0;34m(*args, **kwargs)\u001b[0m\n\u001b[1;32m    305\u001b[0m \u001b[38;5;28;01mif\u001b[39;00m \u001b[38;5;28mlen\u001b[39m(args) \u001b[38;5;241m>\u001b[39m num_allow_args:\n\u001b[1;32m    306\u001b[0m     warnings\u001b[38;5;241m.\u001b[39mwarn(\n\u001b[1;32m    307\u001b[0m         msg\u001b[38;5;241m.\u001b[39mformat(arguments\u001b[38;5;241m=\u001b[39marguments),\n\u001b[1;32m    308\u001b[0m         \u001b[38;5;167;01mFutureWarning\u001b[39;00m,\n\u001b[1;32m    309\u001b[0m         stacklevel\u001b[38;5;241m=\u001b[39mstacklevel,\n\u001b[1;32m    310\u001b[0m     )\n\u001b[0;32m--> 311\u001b[0m \u001b[38;5;28;01mreturn\u001b[39;00m \u001b[43mfunc\u001b[49m\u001b[43m(\u001b[49m\u001b[38;5;241;43m*\u001b[39;49m\u001b[43margs\u001b[49m\u001b[43m,\u001b[49m\u001b[43m \u001b[49m\u001b[38;5;241;43m*\u001b[39;49m\u001b[38;5;241;43m*\u001b[39;49m\u001b[43mkwargs\u001b[49m\u001b[43m)\u001b[49m\n",
      "File \u001b[0;32m~/opt/anaconda3/lib/python3.9/site-packages/pandas/core/frame.py:4954\u001b[0m, in \u001b[0;36mDataFrame.drop\u001b[0;34m(self, labels, axis, index, columns, level, inplace, errors)\u001b[0m\n\u001b[1;32m   4806\u001b[0m \u001b[38;5;129m@deprecate_nonkeyword_arguments\u001b[39m(version\u001b[38;5;241m=\u001b[39m\u001b[38;5;28;01mNone\u001b[39;00m, allowed_args\u001b[38;5;241m=\u001b[39m[\u001b[38;5;124m\"\u001b[39m\u001b[38;5;124mself\u001b[39m\u001b[38;5;124m\"\u001b[39m, \u001b[38;5;124m\"\u001b[39m\u001b[38;5;124mlabels\u001b[39m\u001b[38;5;124m\"\u001b[39m])\n\u001b[1;32m   4807\u001b[0m \u001b[38;5;28;01mdef\u001b[39;00m \u001b[38;5;21mdrop\u001b[39m(\n\u001b[1;32m   4808\u001b[0m     \u001b[38;5;28mself\u001b[39m,\n\u001b[0;32m   (...)\u001b[0m\n\u001b[1;32m   4815\u001b[0m     errors: \u001b[38;5;28mstr\u001b[39m \u001b[38;5;241m=\u001b[39m \u001b[38;5;124m\"\u001b[39m\u001b[38;5;124mraise\u001b[39m\u001b[38;5;124m\"\u001b[39m,\n\u001b[1;32m   4816\u001b[0m ):\n\u001b[1;32m   4817\u001b[0m     \u001b[38;5;124;03m\"\"\"\u001b[39;00m\n\u001b[1;32m   4818\u001b[0m \u001b[38;5;124;03m    Drop specified labels from rows or columns.\u001b[39;00m\n\u001b[1;32m   4819\u001b[0m \n\u001b[0;32m   (...)\u001b[0m\n\u001b[1;32m   4952\u001b[0m \u001b[38;5;124;03m            weight  1.0     0.8\u001b[39;00m\n\u001b[1;32m   4953\u001b[0m \u001b[38;5;124;03m    \"\"\"\u001b[39;00m\n\u001b[0;32m-> 4954\u001b[0m     \u001b[38;5;28;01mreturn\u001b[39;00m \u001b[38;5;28;43msuper\u001b[39;49m\u001b[43m(\u001b[49m\u001b[43m)\u001b[49m\u001b[38;5;241;43m.\u001b[39;49m\u001b[43mdrop\u001b[49m\u001b[43m(\u001b[49m\n\u001b[1;32m   4955\u001b[0m \u001b[43m        \u001b[49m\u001b[43mlabels\u001b[49m\u001b[38;5;241;43m=\u001b[39;49m\u001b[43mlabels\u001b[49m\u001b[43m,\u001b[49m\n\u001b[1;32m   4956\u001b[0m \u001b[43m        \u001b[49m\u001b[43maxis\u001b[49m\u001b[38;5;241;43m=\u001b[39;49m\u001b[43maxis\u001b[49m\u001b[43m,\u001b[49m\n\u001b[1;32m   4957\u001b[0m \u001b[43m        \u001b[49m\u001b[43mindex\u001b[49m\u001b[38;5;241;43m=\u001b[39;49m\u001b[43mindex\u001b[49m\u001b[43m,\u001b[49m\n\u001b[1;32m   4958\u001b[0m \u001b[43m        \u001b[49m\u001b[43mcolumns\u001b[49m\u001b[38;5;241;43m=\u001b[39;49m\u001b[43mcolumns\u001b[49m\u001b[43m,\u001b[49m\n\u001b[1;32m   4959\u001b[0m \u001b[43m        \u001b[49m\u001b[43mlevel\u001b[49m\u001b[38;5;241;43m=\u001b[39;49m\u001b[43mlevel\u001b[49m\u001b[43m,\u001b[49m\n\u001b[1;32m   4960\u001b[0m \u001b[43m        \u001b[49m\u001b[43minplace\u001b[49m\u001b[38;5;241;43m=\u001b[39;49m\u001b[43minplace\u001b[49m\u001b[43m,\u001b[49m\n\u001b[1;32m   4961\u001b[0m \u001b[43m        \u001b[49m\u001b[43merrors\u001b[49m\u001b[38;5;241;43m=\u001b[39;49m\u001b[43merrors\u001b[49m\u001b[43m,\u001b[49m\n\u001b[1;32m   4962\u001b[0m \u001b[43m    \u001b[49m\u001b[43m)\u001b[49m\n",
      "File \u001b[0;32m~/opt/anaconda3/lib/python3.9/site-packages/pandas/core/generic.py:4267\u001b[0m, in \u001b[0;36mNDFrame.drop\u001b[0;34m(self, labels, axis, index, columns, level, inplace, errors)\u001b[0m\n\u001b[1;32m   4265\u001b[0m \u001b[38;5;28;01mfor\u001b[39;00m axis, labels \u001b[38;5;129;01min\u001b[39;00m axes\u001b[38;5;241m.\u001b[39mitems():\n\u001b[1;32m   4266\u001b[0m     \u001b[38;5;28;01mif\u001b[39;00m labels \u001b[38;5;129;01mis\u001b[39;00m \u001b[38;5;129;01mnot\u001b[39;00m \u001b[38;5;28;01mNone\u001b[39;00m:\n\u001b[0;32m-> 4267\u001b[0m         obj \u001b[38;5;241m=\u001b[39m \u001b[43mobj\u001b[49m\u001b[38;5;241;43m.\u001b[39;49m\u001b[43m_drop_axis\u001b[49m\u001b[43m(\u001b[49m\u001b[43mlabels\u001b[49m\u001b[43m,\u001b[49m\u001b[43m \u001b[49m\u001b[43maxis\u001b[49m\u001b[43m,\u001b[49m\u001b[43m \u001b[49m\u001b[43mlevel\u001b[49m\u001b[38;5;241;43m=\u001b[39;49m\u001b[43mlevel\u001b[49m\u001b[43m,\u001b[49m\u001b[43m \u001b[49m\u001b[43merrors\u001b[49m\u001b[38;5;241;43m=\u001b[39;49m\u001b[43merrors\u001b[49m\u001b[43m)\u001b[49m\n\u001b[1;32m   4269\u001b[0m \u001b[38;5;28;01mif\u001b[39;00m inplace:\n\u001b[1;32m   4270\u001b[0m     \u001b[38;5;28mself\u001b[39m\u001b[38;5;241m.\u001b[39m_update_inplace(obj)\n",
      "File \u001b[0;32m~/opt/anaconda3/lib/python3.9/site-packages/pandas/core/generic.py:4311\u001b[0m, in \u001b[0;36mNDFrame._drop_axis\u001b[0;34m(self, labels, axis, level, errors, consolidate, only_slice)\u001b[0m\n\u001b[1;32m   4309\u001b[0m         new_axis \u001b[38;5;241m=\u001b[39m axis\u001b[38;5;241m.\u001b[39mdrop(labels, level\u001b[38;5;241m=\u001b[39mlevel, errors\u001b[38;5;241m=\u001b[39merrors)\n\u001b[1;32m   4310\u001b[0m     \u001b[38;5;28;01melse\u001b[39;00m:\n\u001b[0;32m-> 4311\u001b[0m         new_axis \u001b[38;5;241m=\u001b[39m \u001b[43maxis\u001b[49m\u001b[38;5;241;43m.\u001b[39;49m\u001b[43mdrop\u001b[49m\u001b[43m(\u001b[49m\u001b[43mlabels\u001b[49m\u001b[43m,\u001b[49m\u001b[43m \u001b[49m\u001b[43merrors\u001b[49m\u001b[38;5;241;43m=\u001b[39;49m\u001b[43merrors\u001b[49m\u001b[43m)\u001b[49m\n\u001b[1;32m   4312\u001b[0m     indexer \u001b[38;5;241m=\u001b[39m axis\u001b[38;5;241m.\u001b[39mget_indexer(new_axis)\n\u001b[1;32m   4314\u001b[0m \u001b[38;5;66;03m# Case for non-unique axis\u001b[39;00m\n\u001b[1;32m   4315\u001b[0m \u001b[38;5;28;01melse\u001b[39;00m:\n",
      "File \u001b[0;32m~/opt/anaconda3/lib/python3.9/site-packages/pandas/core/indexes/base.py:6644\u001b[0m, in \u001b[0;36mIndex.drop\u001b[0;34m(self, labels, errors)\u001b[0m\n\u001b[1;32m   6642\u001b[0m \u001b[38;5;28;01mif\u001b[39;00m mask\u001b[38;5;241m.\u001b[39many():\n\u001b[1;32m   6643\u001b[0m     \u001b[38;5;28;01mif\u001b[39;00m errors \u001b[38;5;241m!=\u001b[39m \u001b[38;5;124m\"\u001b[39m\u001b[38;5;124mignore\u001b[39m\u001b[38;5;124m\"\u001b[39m:\n\u001b[0;32m-> 6644\u001b[0m         \u001b[38;5;28;01mraise\u001b[39;00m \u001b[38;5;167;01mKeyError\u001b[39;00m(\u001b[38;5;124mf\u001b[39m\u001b[38;5;124m\"\u001b[39m\u001b[38;5;132;01m{\u001b[39;00m\u001b[38;5;28mlist\u001b[39m(labels[mask])\u001b[38;5;132;01m}\u001b[39;00m\u001b[38;5;124m not found in axis\u001b[39m\u001b[38;5;124m\"\u001b[39m)\n\u001b[1;32m   6645\u001b[0m     indexer \u001b[38;5;241m=\u001b[39m indexer[\u001b[38;5;241m~\u001b[39mmask]\n\u001b[1;32m   6646\u001b[0m \u001b[38;5;28;01mreturn\u001b[39;00m \u001b[38;5;28mself\u001b[39m\u001b[38;5;241m.\u001b[39mdelete(indexer)\n",
      "\u001b[0;31mKeyError\u001b[0m: \"['Total'] not found in axis\""
     ]
    }
   ],
   "source": [
    "df.drop('Total', axis = 1,inplace=False).head()"
   ]
  },
  {
   "cell_type": "code",
   "execution_count": 37,
   "metadata": {},
   "outputs": [
    {
     "data": {
      "application/vnd.microsoft.datawrangler.viewer.v0+json": {
       "columns": [
        {
         "name": "Year",
         "rawType": "datetime64[ns]",
         "type": "datetime"
        },
        {
         "name": "Population",
         "rawType": "int64",
         "type": "integer"
        },
        {
         "name": "Violent",
         "rawType": "int64",
         "type": "integer"
        },
        {
         "name": "Property",
         "rawType": "int64",
         "type": "integer"
        },
        {
         "name": "Murder",
         "rawType": "int64",
         "type": "integer"
        },
        {
         "name": "Forcible_Rape",
         "rawType": "int64",
         "type": "integer"
        },
        {
         "name": "Robbery",
         "rawType": "int64",
         "type": "integer"
        },
        {
         "name": "Aggravated_assault",
         "rawType": "int64",
         "type": "integer"
        },
        {
         "name": "Burglary",
         "rawType": "int64",
         "type": "integer"
        },
        {
         "name": "Larceny_Theft",
         "rawType": "int64",
         "type": "integer"
        },
        {
         "name": "Vehicle_Theft",
         "rawType": "int64",
         "type": "integer"
        }
       ],
       "conversionMethod": "pd.DataFrame",
       "ref": "641bc73f-f399-4038-b1ca-4d6f8342a468",
       "rows": [
        [
         "1960-01-01 00:00:00",
         "179323175",
         "288460",
         "3095700",
         "9110",
         "17190",
         "107840",
         "154320",
         "912100",
         "1855400",
         "328200"
        ],
        [
         "1961-01-01 00:00:00",
         "182992000",
         "289390",
         "3198600",
         "8740",
         "17220",
         "106670",
         "156760",
         "949600",
         "1913000",
         "336000"
        ],
        [
         "1962-01-01 00:00:00",
         "185771000",
         "301510",
         "3450700",
         "8530",
         "17550",
         "110860",
         "164570",
         "994300",
         "2089600",
         "366800"
        ],
        [
         "1963-01-01 00:00:00",
         "188483000",
         "316970",
         "3792500",
         "8640",
         "17650",
         "116470",
         "174210",
         "1086400",
         "2297800",
         "408300"
        ],
        [
         "1964-01-01 00:00:00",
         "191141000",
         "364220",
         "4200400",
         "9360",
         "21420",
         "130390",
         "203050",
         "1213200",
         "2514400",
         "472800"
        ]
       ],
       "shape": {
        "columns": 10,
        "rows": 5
       }
      },
      "text/html": [
       "<div>\n",
       "<style scoped>\n",
       "    .dataframe tbody tr th:only-of-type {\n",
       "        vertical-align: middle;\n",
       "    }\n",
       "\n",
       "    .dataframe tbody tr th {\n",
       "        vertical-align: top;\n",
       "    }\n",
       "\n",
       "    .dataframe thead th {\n",
       "        text-align: right;\n",
       "    }\n",
       "</style>\n",
       "<table border=\"1\" class=\"dataframe\">\n",
       "  <thead>\n",
       "    <tr style=\"text-align: right;\">\n",
       "      <th></th>\n",
       "      <th>Population</th>\n",
       "      <th>Violent</th>\n",
       "      <th>Property</th>\n",
       "      <th>Murder</th>\n",
       "      <th>Forcible_Rape</th>\n",
       "      <th>Robbery</th>\n",
       "      <th>Aggravated_assault</th>\n",
       "      <th>Burglary</th>\n",
       "      <th>Larceny_Theft</th>\n",
       "      <th>Vehicle_Theft</th>\n",
       "    </tr>\n",
       "    <tr>\n",
       "      <th>Year</th>\n",
       "      <th></th>\n",
       "      <th></th>\n",
       "      <th></th>\n",
       "      <th></th>\n",
       "      <th></th>\n",
       "      <th></th>\n",
       "      <th></th>\n",
       "      <th></th>\n",
       "      <th></th>\n",
       "      <th></th>\n",
       "    </tr>\n",
       "  </thead>\n",
       "  <tbody>\n",
       "    <tr>\n",
       "      <th>1960-01-01</th>\n",
       "      <td>179323175</td>\n",
       "      <td>288460</td>\n",
       "      <td>3095700</td>\n",
       "      <td>9110</td>\n",
       "      <td>17190</td>\n",
       "      <td>107840</td>\n",
       "      <td>154320</td>\n",
       "      <td>912100</td>\n",
       "      <td>1855400</td>\n",
       "      <td>328200</td>\n",
       "    </tr>\n",
       "    <tr>\n",
       "      <th>1961-01-01</th>\n",
       "      <td>182992000</td>\n",
       "      <td>289390</td>\n",
       "      <td>3198600</td>\n",
       "      <td>8740</td>\n",
       "      <td>17220</td>\n",
       "      <td>106670</td>\n",
       "      <td>156760</td>\n",
       "      <td>949600</td>\n",
       "      <td>1913000</td>\n",
       "      <td>336000</td>\n",
       "    </tr>\n",
       "    <tr>\n",
       "      <th>1962-01-01</th>\n",
       "      <td>185771000</td>\n",
       "      <td>301510</td>\n",
       "      <td>3450700</td>\n",
       "      <td>8530</td>\n",
       "      <td>17550</td>\n",
       "      <td>110860</td>\n",
       "      <td>164570</td>\n",
       "      <td>994300</td>\n",
       "      <td>2089600</td>\n",
       "      <td>366800</td>\n",
       "    </tr>\n",
       "    <tr>\n",
       "      <th>1963-01-01</th>\n",
       "      <td>188483000</td>\n",
       "      <td>316970</td>\n",
       "      <td>3792500</td>\n",
       "      <td>8640</td>\n",
       "      <td>17650</td>\n",
       "      <td>116470</td>\n",
       "      <td>174210</td>\n",
       "      <td>1086400</td>\n",
       "      <td>2297800</td>\n",
       "      <td>408300</td>\n",
       "    </tr>\n",
       "    <tr>\n",
       "      <th>1964-01-01</th>\n",
       "      <td>191141000</td>\n",
       "      <td>364220</td>\n",
       "      <td>4200400</td>\n",
       "      <td>9360</td>\n",
       "      <td>21420</td>\n",
       "      <td>130390</td>\n",
       "      <td>203050</td>\n",
       "      <td>1213200</td>\n",
       "      <td>2514400</td>\n",
       "      <td>472800</td>\n",
       "    </tr>\n",
       "  </tbody>\n",
       "</table>\n",
       "</div>"
      ],
      "text/plain": [
       "            Population  Violent  Property  Murder  Forcible_Rape  Robbery  \\\n",
       "Year                                                                        \n",
       "1960-01-01   179323175   288460   3095700    9110          17190   107840   \n",
       "1961-01-01   182992000   289390   3198600    8740          17220   106670   \n",
       "1962-01-01   185771000   301510   3450700    8530          17550   110860   \n",
       "1963-01-01   188483000   316970   3792500    8640          17650   116470   \n",
       "1964-01-01   191141000   364220   4200400    9360          21420   130390   \n",
       "\n",
       "            Aggravated_assault  Burglary  Larceny_Theft  Vehicle_Theft  \n",
       "Year                                                                    \n",
       "1960-01-01              154320    912100        1855400         328200  \n",
       "1961-01-01              156760    949600        1913000         336000  \n",
       "1962-01-01              164570    994300        2089600         366800  \n",
       "1963-01-01              174210   1086400        2297800         408300  \n",
       "1964-01-01              203050   1213200        2514400         472800  "
      ]
     },
     "execution_count": 37,
     "metadata": {},
     "output_type": "execute_result"
    }
   ],
   "source": [
    "df.head()"
   ]
  },
  {
   "cell_type": "code",
   "execution_count": 39,
   "metadata": {
    "id": "5bRf7iN95gSC",
    "outputId": "ea463ee5-ea1a-4eca-be0f-ee6415f143bf"
   },
   "outputs": [
    {
     "name": "stdout",
     "output_type": "stream",
     "text": [
      "1910 1910\n",
      "1911 1910\n",
      "1912 1910\n",
      "1913 1910\n",
      "1914 1910\n",
      "1915 1910\n",
      "1916 1910\n",
      "1917 1910\n",
      "1918 1910\n",
      "1919 1910\n"
     ]
    }
   ],
   "source": [
    "\n",
    "# 1910, 1911, 1912, ... , 1919 ---> 1910\n",
    "# 1920,.....,1929 --> 1920\n",
    "\n",
    "\n",
    "# (1915//10)*10\n",
    "\n",
    "for i in range(1910,1920):\n",
    "    print(i,((i // 10)*10))"
   ]
  },
  {
   "cell_type": "code",
   "execution_count": 41,
   "metadata": {
    "id": "akWSucGq5gSC",
    "outputId": "1e8f04a8-8733-4024-aeaf-aca9bf24625f"
   },
   "outputs": [
    {
     "data": {
      "application/vnd.microsoft.datawrangler.viewer.v0+json": {
       "columns": [
        {
         "name": "Year",
         "rawType": "int64",
         "type": "integer"
        },
        {
         "name": "Population",
         "rawType": "int64",
         "type": "integer"
        },
        {
         "name": "Violent",
         "rawType": "int64",
         "type": "integer"
        },
        {
         "name": "Property",
         "rawType": "int64",
         "type": "integer"
        },
        {
         "name": "Murder",
         "rawType": "int64",
         "type": "integer"
        },
        {
         "name": "Forcible_Rape",
         "rawType": "int64",
         "type": "integer"
        },
        {
         "name": "Robbery",
         "rawType": "int64",
         "type": "integer"
        },
        {
         "name": "Aggravated_assault",
         "rawType": "int64",
         "type": "integer"
        },
        {
         "name": "Burglary",
         "rawType": "int64",
         "type": "integer"
        },
        {
         "name": "Larceny_Theft",
         "rawType": "int64",
         "type": "integer"
        },
        {
         "name": "Vehicle_Theft",
         "rawType": "int64",
         "type": "integer"
        }
       ],
       "conversionMethod": "pd.DataFrame",
       "ref": "7c3eec42-35e3-4973-9f31-b3dca8f36757",
       "rows": [
        [
         "1990",
         "2612825258",
         "17527048",
         "119053499",
         "211664",
         "998827",
         "5748930",
         "10568963",
         "26750015",
         "77679366",
         "14624418"
        ],
        [
         "1980",
         "2371370069",
         "14074328",
         "117048900",
         "206439",
         "865639",
         "5383109",
         "7619130",
         "33073494",
         "72040253",
         "11935411"
        ],
        [
         "2000",
         "2947969117",
         "13968056",
         "100944369",
         "163068",
         "922499",
         "4230366",
         "8652124",
         "21565176",
         "67970291",
         "11412834"
        ],
        [
         "1970",
         "2121193298",
         "9607930",
         "91383800",
         "192230",
         "554570",
         "4159020",
         "4702120",
         "28486000",
         "53157800",
         "9739900"
        ],
        [
         "2010",
         "1570146307",
         "6072017",
         "44095950",
         "72867",
         "421059",
         "1749809",
         "3764142",
         "10125170",
         "30401698",
         "3569080"
        ],
        [
         "1960",
         "1915053175",
         "4134930",
         "45160900",
         "106180",
         "236720",
         "1633510",
         "2158520",
         "13321100",
         "26547700",
         "5292100"
        ]
       ],
       "shape": {
        "columns": 10,
        "rows": 6
       }
      },
      "text/html": [
       "<div>\n",
       "<style scoped>\n",
       "    .dataframe tbody tr th:only-of-type {\n",
       "        vertical-align: middle;\n",
       "    }\n",
       "\n",
       "    .dataframe tbody tr th {\n",
       "        vertical-align: top;\n",
       "    }\n",
       "\n",
       "    .dataframe thead th {\n",
       "        text-align: right;\n",
       "    }\n",
       "</style>\n",
       "<table border=\"1\" class=\"dataframe\">\n",
       "  <thead>\n",
       "    <tr style=\"text-align: right;\">\n",
       "      <th></th>\n",
       "      <th>Population</th>\n",
       "      <th>Violent</th>\n",
       "      <th>Property</th>\n",
       "      <th>Murder</th>\n",
       "      <th>Forcible_Rape</th>\n",
       "      <th>Robbery</th>\n",
       "      <th>Aggravated_assault</th>\n",
       "      <th>Burglary</th>\n",
       "      <th>Larceny_Theft</th>\n",
       "      <th>Vehicle_Theft</th>\n",
       "    </tr>\n",
       "    <tr>\n",
       "      <th>Year</th>\n",
       "      <th></th>\n",
       "      <th></th>\n",
       "      <th></th>\n",
       "      <th></th>\n",
       "      <th></th>\n",
       "      <th></th>\n",
       "      <th></th>\n",
       "      <th></th>\n",
       "      <th></th>\n",
       "      <th></th>\n",
       "    </tr>\n",
       "  </thead>\n",
       "  <tbody>\n",
       "    <tr>\n",
       "      <th>1990</th>\n",
       "      <td>2612825258</td>\n",
       "      <td>17527048</td>\n",
       "      <td>119053499</td>\n",
       "      <td>211664</td>\n",
       "      <td>998827</td>\n",
       "      <td>5748930</td>\n",
       "      <td>10568963</td>\n",
       "      <td>26750015</td>\n",
       "      <td>77679366</td>\n",
       "      <td>14624418</td>\n",
       "    </tr>\n",
       "    <tr>\n",
       "      <th>1980</th>\n",
       "      <td>2371370069</td>\n",
       "      <td>14074328</td>\n",
       "      <td>117048900</td>\n",
       "      <td>206439</td>\n",
       "      <td>865639</td>\n",
       "      <td>5383109</td>\n",
       "      <td>7619130</td>\n",
       "      <td>33073494</td>\n",
       "      <td>72040253</td>\n",
       "      <td>11935411</td>\n",
       "    </tr>\n",
       "    <tr>\n",
       "      <th>2000</th>\n",
       "      <td>2947969117</td>\n",
       "      <td>13968056</td>\n",
       "      <td>100944369</td>\n",
       "      <td>163068</td>\n",
       "      <td>922499</td>\n",
       "      <td>4230366</td>\n",
       "      <td>8652124</td>\n",
       "      <td>21565176</td>\n",
       "      <td>67970291</td>\n",
       "      <td>11412834</td>\n",
       "    </tr>\n",
       "    <tr>\n",
       "      <th>1970</th>\n",
       "      <td>2121193298</td>\n",
       "      <td>9607930</td>\n",
       "      <td>91383800</td>\n",
       "      <td>192230</td>\n",
       "      <td>554570</td>\n",
       "      <td>4159020</td>\n",
       "      <td>4702120</td>\n",
       "      <td>28486000</td>\n",
       "      <td>53157800</td>\n",
       "      <td>9739900</td>\n",
       "    </tr>\n",
       "    <tr>\n",
       "      <th>2010</th>\n",
       "      <td>1570146307</td>\n",
       "      <td>6072017</td>\n",
       "      <td>44095950</td>\n",
       "      <td>72867</td>\n",
       "      <td>421059</td>\n",
       "      <td>1749809</td>\n",
       "      <td>3764142</td>\n",
       "      <td>10125170</td>\n",
       "      <td>30401698</td>\n",
       "      <td>3569080</td>\n",
       "    </tr>\n",
       "    <tr>\n",
       "      <th>1960</th>\n",
       "      <td>1915053175</td>\n",
       "      <td>4134930</td>\n",
       "      <td>45160900</td>\n",
       "      <td>106180</td>\n",
       "      <td>236720</td>\n",
       "      <td>1633510</td>\n",
       "      <td>2158520</td>\n",
       "      <td>13321100</td>\n",
       "      <td>26547700</td>\n",
       "      <td>5292100</td>\n",
       "    </tr>\n",
       "  </tbody>\n",
       "</table>\n",
       "</div>"
      ],
      "text/plain": [
       "      Population   Violent   Property  Murder  Forcible_Rape  Robbery  \\\n",
       "Year                                                                    \n",
       "1990  2612825258  17527048  119053499  211664         998827  5748930   \n",
       "1980  2371370069  14074328  117048900  206439         865639  5383109   \n",
       "2000  2947969117  13968056  100944369  163068         922499  4230366   \n",
       "1970  2121193298   9607930   91383800  192230         554570  4159020   \n",
       "2010  1570146307   6072017   44095950   72867         421059  1749809   \n",
       "1960  1915053175   4134930   45160900  106180         236720  1633510   \n",
       "\n",
       "      Aggravated_assault  Burglary  Larceny_Theft  Vehicle_Theft  \n",
       "Year                                                              \n",
       "1990            10568963  26750015       77679366       14624418  \n",
       "1980             7619130  33073494       72040253       11935411  \n",
       "2000             8652124  21565176       67970291       11412834  \n",
       "1970             4702120  28486000       53157800        9739900  \n",
       "2010             3764142  10125170       30401698        3569080  \n",
       "1960             2158520  13321100       26547700        5292100  "
      ]
     },
     "execution_count": 41,
     "metadata": {},
     "output_type": "execute_result"
    }
   ],
   "source": [
    "# Group the year by decades and sum the values\n",
    "df.groupby(df.index.year // 10 * 10).sum().sort_values(by=['Violent'], ascending=False)"
   ]
  },
  {
   "cell_type": "code",
   "execution_count": 32,
   "metadata": {
    "id": "T-_f3CfJ5gSC"
   },
   "outputs": [],
   "source": [
    "# What was the most dangerous decade to live in the US?"
   ]
  }
 ],
 "metadata": {
  "colab": {
   "name": "Pandas II.ipynb",
   "provenance": [],
   "toc_visible": true
  },
  "kernelspec": {
   "display_name": "base",
   "language": "python",
   "name": "python3"
  },
  "language_info": {
   "codemirror_mode": {
    "name": "ipython",
    "version": 3
   },
   "file_extension": ".py",
   "mimetype": "text/x-python",
   "name": "python",
   "nbconvert_exporter": "python",
   "pygments_lexer": "ipython3",
   "version": "3.9.12"
  }
 },
 "nbformat": 4,
 "nbformat_minor": 4
}
