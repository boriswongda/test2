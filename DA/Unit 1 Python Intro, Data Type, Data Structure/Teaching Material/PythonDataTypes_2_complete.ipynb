{
  "cells": [
    {
      "cell_type": "markdown",
      "metadata": {
        "id": "TcQhJBbH_ogW"
      },
      "source": [
        "# Python Data Types & Containers II\n",
        "\n",
        "For this notebook, it will be a continuation of the data types and containers from the previous day as we will be covering the other possible data containers in Python. The learning objectives are:\n",
        "\n",
        "* Understand more basic data containers\n",
        "  * List - used to contain a collection of values, which **can** be modified\n",
        "  * Tuples - used to contain a collection of values, which **can't** be modified\n",
        "  * Dictionaries - a key value store\n",
        "* Mutability vs Immutablity"
      ]
    },
    {
      "cell_type": "markdown",
      "metadata": {
        "id": "wIvnzHtF_ogX"
      },
      "source": [
        "# More Data Containers\n",
        "\n",
        "A data container is an object that can be used to contain other objects. In Python, there are 4 basic data containers:\n",
        "\n",
        "* Variables\n",
        "* List\n",
        "* Tuples\n",
        "* Dictionaries\n",
        "\n",
        "The data containers `list`, `dictionary` and `tuple`, are also data types themselves."
      ]
    },
    {
      "cell_type": "markdown",
      "metadata": {
        "id": "pha0RX9a_ogY"
      },
      "source": [
        "## Lists\n",
        "\n",
        "A list can be used to store a group of values, for example I could use a list to hold the items in a shopping list.  We use square brackets ( `[]` ) to create  a list and separate the items in the list with commas. Lists are **mutable**, which means once created we can change, add or remove items."
      ]
    },
    {
      "cell_type": "code",
      "execution_count": 2,
      "metadata": {
        "id": "KDypRp6f_ogZ"
      },
      "outputs": [
        {
          "name": "stdout",
          "output_type": "stream",
          "text": [
            "['eggs', 'bacon', 'sausages', 'bread', 'baked beans']\n"
          ]
        },
        {
          "data": {
            "text/plain": [
              "list"
            ]
          },
          "execution_count": 2,
          "metadata": {},
          "output_type": "execute_result"
        }
      ],
      "source": [
        "shopping_list = [ \"eggs\", \"bacon\",\"sausages\",\"bread\",\"baked beans\"]\n",
        "print(shopping_list)\n",
        "print(type(shopping_list))"
      ]
    },
    {
      "cell_type": "markdown",
      "metadata": {
        "id": "Xd0tMxny_ogc"
      },
      "source": [
        "List can contain a mix of datatypes."
      ]
    },
    {
      "cell_type": "code",
      "execution_count": 5,
      "metadata": {
        "id": "41dRWlh7_ogd"
      },
      "outputs": [
        {
          "name": "stdout",
          "output_type": "stream",
          "text": [
            "['one', 2, 'three', 4, True]\n"
          ]
        }
      ],
      "source": [
        "mixed_list = [\"one\",2,\"three\",4, True]\n",
        "print(mixed_list)"
      ]
    },
    {
      "cell_type": "code",
      "execution_count": 6,
      "metadata": {
        "id": "PVRGnjbALgK9"
      },
      "outputs": [
        {
          "data": {
            "text/plain": [
              "list"
            ]
          },
          "execution_count": 6,
          "metadata": {},
          "output_type": "execute_result"
        }
      ],
      "source": [
        "print(type(mixed_list))"
      ]
    },
    {
      "cell_type": "markdown",
      "metadata": {
        "id": "k9Xi4Do7_ogg"
      },
      "source": [
        "We can even use list to contain variables."
      ]
    },
    {
      "cell_type": "code",
      "execution_count": 8,
      "metadata": {
        "id": "kpEuxdQV_ogh"
      },
      "outputs": [],
      "source": [
        "# variables:\n",
        "eggs = 6\n",
        "bacon = 1\n",
        "sausages = 4\n",
        "# list:\n",
        "food_count = [eggs,bacon,sausages]"
      ]
    },
    {
      "cell_type": "code",
      "execution_count": 9,
      "metadata": {
        "id": "ZxmCfiaR_ogk"
      },
      "outputs": [
        {
          "data": {
            "text/plain": [
              "[6, 1, 4]"
            ]
          },
          "execution_count": 9,
          "metadata": {},
          "output_type": "execute_result"
        }
      ],
      "source": [
        "print(food_count)"
      ]
    },
    {
      "cell_type": "code",
      "execution_count": 10,
      "metadata": {
        "id": "uD1I--h8SALT"
      },
      "outputs": [
        {
          "data": {
            "text/plain": [
              "[6, 1, 4]"
            ]
          },
          "execution_count": 10,
          "metadata": {},
          "output_type": "execute_result"
        }
      ],
      "source": [
        "eggs = 8 # assign new value of eggs\n",
        "print(food_count) # But didn't change the value of egg in the food count"
      ]
    },
    {
      "cell_type": "code",
      "execution_count": 12,
      "metadata": {
        "id": "X8dNEXpQSALZ"
      },
      "outputs": [
        {
          "data": {
            "text/plain": [
              "[8, 1, 4]"
            ]
          },
          "execution_count": 12,
          "metadata": {},
          "output_type": "execute_result"
        }
      ],
      "source": [
        "food_count = [eggs,bacon,sausages]\n",
        "print(food_count)"
      ]
    },
    {
      "cell_type": "markdown",
      "metadata": {
        "id": "j9CFctd9xS79"
      },
      "source": [
        "Python has various built-in functions that can be used with lists. You can read more about Python built-in functions [here](https://docs.python.org/3/library/functions.html)."
      ]
    },
    {
      "cell_type": "markdown",
      "metadata": {
        "id": "37s_wyblBtMG"
      },
      "source": [
        "**Using Lists with Python len() Built-in function**\n",
        "\n",
        "The `len()` function returns the number of items in an object.\n",
        "\n",
        "Syntax of `len()` is:\n",
        "\n",
        "\n",
        "\n",
        "```\n",
        "len(object)\n",
        "```\n",
        "\n"
      ]
    },
    {
      "cell_type": "code",
      "execution_count": 13,
      "metadata": {
        "id": "xakHwJeOCAcd"
      },
      "outputs": [
        {
          "data": {
            "text/plain": [
              "3"
            ]
          },
          "execution_count": 13,
          "metadata": {},
          "output_type": "execute_result"
        }
      ],
      "source": [
        "# we can find the number of elements in the list using len()\n",
        "print(len(food_count))"
      ]
    },
    {
      "cell_type": "markdown",
      "metadata": {
        "id": "WphNrqj4DFac"
      },
      "source": [
        "**Using Lists with Python max() Built-in function**\n",
        "\n",
        "The `max()` function returns the item with the highest value, or the item with the highest value in an iterable.\n",
        "\n",
        "If the values are strings, an alphabetically comparison is done.\n",
        "\n",
        "Syntax:\n",
        "`max(n1,n2,n3,...)` or `max(iterable)`"
      ]
    },
    {
      "cell_type": "code",
      "execution_count": 14,
      "metadata": {
        "id": "HfXlfVXYDpcz"
      },
      "outputs": [
        {
          "data": {
            "text/plain": [
              "8"
            ]
          },
          "execution_count": 14,
          "metadata": {},
          "output_type": "execute_result"
        }
      ],
      "source": [
        "# can use max() to find the largest number in the list\n",
        "print(max(food_count))"
      ]
    },
    {
      "cell_type": "code",
      "execution_count": 15,
      "metadata": {},
      "outputs": [
        {
          "data": {
            "text/plain": [
              "1"
            ]
          },
          "execution_count": 15,
          "metadata": {},
          "output_type": "execute_result"
        }
      ],
      "source": [
        "print(min(food_count))"
      ]
    },
    {
      "cell_type": "markdown",
      "metadata": {
        "id": "4r2nm9cS_ogn"
      },
      "source": [
        "### Exercise\n",
        "\n",
        "Create a list called ```prime``` that contains the first 5 prime numbers starting from 1."
      ]
    },
    {
      "cell_type": "code",
      "execution_count": 16,
      "metadata": {
        "id": "JNC6Sb-5_ogo"
      },
      "outputs": [],
      "source": [
        "prime = [2, 3, 5, 7, 11]"
      ]
    },
    {
      "cell_type": "code",
      "execution_count": 18,
      "metadata": {},
      "outputs": [
        {
          "data": {
            "text/plain": [
              "[2, 3, 5, 7, 11]"
            ]
          },
          "execution_count": 18,
          "metadata": {},
          "output_type": "execute_result"
        }
      ],
      "source": [
        "print(prime)"
      ]
    },
    {
      "cell_type": "code",
      "execution_count": 19,
      "metadata": {},
      "outputs": [
        {
          "name": "stdout",
          "output_type": "stream",
          "text": [
            "5\n",
            "11\n",
            "2\n"
          ]
        }
      ],
      "source": [
        "print(len(prime))\n",
        "print(max(prime))\n",
        "print(min(prime))"
      ]
    },
    {
      "cell_type": "markdown",
      "metadata": {
        "id": "m_R23erwkf8I"
      },
      "source": [
        "**Using Lists with for-loop**"
      ]
    },
    {
      "cell_type": "markdown",
      "metadata": {
        "id": "IXA_jqLyPtnr"
      },
      "source": [
        "Another useful command in Python is the for loop. This can help to iterate or loop through the contents of a list. While we will do for loops in a later class, here is a short code to introduce it."
      ]
    },
    {
      "cell_type": "code",
      "execution_count": 20,
      "metadata": {
        "id": "GfkdPzeHPsNE"
      },
      "outputs": [
        {
          "name": "stdout",
          "output_type": "stream",
          "text": [
            "1\n",
            "4\n",
            "2\n",
            "6\n",
            "11\n",
            "3\n",
            "4\n",
            "31\n"
          ]
        }
      ],
      "source": [
        "# for loop - this code sums the number in a list\n",
        "numbers = [1, 4, 2, 6, 11, 3, 4]\n",
        "total = 0\n",
        "\n",
        "# go through the list items one by one using for statement\n",
        "for i in numbers:\n",
        "    print(i)\n",
        "    total = total + i # print out each iteration , total = 0+1\n",
        "\n",
        "print(total)"
      ]
    },
    {
      "cell_type": "markdown",
      "metadata": {
        "id": "xzM7F9EP_ogq"
      },
      "source": [
        "## Tuples\n",
        "\n",
        "Tuples are very similar to list except they are **immutable**, this means once they have been created we **cannot** change, add or remove values . Another difference is in the syntax, we use curved brackets `()` to create tuples rather than the square brackets used to create list. Tuples are also slightly faster to create than lists."
      ]
    },
    {
      "cell_type": "code",
      "execution_count": 21,
      "metadata": {
        "id": "b6G6whSN_ogr"
      },
      "outputs": [],
      "source": [
        "a_tuple = (1,2,3,4)"
      ]
    },
    {
      "cell_type": "code",
      "execution_count": 24,
      "metadata": {},
      "outputs": [
        {
          "data": {
            "text/plain": [
              "(1, 2, 3, 4)"
            ]
          },
          "execution_count": 24,
          "metadata": {},
          "output_type": "execute_result"
        }
      ],
      "source": [
        "print(a_tuple)"
      ]
    },
    {
      "cell_type": "code",
      "execution_count": 25,
      "metadata": {},
      "outputs": [
        {
          "name": "stdout",
          "output_type": "stream",
          "text": [
            "<class 'tuple'>\n"
          ]
        }
      ],
      "source": [
        "print(type(a_tuple))"
      ]
    },
    {
      "cell_type": "code",
      "execution_count": 22,
      "metadata": {
        "id": "sTJO0m2XCj1h"
      },
      "outputs": [
        {
          "data": {
            "text/plain": [
              "4"
            ]
          },
          "execution_count": 22,
          "metadata": {},
          "output_type": "execute_result"
        }
      ],
      "source": [
        "# can also use len() function to find number of elements in tuple\n",
        "print(len(a_tuple))"
      ]
    },
    {
      "cell_type": "code",
      "execution_count": 23,
      "metadata": {
        "id": "LF9X6EmaD4dH"
      },
      "outputs": [
        {
          "data": {
            "text/plain": [
              "4"
            ]
          },
          "execution_count": 23,
          "metadata": {},
          "output_type": "execute_result"
        }
      ],
      "source": [
        "# can use max() function to find max number in tuple\n",
        "print(max(a_tuple))"
      ]
    },
    {
      "cell_type": "markdown",
      "metadata": {
        "id": "mlynHFOn_ogt"
      },
      "source": [
        "## Sets\n",
        "\n",
        "Sets are similar to lists except that they can only contain unique values. Checking if a value is present in a set is very quick and can be done using the `in` keyword."
      ]
    },
    {
      "cell_type": "code",
      "execution_count": 26,
      "metadata": {
        "id": "KBWg-8TE_ogu"
      },
      "outputs": [
        {
          "data": {
            "text/plain": [
              "({1, 2, 3, 4}, [1, 2, 1, 3, 1, 2])"
            ]
          },
          "execution_count": 26,
          "metadata": {},
          "output_type": "execute_result"
        }
      ],
      "source": [
        "list1 = [1,2,1,3,1,2]\n",
        "a_set = set([1,2,3,1,1,2,3,4])\n",
        "a_set, list1"
      ]
    },
    {
      "cell_type": "code",
      "execution_count": 27,
      "metadata": {},
      "outputs": [
        {
          "data": {
            "text/plain": [
              "{1, 2, 3, 4}"
            ]
          },
          "execution_count": 27,
          "metadata": {},
          "output_type": "execute_result"
        }
      ],
      "source": [
        "print(a_set)"
      ]
    },
    {
      "cell_type": "code",
      "execution_count": 28,
      "metadata": {
        "id": "m0NILjw-C0pj"
      },
      "outputs": [
        {
          "data": {
            "text/plain": [
              "4"
            ]
          },
          "execution_count": 28,
          "metadata": {},
          "output_type": "execute_result"
        }
      ],
      "source": [
        "# use len() to find number of element in set\n",
        "print(len(a_set))"
      ]
    },
    {
      "cell_type": "code",
      "execution_count": 29,
      "metadata": {
        "id": "07J8XVgHED_4"
      },
      "outputs": [
        {
          "data": {
            "text/plain": [
              "4"
            ]
          },
          "execution_count": 29,
          "metadata": {},
          "output_type": "execute_result"
        }
      ],
      "source": [
        "# use max() to find max number in sets\n",
        "print(max(a_set))"
      ]
    },
    {
      "cell_type": "code",
      "execution_count": 32,
      "metadata": {
        "id": "LRBoR8R-QuRN"
      },
      "outputs": [
        {
          "data": {
            "text/plain": [
              "{1, 2}"
            ]
          },
          "execution_count": 32,
          "metadata": {},
          "output_type": "execute_result"
        }
      ],
      "source": [
        "list1 = [1,2,1,2]\n",
        "list2 = set(list1)\n",
        "print(list2)"
      ]
    },
    {
      "cell_type": "code",
      "execution_count": null,
      "metadata": {
        "id": "cU4BGizfQuAV"
      },
      "outputs": [],
      "source": [
        "print(a_set)"
      ]
    },
    {
      "cell_type": "code",
      "execution_count": 35,
      "metadata": {
        "id": "2ALy0UTi_ogx"
      },
      "outputs": [
        {
          "data": {
            "text/plain": [
              "True"
            ]
          },
          "execution_count": 35,
          "metadata": {},
          "output_type": "execute_result"
        }
      ],
      "source": [
        "print(1 in a_set) # check if 1 is in the set"
      ]
    },
    {
      "cell_type": "code",
      "execution_count": 36,
      "metadata": {},
      "outputs": [
        {
          "data": {
            "text/plain": [
              "False"
            ]
          },
          "execution_count": 36,
          "metadata": {},
          "output_type": "execute_result"
        }
      ],
      "source": [
        "print(5 in a_set) # check if 5 is in the set"
      ]
    },
    {
      "cell_type": "code",
      "execution_count": 37,
      "metadata": {
        "id": "gpsFExtx_ogz"
      },
      "outputs": [
        {
          "data": {
            "text/plain": [
              "True"
            ]
          },
          "execution_count": 37,
          "metadata": {},
          "output_type": "execute_result"
        }
      ],
      "source": [
        "print('Hi' not in a_set) # check if \"Hi\" is not in the set"
      ]
    },
    {
      "cell_type": "code",
      "execution_count": 39,
      "metadata": {
        "id": "Rf5ZGXSvRTuO"
      },
      "outputs": [
        {
          "data": {
            "text/plain": [
              "True"
            ]
          },
          "execution_count": 39,
          "metadata": {},
          "output_type": "execute_result"
        }
      ],
      "source": [
        "print(2 not in (4,5))"
      ]
    },
    {
      "cell_type": "markdown",
      "metadata": {
        "id": "QBhcNdu0_og1"
      },
      "source": [
        "Going back to the shopping list in the Lists section, imagine for a second we didn't know which variables were used to create the food counts. How would we know how much bacon we had? It could be any of the numbers in the list, this is where dictionaries are useful."
      ]
    },
    {
      "cell_type": "markdown",
      "metadata": {
        "id": "_cV1gwUE_og2"
      },
      "source": [
        "## Dictionaries\n",
        "\n",
        "Dictionaries are a **key value store**. To elaborate, in a traditional dictionary we have a `key` which is a word and we used that key to look up some value which is the definition. We use curly brackets (`{}`) to create a dictionary and to separate the key and value we use a colon ( `:` ). Each key value pair (or entry) is separated by a comma."
      ]
    },
    {
      "cell_type": "code",
      "execution_count": 40,
      "metadata": {
        "id": "aTzkEiK9_og3"
      },
      "outputs": [],
      "source": [
        "food_counts = {'eggs':6 , 'bacon':1 , 'sausages':4}\n",
        "# dict uses {}, key:value sepearted by ;, and key/value pair seperated by comma"
      ]
    },
    {
      "cell_type": "code",
      "execution_count": 41,
      "metadata": {},
      "outputs": [
        {
          "name": "stdout",
          "output_type": "stream",
          "text": [
            "{'eggs': 6, 'bacon': 1, 'sausages': 4}\n",
            "<class 'dict'>\n"
          ]
        }
      ],
      "source": [
        "print(food_counts)\n",
        "print(type(food_counts))"
      ]
    },
    {
      "cell_type": "markdown",
      "metadata": {
        "id": "h1nCW3MP_og5"
      },
      "source": [
        "I can now get the amount of bacon by using the `'bacon'` key to look up the value of 1. We use the key name surrounded by square brackets to retrieve the value."
      ]
    },
    {
      "cell_type": "code",
      "execution_count": 42,
      "metadata": {
        "id": "UccCOenP_og6"
      },
      "outputs": [
        {
          "data": {
            "text/plain": [
              "1"
            ]
          },
          "execution_count": 42,
          "metadata": {},
          "output_type": "execute_result"
        }
      ],
      "source": [
        "print(food_counts['bacon'])"
      ]
    },
    {
      "cell_type": "markdown",
      "metadata": {
        "id": "FTyHCqcq_og9"
      },
      "source": [
        "Maybe I counted the amount of bacon wrongly and I wanted to change it."
      ]
    },
    {
      "cell_type": "code",
      "execution_count": 43,
      "metadata": {
        "id": "CrHzCpcb_og9"
      },
      "outputs": [],
      "source": [
        "food_counts['bacon'] = 5"
      ]
    },
    {
      "cell_type": "code",
      "execution_count": 44,
      "metadata": {
        "id": "NsTkZNmB_ohA"
      },
      "outputs": [
        {
          "data": {
            "text/plain": [
              "{'eggs': 6, 'bacon': 5, 'sausages': 4}"
            ]
          },
          "execution_count": 44,
          "metadata": {},
          "output_type": "execute_result"
        }
      ],
      "source": [
        "print(food_counts) # bacon is now 5"
      ]
    },
    {
      "cell_type": "markdown",
      "metadata": {
        "id": "ok0ZL9BW_ohC"
      },
      "source": [
        "We could add another food in the dictionary like so:"
      ]
    },
    {
      "cell_type": "code",
      "execution_count": 45,
      "metadata": {
        "id": "5OXDZx3q_ohD"
      },
      "outputs": [],
      "source": [
        "food_counts['hash browns'] = 1"
      ]
    },
    {
      "cell_type": "code",
      "execution_count": 47,
      "metadata": {},
      "outputs": [
        {
          "data": {
            "text/plain": [
              "{'eggs': 6, 'bacon': 5, 'sausages': 4, 'hash browns': 1}"
            ]
          },
          "execution_count": 47,
          "metadata": {},
          "output_type": "execute_result"
        }
      ],
      "source": [
        "print(food_counts)"
      ]
    },
    {
      "cell_type": "code",
      "execution_count": 48,
      "metadata": {
        "id": "N4WDhIxJ_ohF"
      },
      "outputs": [
        {
          "data": {
            "text/plain": [
              "{'eggs': 6, 'bacon': 5, 'sausages': 4, 'hash browns': 1, 'fries': 2}"
            ]
          },
          "execution_count": 48,
          "metadata": {},
          "output_type": "execute_result"
        }
      ],
      "source": [
        "food_counts['fries'] = 2\n",
        "print(food_counts)"
      ]
    },
    {
      "cell_type": "code",
      "execution_count": 49,
      "metadata": {},
      "outputs": [
        {
          "name": "stdout",
          "output_type": "stream",
          "text": [
            "5\n"
          ]
        }
      ],
      "source": [
        "print(len(food_counts))"
      ]
    },
    {
      "cell_type": "markdown",
      "metadata": {
        "id": "pgWhh-34_ohI"
      },
      "source": [
        "In a dictonary **the key should be unique**. If we use multiple keys of the same name, we can't be sure which one will be returned."
      ]
    },
    {
      "cell_type": "code",
      "execution_count": 50,
      "metadata": {
        "id": "E7f75bkj_ohJ"
      },
      "outputs": [],
      "source": [
        "bad_dict = {'key':5,'key':6,'key':100}"
      ]
    },
    {
      "cell_type": "code",
      "execution_count": 51,
      "metadata": {
        "id": "xMVuPPt-_ohM"
      },
      "outputs": [
        {
          "data": {
            "text/plain": [
              "100"
            ]
          },
          "execution_count": 51,
          "metadata": {},
          "output_type": "execute_result"
        }
      ],
      "source": [
        "print(bad_dict['key'])"
      ]
    },
    {
      "cell_type": "markdown",
      "metadata": {
        "id": "UaQfws8vujbG"
      },
      "source": [
        "**Common Python Dictionary Methods**\n",
        "\n",
        "\n",
        "1.   `.values()`  Returns a list of all the values in the dictionary\n",
        "2.   `.keys()` Returns a list containing the dictionary's keys\n",
        "3.   `.items()` Returns a list containing a tuple for each key value pair\n",
        "\n"
      ]
    },
    {
      "cell_type": "code",
      "execution_count": 52,
      "metadata": {
        "id": "jL7-Y-YYvX7c"
      },
      "outputs": [
        {
          "name": "stdout",
          "output_type": "stream",
          "text": [
            "6\n",
            "1\n",
            "4\n",
            "dict_values([6, 1, 4])\n"
          ]
        }
      ],
      "source": [
        "# values\n",
        "dict1 ={'eggs':6 , 'bacon':1 , 'sausages':4}\n",
        "values = dict1.values()\n",
        "print(values)\n",
        "print(type(values))\n",
        "\n",
        "for i in values:\n",
        "    print(i)\n",
        "\n",
        "print(dict1.values())\n"
      ]
    },
    {
      "cell_type": "code",
      "execution_count": 53,
      "metadata": {
        "id": "g5hDErpRv_5H"
      },
      "outputs": [
        {
          "name": "stdout",
          "output_type": "stream",
          "text": [
            "dict_keys(['eggs', 'bacon', 'sausages'])\n"
          ]
        }
      ],
      "source": [
        "# keys\n",
        "print(dict1.keys())"
      ]
    },
    {
      "cell_type": "code",
      "execution_count": 55,
      "metadata": {
        "id": "Yr6qrhfBwMpm"
      },
      "outputs": [
        {
          "name": "stdout",
          "output_type": "stream",
          "text": [
            "('eggs', 6)\n",
            "('bacon', 1)\n",
            "('sausages', 4)\n"
          ]
        },
        {
          "data": {
            "text/plain": [
              "dict_items([('eggs', 6), ('bacon', 1), ('sausages', 4)])"
            ]
          },
          "execution_count": 55,
          "metadata": {},
          "output_type": "execute_result"
        }
      ],
      "source": [
        "# items\n",
        "a = dict1.items()\n",
        "\n",
        "for i in a:\n",
        "    print(i)\n",
        "\n",
        "print(a)"
      ]
    },
    {
      "cell_type": "markdown",
      "metadata": {
        "id": "K_27sdyO_ohT"
      },
      "source": [
        "### Exercise\n",
        "\n",
        "Make a dictionary called `new_shopping_dict` that uses the original list `shopping_list` as the keys and the elements in the list `prime` as values."
      ]
    },
    {
      "cell_type": "code",
      "execution_count": 63,
      "metadata": {
        "id": "EYcCdgA7Uu7e"
      },
      "outputs": [
        {
          "name": "stdout",
          "output_type": "stream",
          "text": [
            "5\n",
            "range(0, 5)\n",
            "0\n",
            "1\n",
            "2\n",
            "3\n",
            "4\n",
            "{'eggs': 2, 'bacon': 3, 'sausages': 5, 'bread': 7, 'baked beans': 11}\n"
          ]
        }
      ],
      "source": [
        "shopping_list = [ \"eggs\", \"bacon\",\"sausages\",\"bread\",\"baked beans\"]\n",
        "prime = [2,3,5,7,11]\n",
        "\n",
        "length = len(prime)\n",
        "\n",
        "print(length)\n",
        "\n",
        "new_shopping_dict = {}\n",
        "\n",
        "print(range(length))\n",
        "\n",
        "for i in range(length):\n",
        "    print(i)\n",
        "    new_shopping_dict[shopping_list[i]]=prime[i]\n",
        "    \n",
        "print(new_shopping_dict)"
      ]
    },
    {
      "cell_type": "markdown",
      "metadata": {
        "id": "69Mofsmq_ohW"
      },
      "source": [
        "## Section Summary\n",
        "\n",
        "In Python we have 3 basic data containers: lists, tuples and dictionaries. When solving problems, using the appropriate data container will make the process easier. As you program more, you will build intuition as to which data container to use. List and tuples are both used to store collections of values, however lists are mutable while tuples are immutable. Dictionaries are key value stores."
      ]
    },
    {
      "cell_type": "markdown",
      "metadata": {
        "id": "SfZc-n4U_ohX"
      },
      "source": [
        "# Indexing\n",
        "\n",
        "Indexing can be used to retrieve values from any data type that contains a sequence of items, this includes strings, lists and tuples.   Python uses 0 based index, so we count starting from zero rather than 1 which you might be used to."
      ]
    },
    {
      "cell_type": "code",
      "execution_count": 64,
      "metadata": {
        "id": "Y6aLBVUa_ohY"
      },
      "outputs": [],
      "source": [
        "string_var = '0123this is the indexing sentence'"
      ]
    },
    {
      "cell_type": "code",
      "execution_count": 68,
      "metadata": {
        "id": "B5C6sV7l_ohb"
      },
      "outputs": [],
      "source": [
        "s = \"Sammy Shark!\""
      ]
    },
    {
      "cell_type": "code",
      "execution_count": 69,
      "metadata": {
        "id": "BoJqINo7VS0M"
      },
      "outputs": [
        {
          "data": {
            "text/plain": [
              "12"
            ]
          },
          "execution_count": 69,
          "metadata": {},
          "output_type": "execute_result"
        }
      ],
      "source": [
        "len(s)"
      ]
    },
    {
      "cell_type": "markdown",
      "metadata": {
        "id": "t6kZVw93_ohe"
      },
      "source": [
        "<table><thead>\n",
        "<tr>\n",
        "<th>S</th>\n",
        "<th>a</th>\n",
        "<th>m</th>\n",
        "<th>m</th>\n",
        "<th>y</th>\n",
        "<th></th>\n",
        "<th>S</th>\n",
        "<th>h</th>\n",
        "<th>a</th>\n",
        "<th>r</th>\n",
        "<th>k</th>\n",
        "<th>!</th>\n",
        "</tr>\n",
        "</thead><tbody>\n",
        "<tr>\n",
        "<td>0</td>\n",
        "<td>1</td>\n",
        "<td>2</td>\n",
        "<td>3</td>\n",
        "<td>4</td>\n",
        "<td>5</td>\n",
        "<td>6</td>\n",
        "<td>7</td>\n",
        "<td>8</td>\n",
        "<td>9</td>\n",
        "<td>10</td>\n",
        "<td>11</td>\n",
        "</tr>\n",
        "</tbody></table>"
      ]
    },
    {
      "cell_type": "markdown",
      "metadata": {
        "id": "1hDmR0s7_ohf"
      },
      "source": [
        "By using the square brackets we can retrieve the character at that index"
      ]
    },
    {
      "cell_type": "code",
      "execution_count": 70,
      "metadata": {
        "id": "8OCCMKdn_ohg"
      },
      "outputs": [
        {
          "data": {
            "text/plain": [
              "'S'"
            ]
          },
          "execution_count": 70,
          "metadata": {},
          "output_type": "execute_result"
        }
      ],
      "source": [
        "s[0]"
      ]
    },
    {
      "cell_type": "code",
      "execution_count": 71,
      "metadata": {
        "id": "5Nw_qaPCSAMa"
      },
      "outputs": [
        {
          "data": {
            "text/plain": [
              "'m'"
            ]
          },
          "execution_count": 71,
          "metadata": {},
          "output_type": "execute_result"
        }
      ],
      "source": [
        "s[2]"
      ]
    },
    {
      "cell_type": "code",
      "execution_count": 72,
      "metadata": {
        "id": "bfjJZPzHVlQr"
      },
      "outputs": [
        {
          "data": {
            "text/plain": [
              "'C'"
            ]
          },
          "execution_count": 72,
          "metadata": {},
          "output_type": "execute_result"
        }
      ],
      "source": [
        "list1 = ['A','B','C','D']\n",
        "list1[2]\n",
        "\n",
        "# index of items in list1\n",
        "\n",
        "# index 0 = 'A'\n",
        "# index 1 = 'B'\n",
        "# index 2 = 'C'\n",
        "# index 3 = 'D'"
      ]
    },
    {
      "cell_type": "markdown",
      "metadata": {
        "id": "4IfXOhMA_ohi"
      },
      "source": [
        "We can also use negative indexing which starts at the end.\n",
        "<table><thead>\n",
        "<tr>\n",
        "<th>S</th>\n",
        "<th>a</th>\n",
        "<th>m</th>\n",
        "<th>m</th>\n",
        "<th>y</th>\n",
        "<th></th>\n",
        "<th>S</th>\n",
        "<th>h</th>\n",
        "<th>a</th>\n",
        "<th>r</th>\n",
        "<th>k</th>\n",
        "<th>!</th>\n",
        "</tr>\n",
        "</thead><tbody>\n",
        "<tr>\n",
        "<td>-12</td>\n",
        "<td>-11</td>\n",
        "<td>-10</td>\n",
        "<td>-9</td>\n",
        "<td>-8</td>\n",
        "<td>-7</td>\n",
        "<td>-6</td>\n",
        "<td>-5</td>\n",
        "<td>-4</td>\n",
        "<td>-3</td>\n",
        "<td>-2</td>\n",
        "<td>-1</td>\n",
        "</tr>\n",
        "</tbody></table>\n",
        "\n"
      ]
    },
    {
      "cell_type": "code",
      "execution_count": 73,
      "metadata": {
        "id": "i2ESG4Xk_ohj"
      },
      "outputs": [
        {
          "data": {
            "text/plain": [
              "'!'"
            ]
          },
          "execution_count": 73,
          "metadata": {},
          "output_type": "execute_result"
        }
      ],
      "source": [
        "s[-1]"
      ]
    },
    {
      "cell_type": "code",
      "execution_count": 74,
      "metadata": {
        "id": "Fm-39hJE_ohl"
      },
      "outputs": [
        {
          "data": {
            "text/plain": [
              "'h'"
            ]
          },
          "execution_count": 74,
          "metadata": {},
          "output_type": "execute_result"
        }
      ],
      "source": [
        "s[-5]"
      ]
    },
    {
      "cell_type": "code",
      "execution_count": 75,
      "metadata": {
        "id": "_ZHQYFAT_ohp"
      },
      "outputs": [
        {
          "data": {
            "text/plain": [
              "'Sammy'"
            ]
          },
          "execution_count": 75,
          "metadata": {},
          "output_type": "execute_result"
        }
      ],
      "source": [
        "s[0:5] # start from index 0, up to but not including index 5"
      ]
    },
    {
      "cell_type": "markdown",
      "metadata": {
        "id": "wWK2bTz0_ohn"
      },
      "source": [
        "## List Slicing\n",
        "When slicing a list, there are three arguments we may need to pass inside the []\n",
        "1.   1st argument, index to start slicing\n",
        "2.   2nd argument, index to end slicing\n",
        "3.   3rd argument(optional), step/increment to slice by\n",
        "\n",
        "So this will look something like this in the end:\n",
        "`list[Start: Stop: Step]`\n",
        "\n"
      ]
    },
    {
      "cell_type": "markdown",
      "metadata": {
        "id": "rFs5qYaZtWK8"
      },
      "source": [
        "The indexing is exclusive, meaning when you index it's up until the final number but doesn't include it."
      ]
    },
    {
      "cell_type": "code",
      "execution_count": 76,
      "metadata": {
        "id": "F4g63DMflz7K"
      },
      "outputs": [
        {
          "data": {
            "text/plain": [
              "'Sammy '"
            ]
          },
          "execution_count": 76,
          "metadata": {},
          "output_type": "execute_result"
        }
      ],
      "source": [
        "# Sammy Shark!\n",
        "s[:6]"
      ]
    },
    {
      "cell_type": "markdown",
      "metadata": {
        "id": "qV7v06r3_oht"
      },
      "source": [
        "When we're going to start from the 0th index we can just leave out the 0."
      ]
    },
    {
      "cell_type": "code",
      "execution_count": 77,
      "metadata": {
        "id": "_IKXsuv0_oht"
      },
      "outputs": [
        {
          "data": {
            "text/plain": [
              "'my Shark!'"
            ]
          },
          "execution_count": 77,
          "metadata": {},
          "output_type": "execute_result"
        }
      ],
      "source": [
        "s[3:]"
      ]
    },
    {
      "cell_type": "code",
      "execution_count": 78,
      "metadata": {
        "id": "gKbKZ5bP_ohy"
      },
      "outputs": [
        {
          "data": {
            "text/plain": [
              "'abc'"
            ]
          },
          "execution_count": 78,
          "metadata": {},
          "output_type": "execute_result"
        }
      ],
      "source": [
        "s = \"abcdef\"\n",
        "s[:3] # up to but not including the 3rd index of d"
      ]
    },
    {
      "cell_type": "code",
      "execution_count": 79,
      "metadata": {
        "id": "LUC24a9mX_nL"
      },
      "outputs": [
        {
          "data": {
            "text/plain": [
              "['A', 'B', 'C', 'D']"
            ]
          },
          "execution_count": 79,
          "metadata": {},
          "output_type": "execute_result"
        }
      ],
      "source": [
        "list1 = ['A','B','C','D']\n",
        "list1[:]"
      ]
    },
    {
      "cell_type": "markdown",
      "metadata": {
        "id": "Ioxzd3BUtbU0"
      },
      "source": [
        "Suppose now, we only want the even number index character, we can do this by specifying the increment arguemnt:"
      ]
    },
    {
      "cell_type": "code",
      "execution_count": 84,
      "metadata": {
        "id": "eSXUNpeWt0CZ"
      },
      "outputs": [
        {
          "data": {
            "text/plain": [
              "'acegik'"
            ]
          },
          "execution_count": 84,
          "metadata": {},
          "output_type": "execute_result"
        }
      ],
      "source": [
        "s = \"abcdefghijk\"\n",
        "# only want even number index character\n",
        "s[0::2]\n",
        "# s[0::2] # 2 steps"
      ]
    },
    {
      "cell_type": "code",
      "execution_count": 85,
      "metadata": {
        "id": "txzt6phRu1L3"
      },
      "outputs": [
        {
          "data": {
            "text/plain": [
              "'adgj'"
            ]
          },
          "execution_count": 85,
          "metadata": {},
          "output_type": "execute_result"
        }
      ],
      "source": [
        "# 3 steps increment will be like this\n",
        "s = \"abcdefghijk\"\n",
        "s[::3]"
      ]
    },
    {
      "cell_type": "markdown",
      "metadata": {
        "id": "Fz-nnaNr_oh1"
      },
      "source": [
        "When we have nested list, or a list inside a list we have to index twice to get the element we want."
      ]
    },
    {
      "cell_type": "code",
      "execution_count": 91,
      "metadata": {
        "id": "89mzWheS_oh2"
      },
      "outputs": [
        {
          "data": {
            "text/plain": [
              "20"
            ]
          },
          "execution_count": 91,
          "metadata": {},
          "output_type": "execute_result"
        }
      ],
      "source": [
        "x = [1,'Monday',[50,20]]\n",
        "x[2][1]\n",
        "# get the 2nd index element first(i.e. [50,20]),\n",
        "# then get the 1st index of [50,20](i.e. 20)"
      ]
    },
    {
      "cell_type": "code",
      "execution_count": 90,
      "metadata": {},
      "outputs": [
        {
          "name": "stdout",
          "output_type": "stream",
          "text": [
            "<class 'list'>\n"
          ]
        }
      ],
      "source": [
        "print(type(x[2]))"
      ]
    },
    {
      "cell_type": "code",
      "execution_count": 92,
      "metadata": {
        "id": "8csop-xVV35m"
      },
      "outputs": [
        {
          "data": {
            "text/plain": [
              "50"
            ]
          },
          "execution_count": 92,
          "metadata": {},
          "output_type": "execute_result"
        }
      ],
      "source": [
        "x[2][0]"
      ]
    },
    {
      "cell_type": "code",
      "execution_count": 93,
      "metadata": {
        "id": "q0isw4Jm_oh4"
      },
      "outputs": [
        {
          "data": {
            "text/plain": [
              "[7, 8]"
            ]
          },
          "execution_count": 93,
          "metadata": {},
          "output_type": "execute_result"
        }
      ],
      "source": [
        "x= [[1,2,3,4],\n",
        "    [5,6,7,8]] # 2D array or a matrix\n",
        "\n",
        "x[-1][-2:] # get last two elements from second list"
      ]
    },
    {
      "cell_type": "code",
      "execution_count": 94,
      "metadata": {},
      "outputs": [
        {
          "data": {
            "text/plain": [
              "[7, 8]"
            ]
          },
          "execution_count": 94,
          "metadata": {},
          "output_type": "execute_result"
        }
      ],
      "source": [
        "x[1][2:]"
      ]
    },
    {
      "cell_type": "code",
      "execution_count": 97,
      "metadata": {
        "id": "9xKWVL97SAMt"
      },
      "outputs": [
        {
          "data": {
            "text/plain": [
              "[1, 2, 3, 4]"
            ]
          },
          "execution_count": 97,
          "metadata": {},
          "output_type": "execute_result"
        }
      ],
      "source": [
        "x[0][:]"
      ]
    },
    {
      "cell_type": "markdown",
      "metadata": {
        "id": "bUOKqXTq_oh7"
      },
      "source": [
        "Indexing into a nested list can be a little troublesome. For example, what if I wanted to select all the values in the first column? Thankfully, libraries like numpy provide better data structures for 2D lists (matrices). We'll cover numpy at a later date.\n",
        "\n",
        "We can use indexing to replace values in a list."
      ]
    },
    {
      "cell_type": "code",
      "execution_count": 98,
      "metadata": {
        "id": "EJ48fDqH_oh8"
      },
      "outputs": [],
      "source": [
        "l = [2,3,4,5]"
      ]
    },
    {
      "cell_type": "code",
      "execution_count": 99,
      "metadata": {
        "id": "IafRYwLTSAMy"
      },
      "outputs": [
        {
          "data": {
            "text/plain": [
              "[5, 3, 4, 5]"
            ]
          },
          "execution_count": 99,
          "metadata": {},
          "output_type": "execute_result"
        }
      ],
      "source": [
        "l[0] = 5 # assign new value to the first element(index 0) of list l\n",
        "l"
      ]
    },
    {
      "cell_type": "code",
      "execution_count": 100,
      "metadata": {
        "id": "3zF-FrOe_oh_"
      },
      "outputs": [],
      "source": [
        "l[3] = 20"
      ]
    },
    {
      "cell_type": "code",
      "execution_count": 101,
      "metadata": {
        "id": "v4TxDP2B_oiD"
      },
      "outputs": [
        {
          "name": "stdout",
          "output_type": "stream",
          "text": [
            "[5, 3, 4, 20]\n"
          ]
        }
      ],
      "source": [
        "print(l)"
      ]
    },
    {
      "cell_type": "code",
      "execution_count": 102,
      "metadata": {
        "id": "ptHZeEdH_oiN"
      },
      "outputs": [
        {
          "data": {
            "text/plain": [
              "[5, 'a', 'b', 'c']"
            ]
          },
          "execution_count": 102,
          "metadata": {},
          "output_type": "execute_result"
        }
      ],
      "source": [
        "l[1:] = ['a','b','c']\n",
        "l"
      ]
    },
    {
      "cell_type": "markdown",
      "metadata": {
        "id": "YUIlUyyC_oiP"
      },
      "source": [
        "Since strings are immutable in Python, we can't use indexing to change characters. Instead, we have to use string methods like `.replace`. It's a similar situation with tuples; they're immutable so we can't change values using indexing."
      ]
    },
    {
      "cell_type": "markdown",
      "metadata": {
        "id": "nNc5UBGWyMxJ"
      },
      "source": [
        "# IF statements\n",
        "\n",
        "IF statements are conditional statements for decision making. It is used to decide whether a certain statement or block of statements will be executed or not. We will do more details on IF statements in a later class as well."
      ]
    },
    {
      "cell_type": "code",
      "execution_count": 103,
      "metadata": {
        "id": "y3d8mDU5yRHm"
      },
      "outputs": [
        {
          "name": "stdout",
          "output_type": "stream",
          "text": [
            "80\n",
            "30 50\n"
          ]
        }
      ],
      "source": [
        "a = 30\n",
        "b = 50\n",
        "if a < b: # the following codes will run because the condition a < b is satisfied (30 < 50)\n",
        "    c = a + b\n",
        "    print(c)\n",
        "\n",
        "print(a,b)"
      ]
    },
    {
      "cell_type": "code",
      "execution_count": 105,
      "metadata": {
        "id": "pUO6SnCAyToH"
      },
      "outputs": [],
      "source": [
        "a = 30\n",
        "b = 50\n",
        "if a > b: # the following codes will NOT run because the conditional statement a > b is not satisfied\n",
        "    c = a + b\n",
        "    print(c)"
      ]
    },
    {
      "cell_type": "markdown",
      "metadata": {
        "id": "BOp4NbvT_oiP"
      },
      "source": [
        "### Exercise\n",
        "\n",
        "Return only `\"Shark\"` from the `s` string using slicing."
      ]
    },
    {
      "cell_type": "code",
      "execution_count": 1,
      "metadata": {
        "id": "Do0tOIoSybky"
      },
      "outputs": [
        {
          "name": "stdout",
          "output_type": "stream",
          "text": [
            "Shark\n",
            "Shark\n"
          ]
        }
      ],
      "source": [
        "s = 'Sammy Shark!'\n",
        "\n",
        "\n",
        "print(s[6:11])\n",
        "\n",
        "if \"Shark\" in s:\n",
        "    word=\"Shark\"\n",
        "    \n",
        "print(word)"
      ]
    }
  ],
  "metadata": {
    "colab": {
      "provenance": [],
      "toc_visible": true
    },
    "kernelspec": {
      "display_name": "Python 3",
      "language": "python",
      "name": "python3"
    },
    "language_info": {
      "codemirror_mode": {
        "name": "ipython",
        "version": 3
      },
      "file_extension": ".py",
      "mimetype": "text/x-python",
      "name": "python",
      "nbconvert_exporter": "python",
      "pygments_lexer": "ipython3",
      "version": "3.9.12"
    },
    "toc": {
      "base_numbering": 1,
      "nav_menu": {},
      "number_sections": true,
      "sideBar": true,
      "skip_h1_title": false,
      "title_cell": "Table of Contents",
      "title_sidebar": "Contents",
      "toc_cell": false,
      "toc_position": {},
      "toc_section_display": true,
      "toc_window_display": false
    }
  },
  "nbformat": 4,
  "nbformat_minor": 0
}
