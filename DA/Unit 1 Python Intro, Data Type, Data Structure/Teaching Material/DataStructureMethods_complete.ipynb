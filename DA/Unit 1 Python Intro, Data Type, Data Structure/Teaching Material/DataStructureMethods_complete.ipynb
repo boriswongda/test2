{
 "cells": [
  {
   "cell_type": "markdown",
   "metadata": {
    "id": "Arc1ChkJMZYa"
   },
   "source": [
    "# Data Structure Methods and Comprehensions\n",
    "\n",
    "The learning objectives are:\n",
    "* Methods:\n",
    "    * String Methods\n",
    "    * Data Container Methods\n",
    "* In & Not In Statements  "
   ]
  },
  {
   "cell_type": "markdown",
   "metadata": {
    "id": "S3BNdi5aMZYj"
   },
   "source": [
    "## Methods\n",
    "\n",
    "Methods are functions that is called on an object (Python's abstraction for data). Different data types have different methods. The syntax to call a method on an object is `object.methodname()`. In a Jupyter Notebook, after adding a `.` on an object, press `Tab` to bring a up list of possible methods to call on this object.\n",
    "\n",
    "##### Example:\n",
    "```python\n",
    "\n",
    "x = [1,2,3]\n",
    "x.append(5)\n",
    "\n",
    "\n",
    "```\n",
    "\n",
    "In the example code  `.append()` is a method for the variable x, a list object. This method appends an object at the end of a list. As with built-in Python functions, press `shift+tab` to view a method's docstring.\n",
    "\n",
    "Alternatively, passing an object in `help()` will return a more detailed version of all possible methods for that data type.\n",
    "\n",
    "##### Examples:\n",
    "```python\n",
    "\n",
    "help(x) , help(str) , help(dict)\n",
    "\n",
    "```"
   ]
  },
  {
   "cell_type": "markdown",
   "metadata": {
    "id": "T2kUtS-HMZYm"
   },
   "source": [
    "### String Methods\n",
    "\n",
    "Strings have two types of methods, a String Method and Boolean String Method. For a String Method, all methods return a new value. Boolean String Method will always return a boolean `True` or `False`. "
   ]
  },
  {
   "cell_type": "markdown",
   "metadata": {
    "id": "ZVVL039fMZYp"
   },
   "source": [
    "##### Common Boolean String Methods Examples:\n",
    "\n",
    "* `.isalnum()` - Returns True if string is only alphabetic and numeric, otherwise False.\n",
    "* `.isalpha()` - Returns True if string is all alphabetic, otherwise False.\n",
    "* `.isdigit()` - Returns True if string is all numeric, otherwise False.\n",
    "* `.islower()` - Returns True if string is all in lowercase alphabetic, otherwise False\n",
    "* `.isupper()` - Returns True if string is all in uppercase alphabetic, otherwise False.\n",
    "* `.endswith()` - Returns True if string ends with specified string value,  otherwise False.\n",
    "* `.startswith()` - Returns True if string starts with sepecified string value, otherwise False."
   ]
  },
  {
   "cell_type": "code",
   "execution_count": 5,
   "metadata": {
    "colab": {
     "base_uri": "https://localhost:8080/",
     "height": 51
    },
    "executionInfo": {
     "elapsed": 833,
     "status": "ok",
     "timestamp": 1602504548797,
     "user": {
      "displayName": "Ravi Murugesan",
      "photoUrl": "https://lh3.googleusercontent.com/a-/AOh14GgR5kz_QIiM_9oXAwbI5bYNzMTq84sM_gnID0t2gg=s64",
      "userId": "10332875964598669976"
     },
     "user_tz": -480
    },
    "id": "FHJj_Mr_MZYs",
    "outputId": "7f938817-ced7-4ed5-b0ea-bf3c3ae52134"
   },
   "outputs": [
    {
     "name": "stdout",
     "output_type": "stream",
     "text": [
      "True\n",
      "True\n"
     ]
    }
   ],
   "source": [
    "# .isalnum() - No substring is passed inside ()\n",
    "string1 = \"abc123\"\n",
    "print(string1.isalnum())\n",
    "print(string1.endswith(\"3\"))"
   ]
  },
  {
   "cell_type": "code",
   "execution_count": 2,
   "metadata": {
    "id": "ZNG1xXs0oDEC"
   },
   "outputs": [],
   "source": [
    "s = 'abc'"
   ]
  },
  {
   "cell_type": "code",
   "execution_count": 2,
   "metadata": {
    "id": "WjiFrgqUMZY3",
    "outputId": "074b69b3-74c0-4eb8-ec92-a4813f2a6242"
   },
   "outputs": [
    {
     "name": "stdout",
     "output_type": "stream",
     "text": [
      "True\n"
     ]
    }
   ],
   "source": [
    "# .isalnum() \n",
    "alpha_num = \"PYTHOn\"\n",
    "print(alpha_num.isalnum())"
   ]
  },
  {
   "cell_type": "code",
   "execution_count": 8,
   "metadata": {
    "id": "4dU2Eq52MZY8",
    "outputId": "93eda3d3-01b7-4201-f130-244ef7e4e7e3"
   },
   "outputs": [
    {
     "name": "stdout",
     "output_type": "stream",
     "text": [
      "Is Python all alphabetic? True\n"
     ]
    }
   ],
   "source": [
    "# .isalpha() - No substring is passed inside ()\n",
    "my_alpha = \"Python\"\n",
    "# {} reserves a space for an object \n",
    "# print(' {}   {}  '.format(object1, object2))\n",
    "print(\"Is {} all alphabetic? {}\".format(my_alpha, my_alpha.isalpha()))"
   ]
  },
  {
   "cell_type": "code",
   "execution_count": 3,
   "metadata": {},
   "outputs": [
    {
     "name": "stdout",
     "output_type": "stream",
     "text": [
      "reserve 23 : 2\n"
     ]
    }
   ],
   "source": [
    "a = '2'\n",
    "b = \"3\"\n",
    "c = \"3\"\n",
    "print(\"reserve {} : {}\".format(a+b, a))"
   ]
  },
  {
   "cell_type": "code",
   "execution_count": 9,
   "metadata": {
    "colab": {
     "base_uri": "https://localhost:8080/",
     "height": 34
    },
    "executionInfo": {
     "elapsed": 671,
     "status": "ok",
     "timestamp": 1597220306688,
     "user": {
      "displayName": "Ravi Murugesan",
      "photoUrl": "https://lh3.googleusercontent.com/a-/AOh14GgR5kz_QIiM_9oXAwbI5bYNzMTq84sM_gnID0t2gg=s64",
      "userId": "10332875964598669976"
     },
     "user_tz": -480
    },
    "id": "JQdNF6QpMZZA",
    "outputId": "9be211b9-7c71-488c-ea9a-8182426b7388"
   },
   "outputs": [
    {
     "data": {
      "text/plain": [
       "True"
      ]
     },
     "execution_count": 9,
     "metadata": {},
     "output_type": "execute_result"
    }
   ],
   "source": [
    "# .isalpha()\n",
    "swapcase = \"SwApCaSe\"\n",
    "swapcase.isalpha()"
   ]
  },
  {
   "cell_type": "code",
   "execution_count": 12,
   "metadata": {
    "colab": {
     "base_uri": "https://localhost:8080/",
     "height": 34
    },
    "executionInfo": {
     "elapsed": 1257,
     "status": "ok",
     "timestamp": 1602504634586,
     "user": {
      "displayName": "Ravi Murugesan",
      "photoUrl": "https://lh3.googleusercontent.com/a-/AOh14GgR5kz_QIiM_9oXAwbI5bYNzMTq84sM_gnID0t2gg=s64",
      "userId": "10332875964598669976"
     },
     "user_tz": -480
    },
    "id": "H-zo26aiMZZD",
    "outputId": "b2725d81-125f-444d-d2c4-2b5a7d672a92"
   },
   "outputs": [
    {
     "name": "stdout",
     "output_type": "stream",
     "text": [
      "Is 1 a whole number? True\n"
     ]
    }
   ],
   "source": [
    "# .isdigit() - No substring is passed inside ()\n",
    "birdie = '1'\n",
    "print(\"Is {} a whole number? {}\".format(birdie, birdie.isdigit()))"
   ]
  },
  {
   "cell_type": "code",
   "execution_count": 8,
   "metadata": {
    "id": "34D8Qk6gMZZH",
    "outputId": "1097f03a-1570-4083-a337-1b4b4ed87145"
   },
   "outputs": [
    {
     "name": "stdout",
     "output_type": "stream",
     "text": [
      "This is Python 101? True\n"
     ]
    }
   ],
   "source": [
    "# .isdigit() \n",
    "print(\"This is Python 101?\", \"101\".isdigit())"
   ]
  },
  {
   "cell_type": "code",
   "execution_count": 16,
   "metadata": {
    "colab": {
     "base_uri": "https://localhost:8080/",
     "height": 34
    },
    "executionInfo": {
     "elapsed": 736,
     "status": "ok",
     "timestamp": 1597220236240,
     "user": {
      "displayName": "Ravi Murugesan",
      "photoUrl": "https://lh3.googleusercontent.com/a-/AOh14GgR5kz_QIiM_9oXAwbI5bYNzMTq84sM_gnID0t2gg=s64",
      "userId": "10332875964598669976"
     },
     "user_tz": -480
    },
    "id": "kRzkdQNpMZZK",
    "outputId": "9df38514-586a-44e2-dfcd-9d1820bfd39a"
   },
   "outputs": [
    {
     "data": {
      "text/plain": [
       "True"
      ]
     },
     "execution_count": 16,
     "metadata": {},
     "output_type": "execute_result"
    }
   ],
   "source": [
    "# .islower() - No substring is passed inside ()\n",
    "\"python 101\".islower()"
   ]
  },
  {
   "cell_type": "code",
   "execution_count": 17,
   "metadata": {
    "colab": {
     "base_uri": "https://localhost:8080/",
     "height": 34
    },
    "executionInfo": {
     "elapsed": 1132,
     "status": "ok",
     "timestamp": 1597220309938,
     "user": {
      "displayName": "Ravi Murugesan",
      "photoUrl": "https://lh3.googleusercontent.com/a-/AOh14GgR5kz_QIiM_9oXAwbI5bYNzMTq84sM_gnID0t2gg=s64",
      "userId": "10332875964598669976"
     },
     "user_tz": -480
    },
    "id": "eARxdGMXMZZN",
    "outputId": "6c7703d2-7612-4cf2-cf1f-bc925e528a6a"
   },
   "outputs": [
    {
     "name": "stdout",
     "output_type": "stream",
     "text": [
      "Is SwApCaSe in all lowercase format? False\n"
     ]
    }
   ],
   "source": [
    "# .islower()\n",
    "\n",
    "print(\"Is \" + swapcase + \" in all lowercase format? \" + str(swapcase.islower()))"
   ]
  },
  {
   "cell_type": "code",
   "execution_count": 18,
   "metadata": {
    "colab": {
     "base_uri": "https://localhost:8080/",
     "height": 37
    },
    "executionInfo": {
     "elapsed": 721,
     "status": "ok",
     "timestamp": 1597220317798,
     "user": {
      "displayName": "Ravi Murugesan",
      "photoUrl": "https://lh3.googleusercontent.com/a-/AOh14GgR5kz_QIiM_9oXAwbI5bYNzMTq84sM_gnID0t2gg=s64",
      "userId": "10332875964598669976"
     },
     "user_tz": -480
    },
    "id": "nQeiOKsboDEu",
    "outputId": "8c0e88c9-4709-4164-e78c-f3b074153dbf"
   },
   "outputs": [
    {
     "data": {
      "text/plain": [
       "'SwApCaSe'"
      ]
     },
     "execution_count": 18,
     "metadata": {},
     "output_type": "execute_result"
    }
   ],
   "source": [
    "swapcase"
   ]
  },
  {
   "cell_type": "code",
   "execution_count": 24,
   "metadata": {
    "id": "0J8HM6EtMZZP",
    "outputId": "a5c90d5d-6a94-4478-98fc-cdc340d06de6"
   },
   "outputs": [
    {
     "name": "stdout",
     "output_type": "stream",
     "text": [
      "True\n"
     ]
    }
   ],
   "source": [
    "# .islower()\n",
    "my_string = \"i like learning python!\"\n",
    "print(my_string.islower())"
   ]
  },
  {
   "cell_type": "code",
   "execution_count": 19,
   "metadata": {
    "id": "TxB3rvxHMZZS",
    "outputId": "72395861-50e7-45df-8659-c80eab82be35"
   },
   "outputs": [
    {
     "data": {
      "text/plain": [
       "False"
      ]
     },
     "execution_count": 19,
     "metadata": {},
     "output_type": "execute_result"
    }
   ],
   "source": [
    "# .isupper() - No substring is passed inside ()\n",
    "swapcase.isupper()"
   ]
  },
  {
   "cell_type": "code",
   "execution_count": 20,
   "metadata": {
    "id": "e4HmjKZPMZZU",
    "outputId": "ec160c5d-636f-4a3d-d497-d2d339076032"
   },
   "outputs": [
    {
     "name": "stdout",
     "output_type": "stream",
     "text": [
      "True\n"
     ]
    }
   ],
   "source": [
    "# .isupper() \n",
    "yell = \"YELL!\"\n",
    "print(yell.isupper())"
   ]
  },
  {
   "cell_type": "code",
   "execution_count": 21,
   "metadata": {
    "id": "GYAGQ5EDMZZW",
    "outputId": "ea6a33d1-62de-4930-8b04-7704f74e05a8"
   },
   "outputs": [
    {
     "name": "stdout",
     "output_type": "stream",
     "text": [
      "Does title 'Tech Stocks Soar 3%' end with a %? True\n"
     ]
    }
   ],
   "source": [
    "# .endswith() - Specified substring is passed inside ()\n",
    "headline = \"Tech Stocks Soar 3%\"\n",
    "print(\"Does title '{}' end with a %? {}\".format(headline, headline.endswith('%')))"
   ]
  },
  {
   "cell_type": "code",
   "execution_count": 22,
   "metadata": {
    "id": "Q1sxrdo0MZZZ",
    "outputId": "c84da32a-c16e-4c3c-ca7e-7cfa9d9a00f1"
   },
   "outputs": [
    {
     "name": "stdout",
     "output_type": "stream",
     "text": [
      "alpha_num output is: PYTHOn\n",
      "False\n"
     ]
    }
   ],
   "source": [
    "# .endswith()\n",
    "print(\"alpha_num output is:\", alpha_num)\n",
    "print(alpha_num.endswith('3.7'))"
   ]
  },
  {
   "cell_type": "code",
   "execution_count": 24,
   "metadata": {
    "id": "es8z-kv4MZZb",
    "outputId": "f4e43542-dff0-4309-83d1-192f2fd8fc36"
   },
   "outputs": [
    {
     "data": {
      "text/plain": [
       "False"
      ]
     },
     "execution_count": 24,
     "metadata": {},
     "output_type": "execute_result"
    }
   ],
   "source": [
    "# .startswith() - Specified substring is passed inside ()\n",
    "\"Python\".startswith('p')"
   ]
  },
  {
   "cell_type": "code",
   "execution_count": 25,
   "metadata": {
    "id": "KGBMp0IbMZZd",
    "outputId": "f9e33ce1-d669-46ae-98c5-26d0618a38ac"
   },
   "outputs": [
    {
     "data": {
      "text/plain": [
       "True"
      ]
     },
     "execution_count": 25,
     "metadata": {},
     "output_type": "execute_result"
    }
   ],
   "source": [
    "# .startswith()\n",
    "my_string.startswith('i like')"
   ]
  },
  {
   "cell_type": "markdown",
   "metadata": {
    "id": "En_LpLnKMZZf"
   },
   "source": [
    "##### Common String Methods:\n",
    "* `.count()` - Returns the number of occurence of a substring in a string.\n",
    "* `.find()` - Returns the index of first occurence of a substring in a string from [start:end].\n",
    "* `.index()` - Returns the index of first occurence of a substring in a string from [start:end].\n",
    "* `.join()` - Returns a concatenated string where string elements is joined by a string separator.\n",
    "* `.lower()` - Returns all alphabetic to lowercase.\n",
    "* `.upper()` - Returns all alphabetic to uppercase.\n",
    "* `.replace()` - Returns a string where all occurence of a substring is replaced by a specified substring.\n",
    "* `.split()` - Returns a list of strings separated by a specified separator.\n",
    "* `.strip()` - Returns a string with front and end whitespace removed.\n",
    "\n"
   ]
  },
  {
   "cell_type": "code",
   "execution_count": 29,
   "metadata": {
    "colab": {
     "base_uri": "https://localhost:8080/",
     "height": 51
    },
    "executionInfo": {
     "elapsed": 687,
     "status": "ok",
     "timestamp": 1597220525161,
     "user": {
      "displayName": "Ravi Murugesan",
      "photoUrl": "https://lh3.googleusercontent.com/a-/AOh14GgR5kz_QIiM_9oXAwbI5bYNzMTq84sM_gnID0t2gg=s64",
      "userId": "10332875964598669976"
     },
     "user_tz": -480
    },
    "id": "uJukU4PdMZZg",
    "outputId": "0f4290f0-877e-4458-9761-abfc74c68281"
   },
   "outputs": [
    {
     "name": "stdout",
     "output_type": "stream",
     "text": [
      "4\n"
     ]
    }
   ],
   "source": [
    "# .count() - A specified substring is passed inside ()\n",
    "\n",
    "print(\"How many times does 'i' appear in this sentence?\".count('i'))"
   ]
  },
  {
   "cell_type": "code",
   "execution_count": null,
   "metadata": {
    "colab": {
     "base_uri": "https://localhost:8080/",
     "height": 34
    },
    "executionInfo": {
     "elapsed": 609,
     "status": "ok",
     "timestamp": 1597220624051,
     "user": {
      "displayName": "Ravi Murugesan",
      "photoUrl": "https://lh3.googleusercontent.com/a-/AOh14GgR5kz_QIiM_9oXAwbI5bYNzMTq84sM_gnID0t2gg=s64",
      "userId": "10332875964598669976"
     },
     "user_tz": -480
    },
    "id": "rSUZqIBoMZZi",
    "outputId": "b6912dda-55aa-429e-c8e5-570aead3524e"
   },
   "outputs": [
    {
     "name": "stdout",
     "output_type": "stream",
     "text": [
      "2\n"
     ]
    }
   ],
   "source": [
    "# .count()\n",
    "my_string = 'python is beautiful, python'\n",
    "python_count = my_string.count('python')\n",
    "print(python_count)"
   ]
  },
  {
   "cell_type": "code",
   "execution_count": 35,
   "metadata": {
    "colab": {
     "base_uri": "https://localhost:8080/",
     "height": 51
    },
    "executionInfo": {
     "elapsed": 803,
     "status": "ok",
     "timestamp": 1597220698486,
     "user": {
      "displayName": "Ravi Murugesan",
      "photoUrl": "https://lh3.googleusercontent.com/a-/AOh14GgR5kz_QIiM_9oXAwbI5bYNzMTq84sM_gnID0t2gg=s64",
      "userId": "10332875964598669976"
     },
     "user_tz": -480
    },
    "id": "IW7Y5G5mMZZk",
    "outputId": "e7e617d8-d052-4c57-c757-3bf6dc36cb64"
   },
   "outputs": [
    {
     "data": {
      "text/plain": [
       "2"
      ]
     },
     "execution_count": 35,
     "metadata": {},
     "output_type": "execute_result"
    }
   ],
   "source": [
    "\"hello\".count('l',1,4)"
   ]
  },
  {
   "cell_type": "code",
   "execution_count": 36,
   "metadata": {
    "colab": {
     "base_uri": "https://localhost:8080/",
     "height": 34
    },
    "executionInfo": {
     "elapsed": 698,
     "status": "ok",
     "timestamp": 1597220932656,
     "user": {
      "displayName": "Ravi Murugesan",
      "photoUrl": "https://lh3.googleusercontent.com/a-/AOh14GgR5kz_QIiM_9oXAwbI5bYNzMTq84sM_gnID0t2gg=s64",
      "userId": "10332875964598669976"
     },
     "user_tz": -480
    },
    "id": "aA_he4-OMZZm",
    "outputId": "1f39a193-abb9-4992-c2e4-4be712b7132f"
   },
   "outputs": [
    {
     "name": "stdout",
     "output_type": "stream",
     "text": [
      "16\n"
     ]
    }
   ],
   "source": [
    "# .find() - An optional start and end index can be given to where search begins and engs\n",
    "print(\"The first space in this sentence is where? The answer is: \".find('i', 10))"
   ]
  },
  {
   "cell_type": "code",
   "execution_count": 29,
   "metadata": {
    "id": "L-zIEb9DMZZr",
    "outputId": "761e285d-b9bf-4769-9627-6d34cda33515",
    "scrolled": true
   },
   "outputs": [
    {
     "name": "stdout",
     "output_type": "stream",
     "text": [
      "25\n"
     ]
    }
   ],
   "source": [
    "# .find() \n",
    "print(\"The first space in this sentence is where? The answer is: \".find('e', 20, -1))"
   ]
  },
  {
   "cell_type": "code",
   "execution_count": 37,
   "metadata": {
    "colab": {
     "base_uri": "https://localhost:8080/",
     "height": 34
    },
    "executionInfo": {
     "elapsed": 1032,
     "status": "ok",
     "timestamp": 1602675708739,
     "user": {
      "displayName": "Ravi Murugesan",
      "photoUrl": "https://lh3.googleusercontent.com/a-/AOh14GgR5kz_QIiM_9oXAwbI5bYNzMTq84sM_gnID0t2gg=s64",
      "userId": "10332875964598669976"
     },
     "user_tz": -480
    },
    "id": "PJ6XYsVBMZZu",
    "outputId": "47c34b54-ecd5-44f6-d382-d6d513e2af46",
    "scrolled": true
   },
   "outputs": [
    {
     "data": {
      "text/plain": [
       "-1"
      ]
     },
     "execution_count": 37,
     "metadata": {},
     "output_type": "execute_result"
    }
   ],
   "source": [
    "# .find()\n",
    "hw = 'Hello, World!'\n",
    "hw.find('hello') # returns -1 if unable to find specified substring"
   ]
  },
  {
   "cell_type": "code",
   "execution_count": 40,
   "metadata": {
    "id": "BneEIpQcMZZw",
    "outputId": "27011e05-64e0-49a5-aa97-b44b7f112fe8"
   },
   "outputs": [
    {
     "name": "stdout",
     "output_type": "stream",
     "text": [
      "25\n"
     ]
    }
   ],
   "source": [
    "# .index() - A specified substring is passed inside ()\n",
    "alphabet = 'abcdefghijklmnopqrstuvwxyz'\n",
    "z_index = alphabet.index('z')\n",
    "print(z_index)"
   ]
  },
  {
   "cell_type": "code",
   "execution_count": 43,
   "metadata": {
    "colab": {
     "base_uri": "https://localhost:8080/",
     "height": 34
    },
    "executionInfo": {
     "elapsed": 1183,
     "status": "ok",
     "timestamp": 1602675599115,
     "user": {
      "displayName": "Ravi Murugesan",
      "photoUrl": "https://lh3.googleusercontent.com/a-/AOh14GgR5kz_QIiM_9oXAwbI5bYNzMTq84sM_gnID0t2gg=s64",
      "userId": "10332875964598669976"
     },
     "user_tz": -480
    },
    "id": "1qJWndXXMZZx",
    "outputId": "db149353-5c1c-497a-e710-f31b4c07b8e6"
   },
   "outputs": [
    {
     "data": {
      "text/plain": [
       "1"
      ]
     },
     "execution_count": 43,
     "metadata": {},
     "output_type": "execute_result"
    }
   ],
   "source": [
    "# .index()\n",
    "m = 'AaBc'\n",
    "m.index('aB') # returns only the index from the first substring value, in this example its 'a'"
   ]
  },
  {
   "cell_type": "code",
   "execution_count": 36,
   "metadata": {
    "id": "F5slwS-qMZZz",
    "outputId": "30a05341-0052-411a-84ef-d0a6736ed5b7"
   },
   "outputs": [
    {
     "data": {
      "text/plain": [
       "'AaBc'"
      ]
     },
     "execution_count": 36,
     "metadata": {},
     "output_type": "execute_result"
    }
   ],
   "source": [
    "m"
   ]
  },
  {
   "cell_type": "code",
   "execution_count": 44,
   "metadata": {
    "colab": {
     "base_uri": "https://localhost:8080/",
     "height": 51
    },
    "executionInfo": {
     "elapsed": 753,
     "status": "ok",
     "timestamp": 1597221375038,
     "user": {
      "displayName": "Ravi Murugesan",
      "photoUrl": "https://lh3.googleusercontent.com/a-/AOh14GgR5kz_QIiM_9oXAwbI5bYNzMTq84sM_gnID0t2gg=s64",
      "userId": "10332875964598669976"
     },
     "user_tz": -480
    },
    "id": "adZyIgc8oDFk",
    "outputId": "991267f3-a54a-4b5f-8583-88f4d8cdc561"
   },
   "outputs": [
    {
     "name": "stdout",
     "output_type": "stream",
     "text": [
      "['Hello', 'world', '!']\n",
      "Hello world !\n"
     ]
    }
   ],
   "source": [
    "string1 = 'Hello world !'\n",
    "lst1 = string1.split()\n",
    "lst1\n",
    "\n",
    "print(lst1)\n",
    "print(\" \".join(lst1))"
   ]
  },
  {
   "cell_type": "code",
   "execution_count": 38,
   "metadata": {
    "colab": {
     "base_uri": "https://localhost:8080/",
     "height": 34
    },
    "executionInfo": {
     "elapsed": 978,
     "status": "ok",
     "timestamp": 1597221412464,
     "user": {
      "displayName": "Ravi Murugesan",
      "photoUrl": "https://lh3.googleusercontent.com/a-/AOh14GgR5kz_QIiM_9oXAwbI5bYNzMTq84sM_gnID0t2gg=s64",
      "userId": "10332875964598669976"
     },
     "user_tz": -480
    },
    "id": "SYR_FhDt0GfJ",
    "outputId": "2522d580-7714-4b80-f8a6-ef478691c91e"
   },
   "outputs": [
    {
     "data": {
      "text/plain": [
       "['Hello', 'world', '!']"
      ]
     },
     "execution_count": 38,
     "metadata": {},
     "output_type": "execute_result"
    }
   ],
   "source": [
    "string1.split()"
   ]
  },
  {
   "cell_type": "code",
   "execution_count": 45,
   "metadata": {
    "colab": {
     "base_uri": "https://localhost:8080/",
     "height": 34
    },
    "executionInfo": {
     "elapsed": 1125,
     "status": "ok",
     "timestamp": 1602675646948,
     "user": {
      "displayName": "Ravi Murugesan",
      "photoUrl": "https://lh3.googleusercontent.com/a-/AOh14GgR5kz_QIiM_9oXAwbI5bYNzMTq84sM_gnID0t2gg=s64",
      "userId": "10332875964598669976"
     },
     "user_tz": -480
    },
    "id": "BuFmEp0cMZZ1",
    "outputId": "cde27dc0-78ec-4636-b380-ed16fd9beca2"
   },
   "outputs": [
    {
     "name": "stdout",
     "output_type": "stream",
     "text": [
      "A--a--B--c\n"
     ]
    }
   ],
   "source": [
    "# .join() - An iterable is passed inside (), iterable examples are String, List, Dictionary, and Tuple\n",
    "m = 'AaBc'\n",
    "_sep = '--'.join(m)\n",
    "print(_sep)"
   ]
  },
  {
   "cell_type": "code",
   "execution_count": 41,
   "metadata": {
    "colab": {
     "base_uri": "https://localhost:8080/",
     "height": 37
    },
    "executionInfo": {
     "elapsed": 1125,
     "status": "ok",
     "timestamp": 1602675729373,
     "user": {
      "displayName": "Ravi Murugesan",
      "photoUrl": "https://lh3.googleusercontent.com/a-/AOh14GgR5kz_QIiM_9oXAwbI5bYNzMTq84sM_gnID0t2gg=s64",
      "userId": "10332875964598669976"
     },
     "user_tz": -480
    },
    "id": "b7RLWD2o6tIA",
    "outputId": "4ebf32f1-6da2-4c96-ac05-7bbd4caa9492"
   },
   "outputs": [
    {
     "data": {
      "text/plain": [
       "'AaBc'"
      ]
     },
     "execution_count": 41,
     "metadata": {},
     "output_type": "execute_result"
    }
   ],
   "source": [
    "m"
   ]
  },
  {
   "cell_type": "code",
   "execution_count": 46,
   "metadata": {
    "colab": {
     "base_uri": "https://localhost:8080/",
     "height": 51
    },
    "executionInfo": {
     "elapsed": 982,
     "status": "ok",
     "timestamp": 1602675799843,
     "user": {
      "displayName": "Ravi Murugesan",
      "photoUrl": "https://lh3.googleusercontent.com/a-/AOh14GgR5kz_QIiM_9oXAwbI5bYNzMTq84sM_gnID0t2gg=s64",
      "userId": "10332875964598669976"
     },
     "user_tz": -480
    },
    "id": "hwRe1RiwMZZ3",
    "outputId": "28eb59ff-d8c0-41aa-c2a7-f5c6732c1f87"
   },
   "outputs": [
    {
     "name": "stdout",
     "output_type": "stream",
     "text": [
      "HAaBceAaBclAaBclAaBcoAaBc,AaBc AaBcWAaBcoAaBcrAaBclAaBcdAaBc!\n",
      "AaBc\n",
      "Hello, World!\n"
     ]
    }
   ],
   "source": [
    "# .join()\n",
    "print(m.join(hw))\n",
    "print(m)\n",
    "print(hw)"
   ]
  },
  {
   "cell_type": "code",
   "execution_count": 47,
   "metadata": {
    "colab": {
     "base_uri": "https://localhost:8080/",
     "height": 34
    },
    "executionInfo": {
     "elapsed": 703,
     "status": "ok",
     "timestamp": 1597221498702,
     "user": {
      "displayName": "Ravi Murugesan",
      "photoUrl": "https://lh3.googleusercontent.com/a-/AOh14GgR5kz_QIiM_9oXAwbI5bYNzMTq84sM_gnID0t2gg=s64",
      "userId": "10332875964598669976"
     },
     "user_tz": -480
    },
    "id": "35n6jQKLMZZ5",
    "outputId": "3779a8c3-f52f-4e0b-a62a-e9079a1c9297"
   },
   "outputs": [
    {
     "name": "stdout",
     "output_type": "stream",
     "text": [
      "a notebook about python!\n"
     ]
    }
   ],
   "source": [
    "# .lower() - No substring is passed inside ()\n",
    "yell_str = \"A NOTEBOOK ABOUT PYTHON!\"\n",
    "quiet_yell = yell_str.lower()\n",
    "print(quiet_yell)"
   ]
  },
  {
   "cell_type": "code",
   "execution_count": 44,
   "metadata": {
    "id": "5TQNxAZFMZZ7",
    "outputId": "731c0098-5484-45d8-8bd1-83628a4557de"
   },
   "outputs": [
    {
     "name": "stdout",
     "output_type": "stream",
     "text": [
      "From SwApCaSe to not swapcase\n"
     ]
    }
   ],
   "source": [
    "# .lower()\n",
    "print(\"From {} to not {}\".format(swapcase, swapcase.lower()))"
   ]
  },
  {
   "cell_type": "code",
   "execution_count": 48,
   "metadata": {
    "id": "vyDoD7wNMZZ8",
    "outputId": "c047d881-69ab-4a20-efc9-a31fca0f2dd5"
   },
   "outputs": [
    {
     "data": {
      "text/plain": [
       "'FROM LOWERCASE TO UPPERCASE'"
      ]
     },
     "execution_count": 48,
     "metadata": {},
     "output_type": "execute_result"
    }
   ],
   "source": [
    "# .upper()\n",
    "'from lowercase to uppercase'.upper()"
   ]
  },
  {
   "cell_type": "code",
   "execution_count": 49,
   "metadata": {
    "id": "7F7xJjHoMZZ_",
    "outputId": "f705c535-4531-4d4e-ab78-7e1420c15bc6"
   },
   "outputs": [
    {
     "data": {
      "text/plain": [
       "'FROM SWAPCASE TO UPPERCASE'"
      ]
     },
     "execution_count": 49,
     "metadata": {},
     "output_type": "execute_result"
    }
   ],
   "source": [
    "# .upper()\n",
    "'from SwApCaSe to UPPERcase'.upper()"
   ]
  },
  {
   "cell_type": "code",
   "execution_count": 50,
   "metadata": {
    "colab": {
     "base_uri": "https://localhost:8080/",
     "height": 34
    },
    "executionInfo": {
     "elapsed": 686,
     "status": "ok",
     "timestamp": 1597221564357,
     "user": {
      "displayName": "Ravi Murugesan",
      "photoUrl": "https://lh3.googleusercontent.com/a-/AOh14GgR5kz_QIiM_9oXAwbI5bYNzMTq84sM_gnID0t2gg=s64",
      "userId": "10332875964598669976"
     },
     "user_tz": -480
    },
    "id": "xRsRYzQhMZaB",
    "outputId": "d885ffe3-e96f-4696-9bd8-98fc0d1ec31d"
   },
   "outputs": [
    {
     "name": "stdout",
     "output_type": "stream",
     "text": [
      "The Dog in the Hat by Dr. Seuss\n"
     ]
    }
   ],
   "source": [
    "# .replace() - A specified old substring and new substring is passed inside ()\n",
    "dr_seuss = \"The Cat in the Hat by Dr. Seuss\"\n",
    "cat2dog = dr_seuss.replace(\"Cat\", \"Dog\")\n",
    "print(cat2dog)"
   ]
  },
  {
   "cell_type": "code",
   "execution_count": 51,
   "metadata": {
    "id": "lZ4fooZOMZaD",
    "outputId": "74a647b6-3f73-4d7a-9a0c-eff2ca99c9f5"
   },
   "outputs": [
    {
     "name": "stdout",
     "output_type": "stream",
     "text": [
      "How much WOULD would a WOULDchuck chuck if a WOULDchuck could chuck WOULD?\n"
     ]
    }
   ],
   "source": [
    "# .replace()\n",
    "tongue_twister = \"How much wood would a woodchuck chuck if a woodchuck could chuck wood?\"\n",
    "wood2would = tongue_twister.replace(\"wood\", \"WOULD\") # default is to replace all occurence of substring\n",
    "print(wood2would)"
   ]
  },
  {
   "cell_type": "code",
   "execution_count": 52,
   "metadata": {
    "id": "IBLmKGpzMZaH",
    "outputId": "5ab8977a-16c9-4a3c-8059-82db8fa66622"
   },
   "outputs": [
    {
     "data": {
      "text/plain": [
       "'How much WOULD would a WOULDchuck chuck if a woodchuck could chuck wood?'"
      ]
     },
     "execution_count": 52,
     "metadata": {},
     "output_type": "execute_result"
    }
   ],
   "source": [
    "# .replace()\n",
    "tongue_twister.replace(\"wood\", \"WOULD\", 2) # optional count value given are replaced"
   ]
  },
  {
   "cell_type": "code",
   "execution_count": 53,
   "metadata": {
    "id": "JabhAC0cMZaJ",
    "outputId": "f31d21bb-4063-4d14-ed96-7fa3c68263b4"
   },
   "outputs": [
    {
     "name": "stdout",
     "output_type": "stream",
     "text": [
      "['The', 'Cat', 'in', 'the', 'Hat', 'by', 'Dr.', 'Seuss']\n"
     ]
    }
   ],
   "source": [
    "# .split() - A specified string delimiter can be passed inside (), by default will split on whitespace\n",
    "dr_seuss_list = dr_seuss.split()\n",
    "print(dr_seuss_list)"
   ]
  },
  {
   "cell_type": "code",
   "execution_count": 54,
   "metadata": {
    "id": "gQKfMrLcMZaL",
    "outputId": "385aa228-6fce-4517-a0e3-b968870b2ab8"
   },
   "outputs": [
    {
     "data": {
      "text/plain": [
       "['h',\n",
       " 'e',\n",
       " 'l',\n",
       " 'l',\n",
       " 'o',\n",
       " 'n',\n",
       " 'i',\n",
       " 'c',\n",
       " 'e',\n",
       " 't',\n",
       " 'o',\n",
       " 'm',\n",
       " 'e',\n",
       " 'e',\n",
       " 't',\n",
       " 'y',\n",
       " 'o',\n",
       " 'u']"
      ]
     },
     "execution_count": 54,
     "metadata": {},
     "output_type": "execute_result"
    }
   ],
   "source": [
    "b=\"hellonicetomeetyou\"\n",
    "c = list(b) \n",
    "c"
   ]
  },
  {
   "cell_type": "code",
   "execution_count": 55,
   "metadata": {
    "id": "QJ_R4QLEMZaN",
    "outputId": "c115e878-5963-48a4-be92-d1ba209b56bc"
   },
   "outputs": [
    {
     "data": {
      "text/plain": [
       "['The Cat in the ', ' by Dr. Seuss']"
      ]
     },
     "execution_count": 55,
     "metadata": {},
     "output_type": "execute_result"
    }
   ],
   "source": [
    "# .split()\n",
    "dr_seuss.split('Hat')"
   ]
  },
  {
   "cell_type": "code",
   "execution_count": 56,
   "metadata": {
    "id": "42AH-2CnMZaQ",
    "outputId": "3cbfee1e-9e8b-4abd-ba33-8f0b704a431c"
   },
   "outputs": [
    {
     "name": "stdout",
     "output_type": "stream",
     "text": [
      "['', 'bcde', 'bcde', 'cbd', 'bcde']\n"
     ]
    }
   ],
   "source": [
    "abcde = \"abcdeabcdeacbdabcde\"\n",
    "no_a = abcde.split(\"a\")\n",
    "print(no_a)"
   ]
  },
  {
   "cell_type": "code",
   "execution_count": 57,
   "metadata": {
    "id": "UyR-Ogh8MZaT",
    "outputId": "963f46b5-80b1-4675-a347-6ff497fa9e62"
   },
   "outputs": [
    {
     "data": {
      "text/plain": [
       "'A string with spaces at either end'"
      ]
     },
     "execution_count": 57,
     "metadata": {},
     "output_type": "execute_result"
    }
   ],
   "source": [
    "# .strip() \n",
    "s = \"      A string with spaces at either end      \"\n",
    "s.strip() #removes whitespaces from start and end"
   ]
  },
  {
   "cell_type": "code",
   "execution_count": 58,
   "metadata": {
    "id": "jCX2YDI1MZaV",
    "outputId": "c70356c3-a015-433b-8a3d-59c0dcac9c9d"
   },
   "outputs": [
    {
     "name": "stdout",
     "output_type": "stream",
     "text": [
      "hashtag #python #hongkong #852 #code\n"
     ]
    }
   ],
   "source": [
    "# .strip() - An optional character can be passed inside (), if given will strip on that character in front and end of string\n",
    "twitter = \"###hashtag #python #hongkong #852 #code###\"\n",
    "hashtag_strip = twitter.strip(\"#\")\n",
    "print(hashtag_strip)"
   ]
  },
  {
   "cell_type": "markdown",
   "metadata": {
    "id": "RRKNnbS2MZad"
   },
   "source": [
    "#### Chaining String Methods\n",
    "\n",
    "Method chaining is by adding a second method after the first method on an object for example `object.method1().method2()`. "
   ]
  },
  {
   "cell_type": "code",
   "execution_count": 59,
   "metadata": {
    "colab": {
     "base_uri": "https://localhost:8080/",
     "height": 37
    },
    "executionInfo": {
     "elapsed": 1165,
     "status": "ok",
     "timestamp": 1602675893480,
     "user": {
      "displayName": "Ravi Murugesan",
      "photoUrl": "https://lh3.googleusercontent.com/a-/AOh14GgR5kz_QIiM_9oXAwbI5bYNzMTq84sM_gnID0t2gg=s64",
      "userId": "10332875964598669976"
     },
     "user_tz": -480
    },
    "id": "9ZhscVNVMZae",
    "outputId": "7309a749-51ad-4514-9473-a5c1f199a60d"
   },
   "outputs": [
    {
     "data": {
      "text/plain": [
       "'The Cat in the Hat by Dr. Seuss'"
      ]
     },
     "execution_count": 59,
     "metadata": {},
     "output_type": "execute_result"
    }
   ],
   "source": [
    "dr_seuss = \"The Cat in the Hat by Dr. Seuss\"\n",
    "dr_seuss"
   ]
  },
  {
   "cell_type": "code",
   "execution_count": 60,
   "metadata": {
    "colab": {
     "base_uri": "https://localhost:8080/",
     "height": 34
    },
    "executionInfo": {
     "elapsed": 1002,
     "status": "ok",
     "timestamp": 1602675901980,
     "user": {
      "displayName": "Ravi Murugesan",
      "photoUrl": "https://lh3.googleusercontent.com/a-/AOh14GgR5kz_QIiM_9oXAwbI5bYNzMTq84sM_gnID0t2gg=s64",
      "userId": "10332875964598669976"
     },
     "user_tz": -480
    },
    "id": "KaCAR9CWMZah",
    "outputId": "c419fcfd-74f6-4196-ccfe-679efe6c5dc8"
   },
   "outputs": [
    {
     "data": {
      "text/plain": [
       "['th', ' cat in th', ' hat by dr. s', 'uss']"
      ]
     },
     "execution_count": 60,
     "metadata": {},
     "output_type": "execute_result"
    }
   ],
   "source": [
    "# .lower().split()\n",
    "dr_seuss.lower().split('e')"
   ]
  },
  {
   "cell_type": "code",
   "execution_count": 61,
   "metadata": {
    "colab": {
     "base_uri": "https://localhost:8080/",
     "height": 34
    },
    "executionInfo": {
     "elapsed": 1303,
     "status": "ok",
     "timestamp": 1602676080874,
     "user": {
      "displayName": "Ravi Murugesan",
      "photoUrl": "https://lh3.googleusercontent.com/a-/AOh14GgR5kz_QIiM_9oXAwbI5bYNzMTq84sM_gnID0t2gg=s64",
      "userId": "10332875964598669976"
     },
     "user_tz": -480
    },
    "id": "u8zRIoJ77dyF",
    "outputId": "12152cd9-b66a-47f3-dc71-c21e26fb4eeb"
   },
   "outputs": [
    {
     "data": {
      "text/plain": [
       "('name', 'surname')"
      ]
     },
     "execution_count": 61,
     "metadata": {},
     "output_type": "execute_result"
    }
   ],
   "source": [
    "a = 'name.surname@domain.com'\n",
    "\n",
    "name1 = a.split('.')[0]\n",
    "surname1 = a.split('.')[1].split('@')[0]\n",
    "name1,surname1"
   ]
  },
  {
   "cell_type": "code",
   "execution_count": 62,
   "metadata": {
    "colab": {
     "base_uri": "https://localhost:8080/",
     "height": 164
    },
    "executionInfo": {
     "elapsed": 960,
     "status": "error",
     "timestamp": 1602676261570,
     "user": {
      "displayName": "Ravi Murugesan",
      "photoUrl": "https://lh3.googleusercontent.com/a-/AOh14GgR5kz_QIiM_9oXAwbI5bYNzMTq84sM_gnID0t2gg=s64",
      "userId": "10332875964598669976"
     },
     "user_tz": -480
    },
    "id": "-gZELQ5C8mJO",
    "outputId": "eb63baf2-7ab1-435f-c7e4-c3afffbf315a"
   },
   "outputs": [
    {
     "ename": "AttributeError",
     "evalue": "'list' object has no attribute 'split'",
     "output_type": "error",
     "traceback": [
      "\u001b[0;31m---------------------------------------------------------------------------\u001b[0m",
      "\u001b[0;31mAttributeError\u001b[0m                            Traceback (most recent call last)",
      "Input \u001b[0;32mIn [62]\u001b[0m, in \u001b[0;36m<cell line: 1>\u001b[0;34m()\u001b[0m\n\u001b[0;32m----> 1\u001b[0m \u001b[43ma\u001b[49m\u001b[38;5;241;43m.\u001b[39;49m\u001b[43msplit\u001b[49m\u001b[43m(\u001b[49m\u001b[38;5;124;43m'\u001b[39;49m\u001b[38;5;124;43m.\u001b[39;49m\u001b[38;5;124;43m'\u001b[39;49m\u001b[43m)\u001b[49m\u001b[38;5;241;43m.\u001b[39;49m\u001b[43msplit\u001b[49m(\u001b[38;5;124m'\u001b[39m\u001b[38;5;124m@\u001b[39m\u001b[38;5;124m'\u001b[39m)\n",
      "\u001b[0;31mAttributeError\u001b[0m: 'list' object has no attribute 'split'"
     ]
    }
   ],
   "source": [
    "a.split('.').split('@')"
   ]
  },
  {
   "cell_type": "code",
   "execution_count": 63,
   "metadata": {
    "colab": {
     "base_uri": "https://localhost:8080/",
     "height": 37
    },
    "executionInfo": {
     "elapsed": 970,
     "status": "ok",
     "timestamp": 1602676203432,
     "user": {
      "displayName": "Ravi Murugesan",
      "photoUrl": "https://lh3.googleusercontent.com/a-/AOh14GgR5kz_QIiM_9oXAwbI5bYNzMTq84sM_gnID0t2gg=s64",
      "userId": "10332875964598669976"
     },
     "user_tz": -480
    },
    "id": "16c3vH7a8Q4K",
    "outputId": "0a589875-37af-4d9f-dc91-9a0bf04a44cd"
   },
   "outputs": [
    {
     "data": {
      "text/plain": [
       "'surname'"
      ]
     },
     "execution_count": 63,
     "metadata": {},
     "output_type": "execute_result"
    }
   ],
   "source": [
    "a1 = a.split('.')[1] \n",
    "a2 = a1.split('@')[0]\n",
    "a2"
   ]
  },
  {
   "cell_type": "code",
   "execution_count": 66,
   "metadata": {
    "id": "DQXJvXUVoDGP",
    "outputId": "ba046e9c-8101-4830-8a02-43dbfd7725d2"
   },
   "outputs": [
    {
     "name": "stdout",
     "output_type": "stream",
     "text": [
      "the cat in the hat by dr. seuss\n",
      "['the', 'cat', 'in', 'the', 'hat', 'by', 'dr.', 'seuss']\n"
     ]
    }
   ],
   "source": [
    "step_1 = dr_seuss.lower()\n",
    "print(step_1)\n",
    "step_2 = step_1.split(\" \")\n",
    "print(step_2)"
   ]
  },
  {
   "cell_type": "code",
   "execution_count": 67,
   "metadata": {
    "colab": {
     "base_uri": "https://localhost:8080/",
     "height": 198
    },
    "executionInfo": {
     "elapsed": 1145,
     "status": "error",
     "timestamp": 1597222087253,
     "user": {
      "displayName": "Ravi Murugesan",
      "photoUrl": "https://lh3.googleusercontent.com/a-/AOh14GgR5kz_QIiM_9oXAwbI5bYNzMTq84sM_gnID0t2gg=s64",
      "userId": "10332875964598669976"
     },
     "user_tz": -480
    },
    "id": "u8Nyr7r7MZaj",
    "outputId": "42bfb1bc-4d0e-4ace-8904-ba62237785fb"
   },
   "outputs": [
    {
     "ename": "AttributeError",
     "evalue": "'list' object has no attribute 'lower'",
     "output_type": "error",
     "traceback": [
      "\u001b[0;31m---------------------------------------------------------------------------\u001b[0m",
      "\u001b[0;31mAttributeError\u001b[0m                            Traceback (most recent call last)",
      "Input \u001b[0;32mIn [67]\u001b[0m, in \u001b[0;36m<cell line: 2>\u001b[0;34m()\u001b[0m\n\u001b[1;32m      1\u001b[0m \u001b[38;5;66;03m# method order matters for chaining methods\u001b[39;00m\n\u001b[0;32m----> 2\u001b[0m \u001b[43mdr_seuss\u001b[49m\u001b[38;5;241;43m.\u001b[39;49m\u001b[43msplit\u001b[49m\u001b[43m(\u001b[49m\u001b[43m)\u001b[49m\u001b[38;5;241;43m.\u001b[39;49m\u001b[43mlower\u001b[49m()\n",
      "\u001b[0;31mAttributeError\u001b[0m: 'list' object has no attribute 'lower'"
     ]
    }
   ],
   "source": [
    "# method order matters for chaining methods\n",
    "dr_seuss.split().lower() # by calling .split() first, the object has become a list and .lower() does not work on a list, returns an error"
   ]
  },
  {
   "cell_type": "code",
   "execution_count": 68,
   "metadata": {
    "id": "FexgHOjCMZam",
    "outputId": "89b89230-394b-434f-c871-8d723197445e"
   },
   "outputs": [
    {
     "name": "stdout",
     "output_type": "stream",
     "text": [
      "The Cat in the Hat by Dr. Seuss\n"
     ]
    },
    {
     "data": {
      "text/plain": [
       "'T^h^e^ ^C^a^t^ ^i^n^ ^t^h^e^ ^H^a^t^ ^b^y^ ^D^r^.^ ^S^e^u^s^s'"
      ]
     },
     "execution_count": 68,
     "metadata": {},
     "output_type": "execute_result"
    }
   ],
   "source": [
    "# .join().count()\n",
    "print(dr_seuss)\n",
    "'^'.join(dr_seuss)\n",
    "# '^'.join(dr_seuss).count('^')"
   ]
  },
  {
   "cell_type": "code",
   "execution_count": 65,
   "metadata": {
    "id": "xtzsusoPoDGX",
    "outputId": "3e0bcdb9-a980-4a4f-fbed-7480a61083a9"
   },
   "outputs": [
    {
     "data": {
      "text/plain": [
       "'the cat in the hat by dr. seuss'"
      ]
     },
     "execution_count": 65,
     "metadata": {},
     "output_type": "execute_result"
    }
   ],
   "source": [
    "\" \".join(dr_seuss.lower().split())"
   ]
  },
  {
   "cell_type": "code",
   "execution_count": 66,
   "metadata": {
    "id": "-o56DyrGMZap",
    "outputId": "335b818f-4c71-4689-91c1-319114bdd487"
   },
   "outputs": [
    {
     "data": {
      "text/plain": [
       "['A',\n",
       " ' notebook ',\n",
       " 'bout python!',\n",
       " '',\n",
       " ' notebook ',\n",
       " 'bout python!B',\n",
       " ' notebook ',\n",
       " 'bout python!c']"
      ]
     },
     "execution_count": 66,
     "metadata": {},
     "output_type": "execute_result"
    }
   ],
   "source": [
    "# .lower().join().split()\n",
    "m = 'AaBc'\n",
    "yell_str = \"A NOTEBOOK ABOUT PYTHON!\"\n",
    "\n",
    "print(yell_str.lower().join(m))\n",
    "print(yell_str.lower().join(m).split('a'))\n",
    "\n",
    "print(yell_str.lower().join(m).split('a'))"
   ]
  },
  {
   "cell_type": "markdown",
   "metadata": {
    "id": "3oocEYFcMZav"
   },
   "source": [
    "*** Note: experiment will multiple method chains to see results ***"
   ]
  },
  {
   "cell_type": "markdown",
   "metadata": {
    "id": "yTiDFhf1MZaw"
   },
   "source": [
    "#### Exercise\n",
    "\n",
    "Given the string ```'amazing'```, replace the ```'ma'``` with ```'wes'``` and uppercase the string. Given the new string, put the string in this format:\n",
    "\n",
    "```'You are {new_string}!'```\n",
    "\n",
    "Lastly, check if the formatted string is alphabetic."
   ]
  },
  {
   "cell_type": "code",
   "execution_count": 4,
   "metadata": {
    "colab": {
     "base_uri": "https://localhost:8080/",
     "height": 51
    },
    "executionInfo": {
     "elapsed": 1522,
     "status": "ok",
     "timestamp": 1597218385232,
     "user": {
      "displayName": "Ravi Murugesan",
      "photoUrl": "https://lh3.googleusercontent.com/a-/AOh14GgR5kz_QIiM_9oXAwbI5bYNzMTq84sM_gnID0t2gg=s64",
      "userId": "10332875964598669976"
     },
     "user_tz": -480
    },
    "id": "x2QTfA35MZax",
    "outputId": "456f91b5-73e6-42ee-b532-087b29a87168"
   },
   "outputs": [
    {
     "name": "stdout",
     "output_type": "stream",
     "text": [
      "['amazing', 'is', 'you']\n",
      "You are AWESZING\n"
     ]
    }
   ],
   "source": [
    "s = 'amazing'\n",
    "l = []\n",
    "l.append(s)\n",
    "l.append('is')\n",
    "l.append('you')\n",
    "l.index('is')\n",
    "print(l)\n",
    "\n",
    "x = 'amazing'.replace('ma','wes').upper()\n",
    "\n",
    "output = 'You are {}'.format(x)\n",
    "print(output)"
   ]
  },
  {
   "cell_type": "markdown",
   "metadata": {
    "id": "ZLlJ3VeFMZa2"
   },
   "source": [
    "### List Methods\n",
    "\n",
    "Common list methods are:\n",
    "\n",
    "* `.copy()` - Returns a copy of a list.\n",
    "* `.append()` - Add a single object at end of list.\n",
    "* `.extend()` - Add an iterable object in sequence at end of list. Main iterable are strings, list, and dictionary.\n",
    "* `.insert()` - Insert an object before a given index.\n",
    "* `.remove()` - Remove first occurence object from a list.\n",
    "* `.index()` - Returns object's first occurence index in a list.\n",
    "* `.count()` - Returns object's number of occurence in a list.\n",
    "* `.sort()` - Sorts the objects in a list in ascending order.\n",
    "    "
   ]
  },
  {
   "cell_type": "code",
   "execution_count": 4,
   "metadata": {
    "executionInfo": {
     "elapsed": 1494,
     "status": "ok",
     "timestamp": 1602676534260,
     "user": {
      "displayName": "Ravi Murugesan",
      "photoUrl": "https://lh3.googleusercontent.com/a-/AOh14GgR5kz_QIiM_9oXAwbI5bYNzMTq84sM_gnID0t2gg=s64",
      "userId": "10332875964598669976"
     },
     "user_tz": -480
    },
    "id": "Wc8RjQAR9Nn1"
   },
   "outputs": [],
   "source": [
    "list1 = [6,1,2,7]\n",
    "list1.append(4)"
   ]
  },
  {
   "cell_type": "code",
   "execution_count": 5,
   "metadata": {
    "colab": {
     "base_uri": "https://localhost:8080/",
     "height": 34
    },
    "executionInfo": {
     "elapsed": 1241,
     "status": "ok",
     "timestamp": 1602676535067,
     "user": {
      "displayName": "Ravi Murugesan",
      "photoUrl": "https://lh3.googleusercontent.com/a-/AOh14GgR5kz_QIiM_9oXAwbI5bYNzMTq84sM_gnID0t2gg=s64",
      "userId": "10332875964598669976"
     },
     "user_tz": -480
    },
    "id": "VIfQErd_9f3A",
    "outputId": "c54f3997-defe-4224-851e-1094ec6535b6"
   },
   "outputs": [
    {
     "data": {
      "text/plain": [
       "[6, 1, 2, 7, 4]"
      ]
     },
     "execution_count": 5,
     "metadata": {},
     "output_type": "execute_result"
    }
   ],
   "source": [
    "list1"
   ]
  },
  {
   "cell_type": "code",
   "execution_count": 3,
   "metadata": {
    "colab": {
     "base_uri": "https://localhost:8080/",
     "height": 34
    },
    "executionInfo": {
     "elapsed": 1129,
     "status": "ok",
     "timestamp": 1602676615120,
     "user": {
      "displayName": "Ravi Murugesan",
      "photoUrl": "https://lh3.googleusercontent.com/a-/AOh14GgR5kz_QIiM_9oXAwbI5bYNzMTq84sM_gnID0t2gg=s64",
      "userId": "10332875964598669976"
     },
     "user_tz": -480
    },
    "id": "mq5KAZZ49oHq",
    "outputId": "6b3716fc-bcdb-45d2-acef-1153d5bdd900"
   },
   "outputs": [
    {
     "data": {
      "text/plain": [
       "[1, 2, 4, 6, 7]"
      ]
     },
     "execution_count": 3,
     "metadata": {},
     "output_type": "execute_result"
    }
   ],
   "source": [
    "list2 = sorted(list1)\n",
    "list2"
   ]
  },
  {
   "cell_type": "code",
   "execution_count": 6,
   "metadata": {},
   "outputs": [],
   "source": [
    "list1.sort()"
   ]
  },
  {
   "cell_type": "code",
   "execution_count": 8,
   "metadata": {},
   "outputs": [
    {
     "data": {
      "text/plain": [
       "[1, 2, 4, 6, 7]"
      ]
     },
     "execution_count": 8,
     "metadata": {},
     "output_type": "execute_result"
    }
   ],
   "source": [
    "list1"
   ]
  },
  {
   "cell_type": "code",
   "execution_count": 9,
   "metadata": {},
   "outputs": [],
   "source": [
    "list1.sort(reverse=True)"
   ]
  },
  {
   "cell_type": "code",
   "execution_count": 10,
   "metadata": {},
   "outputs": [
    {
     "data": {
      "text/plain": [
       "[7, 6, 4, 2, 1]"
      ]
     },
     "execution_count": 10,
     "metadata": {},
     "output_type": "execute_result"
    }
   ],
   "source": [
    "list1"
   ]
  },
  {
   "cell_type": "code",
   "execution_count": 11,
   "metadata": {
    "id": "Ft85ArH6MZa3",
    "outputId": "5cc286c5-57a9-4497-9c87-a781f5eb4c08"
   },
   "outputs": [
    {
     "name": "stdout",
     "output_type": "stream",
     "text": [
      "['a', 'b', 'c']\n",
      "['a', 'b', 'c']\n"
     ]
    }
   ],
   "source": [
    "# .copy()\n",
    "dr_seuss_list = ['a', 'b', 'c']\n",
    "print(dr_seuss_list)\n",
    "drseuss_copy = dr_seuss_list.copy()\n",
    "print(drseuss_copy)"
   ]
  },
  {
   "cell_type": "code",
   "execution_count": 13,
   "metadata": {
    "id": "0VK8Npo-MZa7",
    "outputId": "d30aa4b7-f7a7-4898-b0d0-9c52b5f1de6f"
   },
   "outputs": [
    {
     "data": {
      "text/plain": [
       "[1, 2, 3, 4, 5]"
      ]
     },
     "execution_count": 13,
     "metadata": {},
     "output_type": "execute_result"
    }
   ],
   "source": [
    "a = [1,2,3,4,5]\n",
    "b = a.copy()\n",
    "b"
   ]
  },
  {
   "cell_type": "code",
   "execution_count": 21,
   "metadata": {
    "id": "eGVXjWPVoDGg",
    "outputId": "6b82a9b9-fe5c-4d98-be4b-18d4c6d049d9"
   },
   "outputs": [
    {
     "name": "stdout",
     "output_type": "stream",
     "text": [
      "[3, 6, 4, 5, 6, 7]\n"
     ]
    }
   ],
   "source": [
    "a.append(6)\n",
    "a.append(7)\n",
    "print(a)"
   ]
  },
  {
   "cell_type": "code",
   "execution_count": 15,
   "metadata": {
    "id": "Np-cttbFoDGi",
    "outputId": "89bba2f8-dc71-4ae0-f98f-7b922a1d54da"
   },
   "outputs": [
    {
     "data": {
      "text/plain": [
       "[1, 2, 3, 4, 5]"
      ]
     },
     "execution_count": 15,
     "metadata": {},
     "output_type": "execute_result"
    }
   ],
   "source": [
    "b"
   ]
  },
  {
   "cell_type": "code",
   "execution_count": 16,
   "metadata": {
    "id": "yikeHNoBMZa_"
   },
   "outputs": [],
   "source": [
    "a = [1,2,3,4,5,6,7]\n",
    "b=a"
   ]
  },
  {
   "cell_type": "code",
   "execution_count": 17,
   "metadata": {
    "id": "jDZcm5DeMZbC",
    "outputId": "18824b41-bd4e-4bb7-b8b0-d5fa302ab520"
   },
   "outputs": [
    {
     "name": "stdout",
     "output_type": "stream",
     "text": [
      "[1, 2, 3, 4, 5, 6, 7]\n",
      "[1, 2, 3, 4, 5, 6, 7]\n"
     ]
    }
   ],
   "source": [
    "print(a)\n",
    "print(b)"
   ]
  },
  {
   "cell_type": "code",
   "execution_count": 18,
   "metadata": {
    "id": "E4mb1EWoMZbF",
    "outputId": "7638e295-513f-484a-dc15-04e64de9c036"
   },
   "outputs": [
    {
     "name": "stdout",
     "output_type": "stream",
     "text": [
      "[1, 2, 3, 4, 5, 6, 7, 0]\n",
      "[1, 2, 3, 4, 5, 6, 7, 0]\n"
     ]
    }
   ],
   "source": [
    "a.append(0)\n",
    "print(a)\n",
    "print(b)"
   ]
  },
  {
   "cell_type": "code",
   "execution_count": 20,
   "metadata": {
    "colab": {
     "base_uri": "https://localhost:8080/",
     "height": 51
    },
    "executionInfo": {
     "elapsed": 783,
     "status": "ok",
     "timestamp": 1597222443019,
     "user": {
      "displayName": "Ravi Murugesan",
      "photoUrl": "https://lh3.googleusercontent.com/a-/AOh14GgR5kz_QIiM_9oXAwbI5bYNzMTq84sM_gnID0t2gg=s64",
      "userId": "10332875964598669976"
     },
     "user_tz": -480
    },
    "id": "dhB7-NsaoDGt",
    "outputId": "92449b05-dbdd-4f7f-bebc-128d09779947"
   },
   "outputs": [
    {
     "name": "stdout",
     "output_type": "stream",
     "text": [
      "[3, 6, 4, 5]\n"
     ]
    }
   ],
   "source": [
    "a = [3,4,5]\n",
    "a.insert(1,6)\n",
    "print(a)"
   ]
  },
  {
   "cell_type": "code",
   "execution_count": 90,
   "metadata": {
    "colab": {
     "base_uri": "https://localhost:8080/",
     "height": 34
    },
    "executionInfo": {
     "elapsed": 707,
     "status": "ok",
     "timestamp": 1597222447003,
     "user": {
      "displayName": "Ravi Murugesan",
      "photoUrl": "https://lh3.googleusercontent.com/a-/AOh14GgR5kz_QIiM_9oXAwbI5bYNzMTq84sM_gnID0t2gg=s64",
      "userId": "10332875964598669976"
     },
     "user_tz": -480
    },
    "id": "AKgNEUoGoDGu",
    "outputId": "f4591a7e-5ccf-4fcf-a386-bbf171db8f8d"
   },
   "outputs": [
    {
     "data": {
      "text/plain": [
       "[3, 6, 4, 5]"
      ]
     },
     "execution_count": 90,
     "metadata": {},
     "output_type": "execute_result"
    }
   ],
   "source": [
    "a"
   ]
  },
  {
   "cell_type": "markdown",
   "metadata": {
    "id": "N4BOSOuwMZbK"
   },
   "source": [
    "*** Assigning a list to variable and then performing methods on variable will affect original list *** "
   ]
  },
  {
   "cell_type": "code",
   "execution_count": 22,
   "metadata": {
    "id": "laepFI_FMZbL",
    "outputId": "7ceb59b5-2684-47c1-ea4f-a5ebddf3c91d"
   },
   "outputs": [
    {
     "name": "stdout",
     "output_type": "stream",
     "text": [
      "original_list contents:  ['a', 's', 1, 2, 'd', 3, '3.14']\n",
      "copy_list contents:  ['a', 's', 1, 2, 'd', 3, '3.14']\n"
     ]
    }
   ],
   "source": [
    "# .copy()\n",
    "original_list = ['a', 's', 1, 2, 'd', 3]\n",
    "copy_list = original_list\n",
    "copy_list.append('3.14')\n",
    "print(\"original_list contents: \", original_list)\n",
    "print(\"copy_list contents: \", copy_list)"
   ]
  },
  {
   "cell_type": "code",
   "execution_count": 82,
   "metadata": {
    "id": "EMjCWZ3ZMZbN",
    "outputId": "908271c0-eb8d-456a-a456-2d52da18aaab"
   },
   "outputs": [
    {
     "name": "stdout",
     "output_type": "stream",
     "text": [
      "original_list contents:  ['a', 's', 1, 2, 'd', 3]\n",
      "copy_list contents:  ['a', 's', 1, 2, 'd', 3, '3.14']\n"
     ]
    }
   ],
   "source": [
    "# .copy() - to solve this issue call list with .copy() method\n",
    "original_list = ['a', 's', 1, 2, 'd', 3]\n",
    "copy_list = original_list.copy()\n",
    "copy_list.append('3.14')\n",
    "print(\"original_list contents: \", original_list)\n",
    "print(\"copy_list contents: \", copy_list)"
   ]
  },
  {
   "cell_type": "code",
   "execution_count": 91,
   "metadata": {
    "colab": {
     "base_uri": "https://localhost:8080/",
     "height": 34
    },
    "executionInfo": {
     "elapsed": 685,
     "status": "ok",
     "timestamp": 1597222960645,
     "user": {
      "displayName": "Ravi Murugesan",
      "photoUrl": "https://lh3.googleusercontent.com/a-/AOh14GgR5kz_QIiM_9oXAwbI5bYNzMTq84sM_gnID0t2gg=s64",
      "userId": "10332875964598669976"
     },
     "user_tz": -480
    },
    "id": "nlOh7Fd9MZbQ",
    "outputId": "03727c32-18a2-419d-b433-de47e0236b5f"
   },
   "outputs": [
    {
     "name": "stdout",
     "output_type": "stream",
     "text": [
      "[0, 1, 2, 3, 4, ['The', 'Cat', 'in', 'the', 'Hat', 'by', 'Dr.', 'Seuss']]\n"
     ]
    }
   ],
   "source": [
    "# .append() - appending a list to a list will create a nested list\n",
    "dr_seuss_list =  dr_seuss.split()\n",
    "num_list = list(range(5))\n",
    "num_list.append(dr_seuss_list)\n",
    "print(num_list)"
   ]
  },
  {
   "cell_type": "code",
   "execution_count": 92,
   "metadata": {
    "colab": {
     "base_uri": "https://localhost:8080/",
     "height": 34
    },
    "executionInfo": {
     "elapsed": 1048,
     "status": "ok",
     "timestamp": 1597222972561,
     "user": {
      "displayName": "Ravi Murugesan",
      "photoUrl": "https://lh3.googleusercontent.com/a-/AOh14GgR5kz_QIiM_9oXAwbI5bYNzMTq84sM_gnID0t2gg=s64",
      "userId": "10332875964598669976"
     },
     "user_tz": -480
    },
    "id": "-iRtg24n5AxI",
    "outputId": "90592bab-d097-41f7-9a19-a0c21e27a91d"
   },
   "outputs": [
    {
     "data": {
      "text/plain": [
       "['The', 'Cat', 'in', 'the', 'Hat', 'by', 'Dr.', 'Seuss']"
      ]
     },
     "execution_count": 92,
     "metadata": {},
     "output_type": "execute_result"
    }
   ],
   "source": [
    "num_list[-1]"
   ]
  },
  {
   "cell_type": "code",
   "execution_count": 85,
   "metadata": {
    "id": "U4Fiz6nkMZbU",
    "outputId": "2adb06d1-3667-404c-9c54-e8f6bc335ac9"
   },
   "outputs": [
    {
     "name": "stdout",
     "output_type": "stream",
     "text": [
      "[0, 1, 2, 3, 4, ['The', 'Cat', 'in', 'the', 'Hat', 'by', 'Dr.', 'Seuss'], {'code': 'python', 'os': 'unix'}]\n"
     ]
    }
   ],
   "source": [
    "# .append()\n",
    "num_list.append({'code':'python', 'os': 'unix'})\n",
    "print(num_list)"
   ]
  },
  {
   "cell_type": "code",
   "execution_count": 26,
   "metadata": {
    "id": "-mdHBzKXMZbX",
    "outputId": "d1599b5d-7c33-42cc-89fc-a370ee8bbcc2"
   },
   "outputs": [
    {
     "name": "stdout",
     "output_type": "stream",
     "text": [
      "[1, 2, 3, 4, 5, 6, 'xyz', 1.8]\n"
     ]
    }
   ],
   "source": [
    "# .append() - appending a string, integer, or float will add in sequence to end of list\n",
    "one2five = [1,2,3,4,5]\n",
    "one2five.append(6)\n",
    "one2five.append('xyz')\n",
    "one2five.append(1.8)\n",
    "print(one2five)"
   ]
  },
  {
   "cell_type": "markdown",
   "metadata": {
    "id": "cYhQmK2rMZbZ"
   },
   "source": [
    "*** Some List methods return Nonetype when method operation is assigned to variable because these methods don't return an updated object only modify ***"
   ]
  },
  {
   "cell_type": "code",
   "execution_count": 27,
   "metadata": {
    "id": "xCQJuqwYMZba",
    "outputId": "93630f7a-217c-4125-94d2-69ab45f21044"
   },
   "outputs": [
    {
     "name": "stdout",
     "output_type": "stream",
     "text": [
      "The list contents:  None\n",
      "The list contents:  ['abc', 'def', 'ghi', 1]\n",
      "The list contents:  ['abc', 'def', 'ghi', 1]\n"
     ]
    }
   ],
   "source": [
    "# .append() - Returning a NoneType\n",
    "string_list = ['abc', 'def', 'ghi']\n",
    "mixed_list = string_list.append(1) # returns a None type if you assigned the called method to a variable\n",
    "print(\"The list contents: \", mixed_list)\n",
    "\n",
    "print(\"The list contents: \", string_list) # however the operation has occurred in-place\n",
    "\n",
    "\n",
    "new_list = string_list # after method has been called, then can assign to variable\n",
    "print(\"The list contents: \", new_list)"
   ]
  },
  {
   "cell_type": "code",
   "execution_count": 29,
   "metadata": {
    "id": "XIpttVkMMZbd",
    "outputId": "0963020f-2459-4054-be7a-f8c374e5fd9f"
   },
   "outputs": [
    {
     "name": "stdout",
     "output_type": "stream",
     "text": [
      "no_a contents:  ['ccc', 'ddd', 'eee']\n"
     ]
    },
    {
     "data": {
      "text/plain": [
       "['abc', 'def', 'ghi', 'ccc', 'ddd', 'eee']"
      ]
     },
     "execution_count": 29,
     "metadata": {},
     "output_type": "execute_result"
    }
   ],
   "source": [
    "# .extend() \n",
    "str_list = ['abc', 'def', 'ghi']\n",
    "no_a = ['ccc', 'ddd', 'eee']\n",
    "print(\"no_a contents: \", no_a)\n",
    "str_list.extend(no_a)\n",
    "str_list"
   ]
  },
  {
   "cell_type": "code",
   "execution_count": 30,
   "metadata": {
    "id": "G6xZaCxiMZbg",
    "outputId": "d8e43b80-7647-41f2-fbc0-6a92d92419eb"
   },
   "outputs": [
    {
     "name": "stdout",
     "output_type": "stream",
     "text": [
      "[[1, 2], ['a', 'b'], 'python', 3.7, {'mobile': 'iphone', 'food': 'dimsum'}, 852, 'h', 'o', 'n', 'g', ' ', 'k', 'o', 'n', 'g']\n"
     ]
    }
   ],
   "source": [
    "# .extend() - extending with a string\n",
    "mixed_list = [[1,2],['a', 'b'], 'python', 3.7 ,{'mobile': 'iphone', 'food':'dimsum'}, 852]\n",
    "mixed_copy = mixed_list.copy()\n",
    "mixed_list.extend('hong kong') # extend will iterate each character in string and add to list\n",
    "print(mixed_list)"
   ]
  },
  {
   "cell_type": "code",
   "execution_count": 31,
   "metadata": {
    "id": "X25SFwTjMZbn",
    "outputId": "d253a62d-6e3d-446a-810b-0409f6f4b781"
   },
   "outputs": [
    {
     "name": "stdout",
     "output_type": "stream",
     "text": [
      "[1, 'cat', 3]\n",
      "[1, 'cat', 3, {'a': 1, 'z': 26}]\n",
      "1\n",
      "[1, 'cat', 3, {'a': 1, 'z': 26}, 1, 2]\n",
      "[1, 'cat', 3, {'a': 1, 'z': 26}, 1, 2, 4, 5]\n"
     ]
    }
   ],
   "source": [
    "# .extend() - extend with a dictionary only adds the keys to the list\n",
    "mixed_list = [1,'cat',3]\n",
    "print(mixed_list)\n",
    "mixed_list.extend([{'a':1, 'z':26}])\n",
    "print(mixed_list)\n",
    "print(mixed_list[3]['a'])\n",
    "mixed_list.extend((1,2))\n",
    "print(mixed_list)\n",
    "mixed_list.extend([4,5])\n",
    "print(mixed_list)"
   ]
  },
  {
   "cell_type": "code",
   "execution_count": 32,
   "metadata": {
    "id": "4UW7SermMZbr",
    "outputId": "735734c1-a40f-4033-8913-39761d9d0741"
   },
   "outputs": [
    {
     "name": "stdout",
     "output_type": "stream",
     "text": [
      "[[1, 2], ['a', 'b'], 'python', 3.7, {'mobile': 'iphone', 'food': 'dimsum'}, 852, 'hong kong', {'a': 0, 'z': 25}]\n"
     ]
    }
   ],
   "source": [
    "# .extend() - pass in as list \n",
    "mixed_copy.extend(['hong kong', {'a':0, 'z':25}])\n",
    "print(mixed_copy)"
   ]
  },
  {
   "cell_type": "code",
   "execution_count": 33,
   "metadata": {
    "id": "OYJiPCsbMZbt",
    "outputId": "4423ef16-1d52-4fa7-c7eb-bc13dbe22025"
   },
   "outputs": [
    {
     "name": "stdout",
     "output_type": "stream",
     "text": [
      "[0, 1, 2, 3, 4, 11, 12, 0.8, 3.14]\n"
     ]
    }
   ],
   "source": [
    "# .extend() - Cannot pass in number data type in extend only in a list form\n",
    "x = list(range(5))\n",
    "x.extend([11,12, 0.8, 3.14]) # add another list\n",
    "print(x)"
   ]
  },
  {
   "cell_type": "code",
   "execution_count": 34,
   "metadata": {
    "id": "KhW07-JqMZbw",
    "outputId": "565c58b9-47ab-4f04-838a-3a8cb48e1a83"
   },
   "outputs": [
    {
     "name": "stdout",
     "output_type": "stream",
     "text": [
      "['a', 's', 1, 2, 'd', 3, '3.14']\n",
      "['a', 's', 1, 'new value', 2, 'd', 3, '3.14']\n"
     ]
    }
   ],
   "source": [
    "# .insert() - An index and value is passed inside ()\n",
    "print(copy_list)\n",
    "copy_list.insert(3, 'new value')\n",
    "print(copy_list)"
   ]
  },
  {
   "cell_type": "code",
   "execution_count": 42,
   "metadata": {
    "id": "R8nB4qwsMZbz",
    "outputId": "80919ec2-7878-425d-fbdd-a9aa7ab30def"
   },
   "outputs": [
    {
     "name": "stdout",
     "output_type": "stream",
     "text": [
      "[0, 1, 2, 3, 4, 11, 12, 0.8, 3.14, 'a string', 'a string', 'a string', 'a string', 'a string', 'a string']\n"
     ]
    }
   ],
   "source": [
    "# .insert()\n",
    "x.insert(9, 'a string')\n",
    "print(x)"
   ]
  },
  {
   "cell_type": "code",
   "execution_count": 44,
   "metadata": {
    "id": "KHopPhn5MZb1",
    "outputId": "29a607e3-33ad-4d5e-d9c7-2bd5f74e7b32"
   },
   "outputs": [
    {
     "ename": "ValueError",
     "evalue": "list.remove(x): x not in list",
     "output_type": "error",
     "traceback": [
      "\u001b[0;31m---------------------------------------------------------------------------\u001b[0m",
      "\u001b[0;31mValueError\u001b[0m                                Traceback (most recent call last)",
      "Input \u001b[0;32mIn [44]\u001b[0m, in \u001b[0;36m<cell line: 2>\u001b[0;34m()\u001b[0m\n\u001b[1;32m      1\u001b[0m \u001b[38;5;66;03m# .remove()\u001b[39;00m\n\u001b[0;32m----> 2\u001b[0m \u001b[43mx\u001b[49m\u001b[38;5;241;43m.\u001b[39;49m\u001b[43mremove\u001b[49m\u001b[43m(\u001b[49m\u001b[38;5;241;43m11\u001b[39;49m\u001b[43m)\u001b[49m \u001b[38;5;66;03m#removes first 11 if finds from list\u001b[39;00m\n\u001b[1;32m      3\u001b[0m x\n",
      "\u001b[0;31mValueError\u001b[0m: list.remove(x): x not in list"
     ]
    }
   ],
   "source": [
    "# .remove()\n",
    "x.remove(11) #removes first 11 if finds from list\n",
    "x"
   ]
  },
  {
   "cell_type": "code",
   "execution_count": 55,
   "metadata": {
    "id": "1n5MvcaeMZb4",
    "outputId": "d948f276-95b3-4e95-ff0a-fcf230b9e85f"
   },
   "outputs": [
    {
     "data": {
      "text/plain": [
       "[2, 1, 1, 1]"
      ]
     },
     "execution_count": 55,
     "metadata": {},
     "output_type": "execute_result"
    }
   ],
   "source": [
    "# .remove()\n",
    "ones = [1,2,1,1,1]\n",
    "ones.remove(1) # will only remove a single 1\n",
    "ones"
   ]
  },
  {
   "cell_type": "code",
   "execution_count": 56,
   "metadata": {
    "id": "sei6la4xMZb9",
    "outputId": "89181569-8b55-4903-ad99-f6673671eb41"
   },
   "outputs": [
    {
     "data": {
      "text/plain": [
       "3"
      ]
     },
     "execution_count": 56,
     "metadata": {},
     "output_type": "execute_result"
    }
   ],
   "source": [
    "# .index()\n",
    "copy_list.index('new value')"
   ]
  },
  {
   "cell_type": "code",
   "execution_count": 60,
   "metadata": {
    "id": "0VRjFmKXMZcE",
    "outputId": "dcc539e5-7259-41ed-ce81-d513d08da251"
   },
   "outputs": [
    {
     "name": "stdout",
     "output_type": "stream",
     "text": [
      "how many 'o' in mixed_list?  0\n",
      "how many 'a' in mixed_list?  0\n",
      "[1, 'cat', 3, {'a': 1, 'z': 26}, 1, 2, 4, 5, 'abc', 'abc', 'abc']\n"
     ]
    }
   ],
   "source": [
    "# .count() - count will not count values that are nested\n",
    "mixed_list.append('abc')\n",
    "print(\"how many 'o' in mixed_list? \", mixed_list.count('o'))\n",
    "print(\"how many 'a' in mixed_list? \", mixed_list.count('a'))\n",
    "print(mixed_list)\n"
   ]
  },
  {
   "cell_type": "markdown",
   "metadata": {
    "id": "PizHMfg_MZcH"
   },
   "source": [
    "#### Exercise\n",
    "\n",
    "Given the string ```'amazing'```, put the string into a list. After, add ```'is'``` and ```'you'``` to the list. Print the finished list and return the index of ```'is'``` in the list."
   ]
  },
  {
   "cell_type": "code",
   "execution_count": 2,
   "metadata": {
    "id": "lnbeA9iDMZcI",
    "outputId": "a019b406-f665-434c-b102-e5b65f1c9329"
   },
   "outputs": [
    {
     "name": "stdout",
     "output_type": "stream",
     "text": [
      "['amazing', 'is', 'you']\n",
      "1\n"
     ]
    }
   ],
   "source": [
    "s = 'amazing'\n",
    "l = []\n",
    "l.append(s)\n",
    "l.append('is')\n",
    "l.append('you')\n",
    "print(l)\n",
    "print(l.index('is'))"
   ]
  },
  {
   "cell_type": "code",
   "execution_count": 3,
   "metadata": {
    "id": "ZRq1ynwcoDHP",
    "outputId": "09553f57-0715-45c6-bb38-17ad5fbe0ece"
   },
   "outputs": [
    {
     "name": "stdout",
     "output_type": "stream",
     "text": [
      "['a', 'm', 'a', 'z', 'i', 'n', 'g']\n"
     ]
    }
   ],
   "source": [
    "print(list(s))"
   ]
  },
  {
   "cell_type": "markdown",
   "metadata": {
    "id": "m3nBIwm8MZcK"
   },
   "source": [
    "### Tuple Methods\n",
    "\n",
    "Since tuples are immutable once created, can't add or remove element, hence they have 2 usable methods `.count()` and `.index()`."
   ]
  },
  {
   "cell_type": "code",
   "execution_count": 101,
   "metadata": {
    "id": "yJ445ikkMZcL"
   },
   "outputs": [],
   "source": [
    "tup = ('a','b','c','a')"
   ]
  },
  {
   "cell_type": "code",
   "execution_count": 102,
   "metadata": {
    "id": "Lfmy7u3OMZcQ",
    "outputId": "415318a7-1d37-4177-8749-830881e4b04f"
   },
   "outputs": [
    {
     "data": {
      "text/plain": [
       "2"
      ]
     },
     "execution_count": 102,
     "metadata": {},
     "output_type": "execute_result"
    }
   ],
   "source": [
    "tup.count('a')"
   ]
  },
  {
   "cell_type": "code",
   "execution_count": 103,
   "metadata": {
    "id": "CiBytn0BMZcT",
    "outputId": "2e6b2ae6-a0d0-4040-cf4d-57bec15cc3f3"
   },
   "outputs": [
    {
     "data": {
      "text/plain": [
       "0"
      ]
     },
     "execution_count": 103,
     "metadata": {},
     "output_type": "execute_result"
    }
   ],
   "source": [
    "tup.index('a') #returns index of first a it finds"
   ]
  },
  {
   "cell_type": "markdown",
   "metadata": {
    "id": "dzzA6lgsMZcW"
   },
   "source": [
    "### Dictionary Methods\n",
    "\n",
    "Since dictionaries are a key value store, naturally many of their methods revolve around retrieving keys or values. Common dictionary methods are:\n",
    "\n",
    "* `.get()` - Returns value of the key \n",
    "* `.keys()` - Returns all keys from dictionary\n",
    "* `.values()` - Returns all values from dictionary"
   ]
  },
  {
   "cell_type": "code",
   "execution_count": 61,
   "metadata": {
    "id": "XYfPWg_1MZcX",
    "outputId": "93600e79-b344-4c37-d51b-61d360080093"
   },
   "outputs": [
    {
     "name": "stdout",
     "output_type": "stream",
     "text": [
      "{'toast': 2, 'beans': 2, 'eggs': 'sunny side up', 'sausage': 'chorizo'}\n"
     ]
    }
   ],
   "source": [
    "# alternative syntax: d = dict(toast = 2, beans = 2)\n",
    "d = {'toast':2, 'beans':2, 'eggs':'sunny side up', 'sausage':'chorizo'}\n",
    "print(d)"
   ]
  },
  {
   "cell_type": "code",
   "execution_count": 63,
   "metadata": {
    "id": "4FNPrUwbMZca",
    "outputId": "ec2fde86-baa1-4d03-b55b-4f4115dd0bc5"
   },
   "outputs": [
    {
     "data": {
      "text/plain": [
       "dict_keys(['toast', 'beans', 'eggs', 'sausage'])"
      ]
     },
     "execution_count": 63,
     "metadata": {},
     "output_type": "execute_result"
    }
   ],
   "source": [
    "# keys()\n",
    "d.keys() # get all keys from list"
   ]
  },
  {
   "cell_type": "code",
   "execution_count": 64,
   "metadata": {
    "id": "DpAMLXYwMZcd",
    "outputId": "91b4087d-ef35-4733-b94c-938b45e512d2"
   },
   "outputs": [
    {
     "data": {
      "text/plain": [
       "dict_values([2, 2, 'sunny side up', 'chorizo'])"
      ]
     },
     "execution_count": 64,
     "metadata": {},
     "output_type": "execute_result"
    }
   ],
   "source": [
    "# .values\n",
    "d.values() #get all values from dict"
   ]
  },
  {
   "cell_type": "code",
   "execution_count": 108,
   "metadata": {
    "id": "P45hyJ_GMZcg",
    "outputId": "5e477511-5cdb-4245-8c33-9f79db1fb583"
   },
   "outputs": [
    {
     "data": {
      "text/plain": [
       "dict_items([('toast', 2), ('beans', 2), ('eggs', 'sunny side up'), ('sausage', 'chorizo')])"
      ]
     },
     "execution_count": 108,
     "metadata": {},
     "output_type": "execute_result"
    }
   ],
   "source": [
    "# .items()\n",
    "d.items() #returns (key,value) as  a list of tuples"
   ]
  },
  {
   "cell_type": "code",
   "execution_count": 65,
   "metadata": {
    "id": "5vVXn0qLoDHd",
    "outputId": "c479cbde-f13c-48c7-a7d8-b00da1c7e001"
   },
   "outputs": [
    {
     "data": {
      "text/plain": [
       "['toast', 'beans']"
      ]
     },
     "execution_count": 65,
     "metadata": {},
     "output_type": "execute_result"
    }
   ],
   "source": [
    "find = 2\n",
    "[k for (k,v) in d.items() if v==find]"
   ]
  },
  {
   "cell_type": "code",
   "execution_count": 66,
   "metadata": {
    "id": "SqEGVL6iMZck",
    "outputId": "c31d1374-ff53-404a-95de-06263b8210e1"
   },
   "outputs": [
    {
     "name": "stdout",
     "output_type": "stream",
     "text": [
      "toast value is: 2\n",
      "toast value is: 2\n"
     ]
    }
   ],
   "source": [
    "# .get() - alternative syntax: d['toast']\n",
    "print(\"toast value is:\", d.get('toast')) # Return value from key\n",
    "print(\"toast value is:\", d['toast'])"
   ]
  },
  {
   "cell_type": "code",
   "execution_count": 67,
   "metadata": {
    "id": "FIvGJjelMZcm",
    "outputId": "dd3f0b10-8c10-4fd1-a8a3-60658705eaf6"
   },
   "outputs": [
    {
     "data": {
      "text/plain": [
       "2"
      ]
     },
     "execution_count": 67,
     "metadata": {},
     "output_type": "execute_result"
    }
   ],
   "source": [
    "d.get('beans')"
   ]
  },
  {
   "cell_type": "code",
   "execution_count": 68,
   "metadata": {
    "id": "9ZfnJ0DRMZcp",
    "outputId": "634915fa-0c41-431b-9901-9b4352358544"
   },
   "outputs": [
    {
     "data": {
      "text/plain": [
       "'mushroom'"
      ]
     },
     "execution_count": 68,
     "metadata": {},
     "output_type": "execute_result"
    }
   ],
   "source": [
    "# .get() - pass inside () key, optional default value, if key not present, will return default value, by default=None\n",
    "d.get('bacon','mushroom') #if there is no bacon key, return mushrooms"
   ]
  },
  {
   "cell_type": "code",
   "execution_count": 69,
   "metadata": {
    "id": "0t2YZwB2MZcu"
   },
   "outputs": [],
   "source": [
    "d.get('tomato')"
   ]
  },
  {
   "cell_type": "code",
   "execution_count": 72,
   "metadata": {
    "id": "xqPoWnfhMZc1",
    "outputId": "32c8af30-1d84-4c37-d8a0-4754664a9ff4"
   },
   "outputs": [
    {
     "data": {
      "text/plain": [
       "False"
      ]
     },
     "execution_count": 72,
     "metadata": {},
     "output_type": "execute_result"
    }
   ],
   "source": [
    "# 'in' statement returns boolean\n",
    "'bean' in d.keys() # check if a key is in dict"
   ]
  },
  {
   "cell_type": "markdown",
   "metadata": {
    "id": "PX4EpvsrMZc5"
   },
   "source": [
    "#### Exercise\n",
    "\n",
    "Given the dictionary:\n",
    "```\n",
    "abc_dict = {'a':'apple', 'b': 'berry', 'c': 'cheese'}\n",
    "```\n",
    "Get the value for the key ```'b'```."
   ]
  },
  {
   "cell_type": "code",
   "execution_count": 4,
   "metadata": {
    "colab": {
     "base_uri": "https://localhost:8080/",
     "height": 34
    },
    "executionInfo": {
     "elapsed": 563,
     "status": "ok",
     "timestamp": 1597223135535,
     "user": {
      "displayName": "Ravi Murugesan",
      "photoUrl": "https://lh3.googleusercontent.com/a-/AOh14GgR5kz_QIiM_9oXAwbI5bYNzMTq84sM_gnID0t2gg=s64",
      "userId": "10332875964598669976"
     },
     "user_tz": -480
    },
    "id": "bvdoV_4kMZc5",
    "outputId": "ca9ce3b3-75ef-4a28-b01d-d57ac80d162e"
   },
   "outputs": [
    {
     "data": {
      "text/plain": [
       "'berry'"
      ]
     },
     "execution_count": 4,
     "metadata": {},
     "output_type": "execute_result"
    }
   ],
   "source": [
    "abc_dict = {'a':'apple', 'b': 'berry', 'c': 'cheese'}\n",
    "abc_dict.get('b')\n",
    "abc_dict['b']"
   ]
  },
  {
   "cell_type": "markdown",
   "metadata": {
    "id": "Qx57qJPAMZc9"
   },
   "source": [
    "## In and Not In Statements\n",
    "\n",
    "In the previous cell an `in` and also `not in` statements are Python Membership Operators and they can be used to check for membership in a data object. Returns a boolean value. "
   ]
  },
  {
   "cell_type": "code",
   "execution_count": 73,
   "metadata": {
    "colab": {
     "base_uri": "https://localhost:8080/",
     "height": 34
    },
    "executionInfo": {
     "elapsed": 946,
     "status": "ok",
     "timestamp": 1602505183071,
     "user": {
      "displayName": "Ravi Murugesan",
      "photoUrl": "https://lh3.googleusercontent.com/a-/AOh14GgR5kz_QIiM_9oXAwbI5bYNzMTq84sM_gnID0t2gg=s64",
      "userId": "10332875964598669976"
     },
     "user_tz": -480
    },
    "id": "fgQVEyEYMZc-",
    "outputId": "bb397461-8f85-4778-c711-69ea47b77590"
   },
   "outputs": [
    {
     "data": {
      "text/plain": [
       "True"
      ]
     },
     "execution_count": 73,
     "metadata": {},
     "output_type": "execute_result"
    }
   ],
   "source": [
    "# in \n",
    "'in' in 'indigo' # for strings, will check membership for substring exists in the string "
   ]
  },
  {
   "cell_type": "code",
   "execution_count": 74,
   "metadata": {
    "colab": {
     "base_uri": "https://localhost:8080/",
     "height": 34
    },
    "executionInfo": {
     "elapsed": 1262,
     "status": "ok",
     "timestamp": 1602505187707,
     "user": {
      "displayName": "Ravi Murugesan",
      "photoUrl": "https://lh3.googleusercontent.com/a-/AOh14GgR5kz_QIiM_9oXAwbI5bYNzMTq84sM_gnID0t2gg=s64",
      "userId": "10332875964598669976"
     },
     "user_tz": -480
    },
    "id": "AyCx0tZ9MZdC",
    "outputId": "35c1f200-bb94-4d8c-e4eb-b51e922a99ec"
   },
   "outputs": [
    {
     "data": {
      "text/plain": [
       "False"
      ]
     },
     "execution_count": 74,
     "metadata": {},
     "output_type": "execute_result"
    }
   ],
   "source": [
    "# in \n",
    "'in' in {'out': 'in'} # for dictionary, will check for exact 'key' match"
   ]
  },
  {
   "cell_type": "code",
   "execution_count": 77,
   "metadata": {
    "colab": {
     "base_uri": "https://localhost:8080/",
     "height": 34
    },
    "executionInfo": {
     "elapsed": 867,
     "status": "ok",
     "timestamp": 1602505227502,
     "user": {
      "displayName": "Ravi Murugesan",
      "photoUrl": "https://lh3.googleusercontent.com/a-/AOh14GgR5kz_QIiM_9oXAwbI5bYNzMTq84sM_gnID0t2gg=s64",
      "userId": "10332875964598669976"
     },
     "user_tz": -480
    },
    "id": "IUPaZxwfMZdI",
    "outputId": "a659cdd9-1bb5-4670-974f-b08a935d16e1"
   },
   "outputs": [
    {
     "data": {
      "text/plain": [
       "True"
      ]
     },
     "execution_count": 77,
     "metadata": {},
     "output_type": "execute_result"
    }
   ],
   "source": [
    "# in\n",
    "'in' in ['in', 'indigo', 'indio'] # for list, will check for exact element in list"
   ]
  },
  {
   "cell_type": "code",
   "execution_count": 78,
   "metadata": {
    "colab": {
     "base_uri": "https://localhost:8080/",
     "height": 34
    },
    "executionInfo": {
     "elapsed": 931,
     "status": "ok",
     "timestamp": 1602505421881,
     "user": {
      "displayName": "Ravi Murugesan",
      "photoUrl": "https://lh3.googleusercontent.com/a-/AOh14GgR5kz_QIiM_9oXAwbI5bYNzMTq84sM_gnID0t2gg=s64",
      "userId": "10332875964598669976"
     },
     "user_tz": -480
    },
    "id": "PR4bMW_Dw2sf",
    "outputId": "d030b513-d80a-4313-fc34-cb775f1f5d33"
   },
   "outputs": [
    {
     "data": {
      "text/plain": [
       "True"
      ]
     },
     "execution_count": 78,
     "metadata": {},
     "output_type": "execute_result"
    }
   ],
   "source": [
    "list1 = ['india', 'indigo', 'indio']\n",
    "\"in\" in list1[0]\n",
    "\"in\" in list1[1]"
   ]
  },
  {
   "cell_type": "code",
   "execution_count": 79,
   "metadata": {
    "id": "tKjwBoELMZdK",
    "outputId": "201da09c-7bce-4ef4-a6d1-6f4c755cb80b"
   },
   "outputs": [
    {
     "data": {
      "text/plain": [
       "False"
      ]
     },
     "execution_count": 79,
     "metadata": {},
     "output_type": "execute_result"
    }
   ],
   "source": [
    "# not in\n",
    "in_var = 'in'\n",
    "mixed_in = [in_var, 'inin', {\"in\": \"out\"}]\n",
    "'in' not in mixed_in"
   ]
  },
  {
   "cell_type": "code",
   "execution_count": 80,
   "metadata": {
    "id": "rHLg-MptMZdP",
    "outputId": "3602edc8-8104-4c6b-c12d-0bdd4aec16ad"
   },
   "outputs": [
    {
     "data": {
      "text/plain": [
       "True"
      ]
     },
     "execution_count": 80,
     "metadata": {},
     "output_type": "execute_result"
    }
   ],
   "source": [
    "# not in\n",
    "'1' not in '20'"
   ]
  },
  {
   "cell_type": "code",
   "execution_count": 84,
   "metadata": {
    "id": "bRmgnL1goDHt",
    "outputId": "f9d32da2-6e0c-44bc-9264-b5823a1ea5e2"
   },
   "outputs": [
    {
     "data": {
      "text/plain": [
       "[-5, -4, -3, -2, -1, 0, 1, 2, 3, 4, 5, 6, 7, 8, 9, 10]"
      ]
     },
     "execution_count": 84,
     "metadata": {},
     "output_type": "execute_result"
    }
   ],
   "source": [
    "list(range(-5,11))"
   ]
  },
  {
   "cell_type": "code",
   "execution_count": 82,
   "metadata": {
    "id": "PcLPZFlqMZdR",
    "outputId": "72008879-9e90-4cc0-e13c-30db2b5c1cf3"
   },
   "outputs": [
    {
     "data": {
      "text/plain": [
       "False"
      ]
     },
     "execution_count": 82,
     "metadata": {},
     "output_type": "execute_result"
    }
   ],
   "source": [
    "# not in\n",
    "5 not in list(range(6))"
   ]
  },
  {
   "cell_type": "code",
   "execution_count": 85,
   "metadata": {
    "id": "IC6xrxlqoDHv",
    "outputId": "56a14ce8-ecb5-4372-86d0-f53dff380f83"
   },
   "outputs": [
    {
     "name": "stdout",
     "output_type": "stream",
     "text": [
      "Hello\n",
      "3\n",
      "Hello\n",
      "4\n",
      "Hello\n",
      "5\n",
      "Hello\n",
      "6\n",
      "Hello\n",
      "7\n"
     ]
    }
   ],
   "source": [
    "lst1 = [3,4,5,6,7]\n",
    "\n",
    "for i in lst1:\n",
    "    print(\"Hello\")\n",
    "    print(i)"
   ]
  }
 ],
 "metadata": {
  "colab": {
   "collapsed_sections": [
    "RRKNnbS2MZad",
    "yTiDFhf1MZaw",
    "ZLlJ3VeFMZa2",
    "PizHMfg_MZcH",
    "m3nBIwm8MZcK",
    "dzzA6lgsMZcW",
    "PX4EpvsrMZc5"
   ],
   "name": "DataStructureMethods.ipynb",
   "provenance": []
  },
  "kernelspec": {
   "display_name": "base",
   "language": "python",
   "name": "python3"
  },
  "language_info": {
   "codemirror_mode": {
    "name": "ipython",
    "version": 3
   },
   "file_extension": ".py",
   "mimetype": "text/x-python",
   "name": "python",
   "nbconvert_exporter": "python",
   "pygments_lexer": "ipython3",
   "version": "3.9.12"
  }
 },
 "nbformat": 4,
 "nbformat_minor": 1
}
