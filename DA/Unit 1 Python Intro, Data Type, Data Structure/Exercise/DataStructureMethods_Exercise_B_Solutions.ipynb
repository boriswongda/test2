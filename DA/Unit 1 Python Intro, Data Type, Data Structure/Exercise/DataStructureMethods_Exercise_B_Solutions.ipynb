{
 "cells": [
  {
   "cell_type": "markdown",
   "metadata": {
    "colab_type": "text",
    "id": "lzisn5vQV5it"
   },
   "source": [
    "# Data Structure Methods & Comprehensions Exercise 3B"
   ]
  },
  {
   "cell_type": "markdown",
   "metadata": {
    "colab_type": "text",
    "id": "02AltZgHV5ix"
   },
   "source": [
    "1. Write a program to map two lists into a dictionary."
   ]
  },
  {
   "cell_type": "code",
   "execution_count": 1,
   "metadata": {
    "colab": {
     "base_uri": "https://localhost:8080/",
     "height": 34
    },
    "colab_type": "code",
    "executionInfo": {
     "elapsed": 1166,
     "status": "ok",
     "timestamp": 1597649161568,
     "user": {
      "displayName": "KING CHAK HO",
      "photoUrl": "",
      "userId": "01684497642639073245"
     },
     "user_tz": -480
    },
    "id": "KYUYakBnV5iz",
    "outputId": "3effc29a-da69-4f54-cc43-637e0474c660"
   },
   "outputs": [
    {
     "name": "stdout",
     "output_type": "stream",
     "text": [
      "{'red': '#FF0000', 'green': '#008000', 'blue': '#0000FF'}\n"
     ]
    }
   ],
   "source": [
    "keys = ['red', 'green', 'blue']\n",
    "values = ['#FF0000','#008000', '#0000FF']\n",
    "color_dictionary = dict(zip(keys, values))\n",
    "print(color_dictionary)"
   ]
  },
  {
   "cell_type": "markdown",
   "metadata": {
    "colab_type": "text",
    "id": "I77aaA6hV5i8"
   },
   "source": [
    "2. Check whether two lists are circularly identical.\n",
    "\n",
    "```\n",
    "eg.\n",
    "list1 = [10, 10, 0, 0, 10]\n",
    "list2 = [10, 10, 10, 0, 0]\n",
    "list1 and list2 are circularly identical.\n",
    "```"
   ]
  },
  {
   "cell_type": "code",
   "execution_count": 1,
   "metadata": {
    "colab": {
     "base_uri": "https://localhost:8080/",
     "height": 102
    },
    "colab_type": "code",
    "executionInfo": {
     "elapsed": 999,
     "status": "ok",
     "timestamp": 1597918332118,
     "user": {
      "displayName": "KING CHAK HO",
      "photoUrl": "",
      "userId": "01684497642639073245"
     },
     "user_tz": -480
    },
    "id": "gAw0dt2hV5i-",
    "outputId": "34b06e2e-4fcd-48f8-9fa0-e809f7f712a5"
   },
   "outputs": [
    {
     "name": "stdout",
     "output_type": "stream",
     "text": [
      "[11, 11, 1, 1, 11]\n",
      "Compare list1 and list2\n",
      "True\n",
      "Compare list1 and list3\n",
      "False\n"
     ]
    }
   ],
   "source": [
    "list1 = [10, 10, 0, 0, 10]\n",
    "list2 = [10, 10, 10, 0, 0]\n",
    "list3 = [1, 10, 10, 0, 0]\n",
    "\n",
    "def add(x):\n",
    "    return x+1\n",
    "\n",
    "print(list(map(add, list1)))\n",
    "\n",
    "\n",
    "print('Compare list1 and list2')\n",
    "print(' '.join(map(str, list2)) in ' '.join(map(str, list1 * 2)))\n",
    "print('Compare list1 and list3')\n",
    "print(' '.join(map(str, list3)) in ' '.join(map(str, list1 * 2)))"
   ]
  },
  {
   "cell_type": "markdown",
   "metadata": {
    "colab_type": "text",
    "id": "Gx3ik1tlV5jD"
   },
   "source": [
    "3. Write a program to find the highest 3 values in a dictionary."
   ]
  },
  {
   "cell_type": "code",
   "execution_count": 3,
   "metadata": {
    "colab": {},
    "colab_type": "code",
    "id": "2OL-vkqjV5jE",
    "outputId": "e9b55803-de72-4c84-9273-1c054c2c5a3e"
   },
   "outputs": [
    {
     "name": "stdout",
     "output_type": "stream",
     "text": [
      "['b', 'e', 'c']\n"
     ]
    }
   ],
   "source": [
    "# method 1\n",
    "from heapq import nlargest\n",
    "my_dict = {'a':500, 'b':5874, 'c': 560,'d':400, 'e':5874, 'f': 20}  \n",
    "three_largest = nlargest(3, my_dict, key=my_dict.get)\n",
    "print(three_largest) "
   ]
  },
  {
   "cell_type": "code",
   "execution_count": 2,
   "metadata": {
    "colab": {
     "base_uri": "https://localhost:8080/",
     "height": 102
    },
    "colab_type": "code",
    "executionInfo": {
     "elapsed": 949,
     "status": "ok",
     "timestamp": 1597918555575,
     "user": {
      "displayName": "KING CHAK HO",
      "photoUrl": "",
      "userId": "01684497642639073245"
     },
     "user_tz": -480
    },
    "id": "vpKKnrU1H6rZ",
    "outputId": "63ceb4bf-5589-4d0a-e190-5085cd89ae38"
   },
   "outputs": [
    {
     "name": "stdout",
     "output_type": "stream",
     "text": [
      "[500, 5874, 560, 400, 5874, 20]\n",
      "5874\n",
      "5874\n",
      "560\n"
     ]
    }
   ],
   "source": [
    "# method 2\n",
    "my_dict = {'a':500, 'b':5874, 'c': 560,'d':400, 'e':5874, 'f': 20} \n",
    "l =list(my_dict.values())\n",
    "print(l)\n",
    "\n",
    "for i in range(3):\n",
    "    num = max(l)\n",
    "    print(num)\n",
    "    l.remove(num)"
   ]
  },
  {
   "cell_type": "code",
   "execution_count": 5,
   "metadata": {
    "colab": {
     "base_uri": "https://localhost:8080/",
     "height": 34
    },
    "colab_type": "code",
    "executionInfo": {
     "elapsed": 1039,
     "status": "ok",
     "timestamp": 1597918604604,
     "user": {
      "displayName": "KING CHAK HO",
      "photoUrl": "",
      "userId": "01684497642639073245"
     },
     "user_tz": -480
    },
    "id": "5TtnMjayXkUe",
    "outputId": "36cedb39-fa13-4ec3-ced8-fffd91288fb3"
   },
   "outputs": [
    {
     "data": {
      "text/plain": [
       "[5874, 5874, 560]"
      ]
     },
     "execution_count": 5,
     "metadata": {},
     "output_type": "execute_result"
    }
   ],
   "source": [
    "#method 3\n",
    "l = [500, 5874, 560, 400, 5874, 20]\n",
    "l.sort(reverse = True)\n",
    "l\n",
    "l[:3]"
   ]
  },
  {
   "cell_type": "markdown",
   "metadata": {
    "colab_type": "text",
    "id": "VOzGgq-CV5jH"
   },
   "source": [
    "4. Merge two dictionaries."
   ]
  },
  {
   "cell_type": "code",
   "execution_count": 2,
   "metadata": {
    "colab": {
     "base_uri": "https://localhost:8080/",
     "height": 34
    },
    "colab_type": "code",
    "executionInfo": {
     "elapsed": 916,
     "status": "ok",
     "timestamp": 1597918851499,
     "user": {
      "displayName": "KING CHAK HO",
      "photoUrl": "",
      "userId": "01684497642639073245"
     },
     "user_tz": -480
    },
    "id": "-yWyBYAvV5jI",
    "outputId": "64f4d683-dd30-417b-8909-0b5fb7fc498a"
   },
   "outputs": [
    {
     "name": "stdout",
     "output_type": "stream",
     "text": [
      "{'a': 100, 'b': 200, 'x': 300, 'y': 200}\n"
     ]
    }
   ],
   "source": [
    "d1 = {'a': 100, 'b': 200}\n",
    "d2 = {'x': 300, 'y': 200}\n",
    "d = d1.copy()\n",
    "d.update(d2)\n",
    "print(d)"
   ]
  },
  {
   "cell_type": "markdown",
   "metadata": {
    "colab_type": "text",
    "id": "Ny7dF-o6V5jK"
   },
   "source": [
    "5. Write a function that takes three arguments (x, y, z) and returns a list containing x sublists (e.g. [[], [], []]), each containing y number of item z.\n",
    "\n",
    "x Number of sublists contained within the main list.\n",
    "y Number of items contained within each sublist.\n",
    "z Item contained within each sublist."
   ]
  },
  {
   "cell_type": "code",
   "execution_count": 7,
   "metadata": {
    "colab": {},
    "colab_type": "code",
    "id": "fgddz12tV5jL",
    "outputId": "4d9df840-2652-4bff-80fd-695db6cade1e"
   },
   "outputs": [
    {
     "data": {
      "text/plain": [
       "[[3, 3], [3, 3], [3, 3]]"
      ]
     },
     "execution_count": 7,
     "metadata": {},
     "output_type": "execute_result"
    }
   ],
   "source": [
    "x = 3\n",
    "y = 2\n",
    "z = 3\n",
    "[[z] * y] * x"
   ]
  },
  {
   "cell_type": "code",
   "execution_count": 8,
   "metadata": {},
   "outputs": [
    {
     "name": "stdout",
     "output_type": "stream",
     "text": [
      "[['XX', 'XX', 'XX', 'XX', 'XX'], ['XX', 'XX', 'XX', 'XX', 'XX'], ['XX', 'XX', 'XX', 'XX', 'XX'], ['XX', 'XX', 'XX', 'XX', 'XX'], ['XX', 'XX', 'XX', 'XX', 'XX']]\n"
     ]
    }
   ],
   "source": [
    "def func1(x,y,z):\n",
    "  main_list = []\n",
    "  sub_list = []\n",
    "  for i in range(y):\n",
    "    sub_list.append(z)\n",
    "\n",
    "  for i in range(x):\n",
    "    main_list.append(sub_list)\n",
    "\n",
    "  return main_list\n",
    "\n",
    "print(func1(5,5,'XX'))"
   ]
  },
  {
   "cell_type": "markdown",
   "metadata": {
    "colab_type": "text",
    "id": "5EjEShBzV5jO"
   },
   "source": [
    "6. Write a program to find the list in a list of lists whose sum of elements is the highest.\n",
    "\n",
    "```\n",
    "Sample lists: [1,2,3], [4,5,6], [10,11,12], [7,8,9]\n",
    "Expected Output: [10, 11, 12]\n",
    "```"
   ]
  },
  {
   "cell_type": "code",
   "execution_count": null,
   "metadata": {
    "colab": {},
    "colab_type": "code",
    "id": "KgCKUV7yV5jP",
    "outputId": "2fbaf170-7aa0-485f-9de7-2f8b941a1ebc"
   },
   "outputs": [
    {
     "name": "stdout",
     "output_type": "stream",
     "text": [
      "[10, 11, 12]\n"
     ]
    }
   ],
   "source": [
    "num = [[1,2,3], [4,5,6], [10,11,12], [7,8,9]]\n",
    "print(max(num, key=sum))"
   ]
  },
  {
   "cell_type": "markdown",
   "metadata": {
    "colab_type": "text",
    "id": "RmbIN-9HV5jS"
   },
   "source": [
    "7. Write a program to extend a list without append."
   ]
  },
  {
   "cell_type": "code",
   "execution_count": 10,
   "metadata": {
    "colab": {},
    "colab_type": "code",
    "id": "MlGnxtdQV5jS",
    "outputId": "3c47fcd3-6785-4260-f485-feeeb5aaeb7c"
   },
   "outputs": [
    {
     "name": "stdout",
     "output_type": "stream",
     "text": [
      "[40, 50, 60, 10, 20, 30]\n"
     ]
    }
   ],
   "source": [
    "x = [10, 20, 30]\n",
    "y = [40, 50, 60]\n",
    "x[:0] =y\n",
    "print(x)"
   ]
  },
  {
   "cell_type": "markdown",
   "metadata": {
    "colab_type": "text",
    "id": "sh3xU8KlV5jV"
   },
   "source": [
    "8. Write a program to replace the last element in a list with another list."
   ]
  },
  {
   "cell_type": "code",
   "execution_count": 9,
   "metadata": {
    "colab": {},
    "colab_type": "code",
    "id": "pn9TJWusV5jV",
    "outputId": "c2c2a376-e3c7-4d3a-c778-3a208e69c1d6"
   },
   "outputs": [
    {
     "name": "stdout",
     "output_type": "stream",
     "text": [
      "[1, 3, 5, 7, 9, 2, 4, 6, 8]\n"
     ]
    }
   ],
   "source": [
    "num1 = [1, 3, 5, 7, 9, 10]\n",
    "num2 = [2, 4, 6, 8]\n",
    "num1[-1:] = num2\n",
    "print(num1)"
   ]
  },
  {
   "cell_type": "markdown",
   "metadata": {
    "colab_type": "text",
    "id": "kZL48q5hV5jX"
   },
   "source": [
    "9. Add a key to a dictionary using data sctructure methods."
   ]
  },
  {
   "cell_type": "code",
   "execution_count": 3,
   "metadata": {
    "colab": {},
    "colab_type": "code",
    "id": "xUv9t5mBV5jY",
    "outputId": "23eeb9ad-48c5-45ac-bc9c-4abe37c951b4"
   },
   "outputs": [
    {
     "name": "stdout",
     "output_type": "stream",
     "text": [
      "{0: 10, 1: 20}\n",
      "{0: 10, 1: 20, 2: 30}\n"
     ]
    }
   ],
   "source": [
    "d = {0:10, 1:20}\n",
    "print(d)\n",
    "d.update({2:30})\n",
    "print(d)"
   ]
  },
  {
   "cell_type": "markdown",
   "metadata": {
    "colab_type": "text",
    "id": "bX8WA03FV5ja"
   },
   "source": [
    "10. Write a program to find missing and additional values in two lists."
   ]
  },
  {
   "cell_type": "code",
   "execution_count": 4,
   "metadata": {
    "colab": {
     "base_uri": "https://localhost:8080/",
     "height": 68
    },
    "colab_type": "code",
    "executionInfo": {
     "elapsed": 1694,
     "status": "ok",
     "timestamp": 1596011790749,
     "user": {
      "displayName": "KING CHAK HO",
      "photoUrl": "",
      "userId": "01684497642639073245"
     },
     "user_tz": -480
    },
    "id": "PvRh1Dh7V5jb",
    "outputId": "833710a6-4b19-4f76-c684-25d87bf334ee"
   },
   "outputs": [
    {
     "name": "stdout",
     "output_type": "stream",
     "text": [
      "Missing values in second list:  b,a,c\n",
      "Additional values in second list:  h,g\n"
     ]
    }
   ],
   "source": [
    "# method 1\n",
    "list1 = ['a','b','c','d','e','f']\n",
    "list2 = ['d','e','f','g','h']\n",
    "print('Missing values in second list: ', ','.join(set(list1).difference(list2)))\n",
    "print('Additional values in second list: ', ','.join(set(list2).difference(list1)))"
   ]
  },
  {
   "cell_type": "code",
   "execution_count": 12,
   "metadata": {
    "colab": {
     "base_uri": "https://localhost:8080/",
     "height": 51
    },
    "colab_type": "code",
    "executionInfo": {
     "elapsed": 720,
     "status": "ok",
     "timestamp": 1596011886524,
     "user": {
      "displayName": "KING CHAK HO",
      "photoUrl": "",
      "userId": "01684497642639073245"
     },
     "user_tz": -480
    },
    "id": "gez-dO8Ht4yO",
    "outputId": "f6e89f6e-b551-479b-e882-78ccd978a903"
   },
   "outputs": [
    {
     "name": "stdout",
     "output_type": "stream",
     "text": [
      "Missing values in second list:  {'c', 'a', 'b'}\n",
      "Additional values in second list {'g', 'h'}\n"
     ]
    }
   ],
   "source": [
    "# method 2 join isn't necessary \n",
    "list1 = ['a','b','c','d','e','f']\n",
    "list2 = ['d','e','f','g','h']\n",
    "\n",
    "print('Missing values in second list: ', set(list1).difference(list2) )\n",
    "print('Additional values in second list', set(list2).difference(list1))"
   ]
  }
 ],
 "metadata": {
  "colab": {
   "collapsed_sections": [],
   "name": "DataStructureMethods-Exercise-3B-Solutions.ipynb",
   "provenance": []
  },
  "kernelspec": {
   "display_name": "base",
   "language": "python",
   "name": "python3"
  },
  "language_info": {
   "codemirror_mode": {
    "name": "ipython",
    "version": 3
   },
   "file_extension": ".py",
   "mimetype": "text/x-python",
   "name": "python",
   "nbconvert_exporter": "python",
   "pygments_lexer": "ipython3",
   "version": "3.9.12"
  }
 },
 "nbformat": 4,
 "nbformat_minor": 1
}
