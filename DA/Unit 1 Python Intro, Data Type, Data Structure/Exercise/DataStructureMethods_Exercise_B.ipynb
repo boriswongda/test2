{
 "cells": [
  {
   "cell_type": "markdown",
   "metadata": {
    "colab_type": "text",
    "id": "ry7MxRpCLRHd"
   },
   "source": [
    "# Data Structure Methods & Comprehensions Exercise 3B"
   ]
  },
  {
   "cell_type": "markdown",
   "metadata": {
    "colab_type": "text",
    "id": "SszrTJa6LRHg"
   },
   "source": [
    "1. Write a program to map two lists into a dictionary."
   ]
  },
  {
   "cell_type": "code",
   "execution_count": 3,
   "metadata": {
    "colab": {},
    "colab_type": "code",
    "id": "IaoCcKG_LRHi"
   },
   "outputs": [
    {
     "data": {
      "text/plain": [
       "{'anna': 32, 'bella': 47, 'charis': 52, 'donna': 36}"
      ]
     },
     "execution_count": 3,
     "metadata": {},
     "output_type": "execute_result"
    }
   ],
   "source": [
    "name_list = [\"anna\", \"bella\", \"charis\", \"donna\"]\n",
    "age_list = [32, 47, 52, 36]\n",
    "people = {}\n",
    "for i in range (len(name_list)):\n",
    "    people[name_list[i]] = age_list[i]\n",
    "\n",
    "people"
   ]
  },
  {
   "cell_type": "markdown",
   "metadata": {
    "colab_type": "text",
    "id": "HfkBfic2LRHu"
   },
   "source": [
    "2. Check whether two lists are circularly identical."
   ]
  },
  {
   "cell_type": "code",
   "execution_count": null,
   "metadata": {
    "colab": {},
    "colab_type": "code",
    "id": "KbeJbR1tLRHw"
   },
   "outputs": [],
   "source": []
  },
  {
   "cell_type": "markdown",
   "metadata": {
    "colab_type": "text",
    "id": "9zr3LylLLRH2"
   },
   "source": [
    "3. Write a program to find the highest 3 values in a dictionary."
   ]
  },
  {
   "cell_type": "code",
   "execution_count": 27,
   "metadata": {
    "colab": {},
    "colab_type": "code",
    "id": "-ARSSJ6QLRH4"
   },
   "outputs": [
    {
     "name": "stdout",
     "output_type": "stream",
     "text": [
      "Max: 102\n",
      "[32, 47, 52, 36, 102, 79, 33, 54]\n",
      "[32, 33, 36, 47, 52, 54, 79, 102]\n",
      "Max 3: [102, 79, 54]\n"
     ]
    }
   ],
   "source": [
    "people = {'anna': 32, 'bella': 47, 'charis': 52, 'donna': 36, 'ester': 102, 'flora': 79, 'gloria': 33, 'heidi': 54}\n",
    "print (\"Max:\", max(people.values()))\n",
    "\n",
    "age_list=list(people.values())\n",
    "print (age_list)\n",
    "age_sort = sorted(age_list)\n",
    "print (age_sort)\n",
    "\n",
    "print (\"Max 3:\", age_sort[:-4:-1])\n"
   ]
  },
  {
   "cell_type": "markdown",
   "metadata": {
    "colab_type": "text",
    "id": "4oMZFbP3LRH-"
   },
   "source": [
    "4. Merge two dictionaries."
   ]
  },
  {
   "cell_type": "code",
   "execution_count": null,
   "metadata": {
    "colab": {},
    "colab_type": "code",
    "id": "lgabgkbjLRH_"
   },
   "outputs": [],
   "source": []
  },
  {
   "cell_type": "markdown",
   "metadata": {
    "colab_type": "text",
    "id": "3ZS2zq3wLRIF"
   },
   "source": [
    "5. Write a function that takes three arguments (x, y, z) and returns a list containing x sublists (e.g. [[], [], []]), each containing y number of item z.\n",
    "\n",
    "x Number of sublists contained within the main list.\n",
    "y Number of items contained within each sublist.\n",
    "z Item contained within each sublist."
   ]
  },
  {
   "cell_type": "code",
   "execution_count": 10,
   "metadata": {
    "colab": {
     "base_uri": "https://localhost:8080/",
     "height": 34
    },
    "colab_type": "code",
    "executionInfo": {
     "elapsed": 998,
     "status": "ok",
     "timestamp": 1598343296708,
     "user": {
      "displayName": "Ravi Murugesan",
      "photoUrl": "https://lh3.googleusercontent.com/a-/AOh14GgR5kz_QIiM_9oXAwbI5bYNzMTq84sM_gnID0t2gg=s64",
      "userId": "10332875964598669976"
     },
     "user_tz": -480
    },
    "id": "CGyJQnUqrKgv",
    "outputId": "3d5ceaf3-d180-4659-e0e7-a78b4ad29467"
   },
   "outputs": [
    {
     "data": {
      "text/plain": [
       "[2, 2, 3, 0]"
      ]
     },
     "execution_count": 10,
     "metadata": {
      "tags": []
     },
     "output_type": "execute_result"
    }
   ],
   "source": [
    "import random\n",
    "\n",
    "a = random.choices([0,1,2,3], k=4)\n",
    "a"
   ]
  },
  {
   "cell_type": "code",
   "execution_count": null,
   "metadata": {
    "colab": {},
    "colab_type": "code",
    "id": "dnsnVSRbpqJg"
   },
   "outputs": [],
   "source": []
  },
  {
   "cell_type": "markdown",
   "metadata": {
    "colab_type": "text",
    "id": "iLidFaOPLRIK"
   },
   "source": [
    "6. Write a program to find the list in a list of lists whose sum of elements is the highest.\n",
    "\n",
    "```\n",
    "Sample lists: [1,2,3], [4,5,6], [10,11,12], [7,8,9]\n",
    "Expected Output: [10, 11, 12]\n",
    "```"
   ]
  },
  {
   "cell_type": "code",
   "execution_count": 31,
   "metadata": {
    "colab": {},
    "colab_type": "code",
    "id": "Cu8H5xW-LRIL"
   },
   "outputs": [
    {
     "name": "stdout",
     "output_type": "stream",
     "text": [
      "The largest list is [10, 11, 12] with its sum is 33\n"
     ]
    }
   ],
   "source": [
    "bigList = [[1,2,3], [4,5,6], [10,11,12], [7,8,9]]\n",
    "max_sum = 0\n",
    "max_list = bigList[0]\n",
    "\n",
    "for i in range (len(bigList)):\n",
    "    if sum(bigList[i]) > max_sum:\n",
    "        max_sum=sum(bigList[i])\n",
    "        max_list= bigList[i]\n",
    "\n",
    "print (\"The largest list is\", max_list, \"with its sum is\", max_sum)\n"
   ]
  },
  {
   "cell_type": "markdown",
   "metadata": {
    "colab_type": "text",
    "id": "JgnRB6xkLRIP"
   },
   "source": [
    "7. Write a program to extend a list without append."
   ]
  },
  {
   "cell_type": "code",
   "execution_count": 35,
   "metadata": {
    "colab": {},
    "colab_type": "code",
    "id": "hVh3E768LRIP"
   },
   "outputs": [
    {
     "data": {
      "text/plain": [
       "[1, 2, 3, 4, 5, 6]"
      ]
     },
     "execution_count": 35,
     "metadata": {},
     "output_type": "execute_result"
    }
   ],
   "source": [
    "list1 = [1,2,3]\n",
    "list2 = [4,5,6]\n",
    "\n",
    "list1.extend(list2)\n",
    "\n",
    "list1"
   ]
  },
  {
   "cell_type": "markdown",
   "metadata": {
    "colab_type": "text",
    "id": "Fuxndkp0LRIS"
   },
   "source": [
    "8. Write a program to replace the last element in a list with another list."
   ]
  },
  {
   "cell_type": "code",
   "execution_count": 37,
   "metadata": {
    "colab": {},
    "colab_type": "code",
    "id": "e-msyBsTLRIT"
   },
   "outputs": [
    {
     "data": {
      "text/plain": [
       "[1, 2, [4, 5, 6]]"
      ]
     },
     "execution_count": 37,
     "metadata": {},
     "output_type": "execute_result"
    }
   ],
   "source": [
    "list1 = [1,2,3]\n",
    "list2 = [4,5,6]\n",
    "\n",
    "list1[-1]=list2\n",
    "\n",
    "list1"
   ]
  },
  {
   "cell_type": "markdown",
   "metadata": {
    "colab_type": "text",
    "id": "3KnckCmMLRIW"
   },
   "source": [
    "9. Add a key to a dictionary using data sctructure methods."
   ]
  },
  {
   "cell_type": "code",
   "execution_count": 39,
   "metadata": {
    "colab": {},
    "colab_type": "code",
    "id": "yx6-OG4gLRIW"
   },
   "outputs": [
    {
     "data": {
      "text/plain": [
       "{'anna': 32,\n",
       " 'bella': 47,\n",
       " 'charis': 52,\n",
       " 'donna': 36,\n",
       " 'ester': 102,\n",
       " 'flora': 79,\n",
       " 'gloria': 33,\n",
       " 'heidi': 54,\n",
       " 'ida': 63}"
      ]
     },
     "execution_count": 39,
     "metadata": {},
     "output_type": "execute_result"
    }
   ],
   "source": [
    "people[\"ida\"]=63\n",
    "\n",
    "people"
   ]
  },
  {
   "cell_type": "markdown",
   "metadata": {
    "colab_type": "text",
    "id": "puXeAiIPLRIZ"
   },
   "source": [
    "10. Write a program to find missing and additional values in two lists."
   ]
  },
  {
   "cell_type": "code",
   "execution_count": null,
   "metadata": {
    "colab": {},
    "colab_type": "code",
    "id": "hbW3wJ1FLRIa"
   },
   "outputs": [],
   "source": []
  }
 ],
 "metadata": {
  "colab": {
   "name": "DataStructureMethods_Exercise_3B.ipynb",
   "provenance": []
  },
  "kernelspec": {
   "display_name": "Python 3",
   "language": "python",
   "name": "python3"
  },
  "language_info": {
   "codemirror_mode": {
    "name": "ipython",
    "version": 3
   },
   "file_extension": ".py",
   "mimetype": "text/x-python",
   "name": "python",
   "nbconvert_exporter": "python",
   "pygments_lexer": "ipython3",
   "version": "3.11.9"
  }
 },
 "nbformat": 4,
 "nbformat_minor": 0
}
