{
 "cells": [
  {
   "cell_type": "markdown",
   "metadata": {
    "id": "mJMsebMUVLef"
   },
   "source": [
    "# Data Structure Methods & Comprehensions Exercise 3A"
   ]
  },
  {
   "cell_type": "markdown",
   "metadata": {
    "id": "Oy61AmwIVLej"
   },
   "source": [
    "1. Create a list with only odd numbers from 1 to 23."
   ]
  },
  {
   "cell_type": "code",
   "execution_count": 2,
   "metadata": {
    "id": "1OGdgv9XVLel",
    "outputId": "cc0462fe-2789-4d02-c0e5-a04dde103d32"
   },
   "outputs": [
    {
     "name": "stdout",
     "output_type": "stream",
     "text": [
      "[1, 2, 3, 4, 5, 6, 7, 8, 9, 10, 11, 12, 13, 14, 15, 16, 17, 18, 19, 20, 21, 22, 23]\n",
      "listOdd:   [1, 3, 5, 7, 9, 11, 13, 15, 17, 19, 21, 23]\n"
     ]
    }
   ],
   "source": [
    "list1 = list(range(1, 24))\n",
    "print(list1)\n",
    "listOdd = []\n",
    "\n",
    "for num in list1:\n",
    "    if num%2 == 1:\n",
    "        listOdd.append(num) \n",
    "\n",
    "print(\"listOdd:  \", listOdd)"
   ]
  },
  {
   "cell_type": "markdown",
   "metadata": {
    "id": "xnt6bzAPVLes"
   },
   "source": [
    "2. Calculate the sum of the digits from the string:\n",
    "```'2347805673456'```"
   ]
  },
  {
   "cell_type": "code",
   "execution_count": 1,
   "metadata": {
    "id": "9BLy9tSyVLeu",
    "outputId": "b53b8c97-27a6-4bff-f6bb-8e1d63722c48"
   },
   "outputs": [
    {
     "data": {
      "text/plain": [
       "60"
      ]
     },
     "execution_count": 1,
     "metadata": {},
     "output_type": "execute_result"
    }
   ],
   "source": [
    "s = '2347805673456'\n",
    "sum([int(i) for i in s if i.isdigit()])\n",
    "# list comprehension"
   ]
  },
  {
   "cell_type": "code",
   "execution_count": 2,
   "metadata": {
    "colab": {
     "base_uri": "https://localhost:8080/",
     "height": 181
    },
    "executionInfo": {
     "elapsed": 989,
     "status": "error",
     "timestamp": 1584933911001,
     "user": {
      "displayName": "Jyoti Gupta",
      "photoUrl": "",
      "userId": "16785426337890807929"
     },
     "user_tz": -480
    },
    "id": "yzJi9SS4aIIn",
    "outputId": "d517b90e-feb1-41b9-c452-1482717e643e"
   },
   "outputs": [
    {
     "data": {
      "text/plain": [
       "60"
      ]
     },
     "execution_count": 2,
     "metadata": {},
     "output_type": "execute_result"
    }
   ],
   "source": [
    "# solution 2\n",
    "s = '2347805673456'\n",
    "sum([int(n) for n in s])"
   ]
  },
  {
   "cell_type": "markdown",
   "metadata": {
    "id": "WLAvrUuXVLez"
   },
   "source": [
    "3. Convert the string to a list and uppercase each word.\n",
    "```\n",
    "s = \"hello world and practice makes permanent and hello world again\"\n",
    "```"
   ]
  },
  {
   "cell_type": "code",
   "execution_count": 3,
   "metadata": {
    "id": "Hen9IisIVLe1",
    "outputId": "69ba6c07-028d-4ce3-87da-ab9abd306805"
   },
   "outputs": [
    {
     "data": {
      "text/plain": [
       "['HELLO',\n",
       " 'WORLD',\n",
       " 'AND',\n",
       " 'PRACTICE',\n",
       " 'MAKES',\n",
       " 'PERMANENT',\n",
       " 'AND',\n",
       " 'HELLO',\n",
       " 'WORLD',\n",
       " 'AGAIN']"
      ]
     },
     "execution_count": 3,
     "metadata": {},
     "output_type": "execute_result"
    }
   ],
   "source": [
    "s = \"hello world and practice makes permanent and hello world again\"\n",
    "s.upper().split()"
   ]
  },
  {
   "cell_type": "markdown",
   "metadata": {
    "id": "18mSA-a2VLe6"
   },
   "source": [
    "4. Get all the keys from the dictionary:\n",
    "```\n",
    "cars = {'cars':['bmw, tesla'], 'food':['mexican', 'sushi'], 'location': 'hong kong'}\n",
    "```"
   ]
  },
  {
   "cell_type": "code",
   "execution_count": 6,
   "metadata": {
    "id": "rgF7QKAAVLe7",
    "outputId": "6a501d80-7f5a-4679-f05c-1b883e0365d6"
   },
   "outputs": [
    {
     "data": {
      "text/plain": [
       "['cars', 'food', 'location']"
      ]
     },
     "execution_count": 6,
     "metadata": {},
     "output_type": "execute_result"
    }
   ],
   "source": [
    "cars = {'cars':['bmw, tesla'], 'food':['mexican', 'sushi'], 'location': 'hong kong'}\n",
    "list(cars.keys())"
   ]
  },
  {
   "cell_type": "markdown",
   "metadata": {
    "id": "_GbHH-8BVLfB"
   },
   "source": [
    "5. Combine the two lists together in the same sequence.\n",
    "\n",
    "```\n",
    "l1 = ['basketball', 'gym', 'football', 'cycling']\n",
    "l2 = ['apples', 'bread', 'oats', 'salmon']\n",
    "```"
   ]
  },
  {
   "cell_type": "code",
   "execution_count": 8,
   "metadata": {
    "id": "aaAZuqXUVLf-",
    "outputId": "b06c3446-90b5-48bd-d19a-e65df352e251"
   },
   "outputs": [
    {
     "data": {
      "text/plain": [
       "['basketball',\n",
       " 'gym',\n",
       " 'football',\n",
       " 'cycling',\n",
       " 'apples',\n",
       " 'bread',\n",
       " 'oats',\n",
       " 'salmon']"
      ]
     },
     "execution_count": 8,
     "metadata": {},
     "output_type": "execute_result"
    }
   ],
   "source": [
    "l1 = ['basketball', 'gym', 'football', 'cycling']\n",
    "l2 = ['apples', 'bread', 'oats', 'salmon']\n",
    "\n",
    "l3 = l1 + l2\n",
    "l3"
   ]
  },
  {
   "cell_type": "markdown",
   "metadata": {
    "id": "WtQdca8rVLgI"
   },
   "source": [
    "6. Take a string and calculate the number of letters and digits within it. Return the result in a dictionary."
   ]
  },
  {
   "cell_type": "code",
   "execution_count": 1,
   "metadata": {
    "id": "U-7EQS3NVLgJ",
    "outputId": "5e2893ee-b9b1-41c4-f29a-f4294cc84c23"
   },
   "outputs": [
    {
     "data": {
      "text/plain": [
       "{'LETTERS': 7, 'DIGITS': 3}"
      ]
     },
     "execution_count": 1,
     "metadata": {},
     "output_type": "execute_result"
    }
   ],
   "source": [
    "txt = \"H3ll0 Wor1d\"\n",
    "dict_1 = {'LETTERS': sum(1 for x in txt if x.isalpha()), 'DIGITS': sum(1 for x in txt if x.isnumeric())}\n",
    "dict_1"
   ]
  },
  {
   "cell_type": "markdown",
   "metadata": {
    "id": "R0fQZ10nVLgO"
   },
   "source": [
    "7. Given a dictionary containing the names and ages of a group of people, return the name of the oldest person."
   ]
  },
  {
   "cell_type": "code",
   "execution_count": 8,
   "metadata": {
    "id": "ZIPEnN_vVLgP",
    "outputId": "1cb92eee-b9e5-4f35-b85d-aa6fffac8f73"
   },
   "outputs": [
    {
     "data": {
      "text/plain": [
       "'Emma'"
      ]
     },
     "execution_count": 8,
     "metadata": {},
     "output_type": "execute_result"
    }
   ],
   "source": [
    "people = {\"Emma\": 71, \"Jack\": 45, \"Amy\": 15, \"Ben\": 29}\n",
    "max(people, key=people.get)"
   ]
  },
  {
   "cell_type": "markdown",
   "metadata": {
    "id": "JoTT_MmXVLgW"
   },
   "source": [
    "8. Given two strings, return the total number of unique characters from the combined string."
   ]
  },
  {
   "cell_type": "code",
   "execution_count": 5,
   "metadata": {
    "id": "7BsToH5gVLgX",
    "outputId": "4dc4f009-962c-4de1-97b1-e6c20cfa7565"
   },
   "outputs": [
    {
     "data": {
      "text/plain": [
       "5"
      ]
     },
     "execution_count": 5,
     "metadata": {},
     "output_type": "execute_result"
    }
   ],
   "source": [
    "s1 = \"apple\"\n",
    "s2 = \"play\"\n",
    "total_unique = len(set(s1 + s2))\n",
    "total_unique"
   ]
  },
  {
   "cell_type": "markdown",
   "metadata": {
    "id": "__uml6S3VLgg"
   },
   "source": [
    "9. You work for a manufacturer, and have been asked to calculate the total profit made on the sales of a product. You are given a dictionary containing the cost price per unit (in dollars), sell price per unit (in dollars), and the starting inventory. Return the total profit made, rounded to the nearest dollar. Assume all of the inventory has been sold.\n",
    "\n",
    "{\n",
    "  \"cost_price\": 32.67,\n",
    "  \"sell_price\": 45.00,\n",
    "  \"inventory\": 1200\n",
    "}"
   ]
  },
  {
   "cell_type": "code",
   "execution_count": 6,
   "metadata": {
    "id": "e9PSPYaWVLgj",
    "outputId": "3ca30bd0-1f12-4d5b-83e1-4fd55dffbd78"
   },
   "outputs": [
    {
     "data": {
      "text/plain": [
       "14796"
      ]
     },
     "execution_count": 6,
     "metadata": {},
     "output_type": "execute_result"
    }
   ],
   "source": [
    "info = {\"cost_price\": 32.67, \"sell_price\": 45.00, \"inventory\": 1200}\n",
    "\n",
    "round((info[\"inventory\"])*(info[\"sell_price\"] - info[\"cost_price\"]))"
   ]
  },
  {
   "cell_type": "markdown",
   "metadata": {
    "id": "P4VD3URjVLgr"
   },
   "source": [
    "10. Find the smallest number of letter removals so that two strings are anagrams of each other."
   ]
  },
  {
   "cell_type": "code",
   "execution_count": 7,
   "metadata": {
    "id": "eO7l2Rz0jcOw"
   },
   "outputs": [],
   "source": [
    "string1 = 'radar'\n",
    "string2 = 'rabdar'\n",
    "s1 = list(string1)\n",
    "s2 = list(string2)"
   ]
  },
  {
   "cell_type": "code",
   "execution_count": 12,
   "metadata": {
    "id": "WuYxx-uVjcO7",
    "outputId": "62f2b5ac-b8d7-4da2-a603-6da34c5931e3"
   },
   "outputs": [
    {
     "name": "stdout",
     "output_type": "stream",
     "text": [
      "1\n"
     ]
    }
   ],
   "source": [
    "# method 1\n",
    "count = 0\n",
    "for item in s2:\n",
    "    if item not in s1:\n",
    "        s2.remove(item)\n",
    "        count +=1\n",
    "print(count)"
   ]
  },
  {
   "cell_type": "code",
   "execution_count": 13,
   "metadata": {
    "id": "mZiebx1c50A5"
   },
   "outputs": [],
   "source": [
    "# method 2\n",
    "string1 = 'radar'\n",
    "string2 = 'rabdar'\n",
    "\n",
    "d={}\n",
    "for i in string1:\n",
    "    if i in d.keys():\n",
    "        d[i]=d[i]+1\n",
    "    else:\n",
    "        d[i]=1\n",
    "        \n",
    "for j in string2:\n",
    "    if j in d.keys():\n",
    "        d[j]=d[j]-1\n",
    "    else:\n",
    "        d[j]=1\n",
    "\n"
   ]
  },
  {
   "cell_type": "code",
   "execution_count": 14,
   "metadata": {},
   "outputs": [
    {
     "data": {
      "text/plain": [
       "1"
      ]
     },
     "execution_count": 14,
     "metadata": {},
     "output_type": "execute_result"
    }
   ],
   "source": [
    "sum(d.values())"
   ]
  }
 ],
 "metadata": {
  "colab": {
   "name": "DataStructureMethods-Exercise-3A-Solutions.ipynb",
   "provenance": []
  },
  "kernelspec": {
   "display_name": "base",
   "language": "python",
   "name": "python3"
  },
  "language_info": {
   "codemirror_mode": {
    "name": "ipython",
    "version": 3
   },
   "file_extension": ".py",
   "mimetype": "text/x-python",
   "name": "python",
   "nbconvert_exporter": "python",
   "pygments_lexer": "ipython3",
   "version": "3.9.12"
  },
  "toc": {
   "base_numbering": 1,
   "nav_menu": {},
   "number_sections": true,
   "sideBar": true,
   "skip_h1_title": false,
   "title_cell": "Table of Contents",
   "title_sidebar": "Contents",
   "toc_cell": false,
   "toc_position": {},
   "toc_section_display": true,
   "toc_window_display": false
  },
  "varInspector": {
   "cols": {
    "lenName": 16,
    "lenType": 16,
    "lenVar": 40
   },
   "kernels_config": {
    "python": {
     "delete_cmd_postfix": "",
     "delete_cmd_prefix": "del ",
     "library": "var_list.py",
     "varRefreshCmd": "print(var_dic_list())"
    },
    "r": {
     "delete_cmd_postfix": ") ",
     "delete_cmd_prefix": "rm(",
     "library": "var_list.r",
     "varRefreshCmd": "cat(var_dic_list()) "
    }
   },
   "types_to_exclude": [
    "module",
    "function",
    "builtin_function_or_method",
    "instance",
    "_Feature"
   ],
   "window_display": false
  }
 },
 "nbformat": 4,
 "nbformat_minor": 1
}
