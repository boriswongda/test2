{
  "cells": [
    {
      "cell_type": "markdown",
      "metadata": {
        "id": "P9aRb0p9_0RP"
      },
      "source": [
        "# Python Data Types & Containers Exercise 2B"
      ]
    },
    {
      "cell_type": "markdown",
      "metadata": {
        "id": "dPhgZHjB_0RR"
      },
      "source": [
        "1. Extend a list without append."
      ]
    },
    {
      "cell_type": "code",
      "execution_count": 2,
      "metadata": {
        "id": "1R6awE9DUUwD"
      },
      "outputs": [
        {
          "name": "stdout",
          "output_type": "stream",
          "text": [
            "[10, 20, 30, 40, 50, 60]\n"
          ]
        }
      ],
      "source": [
        "x = [10, 20, 30]\n",
        "y = [40, 50, 60]\n",
        "x[4:] =y\n",
        "print(x)"
      ]
    },
    {
      "cell_type": "markdown",
      "metadata": {
        "id": "JBgxfDs2_0RV"
      },
      "source": [
        "2. Write a program to clone or copy a list."
      ]
    },
    {
      "cell_type": "code",
      "execution_count": 3,
      "metadata": {
        "id": "CdUjmgAVUUwN"
      },
      "outputs": [
        {
          "name": "stdout",
          "output_type": "stream",
          "text": [
            "[10, 22, 44, 23, 4]\n",
            "[10, 22, 44, 23, 4]\n"
          ]
        }
      ],
      "source": [
        "original_list = [10, 22, 44, 23, 4]\n",
        "new_list = original_list.copy()\n",
        "# original_list = [10, 22, 44, 23, 4, 999]\n",
        "print(original_list)\n",
        "print(new_list)"
      ]
    },
    {
      "cell_type": "markdown",
      "metadata": {
        "id": "Qiqv6oXn_0RY"
      },
      "source": [
        "3. Shuffle and print a specified list."
      ]
    },
    {
      "cell_type": "code",
      "execution_count": 4,
      "metadata": {
        "id": "l6NC9x1MUUwS"
      },
      "outputs": [
        {
          "name": "stdout",
          "output_type": "stream",
          "text": [
            "['Black', 'White', 'Green', 'Yellow', 'Pink', 'Red']\n"
          ]
        }
      ],
      "source": [
        "from random import shuffle\n",
        "color = ['Red', 'Green', 'White', 'Black', 'Pink', 'Yellow']\n",
        "shuffle(color)\n",
        "print(color)"
      ]
    },
    {
      "cell_type": "markdown",
      "metadata": {
        "id": "ujc4S5jl_0Rb"
      },
      "source": [
        "4. Get the difference between the two lists.\n",
        "\n",
        "```\n",
        "eg.\n",
        "list1 = [1, 2, 3, 4]\n",
        "list2 = [1, 2]\n",
        "difference = [3, 4]\n",
        "```"
      ]
    },
    {
      "cell_type": "code",
      "execution_count": 15,
      "metadata": {
        "id": "U12gOFwCUUwW"
      },
      "outputs": [
        {
          "name": "stdout",
          "output_type": "stream",
          "text": [
            "[3, 4]\n",
            "[]\n",
            "[1, 2, 3, 4, 1, 2]\n",
            "{1, 2, 3, 4}\n",
            "<class 'set'>\n"
          ]
        }
      ],
      "source": [
        "list1 = [1, 2, 3, 4]\n",
        "list2 = [1, 2]\n",
        "print(list(set(list1) - set(list2)))\n",
        "print(list(set(list2) - set(list1)))\n",
        "print (list(list1+list2))\n",
        "print ((set (list(list1+list2))))\n",
        "print(type( (set (list(list1+list2)))))\n",
        "# print (list(list1-list2))\n",
        "# print (list(set(list1) + set(list2)))"
      ]
    },
    {
      "cell_type": "markdown",
      "metadata": {
        "id": "RC9LkzNb_0Rf"
      },
      "source": [
        "5. Append a list to the second list."
      ]
    },
    {
      "cell_type": "code",
      "execution_count": 17,
      "metadata": {
        "id": "o-bP-vnpUUwa"
      },
      "outputs": [
        {
          "name": "stdout",
          "output_type": "stream",
          "text": [
            "[1, 2, 3, 0, 'Red', 'Green', 'Black']\n",
            "['Red', 'Green', 'Black', [1, 2, 3, 0]]\n"
          ]
        }
      ],
      "source": [
        "list1 = [1, 2, 3, 0]\n",
        "list2 = ['Red', 'Green', 'Black']\n",
        "final_list = list1 + list2\n",
        "print(final_list)\n",
        "\n",
        "list2.append(list1)\n",
        "print(list2)"
      ]
    },
    {
      "cell_type": "markdown",
      "metadata": {
        "id": "ud54CsL3UUwc"
      },
      "source": [
        "6. Write a program to store student information in a dictionary. Accept the student’s name, age, and university name."
      ]
    },
    {
      "cell_type": "code",
      "execution_count": 18,
      "metadata": {
        "id": "AB9yFTuyUUwd"
      },
      "outputs": [
        {
          "data": {
            "text/plain": [
              "{'Name': 'a', 'Age': 34, 'University': 'au'}"
            ]
          },
          "execution_count": 18,
          "metadata": {},
          "output_type": "execute_result"
        }
      ],
      "source": [
        "student_name = input(\"Please enter your name: \")\n",
        "student_age = int(input(\"Please enter your age: \"))\n",
        "student_uni = input(\"Please enter your university: \")\n",
        "\n",
        "student_records = {'Name':student_name , 'Age':student_age , 'University':student_uni}\n",
        "student_records"
      ]
    },
    {
      "cell_type": "markdown",
      "metadata": {
        "id": "vuKiB9NxUUwf"
      },
      "source": [
        "7. Find common items from two lists."
      ]
    },
    {
      "cell_type": "code",
      "execution_count": 24,
      "metadata": {
        "id": "K5FW7LUJUUwg"
      },
      "outputs": [
        {
          "name": "stdout",
          "output_type": "stream",
          "text": [
            "{'White', 'Green'}\n",
            "['Red', 'Green', 'Orange', 'White', 'Black', 'Green', 'White', 'Pink']\n",
            "{'White', 'Black', 'Green', 'Orange', 'Red', 'Pink'}\n"
          ]
        }
      ],
      "source": [
        "color1 = [\"Red\", \"Green\", \"Orange\", \"White\"]\n",
        "color2 = [\"Black\", \"Green\", \"White\", \"Pink\"]\n",
        "print(set(color1) & set(color2))\n",
        "print(color1 + color2)\n",
        "print (set (color1+color2))\n"
      ]
    },
    {
      "cell_type": "markdown",
      "metadata": {
        "id": "bER1raw8UUwi"
      },
      "source": [
        "8. Select the odd items of a list."
      ]
    },
    {
      "cell_type": "code",
      "execution_count": 27,
      "metadata": {
        "id": "N2IPZvUmUUwj"
      },
      "outputs": [
        {
          "name": "stdout",
          "output_type": "stream",
          "text": [
            "[1, 3, 5, 7, 9]\n"
          ]
        }
      ],
      "source": [
        "x = [1, 2, 3, 4, 5, 6, 7, 8, 9]\n",
        "odd=[]\n",
        "for i in x:\n",
        "    if i%2==1:\n",
        "        odd.append(i)\n",
        "\n",
        "print(odd)\n"
      ]
    },
    {
      "cell_type": "markdown",
      "metadata": {
        "id": "v5Bb0fdPUUwl"
      },
      "source": [
        "9. Given the string \"It is a far, far better thing that I do, than I have ever done; it is a far, far better rest that I go to than I have ever known.\", create a new string \"thing rest\" from it."
      ]
    },
    {
      "cell_type": "code",
      "execution_count": 26,
      "metadata": {
        "id": "DOQajZSeUUwm"
      },
      "outputs": [
        {
          "data": {
            "text/plain": [
              "'thing rest'"
            ]
          },
          "execution_count": 26,
          "metadata": {},
          "output_type": "execute_result"
        }
      ],
      "source": [
        "s = \"It is a far, far better thing that I do, than I have ever done; it is a far, far better rest that I go to than I have ever known.\"\n",
        "s1 = s[24:29]\n",
        "s2 = s[88:92]\n",
        "s3 = s1 + \" \" + s2\n",
        "s3"
      ]
    },
    {
      "cell_type": "markdown",
      "metadata": {
        "id": "15aEquboUUwn"
      },
      "source": [
        "10. Find the list in a list of lists whose sum of elements is the highest.\n",
        "\n",
        "```\n",
        "eg.\n",
        "for the list [[2,3,4], [4,5,6], [10,11,12], [7,8,9]]\n",
        "the sublist [10,11,12] has the greatest sum of elements\n",
        "```"
      ]
    },
    {
      "cell_type": "code",
      "execution_count": 28,
      "metadata": {
        "id": "oUYIUsH0UUwo"
      },
      "outputs": [
        {
          "name": "stdout",
          "output_type": "stream",
          "text": [
            "[10, 11, 12]\n"
          ]
        }
      ],
      "source": [
        "num = [[1,2,3], [4,5,6], [10,11,12], [7,8,9]]\n",
        "print(max(num, key=sum))"
      ]
    }
  ],
  "metadata": {
    "colab": {
      "provenance": []
    },
    "kernelspec": {
      "display_name": "Python 3",
      "language": "python",
      "name": "python3"
    },
    "language_info": {
      "codemirror_mode": {
        "name": "ipython",
        "version": 3
      },
      "file_extension": ".py",
      "mimetype": "text/x-python",
      "name": "python",
      "nbconvert_exporter": "python",
      "pygments_lexer": "ipython3",
      "version": "3.11.9"
    }
  },
  "nbformat": 4,
  "nbformat_minor": 0
}
