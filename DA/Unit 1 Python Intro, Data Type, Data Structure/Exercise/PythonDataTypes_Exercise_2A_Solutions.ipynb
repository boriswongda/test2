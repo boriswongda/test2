{
  "cells": [
    {
      "cell_type": "markdown",
      "metadata": {
        "id": "P9aRb0p9_0RP"
      },
      "source": [
        "# Python Data Types & Containers Exercise 2A"
      ]
    },
    {
      "cell_type": "markdown",
      "metadata": {
        "id": "dPhgZHjB_0RR"
      },
      "source": [
        "1. Is the following list assignment correct? If not, explain why it isn't. If it is, print out _this_list_.\n",
        "```\n",
        "one = 'one'\n",
        "two = 2\n",
        "three = 3\n",
        "four = 'four'\n",
        "list_1 = [\"a\", 7]\n",
        "this_list = [one, 'two', 3, four, list_1]\n",
        "```"
      ]
    },
    {
      "cell_type": "code",
      "execution_count": 1,
      "metadata": {
        "colab": {
          "base_uri": "https://localhost:8080/"
        },
        "id": "LpaVhiKq_0RS",
        "outputId": "99cfb3f4-aca8-474d-8093-dafd5dc08c67"
      },
      "outputs": [
        {
          "name": "stdout",
          "output_type": "stream",
          "text": [
            "['one', 2, 3, 'four', ['a', 7]]\n"
          ]
        }
      ],
      "source": [
        "one = 'one'\n",
        "two = 2\n",
        "three = 3\n",
        "four = 'four'\n",
        "list_1 = [\"a\", 7]\n",
        "this_list = [one, two, three, four, list_1]\n",
        "print(this_list)"
      ]
    },
    {
      "cell_type": "markdown",
      "metadata": {
        "id": "JBgxfDs2_0RV"
      },
      "source": [
        "2. What is the set of the tuple ```(1,2,3,33,3,3,4,5)```?"
      ]
    },
    {
      "cell_type": "code",
      "execution_count": 8,
      "metadata": {
        "colab": {
          "base_uri": "https://localhost:8080/"
        },
        "id": "TR4Wa8M2_0RW",
        "outputId": "9e01abae-693a-4040-9e3f-b7dc3ef55aec"
      },
      "outputs": [
        {
          "data": {
            "text/plain": [
              "{1, 2, 3, 4, 5, 33}"
            ]
          },
          "execution_count": 8,
          "metadata": {},
          "output_type": "execute_result"
        }
      ],
      "source": [
        "t = (1,2,3,33,3,3,4,5)\n",
        "set(t)"
      ]
    },
    {
      "cell_type": "markdown",
      "metadata": {
        "id": "Qiqv6oXn_0RY"
      },
      "source": [
        "3. For the dictionary ```food_counts = {'eggs':6 , 'bacon':1 , 'sausages':4}```, add a new key in the dictionary called _milk_ with value 1."
      ]
    },
    {
      "cell_type": "code",
      "execution_count": 9,
      "metadata": {
        "id": "zNTZtFfK_0RZ",
        "outputId": "cb97ec1f-f96b-402f-a838-f119fbe254b4"
      },
      "outputs": [
        {
          "data": {
            "text/plain": [
              "{'eggs': 6, 'bacon': 1, 'sausages': 4, 'milk': 1}"
            ]
          },
          "execution_count": 9,
          "metadata": {},
          "output_type": "execute_result"
        }
      ],
      "source": [
        "food_counts = {'eggs':6 , 'bacon':1 , 'sausages':4}\n",
        "food_counts[\"milk\"] = 1\n",
        "food_counts"
      ]
    },
    {
      "cell_type": "markdown",
      "metadata": {
        "id": "ujc4S5jl_0Rb"
      },
      "source": [
        "4. For the string ```supercalifragilisticexpialidocious```, print out the string ```fragilistic``` using slicing."
      ]
    },
    {
      "cell_type": "code",
      "execution_count": 2,
      "metadata": {
        "id": "aKdeOAJK_0Rc",
        "outputId": "e9aa6c05-3eb1-4ea9-87fe-f479a7a88303"
      },
      "outputs": [
        {
          "data": {
            "text/plain": [
              "'fragilistic'"
            ]
          },
          "execution_count": 2,
          "metadata": {},
          "output_type": "execute_result"
        }
      ],
      "source": [
        "s = \"supercalifragilisticexpialidocious\"\n",
        "s[9:20]\n",
        "\n",
        "# if \"fragilistic\" in s:\n",
        "#     print(\"True\")"
      ]
    },
    {
      "cell_type": "markdown",
      "metadata": {
        "id": "RC9LkzNb_0Rf"
      },
      "source": [
        "5. Given the dictionary ```{1: ['this', 'is', ['a', 'list']], '2': {'a': 'nother', 'd':'ictionary', '3': [1,2,3,4,5]}, 'three': ['list',{2:'woah', 3: 'good job!'}]}```\n",
        "\n",
        "Return the string _'good job'_ through indexing."
      ]
    },
    {
      "cell_type": "code",
      "execution_count": 1,
      "metadata": {
        "id": "EncYJCuy6waL"
      },
      "outputs": [],
      "source": [
        "dict1 = {1: ['this', 'is', ['a', 'list']], '2': {'a': 'nother', 'd':'ictionary', '3': [1,2,3,4,5]}, 'three': ['list',{2:'woah', 3: 'good job!'}]}"
      ]
    },
    {
      "cell_type": "code",
      "execution_count": 2,
      "metadata": {
        "colab": {
          "base_uri": "https://localhost:8080/",
          "height": 35
        },
        "id": "DVHp7zD67CmI",
        "outputId": "e6069a3f-c7c8-4b18-e7ab-2cd1aa61db8a"
      },
      "outputs": [
        {
          "data": {
            "text/plain": [
              "'good job'"
            ]
          },
          "execution_count": 2,
          "metadata": {},
          "output_type": "execute_result"
        }
      ],
      "source": [
        "dict1['three'][1][3][:-1]"
      ]
    },
    {
      "cell_type": "markdown",
      "metadata": {
        "id": "uhtWxI_XHCtS"
      },
      "source": [
        "6. Print out the string ```reverse``` in reverse using slicing.\n",
        "```\n",
        "Desired output:\n",
        "esrever\n",
        "```"
      ]
    },
    {
      "cell_type": "code",
      "execution_count": 3,
      "metadata": {
        "colab": {
          "base_uri": "https://localhost:8080/"
        },
        "id": "lgflog7xHCuJ",
        "outputId": "7d8bb016-4482-4fe4-858e-9750b4fbf9bb"
      },
      "outputs": [
        {
          "data": {
            "text/plain": [
              "'esrever'"
            ]
          },
          "execution_count": 3,
          "metadata": {},
          "output_type": "execute_result"
        }
      ],
      "source": [
        "'reverse'[::-1]"
      ]
    },
    {
      "cell_type": "markdown",
      "metadata": {},
      "source": [
        "7. Return the total number of lists inside a given list.\n",
        "\n",
        "```\n",
        "eg.\n",
        "for [[1, 2, 3], [1, 2, 3], [1, 2, 3], [1, 2, 3]] there are 4 sub-lists inside the list\n",
        "```"
      ]
    },
    {
      "cell_type": "code",
      "execution_count": 4,
      "metadata": {},
      "outputs": [
        {
          "data": {
            "text/plain": [
              "4"
            ]
          },
          "execution_count": 4,
          "metadata": {},
          "output_type": "execute_result"
        }
      ],
      "source": [
        "len([[1, 2, 3], [1, 2, 3], [1, 2, 3], [1, 2, 3]])"
      ]
    },
    {
      "cell_type": "markdown",
      "metadata": {
        "id": "3H5qgmGJHCud"
      },
      "source": [
        "8. Return the indices of all occurrences of an item in the list.\n",
        "\n",
        "```\n",
        "eg.\n",
        "For the list [1, 5, 2, 7, 5], if we are trying to find all of the occurrences of 5, their indices are 1 and 4\n",
        "```"
      ]
    },
    {
      "cell_type": "code",
      "execution_count": null,
      "metadata": {
        "colab": {
          "base_uri": "https://localhost:8080/"
        },
        "id": "mJ_lMSy4SiwU",
        "outputId": "1cd43c00-3707-4a51-d1b5-89cdac345b87"
      },
      "outputs": [
        {
          "name": "stdout",
          "output_type": "stream",
          "text": [
            "1\n",
            "4\n"
          ]
        }
      ],
      "source": [
        "lst = [1, 5, 2, 7, 5]\n",
        "el = 5\n",
        "\n",
        "index=0\n",
        "for no in lst:\n",
        "    if no==el:\n",
        "        print(index)\n",
        "    index +=1"
      ]
    },
    {
      "cell_type": "code",
      "execution_count": 6,
      "metadata": {
        "colab": {
          "base_uri": "https://localhost:8080/"
        },
        "id": "wE6iRvUzHCug",
        "outputId": "a12c886a-d7b4-4080-ccbc-f015984eae79"
      },
      "outputs": [
        {
          "name": "stdout",
          "output_type": "stream",
          "text": [
            "[1, 4]\n"
          ]
        },
        {
          "data": {
            "text/plain": [
              "[1, 4]"
            ]
          },
          "execution_count": 6,
          "metadata": {},
          "output_type": "execute_result"
        }
      ],
      "source": [
        "# method 2\n",
        "lst = [1, 5, 2, 7, 5]\n",
        "el = 5\n",
        "\n",
        "mylist=[]\n",
        "for i in range(len(lst)):\n",
        "    if lst[i] == el:\n",
        "        mylist.append(i)\n",
        "\n",
        "print(mylist)\n",
        "\n",
        "# method 2 list comprehension\n",
        "[i for i in range(len(lst)) if lst[i] == el]"
      ]
    },
    {
      "cell_type": "markdown",
      "metadata": {
        "id": "tYoIpKtAHCvG"
      },
      "source": [
        "9. Take a dictionary and return the keys and values as separate lists."
      ]
    },
    {
      "cell_type": "code",
      "execution_count": 1,
      "metadata": {
        "colab": {
          "base_uri": "https://localhost:8080/"
        },
        "id": "qeFPHQVHTBYV",
        "outputId": "5a2096d3-7444-428f-9979-01e2e3e592fd"
      },
      "outputs": [
        {
          "name": "stdout",
          "output_type": "stream",
          "text": [
            "['a', 'c', 'b'] ['Apple', 'Microsoft', 'Google']\n"
          ]
        }
      ],
      "source": [
        "d = {\"a\": \"Apple\", \"c\": \"Microsoft\", \"b\": \"Google\" }\n",
        "print(list(d.keys()),list(d.values()))"
      ]
    },
    {
      "cell_type": "code",
      "execution_count": 7,
      "metadata": {
        "colab": {
          "base_uri": "https://localhost:8080/"
        },
        "id": "AX9u7RlXHCvK",
        "outputId": "6f5702c2-4e3d-4af7-c6e5-0551b4224921"
      },
      "outputs": [
        {
          "data": {
            "text/plain": [
              "[['a', 'b', 'c'], ['Apple', 'Google', 'Microsoft']]"
            ]
          },
          "execution_count": 7,
          "metadata": {},
          "output_type": "execute_result"
        }
      ],
      "source": [
        "# method 2\n",
        "\n",
        "d = {\"a\": \"Apple\", \"c\": \"Microsoft\", \"b\": \"Google\" }\n",
        "list(zip(*sorted(d.items())))\n",
        "\n",
        "\n",
        "# method 3\n",
        "list(map(list, zip(*sorted(d.items()))))"
      ]
    },
    {
      "cell_type": "code",
      "execution_count": 5,
      "metadata": {
        "colab": {
          "base_uri": "https://localhost:8080/"
        },
        "id": "Ir23CQ2VXL23",
        "outputId": "70d51b98-42ad-47d7-f092-2b80cc5aa789"
      },
      "outputs": [
        {
          "name": "stdout",
          "output_type": "stream",
          "text": [
            "[('a', 'Apple'), ('b', 'Google'), ('c', 'Microsoft')]\n",
            "[(0, 'a'), (1, 'c'), (2, 'b')]\n"
          ]
        }
      ],
      "source": [
        "# extra info - using sorted and enumerate\n",
        "d = {\"a\": \"Apple\", \"c\": \"Microsoft\", \"b\": \"Google\"}\n",
        "print(sorted(d.items()))\n",
        "print([(i,v) for (i,v)  in enumerate(d)])"
      ]
    },
    {
      "cell_type": "markdown",
      "metadata": {
        "id": "FFu4IdBRHCv7"
      },
      "source": [
        "10. Take an integer and output an n x n square solely consisting of the integer n.\n",
        "\n",
        "```\n",
        "eg.\n",
        "For n = 3,\n",
        "the output should be\n",
        "\n",
        "3, 3, 3\n",
        "3, 3, 3\n",
        "3, 3, 3\n",
        "```"
      ]
    },
    {
      "cell_type": "code",
      "execution_count": 8,
      "metadata": {
        "colab": {
          "base_uri": "https://localhost:8080/"
        },
        "id": "J1Axh66WTySX",
        "outputId": "505bea73-b8c3-4833-8118-67a6f959109b"
      },
      "outputs": [
        {
          "name": "stdout",
          "output_type": "stream",
          "text": [
            "3, 3, 3\n",
            "3, 3, 3\n",
            "3, 3, 3\n"
          ]
        }
      ],
      "source": [
        "# method 1\n",
        "n=3\n",
        "print(f\"{n}, {n}, {n}\")\n",
        "print(f\"{n}, {n}, {n}\")\n",
        "print(f\"{n}, {n}, {n}\")"
      ]
    },
    {
      "cell_type": "code",
      "execution_count": 24,
      "metadata": {
        "colab": {
          "base_uri": "https://localhost:8080/",
          "height": 102
        },
        "id": "1XD-wR-cUdq_",
        "outputId": "708be641-f8ab-4995-8e4f-5d0d93312913"
      },
      "outputs": [
        {
          "data": {
            "text/plain": [
              "[[5, 5, 5, 5, 5],\n",
              " [5, 5, 5, 5, 5],\n",
              " [5, 5, 5, 5, 5],\n",
              " [5, 5, 5, 5, 5],\n",
              " [5, 5, 5, 5, 5]]"
            ]
          },
          "execution_count": 24,
          "metadata": {},
          "output_type": "execute_result"
        }
      ],
      "source": [
        "# method 2\n",
        "lst = []\n",
        "def square(n):\n",
        "    for i in range(n):\n",
        "        lst2 = []\n",
        "    for j in range(n):\n",
        "        lst2.append(n)\n",
        "        lst.append(lst2)\n",
        "    return lst\n",
        "\n",
        "\n",
        "square(5)"
      ]
    },
    {
      "cell_type": "code",
      "execution_count": null,
      "metadata": {
        "id": "AQc3EF3wHCwI",
        "outputId": "b5baab40-58a9-498e-89aa-40edf775a019"
      },
      "outputs": [
        {
          "data": {
            "text/plain": [
              "[[5, 5, 5, 5, 5],\n",
              " [5, 5, 5, 5, 5],\n",
              " [5, 5, 5, 5, 5],\n",
              " [5, 5, 5, 5, 5],\n",
              " [5, 5, 5, 5, 5]]"
            ]
          },
          "execution_count": 25,
          "metadata": {},
          "output_type": "execute_result"
        }
      ],
      "source": [
        "# method 3\n",
        "n = 5\n",
        "[[n]*n]*n"
      ]
    },
    {
      "cell_type": "markdown",
      "metadata": {},
      "source": [
        "11. Given a phrase, return False if any individual word in the phrase contains duplicate letters. Return True otherwise."
      ]
    },
    {
      "cell_type": "code",
      "execution_count": 9,
      "metadata": {},
      "outputs": [
        {
          "name": "stdout",
          "output_type": "stream",
          "text": [
            "eee\n",
            "False\n",
            "fff\n",
            "False\n"
          ]
        }
      ],
      "source": [
        "phrase = 'abcd eee fff'\n",
        "words = phrase.split()\n",
        "for word in words:\n",
        "    if len(set(word))!=len(word):\n",
        "        print(word)\n",
        "        print('False')"
      ]
    },
    {
      "cell_type": "markdown",
      "metadata": {
        "id": "eykv7ff2HCwj"
      },
      "source": [
        "12. Given a list of sentences, print the length (including punctuation) of each sentence.\n",
        "\n",
        "```\n",
        "eg.\n",
        "['Hello, my name is Bob.', 'I am 24 years old.', 'I live in Hong Kong.']\n",
        "\n",
        "Desired output:\n",
        "22\n",
        "18\n",
        "20\n",
        "```"
      ]
    },
    {
      "cell_type": "code",
      "execution_count": 26,
      "metadata": {
        "id": "SWLtxCr6WVys",
        "outputId": "c3a0114d-41b1-4be1-f3e2-1e5baa50c9ba"
      },
      "outputs": [
        {
          "name": "stdout",
          "output_type": "stream",
          "text": [
            "22\n",
            "18\n",
            "20\n"
          ]
        }
      ],
      "source": [
        "sentence_list = ['Hello, my name is Bob.', 'I am 24 years old.', 'I live in Hong Kong.']\n",
        "\n",
        "for i in sentence_list:\n",
        "    print(len(i))"
      ]
    }
  ],
  "metadata": {
    "colab": {
      "provenance": []
    },
    "kernelspec": {
      "display_name": "base",
      "language": "python",
      "name": "python3"
    },
    "language_info": {
      "codemirror_mode": {
        "name": "ipython",
        "version": 3
      },
      "file_extension": ".py",
      "mimetype": "text/x-python",
      "name": "python",
      "nbconvert_exporter": "python",
      "pygments_lexer": "ipython3",
      "version": "3.9.12"
    }
  },
  "nbformat": 4,
  "nbformat_minor": 0
}
