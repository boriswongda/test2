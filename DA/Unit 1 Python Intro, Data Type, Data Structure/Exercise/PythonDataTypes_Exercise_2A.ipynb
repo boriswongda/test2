{
  "cells": [
    {
      "cell_type": "markdown",
      "metadata": {
        "id": "P9aRb0p9_0RP"
      },
      "source": [
        "# Python Data Types & Containers Exercise 2A (Compulsory)"
      ]
    },
    {
      "cell_type": "markdown",
      "metadata": {
        "id": "dPhgZHjB_0RR"
      },
      "source": [
        "1. Is the following list assignment correct? If not, explain why it isn't. If it is, print out _this_list_.\n",
        "```\n",
        "one = 'one'\n",
        "two = 2\n",
        "three = 3\n",
        "four = 'four'\n",
        "list_1 = [\"a\", 7]\n",
        "this_list = [one, 'two', 3, four, list_1]\n",
        "```"
      ]
    },
    {
      "cell_type": "code",
      "execution_count": 6,
      "metadata": {
        "id": "gPj8yW1JQQa-",
        "outputId": "3e99a43d-1409-41cd-aa49-daad33d425e3"
      },
      "outputs": [
        {
          "name": "stdout",
          "output_type": "stream",
          "text": [
            "['one', 'two', 3, 'four', ['a', 7]]\n",
            "one\n",
            "['one', 2, 3, 'four', ['a', 7]]\n"
          ]
        }
      ],
      "source": [
        "one = 'one'\n",
        "two = 2\n",
        "three = 3\n",
        "four = 'four'\n",
        "list_1 = [\"a\", 7]\n",
        "this_list = [one, 'two', 3, four, list_1]\n",
        "this_list1 = [one, two, three, four, list_1]\n",
        "this_list\n",
        "print (this_list)\n",
        "print (this_list[0])\n",
        "print (this_list1)"
      ]
    },
    {
      "cell_type": "markdown",
      "metadata": {
        "id": "JBgxfDs2_0RV"
      },
      "source": [
        "2. What is the set of the tuple ```(1,2,3,33,3,3,4,5)```?"
      ]
    },
    {
      "cell_type": "code",
      "execution_count": 3,
      "metadata": {
        "id": "f7FTRUFFQQbH",
        "outputId": "9c58de65-49e2-4d80-fa92-4120b2dcbaf5"
      },
      "outputs": [
        {
          "data": {
            "text/plain": [
              "{1, 2, 3, 4, 5, 33}"
            ]
          },
          "execution_count": 3,
          "metadata": {},
          "output_type": "execute_result"
        }
      ],
      "source": [
        "tup = (1,2,3,33,3,3,4,5)\n",
        "set(tup)\n"
      ]
    },
    {
      "cell_type": "markdown",
      "metadata": {
        "id": "Qiqv6oXn_0RY"
      },
      "source": [
        "3. For the dictionary ```food_counts = {'eggs':6 , 'bacon':1 , 'sausages':4}```, add a new key in the dictionary called _milk_ with value 1."
      ]
    },
    {
      "cell_type": "code",
      "execution_count": 4,
      "metadata": {
        "id": "7glH7UFjQQbM",
        "outputId": "a382f9a8-da2b-4e2f-f2a5-89f18e686184"
      },
      "outputs": [
        {
          "data": {
            "text/plain": [
              "{'eggs': 6, 'bacon': 1, 'sausages': 4, 'milk': 1}"
            ]
          },
          "execution_count": 4,
          "metadata": {},
          "output_type": "execute_result"
        }
      ],
      "source": [
        "food_counts = {'eggs':6 , 'bacon':1 , 'sausages':4}\n",
        "food_counts ['milk'] = 1\n",
        "food_counts"
      ]
    },
    {
      "cell_type": "markdown",
      "metadata": {
        "id": "ujc4S5jl_0Rb"
      },
      "source": [
        "4. For the string ```supercalifragilisticexpialidocious```, print out the string ```fragilistic``` using slicing."
      ]
    },
    {
      "cell_type": "code",
      "execution_count": 7,
      "metadata": {
        "id": "sEJU4jJNQQbQ",
        "outputId": "41f27eb8-89bc-47a5-8b52-f0d5f1d43fdf"
      },
      "outputs": [
        {
          "data": {
            "text/plain": [
              "'fragilistic'"
            ]
          },
          "execution_count": 7,
          "metadata": {},
          "output_type": "execute_result"
        }
      ],
      "source": [
        "s=\"supercalifragilisticexpialidocious\"\n",
        "s[9:20]"
      ]
    },
    {
      "cell_type": "markdown",
      "metadata": {
        "id": "RC9LkzNb_0Rf"
      },
      "source": [
        "5. Given the dictionary ```{1: ['this', 'is', ['a', 'list']], '2': {'a': 'nother', 'd':'ictionary', '3': [1,2,3,4,5]}, 'three': ['list',{2:'woah', 3: 'good job!'}]}```\n",
        "\n",
        "Return the string _'good job'_ through indexing."
      ]
    },
    {
      "cell_type": "code",
      "execution_count": 30,
      "metadata": {
        "id": "u2mSgxvPQQbT"
      },
      "outputs": [
        {
          "data": {
            "text/plain": [
              "'good job'"
            ]
          },
          "execution_count": 30,
          "metadata": {},
          "output_type": "execute_result"
        }
      ],
      "source": [
        "string1 = {'1': ['this', 'is', ['a', 'list']], '2': {'a': 'nother', 'd':'ictionary', '3': [1,2,3,4,5]}, 'three': ['list',{2:'woah', 3: 'good job!'}]}\n",
        "string1['three'][1][3][:-1]"
      ]
    },
    {
      "cell_type": "markdown",
      "metadata": {},
      "source": [
        "6. Print out the string ```reverse``` in reverse using slicing.\n",
        "```\n",
        "Desired output:\n",
        "esrever\n",
        "```"
      ]
    },
    {
      "cell_type": "code",
      "execution_count": 31,
      "metadata": {
        "id": "v6NJ9ayemsxZ"
      },
      "outputs": [
        {
          "data": {
            "text/plain": [
              "'esrever'"
            ]
          },
          "execution_count": 31,
          "metadata": {},
          "output_type": "execute_result"
        }
      ],
      "source": [
        "s_re = \"reverse\"\n",
        "s_re[::-1]"
      ]
    },
    {
      "cell_type": "markdown",
      "metadata": {
        "id": "d66BpJcoQQbV"
      },
      "source": [
        "7. Return the total number of lists inside a given list.\n",
        "\n",
        "```\n",
        "eg.\n",
        "for [[1, 2, 3], [1, 2, 3], [1, 2, 3], [1, 2, 3]] there are 4 sub-lists inside the list\n",
        "```"
      ]
    },
    {
      "cell_type": "code",
      "execution_count": 32,
      "metadata": {
        "id": "hsTzriUNSEEM"
      },
      "outputs": [
        {
          "data": {
            "text/plain": [
              "4"
            ]
          },
          "execution_count": 32,
          "metadata": {},
          "output_type": "execute_result"
        }
      ],
      "source": [
        "lista=[[1, 2, 3], [1, 2, 3], [1, 2, 3], [1, 2, 3]]\n",
        "len(lista)"
      ]
    },
    {
      "cell_type": "markdown",
      "metadata": {
        "id": "E-hp62GsQQbY"
      },
      "source": [
        "8. Return the indices of all occurrences of an item in the list.\n",
        "\n",
        "```\n",
        "eg.\n",
        "For the list [1, 5, 2, 7, 5], if we are trying to find all of the occurrences of 5, their indices are 1 and 4\n",
        "```"
      ]
    },
    {
      "cell_type": "code",
      "execution_count": 41,
      "metadata": {
        "id": "_31PsPfJQQbZ",
        "outputId": "d76d3193-e616-4ddf-d717-87e2e7444d81"
      },
      "outputs": [
        {
          "name": "stdout",
          "output_type": "stream",
          "text": [
            "1\n",
            "1\n",
            "1\n",
            "1\n",
            "1\n"
          ]
        }
      ],
      "source": [
        "listb=[1, 5, 2, 7, 5]\n",
        "for i in listb:\n",
        "    print (listb.index(5, 0, 4))"
      ]
    },
    {
      "cell_type": "markdown",
      "metadata": {
        "id": "pZyFoW3tQQbb"
      },
      "source": [
        "9. Take a dictionary and return the keys and values as separate lists."
      ]
    },
    {
      "cell_type": "code",
      "execution_count": 54,
      "metadata": {
        "id": "X5NalJZfQQbb"
      },
      "outputs": [
        {
          "name": "stdout",
          "output_type": "stream",
          "text": [
            "[dict_keys(['eggs', 'bacon', 'sausages', 'milk'])]\n",
            "[dict_values([6, 1, 4, 1])]\n",
            "['eggs', 'bacon', 'sausages', 'milk', 6, 1, 4, 1]\n",
            "['eggs', 'bacon', 'sausages', 'milk'] [6, 1, 4, 1]\n",
            "['eggs', 'bacon', 'sausages', 'milk']\n",
            "[6, 1, 4, 1]\n"
          ]
        }
      ],
      "source": [
        "dic_key_list = [food_counts.keys()]\n",
        "dic_val_list = [food_counts.values()]\n",
        "print (dic_key_list)\n",
        "print (dic_val_list)\n",
        "\n",
        "print (list(food_counts.keys()) + list(food_counts.values()))\n",
        "print (list(food_counts.keys()) , list(food_counts.values()))\n",
        "\n",
        "dic_key_list_b = list(food_counts.keys())\n",
        "dic_val_list_b = list(food_counts.values())\n",
        "print (dic_key_list_b)\n",
        "print (dic_val_list_b)"
      ]
    },
    {
      "cell_type": "markdown",
      "metadata": {
        "id": "pZEKdEcWQQbd"
      },
      "source": [
        "10. Take an integer and output an n x n square solely consisting of the integer n.\n",
        "\n",
        "```\n",
        "eg.\n",
        "For n = 3,\n",
        "the output should be\n",
        "\n",
        "3, 3, 3\n",
        "3, 3, 3\n",
        "3, 3, 3\n",
        "```"
      ]
    },
    {
      "cell_type": "code",
      "execution_count": 58,
      "metadata": {
        "id": "fVCbl_A5QQbe"
      },
      "outputs": [
        {
          "name": "stdout",
          "output_type": "stream",
          "text": [
            "2, 2, 2, 2, "
          ]
        }
      ],
      "source": [
        "n=input()\n",
        "for i in range (int(n)):\n",
        "    for j in range (int(n)):\n",
        "        print (n+\", \", end=\"\")"
      ]
    },
    {
      "cell_type": "markdown",
      "metadata": {
        "id": "rCEm2wyQQQbg"
      },
      "source": [
        "11. Given a phrase, return False if any individual word in the phrase contains duplicate letters. Return True otherwise."
      ]
    },
    {
      "cell_type": "code",
      "execution_count": 6,
      "metadata": {
        "id": "Q5UIbO7uQQbg"
      },
      "outputs": [],
      "source": []
    },
    {
      "cell_type": "markdown",
      "metadata": {},
      "source": [
        "12. Given a list of sentences, print the length (including punctuation) of each sentence.\n",
        "\n",
        "```\n",
        "eg.\n",
        "['Hello, my name is Bob.', 'I am 24 years old.', 'I live in Hong Kong.']\n",
        "\n",
        "Desired output:\n",
        "22\n",
        "18\n",
        "20\n",
        "```"
      ]
    },
    {
      "cell_type": "code",
      "execution_count": null,
      "metadata": {},
      "outputs": [],
      "source": []
    }
  ],
  "metadata": {
    "colab": {
      "provenance": []
    },
    "kernelspec": {
      "display_name": "Python 3",
      "language": "python",
      "name": "python3"
    },
    "language_info": {
      "codemirror_mode": {
        "name": "ipython",
        "version": 3
      },
      "file_extension": ".py",
      "mimetype": "text/x-python",
      "name": "python",
      "nbconvert_exporter": "python",
      "pygments_lexer": "ipython3",
      "version": "3.11.9"
    }
  },
  "nbformat": 4,
  "nbformat_minor": 0
}
