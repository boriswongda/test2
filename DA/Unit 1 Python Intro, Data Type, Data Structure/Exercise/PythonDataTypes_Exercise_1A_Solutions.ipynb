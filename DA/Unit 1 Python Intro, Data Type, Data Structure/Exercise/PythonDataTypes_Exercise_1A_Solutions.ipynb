{
  "cells": [
    {
      "cell_type": "markdown",
      "metadata": {
        "id": "IAiRZAB6NXQI"
      },
      "source": [
        "# Python Data Types & Containers Exercise 1A"
      ]
    },
    {
      "cell_type": "markdown",
      "metadata": {
        "id": "5N4sNUMvNXQN"
      },
      "source": [
        "1. Assign _True_ values to variables a and b. What is the result of $a+b$?"
      ]
    },
    {
      "cell_type": "code",
      "execution_count": 9,
      "metadata": {
        "colab": {
          "base_uri": "https://localhost:8080/"
        },
        "id": "B4OP3lW4NXQP",
        "outputId": "fa00dc27-bb71-496c-e927-6ab53ed612f5"
      },
      "outputs": [
        {
          "name": "stdout",
          "output_type": "stream",
          "text": [
            "2\n"
          ]
        }
      ],
      "source": [
        "a = True\n",
        "b = True\n",
        "print(a + b)"
      ]
    },
    {
      "cell_type": "markdown",
      "metadata": {
        "id": "CRGeN1r4NXQX"
      },
      "source": [
        "2. Type a string that has this as its result after printing:\n",
        "\n",
        "```\n",
        "*\n",
        "* *\n",
        "* * *\n",
        "* * * *\n",
        "```"
      ]
    },
    {
      "cell_type": "code",
      "execution_count": 1,
      "metadata": {
        "colab": {
          "base_uri": "https://localhost:8080/",
          "height": 85
        },
        "id": "pGgWPDelNXQZ",
        "outputId": "2f698d0c-1182-4f65-f488-7679b533f3a0"
      },
      "outputs": [
        {
          "name": "stdout",
          "output_type": "stream",
          "text": [
            "*\n",
            "* *\n",
            "* * *\n",
            "* * * *\n"
          ]
        }
      ],
      "source": [
        "s = \"*\\n* *\\n* * *\\n* * * *\"\n",
        "print(s)"
      ]
    },
    {
      "cell_type": "markdown",
      "metadata": {
        "id": "v3aSwr9MNXQd"
      },
      "source": [
        "3. Given:\n",
        "```\n",
        "a = 10\n",
        "b = 15.0\n",
        "```\n",
        "What is the data type of $a+b$?"
      ]
    },
    {
      "cell_type": "code",
      "execution_count": null,
      "metadata": {
        "id": "x0chgkptNXQe",
        "outputId": "04d0ec4c-bb0b-446a-f61b-f7c6bc988665"
      },
      "outputs": [
        {
          "data": {
            "text/plain": [
              "float"
            ]
          },
          "execution_count": 3,
          "metadata": {
            "tags": []
          },
          "output_type": "execute_result"
        }
      ],
      "source": [
        "a = 10\n",
        "b = 15.0\n",
        "c = a + b\n",
        "print(type(c))"
      ]
    },
    {
      "cell_type": "markdown",
      "metadata": {
        "id": "arOY5l2CNXQi"
      },
      "source": [
        "4. Is ```this-variable = 0``` a correct variable assignment? If not, explain why it isn't. If it is, print out _this-variable_."
      ]
    },
    {
      "cell_type": "code",
      "execution_count": 5,
      "metadata": {
        "id": "oE_txuDZNXQj",
        "outputId": "914cddaf-1566-43b4-eaef-46c3fb5c4b54"
      },
      "outputs": [
        {
          "name": "stdout",
          "output_type": "stream",
          "text": [
            "0\n"
          ]
        }
      ],
      "source": [
        "this_variable = 0\n",
        "print(this_variable)"
      ]
    },
    {
      "cell_type": "markdown",
      "metadata": {
        "id": "5BNn1ttUNXQm"
      },
      "source": [
        "5. Create a user input of an integer and change the data type to float."
      ]
    },
    {
      "cell_type": "code",
      "execution_count": 1,
      "metadata": {
        "colab": {
          "base_uri": "https://localhost:8080/",
          "height": 51
        },
        "id": "6A3oSyMqNXQm",
        "outputId": "5ab71bb5-3c71-4774-b273-61ded5f2934c"
      },
      "outputs": [
        {
          "name": "stdout",
          "output_type": "stream",
          "text": [
            "<class 'int'>\n",
            "<class 'float'>\n"
          ]
        }
      ],
      "source": [
        "user_input = int(input())\n",
        "print(type(user_input))\n",
        "user_input = float(user_input)\n",
        "print(type(user_input))"
      ]
    },
    {
      "cell_type": "markdown",
      "metadata": {
        "id": "NJjUzA5gNXQp"
      },
      "source": [
        "6. Convert a user input of hours into seconds."
      ]
    },
    {
      "cell_type": "code",
      "execution_count": 2,
      "metadata": {
        "id": "gcuNI6uANXQq"
      },
      "outputs": [
        {
          "name": "stdout",
          "output_type": "stream",
          "text": [
            "7200\n"
          ]
        }
      ],
      "source": [
        "hours = int(input(\"input the time in hours\"))\n",
        "seconds = hours * 60 * 60\n",
        "print(seconds)"
      ]
    },
    {
      "cell_type": "markdown",
      "metadata": {
        "id": "6EVyctOANXQv"
      },
      "source": [
        "7. Given two numbers, return True if the sum of both numbers is less than 100. Otherwise return False."
      ]
    },
    {
      "cell_type": "code",
      "execution_count": 4,
      "metadata": {
        "id": "KoEmGiVaNXQw",
        "outputId": "0fcb7867-9bff-4e49-a76c-29f3a10d97e7"
      },
      "outputs": [
        {
          "data": {
            "text/plain": [
              "True"
            ]
          },
          "execution_count": 4,
          "metadata": {},
          "output_type": "execute_result"
        }
      ],
      "source": [
        "a = 50\n",
        "b = 25\n",
        "a + b < 100"
      ]
    },
    {
      "cell_type": "markdown",
      "metadata": {
        "id": "IfdZoWUoNXQ2"
      },
      "source": [
        "8. Given that a pizza has dimensions 15cm in radius and a height of 2cm, what is its total volume?"
      ]
    },
    {
      "cell_type": "code",
      "execution_count": 4,
      "metadata": {
        "colab": {
          "base_uri": "https://localhost:8080/"
        },
        "id": "RqeqBUA2NXQ2",
        "outputId": "0b76e597-ccc7-456f-d892-dfd6f1ba1301"
      },
      "outputs": [
        {
          "name": "stdout",
          "output_type": "stream",
          "text": [
            "1413.7166941154069\n"
          ]
        }
      ],
      "source": [
        "import math\n",
        "\n",
        "radius = 15\n",
        "height = 2\n",
        "volume = radius ** 2 * height * math.pi\n",
        "print(volume)"
      ]
    }
  ],
  "metadata": {
    "colab": {
      "provenance": []
    },
    "kernelspec": {
      "display_name": "Python 3",
      "language": "python",
      "name": "python3"
    },
    "language_info": {
      "codemirror_mode": {
        "name": "ipython",
        "version": 3
      },
      "file_extension": ".py",
      "mimetype": "text/x-python",
      "name": "python",
      "nbconvert_exporter": "python",
      "pygments_lexer": "ipython3",
      "version": "3.9.12"
    }
  },
  "nbformat": 4,
  "nbformat_minor": 0
}
