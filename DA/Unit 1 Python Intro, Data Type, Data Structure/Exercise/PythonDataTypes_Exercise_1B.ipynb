{
  "cells": [
    {
      "cell_type": "markdown",
      "metadata": {
        "id": "hoSPPb3HMhW7"
      },
      "source": [
        "# Python Data Types & Containers Exercise 1B"
      ]
    },
    {
      "cell_type": "markdown",
      "metadata": {
        "id": "nbDZufp5MhW_"
      },
      "source": [
        "1. Write a program to test whether a number is within 1000 of 10000 or 30000\n",
        "\n",
        "```\n",
        "eg.\n",
        "9500 is within 1000 of 10000, as the difference of 9500 and 10000 is less than 1000\n",
        "likewise 30600 is within 1000 of 30000, as the difference of 30600 and 30000 is less than 1000\n",
        "```"
      ]
    },
    {
      "cell_type": "code",
      "execution_count": null,
      "metadata": {
        "id": "SLoLYtejMhXB"
      },
      "outputs": [
        {
          "name": "stdout",
          "output_type": "stream",
          "text": [
            "True\n"
          ]
        }
      ],
      "source": [
        "n = 30500\n",
        "print(((abs(10000 - n) <= 1000) or (abs(30000 - n) <= 1000)))\n",
        "\n",
        "# abs means absolute value, i.e. ignoring positive or negative value"
      ]
    },
    {
      "cell_type": "markdown",
      "metadata": {
        "id": "0YurI4oTMhXI"
      },
      "source": [
        "2. Get the the volume of a sphere with radius 6."
      ]
    },
    {
      "cell_type": "code",
      "execution_count": 1,
      "metadata": {
        "id": "7RHhukJUMhXJ"
      },
      "outputs": [
        {
          "data": {
            "text/plain": [
              "904.7786842338603"
            ]
          },
          "execution_count": 1,
          "metadata": {},
          "output_type": "execute_result"
        }
      ],
      "source": [
        "import math\n",
        "\n",
        "v = (4/3) * math.pi * 6**3\n",
        "v"
      ]
    },
    {
      "cell_type": "markdown",
      "metadata": {
        "id": "x_si_576MhXO"
      },
      "source": [
        "3. Test whether a number is divisible by 3."
      ]
    },
    {
      "cell_type": "code",
      "execution_count": 5,
      "metadata": {
        "id": "fXLEtaBCMhXQ"
      },
      "outputs": [
        {
          "data": {
            "text/plain": [
              "True"
            ]
          },
          "execution_count": 5,
          "metadata": {},
          "output_type": "execute_result"
        }
      ],
      "source": [
        "user_input = int (input ())\n",
        "user_input%3 == 0"
      ]
    },
    {
      "cell_type": "markdown",
      "metadata": {
        "id": "SHx6EctfMhXT"
      },
      "source": [
        "4. Test whether an input letter is a vowel"
      ]
    },
    {
      "cell_type": "code",
      "execution_count": 11,
      "metadata": {
        "id": "Ei4bhZb7MhXU"
      },
      "outputs": [
        {
          "name": "stdout",
          "output_type": "stream",
          "text": [
            "True\n"
          ]
        }
      ],
      "source": [
        "char = input(\"Please enter a letter: \")\n",
        "all_vowels = 'aeiou'\n",
        "print(char.lower() in all_vowels)"
      ]
    },
    {
      "cell_type": "markdown",
      "metadata": {
        "id": "ontioKdbMhXX"
      },
      "source": [
        "5. Write a program that accepts the base and height of a triangle and compute the area."
      ]
    },
    {
      "cell_type": "code",
      "execution_count": 7,
      "metadata": {
        "id": "fq6o_fAYMhXX"
      },
      "outputs": [
        {
          "data": {
            "text/plain": [
              "6.0"
            ]
          },
          "execution_count": 7,
          "metadata": {},
          "output_type": "execute_result"
        }
      ],
      "source": [
        "b = input()\n",
        "h = input ()\n",
        "int(b) * int (h) / 2"
      ]
    },
    {
      "cell_type": "markdown",
      "metadata": {
        "id": "de-_MQ96MhXZ"
      },
      "source": [
        "6. Write a program to calculate the hypotenuse of a right angled triangle."
      ]
    },
    {
      "cell_type": "code",
      "execution_count": 15,
      "metadata": {
        "id": "4XA-baKJMhXa"
      },
      "outputs": [
        {
          "data": {
            "text/plain": [
              "7.810249675906654"
            ]
          },
          "execution_count": 15,
          "metadata": {},
          "output_type": "execute_result"
        }
      ],
      "source": [
        "a = input ()\n",
        "b = input ()\n",
        "(int (b)**2 + int (a)**2) ** (1/2)"
      ]
    },
    {
      "cell_type": "code",
      "execution_count": null,
      "metadata": {},
      "outputs": [
        {
          "name": "stdout",
          "output_type": "stream",
          "text": [
            "Input lengths of shorter triangle sides:\n",
            "The length of the hypotenuse is 7.810249675906654\n"
          ]
        }
      ],
      "source": [
        "from math import sqrt\n",
        "print(\"Input lengths of shorter triangle sides:\")\n",
        "a = float(input(\"a: \"))\n",
        "b = float(input(\"b: \"))\n",
        "\n",
        "c = sqrt(a**2 + b**2)\n",
        "print(\"The length of the hypotenuse is\", c )"
      ]
    }
  ],
  "metadata": {
    "colab": {
      "provenance": []
    },
    "kernelspec": {
      "display_name": ".venv",
      "language": "python",
      "name": "python3"
    },
    "language_info": {
      "codemirror_mode": {
        "name": "ipython",
        "version": 3
      },
      "file_extension": ".py",
      "mimetype": "text/x-python",
      "name": "python",
      "nbconvert_exporter": "python",
      "pygments_lexer": "ipython3",
      "version": "3.11.9"
    }
  },
  "nbformat": 4,
  "nbformat_minor": 0
}
