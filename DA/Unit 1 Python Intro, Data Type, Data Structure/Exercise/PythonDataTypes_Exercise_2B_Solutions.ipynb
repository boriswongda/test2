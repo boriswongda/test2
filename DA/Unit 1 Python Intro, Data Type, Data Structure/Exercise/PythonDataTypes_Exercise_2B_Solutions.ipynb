{
  "cells": [
    {
      "cell_type": "markdown",
      "metadata": {
        "id": "P9aRb0p9_0RP"
      },
      "source": [
        "# Python Data Types & Containers Exercise 2B"
      ]
    },
    {
      "cell_type": "markdown",
      "metadata": {
        "id": "dPhgZHjB_0RR"
      },
      "source": [
        "1. Extend a list without append."
      ]
    },
    {
      "cell_type": "code",
      "execution_count": 1,
      "metadata": {
        "id": "TBXSYCcAURgw",
        "outputId": "8ec23be8-f673-401e-f93d-06050dc7c5d4"
      },
      "outputs": [
        {
          "name": "stdout",
          "output_type": "stream",
          "text": [
            "[40, 50, 60, 10, 20, 30]\n"
          ]
        }
      ],
      "source": [
        "x = [10, 20, 30]\n",
        "y = [40, 50, 60]\n",
        "x[:0] =y\n",
        "print(x)"
      ]
    },
    {
      "cell_type": "markdown",
      "metadata": {
        "id": "JBgxfDs2_0RV"
      },
      "source": [
        "2. Write a program to clone or copy a list."
      ]
    },
    {
      "cell_type": "code",
      "execution_count": 5,
      "metadata": {
        "id": "Yb6ZnJgUURg7",
        "outputId": "0253a4ac-ec82-49db-92d1-f6aff049c48d"
      },
      "outputs": [
        {
          "name": "stdout",
          "output_type": "stream",
          "text": [
            "[10, 22, 44, 23, 4, 999]\n",
            "[10, 22, 44, 23, 4]\n"
          ]
        }
      ],
      "source": [
        "original_list = [10, 22, 44, 23, 4]\n",
        "new_list = original_list.copy()\n",
        "# original_list = [10, 22, 44, 23, 4, 999]\n",
        "print(original_list)\n",
        "print(new_list)\n"
      ]
    },
    {
      "cell_type": "markdown",
      "metadata": {
        "id": "Qiqv6oXn_0RY"
      },
      "source": [
        "3. Shuffle and print a specified list."
      ]
    },
    {
      "cell_type": "code",
      "execution_count": null,
      "metadata": {
        "id": "rW8QJ3TDURhB",
        "outputId": "86ffdbad-9686-4102-93a3-29686d99de41"
      },
      "outputs": [
        {
          "name": "stdout",
          "output_type": "stream",
          "text": [
            "['Black', 'White', 'Green', 'Red', 'Pink', 'Yellow']\n"
          ]
        }
      ],
      "source": [
        "from random import shuffle\n",
        "color = ['Red', 'Green', 'White', 'Black', 'Pink', 'Yellow']\n",
        "shuffle(color)\n",
        "print(color)"
      ]
    },
    {
      "cell_type": "markdown",
      "metadata": {
        "id": "ujc4S5jl_0Rb"
      },
      "source": [
        "4. Get the difference between the two lists.\n",
        "\n",
        "```\n",
        "eg.\n",
        "list1 = [1, 2, 3, 4]\n",
        "list2 = [1, 2]\n",
        "difference = [3, 4]\n",
        "```"
      ]
    },
    {
      "cell_type": "code",
      "execution_count": 7,
      "metadata": {
        "id": "eaIKglv1URhG",
        "outputId": "7629f406-186c-420b-8027-13805850b193"
      },
      "outputs": [
        {
          "name": "stdout",
          "output_type": "stream",
          "text": [
            "[3, 4]\n"
          ]
        }
      ],
      "source": [
        "list1 = [1, 2, 3, 4]\n",
        "list2 = [1, 2]\n",
        "print(list(set(list1) - set(list2)))"
      ]
    },
    {
      "cell_type": "markdown",
      "metadata": {
        "id": "RC9LkzNb_0Rf"
      },
      "source": [
        "5. Append a list to the second list."
      ]
    },
    {
      "cell_type": "code",
      "execution_count": 8,
      "metadata": {
        "id": "Y06gy7zfURhK",
        "outputId": "64227b89-ed65-4942-a902-47897950eeb4"
      },
      "outputs": [
        {
          "name": "stdout",
          "output_type": "stream",
          "text": [
            "[1, 2, 3, 0, 'Red', 'Green', 'Black']\n"
          ]
        }
      ],
      "source": [
        "list1 = [1, 2, 3, 0]\n",
        "list2 = ['Red', 'Green', 'Black']\n",
        "final_list = list1 + list2\n",
        "print(final_list)"
      ]
    },
    {
      "cell_type": "code",
      "execution_count": 9,
      "metadata": {},
      "outputs": [],
      "source": [
        "list1.append(list2)"
      ]
    },
    {
      "cell_type": "code",
      "execution_count": 10,
      "metadata": {},
      "outputs": [
        {
          "data": {
            "text/plain": [
              "[1, 2, 3, 0, ['Red', 'Green', 'Black']]"
            ]
          },
          "execution_count": 10,
          "metadata": {},
          "output_type": "execute_result"
        }
      ],
      "source": [
        "list1"
      ]
    },
    {
      "cell_type": "markdown",
      "metadata": {
        "id": "8td4XajLURhO"
      },
      "source": [
        "6. Write a program to store student information in a dictionary. User inputs include the student’s name, age, and university."
      ]
    },
    {
      "cell_type": "code",
      "execution_count": 11,
      "metadata": {
        "id": "zUGOAG2iURhP",
        "outputId": "727968ad-6472-4a74-b19e-f98b5d1f9481"
      },
      "outputs": [
        {
          "data": {
            "text/plain": [
              "{'Name': 'Frankie', 'Age': 20, 'University': 'hku'}"
            ]
          },
          "execution_count": 11,
          "metadata": {},
          "output_type": "execute_result"
        }
      ],
      "source": [
        "student_name = input(\"Please enter your name: \")\n",
        "student_age = int(input(\"Please enter your age: \"))\n",
        "student_uni = input(\"Please enter your university: \")\n",
        "\n",
        "student_records = {'Name':student_name , 'Age':student_age , 'University':student_uni}\n",
        "student_records"
      ]
    },
    {
      "cell_type": "markdown",
      "metadata": {
        "id": "uefBelVTURhS"
      },
      "source": [
        "7. Find common items from two lists."
      ]
    },
    {
      "cell_type": "code",
      "execution_count": 12,
      "metadata": {
        "id": "bRme0QA7URhS",
        "outputId": "de0873ca-e675-46e6-9837-fc719165d5ce"
      },
      "outputs": [
        {
          "name": "stdout",
          "output_type": "stream",
          "text": [
            "{'Green', 'White'}\n"
          ]
        }
      ],
      "source": [
        "color1 = \"Red\", \"Green\", \"Orange\", \"White\"\n",
        "color2 = \"Black\", \"Green\", \"White\", \"Pink\"\n",
        "print(set(color1) & set(color2))"
      ]
    },
    {
      "cell_type": "markdown",
      "metadata": {
        "id": "DpM2nWrzURhV"
      },
      "source": [
        "8. Select the odd items of a list."
      ]
    },
    {
      "cell_type": "code",
      "execution_count": null,
      "metadata": {
        "id": "NbXGlQbwURhV",
        "outputId": "0e774d84-f8eb-4229-891c-eaf6eb4f5295"
      },
      "outputs": [
        {
          "name": "stdout",
          "output_type": "stream",
          "text": [
            "[1, 3, 5, 7, 9]\n"
          ]
        }
      ],
      "source": [
        "x = [1, 2, 3, 4, 5, 6, 7, 8, 9]\n",
        "odd=[]\n",
        "for i in x:\n",
        "    if i%2==1:\n",
        "        odd.append(i)\n",
        "\n",
        "print(odd)"
      ]
    },
    {
      "cell_type": "markdown",
      "metadata": {
        "id": "bDkr_NL7URhY"
      },
      "source": [
        "9. Given the string \"It is a far, far better thing that I do, than I have ever done; it is a far, far better rest that I go to than I have ever known.\", create a new string \"thing rest\" from it."
      ]
    },
    {
      "cell_type": "code",
      "execution_count": null,
      "metadata": {
        "id": "4tQ21PCGURhZ",
        "outputId": "b784fb22-192c-43a9-8d22-31e9f93a02fa"
      },
      "outputs": [
        {
          "data": {
            "text/plain": [
              "'thing rest'"
            ]
          },
          "execution_count": 10,
          "metadata": {
            "tags": []
          },
          "output_type": "execute_result"
        }
      ],
      "source": [
        "s = \"It is a far, far better thing that I do, than I have ever done; it is a far, far better rest that I go to than I have ever known.\"\n",
        "s1 = s[24:29]\n",
        "s2 = s[88:92]\n",
        "s3 = s1 + \" \" + s2\n",
        "s3"
      ]
    },
    {
      "cell_type": "markdown",
      "metadata": {
        "id": "tdnF0aCZURhb"
      },
      "source": [
        "10. Find the list in a list of lists whose sum of elements is the highest.\n",
        "\n",
        "```\n",
        "eg.\n",
        "for the list [[2,3,4], [4,5,6], [10,11,12], [7,8,9]]\n",
        "the sublist [10,11,12] has the greatest sum of elements\n",
        "```"
      ]
    },
    {
      "cell_type": "code",
      "execution_count": null,
      "metadata": {
        "id": "s815u1xMURhb",
        "outputId": "ce2f5624-7d93-4a4a-a5cc-d30d7e6a5079"
      },
      "outputs": [
        {
          "name": "stdout",
          "output_type": "stream",
          "text": [
            "[10, 11, 12]\n"
          ]
        }
      ],
      "source": [
        "num = [[1,2,3], [4,5,6], [10,11,12], [7,8,9]]\n",
        "print(max(num, key=sum))"
      ]
    }
  ],
  "metadata": {
    "colab": {
      "provenance": []
    },
    "kernelspec": {
      "display_name": "Python 3",
      "language": "python",
      "name": "python3"
    },
    "language_info": {
      "codemirror_mode": {
        "name": "ipython",
        "version": 3
      },
      "file_extension": ".py",
      "mimetype": "text/x-python",
      "name": "python",
      "nbconvert_exporter": "python",
      "pygments_lexer": "ipython3",
      "version": "3.9.12"
    }
  },
  "nbformat": 4,
  "nbformat_minor": 0
}
