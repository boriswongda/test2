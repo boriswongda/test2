{
  "cells": [
    {
      "cell_type": "markdown",
      "metadata": {
        "id": "QGM043ljMeYk"
      },
      "source": [
        "# Python Data Types & Containers Exercise 1B"
      ]
    },
    {
      "cell_type": "markdown",
      "metadata": {
        "id": "xDYyCIYCMeYp"
      },
      "source": [
        "1. Write a program to test whether a number is within 1000 of 10000 or 30000\n",
        "\n",
        "```\n",
        "eg.\n",
        "9500 is within 1000 of 10000, as the difference of 9500 and 10000 is less than 1000\n",
        "likewise 30600 is within 1000 of 30000, as the difference of 30600 and 30000 is less than 1000\n",
        "```"
      ]
    },
    {
      "cell_type": "code",
      "execution_count": 8,
      "metadata": {
        "id": "dHjT9JaiMeYr",
        "outputId": "0a006582-daa8-4550-ee8b-06795a41b07d"
      },
      "outputs": [
        {
          "name": "stdout",
          "output_type": "stream",
          "text": [
            "True\n"
          ]
        }
      ],
      "source": [
        "n = 30500\n",
        "print(((abs(10000 - n) <= 1000) or (abs(30000 - n) <= 1000)))"
      ]
    },
    {
      "cell_type": "markdown",
      "metadata": {
        "id": "-O3fETeKMeY1"
      },
      "source": [
        "2. Get the the volume of a sphere with radius 6."
      ]
    },
    {
      "cell_type": "code",
      "execution_count": 2,
      "metadata": {
        "id": "FS0Vcf2tMeY3",
        "outputId": "38fb9785-e902-4b65-ae21-87aee905d2d6"
      },
      "outputs": [
        {
          "name": "stdout",
          "output_type": "stream",
          "text": [
            "904.7786842338603\n"
          ]
        }
      ],
      "source": [
        "import math\n",
        "r= 6.0\n",
        "V= 4.0/3.0 * math.pi * r**3\n",
        "print(V)"
      ]
    },
    {
      "cell_type": "markdown",
      "metadata": {
        "id": "zTnDELNDMeY9"
      },
      "source": [
        "3. Test whether a number is divisible by 3."
      ]
    },
    {
      "cell_type": "code",
      "execution_count": 3,
      "metadata": {
        "id": "GiujAF1KMeY_",
        "outputId": "8ed6a612-8e5c-4042-c114-bcbac762c88a"
      },
      "outputs": [
        {
          "name": "stdout",
          "output_type": "stream",
          "text": [
            "False\n"
          ]
        }
      ],
      "source": [
        "n = 301\n",
        "print(n%3 == 0)"
      ]
    },
    {
      "cell_type": "markdown",
      "metadata": {
        "id": "KOVUcoEuMeZE"
      },
      "source": [
        "4. Test whether an input letter is a vowel"
      ]
    },
    {
      "cell_type": "code",
      "execution_count": 2,
      "metadata": {
        "id": "Wi6y9p_yMeZF"
      },
      "outputs": [
        {
          "name": "stdout",
          "output_type": "stream",
          "text": [
            "False\n"
          ]
        }
      ],
      "source": [
        "char = input(\"Please enter a letter: \")\n",
        "all_vowels = 'aeiou'\n",
        "print(char in all_vowels)"
      ]
    },
    {
      "cell_type": "markdown",
      "metadata": {
        "id": "BiauFCv-MeZI"
      },
      "source": [
        "5. Write a program that accepts the base and height of a triangle and compute the area."
      ]
    },
    {
      "cell_type": "code",
      "execution_count": 3,
      "metadata": {
        "id": "gfj7nokYMeZJ",
        "outputId": "16ce3049-b836-4e92-830e-dd52eed25a83"
      },
      "outputs": [
        {
          "name": "stdout",
          "output_type": "stream",
          "text": [
            "18.0\n"
          ]
        }
      ],
      "source": [
        "b = int(input(\"Input the base : \"))\n",
        "h = int(input(\"Input the height : \"))\n",
        "\n",
        "area = b*h/2\n",
        "print(area)"
      ]
    },
    {
      "cell_type": "markdown",
      "metadata": {
        "id": "O6RnokpDMeZM"
      },
      "source": [
        "6. Write a program to calculate the hypotenuse of a right angled triangle."
      ]
    },
    {
      "cell_type": "code",
      "execution_count": 4,
      "metadata": {
        "id": "4caV7oOtMeZN",
        "outputId": "235755d3-088f-4de2-901c-20d79ea7705b"
      },
      "outputs": [
        {
          "name": "stdout",
          "output_type": "stream",
          "text": [
            "Input lengths of shorter triangle sides:\n",
            "The length of the hypotenuse is 5.0\n"
          ]
        }
      ],
      "source": [
        "from math import sqrt\n",
        "print(\"Input lengths of shorter triangle sides:\")\n",
        "a = float(input(\"a: \"))\n",
        "b = float(input(\"b: \"))\n",
        "\n",
        "c = sqrt(a**2 + b**2)\n",
        "print(\"The length of the hypotenuse is\", c )"
      ]
    },
    {
      "cell_type": "code",
      "execution_count": null,
      "metadata": {},
      "outputs": [],
      "source": []
    }
  ],
  "metadata": {
    "colab": {
      "provenance": []
    },
    "kernelspec": {
      "display_name": "Python 3",
      "language": "python",
      "name": "python3"
    },
    "language_info": {
      "codemirror_mode": {
        "name": "ipython",
        "version": 3
      },
      "file_extension": ".py",
      "mimetype": "text/x-python",
      "name": "python",
      "nbconvert_exporter": "python",
      "pygments_lexer": "ipython3",
      "version": "3.9.12"
    }
  },
  "nbformat": 4,
  "nbformat_minor": 0
}
