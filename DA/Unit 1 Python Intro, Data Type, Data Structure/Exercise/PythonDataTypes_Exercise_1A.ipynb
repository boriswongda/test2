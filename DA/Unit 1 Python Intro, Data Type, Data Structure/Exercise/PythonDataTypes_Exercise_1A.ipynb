{
  "cells": [
    {
      "cell_type": "markdown",
      "metadata": {
        "id": "cj_fisyTOD4P"
      },
      "source": [
        "# Python Data Types & Containers Exercise 1A (Compulsory)"
      ]
    },
    {
      "cell_type": "markdown",
      "metadata": {
        "id": "5MRjRMEPOD4Y"
      },
      "source": [
        "1. Assign _True_ values to variables a and b. What is the result of $a+b$?"
      ]
    },
    {
      "cell_type": "code",
      "execution_count": 1,
      "metadata": {
        "id": "6RUFfdxdOD4d"
      },
      "outputs": [
        {
          "name": "stdout",
          "output_type": "stream",
          "text": [
            "2\n"
          ]
        }
      ],
      "source": [
        "a = True\n",
        "b = True\n",
        "print (a+b)"
      ]
    },
    {
      "cell_type": "markdown",
      "metadata": {
        "id": "YC-KzlllOD5K"
      },
      "source": [
        "2. Type a string that has this as its result after printing:\n",
        "\n",
        "```\n",
        "*\n",
        "* *\n",
        "* * *\n",
        "* * * *\n",
        "```"
      ]
    },
    {
      "cell_type": "code",
      "execution_count": 4,
      "metadata": {
        "id": "AcKqz2INOD5Q"
      },
      "outputs": [
        {
          "name": "stdout",
          "output_type": "stream",
          "text": [
            "*\n",
            "* *\n",
            "* * *\n",
            "* * * *\n"
          ]
        }
      ],
      "source": [
        "s = \"*\\n* *\\n* * *\\n* * * *\"\n",
        "print (s)"
      ]
    },
    {
      "cell_type": "markdown",
      "metadata": {
        "id": "UKAPxfdGOD5W"
      },
      "source": [
        "3. Given:\n",
        "```\n",
        "a = 10\n",
        "b = 15.0\n",
        "```\n",
        "What is the data type of $a+b$?"
      ]
    },
    {
      "cell_type": "code",
      "execution_count": 5,
      "metadata": {
        "id": "2rKb3rCaOD5t"
      },
      "outputs": [
        {
          "data": {
            "text/plain": [
              "25.0"
            ]
          },
          "execution_count": 5,
          "metadata": {},
          "output_type": "execute_result"
        }
      ],
      "source": [
        "a = 10\n",
        "b = 15.0\n",
        "a+b"
      ]
    },
    {
      "cell_type": "markdown",
      "metadata": {
        "id": "jfKorAZkOD52"
      },
      "source": [
        "4. Is ```this-variable = 0``` a correct variable assignment? If not, explain why it isn't. If it is, print out _this-variable_."
      ]
    },
    {
      "cell_type": "code",
      "execution_count": 6,
      "metadata": {
        "id": "V_Wne9qKOD54"
      },
      "outputs": [
        {
          "name": "stdout",
          "output_type": "stream",
          "text": [
            "0\n"
          ]
        }
      ],
      "source": [
        "this_varaible = 0\n",
        "print (this_varaible)"
      ]
    },
    {
      "cell_type": "markdown",
      "metadata": {
        "id": "uO_UtGyPOD6o"
      },
      "source": [
        "5. Create a user input of an integer and change the data type to float."
      ]
    },
    {
      "cell_type": "code",
      "execution_count": 9,
      "metadata": {
        "id": "8ShdjvumOD6r"
      },
      "outputs": [
        {
          "data": {
            "text/plain": [
              "123.0"
            ]
          },
          "execution_count": 9,
          "metadata": {},
          "output_type": "execute_result"
        }
      ],
      "source": [
        "user_input = int (input ())\n",
        "user_input = float (user_input)\n",
        "user_input"
      ]
    },
    {
      "cell_type": "markdown",
      "metadata": {
        "id": "JYsd02aaOD65"
      },
      "source": [
        "6. Convert a user input of hours into seconds."
      ]
    },
    {
      "cell_type": "code",
      "execution_count": 13,
      "metadata": {
        "id": "p7k1bT7YOD66"
      },
      "outputs": [
        {
          "name": "stdout",
          "output_type": "stream",
          "text": [
            "777777777777777777777777777777777777777777777777777777777777\n",
            "420\n"
          ]
        }
      ],
      "source": [
        "user_input_hr = input ()\n",
        "print (user_input_hr*60)\n",
        "print (int(user_input_hr)*60)"
      ]
    },
    {
      "cell_type": "markdown",
      "metadata": {
        "id": "aSYPIe3qOD7F"
      },
      "source": [
        "7. Given two numbers, return True if the sum of both numbers is less than 100. Otherwise return False."
      ]
    },
    {
      "cell_type": "code",
      "execution_count": 20,
      "metadata": {
        "id": "ifPL7JcpOD7I"
      },
      "outputs": [
        {
          "data": {
            "text/plain": [
              "False"
            ]
          },
          "execution_count": 20,
          "metadata": {},
          "output_type": "execute_result"
        }
      ],
      "source": [
        "a = 51\n",
        "b = 49\n",
        "a + b < 100"
      ]
    },
    {
      "cell_type": "markdown",
      "metadata": {
        "id": "q7L5Vf4NOD7T"
      },
      "source": [
        "8. Given that a pizza has dimensions 15cm in radius and a height of 2cm, what is its total volume?"
      ]
    },
    {
      "cell_type": "code",
      "execution_count": 17,
      "metadata": {
        "id": "7e7pxEi_OD7V"
      },
      "outputs": [
        {
          "data": {
            "text/plain": [
              "1413.7166941154069"
            ]
          },
          "execution_count": 17,
          "metadata": {},
          "output_type": "execute_result"
        }
      ],
      "source": [
        "import math\n",
        "\n",
        "r=15\n",
        "h=2\n",
        "v=r**2*2*math.pi\n",
        "v"
      ]
    }
  ],
  "metadata": {
    "colab": {
      "provenance": []
    },
    "kernelspec": {
      "display_name": ".venv",
      "language": "python",
      "name": "python3"
    },
    "language_info": {
      "codemirror_mode": {
        "name": "ipython",
        "version": 3
      },
      "file_extension": ".py",
      "mimetype": "text/x-python",
      "name": "python",
      "nbconvert_exporter": "python",
      "pygments_lexer": "ipython3",
      "version": "3.11.9"
    }
  },
  "nbformat": 4,
  "nbformat_minor": 0
}
