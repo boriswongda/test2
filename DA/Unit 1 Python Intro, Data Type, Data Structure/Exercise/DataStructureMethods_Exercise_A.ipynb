{
 "cells": [
  {
   "cell_type": "markdown",
   "metadata": {
    "id": "dMt7KfB9mA6l"
   },
   "source": [
    "# Data Structure Methods & Comprehensions Exercise 3A (Compulsory)"
   ]
  },
  {
   "cell_type": "markdown",
   "metadata": {
    "id": "71wIS-JRmA6o"
   },
   "source": [
    "1. Create a list with only odd numbers from 1 to 23."
   ]
  },
  {
   "cell_type": "code",
   "execution_count": 2,
   "metadata": {},
   "outputs": [
    {
     "data": {
      "text/plain": [
       "[1, 3, 5, 7, 9, 11, 13, 15, 17, 19, 21, 23]"
      ]
     },
     "execution_count": 2,
     "metadata": {},
     "output_type": "execute_result"
    }
   ],
   "source": [
    "odd_list = []\n",
    "for i in range (24):\n",
    "    if i%2==1:\n",
    "        odd_list.append(i)\n",
    "        \n",
    "\n",
    "odd_list\n",
    "\n",
    "\n",
    "\n"
   ]
  },
  {
   "cell_type": "markdown",
   "metadata": {
    "id": "Ooco7HWymA6q"
   },
   "source": [
    "2. Calculate the sum of the digits from the string:\n",
    "```'2347805673456'```"
   ]
  },
  {
   "cell_type": "code",
   "execution_count": 5,
   "metadata": {
    "id": "K0UCHn0jmA6q"
   },
   "outputs": [
    {
     "data": {
      "text/plain": [
       "60"
      ]
     },
     "execution_count": 5,
     "metadata": {},
     "output_type": "execute_result"
    }
   ],
   "source": [
    "s='2347805673456'\n",
    "sum = 0\n",
    "for i in range (len(s)):\n",
    "    sum+= int(s[i])\n",
    "sum"
   ]
  },
  {
   "cell_type": "markdown",
   "metadata": {
    "id": "fQQv8GtfmA6r"
   },
   "source": [
    "3. Convert the string to a list and uppercase each word.\n",
    "```\n",
    "s = \"hello world and practice makes permanent and hello world again\"\n",
    "```"
   ]
  },
  {
   "cell_type": "code",
   "execution_count": 6,
   "metadata": {
    "id": "dPjj1uiPmA6s"
   },
   "outputs": [
    {
     "data": {
      "text/plain": [
       "['HELLO WORLD AND PRACTICE MAKES PERMANENT AND HELLO WORLD AGAIN']"
      ]
     },
     "execution_count": 6,
     "metadata": {},
     "output_type": "execute_result"
    }
   ],
   "source": [
    "s = \"hello world and practice makes permanent and hello world again\"\n",
    "sUp = s.upper()\n",
    "s_to_list = [sUp]\n",
    "s_to_list"
   ]
  },
  {
   "cell_type": "markdown",
   "metadata": {
    "id": "0rxHT53CmA6s"
   },
   "source": [
    "4. Get all the keys from the dictionary:\n",
    "```\n",
    "cars = {'cars':['bmw, tesla'], 'food':['mexican', 'sushi'], 'location': 'hong kong'}\n",
    "```"
   ]
  },
  {
   "cell_type": "code",
   "execution_count": 7,
   "metadata": {
    "id": "HueSwecWmA6s"
   },
   "outputs": [
    {
     "data": {
      "text/plain": [
       "dict_keys(['cars', 'food', 'location'])"
      ]
     },
     "execution_count": 7,
     "metadata": {},
     "output_type": "execute_result"
    }
   ],
   "source": [
    "cars = {'cars':['bmw, tesla'], 'food':['mexican', 'sushi'], 'location': 'hong kong'}\n",
    "cars.keys()"
   ]
  },
  {
   "cell_type": "markdown",
   "metadata": {
    "id": "zESjx7temA6s"
   },
   "source": [
    "5. Combine the two lists together in the same sequence.\n",
    "\n",
    "```\n",
    "l1 = ['basketball', 'gym', 'football', 'cycling']\n",
    "l2 = ['apples', 'bread', 'oats', 'salmon']\n",
    "```"
   ]
  },
  {
   "cell_type": "code",
   "execution_count": 18,
   "metadata": {
    "id": "GB078DKdmA6t"
   },
   "outputs": [
    {
     "name": "stdout",
     "output_type": "stream",
     "text": [
      "['basketball', 'gym', 'football', 'cycling', 'apples', 'bread', 'oats', 'salmon']\n"
     ]
    }
   ],
   "source": [
    "l1 = ['basketball', 'gym', 'football', 'cycling']\n",
    "l2 = ['apples', 'bread', 'oats', 'salmon']\n",
    "\n",
    "for i in range (len(l2)):\n",
    "    l1.append(l2[i])\n",
    "l1\n",
    "print (l1)"
   ]
  },
  {
   "cell_type": "markdown",
   "metadata": {
    "id": "cHBYuO2XmA6t"
   },
   "source": [
    "6. Take a string and calculate the number of letters and digits within it. Return the result in a dictionary."
   ]
  },
  {
   "cell_type": "code",
   "execution_count": 24,
   "metadata": {
    "id": "m54ODj0amA6t"
   },
   "outputs": [
    {
     "name": "stdout",
     "output_type": "stream",
     "text": [
      "he110 w0r1d and pract1ce makes permanent and he110 w0r1d aga1n\n",
      "Length of whole string: 62\n",
      "No. of Letter:  41\n",
      "No. of Digit:  12\n"
     ]
    }
   ],
   "source": [
    "s = \"he110 w0r1d and pract1ce makes permanent and he110 w0r1d aga1n\"\n",
    "print (s)\n",
    "letter_count = 0\n",
    "digit_count = 0\n",
    "\n",
    "for i in range (len(s)):\n",
    "    if s[i].isalpha() == True:\n",
    "        letter_count+=1\n",
    "    if s[i].isdigit() == True:\n",
    "        digit_count+=1\n",
    "\n",
    "print (\"Length of whole string:\", len(s))\n",
    "print (\"No. of Letter: \" , letter_count)\n",
    "print (\"No. of Digit: \" , digit_count)"
   ]
  },
  {
   "cell_type": "markdown",
   "metadata": {
    "id": "wqNd8EafmA6t"
   },
   "source": [
    "7. Given a dictionary containing the names and ages of a group of people, return the name of the oldest person."
   ]
  },
  {
   "cell_type": "code",
   "execution_count": null,
   "metadata": {
    "id": "EaCir0d1mA6t"
   },
   "outputs": [],
   "source": [
    "people = {\"Anson\": 19, \"Bella\": 32, \"Charlie\": 27}\n"
   ]
  },
  {
   "cell_type": "markdown",
   "metadata": {
    "id": "FOTM7_EHmA6t"
   },
   "source": [
    "8. Given two strings, return the total number of unique characters from the combined string."
   ]
  },
  {
   "cell_type": "code",
   "execution_count": 35,
   "metadata": {
    "id": "jhyIrt9FmA6t"
   },
   "outputs": [
    {
     "name": "stdout",
     "output_type": "stream",
     "text": [
      "['t', 'h', 'i', 's', ' ', 'i', 's', ' ', 'a', ' ', 'p', 'e', 'n']\n",
      "['h', 'e', ' ', 'i', 's', ' ', 'a', ' ', 'm', 'a', 'n']\n",
      "['t', 'h', 'i', 's', ' ', 'i', 's', ' ', 'a', ' ', 'p', 'e', 'n', 'h', 'e', ' ', 'i', 's', ' ', 'a', ' ', 'm', 'a', 'n']\n",
      "{'n', 'p', 'm', 'h', 'e', 't', 'i', 's', ' ', 'a'}\n",
      "No. of unique characters:  10\n"
     ]
    }
   ],
   "source": [
    "s1=\"this is a pen\"\n",
    "s2=\"he is a man\"\n",
    "s1_list = list (s1)\n",
    "print (s1_list)\n",
    "s2_list = list(s2)\n",
    "print (s2_list)\n",
    "\n",
    "s1_list.extend(s2_list)\n",
    "print (s1_list)\n",
    "\n",
    "print (set(s1_list))\n",
    "print (\"No. of unique characters: \", len(set(s1_list)))"
   ]
  },
  {
   "cell_type": "markdown",
   "metadata": {
    "id": "sf4A7fnqmA6u"
   },
   "source": [
    "9. You work for a manufacturer, and have been asked to calculate the total profit made on the sales of a product. You are given a dictionary containing the cost price per unit (in dollars), sell price per unit (in dollars), and the starting inventory. Return the total profit made, rounded to the nearest dollar. Assume all of the inventory has been sold.\n",
    "\n",
    "{\n",
    "  \"cost_price\": 32.67,\n",
    "  \"sell_price\": 45.00,\n",
    "  \"inventory\": 1200\n",
    "}"
   ]
  },
  {
   "cell_type": "code",
   "execution_count": 29,
   "metadata": {
    "id": "M410LHcomA6u"
   },
   "outputs": [
    {
     "name": "stdout",
     "output_type": "stream",
     "text": [
      "Profit:  14795.999999999998\n",
      "Profit (rounded to nearest dollar):  14796\n"
     ]
    }
   ],
   "source": [
    "product = {\n",
    "  \"cost_price\": 32.67,\n",
    "  \"sell_price\": 45.00,\n",
    "  \"inventory\": 1200\n",
    "}\n",
    "\n",
    "profit = ((product[\"sell_price\"]) - (product[\"cost_price\"])) * (product[\"inventory\"])\n",
    "profit_round = round (profit)\n",
    "print (\"Profit: \", profit)\n",
    "print (\"Profit (rounded to nearest dollar): \", profit_round)"
   ]
  },
  {
   "cell_type": "markdown",
   "metadata": {
    "id": "XP4inPjwmA6u"
   },
   "source": [
    "10. Find the smallest number of letter removals so that two strings are anagrams of each other."
   ]
  },
  {
   "cell_type": "code",
   "execution_count": null,
   "metadata": {
    "id": "dSBC3UQlmA6u"
   },
   "outputs": [],
   "source": []
  }
 ],
 "metadata": {
  "colab": {
   "provenance": []
  },
  "kernelspec": {
   "display_name": "Python 3",
   "language": "python",
   "name": "python3"
  },
  "language_info": {
   "codemirror_mode": {
    "name": "ipython",
    "version": 3
   },
   "file_extension": ".py",
   "mimetype": "text/x-python",
   "name": "python",
   "nbconvert_exporter": "python",
   "pygments_lexer": "ipython3",
   "version": "3.11.9"
  },
  "toc": {
   "base_numbering": 1,
   "nav_menu": {},
   "number_sections": true,
   "sideBar": true,
   "skip_h1_title": false,
   "title_cell": "Table of Contents",
   "title_sidebar": "Contents",
   "toc_cell": false,
   "toc_position": {},
   "toc_section_display": true,
   "toc_window_display": false
  },
  "varInspector": {
   "cols": {
    "lenName": 16,
    "lenType": 16,
    "lenVar": 40
   },
   "kernels_config": {
    "python": {
     "delete_cmd_postfix": "",
     "delete_cmd_prefix": "del ",
     "library": "var_list.py",
     "varRefreshCmd": "print(var_dic_list())"
    },
    "r": {
     "delete_cmd_postfix": ") ",
     "delete_cmd_prefix": "rm(",
     "library": "var_list.r",
     "varRefreshCmd": "cat(var_dic_list()) "
    }
   },
   "types_to_exclude": [
    "module",
    "function",
    "builtin_function_or_method",
    "instance",
    "_Feature"
   ],
   "window_display": false
  }
 },
 "nbformat": 4,
 "nbformat_minor": 0
}
